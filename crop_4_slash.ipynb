{
 "cells": [
  {
   "cell_type": "code",
   "execution_count": 1,
   "id": "58f33f9e",
   "metadata": {},
   "outputs": [],
   "source": [
    "import os,glob\n",
    "from PIL import Image\n",
    "sizes=[(-1,925,1907,1041)]# for image crop to differet portions\n",
    "a=1\n",
    "\n",
    "for filename in glob.glob(\"/home/link-lap-24/Downloads/new mix 07.10.22/*jpg\"):\n",
    "#     print(filename)\n",
    "    for i in sizes:\n",
    "        img=Image.open(filename)\n",
    "        img =img.convert('RGB')\n",
    "\n",
    "        imm=img.crop(box=(i))\n",
    "        imm.save(\"104\"+\"_\"+str(a)+\".jpg\")\n",
    "        a+=1"
   ]
  },
  {
   "cell_type": "code",
   "execution_count": null,
   "id": "d7d10935",
   "metadata": {},
   "outputs": [],
   "source": []
  }
 ],
 "metadata": {
  "kernelspec": {
   "display_name": "Python 3 (ipykernel)",
   "language": "python",
   "name": "python3"
  },
  "language_info": {
   "codemirror_mode": {
    "name": "ipython",
    "version": 3
   },
   "file_extension": ".py",
   "mimetype": "text/x-python",
   "name": "python",
   "nbconvert_exporter": "python",
   "pygments_lexer": "ipython3",
   "version": "3.8.10"
  }
 },
 "nbformat": 4,
 "nbformat_minor": 5
}
