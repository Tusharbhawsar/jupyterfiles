{
 "cells": [
  {
   "cell_type": "code",
   "execution_count": 2,
   "id": "5874b03a",
   "metadata": {},
   "outputs": [],
   "source": [
    "# importing libraries \n",
    "import pandas as pd \n",
    "import glob \n",
    "import os \n",
    "\n",
    "# # merging the files \n",
    "# joined_files = os.path.join(\"/home\", \"mydata*.csv\") \n",
    "\n",
    "# # A list of all joined files is returned \n",
    "# joined_list = glob.glob(joined_files) \n",
    "\n",
    "# # Finally, the files are joined \n",
    "# df = pd.concat(map(pd.read_csv, joined_list), ignore_index=True) \n",
    "# print(df) \n"
   ]
  },
  {
   "cell_type": "code",
   "execution_count": null,
   "id": "317b766f",
   "metadata": {},
   "outputs": [],
   "source": [
    "csv_path=\"/home/link-lap-24/trim_data_for_tennis_ajeet/\"\n",
    "\n",
    "com_path=glob.glob(csv_path + \"*.csv\")\n",
    "\n",
    "# com_path\n",
    "\n",
    "df = pd.concat(map(pd.read_csv, com_path), ignore_index=True) \n",
    "print(df)\n",
    "\n",
    "df.to_csv(\"files.csv\",index=False,columns=False)"
   ]
  },
  {
   "cell_type": "code",
   "execution_count": 18,
   "id": "d55b3abc",
   "metadata": {},
   "outputs": [
    {
     "data": {
      "text/html": [
       "<div>\n",
       "<style scoped>\n",
       "    .dataframe tbody tr th:only-of-type {\n",
       "        vertical-align: middle;\n",
       "    }\n",
       "\n",
       "    .dataframe tbody tr th {\n",
       "        vertical-align: top;\n",
       "    }\n",
       "\n",
       "    .dataframe thead th {\n",
       "        text-align: right;\n",
       "    }\n",
       "</style>\n",
       "<table border=\"1\" class=\"dataframe\">\n",
       "  <thead>\n",
       "    <tr style=\"text-align: right;\">\n",
       "      <th></th>\n",
       "      <th>https://d1zxk9teuo4ijt.cloudfront.net/shubham/test/poc/.hzuy3dmv/1704697880.mp4</th>\n",
       "    </tr>\n",
       "  </thead>\n",
       "  <tbody>\n",
       "    <tr>\n",
       "      <th>0</th>\n",
       "      <td>https://d1zxk9teuo4ijt.cloudfront.net/shubham/...</td>\n",
       "    </tr>\n",
       "    <tr>\n",
       "      <th>1</th>\n",
       "      <td>https://d1zxk9teuo4ijt.cloudfront.net/shubham/...</td>\n",
       "    </tr>\n",
       "    <tr>\n",
       "      <th>2</th>\n",
       "      <td>https://d1zxk9teuo4ijt.cloudfront.net/shubham/...</td>\n",
       "    </tr>\n",
       "    <tr>\n",
       "      <th>3</th>\n",
       "      <td>https://d1zxk9teuo4ijt.cloudfront.net/shubham/...</td>\n",
       "    </tr>\n",
       "    <tr>\n",
       "      <th>4</th>\n",
       "      <td>https://d1zxk9teuo4ijt.cloudfront.net/shubham/...</td>\n",
       "    </tr>\n",
       "    <tr>\n",
       "      <th>...</th>\n",
       "      <td>...</td>\n",
       "    </tr>\n",
       "    <tr>\n",
       "      <th>3415</th>\n",
       "      <td>https://d1zxk9teuo4ijt.cloudfront.net/shubham/...</td>\n",
       "    </tr>\n",
       "    <tr>\n",
       "      <th>3416</th>\n",
       "      <td>https://d1zxk9teuo4ijt.cloudfront.net/shubham/...</td>\n",
       "    </tr>\n",
       "    <tr>\n",
       "      <th>3417</th>\n",
       "      <td>https://d1zxk9teuo4ijt.cloudfront.net/shubham/...</td>\n",
       "    </tr>\n",
       "    <tr>\n",
       "      <th>3418</th>\n",
       "      <td>https://d1zxk9teuo4ijt.cloudfront.net/shubham/...</td>\n",
       "    </tr>\n",
       "    <tr>\n",
       "      <th>3419</th>\n",
       "      <td>https://d1zxk9teuo4ijt.cloudfront.net/shubham/...</td>\n",
       "    </tr>\n",
       "  </tbody>\n",
       "</table>\n",
       "<p>3420 rows × 1 columns</p>\n",
       "</div>"
      ],
      "text/plain": [
       "     https://d1zxk9teuo4ijt.cloudfront.net/shubham/test/poc/.hzuy3dmv/1704697880.mp4\n",
       "0     https://d1zxk9teuo4ijt.cloudfront.net/shubham/...                             \n",
       "1     https://d1zxk9teuo4ijt.cloudfront.net/shubham/...                             \n",
       "2     https://d1zxk9teuo4ijt.cloudfront.net/shubham/...                             \n",
       "3     https://d1zxk9teuo4ijt.cloudfront.net/shubham/...                             \n",
       "4     https://d1zxk9teuo4ijt.cloudfront.net/shubham/...                             \n",
       "...                                                 ...                             \n",
       "3415  https://d1zxk9teuo4ijt.cloudfront.net/shubham/...                             \n",
       "3416  https://d1zxk9teuo4ijt.cloudfront.net/shubham/...                             \n",
       "3417  https://d1zxk9teuo4ijt.cloudfront.net/shubham/...                             \n",
       "3418  https://d1zxk9teuo4ijt.cloudfront.net/shubham/...                             \n",
       "3419  https://d1zxk9teuo4ijt.cloudfront.net/shubham/...                             \n",
       "\n",
       "[3420 rows x 1 columns]"
      ]
     },
     "execution_count": 18,
     "metadata": {},
     "output_type": "execute_result"
    }
   ],
   "source": [
    "data = pd.read_csv(\"files.csv\")\n",
    "data"
   ]
  },
  {
   "cell_type": "code",
   "execution_count": 26,
   "id": "d3858272",
   "metadata": {},
   "outputs": [],
   "source": [
    "data2 = data.drop_duplicates(subset=data.columns)\n",
    "data2.to_csv(\"new_file.csv\") "
   ]
  },
  {
   "cell_type": "code",
   "execution_count": null,
   "id": "fb355642",
   "metadata": {},
   "outputs": [],
   "source": []
  }
 ],
 "metadata": {
  "kernelspec": {
   "display_name": "Python 3 (ipykernel)",
   "language": "python",
   "name": "python3"
  },
  "language_info": {
   "codemirror_mode": {
    "name": "ipython",
    "version": 3
   },
   "file_extension": ".py",
   "mimetype": "text/x-python",
   "name": "python",
   "nbconvert_exporter": "python",
   "pygments_lexer": "ipython3",
   "version": "3.8.10"
  }
 },
 "nbformat": 4,
 "nbformat_minor": 5
}
