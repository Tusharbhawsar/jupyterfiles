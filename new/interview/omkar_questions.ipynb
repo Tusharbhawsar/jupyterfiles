{
 "cells": [
  {
   "cell_type": "markdown",
   "id": "ffd205fc",
   "metadata": {},
   "source": [
    "# 1. Write a python program using decorator to reorder the sequence of unorder number in ascending format [8,6,3,6,9,1,0,44,5,23,7,123,6,1,0] (Brute force algorithm"
   ]
  },
  {
   "cell_type": "code",
   "execution_count": null,
   "id": "3b19e72b",
   "metadata": {},
   "outputs": [],
   "source": []
  },
  {
   "cell_type": "markdown",
   "id": "5534ea60",
   "metadata": {},
   "source": [
    "# 2.Given the list lst = [1, 2, 3, 1, 4, 2, 3, 5, 6, 5], write a Python program to count the occurrences of each element in the list and print the results.\n",
    "https://pythontutor.com/render.html#mode=display"
   ]
  },
  {
   "cell_type": "code",
   "execution_count": 3,
   "id": "731ebbde",
   "metadata": {},
   "outputs": [
    {
     "name": "stdout",
     "output_type": "stream",
     "text": [
      "{1: 3, 5: 10, 4: 4, 7: 7}\n"
     ]
    }
   ],
   "source": [
    "data=[1,5,4,7,1,5,1]\n",
    "\n",
    "occur={}\n",
    "for i in data:\n",
    "    if i in occur:\n",
    "        occur[i]+=i\n",
    "    else:\n",
    "        occur[i]=i\n",
    "print(occur)"
   ]
  },
  {
   "cell_type": "code",
   "execution_count": 6,
   "id": "2f105e67",
   "metadata": {},
   "outputs": [
    {
     "name": "stdout",
     "output_type": "stream",
     "text": [
      "Element 1 occurs 2 time(s)\n",
      "Element 2 occurs 2 time(s)\n",
      "Element 3 occurs 2 time(s)\n",
      "Element 4 occurs 1 time(s)\n",
      "Element 5 occurs 2 time(s)\n",
      "Element 6 occurs 1 time(s)\n"
     ]
    }
   ],
   "source": [
    "# Given list\n",
    "lst = [1, 2, 3, 1, 4, 2, 3, 5, 6, 5]\n",
    "\n",
    "# Dictionary to store counts\n",
    "element_counts = {}\n",
    "\n",
    "# Iterate through the list and count occurrences\n",
    "for element in lst:\n",
    "    if element in element_counts:\n",
    "        element_counts[element] += 1\n",
    "    else:\n",
    "        element_counts[element] = 1\n",
    "\n",
    "# Print the results\n",
    "for element, count in element_counts.items():\n",
    "    print(f\"Element {element} occurs {count} time(s)\")\n"
   ]
  },
  {
   "cell_type": "code",
   "execution_count": 5,
   "id": "a89b7fb6",
   "metadata": {},
   "outputs": [
    {
     "name": "stdout",
     "output_type": "stream",
     "text": [
      "Element 1 occurs 2 time(s)\n",
      "Element 2 occurs 2 time(s)\n",
      "Element 3 occurs 2 time(s)\n",
      "Element 4 occurs 1 time(s)\n",
      "Element 5 occurs 2 time(s)\n",
      "Element 6 occurs 1 time(s)\n"
     ]
    }
   ],
   "source": [
    "from collections import Counter\n",
    "\n",
    "# Given list\n",
    "lst = [1, 2, 3, 1, 4, 2, 3, 5, 6, 5]\n",
    "\n",
    "# Count occurrences of each element\n",
    "element_counts = Counter(lst)\n",
    "\n",
    "# Print the results\n",
    "for element, count in element_counts.items():\n",
    "    print(f\"Element {element} occurs {count} time(s)\")\n"
   ]
  },
  {
   "cell_type": "code",
   "execution_count": 9,
   "id": "3ab0cf70",
   "metadata": {},
   "outputs": [
    {
     "name": "stdout",
     "output_type": "stream",
     "text": [
      "element 1 count is 2\n",
      "element 2 count is 2\n",
      "element 3 count is 2\n",
      "element 4 count is 1\n",
      "element 5 count is 2\n",
      "element 6 count is 1\n"
     ]
    }
   ],
   "source": [
    "from collections import Counter\n",
    "lst = [1, 2, 3, 1, 4, 2, 3, 5, 6, 5]\n",
    "\n",
    "elm=Counter(lst)\n",
    "\n",
    "for element,count in elm.items():\n",
    "    print(f\"element {element} count is {count}\")"
   ]
  },
  {
   "cell_type": "code",
   "execution_count": 12,
   "id": "d05b0cde",
   "metadata": {},
   "outputs": [
    {
     "name": "stdout",
     "output_type": "stream",
     "text": [
      "{1: 3, 2: 2, 3: 2, 4: 1, 5: 2, 6: 1}\n"
     ]
    }
   ],
   "source": [
    "lst = [1, 2, 3, 1,1, 4, 2, 3, 5, 6, 5]\n",
    "\n",
    "data={}\n",
    "for i in lst:\n",
    "    if i in data:\n",
    "        data[i] += 1\n",
    "    else:\n",
    "        data[i] = 1\n",
    "        \n",
    "print(data)"
   ]
  },
  {
   "cell_type": "code",
   "execution_count": null,
   "id": "9d89cb24",
   "metadata": {},
   "outputs": [],
   "source": []
  },
  {
   "cell_type": "markdown",
   "id": "ba4223f1",
   "metadata": {},
   "source": [
    "# 3. Given the list a = ['my', 'name', 'is', 'omkar'], how can you create a sentence from its elements?"
   ]
  },
  {
   "cell_type": "code",
   "execution_count": 12,
   "id": "5156eeb0",
   "metadata": {},
   "outputs": [
    {
     "name": "stdout",
     "output_type": "stream",
     "text": [
      "my name is omkar "
     ]
    }
   ],
   "source": [
    " a = ['my', 'name', 'is', 'omkar']\n",
    "for i in a :\n",
    "    print(i,end=\" \")"
   ]
  },
  {
   "cell_type": "code",
   "execution_count": 15,
   "id": "3e164bf4",
   "metadata": {},
   "outputs": [
    {
     "name": "stdout",
     "output_type": "stream",
     "text": [
      "my name is omkar\n"
     ]
    }
   ],
   "source": [
    "a = ['my', 'name', 'is', 'omkar']\n",
    "\n",
    "b = \" \".join(a)\n",
    "print(b)"
   ]
  },
  {
   "cell_type": "markdown",
   "id": "ecca7710",
   "metadata": {},
   "source": [
    "# 4 .Given a list, write a single line of code to select every alternate element, either starting from the first element or the second element. For example, if the list is a = [1, 2, 3, 4, 5, 6], how can you select [1, 3, 5] or [2, 4, 6]?\n"
   ]
  },
  {
   "cell_type": "code",
   "execution_count": 34,
   "id": "4c1ebf9b",
   "metadata": {},
   "outputs": [
    {
     "data": {
      "text/plain": [
       "[1, 3, 5]"
      ]
     },
     "execution_count": 34,
     "metadata": {},
     "output_type": "execute_result"
    }
   ],
   "source": [
    "a = [1, 2, 3, 4, 5, 6]\n",
    "    \n",
    "a[::2]\n"
   ]
  },
  {
   "cell_type": "code",
   "execution_count": 31,
   "id": "11aead15",
   "metadata": {},
   "outputs": [
    {
     "data": {
      "text/plain": [
       "[2, 4, 6]"
      ]
     },
     "execution_count": 31,
     "metadata": {},
     "output_type": "execute_result"
    }
   ],
   "source": [
    "a[1::2]"
   ]
  },
  {
   "cell_type": "code",
   "execution_count": 32,
   "id": "d07f293a",
   "metadata": {},
   "outputs": [],
   "source": [
    "#the ::2 slice means \"start from the first element and take every second element,\" \n",
    "#while 1::2 means \"start from the second element and take every second element.\""
   ]
  },
  {
   "cell_type": "markdown",
   "id": "58f27bac",
   "metadata": {},
   "source": [
    "# 5.Write a Python program to calculate and print the average scores in Physics and Chemistry for each student given in the following dictionary: data =\n",
    "'Name': ['Tom', 'nick', 'Tom', 'jack', 'nick'],\n",
    "'Physics': [20, 30, 80, 50, 40],\n",
    "'Chemistry': [40, 70, 60, 50, 80]\n",
    "}"
   ]
  },
  {
   "cell_type": "code",
   "execution_count": null,
   "id": "48b4614a",
   "metadata": {},
   "outputs": [],
   "source": [
    "# Given data\n",
    "data = {\n",
    "    'Name': ['Tom', 'nick', 'Tom', 'jack', 'nick'],\n",
    "    'Physics': [20, 30, 80, 50, 40],\n",
    "    'Chemistry': [40, 70, 60, 50, 80]\n",
    "}\n",
    "\n",
    "# Create a dictionary to store total scores and counts for each student\n",
    "student_scores = {}\n",
    "\n",
    "# Loop over the data to accumulate scores for each student\n",
    "for i in range(len(data['Name'])):\n",
    "    name = data['Name'][i]\n",
    "    physics_score = data['Physics'][i]\n",
    "    chemistry_score = data['Chemistry'][i]\n",
    "\n",
    "    if name not in student_scores:\n",
    "        student_scores[name] = {'Physics': 0, 'Chemistry': 0, 'count': 0}\n",
    "\n",
    "    student_scores[name]['Physics'] += physics_score\n",
    "    student_scores[name]['Chemistry'] += chemistry_score\n",
    "    student_scores[name]['count'] += 1\n",
    "\n",
    "# Calculate and print average scores for each student\n",
    "for name, scores in student_scores.items():\n",
    "    avg_physics = scores['Physics'] / scores['count']\n",
    "    avg_chemistry = scores['Chemistry'] / scores['count']\n",
    "    print(f\"{name}: Physics Avg = {avg_physics:.2f}, Chemistry Avg = {avg_chemistry:.2f}\")\n",
    "    \n",
    "# from collections import defaultdict\n",
    "\n",
    "# # Given data\n",
    "# data = {\n",
    "#     'Name': ['Tom', 'nick', 'Tom', 'jack', 'nick'],\n",
    "#     'Physics': [20, 30, 80, 50, 40],\n",
    "#     'Chemistry': [40, 70, 60, 50, 80]\n",
    "# }\n",
    "\n",
    "# # Dictionary to store total scores and counts\n",
    "# student_scores = defaultdict(lambda: [0, 0, 0])  # [Physics total, Chemistry total, count]\n",
    "\n",
    "# # Loop to accumulate scores\n",
    "# for i, name in enumerate(data['Name']):\n",
    "#     student_scores[name][0] += data['Physics'][i]\n",
    "#     student_scores[name][1] += data['Chemistry'][i]\n",
    "#     student_scores[name][2] += 1\n",
    "\n",
    "# # Calculate and print averages\n",
    "# for name, (physics_total, chem_total, count) in student_scores.items():\n",
    "#     print(f\"{name}: Physics Avg = {physics_total / count:.2f}, Chemistry Avg = {chem_total / count:.2f}\")\n"
   ]
  },
  {
   "cell_type": "code",
   "execution_count": 56,
   "id": "dc280554",
   "metadata": {},
   "outputs": [
    {
     "name": "stdout",
     "output_type": "stream",
     "text": [
      "Tom\n",
      "nick\n",
      "Tom\n",
      "jack\n",
      "nick\n"
     ]
    }
   ],
   "source": [
    "data ={'Name': ['Tom', 'nick', 'Tom', 'jack', 'nick'], 'Physics': [20, 30, 80, 50, 40], 'Chemistry': [40, 70, 60, 50, 80] }\n",
    "\n",
    "for i in range (len(data[\"Name\"])):\n",
    "    name=data[\"Name\"][i]\n",
    "    print(name)"
   ]
  },
  {
   "cell_type": "code",
   "execution_count": null,
   "id": "5456d1bf",
   "metadata": {},
   "outputs": [],
   "source": []
  }
 ],
 "metadata": {
  "kernelspec": {
   "display_name": "Python 3 (ipykernel)",
   "language": "python",
   "name": "python3"
  },
  "language_info": {
   "codemirror_mode": {
    "name": "ipython",
    "version": 3
   },
   "file_extension": ".py",
   "mimetype": "text/x-python",
   "name": "python",
   "nbconvert_exporter": "python",
   "pygments_lexer": "ipython3",
   "version": "3.8.10"
  }
 },
 "nbformat": 4,
 "nbformat_minor": 5
}
