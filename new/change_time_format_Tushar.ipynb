{
 "cells": [
  {
   "cell_type": "code",
   "execution_count": 31,
   "id": "fe5d3845",
   "metadata": {},
   "outputs": [
    {
     "name": "stdout",
     "output_type": "stream",
     "text": [
      "_id\n",
      "originalId\n",
      "sourceUrl\n",
      "event\n"
     ]
    },
    {
     "ename": "TypeError",
     "evalue": "'float' object is not subscriptable",
     "output_type": "error",
     "traceback": [
      "\u001b[0;31m---------------------------------------------------------------------------\u001b[0m",
      "\u001b[0;31mTypeError\u001b[0m                                 Traceback (most recent call last)",
      "Input \u001b[0;32mIn [31]\u001b[0m, in \u001b[0;36m<cell line: 16>\u001b[0;34m()\u001b[0m\n\u001b[1;32m     16\u001b[0m \u001b[38;5;28;01mfor\u001b[39;00m i \u001b[38;5;129;01min\u001b[39;00m df\u001b[38;5;241m.\u001b[39mevent:\n\u001b[1;32m     17\u001b[0m     \u001b[38;5;28;01mfor\u001b[39;00m j \u001b[38;5;129;01min\u001b[39;00m i:\n\u001b[0;32m---> 18\u001b[0m         st\u001b[38;5;241m.\u001b[39mappend(\u001b[43mj\u001b[49m\u001b[43m[\u001b[49m\u001b[38;5;124;43m'\u001b[39;49m\u001b[38;5;124;43mstartTime\u001b[39;49m\u001b[38;5;124;43m'\u001b[39;49m\u001b[43m]\u001b[49m\u001b[43m[\u001b[49m\u001b[38;5;241;43m0\u001b[39;49m\u001b[43m]\u001b[49m)\n\u001b[1;32m     19\u001b[0m         et\u001b[38;5;241m.\u001b[39mappend(j[\u001b[38;5;124m'\u001b[39m\u001b[38;5;124mendTime\u001b[39m\u001b[38;5;124m'\u001b[39m])\n\u001b[1;32m     20\u001b[0m         evnt\u001b[38;5;241m.\u001b[39mappend(j[\u001b[38;5;124m\"\u001b[39m\u001b[38;5;124mevent\u001b[39m\u001b[38;5;124m\"\u001b[39m])\n",
      "\u001b[0;31mTypeError\u001b[0m: 'float' object is not subscriptable"
     ]
    }
   ],
   "source": [
    "import pandas as pd\n",
    "\n",
    "df=pd.read_json(\"/home/link-lap-24/mani/Cricket-GT-Replay-19-03-2024-12-32-35.json\")\n",
    "# print(df.headead())\n",
    "# print(df.info())\n",
    "\n",
    "for i in df:\n",
    "    print(i)\n",
    "    \n",
    "urls=df.sourceUrl[1]\n",
    "st=[]\n",
    "et=[]\n",
    "evnt=[]\n",
    "ur=[]\n",
    "\n",
    "for i in df.event:\n",
    "    for j in i:\n",
    "        st.append(j['startTime'])\n",
    "        et.append(j['endTime'])\n",
    "        evnt.append(j[\"event\"])\n",
    "        ur.append(urls)\n",
    "\n",
    "\n",
    "data=pd.DataFrame({\"start_time\":st,\"end_time\":et,\"sub_event\":evnt,\"match\":ur})\n",
    "\n",
    "# data['start_time']=df[\"event\"].apply(lambda x: x[0][\"startTime\"])\n",
    "# data['end_time']=df[\"event\"].apply(lambda x: x[0][\"endTime\"])\n",
    "# print(data.head())\n",
    "# print(data.info())\n",
    "\n",
    "data['start_time'] = pd.to_timedelta(data['start_time'], unit='s')\n",
    "data['end_time'] = pd.to_timedelta(data['end_time'], unit='s')\n",
    "\n",
    "\n",
    "data['start_time'] = data['start_time'].dt.total_seconds().apply(lambda x: divmod(x, 3600)).apply(lambda x: \"%02d:%02d:%02d\" % (x[0], (x[1]//60), (x[1]%60)))\n",
    "data['end_time'] = data['end_time'].dt.total_seconds().apply(lambda x: divmod(x, 3600)).apply(lambda x: \"%02d:%02d:%02d\" % (x[0], (x[1]//60), (x[1]%60)))\n",
    "\n",
    "# print(data.head())\n",
    "# print(data.tail(20))\n",
    "data.to_csv(\"match_2nd.csv\")\n"
   ]
  },
  {
   "cell_type": "code",
   "execution_count": 59,
   "id": "4a0a28be",
   "metadata": {},
   "outputs": [],
   "source": [
    "###@@@!!!!>>>>>>>>>>>>>> Tushar\n",
    "\n",
    "import json \n",
    "import pandas as pd\n",
    "\n",
    "with open(\"Cricket-GT-Replay-19-03-2024-12-32-35.json\",\"r\") as file:\n",
    "    data=json.load(file)\n",
    "    mat_1=data[0]\n",
    "    mats_url=data[0][\"sourceUrl\"]\n",
    "#     print(mats_url)\n",
    "\n",
    "st=[]\n",
    "et=[]\n",
    "evnt=[]    \n",
    "ur=[]\n",
    "    \n",
    "for i in mat_1[\"event\"]:\n",
    "    st.append(i[\"startTime\"])\n",
    "    et.append(i[\"endTime\"])\n",
    "    evnt.append(i[\"event\"])\n",
    "    ur.append(mats_url)\n",
    "    \n",
    "data=pd.DataFrame({\"start_time\":st,\"end_time\":et,\"sub_event\":evnt,\"match\":ur})\n",
    "    \n",
    "data['start_time'] = pd.to_timedelta(data['start_time'], unit='s')\n",
    "data['end_time'] = pd.to_timedelta(data['end_time'], unit='s')\n",
    "\n",
    "\n",
    "data['start_time'] = data['start_time'].dt.total_seconds().apply(lambda x: divmod(x, 3600)).apply(lambda x: \"%02d:%02d:%02d\" % (x[0], (x[1]//60), (x[1]%60)))\n",
    "data['end_time'] = data['end_time'].dt.total_seconds().apply(lambda x: divmod(x, 3600)).apply(lambda x: \"%02d:%02d:%02d\" % (x[0], (x[1]//60), (x[1]%60)))\n",
    "\n",
    "data.to_csv(\"match_nd.csv\")\n"
   ]
  },
  {
   "cell_type": "code",
   "execution_count": null,
   "id": "d395879f",
   "metadata": {},
   "outputs": [],
   "source": []
  }
 ],
 "metadata": {
  "kernelspec": {
   "display_name": "Python 3 (ipykernel)",
   "language": "python",
   "name": "python3"
  },
  "language_info": {
   "codemirror_mode": {
    "name": "ipython",
    "version": 3
   },
   "file_extension": ".py",
   "mimetype": "text/x-python",
   "name": "python",
   "nbconvert_exporter": "python",
   "pygments_lexer": "ipython3",
   "version": "3.8.10"
  }
 },
 "nbformat": 4,
 "nbformat_minor": 5
}
