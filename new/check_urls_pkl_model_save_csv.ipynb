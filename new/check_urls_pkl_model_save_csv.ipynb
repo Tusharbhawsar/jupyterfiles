{
 "cells": [
  {
   "cell_type": "code",
   "execution_count": 1,
   "id": "7974dc88",
   "metadata": {
    "id": "7974dc88"
   },
   "outputs": [],
   "source": [
    "# !pip install -U fastai\n",
    "# !pip install torch==1.9.0+cu111 torchvision==0.10.0+cu111 torchaudio==0.9.0 -f https://download.pytorch.org/whl/torch_stable.html\n",
    "# !pip install timm\n",
    "# !pip install fastbook"
   ]
  },
  {
   "cell_type": "code",
   "execution_count": 1,
   "id": "f17eb1bc",
   "metadata": {
    "id": "f17eb1bc"
   },
   "outputs": [],
   "source": [
    "from fastai.imports import *\n",
    "from fastai.vision import *\n",
    "from fastbook import *\n",
    "import torch, timm\n",
    "\n",
    "import os\n",
    "import glob\n",
    "import cv2\n",
    "\n",
    "# !pip install timm 0.5.4"
   ]
  },
  {
   "cell_type": "code",
   "execution_count": 2,
   "id": "f9450bf2",
   "metadata": {
    "id": "f9450bf2"
   },
   "outputs": [],
   "source": [
    "model = load_learner('/home/link-lap-24/jupyter_files/new/BHLhN2CJWCV2Ex7.pkl')"
   ]
  },
  {
   "cell_type": "code",
   "execution_count": 7,
   "id": "2f9dc7ac",
   "metadata": {
    "id": "2f9dc7ac"
   },
   "outputs": [],
   "source": [
    "# model.eval()"
   ]
  },
  {
   "cell_type": "code",
   "execution_count": 15,
   "id": "2a65f4b2",
   "metadata": {
    "id": "2a65f4b2",
    "scrolled": false
   },
   "outputs": [],
   "source": [
    "images = \"/home/link-lap-24/Downloads/baseball_banner/samples/\"\n",
    "im = sorted(glob.glob(images + \"*.*\"), key=os.path.getmtime)\n",
    "model = load_learner('/home/link-lap-24/Downloads/baseball_banner/ltKRUGPeQZy2G78.pkl',cpu=true)\n",
    "output=\"/home/link-lap-24/Downloads/baseball_banner/samples/\"\n",
    "\n",
    "for i_path in im:\n",
    "    frame = cv2.imread(i_path)\n",
    "#     path = i_path.split('.')[0]\n",
    "    path = os.path.splitext(os.path.basename(i_path))[0]\n",
    "    print(path)\n",
    "    pred = model.predict(i_path)\n",
    "#     cat = [\"Dead\",\"Non-dead\",\"Player_Activity\"]\n",
    "    cat = [\"other\",\"wicket_name\"]\n",
    "\n",
    "    result = {}\n",
    "    for i, j in enumerate(pred[2]):\n",
    "        result[cat[i]] = round(float(pred[2][i])*100, 3)\n",
    "#         print(result)\n",
    "        text = \"Activity: {} \".format(result)\n",
    "#         print(\"this is the final results\",text)\n",
    "\n",
    "        cv2.putText(frame, text, (35, 50), cv2.FONT_HERSHEY_SIMPLEX,1.25, (0, 255, 0), 3)\n",
    "        output_path = os.path.join(output, path + \".png\")  # Define output image path\n",
    "    \n",
    "        cv2.imwrite(output_path, frame)"
   ]
  },
  {
   "cell_type": "code",
   "execution_count": 4,
   "id": "ef65f8d3",
   "metadata": {
    "id": "ef65f8d3",
    "outputId": "6875e115-a55f-45f1-acf0-d618d3f0b98d"
   },
   "outputs": [
    {
     "data": {
      "text/plain": [
       "['other', 'transition']"
      ]
     },
     "execution_count": 4,
     "metadata": {},
     "output_type": "execute_result"
    }
   ],
   "source": [
    "# Get the data loaders from the model\n",
    "dls = model.dls\n",
    "\n",
    "# Get the class labels\n",
    "class_labels = dls.vocab\n",
    "class_labels\n"
   ]
  },
  {
   "cell_type": "code",
   "execution_count": null,
   "id": "2404aab1",
   "metadata": {},
   "outputs": [],
   "source": [
    "images = \"/home/link-lap-24/Downloads/am_player_focus/negative/2800_up/test/\"\n",
    "im = sorted(glob.glob(images + \"*.*\"), key=os.path.getmtime)\n",
    "model = load_learner('U0QgwHs8vtdlh2s.pkl',cpu=true)\n",
    "\n",
    "\n",
    "for i_path in im:\n",
    "    frame = cv2.imread(i_path)\n",
    "    path = i_path.split('.')[0]\n",
    "    pred = model.predict(i_path)\n",
    "#     cat = [\"Dead\",\"Non-dead\",\"Player_Activity\"]\n",
    "    cat = [\"ground_in_play\",\"player_focus\"]\n",
    "\n",
    "    result = {}\n",
    "    for i, j in enumerate(pred[2]):\n",
    "        result[cat[i]] = round(float(pred[2][i])*100, 3)\n",
    "#         print(result)\n",
    "        text = \"Activity: {} \".format(result)\n",
    "        print(\"this is the final results\",text)\n",
    "        \n",
    "        cv2.putText(frame, text, (35, 50), cv2.FONT_HERSHEY_SIMPLEX,1.25, (0, 255, 0), 3)\n",
    "        cv2.imwrite(path+\".jpg\",frame)"
   ]
  },
  {
   "cell_type": "code",
   "execution_count": null,
   "id": "f9e6632a",
   "metadata": {
    "id": "f9e6632a"
   },
   "outputs": [],
   "source": [
    "os.chdir(\"/home/link-lap-24/Downloads/nudenet_model_testing\")"
   ]
  },
  {
   "cell_type": "code",
   "execution_count": null,
   "id": "f368d7eb",
   "metadata": {
    "id": "f368d7eb",
    "outputId": "6838f856-cb60-4d65-fef0-0bf91d92db31"
   },
   "outputs": [
    {
     "name": "stdout",
     "output_type": "stream",
     "text": [
      "5.77\n"
     ]
    }
   ],
   "source": [
    "x = round(5.76543, 2)\n",
    "print(x)"
   ]
  },
  {
   "cell_type": "code",
   "execution_count": null,
   "id": "8a0da47a",
   "metadata": {
    "id": "8a0da47a"
   },
   "outputs": [],
   "source": [
    "# !pip install -U fastai\n",
    "# !pip install torch==1.9.0+cu111 torchvision==0.10.0+cu111 torchaudio==0.9.0 -f https://download.pytorch.org/whl/torch_stable.html\n",
    "# !pip install timm\n",
    "# !pip install fastbook\n",
    "# from fastai.imports import *\n",
    "# from fastai.vision import *\n",
    "# from fastbook import *\n",
    "# import torch, timm\n",
    "# import os\n",
    "# import glob\n",
    "# import cv2"
   ]
  },
  {
   "cell_type": "code",
   "execution_count": 7,
   "id": "67a59c63",
   "metadata": {
    "id": "67a59c63"
   },
   "outputs": [],
   "source": [
    "# import os\n",
    "# import cv2\n",
    "# from fastai.vision import load_learner\n",
    "# from pathlib import Path\n",
    "# import glob\n",
    "\n",
    "images = \"/home/link-lap-24/Downloads/baseball_data/fr/\"\n",
    "\n",
    "gr_ou = \"/home/link-lap-24/Downloads/baseball_data/ground/\"\n",
    "pl_ou= \"/home/link-lap-24/Downloads/baseball_data/player/\"\n",
    "ot_ou= \"/home/link-lap-24/Downloads/baseball_data/other/\"\n",
    "pit_ou= \"/home/link-lap-24/Downloads/baseball_data/pitch/\"\n",
    "\n",
    "\n",
    "im = sorted(glob.glob(images + \"*.*\"), key=os.path.getmtime)\n",
    "model = load_learner('a4sy4hu9QYjKe2Z.pkl', cpu=True)\n",
    "\n",
    "for i_path in im:\n",
    "    frame = cv2.imread(i_path)\n",
    "    path = i_path.split('.')[0]\n",
    "    pred = model.predict(i_path)\n",
    "    cat = [\"ground\",\"other\",\"pitch\",\"player\"]\n",
    "    result = {}\n",
    "    for i, j in enumerate(pred[2]):\n",
    "        result[cat[i]] = round(float(pred[2][i]) * 100, 3)\n",
    "    print(result)\n",
    "    text = \"Activity: {} \".format(result)\n",
    "\n",
    "    # Check if 'Player_Activity' key exists and its value is more than 30\n",
    "    if 'ground' in result and result['ground'] > 25:\n",
    "        # Move the image to the output directory\n",
    "        output_path = os.path.join(gr_ou, os.path.basename(i_path))\n",
    "        os.rename(i_path, output_path)\n",
    "        print(f\"Moved: {i_path} to {output_path}\")\n",
    "\n",
    "    elif 'other' in result and result['other'] > 25:\n",
    "        # Move the image to the output directory\n",
    "        output_path = os.path.join(ot_ou, os.path.basename(i_path))\n",
    "        os.rename(i_path, output_path)\n",
    "        print(f\"Moved: {i_path} to {output_path}\")\n",
    "\n",
    "    elif 'pitch' in result and result['pitch'] > 50:\n",
    "        # Move the image to the output directory\n",
    "        output_path = os.path.join(pit_ou, os.path.basename(i_path))\n",
    "        os.rename(i_path, output_path)\n",
    "        print(f\"Moved: {i_path} to {output_path}\")\n",
    "\n",
    "    elif 'player' in result and result['player'] > 25:\n",
    "        # Move the image to the output directory\n",
    "        output_path = os.path.join(pl_ou, os.path.basename(i_path))\n",
    "        os.rename(i_path, output_path)\n",
    "        print(f\"Moved: {i_path} to {output_path}\")\n",
    "    else:\n",
    "        pass\n",
    "\n",
    "\n"
   ]
  },
  {
   "cell_type": "code",
   "execution_count": 3,
   "id": "f8c0c029",
   "metadata": {
    "id": "f8c0c029"
   },
   "outputs": [],
   "source": [
    "# import os\n",
    "# import cv2\n",
    "# from fastai.vision import load_learner\n",
    "# from pathlib import Path\n",
    "# import glob\n",
    "\n",
    "images = \"/home/link-lap-24/Downloads/baseball_banner/banner/\"\n",
    "\n",
    "Repl_out = \"/home/link-lap-24/Downloads/baseball_banner/out_ba/\"\n",
    "\n",
    "im = sorted(glob.glob(images + \"*.*\"), key=os.path.getmtime)\n",
    "model = load_learner('J9L50UfO341nJz0.pkl', cpu=True)\n",
    "\n",
    "for i_path in im:\n",
    "    frame = cv2.imread(i_path)\n",
    "    path = i_path.split('.')[0]\n",
    "    pred = model.predict(i_path)\n",
    "    cat = ['Ball_in_air', 'Boundary', 'Replay', 'crowd', 'ground', 'pitch', 'player_in_focus']\n",
    "    result = {}\n",
    "    for i, j in enumerate(pred[2]):\n",
    "        result[cat[i]] = round(float(pred[2][i]) * 100, 3)\n",
    "    print(result)\n",
    "    text = \"Activity: {} \".format(result)\n",
    "\n",
    "    # Check if 'Player_Activity' key exists and its value is more than 30\n",
    "    if 'Replay' in result and result['Replay'] > 25:\n",
    "        # Move the image to the output directory\n",
    "        output_path = os.path.join(Repl_out, os.path.basename(i_path))\n",
    "        os.rename(i_path, output_path)\n",
    "        print(f\"Moved: {i_path} to {output_path}\")\n",
    "\n"
   ]
  },
  {
   "cell_type": "code",
   "execution_count": 5,
   "id": "e6d70709",
   "metadata": {},
   "outputs": [],
   "source": [
    "import cv2\n",
    "# from fastai.vision import load_learner\n",
    "import numpy as np\n",
    "\n",
    "# Load the model\n",
    "model = load_learner('/home/link-lap-24/Downloads/baseball_banner/4IMR4MA2J7RpYwJ.pkl', cpu=True)\n",
    "\n",
    "# Open the video file\n",
    "video_path = \"/home/link-lap-24/Downloads/baseball_banner/dd.mp4\"\n",
    "cap = cv2.VideoCapture(video_path)\n",
    "\n",
    "# Define output directories\n",
    "output_dirs = {\n",
    "    \"ground\": \"/home/link-lap-24/Downloads/baseball_banner/gr_ou/\",\n",
    "    \"player\": \"/home/link-lap-24/Downloads/baseball_banner/pl_ou/\",\n",
    "    \"other\": \"/home/link-lap-24/Downloads/baseball_banner/ot_ou/\",\n",
    "    \"pitch\": \"/home/link-lap-24/Downloads/baseball_banner/pit_ou/\",\n",
    "    \"banner\": \"/home/link-lap-24/Downloads/baseball_banner/ban_out/\"\n",
    "}\n",
    "\n",
    "# Read until video is completed\n",
    "while cap.isOpened():\n",
    "    # Capture frame-by-frame\n",
    "    ret, frame = cap.read()\n",
    "\n",
    "    # If frame is read correctly\n",
    "    if ret:\n",
    "        # Make predictions on the frame\n",
    "        pred = model.predict(frame)\n",
    "\n",
    "        # Convert predictions to percentages\n",
    "        percentages = pred[2] * 100\n",
    "\n",
    "        # Get the category with the highest confidence\n",
    "        category = np.argmax(percentages)\n",
    "\n",
    "        # Define threshold percentages for each category\n",
    "        thresholds = {\n",
    "            \"banner\": 25,\n",
    "            \"ground\": 25,\n",
    "            \"other\": 25,\n",
    "            \"pitch\": 50,\n",
    "            \"player\": 25\n",
    "        }\n",
    "\n",
    "        # Check if prediction exceeds threshold for any category\n",
    "        for cat, threshold in thresholds.items():\n",
    "            if percentages[cat] > threshold:\n",
    "                # Move the frame to the output directory\n",
    "                output_path = output_dirs[cat] + f\"frame_{int(cap.get(cv2.CAP_PROP_POS_FRAMES))}.jpg\"\n",
    "                cv2.imwrite(output_path, frame)\n",
    "                print(f\"Moved frame to {output_path}\")\n",
    "                break\n",
    "\n",
    "    else:\n",
    "        # Break the loop if the video is completed\n",
    "        break\n",
    "\n",
    "# Release video capture object\n",
    "cap.release()\n"
   ]
  },
  {
   "cell_type": "code",
   "execution_count": 22,
   "id": "865249ec",
   "metadata": {},
   "outputs": [],
   "source": [
    "import cv2\n",
    "\n",
    "\n",
    "model = load_learner('/home/link-lap-24/Downloads/baseball_banner/4IMR4MA2J7RpYwJ.pkl', cpu=True)\n",
    "video_path = \"/home/link-lap-24/Downloads/baseball_banner/dd.mp4\"\n",
    "\n",
    "gr_ou = \"/home/link-lap-24/Downloads/baseball_banner/gr_ou/\"\n",
    "pl_ou = \"/home/link-lap-24/Downloads/baseball_banner/pl_ou/\"\n",
    "ot_ou = \"/home/link-lap-24/Downloads/baseball_banner/ot_ou/\"\n",
    "pit_ou = \"/home/link-lap-24/Downloads/baseball_banner/pit_ou/\"\n",
    "ban_out = \"/home/link-lap-24/Downloads/baseball_banner/ban_out/\"\n",
    "#tags = [\"banner\",\"ground\",\"other\",\"pitch\",\"player\"]\n",
    "target_fps=2\n",
    "\n",
    "cap = cv2.VideoCapture(video_path)\n",
    "original_fps=cap.get(cv2.CAP_PROP_FPS)\n",
    "# print(original_fps)\n",
    "frames_interval=round(original_fps / target_fps)\n",
    "# print(frames_interval)\n",
    "frame_count=0\n",
    "\n",
    "if not cap.isOpened():\n",
    "    print(\"error: while open the video\")\n",
    "    exit()    \n",
    "    \n",
    "while True:\n",
    "    cap.set(cv2.CAP_PROP_POS_FRAMES,frame_count * frames_interval)\n",
    "    \n",
    "    ret, frame = cap.read()\n",
    "    if ret:\n",
    "        cls,indx,pred = model.predict(frame)\n",
    "        cls_name=cls\n",
    "        idex_value=indx.tolist()\n",
    "        pred_score=round(pred.tolist()[idex_value], 5)*100\n",
    "        \n",
    "        if cls_name==\"ground\" and pred_score > 25:\n",
    "            save_path=os.path.join(gr_ou,f\"fr_{frame_count:04d}.jpg\")\n",
    "            cv2.imwrite(save_path,frame)\n",
    "            print(\"ground frame found & moved\")\n",
    "            \n",
    "        if cls_name==\"pitch\" and pred_score >25:\n",
    "            save_path=os.path.join(pit_ou,f\"fr_{frame_count:04d}.jpg\")\n",
    "            cv2.imwrite(save_path,frame)\n",
    "            print(\"pitch frame found & moved\")\n",
    "            \n",
    "        if cls_name==\"other\" and pred_score >25:\n",
    "            save_path=os.path.join(ot_ou,f\"fr_{frame_count:04d}.jpg\")\n",
    "            cv2.imwrite(save_path,frame)\n",
    "            print(\"other frame found & moved\")\n",
    "        frame_count +=1\n",
    "                         \n",
    "    else:\n",
    "        print(\"video complete\")\n",
    "        break\n",
    "\n"
   ]
  },
  {
   "cell_type": "code",
   "execution_count": 10,
   "id": "6285d69d",
   "metadata": {},
   "outputs": [
    {
     "name": "stdout",
     "output_type": "stream",
     "text": [
      "25.0\n",
      "25\n",
      "Frames saved: 6\n"
     ]
    }
   ],
   "source": [
    "import cv2\n",
    "import os\n",
    "\n",
    "def save_frames(video_path, output_folder, target_fps=1):\n",
    "    # Create the output folder if it doesn't exist\n",
    "    if not os.path.exists(output_folder):\n",
    "        os.makedirs(output_folder)\n",
    "\n",
    "    # Open the video file\n",
    "    cap = cv2.VideoCapture(video_path)\n",
    "\n",
    "    # Check if the video file opened successfully\n",
    "    if not cap.isOpened():\n",
    "        print(\"Error: Unable to open video file\")\n",
    "        return\n",
    "\n",
    "    # Get the original frame rate of the video\n",
    "    original_fps = cap.get(cv2.CAP_PROP_FPS)\n",
    "    print(original_fps)\n",
    "\n",
    "    # Calculate the frame interval based on the original and target frame rates\n",
    "    frame_interval = round(original_fps / target_fps)\n",
    "    print(frame_interval)\n",
    "\n",
    "    # Read and save frames until the end of the video\n",
    "    frame_count = 0\n",
    "    while True:\n",
    "        # Set the frame position to read every frame_interval-th frame\n",
    "        cap.set(cv2.CAP_PROP_POS_FRAMES, frame_count * frame_interval)\n",
    "\n",
    "        # Read the frame\n",
    "        ret, frame = cap.read()\n",
    "\n",
    "        # If not successful, break the loop\n",
    "        if not ret:\n",
    "            break\n",
    "\n",
    "        # Save the frame as an image\n",
    "        frame_path = os.path.join(output_folder, f\"frame_{frame_count:04d}.jpg\")\n",
    "        cv2.imwrite(frame_path, frame)\n",
    "\n",
    "        frame_count += 1\n",
    "\n",
    "    # Release the video capture object and close all windows\n",
    "    cap.release()\n",
    "    cv2.destroyAllWindows()\n",
    "\n",
    "    print(f\"Frames saved: {frame_count}\")\n",
    "\n",
    "# Example usage\n",
    "video_path = \"/home/link-lap-24/Downloads/baseball_banner/dd.mp4\"  # Path to your video file\n",
    "output_folder = \"/home/link-lap-24/Downloads/baseball_banner/fr/\"  # Output folder to save frames\n",
    "save_frames(video_path, output_folder, target_fps=1)\n"
   ]
  },
  {
   "cell_type": "code",
   "execution_count": null,
   "id": "5614bcea",
   "metadata": {},
   "outputs": [],
   "source": [
    "# import cv2\n",
    "\n",
    "# # Open the video file\n",
    "# video_path = \"/home/link-lap-24/Downloads/baseball_banner/dd.mp4\"\n",
    "# cap = cv2.VideoCapture(video_path)\n",
    "\n",
    "# # Initialize frame count\n",
    "# frame_count = 0\n",
    "\n",
    "# # Read until video is completed\n",
    "# while cap.isOpened():\n",
    "#     # Capture frame-by-frame\n",
    "#     ret, frame = cap.read()\n",
    "#     print(ret)\n",
    "\n",
    "#     # If frame is read correctly\n",
    "#     if ret:\n",
    "#         # Increment frame count\n",
    "#         frame_count += 1\n",
    "\n",
    "#     else:\n",
    "#         # Break the loop if the video is completed\n",
    "#         break\n",
    "\n",
    "# # Print the total number of frames\n",
    "# print(\"Total frames in the video:\", frame_count)\n",
    "\n",
    "# # Release video capture object\n",
    "# cap.release()\n"
   ]
  },
  {
   "cell_type": "code",
   "execution_count": null,
   "id": "72a2cc94",
   "metadata": {},
   "outputs": [],
   "source": [
    "import numpy as np\n",
    "\n",
    "img = \"/home/link-lap-24/Downloads/baseball_banner/input/1.jpg\"\n",
    "\n",
    "model = load_learner('/home/link-lap-24/Downloads/baseball_banner/4IMR4MA2J7RpYwJ.pkl')\n",
    "# Make predictions\n",
    "# pred = model.predict(img)\n",
    "# pred[2]\n",
    "\n",
    "pred_class, pred_idx, outputs = model.predict(img)\n",
    "\n",
    "# Print predictions\n",
    "# print(\"Predicted class:\", pred_class)\n",
    "# print(\"Predicted index:\", pred_idx)\n",
    "# print(\"Raw outputs:\", outputs)\n",
    "\n",
    "# print(outputs.tolist()[1],f'{pred_idx}'*100)\n",
    "# print(pred_class)\n",
    "print(pred_idx.tolist())\n",
    "# print(outputs)\n"
   ]
  },
  {
   "cell_type": "code",
   "execution_count": 31,
   "id": "df466d42",
   "metadata": {},
   "outputs": [
    {
     "name": "stdout",
     "output_type": "stream",
     "text": [
      "0\n"
     ]
    },
    {
     "name": "stderr",
     "output_type": "stream",
     "text": [
      "[ERROR:0@3448.511] global /io/opencv/modules/videoio/src/cap.cpp (164) open VIDEOIO(CV_IMAGES): raised OpenCV exception:\n",
      "\n",
      "OpenCV(4.5.5) /io/opencv/modules/videoio/src/cap_images.cpp:253: error: (-5:Bad argument) CAP_IMAGES: can't find starting number (in the name of file): video_url in function 'icvExtractPattern'\n",
      "\n",
      "\n"
     ]
    },
    {
     "name": "stdout",
     "output_type": "stream",
     "text": [
      "25\n",
      "25\n"
     ]
    }
   ],
   "source": [
    "import csv\n",
    "import cv2\n",
    "\n",
    "model = load_learner('/home/link-lap-24/jupyter_files/new/BHLhN2CJWCV2Ex7.pkl', cpu=True)\n",
    "\n",
    "\n",
    "\n",
    "with open (\"urls.csv\",\"r\") as file:\n",
    "    data=csv.reader(file)\n",
    "    \n",
    "    for name,i in enumerate(data):\n",
    "        urls=i[0]\n",
    "\n",
    "        videos=cv2.VideoCapture(urls)\n",
    "        target_fps=2\n",
    "        original_fps=videos.get(cv2.CAP_PROP_FPS)\n",
    "        frames_interval=round(original_fps / target_fps)\n",
    "        print(frames_interval)\n",
    "        frame_count=0\n",
    "\n",
    "\n",
    "        while True:\n",
    "            videos.set(cv2.CAP_PROP_POS_FRAMES,frame_count * frames_interval)\n",
    "            \n",
    "            ret,frame=videos.read()\n",
    "            if not ret:\n",
    "                break\n",
    "            print(name)\n",
    "            cls,indx,pred = model.predict(frame)\n",
    "            print(cls)\n",
    "            if cls ==\"transition\":\n",
    "                with open(\"new.csv\",\"w\") as ur:\n",
    "                    write=csv.writer(ur)\n",
    "                    write.writerow([urls])\n",
    "                    \n",
    "\n",
    "            "
   ]
  },
  {
   "cell_type": "code",
   "execution_count": 5,
   "id": "b88e076b",
   "metadata": {},
   "outputs": [
    {
     "name": "stderr",
     "output_type": "stream",
     "text": [
      "[ERROR:0@5852.543] global /io/opencv/modules/videoio/src/cap.cpp (164) open VIDEOIO(CV_IMAGES): raised OpenCV exception:\n",
      "\n",
      "OpenCV(4.5.5) /io/opencv/modules/videoio/src/cap_images.cpp:253: error: (-5:Bad argument) CAP_IMAGES: can't find starting number (in the name of file): video_url in function 'icvExtractPattern'\n",
      "\n",
      "\n"
     ]
    },
    {
     "data": {
      "text/html": [
       "\n",
       "<style>\n",
       "    /* Turns off some styling */\n",
       "    progress {\n",
       "        /* gets rid of default border in Firefox and Opera. */\n",
       "        border: none;\n",
       "        /* Needs to be in here for Safari polyfill so background images work as expected. */\n",
       "        background-size: auto;\n",
       "    }\n",
       "    .progress-bar-interrupted, .progress-bar-interrupted::-webkit-progress-bar {\n",
       "        background: #F44336;\n",
       "    }\n",
       "</style>\n"
      ],
      "text/plain": [
       "<IPython.core.display.HTML object>"
      ]
     },
     "metadata": {},
     "output_type": "display_data"
    },
    {
     "data": {
      "text/html": [],
      "text/plain": [
       "<IPython.core.display.HTML object>"
      ]
     },
     "metadata": {},
     "output_type": "display_data"
    },
    {
     "name": "stdout",
     "output_type": "stream",
     "text": [
      "Processing URL 1: transition\n"
     ]
    },
    {
     "data": {
      "text/html": [
       "\n",
       "<style>\n",
       "    /* Turns off some styling */\n",
       "    progress {\n",
       "        /* gets rid of default border in Firefox and Opera. */\n",
       "        border: none;\n",
       "        /* Needs to be in here for Safari polyfill so background images work as expected. */\n",
       "        background-size: auto;\n",
       "    }\n",
       "    .progress-bar-interrupted, .progress-bar-interrupted::-webkit-progress-bar {\n",
       "        background: #F44336;\n",
       "    }\n",
       "</style>\n"
      ],
      "text/plain": [
       "<IPython.core.display.HTML object>"
      ]
     },
     "metadata": {},
     "output_type": "display_data"
    },
    {
     "data": {
      "text/html": [],
      "text/plain": [
       "<IPython.core.display.HTML object>"
      ]
     },
     "metadata": {},
     "output_type": "display_data"
    },
    {
     "name": "stdout",
     "output_type": "stream",
     "text": [
      "Processing URL 2: other\n"
     ]
    },
    {
     "data": {
      "text/html": [
       "\n",
       "<style>\n",
       "    /* Turns off some styling */\n",
       "    progress {\n",
       "        /* gets rid of default border in Firefox and Opera. */\n",
       "        border: none;\n",
       "        /* Needs to be in here for Safari polyfill so background images work as expected. */\n",
       "        background-size: auto;\n",
       "    }\n",
       "    .progress-bar-interrupted, .progress-bar-interrupted::-webkit-progress-bar {\n",
       "        background: #F44336;\n",
       "    }\n",
       "</style>\n"
      ],
      "text/plain": [
       "<IPython.core.display.HTML object>"
      ]
     },
     "metadata": {},
     "output_type": "display_data"
    },
    {
     "data": {
      "text/html": [],
      "text/plain": [
       "<IPython.core.display.HTML object>"
      ]
     },
     "metadata": {},
     "output_type": "display_data"
    },
    {
     "name": "stdout",
     "output_type": "stream",
     "text": [
      "Processing URL 2: other\n"
     ]
    },
    {
     "data": {
      "text/html": [
       "\n",
       "<style>\n",
       "    /* Turns off some styling */\n",
       "    progress {\n",
       "        /* gets rid of default border in Firefox and Opera. */\n",
       "        border: none;\n",
       "        /* Needs to be in here for Safari polyfill so background images work as expected. */\n",
       "        background-size: auto;\n",
       "    }\n",
       "    .progress-bar-interrupted, .progress-bar-interrupted::-webkit-progress-bar {\n",
       "        background: #F44336;\n",
       "    }\n",
       "</style>\n"
      ],
      "text/plain": [
       "<IPython.core.display.HTML object>"
      ]
     },
     "metadata": {},
     "output_type": "display_data"
    },
    {
     "data": {
      "text/html": [],
      "text/plain": [
       "<IPython.core.display.HTML object>"
      ]
     },
     "metadata": {},
     "output_type": "display_data"
    },
    {
     "name": "stdout",
     "output_type": "stream",
     "text": [
      "Processing URL 2: other\n"
     ]
    },
    {
     "data": {
      "text/html": [
       "\n",
       "<style>\n",
       "    /* Turns off some styling */\n",
       "    progress {\n",
       "        /* gets rid of default border in Firefox and Opera. */\n",
       "        border: none;\n",
       "        /* Needs to be in here for Safari polyfill so background images work as expected. */\n",
       "        background-size: auto;\n",
       "    }\n",
       "    .progress-bar-interrupted, .progress-bar-interrupted::-webkit-progress-bar {\n",
       "        background: #F44336;\n",
       "    }\n",
       "</style>\n"
      ],
      "text/plain": [
       "<IPython.core.display.HTML object>"
      ]
     },
     "metadata": {},
     "output_type": "display_data"
    },
    {
     "data": {
      "text/html": [],
      "text/plain": [
       "<IPython.core.display.HTML object>"
      ]
     },
     "metadata": {},
     "output_type": "display_data"
    },
    {
     "name": "stdout",
     "output_type": "stream",
     "text": [
      "Processing URL 2: other\n"
     ]
    },
    {
     "data": {
      "text/html": [
       "\n",
       "<style>\n",
       "    /* Turns off some styling */\n",
       "    progress {\n",
       "        /* gets rid of default border in Firefox and Opera. */\n",
       "        border: none;\n",
       "        /* Needs to be in here for Safari polyfill so background images work as expected. */\n",
       "        background-size: auto;\n",
       "    }\n",
       "    .progress-bar-interrupted, .progress-bar-interrupted::-webkit-progress-bar {\n",
       "        background: #F44336;\n",
       "    }\n",
       "</style>\n"
      ],
      "text/plain": [
       "<IPython.core.display.HTML object>"
      ]
     },
     "metadata": {},
     "output_type": "display_data"
    },
    {
     "data": {
      "text/html": [],
      "text/plain": [
       "<IPython.core.display.HTML object>"
      ]
     },
     "metadata": {},
     "output_type": "display_data"
    },
    {
     "name": "stdout",
     "output_type": "stream",
     "text": [
      "Processing URL 2: other\n"
     ]
    },
    {
     "data": {
      "text/html": [
       "\n",
       "<style>\n",
       "    /* Turns off some styling */\n",
       "    progress {\n",
       "        /* gets rid of default border in Firefox and Opera. */\n",
       "        border: none;\n",
       "        /* Needs to be in here for Safari polyfill so background images work as expected. */\n",
       "        background-size: auto;\n",
       "    }\n",
       "    .progress-bar-interrupted, .progress-bar-interrupted::-webkit-progress-bar {\n",
       "        background: #F44336;\n",
       "    }\n",
       "</style>\n"
      ],
      "text/plain": [
       "<IPython.core.display.HTML object>"
      ]
     },
     "metadata": {},
     "output_type": "display_data"
    },
    {
     "data": {
      "text/html": [],
      "text/plain": [
       "<IPython.core.display.HTML object>"
      ]
     },
     "metadata": {},
     "output_type": "display_data"
    },
    {
     "name": "stdout",
     "output_type": "stream",
     "text": [
      "Processing URL 2: other\n"
     ]
    },
    {
     "data": {
      "text/html": [
       "\n",
       "<style>\n",
       "    /* Turns off some styling */\n",
       "    progress {\n",
       "        /* gets rid of default border in Firefox and Opera. */\n",
       "        border: none;\n",
       "        /* Needs to be in here for Safari polyfill so background images work as expected. */\n",
       "        background-size: auto;\n",
       "    }\n",
       "    .progress-bar-interrupted, .progress-bar-interrupted::-webkit-progress-bar {\n",
       "        background: #F44336;\n",
       "    }\n",
       "</style>\n"
      ],
      "text/plain": [
       "<IPython.core.display.HTML object>"
      ]
     },
     "metadata": {},
     "output_type": "display_data"
    },
    {
     "data": {
      "text/html": [],
      "text/plain": [
       "<IPython.core.display.HTML object>"
      ]
     },
     "metadata": {},
     "output_type": "display_data"
    },
    {
     "name": "stdout",
     "output_type": "stream",
     "text": [
      "Processing URL 2: other\n"
     ]
    },
    {
     "data": {
      "text/html": [
       "\n",
       "<style>\n",
       "    /* Turns off some styling */\n",
       "    progress {\n",
       "        /* gets rid of default border in Firefox and Opera. */\n",
       "        border: none;\n",
       "        /* Needs to be in here for Safari polyfill so background images work as expected. */\n",
       "        background-size: auto;\n",
       "    }\n",
       "    .progress-bar-interrupted, .progress-bar-interrupted::-webkit-progress-bar {\n",
       "        background: #F44336;\n",
       "    }\n",
       "</style>\n"
      ],
      "text/plain": [
       "<IPython.core.display.HTML object>"
      ]
     },
     "metadata": {},
     "output_type": "display_data"
    },
    {
     "data": {
      "text/html": [],
      "text/plain": [
       "<IPython.core.display.HTML object>"
      ]
     },
     "metadata": {},
     "output_type": "display_data"
    },
    {
     "name": "stdout",
     "output_type": "stream",
     "text": [
      "Processing URL 2: other\n"
     ]
    },
    {
     "ename": "KeyboardInterrupt",
     "evalue": "",
     "output_type": "error",
     "traceback": [
      "\u001b[0;31m---------------------------------------------------------------------------\u001b[0m",
      "\u001b[0;31mKeyboardInterrupt\u001b[0m                         Traceback (most recent call last)",
      "Input \u001b[0;32mIn [5]\u001b[0m, in \u001b[0;36m<cell line: 7>\u001b[0;34m()\u001b[0m\n\u001b[1;32m     19\u001b[0m found_transition \u001b[38;5;241m=\u001b[39m \u001b[38;5;28;01mFalse\u001b[39;00m\n\u001b[1;32m     21\u001b[0m \u001b[38;5;28;01mwhile\u001b[39;00m \u001b[38;5;28;01mTrue\u001b[39;00m:\n\u001b[0;32m---> 22\u001b[0m     \u001b[43mvideos\u001b[49m\u001b[38;5;241;43m.\u001b[39;49m\u001b[43mset\u001b[49m\u001b[43m(\u001b[49m\u001b[43mcv2\u001b[49m\u001b[38;5;241;43m.\u001b[39;49m\u001b[43mCAP_PROP_POS_FRAMES\u001b[49m\u001b[43m,\u001b[49m\u001b[43m \u001b[49m\u001b[43mframe_count\u001b[49m\u001b[43m \u001b[49m\u001b[38;5;241;43m*\u001b[39;49m\u001b[43m \u001b[49m\u001b[43mframes_interval\u001b[49m\u001b[43m)\u001b[49m\n\u001b[1;32m     24\u001b[0m     ret, frame \u001b[38;5;241m=\u001b[39m videos\u001b[38;5;241m.\u001b[39mread()\n\u001b[1;32m     25\u001b[0m     \u001b[38;5;28;01mif\u001b[39;00m \u001b[38;5;129;01mnot\u001b[39;00m ret:\n",
      "\u001b[0;31mKeyboardInterrupt\u001b[0m: "
     ]
    }
   ],
   "source": [
    "import csv\n",
    "import cv2\n",
    "\n",
    "# Load the model\n",
    "model = load_learner('/home/link-lap-24/jupyter_files/new/BHLhN2CJWCV2Ex7.pkl', cpu=True)\n",
    "\n",
    "with open(\"urls.csv\", \"r\") as file:\n",
    "    data = csv.reader(file)\n",
    "    \n",
    "    for name, row in enumerate(data):\n",
    "        urls = row[0]\n",
    "        videos = cv2.VideoCapture(urls)\n",
    "        \n",
    "        target_fps = 2\n",
    "        original_fps = videos.get(cv2.CAP_PROP_FPS)\n",
    "        frames_interval = round(original_fps / target_fps)\n",
    "        frame_count = 0\n",
    "\n",
    "        found_transition = False\n",
    "        \n",
    "        while True:\n",
    "            videos.set(cv2.CAP_PROP_POS_FRAMES, frame_count * frames_interval)\n",
    "            \n",
    "            ret, frame = videos.read()\n",
    "            if not ret:\n",
    "                break\n",
    "\n",
    "            cls, indx, pred = model.predict(frame)\n",
    "            idex_value=indx.tolist()\n",
    "            pred_score=round(pred.tolist()[idex_value], 5)*100\n",
    "            print(f\"Processing URL {name}: {cls}\")\n",
    "\n",
    "            if cls == \"transition\" and pred_score >75 :\n",
    "                found_transition = True\n",
    "                break  # check the statement\n",
    "            \n",
    "            frame_count += 1\n",
    "        \n",
    "        if found_transition:\n",
    "            with open(\"yes.csv\", \"a\", newline='') as ur:\n",
    "                writer = csv.writer(ur)\n",
    "                writer.writerow([urls])\n",
    "        else:\n",
    "            with open(\"no.csv\", \"a\", newline='') as ur2:\n",
    "                writer = csv.writer(ur2)\n",
    "                writer.writerow([urls])\n",
    "            \n"
   ]
  },
  {
   "cell_type": "code",
   "execution_count": 6,
   "id": "5f016751",
   "metadata": {},
   "outputs": [],
   "source": [
    "# import csv\n",
    "# import cv2\n",
    "# # from fastai.vision.all import load_learner\n",
    "\n",
    "# # Load the model\n",
    "# model = load_learner('/home/link-lap-24/jupyter_files/new/BHLhN2CJWCV2Ex7.pkl', cpu=True)\n",
    "\n",
    "# # Open the CSV file containing URLs\n",
    "# with open(\"urls.csv\", \"r\") as file:\n",
    "#     data = csv.reader(file)\n",
    "    \n",
    "#     # Process each URL in the CSV file\n",
    "#     for name, row in enumerate(data):\n",
    "#         urls = row[0]\n",
    "#         videos = cv2.VideoCapture(urls)\n",
    "        \n",
    "#         # Target frames per second for analysis\n",
    "#         target_fps = 2\n",
    "#         original_fps = videos.get(cv2.CAP_PROP_FPS)\n",
    "#         frames_interval = round(original_fps / target_fps)\n",
    "#         frame_count = 0\n",
    "\n",
    "#         found_transition = False\n",
    "#         while True:\n",
    "#             videos.set(cv2.CAP_PROP_POS_FRAMES, frame_count * frames_interval)\n",
    "            \n",
    "#             ret, frame = videos.read()\n",
    "#             if not ret:\n",
    "#                 break\n",
    "\n",
    "#             # Get the prediction from the model\n",
    "#             cls, indx, pred = model.predict(frame)\n",
    "#             idex_value = indx.tolist()\n",
    "#             pred_score = round(pred.tolist()[idex_value], 5) * 100\n",
    "            \n",
    "#             print(f\"Processing URL {name}: {cls} with confidence {pred_score}%\")\n",
    "\n",
    "#             # Check if the class is 'transition' and the confidence is greater than 80%\n",
    "#             if cls == \"transition\" and pred_score > 80:\n",
    "#                 found_transition = True\n",
    "#                 break\n",
    "            \n",
    "#             frame_count += 1\n",
    "        \n",
    "#         # Write the URL to the appropriate CSV file based on whether a transition was found\n",
    "#         if found_transition:\n",
    "#             with open(\"yes.csv\", \"a\", newline='') as ur:\n",
    "#                 writer = csv.writer(ur)\n",
    "#                 writer.writerow([urls])\n",
    "#         else:\n",
    "#             with open(\"no.csv\", \"a\", newline='') as ur2:\n",
    "#                 writer = csv.writer(ur2)\n",
    "#                 writer.writerow([urls])\n"
   ]
  },
  {
   "cell_type": "code",
   "execution_count": null,
   "id": "642b161e",
   "metadata": {},
   "outputs": [],
   "source": []
  }
 ],
 "metadata": {
  "colab": {
   "provenance": []
  },
  "kernelspec": {
   "display_name": "Python 3 (ipykernel)",
   "language": "python",
   "name": "python3"
  },
  "language_info": {
   "codemirror_mode": {
    "name": "ipython",
    "version": 3
   },
   "file_extension": ".py",
   "mimetype": "text/x-python",
   "name": "python",
   "nbconvert_exporter": "python",
   "pygments_lexer": "ipython3",
   "version": "3.8.10"
  }
 },
 "nbformat": 4,
 "nbformat_minor": 5
}
