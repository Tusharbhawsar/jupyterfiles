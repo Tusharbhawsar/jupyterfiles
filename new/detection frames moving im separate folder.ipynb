{
 "cells": [
  {
   "cell_type": "code",
   "execution_count": null,
   "id": "005ce58d",
   "metadata": {},
   "outputs": [],
   "source": [
    "import os\n",
    "import shutil\n",
    "import torch\n",
    "from PIL import Image\n",
    "\n",
    "# Assuming the models are loaded here\n",
    "# Load the ball detection model\n",
    "ball_model = torch.load('path_to_ball_model.pth')\n",
    "ball_model.eval()\n",
    "\n",
    "# Load the YOLOv5 model\n",
    "yolo_model = torch.hub.load('ultralytics/yolov5', 'custom', path='path_to_yolov5_model.pt')\n",
    "\n",
    "# Directories for saving images\n",
    "ball_dir = 'images/ball'\n",
    "other_dir = 'images/other'\n",
    "\n",
    "# Create directories if they don't exist\n",
    "os.makedirs(ball_dir, exist_ok=True)\n",
    "os.makedirs(other_dir, exist_ok=True)\n",
    "\n",
    "def classify_and_save_image(image_path):\n",
    "    # Load image\n",
    "    image = Image.open(image_path)\n",
    "    \n",
    "    # Inference with ball detection model\n",
    "    ball_input = transforms.ToTensor()(image).unsqueeze(0)\n",
    "    ball_output = ball_model(ball_input)\n",
    "    \n",
    "    # If the ball detection model confirms the presence of a ball\n",
    "    if ball_output.item() > 0.5:  # assuming the model output is a single scalar representing the probability\n",
    "        save_path = os.path.join(ball_dir, os.path.basename(image_path))\n",
    "    else:\n",
    "        # Inference with YOLOv5 model for other objects\n",
    "        results = yolo_model(image_path)\n",
    "        # If YOLO detects no objects, classify as 'other'\n",
    "        if len(results.xyxy[0]) == 0:\n",
    "            save_path = os.path.join(other_dir, os.path.basename(image_path))\n",
    "        else:\n",
    "            save_path = os.path.join(other_dir, os.path.basename(image_path))\n",
    "    \n",
    "    # Save the image to the appropriate directory\n",
    "    shutil.copy(image_path, save_path)\n",
    "\n",
    "# Example usage\n",
    "image_folder = 'path_to_images'\n",
    "for image_file in os.listdir(image_folder):\n",
    "    image_path = os.path.join(image_folder, image_file)\n",
    "    classify_and_save_image(image_path)\n"
   ]
  },
  {
   "cell_type": "code",
   "execution_count": 1,
   "id": "22fdf7da",
   "metadata": {},
   "outputs": [
    {
     "name": "stdout",
     "output_type": "stream",
     "text": [
      "/home/link-lap-24/jupyter_files/new\r\n"
     ]
    }
   ],
   "source": [
    "!pwd"
   ]
  },
  {
   "cell_type": "code",
   "execution_count": null,
   "id": "7aeebc4b",
   "metadata": {},
   "outputs": [],
   "source": []
  }
 ],
 "metadata": {
  "kernelspec": {
   "display_name": "Python 3 (ipykernel)",
   "language": "python",
   "name": "python3"
  },
  "language_info": {
   "codemirror_mode": {
    "name": "ipython",
    "version": 3
   },
   "file_extension": ".py",
   "mimetype": "text/x-python",
   "name": "python",
   "nbconvert_exporter": "python",
   "pygments_lexer": "ipython3",
   "version": "3.8.10"
  }
 },
 "nbformat": 4,
 "nbformat_minor": 5
}
