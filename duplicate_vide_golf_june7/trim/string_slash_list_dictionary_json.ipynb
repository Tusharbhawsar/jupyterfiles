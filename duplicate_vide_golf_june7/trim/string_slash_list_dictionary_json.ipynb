{
 "cells": [
  {
   "cell_type": "code",
   "execution_count": null,
   "id": "1916be27",
   "metadata": {},
   "outputs": [],
   "source": [
    "# strings are imutable for paritial variable directly we need spcific modul to change like .replace function"
   ]
  },
  {
   "cell_type": "code",
   "execution_count": 2,
   "id": "c1bd0f68",
   "metadata": {},
   "outputs": [
    {
     "name": "stdout",
     "output_type": "stream",
     "text": [
      "rotatonnA ataD a si rahsuT\n"
     ]
    }
   ],
   "source": [
    "tb='Tushar is a Data Annotator'\n",
    "\n",
    "print(tb[::-1])"
   ]
  },
  {
   "cell_type": "code",
   "execution_count": 3,
   "id": "94398a48",
   "metadata": {},
   "outputs": [
    {
     "data": {
      "text/plain": [
       "5"
      ]
     },
     "execution_count": 3,
     "metadata": {},
     "output_type": "execute_result"
    }
   ],
   "source": [
    "tb.count('a')"
   ]
  },
  {
   "cell_type": "code",
   "execution_count": 4,
   "id": "7ef3a4b5",
   "metadata": {},
   "outputs": [
    {
     "data": {
      "text/plain": [
       "'r'"
      ]
     },
     "execution_count": 4,
     "metadata": {},
     "output_type": "execute_result"
    }
   ],
   "source": [
    "tb[-1]"
   ]
  },
  {
   "cell_type": "code",
   "execution_count": 5,
   "id": "4086e015",
   "metadata": {},
   "outputs": [
    {
     "data": {
      "text/plain": [
       "1"
      ]
     },
     "execution_count": 5,
     "metadata": {},
     "output_type": "execute_result"
    }
   ],
   "source": [
    "tb.find('u')"
   ]
  },
  {
   "cell_type": "code",
   "execution_count": 6,
   "id": "051f6fd3",
   "metadata": {},
   "outputs": [
    {
     "data": {
      "text/plain": [
       "'tushar is a data annotator'"
      ]
     },
     "execution_count": 6,
     "metadata": {},
     "output_type": "execute_result"
    }
   ],
   "source": [
    "tb.lower()"
   ]
  },
  {
   "cell_type": "code",
   "execution_count": 7,
   "id": "b35f4c2a",
   "metadata": {},
   "outputs": [
    {
     "data": {
      "text/plain": [
       "'TUSHAR IS A DATA ANNOTATOR'"
      ]
     },
     "execution_count": 7,
     "metadata": {},
     "output_type": "execute_result"
    }
   ],
   "source": [
    "tb.upper()"
   ]
  },
  {
   "cell_type": "code",
   "execution_count": 8,
   "id": "477dd87c",
   "metadata": {},
   "outputs": [
    {
     "data": {
      "text/plain": [
       "'Krishna is a Data Annotator'"
      ]
     },
     "execution_count": 8,
     "metadata": {},
     "output_type": "execute_result"
    }
   ],
   "source": [
    "tb.replace('Tushar','Krishna')"
   ]
  },
  {
   "cell_type": "code",
   "execution_count": 15,
   "id": "6e553457",
   "metadata": {},
   "outputs": [],
   "source": [
    "cap = '/home/link-lap-24/Downloads/golf_june7/trim/input3.mp4'"
   ]
  },
  {
   "cell_type": "code",
   "execution_count": 16,
   "id": "343debbf",
   "metadata": {},
   "outputs": [
    {
     "data": {
      "text/plain": [
       "54"
      ]
     },
     "execution_count": 16,
     "metadata": {},
     "output_type": "execute_result"
    }
   ],
   "source": [
    "len(cap)"
   ]
  },
  {
   "cell_type": "code",
   "execution_count": 17,
   "id": "c810bc8b",
   "metadata": {},
   "outputs": [
    {
     "data": {
      "text/plain": [
       "-1"
      ]
     },
     "execution_count": 17,
     "metadata": {},
     "output_type": "execute_result"
    }
   ],
   "source": [
    "cap.find('input1.mp4')"
   ]
  },
  {
   "cell_type": "code",
   "execution_count": 18,
   "id": "805e3cae",
   "metadata": {},
   "outputs": [
    {
     "data": {
      "text/plain": [
       "'input3.mp4'"
      ]
     },
     "execution_count": 18,
     "metadata": {},
     "output_type": "execute_result"
    }
   ],
   "source": [
    "cap.replace('/home/link-lap-24/Downloads/golf_june7/trim/i','i')"
   ]
  },
  {
   "cell_type": "code",
   "execution_count": 5,
   "id": "916e5c94",
   "metadata": {},
   "outputs": [],
   "source": [
    "import os\n",
    "import glob"
   ]
  },
  {
   "cell_type": "code",
   "execution_count": 10,
   "id": "1bd38502",
   "metadata": {},
   "outputs": [
    {
     "data": {
      "text/plain": [
       "'/home/link-lap-24/Downloads/golf_june7'"
      ]
     },
     "execution_count": 10,
     "metadata": {},
     "output_type": "execute_result"
    }
   ],
   "source": [
    "path='/home/link-lap-24/Downloads/golf_june7'\n",
    "path"
   ]
  },
  {
   "cell_type": "code",
   "execution_count": 25,
   "id": "9ffba735",
   "metadata": {},
   "outputs": [],
   "source": [
    "ppp=os.listdir(path)\n",
    "ppp[11]='ritik.txt'"
   ]
  },
  {
   "cell_type": "code",
   "execution_count": 46,
   "id": "0441fba4",
   "metadata": {},
   "outputs": [
    {
     "data": {
      "text/plain": [
       "['golf.mp4',\n",
       " 'input14.mp4',\n",
       " 'input5.mp4',\n",
       " 'input6.mp4',\n",
       " 'output8',\n",
       " 'input7.mp4',\n",
       " 'input16.mp4',\n",
       " 'txll2WD2envTQYr (1).pt',\n",
       " 'trim',\n",
       " 'projet',\n",
       " 'exp-20220708T130744Z-001',\n",
       " 'ritik.txt',\n",
       " 'input15.mp4',\n",
       " 'output9',\n",
       " 'input8.mp4',\n",
       " 'out_july8.mp4']"
      ]
     },
     "execution_count": 46,
     "metadata": {},
     "output_type": "execute_result"
    }
   ],
   "source": [
    "ppp"
   ]
  },
  {
   "cell_type": "code",
   "execution_count": 18,
   "id": "271abb16",
   "metadata": {},
   "outputs": [
    {
     "data": {
      "text/plain": [
       "('tushar', 'bhawsar')"
      ]
     },
     "execution_count": 18,
     "metadata": {},
     "output_type": "execute_result"
    }
   ],
   "source": [
    "data='tushar','bhawsar'\n",
    "data"
   ]
  },
  {
   "cell_type": "code",
   "execution_count": 42,
   "id": "baf38343",
   "metadata": {},
   "outputs": [
    {
     "data": {
      "text/plain": [
       "True"
      ]
     },
     "execution_count": 42,
     "metadata": {},
     "output_type": "execute_result"
    }
   ],
   "source": [
    "dat=['tushar','bhawsar']\n",
    "\n",
    "'tushar' in dat"
   ]
  },
  {
   "cell_type": "code",
   "execution_count": 38,
   "id": "f1be84b7",
   "metadata": {},
   "outputs": [],
   "source": [
    "dat.insert(1,'sharma')"
   ]
  },
  {
   "cell_type": "code",
   "execution_count": 39,
   "id": "87fa5df6",
   "metadata": {},
   "outputs": [
    {
     "data": {
      "text/plain": [
       "['tushar', 'sharma', 'sharma', 'bhawsar']"
      ]
     },
     "execution_count": 39,
     "metadata": {},
     "output_type": "execute_result"
    }
   ],
   "source": [
    "dat"
   ]
  },
  {
   "cell_type": "code",
   "execution_count": 35,
   "id": "4089e4de",
   "metadata": {},
   "outputs": [
    {
     "data": {
      "text/plain": [
       "['tushar', 'bhawsar', 'ritik', 'ritik', 'ritik', 'ritik', 'ritik']"
      ]
     },
     "execution_count": 35,
     "metadata": {},
     "output_type": "execute_result"
    }
   ],
   "source": [
    "dat.append('ritik')\n",
    "dat"
   ]
  },
  {
   "cell_type": "code",
   "execution_count": 27,
   "id": "8454737c",
   "metadata": {},
   "outputs": [
    {
     "data": {
      "text/plain": [
       "'bhawsar'"
      ]
     },
     "execution_count": 27,
     "metadata": {},
     "output_type": "execute_result"
    }
   ],
   "source": [
    "data[-1]"
   ]
  },
  {
   "cell_type": "code",
   "execution_count": 29,
   "id": "3bd7db9d",
   "metadata": {},
   "outputs": [
    {
     "data": {
      "text/plain": [
       "'bhaw'"
      ]
     },
     "execution_count": 29,
     "metadata": {},
     "output_type": "execute_result"
    }
   ],
   "source": [
    "df='bhawsar'\n",
    "df[0:4]"
   ]
  },
  {
   "cell_type": "code",
   "execution_count": 3,
   "id": "69463788",
   "metadata": {},
   "outputs": [
    {
     "data": {
      "text/plain": [
       "'i'"
      ]
     },
     "execution_count": 3,
     "metadata": {},
     "output_type": "execute_result"
    }
   ],
   "source": [
    "df2='ritik'\n",
    "df2[3]"
   ]
  },
  {
   "cell_type": "code",
   "execution_count": 2,
   "id": "8eb9dfab",
   "metadata": {},
   "outputs": [
    {
     "data": {
      "text/plain": [
       "'ritik'"
      ]
     },
     "execution_count": 2,
     "metadata": {},
     "output_type": "execute_result"
    }
   ],
   "source": [
    "df2"
   ]
  },
  {
   "cell_type": "code",
   "execution_count": 36,
   "id": "9dfe5c50",
   "metadata": {
    "scrolled": true
   },
   "outputs": [
    {
     "data": {
      "text/plain": [
       "'ritikbhawsar'"
      ]
     },
     "execution_count": 36,
     "metadata": {},
     "output_type": "execute_result"
    }
   ],
   "source": [
    "df2+df"
   ]
  },
  {
   "cell_type": "code",
   "execution_count": 38,
   "id": "626d5791",
   "metadata": {},
   "outputs": [],
   "source": [
    "tb='bhawsar'\n",
    "score=50"
   ]
  },
  {
   "cell_type": "code",
   "execution_count": 40,
   "id": "fb96959d",
   "metadata": {},
   "outputs": [
    {
     "ename": "TypeError",
     "evalue": "can only concatenate str (not \"int\") to str",
     "output_type": "error",
     "traceback": [
      "\u001b[0;31m---------------------------------------------------------------------------\u001b[0m",
      "\u001b[0;31mTypeError\u001b[0m                                 Traceback (most recent call last)",
      "Input \u001b[0;32mIn [40]\u001b[0m, in \u001b[0;36m<cell line: 1>\u001b[0;34m()\u001b[0m\n\u001b[0;32m----> 1\u001b[0m \u001b[43mtb\u001b[49m\u001b[38;5;241;43m+\u001b[39;49m\u001b[43mscore\u001b[49m\n",
      "\u001b[0;31mTypeError\u001b[0m: can only concatenate str (not \"int\") to str"
     ]
    }
   ],
   "source": [
    "tb+score   #we cant not join sting and no both so we need to convert to num into str"
   ]
  },
  {
   "cell_type": "code",
   "execution_count": 42,
   "id": "07663061",
   "metadata": {},
   "outputs": [],
   "source": [
    "num=str(score)"
   ]
  },
  {
   "cell_type": "code",
   "execution_count": 43,
   "id": "04c4c82e",
   "metadata": {},
   "outputs": [
    {
     "data": {
      "text/plain": [
       "'50bhawsar'"
      ]
     },
     "execution_count": 43,
     "metadata": {},
     "output_type": "execute_result"
    }
   ],
   "source": [
    "num+tb"
   ]
  },
  {
   "cell_type": "code",
   "execution_count": 31,
   "id": "d441ba45",
   "metadata": {},
   "outputs": [
    {
     "data": {
      "text/plain": [
       "'bhaw'"
      ]
     },
     "execution_count": 31,
     "metadata": {},
     "output_type": "execute_result"
    }
   ],
   "source": [
    "df[:4]  #if we didn't mention the 0 it will take automatically as 0"
   ]
  },
  {
   "cell_type": "code",
   "execution_count": 21,
   "id": "4ae30606",
   "metadata": {},
   "outputs": [
    {
     "data": {
      "text/plain": [
       "['/home/link-lap-24/Downloads/golf_june7/trim/input3.mp4',\n",
       " '/home/link-lap-24/Downloads/golf_june7/trim/input1.mp4',\n",
       " '/home/link-lap-24/Downloads/golf_june7/trim/input2.mp4',\n",
       " '/home/link-lap-24/Downloads/golf_june7/trim/input4.mp4']"
      ]
     },
     "execution_count": 21,
     "metadata": {},
     "output_type": "execute_result"
    }
   ],
   "source": [
    "path"
   ]
  },
  {
   "cell_type": "code",
   "execution_count": 22,
   "id": "42057b25",
   "metadata": {},
   "outputs": [
    {
     "ename": "SyntaxError",
     "evalue": "invalid syntax (3317612342.py, line 2)",
     "output_type": "error",
     "traceback": [
      "\u001b[0;36m  Input \u001b[0;32mIn [22]\u001b[0;36m\u001b[0m\n\u001b[0;31m    print(str(i).split(trim/))\u001b[0m\n\u001b[0m                            ^\u001b[0m\n\u001b[0;31mSyntaxError\u001b[0m\u001b[0;31m:\u001b[0m invalid syntax\n"
     ]
    }
   ],
   "source": [
    "for i in path:\n",
    "    print(str(i).split(trim/))"
   ]
  },
  {
   "cell_type": "code",
   "execution_count": 3,
   "id": "8a2d656a",
   "metadata": {},
   "outputs": [
    {
     "name": "stdout",
     "output_type": "stream",
     "text": [
      "'\n"
     ]
    }
   ],
   "source": [
    "print('\\'')"
   ]
  },
  {
   "cell_type": "code",
   "execution_count": 4,
   "id": "13788115",
   "metadata": {},
   "outputs": [
    {
     "name": "stdout",
     "output_type": "stream",
     "text": [
      "tushar works in magnifi\n"
     ]
    }
   ],
   "source": [
    "s='tushar works in magnifi'\n",
    "print(s)"
   ]
  },
  {
   "cell_type": "code",
   "execution_count": 8,
   "id": "0d06efb4",
   "metadata": {},
   "outputs": [],
   "source": [
    "p='tushar \\\n",
    "works \\\n",
    "magnifi'"
   ]
  },
  {
   "cell_type": "code",
   "execution_count": 9,
   "id": "5a388c25",
   "metadata": {},
   "outputs": [
    {
     "data": {
      "text/plain": [
       "'tushar works magnifi'"
      ]
     },
     "execution_count": 9,
     "metadata": {},
     "output_type": "execute_result"
    }
   ],
   "source": [
    "p"
   ]
  },
  {
   "cell_type": "code",
   "execution_count": 13,
   "id": "6e503f52",
   "metadata": {},
   "outputs": [],
   "source": [
    "t='''tushar\n",
    "works\n",
    "magnifi'''"
   ]
  },
  {
   "cell_type": "code",
   "execution_count": 14,
   "id": "f3497454",
   "metadata": {},
   "outputs": [
    {
     "data": {
      "text/plain": [
       "'tushar\\nworks\\nmagnifi'"
      ]
     },
     "execution_count": 14,
     "metadata": {},
     "output_type": "execute_result"
    }
   ],
   "source": [
    "t"
   ]
  },
  {
   "cell_type": "code",
   "execution_count": 2,
   "id": "0b4d910a",
   "metadata": {},
   "outputs": [
    {
     "name": "stdout",
     "output_type": "stream",
     "text": [
      "{'tushar': 'Data Annotator', 'Manish sir': 'Ml Enginere', 'Prabhat': 'ML Enginere', 'jay sir': {'Ml': 'coding', 'Data': 'Data Checking'}}\n"
     ]
    }
   ],
   "source": [
    "d2={'tushar':'Data Annotator',\n",
    "   \"Manish sir\":\"Ml Enginere\",\n",
    "   \"Prabhat\":\"ML Enginere\",\n",
    "   \"jay sir\":{\"Ml\":\"coding\",\"Data\":'Data Checking'}}\n",
    "print(d2)"
   ]
  },
  {
   "cell_type": "code",
   "execution_count": 4,
   "id": "f2020b28",
   "metadata": {},
   "outputs": [
    {
     "name": "stdout",
     "output_type": "stream",
     "text": [
      "{'tushar': 'Data Annotator', 'Manish sir': 'Ml Enginere', 'Prabhat': 'ML Enginere', 'jay sir': {'Ml': 'coding', 'Data': 'Data Checking'}, 'deepak': 'Data Annotator', 'krishna': 'Data Annotator'}\n"
     ]
    }
   ],
   "source": [
    "d2['deepak']='Data Annotator'\n",
    "d2['krishna']='Data Annotator'\n",
    "\n",
    "print(d2)"
   ]
  },
  {
   "cell_type": "code",
   "execution_count": 11,
   "id": "f63ce076",
   "metadata": {},
   "outputs": [],
   "source": [
    "del d2['deepak']"
   ]
  },
  {
   "cell_type": "code",
   "execution_count": 12,
   "id": "f2f18dee",
   "metadata": {},
   "outputs": [
    {
     "data": {
      "text/plain": [
       "{'tushar': 'Data Annotator',\n",
       " 'Manish': 'Ml Enginere',\n",
       " 'Prabhat': 'ML Enginere',\n",
       " 'jay': {'Ml': 'coding', 'Data': 'Data Checking'},\n",
       " 'krishna': 'Data Annotator'}"
      ]
     },
     "execution_count": 12,
     "metadata": {},
     "output_type": "execute_result"
    }
   ],
   "source": [
    "d2"
   ]
  },
  {
   "cell_type": "code",
   "execution_count": 61,
   "id": "aa85d714",
   "metadata": {},
   "outputs": [],
   "source": [
    "book ={}\n",
    "\n",
    "book['emp1']={\n",
    "    'name':'tushar',\n",
    "    'address':'akhand nagar',\n",
    "    'contact':'123456'\n",
    "}"
   ]
  },
  {
   "cell_type": "code",
   "execution_count": 62,
   "id": "c2b578a8",
   "metadata": {},
   "outputs": [
    {
     "data": {
      "text/plain": [
       "{'emp1': {'name': 'tushar', 'address': 'akhand nagar', 'contact': '123456'}}"
      ]
     },
     "execution_count": 62,
     "metadata": {},
     "output_type": "execute_result"
    }
   ],
   "source": [
    "book"
   ]
  },
  {
   "cell_type": "code",
   "execution_count": 63,
   "id": "cb1735e7",
   "metadata": {},
   "outputs": [],
   "source": [
    "book['emp2']={\n",
    "    'name':'ritik',\n",
    "    'address':'akhand nagar',\n",
    "    'contact':'978545'\n",
    "}                                      # it's a dictionary format"
   ]
  },
  {
   "cell_type": "code",
   "execution_count": 2,
   "id": "dab41885",
   "metadata": {},
   "outputs": [],
   "source": [
    "# dff=book\n",
    "# dff"
   ]
  },
  {
   "cell_type": "code",
   "execution_count": 9,
   "id": "55c7f53a",
   "metadata": {},
   "outputs": [],
   "source": [
    "\n",
    "imagehash={}\n",
    "\n",
    "\n",
    "imagehash['video1']={'imag1':4545456,'image':454894984897,\"image3\":54897878}"
   ]
  },
  {
   "cell_type": "code",
   "execution_count": 13,
   "id": "9d027cb5",
   "metadata": {},
   "outputs": [
    {
     "data": {
      "text/plain": [
       "{'video1': {'imag1': 4545456, 'image': 454894984897, 'image3': 54897878}}"
      ]
     },
     "execution_count": 13,
     "metadata": {},
     "output_type": "execute_result"
    }
   ],
   "source": [
    "imagehash"
   ]
  },
  {
   "cell_type": "code",
   "execution_count": 12,
   "id": "802e456c",
   "metadata": {},
   "outputs": [
    {
     "data": {
      "text/plain": [
       "'{\"video1\": {\"imag1\": 4545456, \"image\": 454894984897, \"image3\": 54897878}}'"
      ]
     },
     "execution_count": 12,
     "metadata": {},
     "output_type": "execute_result"
    }
   ],
   "source": [
    "imagehash\n",
    "\n",
    "json.dumps(imagehash)"
   ]
  },
  {
   "cell_type": "code",
   "execution_count": 27,
   "id": "70530368",
   "metadata": {},
   "outputs": [],
   "source": [
    "# import glob\n",
    "\n",
    "# def images(path):\n",
    "    \n",
    "#     addding={}\n",
    "#     full_path=glob.glob(path + '*.jpg')\n",
    "    \n",
    "# #     clip_img=full_path.split('/')[-1]\n",
    "    \n",
    "#     for i in full_path:\n",
    "#         print(addding=i)\n",
    "        \n",
    "    \n",
    "\n",
    "# path =\"/home/link-lap-24/Downloads/golf_june7/projet/input_data/input10/\"\n"
   ]
  },
  {
   "cell_type": "code",
   "execution_count": 44,
   "id": "2223ce3c",
   "metadata": {},
   "outputs": [
    {
     "data": {
      "text/plain": [
       "list"
      ]
     },
     "execution_count": 44,
     "metadata": {},
     "output_type": "execute_result"
    }
   ],
   "source": [
    "tushr = glob.glob('/home/link-lap-24/Downloads/golf_june7/projet/input_data/input10/*.jpg')\n",
    "type(tushr)"
   ]
  },
  {
   "cell_type": "code",
   "execution_count": 47,
   "id": "6d8defdb",
   "metadata": {},
   "outputs": [
    {
     "data": {
      "text/plain": [
       "{'/home/link-lap-24/Downloads/golf_june7/projet/input_data/input10/2video50.jpg': '/home/link-lap-24/Downloads/golf_june7/projet/input_data/input10/2video30.jpg',\n",
       " '/home/link-lap-24/Downloads/golf_june7/projet/input_data/input10/2video63.jpg': '/home/link-lap-24/Downloads/golf_june7/projet/input_data/input10/2video44.jpg',\n",
       " '/home/link-lap-24/Downloads/golf_june7/projet/input_data/input10/2video3.jpg': '/home/link-lap-24/Downloads/golf_june7/projet/input_data/input10/2video27.jpg',\n",
       " '/home/link-lap-24/Downloads/golf_june7/projet/input_data/input10/2video48.jpg': '/home/link-lap-24/Downloads/golf_june7/projet/input_data/input10/2video36.jpg',\n",
       " '/home/link-lap-24/Downloads/golf_june7/projet/input_data/input10/2video26.jpg': '/home/link-lap-24/Downloads/golf_june7/projet/input_data/input10/2video49.jpg',\n",
       " '/home/link-lap-24/Downloads/golf_june7/projet/input_data/input10/2video5.jpg': '/home/link-lap-24/Downloads/golf_june7/projet/input_data/input10/2video54.jpg',\n",
       " '/home/link-lap-24/Downloads/golf_june7/projet/input_data/input10/2video58.jpg': '/home/link-lap-24/Downloads/golf_june7/projet/input_data/input10/2video42.jpg',\n",
       " '/home/link-lap-24/Downloads/golf_june7/projet/input_data/input10/2video2.jpg': '/home/link-lap-24/Downloads/golf_june7/projet/input_data/input10/2video53.jpg',\n",
       " '/home/link-lap-24/Downloads/golf_june7/projet/input_data/input10/2video46.jpg': '/home/link-lap-24/Downloads/golf_june7/projet/input_data/input10/2video69.jpg',\n",
       " '/home/link-lap-24/Downloads/golf_june7/projet/input_data/input10/2video23.jpg': '/home/link-lap-24/Downloads/golf_june7/projet/input_data/input10/2video11.jpg',\n",
       " '/home/link-lap-24/Downloads/golf_june7/projet/input_data/input10/2video51.jpg': '/home/link-lap-24/Downloads/golf_june7/projet/input_data/input10/2video68.jpg',\n",
       " '/home/link-lap-24/Downloads/golf_june7/projet/input_data/input10/2video43.jpg': '/home/link-lap-24/Downloads/golf_june7/projet/input_data/input10/2video1.jpg',\n",
       " '/home/link-lap-24/Downloads/golf_june7/projet/input_data/input10/2video52.jpg': '/home/link-lap-24/Downloads/golf_june7/projet/input_data/input10/2video47.jpg',\n",
       " '/home/link-lap-24/Downloads/golf_june7/projet/input_data/input10/2video66.jpg': '/home/link-lap-24/Downloads/golf_june7/projet/input_data/input10/2video7.jpg',\n",
       " '/home/link-lap-24/Downloads/golf_june7/projet/input_data/input10/2video40.jpg': '/home/link-lap-24/Downloads/golf_june7/projet/input_data/input10/2video35.jpg',\n",
       " '/home/link-lap-24/Downloads/golf_june7/projet/input_data/input10/2video21.jpg': '/home/link-lap-24/Downloads/golf_june7/projet/input_data/input10/2video59.jpg',\n",
       " '/home/link-lap-24/Downloads/golf_june7/projet/input_data/input10/2video37.jpg': '/home/link-lap-24/Downloads/golf_june7/projet/input_data/input10/2video29.jpg',\n",
       " '/home/link-lap-24/Downloads/golf_june7/projet/input_data/input10/2video28.jpg': '/home/link-lap-24/Downloads/golf_june7/projet/input_data/input10/2video24.jpg',\n",
       " '/home/link-lap-24/Downloads/golf_june7/projet/input_data/input10/2video14.jpg': '/home/link-lap-24/Downloads/golf_june7/projet/input_data/input10/2video45.jpg',\n",
       " '/home/link-lap-24/Downloads/golf_june7/projet/input_data/input10/2video17.jpg': '/home/link-lap-24/Downloads/golf_june7/projet/input_data/input10/2video34.jpg',\n",
       " '/home/link-lap-24/Downloads/golf_june7/projet/input_data/input10/2video67.jpg': '/home/link-lap-24/Downloads/golf_june7/projet/input_data/input10/2video20.jpg',\n",
       " '/home/link-lap-24/Downloads/golf_june7/projet/input_data/input10/2video60.jpg': '/home/link-lap-24/Downloads/golf_june7/projet/input_data/input10/2video13.jpg',\n",
       " '/home/link-lap-24/Downloads/golf_june7/projet/input_data/input10/2video41.jpg': '/home/link-lap-24/Downloads/golf_june7/projet/input_data/input10/2video22.jpg',\n",
       " '/home/link-lap-24/Downloads/golf_june7/projet/input_data/input10/2video6.jpg': '/home/link-lap-24/Downloads/golf_june7/projet/input_data/input10/2video12.jpg',\n",
       " '/home/link-lap-24/Downloads/golf_june7/projet/input_data/input10/2video64.jpg': '/home/link-lap-24/Downloads/golf_june7/projet/input_data/input10/2video38.jpg',\n",
       " '/home/link-lap-24/Downloads/golf_june7/projet/input_data/input10/2video10.jpg': '/home/link-lap-24/Downloads/golf_june7/projet/input_data/input10/2video57.jpg',\n",
       " '/home/link-lap-24/Downloads/golf_june7/projet/input_data/input10/2video16.jpg': '/home/link-lap-24/Downloads/golf_june7/projet/input_data/input10/2video39.jpg',\n",
       " '/home/link-lap-24/Downloads/golf_june7/projet/input_data/input10/2video55.jpg': '/home/link-lap-24/Downloads/golf_june7/projet/input_data/input10/2video65.jpg',\n",
       " '/home/link-lap-24/Downloads/golf_june7/projet/input_data/input10/2video19.jpg': '/home/link-lap-24/Downloads/golf_june7/projet/input_data/input10/2video70.jpg',\n",
       " '/home/link-lap-24/Downloads/golf_june7/projet/input_data/input10/2video15.jpg': '/home/link-lap-24/Downloads/golf_june7/projet/input_data/input10/2video8.jpg',\n",
       " '/home/link-lap-24/Downloads/golf_june7/projet/input_data/input10/2video62.jpg': '/home/link-lap-24/Downloads/golf_june7/projet/input_data/input10/2video32.jpg',\n",
       " '/home/link-lap-24/Downloads/golf_june7/projet/input_data/input10/2video9.jpg': '/home/link-lap-24/Downloads/golf_june7/projet/input_data/input10/2video56.jpg',\n",
       " '/home/link-lap-24/Downloads/golf_june7/projet/input_data/input10/2video4.jpg': '/home/link-lap-24/Downloads/golf_june7/projet/input_data/input10/2video33.jpg',\n",
       " '/home/link-lap-24/Downloads/golf_june7/projet/input_data/input10/2video61.jpg': '/home/link-lap-24/Downloads/golf_june7/projet/input_data/input10/2video31.jpg',\n",
       " '/home/link-lap-24/Downloads/golf_june7/projet/input_data/input10/2video25.jpg': '/home/link-lap-24/Downloads/golf_june7/projet/input_data/input10/2video18.jpg'}"
      ]
     },
     "execution_count": 47,
     "metadata": {},
     "output_type": "execute_result"
    }
   ],
   "source": [
    "lst=tushr\n",
    "\n",
    "Convert(lst)"
   ]
  },
  {
   "cell_type": "code",
   "execution_count": 48,
   "id": "8a468303",
   "metadata": {},
   "outputs": [
    {
     "name": "stdout",
     "output_type": "stream",
     "text": [
      "{'/home/link-lap-24/Downloads/golf_june7/projet/input_data/input10/2video50.jpg': '/home/link-lap-24/Downloads/golf_june7/projet/input_data/input10/2video30.jpg', '/home/link-lap-24/Downloads/golf_june7/projet/input_data/input10/2video63.jpg': '/home/link-lap-24/Downloads/golf_june7/projet/input_data/input10/2video44.jpg', '/home/link-lap-24/Downloads/golf_june7/projet/input_data/input10/2video3.jpg': '/home/link-lap-24/Downloads/golf_june7/projet/input_data/input10/2video27.jpg', '/home/link-lap-24/Downloads/golf_june7/projet/input_data/input10/2video48.jpg': '/home/link-lap-24/Downloads/golf_june7/projet/input_data/input10/2video36.jpg', '/home/link-lap-24/Downloads/golf_june7/projet/input_data/input10/2video26.jpg': '/home/link-lap-24/Downloads/golf_june7/projet/input_data/input10/2video49.jpg', '/home/link-lap-24/Downloads/golf_june7/projet/input_data/input10/2video5.jpg': '/home/link-lap-24/Downloads/golf_june7/projet/input_data/input10/2video54.jpg', '/home/link-lap-24/Downloads/golf_june7/projet/input_data/input10/2video58.jpg': '/home/link-lap-24/Downloads/golf_june7/projet/input_data/input10/2video42.jpg', '/home/link-lap-24/Downloads/golf_june7/projet/input_data/input10/2video2.jpg': '/home/link-lap-24/Downloads/golf_june7/projet/input_data/input10/2video53.jpg', '/home/link-lap-24/Downloads/golf_june7/projet/input_data/input10/2video46.jpg': '/home/link-lap-24/Downloads/golf_june7/projet/input_data/input10/2video69.jpg', '/home/link-lap-24/Downloads/golf_june7/projet/input_data/input10/2video23.jpg': '/home/link-lap-24/Downloads/golf_june7/projet/input_data/input10/2video11.jpg', '/home/link-lap-24/Downloads/golf_june7/projet/input_data/input10/2video51.jpg': '/home/link-lap-24/Downloads/golf_june7/projet/input_data/input10/2video68.jpg', '/home/link-lap-24/Downloads/golf_june7/projet/input_data/input10/2video43.jpg': '/home/link-lap-24/Downloads/golf_june7/projet/input_data/input10/2video1.jpg', '/home/link-lap-24/Downloads/golf_june7/projet/input_data/input10/2video52.jpg': '/home/link-lap-24/Downloads/golf_june7/projet/input_data/input10/2video47.jpg', '/home/link-lap-24/Downloads/golf_june7/projet/input_data/input10/2video66.jpg': '/home/link-lap-24/Downloads/golf_june7/projet/input_data/input10/2video7.jpg', '/home/link-lap-24/Downloads/golf_june7/projet/input_data/input10/2video40.jpg': '/home/link-lap-24/Downloads/golf_june7/projet/input_data/input10/2video35.jpg', '/home/link-lap-24/Downloads/golf_june7/projet/input_data/input10/2video21.jpg': '/home/link-lap-24/Downloads/golf_june7/projet/input_data/input10/2video59.jpg', '/home/link-lap-24/Downloads/golf_june7/projet/input_data/input10/2video37.jpg': '/home/link-lap-24/Downloads/golf_june7/projet/input_data/input10/2video29.jpg', '/home/link-lap-24/Downloads/golf_june7/projet/input_data/input10/2video28.jpg': '/home/link-lap-24/Downloads/golf_june7/projet/input_data/input10/2video24.jpg', '/home/link-lap-24/Downloads/golf_june7/projet/input_data/input10/2video14.jpg': '/home/link-lap-24/Downloads/golf_june7/projet/input_data/input10/2video45.jpg', '/home/link-lap-24/Downloads/golf_june7/projet/input_data/input10/2video17.jpg': '/home/link-lap-24/Downloads/golf_june7/projet/input_data/input10/2video34.jpg', '/home/link-lap-24/Downloads/golf_june7/projet/input_data/input10/2video67.jpg': '/home/link-lap-24/Downloads/golf_june7/projet/input_data/input10/2video20.jpg', '/home/link-lap-24/Downloads/golf_june7/projet/input_data/input10/2video60.jpg': '/home/link-lap-24/Downloads/golf_june7/projet/input_data/input10/2video13.jpg', '/home/link-lap-24/Downloads/golf_june7/projet/input_data/input10/2video41.jpg': '/home/link-lap-24/Downloads/golf_june7/projet/input_data/input10/2video22.jpg', '/home/link-lap-24/Downloads/golf_june7/projet/input_data/input10/2video6.jpg': '/home/link-lap-24/Downloads/golf_june7/projet/input_data/input10/2video12.jpg', '/home/link-lap-24/Downloads/golf_june7/projet/input_data/input10/2video64.jpg': '/home/link-lap-24/Downloads/golf_june7/projet/input_data/input10/2video38.jpg', '/home/link-lap-24/Downloads/golf_june7/projet/input_data/input10/2video10.jpg': '/home/link-lap-24/Downloads/golf_june7/projet/input_data/input10/2video57.jpg', '/home/link-lap-24/Downloads/golf_june7/projet/input_data/input10/2video16.jpg': '/home/link-lap-24/Downloads/golf_june7/projet/input_data/input10/2video39.jpg', '/home/link-lap-24/Downloads/golf_june7/projet/input_data/input10/2video55.jpg': '/home/link-lap-24/Downloads/golf_june7/projet/input_data/input10/2video65.jpg', '/home/link-lap-24/Downloads/golf_june7/projet/input_data/input10/2video19.jpg': '/home/link-lap-24/Downloads/golf_june7/projet/input_data/input10/2video70.jpg', '/home/link-lap-24/Downloads/golf_june7/projet/input_data/input10/2video15.jpg': '/home/link-lap-24/Downloads/golf_june7/projet/input_data/input10/2video8.jpg', '/home/link-lap-24/Downloads/golf_june7/projet/input_data/input10/2video62.jpg': '/home/link-lap-24/Downloads/golf_june7/projet/input_data/input10/2video32.jpg', '/home/link-lap-24/Downloads/golf_june7/projet/input_data/input10/2video9.jpg': '/home/link-lap-24/Downloads/golf_june7/projet/input_data/input10/2video56.jpg', '/home/link-lap-24/Downloads/golf_june7/projet/input_data/input10/2video4.jpg': '/home/link-lap-24/Downloads/golf_june7/projet/input_data/input10/2video33.jpg', '/home/link-lap-24/Downloads/golf_june7/projet/input_data/input10/2video61.jpg': '/home/link-lap-24/Downloads/golf_june7/projet/input_data/input10/2video31.jpg', '/home/link-lap-24/Downloads/golf_june7/projet/input_data/input10/2video25.jpg': '/home/link-lap-24/Downloads/golf_june7/projet/input_data/input10/2video18.jpg'}\n"
     ]
    }
   ],
   "source": [
    "# Python3 program to Convert a\n",
    "# list to dictionary\n",
    "\n",
    "def Convert(a):\n",
    "    it = iter(a)\n",
    "    res_dct = dict(zip(it, it))\n",
    "    return res_dct\n",
    "\n",
    "# Driver code\n",
    "lst = tushr\n",
    "print(Convert(lst))\n"
   ]
  },
  {
   "cell_type": "code",
   "execution_count": 43,
   "id": "f80a8d43",
   "metadata": {},
   "outputs": [
    {
     "data": {
      "text/plain": [
       "{'video1': ['/home/link-lap-24/Downloads/golf_june7/projet/input_data/input10/2video50.jpg',\n",
       "  '/home/link-lap-24/Downloads/golf_june7/projet/input_data/input10/2video30.jpg',\n",
       "  '/home/link-lap-24/Downloads/golf_june7/projet/input_data/input10/2video63.jpg',\n",
       "  '/home/link-lap-24/Downloads/golf_june7/projet/input_data/input10/2video44.jpg',\n",
       "  '/home/link-lap-24/Downloads/golf_june7/projet/input_data/input10/2video3.jpg',\n",
       "  '/home/link-lap-24/Downloads/golf_june7/projet/input_data/input10/2video27.jpg',\n",
       "  '/home/link-lap-24/Downloads/golf_june7/projet/input_data/input10/2video48.jpg',\n",
       "  '/home/link-lap-24/Downloads/golf_june7/projet/input_data/input10/2video36.jpg',\n",
       "  '/home/link-lap-24/Downloads/golf_june7/projet/input_data/input10/2video26.jpg',\n",
       "  '/home/link-lap-24/Downloads/golf_june7/projet/input_data/input10/2video49.jpg',\n",
       "  '/home/link-lap-24/Downloads/golf_june7/projet/input_data/input10/2video5.jpg',\n",
       "  '/home/link-lap-24/Downloads/golf_june7/projet/input_data/input10/2video54.jpg',\n",
       "  '/home/link-lap-24/Downloads/golf_june7/projet/input_data/input10/2video58.jpg',\n",
       "  '/home/link-lap-24/Downloads/golf_june7/projet/input_data/input10/2video42.jpg',\n",
       "  '/home/link-lap-24/Downloads/golf_june7/projet/input_data/input10/2video2.jpg',\n",
       "  '/home/link-lap-24/Downloads/golf_june7/projet/input_data/input10/2video53.jpg',\n",
       "  '/home/link-lap-24/Downloads/golf_june7/projet/input_data/input10/2video46.jpg',\n",
       "  '/home/link-lap-24/Downloads/golf_june7/projet/input_data/input10/2video69.jpg',\n",
       "  '/home/link-lap-24/Downloads/golf_june7/projet/input_data/input10/2video23.jpg',\n",
       "  '/home/link-lap-24/Downloads/golf_june7/projet/input_data/input10/2video11.jpg',\n",
       "  '/home/link-lap-24/Downloads/golf_june7/projet/input_data/input10/2video51.jpg',\n",
       "  '/home/link-lap-24/Downloads/golf_june7/projet/input_data/input10/2video68.jpg',\n",
       "  '/home/link-lap-24/Downloads/golf_june7/projet/input_data/input10/2video43.jpg',\n",
       "  '/home/link-lap-24/Downloads/golf_june7/projet/input_data/input10/2video1.jpg',\n",
       "  '/home/link-lap-24/Downloads/golf_june7/projet/input_data/input10/2video52.jpg',\n",
       "  '/home/link-lap-24/Downloads/golf_june7/projet/input_data/input10/2video47.jpg',\n",
       "  '/home/link-lap-24/Downloads/golf_june7/projet/input_data/input10/2video66.jpg',\n",
       "  '/home/link-lap-24/Downloads/golf_june7/projet/input_data/input10/2video7.jpg',\n",
       "  '/home/link-lap-24/Downloads/golf_june7/projet/input_data/input10/2video40.jpg',\n",
       "  '/home/link-lap-24/Downloads/golf_june7/projet/input_data/input10/2video35.jpg',\n",
       "  '/home/link-lap-24/Downloads/golf_june7/projet/input_data/input10/2video21.jpg',\n",
       "  '/home/link-lap-24/Downloads/golf_june7/projet/input_data/input10/2video59.jpg',\n",
       "  '/home/link-lap-24/Downloads/golf_june7/projet/input_data/input10/2video37.jpg',\n",
       "  '/home/link-lap-24/Downloads/golf_june7/projet/input_data/input10/2video29.jpg',\n",
       "  '/home/link-lap-24/Downloads/golf_june7/projet/input_data/input10/2video28.jpg',\n",
       "  '/home/link-lap-24/Downloads/golf_june7/projet/input_data/input10/2video24.jpg',\n",
       "  '/home/link-lap-24/Downloads/golf_june7/projet/input_data/input10/2video14.jpg',\n",
       "  '/home/link-lap-24/Downloads/golf_june7/projet/input_data/input10/2video45.jpg',\n",
       "  '/home/link-lap-24/Downloads/golf_june7/projet/input_data/input10/2video17.jpg',\n",
       "  '/home/link-lap-24/Downloads/golf_june7/projet/input_data/input10/2video34.jpg',\n",
       "  '/home/link-lap-24/Downloads/golf_june7/projet/input_data/input10/2video67.jpg',\n",
       "  '/home/link-lap-24/Downloads/golf_june7/projet/input_data/input10/2video20.jpg',\n",
       "  '/home/link-lap-24/Downloads/golf_june7/projet/input_data/input10/2video60.jpg',\n",
       "  '/home/link-lap-24/Downloads/golf_june7/projet/input_data/input10/2video13.jpg',\n",
       "  '/home/link-lap-24/Downloads/golf_june7/projet/input_data/input10/2video41.jpg',\n",
       "  '/home/link-lap-24/Downloads/golf_june7/projet/input_data/input10/2video22.jpg',\n",
       "  '/home/link-lap-24/Downloads/golf_june7/projet/input_data/input10/2video6.jpg',\n",
       "  '/home/link-lap-24/Downloads/golf_june7/projet/input_data/input10/2video12.jpg',\n",
       "  '/home/link-lap-24/Downloads/golf_june7/projet/input_data/input10/2video64.jpg',\n",
       "  '/home/link-lap-24/Downloads/golf_june7/projet/input_data/input10/2video38.jpg',\n",
       "  '/home/link-lap-24/Downloads/golf_june7/projet/input_data/input10/2video10.jpg',\n",
       "  '/home/link-lap-24/Downloads/golf_june7/projet/input_data/input10/2video57.jpg',\n",
       "  '/home/link-lap-24/Downloads/golf_june7/projet/input_data/input10/2video16.jpg',\n",
       "  '/home/link-lap-24/Downloads/golf_june7/projet/input_data/input10/2video39.jpg',\n",
       "  '/home/link-lap-24/Downloads/golf_june7/projet/input_data/input10/2video55.jpg',\n",
       "  '/home/link-lap-24/Downloads/golf_june7/projet/input_data/input10/2video65.jpg',\n",
       "  '/home/link-lap-24/Downloads/golf_june7/projet/input_data/input10/2video19.jpg',\n",
       "  '/home/link-lap-24/Downloads/golf_june7/projet/input_data/input10/2video70.jpg',\n",
       "  '/home/link-lap-24/Downloads/golf_june7/projet/input_data/input10/2video15.jpg',\n",
       "  '/home/link-lap-24/Downloads/golf_june7/projet/input_data/input10/2video8.jpg',\n",
       "  '/home/link-lap-24/Downloads/golf_june7/projet/input_data/input10/2video62.jpg',\n",
       "  '/home/link-lap-24/Downloads/golf_june7/projet/input_data/input10/2video32.jpg',\n",
       "  '/home/link-lap-24/Downloads/golf_june7/projet/input_data/input10/2video9.jpg',\n",
       "  '/home/link-lap-24/Downloads/golf_june7/projet/input_data/input10/2video56.jpg',\n",
       "  '/home/link-lap-24/Downloads/golf_june7/projet/input_data/input10/2video4.jpg',\n",
       "  '/home/link-lap-24/Downloads/golf_june7/projet/input_data/input10/2video33.jpg',\n",
       "  '/home/link-lap-24/Downloads/golf_june7/projet/input_data/input10/2video61.jpg',\n",
       "  '/home/link-lap-24/Downloads/golf_june7/projet/input_data/input10/2video31.jpg',\n",
       "  '/home/link-lap-24/Downloads/golf_june7/projet/input_data/input10/2video25.jpg',\n",
       "  '/home/link-lap-24/Downloads/golf_june7/projet/input_data/input10/2video18.jpg']}"
      ]
     },
     "execution_count": 43,
     "metadata": {},
     "output_type": "execute_result"
    }
   ],
   "source": [
    "{'video1':tushr}"
   ]
  },
  {
   "cell_type": "code",
   "execution_count": 42,
   "id": "15e8192e",
   "metadata": {},
   "outputs": [
    {
     "data": {
      "text/plain": [
       "{'video1': ['/home/link-lap-24/Downloads/golf_june7/projet/input_data/input10/2video50.jpg',\n",
       "  '/home/link-lap-24/Downloads/golf_june7/projet/input_data/input10/2video30.jpg',\n",
       "  '/home/link-lap-24/Downloads/golf_june7/projet/input_data/input10/2video63.jpg',\n",
       "  '/home/link-lap-24/Downloads/golf_june7/projet/input_data/input10/2video44.jpg',\n",
       "  '/home/link-lap-24/Downloads/golf_june7/projet/input_data/input10/2video3.jpg',\n",
       "  '/home/link-lap-24/Downloads/golf_june7/projet/input_data/input10/2video27.jpg',\n",
       "  '/home/link-lap-24/Downloads/golf_june7/projet/input_data/input10/2video48.jpg',\n",
       "  '/home/link-lap-24/Downloads/golf_june7/projet/input_data/input10/2video36.jpg',\n",
       "  '/home/link-lap-24/Downloads/golf_june7/projet/input_data/input10/2video26.jpg',\n",
       "  '/home/link-lap-24/Downloads/golf_june7/projet/input_data/input10/2video49.jpg',\n",
       "  '/home/link-lap-24/Downloads/golf_june7/projet/input_data/input10/2video5.jpg',\n",
       "  '/home/link-lap-24/Downloads/golf_june7/projet/input_data/input10/2video54.jpg',\n",
       "  '/home/link-lap-24/Downloads/golf_june7/projet/input_data/input10/2video58.jpg',\n",
       "  '/home/link-lap-24/Downloads/golf_june7/projet/input_data/input10/2video42.jpg',\n",
       "  '/home/link-lap-24/Downloads/golf_june7/projet/input_data/input10/2video2.jpg',\n",
       "  '/home/link-lap-24/Downloads/golf_june7/projet/input_data/input10/2video53.jpg',\n",
       "  '/home/link-lap-24/Downloads/golf_june7/projet/input_data/input10/2video46.jpg',\n",
       "  '/home/link-lap-24/Downloads/golf_june7/projet/input_data/input10/2video69.jpg',\n",
       "  '/home/link-lap-24/Downloads/golf_june7/projet/input_data/input10/2video23.jpg',\n",
       "  '/home/link-lap-24/Downloads/golf_june7/projet/input_data/input10/2video11.jpg',\n",
       "  '/home/link-lap-24/Downloads/golf_june7/projet/input_data/input10/2video51.jpg',\n",
       "  '/home/link-lap-24/Downloads/golf_june7/projet/input_data/input10/2video68.jpg',\n",
       "  '/home/link-lap-24/Downloads/golf_june7/projet/input_data/input10/2video43.jpg',\n",
       "  '/home/link-lap-24/Downloads/golf_june7/projet/input_data/input10/2video1.jpg',\n",
       "  '/home/link-lap-24/Downloads/golf_june7/projet/input_data/input10/2video52.jpg',\n",
       "  '/home/link-lap-24/Downloads/golf_june7/projet/input_data/input10/2video47.jpg',\n",
       "  '/home/link-lap-24/Downloads/golf_june7/projet/input_data/input10/2video66.jpg',\n",
       "  '/home/link-lap-24/Downloads/golf_june7/projet/input_data/input10/2video7.jpg',\n",
       "  '/home/link-lap-24/Downloads/golf_june7/projet/input_data/input10/2video40.jpg',\n",
       "  '/home/link-lap-24/Downloads/golf_june7/projet/input_data/input10/2video35.jpg',\n",
       "  '/home/link-lap-24/Downloads/golf_june7/projet/input_data/input10/2video21.jpg',\n",
       "  '/home/link-lap-24/Downloads/golf_june7/projet/input_data/input10/2video59.jpg',\n",
       "  '/home/link-lap-24/Downloads/golf_june7/projet/input_data/input10/2video37.jpg',\n",
       "  '/home/link-lap-24/Downloads/golf_june7/projet/input_data/input10/2video29.jpg',\n",
       "  '/home/link-lap-24/Downloads/golf_june7/projet/input_data/input10/2video28.jpg',\n",
       "  '/home/link-lap-24/Downloads/golf_june7/projet/input_data/input10/2video24.jpg',\n",
       "  '/home/link-lap-24/Downloads/golf_june7/projet/input_data/input10/2video14.jpg',\n",
       "  '/home/link-lap-24/Downloads/golf_june7/projet/input_data/input10/2video45.jpg',\n",
       "  '/home/link-lap-24/Downloads/golf_june7/projet/input_data/input10/2video17.jpg',\n",
       "  '/home/link-lap-24/Downloads/golf_june7/projet/input_data/input10/2video34.jpg',\n",
       "  '/home/link-lap-24/Downloads/golf_june7/projet/input_data/input10/2video67.jpg',\n",
       "  '/home/link-lap-24/Downloads/golf_june7/projet/input_data/input10/2video20.jpg',\n",
       "  '/home/link-lap-24/Downloads/golf_june7/projet/input_data/input10/2video60.jpg',\n",
       "  '/home/link-lap-24/Downloads/golf_june7/projet/input_data/input10/2video13.jpg',\n",
       "  '/home/link-lap-24/Downloads/golf_june7/projet/input_data/input10/2video41.jpg',\n",
       "  '/home/link-lap-24/Downloads/golf_june7/projet/input_data/input10/2video22.jpg',\n",
       "  '/home/link-lap-24/Downloads/golf_june7/projet/input_data/input10/2video6.jpg',\n",
       "  '/home/link-lap-24/Downloads/golf_june7/projet/input_data/input10/2video12.jpg',\n",
       "  '/home/link-lap-24/Downloads/golf_june7/projet/input_data/input10/2video64.jpg',\n",
       "  '/home/link-lap-24/Downloads/golf_june7/projet/input_data/input10/2video38.jpg',\n",
       "  '/home/link-lap-24/Downloads/golf_june7/projet/input_data/input10/2video10.jpg',\n",
       "  '/home/link-lap-24/Downloads/golf_june7/projet/input_data/input10/2video57.jpg',\n",
       "  '/home/link-lap-24/Downloads/golf_june7/projet/input_data/input10/2video16.jpg',\n",
       "  '/home/link-lap-24/Downloads/golf_june7/projet/input_data/input10/2video39.jpg',\n",
       "  '/home/link-lap-24/Downloads/golf_june7/projet/input_data/input10/2video55.jpg',\n",
       "  '/home/link-lap-24/Downloads/golf_june7/projet/input_data/input10/2video65.jpg',\n",
       "  '/home/link-lap-24/Downloads/golf_june7/projet/input_data/input10/2video19.jpg',\n",
       "  '/home/link-lap-24/Downloads/golf_june7/projet/input_data/input10/2video70.jpg',\n",
       "  '/home/link-lap-24/Downloads/golf_june7/projet/input_data/input10/2video15.jpg',\n",
       "  '/home/link-lap-24/Downloads/golf_june7/projet/input_data/input10/2video8.jpg',\n",
       "  '/home/link-lap-24/Downloads/golf_june7/projet/input_data/input10/2video62.jpg',\n",
       "  '/home/link-lap-24/Downloads/golf_june7/projet/input_data/input10/2video32.jpg',\n",
       "  '/home/link-lap-24/Downloads/golf_june7/projet/input_data/input10/2video9.jpg',\n",
       "  '/home/link-lap-24/Downloads/golf_june7/projet/input_data/input10/2video56.jpg',\n",
       "  '/home/link-lap-24/Downloads/golf_june7/projet/input_data/input10/2video4.jpg',\n",
       "  '/home/link-lap-24/Downloads/golf_june7/projet/input_data/input10/2video33.jpg',\n",
       "  '/home/link-lap-24/Downloads/golf_june7/projet/input_data/input10/2video61.jpg',\n",
       "  '/home/link-lap-24/Downloads/golf_june7/projet/input_data/input10/2video31.jpg',\n",
       "  '/home/link-lap-24/Downloads/golf_june7/projet/input_data/input10/2video25.jpg',\n",
       "  '/home/link-lap-24/Downloads/golf_june7/projet/input_data/input10/2video18.jpg']}"
      ]
     },
     "execution_count": 42,
     "metadata": {},
     "output_type": "execute_result"
    }
   ],
   "source": [
    "addding"
   ]
  },
  {
   "cell_type": "code",
   "execution_count": 20,
   "id": "6d1647ce",
   "metadata": {},
   "outputs": [],
   "source": [
    "# addding={}\n",
    "\n",
    "\n",
    "# # folder_images=images(tushr)\n",
    "\n",
    "# # addding[folder_images]=addding\n",
    "# # type(addding)"
   ]
  },
  {
   "cell_type": "code",
   "execution_count": 24,
   "id": "169a5335",
   "metadata": {
    "scrolled": true
   },
   "outputs": [
    {
     "name": "stdout",
     "output_type": "stream",
     "text": [
      "/home/link-lap-24/Downloads/golf_june7/projet/input_data/input10/2video50.jpg\n",
      "/home/link-lap-24/Downloads/golf_june7/projet/input_data/input10/2video30.jpg\n",
      "/home/link-lap-24/Downloads/golf_june7/projet/input_data/input10/2video63.jpg\n",
      "/home/link-lap-24/Downloads/golf_june7/projet/input_data/input10/2video44.jpg\n",
      "/home/link-lap-24/Downloads/golf_june7/projet/input_data/input10/2video3.jpg\n",
      "/home/link-lap-24/Downloads/golf_june7/projet/input_data/input10/2video27.jpg\n",
      "/home/link-lap-24/Downloads/golf_june7/projet/input_data/input10/2video48.jpg\n",
      "/home/link-lap-24/Downloads/golf_june7/projet/input_data/input10/2video36.jpg\n",
      "/home/link-lap-24/Downloads/golf_june7/projet/input_data/input10/2video26.jpg\n",
      "/home/link-lap-24/Downloads/golf_june7/projet/input_data/input10/2video49.jpg\n",
      "/home/link-lap-24/Downloads/golf_june7/projet/input_data/input10/2video5.jpg\n",
      "/home/link-lap-24/Downloads/golf_june7/projet/input_data/input10/2video54.jpg\n",
      "/home/link-lap-24/Downloads/golf_june7/projet/input_data/input10/2video58.jpg\n",
      "/home/link-lap-24/Downloads/golf_june7/projet/input_data/input10/2video42.jpg\n",
      "/home/link-lap-24/Downloads/golf_june7/projet/input_data/input10/2video2.jpg\n",
      "/home/link-lap-24/Downloads/golf_june7/projet/input_data/input10/2video53.jpg\n",
      "/home/link-lap-24/Downloads/golf_june7/projet/input_data/input10/2video46.jpg\n",
      "/home/link-lap-24/Downloads/golf_june7/projet/input_data/input10/2video69.jpg\n",
      "/home/link-lap-24/Downloads/golf_june7/projet/input_data/input10/2video23.jpg\n",
      "/home/link-lap-24/Downloads/golf_june7/projet/input_data/input10/2video11.jpg\n",
      "/home/link-lap-24/Downloads/golf_june7/projet/input_data/input10/2video51.jpg\n",
      "/home/link-lap-24/Downloads/golf_june7/projet/input_data/input10/2video68.jpg\n",
      "/home/link-lap-24/Downloads/golf_june7/projet/input_data/input10/2video43.jpg\n",
      "/home/link-lap-24/Downloads/golf_june7/projet/input_data/input10/2video1.jpg\n",
      "/home/link-lap-24/Downloads/golf_june7/projet/input_data/input10/2video52.jpg\n",
      "/home/link-lap-24/Downloads/golf_june7/projet/input_data/input10/2video47.jpg\n",
      "/home/link-lap-24/Downloads/golf_june7/projet/input_data/input10/2video66.jpg\n",
      "/home/link-lap-24/Downloads/golf_june7/projet/input_data/input10/2video7.jpg\n",
      "/home/link-lap-24/Downloads/golf_june7/projet/input_data/input10/2video40.jpg\n",
      "/home/link-lap-24/Downloads/golf_june7/projet/input_data/input10/2video35.jpg\n",
      "/home/link-lap-24/Downloads/golf_june7/projet/input_data/input10/2video21.jpg\n",
      "/home/link-lap-24/Downloads/golf_june7/projet/input_data/input10/2video59.jpg\n",
      "/home/link-lap-24/Downloads/golf_june7/projet/input_data/input10/2video37.jpg\n",
      "/home/link-lap-24/Downloads/golf_june7/projet/input_data/input10/2video29.jpg\n",
      "/home/link-lap-24/Downloads/golf_june7/projet/input_data/input10/2video28.jpg\n",
      "/home/link-lap-24/Downloads/golf_june7/projet/input_data/input10/2video24.jpg\n",
      "/home/link-lap-24/Downloads/golf_june7/projet/input_data/input10/2video14.jpg\n",
      "/home/link-lap-24/Downloads/golf_june7/projet/input_data/input10/2video45.jpg\n",
      "/home/link-lap-24/Downloads/golf_june7/projet/input_data/input10/2video17.jpg\n",
      "/home/link-lap-24/Downloads/golf_june7/projet/input_data/input10/2video34.jpg\n",
      "/home/link-lap-24/Downloads/golf_june7/projet/input_data/input10/2video67.jpg\n",
      "/home/link-lap-24/Downloads/golf_june7/projet/input_data/input10/2video20.jpg\n",
      "/home/link-lap-24/Downloads/golf_june7/projet/input_data/input10/2video60.jpg\n",
      "/home/link-lap-24/Downloads/golf_june7/projet/input_data/input10/2video13.jpg\n",
      "/home/link-lap-24/Downloads/golf_june7/projet/input_data/input10/2video41.jpg\n",
      "/home/link-lap-24/Downloads/golf_june7/projet/input_data/input10/2video22.jpg\n",
      "/home/link-lap-24/Downloads/golf_june7/projet/input_data/input10/2video6.jpg\n",
      "/home/link-lap-24/Downloads/golf_june7/projet/input_data/input10/2video12.jpg\n",
      "/home/link-lap-24/Downloads/golf_june7/projet/input_data/input10/2video64.jpg\n",
      "/home/link-lap-24/Downloads/golf_june7/projet/input_data/input10/2video38.jpg\n",
      "/home/link-lap-24/Downloads/golf_june7/projet/input_data/input10/2video10.jpg\n",
      "/home/link-lap-24/Downloads/golf_june7/projet/input_data/input10/2video57.jpg\n",
      "/home/link-lap-24/Downloads/golf_june7/projet/input_data/input10/2video16.jpg\n",
      "/home/link-lap-24/Downloads/golf_june7/projet/input_data/input10/2video39.jpg\n",
      "/home/link-lap-24/Downloads/golf_june7/projet/input_data/input10/2video55.jpg\n",
      "/home/link-lap-24/Downloads/golf_june7/projet/input_data/input10/2video65.jpg\n",
      "/home/link-lap-24/Downloads/golf_june7/projet/input_data/input10/2video19.jpg\n",
      "/home/link-lap-24/Downloads/golf_june7/projet/input_data/input10/2video70.jpg\n",
      "/home/link-lap-24/Downloads/golf_june7/projet/input_data/input10/2video15.jpg\n",
      "/home/link-lap-24/Downloads/golf_june7/projet/input_data/input10/2video8.jpg\n",
      "/home/link-lap-24/Downloads/golf_june7/projet/input_data/input10/2video62.jpg\n",
      "/home/link-lap-24/Downloads/golf_june7/projet/input_data/input10/2video32.jpg\n",
      "/home/link-lap-24/Downloads/golf_june7/projet/input_data/input10/2video9.jpg\n",
      "/home/link-lap-24/Downloads/golf_june7/projet/input_data/input10/2video56.jpg\n",
      "/home/link-lap-24/Downloads/golf_june7/projet/input_data/input10/2video4.jpg\n",
      "/home/link-lap-24/Downloads/golf_june7/projet/input_data/input10/2video33.jpg\n",
      "/home/link-lap-24/Downloads/golf_june7/projet/input_data/input10/2video61.jpg\n",
      "/home/link-lap-24/Downloads/golf_june7/projet/input_data/input10/2video31.jpg\n",
      "/home/link-lap-24/Downloads/golf_june7/projet/input_data/input10/2video25.jpg\n",
      "/home/link-lap-24/Downloads/golf_june7/projet/input_data/input10/2video18.jpg\n"
     ]
    },
    {
     "ename": "TypeError",
     "evalue": "type() takes 1 or 3 arguments",
     "output_type": "error",
     "traceback": [
      "\u001b[0;31m---------------------------------------------------------------------------\u001b[0m",
      "\u001b[0;31mTypeError\u001b[0m                                 Traceback (most recent call last)",
      "Input \u001b[0;32mIn [24]\u001b[0m, in \u001b[0;36m<cell line: 1>\u001b[0;34m()\u001b[0m\n\u001b[0;32m----> 1\u001b[0m \u001b[38;5;28;43mtype\u001b[39;49m\u001b[43m(\u001b[49m\u001b[43mfolder_images\u001b[49m\u001b[38;5;241;43m=\u001b[39;49m\u001b[43mimages\u001b[49m\u001b[43m(\u001b[49m\u001b[43mtushr\u001b[49m\u001b[43m)\u001b[49m\u001b[43m)\u001b[49m\n",
      "\u001b[0;31mTypeError\u001b[0m: type() takes 1 or 3 arguments"
     ]
    }
   ],
   "source": [
    "type(folder_images=images(tushr))"
   ]
  },
  {
   "cell_type": "code",
   "execution_count": null,
   "id": "e3a438b4",
   "metadata": {},
   "outputs": [],
   "source": [
    "addding"
   ]
  },
  {
   "cell_type": "code",
   "execution_count": 21,
   "id": "e6bc009a",
   "metadata": {},
   "outputs": [
    {
     "data": {
      "text/plain": [
       "{'im23': {'img': 12312, 'img2': 415454, 'img3': 5415454}}"
      ]
     },
     "execution_count": 21,
     "metadata": {},
     "output_type": "execute_result"
    }
   ],
   "source": [
    "im2"
   ]
  },
  {
   "cell_type": "code",
   "execution_count": 11,
   "id": "87bcea09",
   "metadata": {},
   "outputs": [],
   "source": [
    "import json"
   ]
  },
  {
   "cell_type": "code",
   "execution_count": 57,
   "id": "02785469",
   "metadata": {},
   "outputs": [
    {
     "name": "stdout",
     "output_type": "stream",
     "text": [
      "{\"emp1\": {\"name\": \"tushar\", \"address\": \"akhand nagar\", \"contact\": \"123456\"}, \"emp2\": {\"name\": \"ritik\", \"address\": \"akhand nagar\", \"contact\": \"978545\"}}\n"
     ]
    }
   ],
   "source": [
    "s=json.dumps(book) #it's a json format & for convert dictionary to json\n",
    "print(s)"
   ]
  },
  {
   "cell_type": "code",
   "execution_count": 1,
   "id": "c4373f92",
   "metadata": {},
   "outputs": [],
   "source": [
    "# For converting image formate jpeg/ jpg/png to png/jpg/jpeg and creating folder in the same directory \n",
    "from PIL import Image\n",
    "import os\n",
    "import uuid\n",
    "import random\n",
    "import time\n",
    "directory = '/home/multi-lap-20/Animesh All Projects/Basketball'\n",
    "\n",
    "for filename in os.listdir(directory):\n",
    "    if not filename.endswith(\".jpeg\"):\n",
    "        continue\n",
    "    if not os.path.exists(\"new_png\"):\n",
    "        os.mkdir(\"new_png\")\n",
    "    save_p = \"new_png\"\n",
    "    file_name = \"new_{}.png\".format(str(time.time()))\n",
    "    complete_path = os.path.join(directory, save_p, file_name)\n",
    "    m= os.path.join(directory, filename)\n",
    "    im1 = Image.open(m)\n",
    "    im1.save(complete_path)"
   ]
  },
  {
   "cell_type": "code",
   "execution_count": 2,
   "id": "a9cc9dbd",
   "metadata": {},
   "outputs": [],
   "source": [
    "diret='/home/multi-lap-20/Animesh All Projects/Basketball'\n",
    "\n",
    "for i in os.listdir(diret):\n",
    "    if os.path.exists(\"changpng\"):\n",
    "        os.mkdir(\"changpng\")\n",
    "    \n",
    "    save_path=\"changpng\"\n",
    "    \n",
    "    random=str(uuid.uuid4())\n",
    "    \n",
    "    path=f\"{random}.png\"\n",
    "    complete_path=os.path.join(diret,save_path,path)   \n",
    "    \n",
    "    \n",
    "    tt=Image.open(diret,path)\n",
    "    tt.save(complete_path)"
   ]
  },
  {
   "cell_type": "code",
   "execution_count": null,
   "id": "013ddfc5",
   "metadata": {},
   "outputs": [],
   "source": [
    "# Python3 program introducing f-string\n",
    "val = 'Geeks'\n",
    "print(f\"{val}for{val} is a portal for {val}.\")\n",
    "\n",
    "\n",
    "name = 'Tushar'\n",
    "age = 23\n",
    "print(f\"Hello, My name is {name} and I'm {age} years old.\")"
   ]
  },
  {
   "cell_type": "code",
   "execution_count": null,
   "id": "0aecd7b0",
   "metadata": {},
   "outputs": [],
   "source": [
    "user = {'name': 'John Doe', 'occupation': 'gardener'}\n",
    "\n",
    "print(f\"{user['name']} is a {user['occupation']}\")\n"
   ]
  },
  {
   "cell_type": "code",
   "execution_count": null,
   "id": "2276ded3",
   "metadata": {},
   "outputs": [],
   "source": [
    "player={\"tushr\":\"batsman\",\"ritik\":\"boller\"}\n",
    "\n",
    "print(f\"{player['tushr']} iss a {player['ritik']}\")\n",
    "\n",
    "\n",
    "# f string always use with single quotes''"
   ]
  },
  {
   "cell_type": "code",
   "execution_count": 4,
   "id": "508950f5",
   "metadata": {},
   "outputs": [
    {
     "data": {
      "text/plain": [
       "'annotator.png'"
      ]
     },
     "execution_count": 4,
     "metadata": {},
     "output_type": "execute_result"
    }
   ],
   "source": [
    "profile={'tushar':'annotator','prabhat':'ai_enginner'}\n",
    "\n",
    "f\"{profile['tushar']}.png\""
   ]
  },
  {
   "cell_type": "code",
   "execution_count": 5,
   "id": "036248ee",
   "metadata": {},
   "outputs": [
    {
     "data": {
      "text/plain": [
       "'ai_enginner.jpg'"
      ]
     },
     "execution_count": 5,
     "metadata": {},
     "output_type": "execute_result"
    }
   ],
   "source": [
    "f\"{profile['prabhat']}.jpg\""
   ]
  },
  {
   "cell_type": "code",
   "execution_count": null,
   "id": "a8d3ab16",
   "metadata": {},
   "outputs": [],
   "source": []
  }
 ],
 "metadata": {
  "kernelspec": {
   "display_name": "Python 3 (ipykernel)",
   "language": "python",
   "name": "python3"
  },
  "language_info": {
   "codemirror_mode": {
    "name": "ipython",
    "version": 3
   },
   "file_extension": ".py",
   "mimetype": "text/x-python",
   "name": "python",
   "nbconvert_exporter": "python",
   "pygments_lexer": "ipython3",
   "version": "3.8.10"
  }
 },
 "nbformat": 4,
 "nbformat_minor": 5
}
