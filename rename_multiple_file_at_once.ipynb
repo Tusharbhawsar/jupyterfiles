{
 "cells": [
  {
   "cell_type": "code",
   "execution_count": 2,
   "id": "441bcfd2",
   "metadata": {},
   "outputs": [],
   "source": [
    "# Python 3 code to rename multiple\n",
    "# files in a directory or folder\n",
    "\n",
    "# importing os module\n",
    "import os\n",
    "\n",
    "\n",
    "# Function to rename multiple files\n",
    "def main():\n",
    "    folder = \"/home/link-lap-24/Downloads/json_trim/match3/\"\n",
    "    op = \"/home/link-lap-24/Downloads/json_trim/ou/\"\n",
    "    for count, filename in enumerate(os.listdir(folder)):\n",
    "        dst = f\"{str(count)}.jpg\"\n",
    "        src = f\"{folder}/{filename}\"  # foldername/filename, if .py file is outside folder\n",
    "        dst = f\"{op}/{dst}\"\n",
    "\n",
    "        # rename() function will\n",
    "        # rename all the files\n",
    "        os.rename(src, dst)\n"
   ]
  },
  {
   "cell_type": "code",
   "execution_count": 3,
   "id": "f9aa8d11",
   "metadata": {},
   "outputs": [
    {
     "name": "stdout",
     "output_type": "stream",
     "text": [
      "Renamed: mat_ser57135.jpg to 1.jpg\n",
      "Renamed: mat_ser57136.jpg to 2.jpg\n",
      "Renamed: mat_ser57137.jpg to 3.jpg\n",
      "Renamed: mat_ser57140.jpg to 4.jpg\n",
      "Renamed: mat_ser57157.jpg to 5.jpg\n"
     ]
    }
   ],
   "source": [
    "import os\n",
    "\n",
    "def rename_images_in_folder(folder_path):\n",
    "    # Change to the specified directory\n",
    "    os.chdir(folder_path)\n",
    "\n",
    "    # Get a list of all files in the directory\n",
    "    files = os.listdir()\n",
    "\n",
    "    # Filter only image files (you can customize this condition based on your file types)\n",
    "    image_files = [file for file in files if file.lower().endswith(('.png', '.jpg', '.jpeg', '.gif', '.bmp'))]\n",
    "\n",
    "    # Sort the image files to ensure sequential numbering\n",
    "    image_files.sort()\n",
    "\n",
    "    # Rename the image files with sequential names\n",
    "    for i, old_name in enumerate(image_files, start=1):\n",
    "        # Extract the file extension\n",
    "        _, file_extension = os.path.splitext(old_name)\n",
    "\n",
    "        # Create the new name with sequential numbering\n",
    "        new_name = f\"{i}{file_extension}\"\n",
    "\n",
    "        # Rename the file\n",
    "        os.rename(old_name, new_name)\n",
    "        print(f'Renamed: {old_name} to {new_name}')\n",
    "\n",
    "# Example usage:\n",
    "folder_path = '/home/link-lap-24/Downloads/json_trim/exp/'\n",
    "rename_images_in_folder(folder_path)\n"
   ]
  },
  {
   "cell_type": "code",
   "execution_count": null,
   "id": "6e6b1940",
   "metadata": {},
   "outputs": [],
   "source": [
    "import cv2,os,csv\n",
    "url = \"https://toch-studio.s3.amazonaws.com/alankar/coco-test/\"\n",
    "def crop_scoreboard_img_static(img_dir_pth,save_dir,det_class):\n",
    "    count = 0\n",
    "    dd = []\n",
    "    for i in os.listdir(img_dir_pth):\n",
    "        try:\n",
    "            file = os.path.join(img_dir_pth,i)\n",
    "            x1, y1, x2, y2 = 568,818,1384,986\n",
    "            w,h=x2-x1,y2-y1\n",
    "            image = cv2.imread(file)\n",
    "            rec_img = cv2.rectangle(image, (x1,y1), (x2,y2), (0, 255, 255), 1)\n",
    "            img_name =save_dir+i\n",
    "            cv2.imwrite(img_name,rec_img)\n",
    "            d1 = []\n",
    "            d2 = {}\n",
    "            ret = []\n",
    "            d2[\"line\"] = []\n",
    "            d2[\"point\"] = []\n",
    "            cls = []\n",
    "            cls.append(det_class)\n",
    "            d1.append(\"train\")\n",
    "            ret.append([x1,y1,w,h,det_class])\n",
    "            d2[\"rect\"] = ret\n",
    "            d2[\"circle\"] =  []\n",
    "            d2[\"rectWithCircle\"] = []\n",
    "            img_pth = url+i\n",
    "            d1.append(','.join(cls))\n",
    "            d1.append(img_pth)\n",
    "            d1.append(str(d2))\n",
    "            dd.append(d1)\n",
    "            count+=1\n",
    "        except Exception as e:\n",
    "            print(e)\n",
    "    return dd\n",
    "img_dir = \"/media/multi-sy-17/Data/Alankar/PADDLE/data/bulk_testing/american_football/scoreboard_model/am_videos/img/\"\n",
    "save_dir = \"/media/multi-sy-17/Data/Alankar/PADDLE/data/bulk_testing/american_football/scoreboard_model/am_videos/results/\"\n",
    "dd = crop_scoreboard_img_static(img_dir,save_dir,\"scoreboard\")\n",
    "print(dd)\n",
    "with open('/media/multi-sy-17/Data/Alankar/PADDLE/data/bulk_testing/american_football/scoreboard_model/am_videos/test.csv', 'w', newline='') as csvfile:\n",
    "    writer = csv.writer(csvfile)\n",
    "    writer.writerow(['Type', 'Tags', 'Source Url', 'annotation'])\n",
    "    for d in dd:\n",
    "        annotation = d[3].replace(\"'\", '\"')\n",
    "        writer.writerow([d[0], d[1], d[2], annotation])\n",
    "print('Data saved')"
   ]
  }
 ],
 "metadata": {
  "kernelspec": {
   "display_name": "Python 3 (ipykernel)",
   "language": "python",
   "name": "python3"
  },
  "language_info": {
   "codemirror_mode": {
    "name": "ipython",
    "version": 3
   },
   "file_extension": ".py",
   "mimetype": "text/x-python",
   "name": "python",
   "nbconvert_exporter": "python",
   "pygments_lexer": "ipython3",
   "version": "3.8.10"
  }
 },
 "nbformat": 4,
 "nbformat_minor": 5
}
