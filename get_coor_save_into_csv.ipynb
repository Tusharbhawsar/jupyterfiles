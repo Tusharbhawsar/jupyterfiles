{
 "cells": [
  {
   "cell_type": "code",
   "execution_count": null,
   "id": "756d304f",
   "metadata": {},
   "outputs": [],
   "source": [
    "import cv2,os,csv\n",
    "url = \"https://toch-studio.s3.amazonaws.com/alankar/coco-test/\"\n",
    "def crop_scoreboard_img_static(img_dir_pth,save_dir,det_class):\n",
    "    count = 0\n",
    "    dd = []\n",
    "    for i in os.listdir(img_dir_pth):\n",
    "        try:\n",
    "            file = os.path.join(img_dir_pth,i)\n",
    "            x1, y1, x2, y2 = 568,818,1384,986\n",
    "            w,h=x2-x1,y2-y1\n",
    "            image = cv2.imread(file)\n",
    "            rec_img = cv2.rectangle(image, (x1,y1), (x2,y2), (0, 255, 255), 1)\n",
    "            img_name =save_dir+i\n",
    "            cv2.imwrite(img_name,rec_img)\n",
    "            d1 = []\n",
    "            d2 = {}\n",
    "            ret = []\n",
    "            d2[\"line\"] = []\n",
    "            d2[\"point\"] = []\n",
    "            cls = []\n",
    "            cls.append(det_class)\n",
    "            d1.append(\"train\")\n",
    "            ret.append([x1,y1,w,h,det_class])\n",
    "            d2[\"rect\"] = ret\n",
    "            d2[\"circle\"] =  []\n",
    "            d2[\"rectWithCircle\"] = []\n",
    "            img_pth = url+i\n",
    "            d1.append(','.join(cls))\n",
    "            d1.append(img_pth)\n",
    "            d1.append(str(d2))\n",
    "            dd.append(d1)\n",
    "            count+=1\n",
    "        except Exception as e:\n",
    "            print(e)\n",
    "    return dd\n",
    "img_dir = \"/media/multi-sy-17/Data/data/bulk_testing/american_football/scoreboard_model/am_videos/img/\"\n",
    "save_dir = \"/media/multi-sy-17/Data/data/bulk_testing/american_football/scoreboard_model/am_videos/results/\"\n",
    "dd = crop_scoreboard_img_static(img_dir,save_dir,\"scoreboard\")\n",
    "print(dd)\n",
    "with open('/media/multi-sy-17/Data/data/bulk_testing/american_football/scoreboard_model/am_videos/test.csv', 'w', newline='') as csvfile:\n",
    "    writer = csv.writer(csvfile)\n",
    "    writer.writerow(['Type', 'Tags', 'Source Url', 'annotation'])\n",
    "    for d in dd:\n",
    "        annotation = d[3].replace(\"'\", '\"')\n",
    "        writer.writerow([d[0], d[1], d[2], annotation])\n",
    "print('Data saved')"
   ]
  }
 ],
 "metadata": {
  "kernelspec": {
   "display_name": "Python 3 (ipykernel)",
   "language": "python",
   "name": "python3"
  },
  "language_info": {
   "codemirror_mode": {
    "name": "ipython",
    "version": 3
   },
   "file_extension": ".py",
   "mimetype": "text/x-python",
   "name": "python",
   "nbconvert_exporter": "python",
   "pygments_lexer": "ipython3",
   "version": "3.8.10"
  }
 },
 "nbformat": 4,
 "nbformat_minor": 5
}
