{
 "cells": [
  {
   "cell_type": "code",
   "execution_count": 9,
   "id": "2e660d5d",
   "metadata": {},
   "outputs": [],
   "source": [
    "import os\n",
    "import glob\n",
    "import numpy\n",
    "import pandas"
   ]
  },
  {
   "cell_type": "code",
   "execution_count": null,
   "id": "36b6c942",
   "metadata": {},
   "outputs": [],
   "source": [
    "# split () will split the string using input character and return a list (arry) of word\n",
    "# refer a save image in google txt"
   ]
  },
  {
   "cell_type": "code",
   "execution_count": 10,
   "id": "ce5dc4a1",
   "metadata": {},
   "outputs": [
    {
     "name": "stdout",
     "output_type": "stream",
     "text": [
      "[]\n"
     ]
    }
   ],
   "source": [
    "path=glob.glob('/home/link-lap-24/Downloads/golf_june7/trim/*.mp4')\n",
    "print(path)"
   ]
  },
  {
   "cell_type": "code",
   "execution_count": 11,
   "id": "dc59c1f1",
   "metadata": {},
   "outputs": [
    {
     "data": {
      "text/plain": [
       "list"
      ]
     },
     "execution_count": 11,
     "metadata": {},
     "output_type": "execute_result"
    }
   ],
   "source": [
    "type(path)"
   ]
  },
  {
   "cell_type": "code",
   "execution_count": 19,
   "id": "81da1668",
   "metadata": {
    "scrolled": true
   },
   "outputs": [
    {
     "ename": "AttributeError",
     "evalue": "'list' object has no attribute 'apply'",
     "output_type": "error",
     "traceback": [
      "\u001b[0;31m---------------------------------------------------------------------------\u001b[0m",
      "\u001b[0;31mAttributeError\u001b[0m                            Traceback (most recent call last)",
      "Input \u001b[0;32mIn [19]\u001b[0m, in \u001b[0;36m<cell line: 1>\u001b[0;34m()\u001b[0m\n\u001b[0;32m----> 1\u001b[0m path\u001b[38;5;241m=\u001b[39m \u001b[43mpath\u001b[49m\u001b[38;5;241;43m.\u001b[39;49m\u001b[43mapply\u001b[49m(\u001b[38;5;28;01mlambda\u001b[39;00m x: \u001b[38;5;124m\"\u001b[39m\u001b[38;5;124m \u001b[39m\u001b[38;5;124m\"\u001b[39m\u001b[38;5;241m.\u001b[39mjoin(x))\n",
      "\u001b[0;31mAttributeError\u001b[0m: 'list' object has no attribute 'apply'"
     ]
    }
   ],
   "source": [
    "path= path.apply(lambda x: \" \".join(x))"
   ]
  },
  {
   "cell_type": "code",
   "execution_count": 20,
   "id": "987fbb4e",
   "metadata": {
    "scrolled": true
   },
   "outputs": [
    {
     "ename": "ValueError",
     "evalue": "invalid literal for int() with base 10: '/home/link-lap-24/Downloads/golf_june7/trim/input3.mp4'",
     "output_type": "error",
     "traceback": [
      "\u001b[0;31m---------------------------------------------------------------------------\u001b[0m",
      "\u001b[0;31mValueError\u001b[0m                                Traceback (most recent call last)",
      "Input \u001b[0;32mIn [20]\u001b[0m, in \u001b[0;36m<cell line: 1>\u001b[0;34m()\u001b[0m\n\u001b[0;32m----> 1\u001b[0m path \u001b[38;5;241m=\u001b[39m \u001b[38;5;28;43mlist\u001b[39;49m\u001b[43m(\u001b[49m\u001b[38;5;28;43mmap\u001b[39;49m\u001b[43m(\u001b[49m\u001b[38;5;28;43mint\u001b[39;49m\u001b[43m,\u001b[49m\u001b[43mpath\u001b[49m\u001b[43m)\u001b[49m\u001b[43m)\u001b[49m\n",
      "\u001b[0;31mValueError\u001b[0m: invalid literal for int() with base 10: '/home/link-lap-24/Downloads/golf_june7/trim/input3.mp4'"
     ]
    }
   ],
   "source": [
    "path = list(map(int,path))"
   ]
  },
  {
   "cell_type": "code",
   "execution_count": 30,
   "id": "fa41206a",
   "metadata": {},
   "outputs": [
    {
     "name": "stdout",
     "output_type": "stream",
     "text": [
      "/home/link-lap-24/Downloads/golf_june7/trim/input3.mp4/home/link-lap-24/Downloads/golf_june7/trim/input1.mp4/home/link-lap-24/Downloads/golf_june7/trim/input2.mp4/home/link-lap-24/Downloads/golf_june7/trim/input4.mp4\n"
     ]
    }
   ],
   "source": [
    "def listtostring2(path2):\n",
    "    str1=''\n",
    "    \n",
    "    return(str1.join(path2))\n",
    "\n",
    "data=path\n",
    "print(listtostring2(data))"
   ]
  },
  {
   "cell_type": "code",
   "execution_count": 31,
   "id": "c4574973",
   "metadata": {},
   "outputs": [
    {
     "data": {
      "text/plain": [
       "list"
      ]
     },
     "execution_count": 31,
     "metadata": {},
     "output_type": "execute_result"
    }
   ],
   "source": [
    "type(data)"
   ]
  },
  {
   "cell_type": "code",
   "execution_count": 60,
   "id": "294cff9b",
   "metadata": {},
   "outputs": [
    {
     "name": "stdout",
     "output_type": "stream",
     "text": [
      "Geeks for Geeks\n"
     ]
    }
   ],
   "source": [
    "# Python program to convert a list\n",
    "# to string using join() function\n",
    "   \n",
    "# Function to convert \n",
    "def listToString(s):\n",
    "   \n",
    "    # initialize an empty string\n",
    "    str1 = \" \"\n",
    "   \n",
    "    # return string \n",
    "    return (str1.join(s))\n",
    "       \n",
    "       \n",
    "# Driver code   \n",
    "rr = ['Geeks', 'for', 'Geeks']\n",
    "print(listToString(rr))"
   ]
  },
  {
   "cell_type": "code",
   "execution_count": 61,
   "id": "d1d81c56",
   "metadata": {},
   "outputs": [
    {
     "data": {
      "text/plain": [
       "['/home/link-lap-24/Downloads/golf_june7/trim/input3.mp4',\n",
       " '/home/link-lap-24/Downloads/golf_june7/trim/input1.mp4',\n",
       " '/home/link-lap-24/Downloads/golf_june7/trim/input2.mp4',\n",
       " '/home/link-lap-24/Downloads/golf_june7/trim/input4.mp4']"
      ]
     },
     "execution_count": 61,
     "metadata": {},
     "output_type": "execute_result"
    }
   ],
   "source": [
    "path"
   ]
  },
  {
   "cell_type": "code",
   "execution_count": 62,
   "id": "6aeb33e0",
   "metadata": {},
   "outputs": [
    {
     "name": "stdout",
     "output_type": "stream",
     "text": [
      "/home/link-lap-24/Downloads/golf_june7/trim/input3.mp4/home/link-lap-24/Downloads/golf_june7/trim/input1.mp4/home/link-lap-24/Downloads/golf_june7/trim/input2.mp4/home/link-lap-24/Downloads/golf_june7/trim/input4.mp4\n"
     ]
    }
   ],
   "source": [
    "def ltostr(v):\n",
    "    \n",
    "    str1=''\n",
    "    return(str1.join(v))\n",
    "\n",
    "print(ltostr(path))"
   ]
  },
  {
   "cell_type": "code",
   "execution_count": 56,
   "id": "3aff717b",
   "metadata": {},
   "outputs": [
    {
     "name": "stdout",
     "output_type": "stream",
     "text": [
      "['mm', 'k']\n"
     ]
    }
   ],
   "source": [
    "print(str([\"mm\",\"k\"]))"
   ]
  },
  {
   "cell_type": "code",
   "execution_count": 12,
   "id": "dbf6e19c",
   "metadata": {
    "code_folding": []
   },
   "outputs": [],
   "source": [
    "def trimimg(): \n",
    "    \n",
    "    for i in path:\n",
    "        print(str(i).split('trim/')[1])\n",
    "    "
   ]
  },
  {
   "cell_type": "code",
   "execution_count": 14,
   "id": "bce8f453",
   "metadata": {},
   "outputs": [],
   "source": [
    "trimimg()"
   ]
  },
  {
   "cell_type": "code",
   "execution_count": 113,
   "id": "25135a71",
   "metadata": {
    "scrolled": true
   },
   "outputs": [],
   "source": [
    "# for fir in trimimg:\n",
    "#     clip = VideoFileClip(\"fir\")\n",
    "#     clip = clip.subclip(0, 5)"
   ]
  },
  {
   "cell_type": "code",
   "execution_count": 114,
   "id": "b06e92d8",
   "metadata": {},
   "outputs": [],
   "source": [
    "from moviepy.editor import *"
   ]
  },
  {
   "cell_type": "code",
   "execution_count": 106,
   "id": "d5f636da",
   "metadata": {},
   "outputs": [],
   "source": [
    "def trimimg(): \n",
    "    \n",
    "    for i in path:\n",
    "        return(str(i).split('trim/')[1])\n",
    "    "
   ]
  },
  {
   "cell_type": "code",
   "execution_count": 15,
   "id": "bd0a0d64",
   "metadata": {},
   "outputs": [],
   "source": [
    "df=trimimg()\n",
    "df"
   ]
  },
  {
   "cell_type": "code",
   "execution_count": 117,
   "id": "35899ce7",
   "metadata": {},
   "outputs": [
    {
     "ename": "OSError",
     "evalue": "MoviePy error: the file fir could not be found!\nPlease check that you entered the correct path.",
     "output_type": "error",
     "traceback": [
      "\u001b[0;31m---------------------------------------------------------------------------\u001b[0m",
      "\u001b[0;31mOSError\u001b[0m                                   Traceback (most recent call last)",
      "Input \u001b[0;32mIn [117]\u001b[0m, in \u001b[0;36m<cell line: 1>\u001b[0;34m()\u001b[0m\n\u001b[1;32m      1\u001b[0m \u001b[38;5;28;01mfor\u001b[39;00m fir \u001b[38;5;129;01min\u001b[39;00m df:\n\u001b[0;32m----> 2\u001b[0m     clip \u001b[38;5;241m=\u001b[39m \u001b[43mVideoFileClip\u001b[49m\u001b[43m(\u001b[49m\u001b[38;5;124;43m\"\u001b[39;49m\u001b[38;5;124;43mfir\u001b[39;49m\u001b[38;5;124;43m\"\u001b[39;49m\u001b[43m)\u001b[49m\n\u001b[1;32m      3\u001b[0m     clip \u001b[38;5;241m=\u001b[39m clip\u001b[38;5;241m.\u001b[39msubclip(\u001b[38;5;241m0\u001b[39m, \u001b[38;5;241m5\u001b[39m)\n",
      "File \u001b[0;32m~/.local/lib/python3.8/site-packages/moviepy/video/io/VideoFileClip.py:88\u001b[0m, in \u001b[0;36mVideoFileClip.__init__\u001b[0;34m(self, filename, has_mask, audio, audio_buffersize, target_resolution, resize_algorithm, audio_fps, audio_nbytes, verbose, fps_source)\u001b[0m\n\u001b[1;32m     86\u001b[0m \u001b[38;5;66;03m# Make a reader\u001b[39;00m\n\u001b[1;32m     87\u001b[0m pix_fmt \u001b[38;5;241m=\u001b[39m \u001b[38;5;124m\"\u001b[39m\u001b[38;5;124mrgba\u001b[39m\u001b[38;5;124m\"\u001b[39m \u001b[38;5;28;01mif\u001b[39;00m has_mask \u001b[38;5;28;01melse\u001b[39;00m \u001b[38;5;124m\"\u001b[39m\u001b[38;5;124mrgb24\u001b[39m\u001b[38;5;124m\"\u001b[39m\n\u001b[0;32m---> 88\u001b[0m \u001b[38;5;28mself\u001b[39m\u001b[38;5;241m.\u001b[39mreader \u001b[38;5;241m=\u001b[39m \u001b[43mFFMPEG_VideoReader\u001b[49m\u001b[43m(\u001b[49m\u001b[43mfilename\u001b[49m\u001b[43m,\u001b[49m\u001b[43m \u001b[49m\u001b[43mpix_fmt\u001b[49m\u001b[38;5;241;43m=\u001b[39;49m\u001b[43mpix_fmt\u001b[49m\u001b[43m,\u001b[49m\n\u001b[1;32m     89\u001b[0m \u001b[43m                                 \u001b[49m\u001b[43mtarget_resolution\u001b[49m\u001b[38;5;241;43m=\u001b[39;49m\u001b[43mtarget_resolution\u001b[49m\u001b[43m,\u001b[49m\n\u001b[1;32m     90\u001b[0m \u001b[43m                                 \u001b[49m\u001b[43mresize_algo\u001b[49m\u001b[38;5;241;43m=\u001b[39;49m\u001b[43mresize_algorithm\u001b[49m\u001b[43m,\u001b[49m\n\u001b[1;32m     91\u001b[0m \u001b[43m                                 \u001b[49m\u001b[43mfps_source\u001b[49m\u001b[38;5;241;43m=\u001b[39;49m\u001b[43mfps_source\u001b[49m\u001b[43m)\u001b[49m\n\u001b[1;32m     93\u001b[0m \u001b[38;5;66;03m# Make some of the reader's attributes accessible from the clip\u001b[39;00m\n\u001b[1;32m     94\u001b[0m \u001b[38;5;28mself\u001b[39m\u001b[38;5;241m.\u001b[39mduration \u001b[38;5;241m=\u001b[39m \u001b[38;5;28mself\u001b[39m\u001b[38;5;241m.\u001b[39mreader\u001b[38;5;241m.\u001b[39mduration\n",
      "File \u001b[0;32m~/.local/lib/python3.8/site-packages/moviepy/video/io/ffmpeg_reader.py:35\u001b[0m, in \u001b[0;36mFFMPEG_VideoReader.__init__\u001b[0;34m(self, filename, print_infos, bufsize, pix_fmt, check_duration, target_resolution, resize_algo, fps_source)\u001b[0m\n\u001b[1;32m     33\u001b[0m \u001b[38;5;28mself\u001b[39m\u001b[38;5;241m.\u001b[39mfilename \u001b[38;5;241m=\u001b[39m filename\n\u001b[1;32m     34\u001b[0m \u001b[38;5;28mself\u001b[39m\u001b[38;5;241m.\u001b[39mproc \u001b[38;5;241m=\u001b[39m \u001b[38;5;28;01mNone\u001b[39;00m\n\u001b[0;32m---> 35\u001b[0m infos \u001b[38;5;241m=\u001b[39m \u001b[43mffmpeg_parse_infos\u001b[49m\u001b[43m(\u001b[49m\u001b[43mfilename\u001b[49m\u001b[43m,\u001b[49m\u001b[43m \u001b[49m\u001b[43mprint_infos\u001b[49m\u001b[43m,\u001b[49m\u001b[43m \u001b[49m\u001b[43mcheck_duration\u001b[49m\u001b[43m,\u001b[49m\n\u001b[1;32m     36\u001b[0m \u001b[43m                           \u001b[49m\u001b[43mfps_source\u001b[49m\u001b[43m)\u001b[49m\n\u001b[1;32m     37\u001b[0m \u001b[38;5;28mself\u001b[39m\u001b[38;5;241m.\u001b[39mfps \u001b[38;5;241m=\u001b[39m infos[\u001b[38;5;124m'\u001b[39m\u001b[38;5;124mvideo_fps\u001b[39m\u001b[38;5;124m'\u001b[39m]\n\u001b[1;32m     38\u001b[0m \u001b[38;5;28mself\u001b[39m\u001b[38;5;241m.\u001b[39msize \u001b[38;5;241m=\u001b[39m infos[\u001b[38;5;124m'\u001b[39m\u001b[38;5;124mvideo_size\u001b[39m\u001b[38;5;124m'\u001b[39m]\n",
      "File \u001b[0;32m~/.local/lib/python3.8/site-packages/moviepy/video/io/ffmpeg_reader.py:270\u001b[0m, in \u001b[0;36mffmpeg_parse_infos\u001b[0;34m(filename, print_infos, check_duration, fps_source)\u001b[0m\n\u001b[1;32m    268\u001b[0m lines \u001b[38;5;241m=\u001b[39m infos\u001b[38;5;241m.\u001b[39msplitlines()\n\u001b[1;32m    269\u001b[0m \u001b[38;5;28;01mif\u001b[39;00m \u001b[38;5;124m\"\u001b[39m\u001b[38;5;124mNo such file or directory\u001b[39m\u001b[38;5;124m\"\u001b[39m \u001b[38;5;129;01min\u001b[39;00m lines[\u001b[38;5;241m-\u001b[39m\u001b[38;5;241m1\u001b[39m]:\n\u001b[0;32m--> 270\u001b[0m     \u001b[38;5;28;01mraise\u001b[39;00m \u001b[38;5;167;01mIOError\u001b[39;00m((\u001b[38;5;124m\"\u001b[39m\u001b[38;5;124mMoviePy error: the file \u001b[39m\u001b[38;5;132;01m%s\u001b[39;00m\u001b[38;5;124m could not be found!\u001b[39m\u001b[38;5;130;01m\\n\u001b[39;00m\u001b[38;5;124m\"\u001b[39m\n\u001b[1;32m    271\u001b[0m                   \u001b[38;5;124m\"\u001b[39m\u001b[38;5;124mPlease check that you entered the correct \u001b[39m\u001b[38;5;124m\"\u001b[39m\n\u001b[1;32m    272\u001b[0m                   \u001b[38;5;124m\"\u001b[39m\u001b[38;5;124mpath.\u001b[39m\u001b[38;5;124m\"\u001b[39m)\u001b[38;5;241m%\u001b[39mfilename)\n\u001b[1;32m    274\u001b[0m result \u001b[38;5;241m=\u001b[39m \u001b[38;5;28mdict\u001b[39m()\n\u001b[1;32m    277\u001b[0m \u001b[38;5;66;03m# get duration (in seconds)\u001b[39;00m\n",
      "\u001b[0;31mOSError\u001b[0m: MoviePy error: the file fir could not be found!\nPlease check that you entered the correct path."
     ]
    }
   ],
   "source": [
    "for fir in df:\n",
    "    clip = VideoFileClip(\"fir\")\n",
    "    clip = clip.subclip(0, 5)"
   ]
  },
  {
   "cell_type": "code",
   "execution_count": null,
   "id": "d3bac2e1",
   "metadata": {},
   "outputs": [],
   "source": []
  },
  {
   "cell_type": "code",
   "execution_count": 57,
   "id": "b4d8f178",
   "metadata": {},
   "outputs": [],
   "source": [
    "def collapse(L):\n",
    "    L1 = []\n",
    "    for data in L:\n",
    "        L1.append(str(data).split('trim/'))\n",
    "    return L1"
   ]
  },
  {
   "cell_type": "code",
   "execution_count": null,
   "id": "fd5f44db",
   "metadata": {},
   "outputs": [],
   "source": [
    "def "
   ]
  },
  {
   "cell_type": "code",
   "execution_count": 58,
   "id": "ea00e8f7",
   "metadata": {},
   "outputs": [
    {
     "ename": "AttributeError",
     "evalue": "'list' object has no attribute 'apply'",
     "output_type": "error",
     "traceback": [
      "\u001b[0;31m---------------------------------------------------------------------------\u001b[0m",
      "\u001b[0;31mAttributeError\u001b[0m                            Traceback (most recent call last)",
      "Input \u001b[0;32mIn [58]\u001b[0m, in \u001b[0;36m<cell line: 1>\u001b[0;34m()\u001b[0m\n\u001b[0;32m----> 1\u001b[0m \u001b[43mpath\u001b[49m\u001b[38;5;241;43m.\u001b[39;49m\u001b[43mapply\u001b[49m(collapse)\n",
      "\u001b[0;31mAttributeError\u001b[0m: 'list' object has no attribute 'apply'"
     ]
    }
   ],
   "source": [
    "path.apply(collapse)\n"
   ]
  },
  {
   "cell_type": "code",
   "execution_count": null,
   "id": "a1f759ee",
   "metadata": {},
   "outputs": [],
   "source": []
  },
  {
   "cell_type": "code",
   "execution_count": 39,
   "id": "4e5bce9d",
   "metadata": {
    "code_folding": []
   },
   "outputs": [],
   "source": []
  },
  {
   "cell_type": "code",
   "execution_count": 44,
   "id": "f2fa567b",
   "metadata": {},
   "outputs": [
    {
     "name": "stdout",
     "output_type": "stream",
     "text": [
      "<function clip at 0x7f0e04383a60>\n"
     ]
    }
   ],
   "source": [
    "print(clip)"
   ]
  },
  {
   "cell_type": "code",
   "execution_count": 5,
   "id": "901e085b",
   "metadata": {},
   "outputs": [
    {
     "data": {
      "text/plain": [
       "str"
      ]
     },
     "execution_count": 5,
     "metadata": {},
     "output_type": "execute_result"
    }
   ],
   "source": [
    "type(i)"
   ]
  },
  {
   "cell_type": "code",
   "execution_count": 53,
   "id": "1cf4594c",
   "metadata": {},
   "outputs": [
    {
     "name": "stdout",
     "output_type": "stream",
     "text": [
      "input4.mp4\n"
     ]
    }
   ],
   "source": [
    "print(i[44:55])"
   ]
  },
  {
   "cell_type": "code",
   "execution_count": 45,
   "id": "b5397970",
   "metadata": {},
   "outputs": [],
   "source": [
    "# for t in i:\n",
    "#     print(t[44:55])"
   ]
  },
  {
   "cell_type": "code",
   "execution_count": 56,
   "id": "b78009e3",
   "metadata": {},
   "outputs": [
    {
     "ename": "AttributeError",
     "evalue": "'list' object has no attribute 'str'",
     "output_type": "error",
     "traceback": [
      "\u001b[0;31m---------------------------------------------------------------------------\u001b[0m",
      "\u001b[0;31mAttributeError\u001b[0m                            Traceback (most recent call last)",
      "Input \u001b[0;32mIn [56]\u001b[0m, in \u001b[0;36m<cell line: 1>\u001b[0;34m()\u001b[0m\n\u001b[0;32m----> 1\u001b[0m \u001b[43mpath\u001b[49m\u001b[38;5;241;43m.\u001b[39;49m\u001b[43mstr\u001b[49m\u001b[38;5;241m.\u001b[39msplit(\u001b[38;5;124m'\u001b[39m\u001b[38;5;124m.mp4\u001b[39m\u001b[38;5;124m'\u001b[39m,expand\u001b[38;5;241m=\u001b[39m\u001b[38;5;28;01mTrue\u001b[39;00m)\n",
      "\u001b[0;31mAttributeError\u001b[0m: 'list' object has no attribute 'str'"
     ]
    }
   ],
   "source": [
    "path.str.split('.mp4',expand=True)"
   ]
  },
  {
   "cell_type": "code",
   "execution_count": 57,
   "id": "a3ed9c65",
   "metadata": {},
   "outputs": [
    {
     "ename": "NameError",
     "evalue": "name 'df' is not defined",
     "output_type": "error",
     "traceback": [
      "\u001b[0;31m---------------------------------------------------------------------------\u001b[0m",
      "\u001b[0;31mNameError\u001b[0m                                 Traceback (most recent call last)",
      "Input \u001b[0;32mIn [57]\u001b[0m, in \u001b[0;36m<cell line: 1>\u001b[0;34m()\u001b[0m\n\u001b[0;32m----> 1\u001b[0m df2\u001b[38;5;241m=\u001b[39m\u001b[43mdf\u001b[49m[\u001b[38;5;124m'\u001b[39m\u001b[38;5;124mdata\u001b[39m\u001b[38;5;124m'\u001b[39m]\u001b[38;5;241m.\u001b[39mstr\u001b[38;5;241m.\u001b[39msplit(\u001b[38;5;124m'\u001b[39m\u001b[38;5;124mABb\u001b[39m\u001b[38;5;124m'\u001b[39m,expand\u001b[38;5;241m=\u001b[39m\u001b[38;5;28;01mTrue\u001b[39;00m)\n\u001b[1;32m      2\u001b[0m df2\n",
      "\u001b[0;31mNameError\u001b[0m: name 'df' is not defined"
     ]
    }
   ],
   "source": [
    "df2=df['data'].str.split('ABb',expand=True)\n",
    "df2"
   ]
  },
  {
   "cell_type": "code",
   "execution_count": 68,
   "id": "1fd2ffad",
   "metadata": {},
   "outputs": [
    {
     "data": {
      "text/plain": [
       "['/home/link-lap-24/Downloads/golf_june7/trim/input3.mp4',\n",
       " '/home/link-lap-24/Downloads/golf_june7/trim/input1.mp4',\n",
       " '/home/link-lap-24/Downloads/golf_june7/trim/input2.mp4',\n",
       " '/home/link-lap-24/Downloads/golf_june7/trim/input4.mp4']"
      ]
     },
     "execution_count": 68,
     "metadata": {},
     "output_type": "execute_result"
    }
   ],
   "source": [
    "path"
   ]
  },
  {
   "cell_type": "code",
   "execution_count": 52,
   "id": "67075834",
   "metadata": {},
   "outputs": [
    {
     "data": {
      "text/plain": [
       "'/home/link-lap-24/Downloads/golf_june7/trim/input1.mp4'"
      ]
     },
     "execution_count": 52,
     "metadata": {},
     "output_type": "execute_result"
    }
   ],
   "source": [
    "video1=path[1]\n",
    "video1"
   ]
  },
  {
   "cell_type": "code",
   "execution_count": 54,
   "id": "6a1cf44e",
   "metadata": {},
   "outputs": [
    {
     "data": {
      "text/plain": [
       "list"
      ]
     },
     "execution_count": 54,
     "metadata": {},
     "output_type": "execute_result"
    }
   ],
   "source": [
    "type(path)"
   ]
  },
  {
   "cell_type": "code",
   "execution_count": null,
   "id": "33c1b6d9",
   "metadata": {},
   "outputs": [],
   "source": [
    "strt=[]\n",
    "for i in path:\n",
    "    strt.append.i\n",
    "    "
   ]
  },
  {
   "cell_type": "code",
   "execution_count": 98,
   "id": "6ad1d5b2",
   "metadata": {},
   "outputs": [],
   "source": [
    "#replace\n",
    "\n",
    "name='tusharbhawsar'\n",
    "new='ritik'\n",
    "old='tushar'"
   ]
  },
  {
   "cell_type": "code",
   "execution_count": 73,
   "id": "aecf79cf",
   "metadata": {},
   "outputs": [
    {
     "data": {
      "text/plain": [
       "'ritikbhawsar'"
      ]
     },
     "execution_count": 73,
     "metadata": {},
     "output_type": "execute_result"
    }
   ],
   "source": [
    "name.replace(old,new)"
   ]
  },
  {
   "cell_type": "code",
   "execution_count": 74,
   "id": "4b3fc96d",
   "metadata": {},
   "outputs": [
    {
     "data": {
      "text/plain": [
       "'ritikbhawsar'"
      ]
     },
     "execution_count": 74,
     "metadata": {},
     "output_type": "execute_result"
    }
   ],
   "source": [
    "name.replace('tushar','ritik')"
   ]
  },
  {
   "cell_type": "code",
   "execution_count": 81,
   "id": "024d9d76",
   "metadata": {},
   "outputs": [
    {
     "name": "stdout",
     "output_type": "stream",
     "text": [
      "input3.mp4\n",
      "input1.mp4\n",
      "input2.mp4\n",
      "input4.mp4\n"
     ]
    }
   ],
   "source": [
    "for ll in path:\n",
    "    print(ll.replace(\"/home/link-lap-24/Downloads/golf_june7/trim/i\",\"i\"))"
   ]
  },
  {
   "cell_type": "code",
   "execution_count": 76,
   "id": "9e59367a",
   "metadata": {},
   "outputs": [
    {
     "name": "stdout",
     "output_type": "stream",
     "text": [
      "/home/link-lap-24/Downloads/golf_june7/trim/input4.mp4\n"
     ]
    }
   ],
   "source": [
    "print(ll)"
   ]
  },
  {
   "cell_type": "code",
   "execution_count": 83,
   "id": "42d3d353",
   "metadata": {},
   "outputs": [],
   "source": [
    "#split\n",
    "\n",
    "data='tushar-bhawsar'\n",
    "\n",
    "df=data.split('-')"
   ]
  },
  {
   "cell_type": "code",
   "execution_count": 86,
   "id": "2154464d",
   "metadata": {},
   "outputs": [
    {
     "data": {
      "text/plain": [
       "['tushar', 'bhawsar']"
      ]
     },
     "execution_count": 86,
     "metadata": {},
     "output_type": "execute_result"
    }
   ],
   "source": [
    "df"
   ]
  },
  {
   "cell_type": "code",
   "execution_count": 89,
   "id": "1ecde4c9",
   "metadata": {},
   "outputs": [],
   "source": [
    "data2='tushar bhawsar ai'\n",
    "df2=data2.split(' ')"
   ]
  },
  {
   "cell_type": "code",
   "execution_count": 90,
   "id": "b824172c",
   "metadata": {},
   "outputs": [
    {
     "data": {
      "text/plain": [
       "'bhawsar'"
      ]
     },
     "execution_count": 90,
     "metadata": {},
     "output_type": "execute_result"
    }
   ],
   "source": [
    "df2[1]"
   ]
  },
  {
   "cell_type": "code",
   "execution_count": 94,
   "id": "db935a8b",
   "metadata": {},
   "outputs": [
    {
     "data": {
      "text/plain": [
       "'tushar_bhawsar_is_a_dataannotator'"
      ]
     },
     "execution_count": 94,
     "metadata": {},
     "output_type": "execute_result"
    }
   ],
   "source": [
    "#join\n",
    "\n",
    "prat=('tushar','bhawsar','is','a','dataannotator')\n",
    "\n",
    "prt='_'.join(prat)\n",
    "\n",
    "prt"
   ]
  },
  {
   "cell_type": "code",
   "execution_count": 97,
   "id": "2c245a36",
   "metadata": {},
   "outputs": [
    {
     "data": {
      "text/plain": [
       "'tushar bhawsar is a dataannotator'"
      ]
     },
     "execution_count": 97,
     "metadata": {},
     "output_type": "execute_result"
    }
   ],
   "source": [
    "prat=('tushar','bhawsar','is','a','dataannotator')\n",
    "\n",
    "prt=' '.join(prat)\n",
    "\n",
    "prt"
   ]
  },
  {
   "cell_type": "code",
   "execution_count": 1,
   "id": "ff15a715",
   "metadata": {},
   "outputs": [
    {
     "name": "stdout",
     "output_type": "stream",
     "text": [
      "(0, 'tushar')\n",
      "(1, 'bhawsar')\n",
      "(2, 'ritik')\n",
      "(3, 'bhawsar')\n"
     ]
    }
   ],
   "source": [
    "# emumerate\n",
    "\n",
    "# Often, when dealing with iterators, we also get need to keep a count of iterations.\n",
    "# Python eases the programmers task by providing a built-in function enumerate() for this task.\n",
    "# Enumerate()method adds a counter to an iterable and returns it in a form of enumerating object. This enumerated \n",
    "# object can then be used directly for loops or converted into a list of tuples using the list() method\n",
    "\n",
    "\n",
    "li=['tushar','bhawsar','ritik','bhawsar']\n",
    "\n",
    "\n",
    "for g in enumerate(li):\n",
    "    print(g)"
   ]
  },
  {
   "cell_type": "code",
   "execution_count": 6,
   "id": "87ed665b",
   "metadata": {},
   "outputs": [
    {
     "name": "stdout",
     "output_type": "stream",
     "text": [
      "<enumerate object at 0x7fba2cce6200>\n"
     ]
    }
   ],
   "source": []
  },
  {
   "cell_type": "code",
   "execution_count": null,
   "id": "384dfa50",
   "metadata": {},
   "outputs": [],
   "source": []
  }
 ],
 "metadata": {
  "kernelspec": {
   "display_name": "Python 3 (ipykernel)",
   "language": "python",
   "name": "python3"
  },
  "language_info": {
   "codemirror_mode": {
    "name": "ipython",
    "version": 3
   },
   "file_extension": ".py",
   "mimetype": "text/x-python",
   "name": "python",
   "nbconvert_exporter": "python",
   "pygments_lexer": "ipython3",
   "version": "3.8.10"
  }
 },
 "nbformat": 4,
 "nbformat_minor": 5
}
