{
 "cells": [
  {
   "cell_type": "code",
   "execution_count": 1,
   "id": "6ed79b23",
   "metadata": {},
   "outputs": [],
   "source": [
    "import os \n",
    "import ffmpeg"
   ]
  },
  {
   "cell_type": "code",
   "execution_count": 2,
   "id": "76c7e58f",
   "metadata": {},
   "outputs": [],
   "source": [
    "import cv2\n",
    "import glob"
   ]
  },
  {
   "cell_type": "code",
   "execution_count": 3,
   "id": "b636ea33",
   "metadata": {},
   "outputs": [],
   "source": [
    "path=glob.glob('/home/link-lap-24/Downloads/golf_june7/trim/*.mp4')"
   ]
  },
  {
   "cell_type": "code",
   "execution_count": 1,
   "id": "8b3aac1f",
   "metadata": {
    "scrolled": true
   },
   "outputs": [
    {
     "ename": "NameError",
     "evalue": "name 'path' is not defined",
     "output_type": "error",
     "traceback": [
      "\u001b[0;31m---------------------------------------------------------------------------\u001b[0m",
      "\u001b[0;31mNameError\u001b[0m                                 Traceback (most recent call last)",
      "Input \u001b[0;32mIn [1]\u001b[0m, in \u001b[0;36m<cell line: 1>\u001b[0;34m()\u001b[0m\n\u001b[0;32m----> 1\u001b[0m \u001b[38;5;28mprint\u001b[39m(\u001b[43mpath\u001b[49m)\n",
      "\u001b[0;31mNameError\u001b[0m: name 'path' is not defined"
     ]
    }
   ],
   "source": [
    "print(path)"
   ]
  },
  {
   "cell_type": "code",
   "execution_count": 5,
   "id": "5bddb10f",
   "metadata": {},
   "outputs": [],
   "source": [
    "from moviepy.editor import *"
   ]
  },
  {
   "cell_type": "code",
   "execution_count": 10,
   "id": "e70b8350",
   "metadata": {
    "code_folding": []
   },
   "outputs": [],
   "source": [
    "for trim in path:\n",
    "    trim=VideoFileClip(trim)\n",
    "    trim=trim.subclip(0,5)"
   ]
  },
  {
   "cell_type": "code",
   "execution_count": 11,
   "id": "f3aa3869",
   "metadata": {},
   "outputs": [
    {
     "name": "stdout",
     "output_type": "stream",
     "text": [
      "/home/link-lap-24/Downloads/golf_june7/trim/input3.mp4\n",
      "/home/link-lap-24/Downloads/golf_june7/trim/input1.mp4\n",
      "/home/link-lap-24/Downloads/golf_june7/trim/input2.mp4\n",
      "/home/link-lap-24/Downloads/golf_june7/trim/input4.mp4\n"
     ]
    }
   ],
   "source": [
    "for trim in path:\n",
    "    print(trim)\n"
   ]
  },
  {
   "cell_type": "code",
   "execution_count": 12,
   "id": "fd0fb418",
   "metadata": {},
   "outputs": [],
   "source": [
    "# Import everything needed to edit video clips\n",
    "from moviepy.editor import *\n",
    "\n",
    "# loading video gfg\n",
    "clip = VideoFileClip(\"/home/link-lap-24/Downloads/golf_june7/trim/input3.mp4\")\n",
    "# getting only first 5 seconds\n",
    "clip = clip.subclip(0, 5)\n",
    "# showing clip"
   ]
  },
  {
   "cell_type": "code",
   "execution_count": 2,
   "id": "3ec9e37c",
   "metadata": {},
   "outputs": [
    {
     "ename": "SyntaxError",
     "evalue": "invalid syntax (1753591752.py, line 1)",
     "output_type": "error",
     "traceback": [
      "\u001b[0;36m  Input \u001b[0;32mIn [2]\u001b[0;36m\u001b[0m\n\u001b[0;31m    line=/home/link-lap-24/Downloads/golf_june7/trim/input3.mp4\u001b[0m\n\u001b[0m         ^\u001b[0m\n\u001b[0;31mSyntaxError\u001b[0m\u001b[0;31m:\u001b[0m invalid syntax\n"
     ]
    }
   ],
   "source": [
    "line=/home/link-lap-24/Downloads/golf_june7/trim/input3.mp4\n",
    "\n",
    "val=line.split('/trim')\n",
    "\n",
    "print(val)"
   ]
  },
  {
   "cell_type": "code",
   "execution_count": 3,
   "id": "90a6ddf9",
   "metadata": {},
   "outputs": [
    {
     "data": {
      "text/plain": [
       "['world', 'tushar bhawsar']"
      ]
     },
     "execution_count": 3,
     "metadata": {},
     "output_type": "execute_result"
    }
   ],
   "source": [
    "line2='world:tushar bhawsar'\n",
    "\n",
    "line2.split(':',1)"
   ]
  },
  {
   "cell_type": "code",
   "execution_count": 7,
   "id": "01e65253",
   "metadata": {
    "code_folding": []
   },
   "outputs": [],
   "source": [
    "# loading video gfg\n",
    "clip = VideoFileClip(\"input1.mp4\")\n",
    "# getting only first 5 seconds\n",
    "clip = clip.subclip(0, 5)\n",
    "# showing clip"
   ]
  },
  {
   "cell_type": "code",
   "execution_count": 11,
   "id": "f9e18fb3",
   "metadata": {},
   "outputs": [
    {
     "name": "stdout",
     "output_type": "stream",
     "text": [
      "[youtube] OhtqJi6mE9E: Downloading webpage\n",
      "Obtaining frames\n"
     ]
    }
   ],
   "source": [
    "video_url='https://youtu.be/OhtqJi6mE9E' #The Youtube URL\n",
    "ydl_opts={}\n",
    "ydl=youtube_dl.YoutubeDL(ydl_opts)\n",
    "info_dict=ydl.extract_info(video_url, download=False)\n",
    "\n",
    "formats = info_dict.get('formats',None)\n",
    "print(\"Obtaining frames\")\n",
    "for f in formats:\n",
    "    if f.get('format_note',None) == '144p':\n",
    "        url = f.get('url',None)\n",
    "        cap = cv2.VideoCapture(url)\n",
    "        x=0\n",
    "        count=0\n",
    "        while x<10:\n",
    "            ret, frame = cap.read()\n",
    "            if not ret:\n",
    "                break\n",
    "            filename =r\"PATH\\shot\"+str(x)+\".png\"\n",
    "            x+=1\n",
    "            cv2.imwrite(filename.format(count), frame)\n",
    "            count+=300 #Skip 300 frames i.e. 10 seconds for 30 fps\n",
    "            cap.set(1,count)\n",
    "            if cv2.waitKey(30)&0xFF == ord('q'):\n",
    "                break\n",
    "        cap.release()"
   ]
  },
  {
   "cell_type": "code",
   "execution_count": 10,
   "id": "0c77aed4",
   "metadata": {},
   "outputs": [],
   "source": [
    "import youtube_dl\n",
    "import cv2"
   ]
  },
  {
   "cell_type": "code",
   "execution_count": 2,
   "id": "73e4297d",
   "metadata": {},
   "outputs": [
    {
     "name": "stdout",
     "output_type": "stream",
     "text": [
      "5\n",
      "0\n",
      "1\n",
      "4\n",
      "9\n",
      "16\n"
     ]
    }
   ],
   "source": [
    "n = int(input())\n",
    "    \n",
    "for i in range(n):\n",
    "    print(i*i)"
   ]
  },
  {
   "cell_type": "code",
   "execution_count": 22,
   "id": "eabdeca8",
   "metadata": {},
   "outputs": [
    {
     "name": "stdout",
     "output_type": "stream",
     "text": [
      "2020\n",
      "True\n"
     ]
    }
   ],
   "source": [
    "n = int(input())\n",
    "\n",
    "if n % 4==0:\n",
    "    print(\"True\")\n",
    "else:\n",
    "    print(\"False\")"
   ]
  },
  {
   "cell_type": "code",
   "execution_count": 62,
   "id": "9e63ecd9",
   "metadata": {},
   "outputs": [
    {
     "name": "stdout",
     "output_type": "stream",
     "text": [
      "2016\n",
      "False\n"
     ]
    }
   ],
   "source": [
    "def is_leap(year):\n",
    "    leap = False\n",
    "    if year % 4!=0:\n",
    "        return leap\n",
    "    elif year % 100 !=0:\n",
    "        return leap\n",
    "    elif year % 400!=0:\n",
    "        return leap\n",
    "    else:\n",
    "        return True\n",
    "year = int(input())\n",
    "print(is_leap(year))"
   ]
  },
  {
   "cell_type": "code",
   "execution_count": 93,
   "id": "a2d045c6",
   "metadata": {
    "code_folding": [],
    "scrolled": true
   },
   "outputs": [
    {
     "name": "stdout",
     "output_type": "stream",
     "text": [
      "1600\n",
      "None\n"
     ]
    }
   ],
   "source": [
    "def is_leap(year):\n",
    "    leap = False\n",
    "    if year % 400 !=0 or year % 100 ==0:\n",
    "        if year % 4 !=0:\n",
    "            return leap\n",
    "    else:\n",
    "        return True\n",
    "\n",
    "year = int(input())\n",
    "print(is_leap(year))"
   ]
  },
  {
   "cell_type": "code",
   "execution_count": null,
   "id": "1d1405c9",
   "metadata": {},
   "outputs": [],
   "source": [
    "def is_leap(year):\n",
    "    if year% 400 == 0:\n",
    "        return True \n",
    "    if year % 100== 0:\n",
    "            return False\n",
    "    if year % 4 ==0:\n",
    "            return True   \n",
    "    else:\n",
    "        return False\n",
    "year= int(input('Enter a num:'))\n",
    "print(is_leap(year))"
   ]
  },
  {
   "cell_type": "code",
   "execution_count": null,
   "id": "bb1edc68",
   "metadata": {},
   "outputs": [],
   "source": []
  },
  {
   "cell_type": "code",
   "execution_count": 85,
   "id": "a138a542",
   "metadata": {},
   "outputs": [
    {
     "name": "stdout",
     "output_type": "stream",
     "text": [
      "Enter a num:2100\n",
      "False\n",
      "None\n"
     ]
    }
   ],
   "source": [
    "def is_leap(year):\n",
    "    if year% 4 == 0 and year % 400==0:\n",
    "        print('True')\n",
    "    # elif year % 100 == 0:\n",
    "    #     print('False')\n",
    "    else:\n",
    "        print('False')\n",
    "year= int(input('Enter a num:'))\n",
    "print(is_leap(year))"
   ]
  },
  {
   "cell_type": "code",
   "execution_count": 102,
   "id": "a295ce1d",
   "metadata": {
    "scrolled": true
   },
   "outputs": [
    {
     "ename": "KeyboardInterrupt",
     "evalue": "Interrupted by user",
     "output_type": "error",
     "traceback": [
      "\u001b[0;31m---------------------------------------------------------------------------\u001b[0m",
      "\u001b[0;31mKeyboardInterrupt\u001b[0m                         Traceback (most recent call last)",
      "Input \u001b[0;32mIn [102]\u001b[0m, in \u001b[0;36m<cell line: 8>\u001b[0;34m()\u001b[0m\n\u001b[1;32m      5\u001b[0m     \u001b[38;5;28;01melse\u001b[39;00m:\n\u001b[1;32m      6\u001b[0m         \u001b[38;5;28mprint\u001b[39m(\u001b[38;5;124m\"\u001b[39m\u001b[38;5;124mtrue\u001b[39m\u001b[38;5;124m\"\u001b[39m)\n\u001b[0;32m----> 8\u001b[0m year\u001b[38;5;241m=\u001b[39m\u001b[38;5;28mint\u001b[39m(\u001b[38;5;28;43minput\u001b[39;49m\u001b[43m(\u001b[49m\u001b[43m)\u001b[49m)\n\u001b[1;32m      9\u001b[0m \u001b[38;5;28mprint\u001b[39m(lepyr(year))\n",
      "File \u001b[0;32m~/.local/lib/python3.8/site-packages/ipykernel/kernelbase.py:1161\u001b[0m, in \u001b[0;36mKernel.raw_input\u001b[0;34m(self, prompt)\u001b[0m\n\u001b[1;32m   1157\u001b[0m \u001b[38;5;28;01mif\u001b[39;00m \u001b[38;5;129;01mnot\u001b[39;00m \u001b[38;5;28mself\u001b[39m\u001b[38;5;241m.\u001b[39m_allow_stdin:\n\u001b[1;32m   1158\u001b[0m     \u001b[38;5;28;01mraise\u001b[39;00m StdinNotImplementedError(\n\u001b[1;32m   1159\u001b[0m         \u001b[38;5;124m\"\u001b[39m\u001b[38;5;124mraw_input was called, but this frontend does not support input requests.\u001b[39m\u001b[38;5;124m\"\u001b[39m\n\u001b[1;32m   1160\u001b[0m     )\n\u001b[0;32m-> 1161\u001b[0m \u001b[38;5;28;01mreturn\u001b[39;00m \u001b[38;5;28;43mself\u001b[39;49m\u001b[38;5;241;43m.\u001b[39;49m\u001b[43m_input_request\u001b[49m\u001b[43m(\u001b[49m\n\u001b[1;32m   1162\u001b[0m \u001b[43m    \u001b[49m\u001b[38;5;28;43mstr\u001b[39;49m\u001b[43m(\u001b[49m\u001b[43mprompt\u001b[49m\u001b[43m)\u001b[49m\u001b[43m,\u001b[49m\n\u001b[1;32m   1163\u001b[0m \u001b[43m    \u001b[49m\u001b[38;5;28;43mself\u001b[39;49m\u001b[38;5;241;43m.\u001b[39;49m\u001b[43m_parent_ident\u001b[49m\u001b[43m[\u001b[49m\u001b[38;5;124;43m\"\u001b[39;49m\u001b[38;5;124;43mshell\u001b[39;49m\u001b[38;5;124;43m\"\u001b[39;49m\u001b[43m]\u001b[49m\u001b[43m,\u001b[49m\n\u001b[1;32m   1164\u001b[0m \u001b[43m    \u001b[49m\u001b[38;5;28;43mself\u001b[39;49m\u001b[38;5;241;43m.\u001b[39;49m\u001b[43mget_parent\u001b[49m\u001b[43m(\u001b[49m\u001b[38;5;124;43m\"\u001b[39;49m\u001b[38;5;124;43mshell\u001b[39;49m\u001b[38;5;124;43m\"\u001b[39;49m\u001b[43m)\u001b[49m\u001b[43m,\u001b[49m\n\u001b[1;32m   1165\u001b[0m \u001b[43m    \u001b[49m\u001b[43mpassword\u001b[49m\u001b[38;5;241;43m=\u001b[39;49m\u001b[38;5;28;43;01mFalse\u001b[39;49;00m\u001b[43m,\u001b[49m\n\u001b[1;32m   1166\u001b[0m \u001b[43m\u001b[49m\u001b[43m)\u001b[49m\n",
      "File \u001b[0;32m~/.local/lib/python3.8/site-packages/ipykernel/kernelbase.py:1205\u001b[0m, in \u001b[0;36mKernel._input_request\u001b[0;34m(self, prompt, ident, parent, password)\u001b[0m\n\u001b[1;32m   1202\u001b[0m             \u001b[38;5;28;01mbreak\u001b[39;00m\n\u001b[1;32m   1203\u001b[0m \u001b[38;5;28;01mexcept\u001b[39;00m \u001b[38;5;167;01mKeyboardInterrupt\u001b[39;00m:\n\u001b[1;32m   1204\u001b[0m     \u001b[38;5;66;03m# re-raise KeyboardInterrupt, to truncate traceback\u001b[39;00m\n\u001b[0;32m-> 1205\u001b[0m     \u001b[38;5;28;01mraise\u001b[39;00m \u001b[38;5;167;01mKeyboardInterrupt\u001b[39;00m(\u001b[38;5;124m\"\u001b[39m\u001b[38;5;124mInterrupted by user\u001b[39m\u001b[38;5;124m\"\u001b[39m) \u001b[38;5;28;01mfrom\u001b[39;00m \u001b[38;5;28mNone\u001b[39m\n\u001b[1;32m   1206\u001b[0m \u001b[38;5;28;01mexcept\u001b[39;00m \u001b[38;5;167;01mException\u001b[39;00m:\n\u001b[1;32m   1207\u001b[0m     \u001b[38;5;28mself\u001b[39m\u001b[38;5;241m.\u001b[39mlog\u001b[38;5;241m.\u001b[39mwarning(\u001b[38;5;124m\"\u001b[39m\u001b[38;5;124mInvalid Message:\u001b[39m\u001b[38;5;124m\"\u001b[39m, exc_info\u001b[38;5;241m=\u001b[39m\u001b[38;5;28;01mTrue\u001b[39;00m)\n",
      "\u001b[0;31mKeyboardInterrupt\u001b[0m: Interrupted by user"
     ]
    }
   ],
   "source": [
    "def lepyr(year):\n",
    "    leap=False\n",
    "    if year % 100==0:\n",
    "        return leap\n",
    "    else:\n",
    "        print(\"true\")\n",
    "\n",
    "year=int(input())\n",
    "print(lepyr(year))"
   ]
  },
  {
   "cell_type": "code",
   "execution_count": 97,
   "id": "83f35956",
   "metadata": {},
   "outputs": [
    {
     "data": {
      "text/plain": [
       "1.6666666666666667"
      ]
     },
     "execution_count": 97,
     "metadata": {},
     "output_type": "execute_result"
    }
   ],
   "source": [
    "5/3"
   ]
  },
  {
   "cell_type": "code",
   "execution_count": 101,
   "id": "e07f9f9c",
   "metadata": {},
   "outputs": [
    {
     "data": {
      "text/plain": [
       "1"
      ]
     },
     "execution_count": 101,
     "metadata": {},
     "output_type": "execute_result"
    }
   ],
   "source": [
    "5//3"
   ]
  },
  {
   "cell_type": "code",
   "execution_count": 100,
   "id": "e3050dc8",
   "metadata": {},
   "outputs": [
    {
     "data": {
      "text/plain": [
       "1"
      ]
     },
     "execution_count": 100,
     "metadata": {},
     "output_type": "execute_result"
    }
   ],
   "source": [
    "5%4"
   ]
  },
  {
   "cell_type": "code",
   "execution_count": null,
   "id": "948a9f58",
   "metadata": {},
   "outputs": [],
   "source": [
    "tu='1234'"
   ]
  },
  {
   "cell_type": "code",
   "execution_count": 7,
   "id": "9af8c1f4",
   "metadata": {},
   "outputs": [],
   "source": [
    "def leapyear(year):\n",
    "    if year % 2==0:\n",
    "        print(\"false\")\n",
    "    else:\n",
    "        print(\"true\")"
   ]
  },
  {
   "cell_type": "code",
   "execution_count": 8,
   "id": "943a4938",
   "metadata": {},
   "outputs": [
    {
     "name": "stdout",
     "output_type": "stream",
     "text": [
      "true\n"
     ]
    }
   ],
   "source": [
    "leapyear(55455)"
   ]
  },
  {
   "cell_type": "code",
   "execution_count": 9,
   "id": "a48c9c58",
   "metadata": {},
   "outputs": [
    {
     "name": "stdout",
     "output_type": "stream",
     "text": [
      "false\n"
     ]
    }
   ],
   "source": [
    "leapyear(787874)"
   ]
  },
  {
   "cell_type": "code",
   "execution_count": 18,
   "id": "59af19b6",
   "metadata": {},
   "outputs": [
    {
     "name": "stdout",
     "output_type": "stream",
     "text": [
      "2016\n",
      "false\n",
      "None\n"
     ]
    }
   ],
   "source": [
    "def is_leap(year):\n",
    "    if year % 4==0:\n",
    "        print(\"false\")\n",
    "    else:\n",
    "        print(\"true\")\n",
    "year = int(input())\n",
    "print(is_leap(year))"
   ]
  },
  {
   "cell_type": "code",
   "execution_count": 15,
   "id": "022e0d4c",
   "metadata": {},
   "outputs": [
    {
     "name": "stdout",
     "output_type": "stream",
     "text": [
      "4\n",
      "False\n",
      "1\n"
     ]
    }
   ],
   "source": [
    "def is_leap4(year):\n",
    "    leap = False\n",
    "    notleap=True\n",
    "    \n",
    "    if year % 2==0:\n",
    "        print(leap)\n",
    "    else:\n",
    "        print(notleap)\n",
    "    \n",
    "    return leap + notleap\n",
    "\n",
    "year = int(input())\n",
    "print(is_leap(year))"
   ]
  },
  {
   "cell_type": "code",
   "execution_count": 16,
   "id": "c8b2d320",
   "metadata": {},
   "outputs": [
    {
     "name": "stdout",
     "output_type": "stream",
     "text": [
      "False\n"
     ]
    },
    {
     "data": {
      "text/plain": [
       "1"
      ]
     },
     "execution_count": 16,
     "metadata": {},
     "output_type": "execute_result"
    }
   ],
   "source": [
    "is_leap4(5454)"
   ]
  },
  {
   "cell_type": "code",
   "execution_count": 30,
   "id": "69cec866",
   "metadata": {},
   "outputs": [
    {
     "name": "stdout",
     "output_type": "stream",
     "text": [
      "789\n",
      "not even no\n"
     ]
    }
   ],
   "source": [
    "ev_od=int(input())\n",
    "\n",
    "if ev_od % 2!=0:\n",
    "    print(\"not even no\")\n",
    "else:\n",
    "    print(\"even no\")"
   ]
  },
  {
   "cell_type": "code",
   "execution_count": null,
   "id": "649975c2",
   "metadata": {},
   "outputs": [],
   "source": []
  }
 ],
 "metadata": {
  "kernelspec": {
   "display_name": "Python 3 (ipykernel)",
   "language": "python",
   "name": "python3"
  },
  "language_info": {
   "codemirror_mode": {
    "name": "ipython",
    "version": 3
   },
   "file_extension": ".py",
   "mimetype": "text/x-python",
   "name": "python",
   "nbconvert_exporter": "python",
   "pygments_lexer": "ipython3",
   "version": "3.8.10"
  }
 },
 "nbformat": 4,
 "nbformat_minor": 5
}
