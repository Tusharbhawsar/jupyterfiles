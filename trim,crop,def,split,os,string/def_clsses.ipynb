{
 "cells": [
  {
   "cell_type": "code",
   "execution_count": 1,
   "id": "4fecd55c",
   "metadata": {},
   "outputs": [],
   "source": [
    "def tushar():\n",
    "    print('Ai')\n",
    "    print('Data Annotator')"
   ]
  },
  {
   "cell_type": "code",
   "execution_count": 2,
   "id": "0e66aaf4",
   "metadata": {},
   "outputs": [
    {
     "name": "stdout",
     "output_type": "stream",
     "text": [
      "Ai\n",
      "Data Annotator\n"
     ]
    }
   ],
   "source": [
    "tushar()"
   ]
  },
  {
   "cell_type": "code",
   "execution_count": 3,
   "id": "58707d82",
   "metadata": {},
   "outputs": [],
   "source": [
    "def details(name,address):\n",
    "    print(f'hi{name}{address}')\n",
    "    print(\"welcome\")"
   ]
  },
  {
   "cell_type": "code",
   "execution_count": 5,
   "id": "587805d0",
   "metadata": {},
   "outputs": [
    {
     "name": "stdout",
     "output_type": "stream",
     "text": [
      "hitushar56/2 Akhnad\n",
      "welcome\n"
     ]
    }
   ],
   "source": [
    "details(\"tushar\",\"56/2 Akhnad\")"
   ]
  },
  {
   "cell_type": "code",
   "execution_count": 9,
   "id": "0e696939",
   "metadata": {},
   "outputs": [],
   "source": [
    "def himanshu(name):\n",
    "    return f'hi {name}'\n",
    "    "
   ]
  },
  {
   "cell_type": "code",
   "execution_count": 12,
   "id": "4a05e1ab",
   "metadata": {},
   "outputs": [],
   "source": [
    "df=himanshu('himanshu')"
   ]
  },
  {
   "cell_type": "code",
   "execution_count": 13,
   "id": "a0ba3329",
   "metadata": {},
   "outputs": [
    {
     "data": {
      "text/plain": [
       "'hi himanshu'"
      ]
     },
     "execution_count": 13,
     "metadata": {},
     "output_type": "execute_result"
    }
   ],
   "source": [
    "df"
   ]
  },
  {
   "cell_type": "code",
   "execution_count": 18,
   "id": "0ad62cc6",
   "metadata": {},
   "outputs": [],
   "source": [
    "def cricker_info(name,run,matches):\n",
    "    print(f'this is the match info of cricket: name:{name} runs:{run} matches :{matches}')"
   ]
  },
  {
   "cell_type": "code",
   "execution_count": 19,
   "id": "55e2c1b3",
   "metadata": {},
   "outputs": [
    {
     "name": "stdout",
     "output_type": "stream",
     "text": [
      "this is the match info of cricket: name:tushar runs:250 matches :7\n"
     ]
    }
   ],
   "source": [
    "cricker_info('tushar',250,7)"
   ]
  },
  {
   "cell_type": "code",
   "execution_count": 20,
   "id": "088d8c8b",
   "metadata": {},
   "outputs": [],
   "source": [
    "def choice(c):\n",
    "    if c%2 ==0:\n",
    "        return \"Learn Python!\"\n",
    "    else:\n",
    "        return \"Learn JavaScript!\""
   ]
  },
  {
   "cell_type": "code",
   "execution_count": 24,
   "id": "8219893e",
   "metadata": {},
   "outputs": [
    {
     "data": {
      "text/plain": [
       "'Learn JavaScript!'"
      ]
     },
     "execution_count": 24,
     "metadata": {},
     "output_type": "execute_result"
    }
   ],
   "source": [
    "choice(23)"
   ]
  },
  {
   "cell_type": "code",
   "execution_count": 25,
   "id": "0ff6549c",
   "metadata": {},
   "outputs": [
    {
     "name": "stdout",
     "output_type": "stream",
     "text": [
      "Hello Python, tell me what I should learn. Learn JavaScript!\n"
     ]
    }
   ],
   "source": [
    "print(f\"Hello Python, tell me what I should learn. {choice(3)}\")"
   ]
  },
  {
   "cell_type": "code",
   "execution_count": 28,
   "id": "72d67136",
   "metadata": {},
   "outputs": [
    {
     "name": "stdout",
     "output_type": "stream",
     "text": [
      "python or javascript: Learn JavaScript!\n"
     ]
    }
   ],
   "source": [
    "print(f'python or javascript: {choice(5)}')"
   ]
  },
  {
   "cell_type": "code",
   "execution_count": 16,
   "id": "83e3956d",
   "metadata": {},
   "outputs": [],
   "source": [
    "# def adding(number,by):\n",
    "#     return number+by\n",
    "\n",
    "# total=adding(7,5)\n"
   ]
  },
  {
   "cell_type": "code",
   "execution_count": 34,
   "id": "66cbfc5e",
   "metadata": {},
   "outputs": [],
   "source": [
    "def addding(*numbers):\n",
    "    total=0\n",
    "    for i in numbers:\n",
    "        total=total+i\n",
    "    return total\n",
    "    "
   ]
  },
  {
   "cell_type": "code",
   "execution_count": 43,
   "id": "1ce370bf",
   "metadata": {},
   "outputs": [],
   "source": [
    "data=(addding(1,5,6))\n"
   ]
  },
  {
   "cell_type": "code",
   "execution_count": 44,
   "id": "9723a329",
   "metadata": {},
   "outputs": [
    {
     "data": {
      "text/plain": [
       "12"
      ]
     },
     "execution_count": 44,
     "metadata": {},
     "output_type": "execute_result"
    }
   ],
   "source": [
    "data"
   ]
  },
  {
   "cell_type": "code",
   "execution_count": 7,
   "id": "100c7b11",
   "metadata": {},
   "outputs": [
    {
     "ename": "TypeError",
     "evalue": "multiply() takes 2 positional arguments but 4 were given",
     "output_type": "error",
     "traceback": [
      "\u001b[0;31m---------------------------------------------------------------------------\u001b[0m",
      "\u001b[0;31mTypeError\u001b[0m                                 Traceback (most recent call last)",
      "Input \u001b[0;32mIn [7]\u001b[0m, in \u001b[0;36m<cell line: 4>\u001b[0;34m()\u001b[0m\n\u001b[1;32m      1\u001b[0m \u001b[38;5;28;01mdef\u001b[39;00m \u001b[38;5;21mmultiply\u001b[39m(number,nos):\n\u001b[1;32m      2\u001b[0m     \u001b[38;5;28;01mreturn\u001b[39;00m (number\u001b[38;5;241m*\u001b[39mnos)\n\u001b[0;32m----> 4\u001b[0m total\u001b[38;5;241m=\u001b[39m\u001b[43mmultiply\u001b[49m\u001b[43m(\u001b[49m\u001b[38;5;241;43m7\u001b[39;49m\u001b[43m,\u001b[49m\u001b[38;5;241;43m5\u001b[39;49m\u001b[43m,\u001b[49m\u001b[38;5;241;43m5\u001b[39;49m\u001b[43m,\u001b[49m\u001b[38;5;241;43m7\u001b[39;49m\u001b[43m)\u001b[49m\n",
      "\u001b[0;31mTypeError\u001b[0m: multiply() takes 2 positional arguments but 4 were given"
     ]
    }
   ],
   "source": [
    "# def multiply(number,nos):\n",
    "#     return (number*nos)\n",
    "\n",
    "# total=multiply(7,5,5,7)"
   ]
  },
  {
   "cell_type": "code",
   "execution_count": 12,
   "id": "dbaa9eb2",
   "metadata": {},
   "outputs": [],
   "source": [
    "# # Asterisk=* or for taking multuple input\n",
    "\n",
    "# def multiply(*numbers):\n",
    "#     total=1\n",
    "#     for i in numbers:\n",
    "#         total=total*i\n",
    "#     return total"
   ]
  },
  {
   "cell_type": "code",
   "execution_count": 11,
   "id": "78f8007b",
   "metadata": {},
   "outputs": [
    {
     "data": {
      "text/plain": [
       "8820"
      ]
     },
     "execution_count": 11,
     "metadata": {},
     "output_type": "execute_result"
    }
   ],
   "source": [
    "multiply(4,5,7,9,7)"
   ]
  },
  {
   "cell_type": "code",
   "execution_count": 54,
   "id": "3f4bc781",
   "metadata": {},
   "outputs": [],
   "source": [
    "def save_user(**user):\n",
    "    return(user)"
   ]
  },
  {
   "cell_type": "code",
   "execution_count": 55,
   "id": "32c61d1b",
   "metadata": {},
   "outputs": [
    {
     "name": "stdout",
     "output_type": "stream",
     "text": [
      "{'id': 1, 'name': 'tushar', 'password': '12345'}\n"
     ]
    }
   ],
   "source": [
    "print(save_user(id=1,name='tushar',password='12345'))"
   ]
  },
  {
   "cell_type": "code",
   "execution_count": 56,
   "id": "7d612c1d",
   "metadata": {},
   "outputs": [],
   "source": [
    "def checking(input):\n",
    "    if input > 30:\n",
    "        return 'pass'\n",
    "    if input < 30:\n",
    "        return \"fail\""
   ]
  },
  {
   "cell_type": "code",
   "execution_count": 59,
   "id": "329cb16a",
   "metadata": {},
   "outputs": [
    {
     "name": "stdout",
     "output_type": "stream",
     "text": [
      "pass\n"
     ]
    }
   ],
   "source": [
    "print(checking(77)) "
   ]
  },
  {
   "cell_type": "code",
   "execution_count": 1,
   "id": "6e521eb2",
   "metadata": {},
   "outputs": [
    {
     "data": {
      "text/plain": [
       "'__main__'"
      ]
     },
     "execution_count": 1,
     "metadata": {},
     "output_type": "execute_result"
    }
   ],
   "source": [
    "__name__"
   ]
  },
  {
   "cell_type": "code",
   "execution_count": 2,
   "id": "8702e5c1",
   "metadata": {},
   "outputs": [
    {
     "name": "stdout",
     "output_type": "stream",
     "text": [
      "i am car\n",
      "general use: transporation\n",
      "specific use: commute to work ,vaccation with family\n"
     ]
    }
   ],
   "source": [
    "class vehicle:\n",
    "    \n",
    "    def general_usage(self):                      #methods\n",
    "        print(\"general use: transporation\")\n",
    "\n",
    "class car(vehicle):\n",
    "    def __init__(self):\n",
    "        print('i am car')\n",
    "        self.wheels=4\n",
    "        self.has_roof=True\n",
    "        \n",
    "    def specific_usage(self):\n",
    "        print(\"specific use: commute to work ,vaccation with family\")\n",
    "\n",
    "class motorcycle(vehicle):\n",
    "    def __init__(self):\n",
    "        print('i a motor cycle')\n",
    "        self.wheels=2\n",
    "        self.has_roof=True\n",
    "        \n",
    "    def specific_usage(self):\n",
    "        print(\"specific use: road trip ,racing\")\n",
    "        \n",
    "c=car()\n",
    "c.general_usage()\n",
    "c.specific_usage()"
   ]
  },
  {
   "cell_type": "code",
   "execution_count": 4,
   "id": "16913cf6",
   "metadata": {},
   "outputs": [
    {
     "name": "stdout",
     "output_type": "stream",
     "text": [
      "i a motor cycle\n",
      "general use: transporation\n",
      "specific use: road trip ,racing\n"
     ]
    }
   ],
   "source": [
    "m=motorcycle()\n",
    "m.general_usage()\n",
    "m.specific_usage()"
   ]
  },
  {
   "cell_type": "code",
   "execution_count": 33,
   "id": "4f468838",
   "metadata": {},
   "outputs": [
    {
     "name": "stdout",
     "output_type": "stream",
     "text": [
      "data of a\n",
      "data of b\n",
      "data of c\n"
     ]
    }
   ],
   "source": [
    "# multi inheritance\n",
    "\n",
    "class a:\n",
    "    \n",
    "    def displayA(self):\n",
    "        print('data of a')\n",
    "\n",
    "class b(a):       # B ke ander inheritate kardiya A ko\n",
    "    def displayB(self):\n",
    "        print('data of b')\n",
    "        \n",
    "class c(b):\n",
    "    def displayC(self):\n",
    "        print('data of c')\n",
    "        \n",
    "        \n",
    "obj=c()\n",
    "obj.displayA()\n",
    "obj.displayB()\n",
    "obj.displayC()"
   ]
  },
  {
   "cell_type": "code",
   "execution_count": 37,
   "id": "99769036",
   "metadata": {},
   "outputs": [
    {
     "name": "stdout",
     "output_type": "stream",
     "text": [
      "data of a\n",
      "data of b\n",
      "data of c\n"
     ]
    }
   ],
   "source": [
    "# Direct inheritance\n",
    "\n",
    "class a:\n",
    "    \n",
    "    def displayA(self):\n",
    "        print('data of a')\n",
    "\n",
    "class b:       # B ke ander inheritate kardiya A ko\n",
    "    def displayB(self):\n",
    "        print('data of b')\n",
    "        \n",
    "class c(a,b):\n",
    "    def displayC(self):\n",
    "        print('data of c')\n",
    "        \n",
    "objj=c()\n",
    "objj.displayA()\n",
    "objj.displayB()\n",
    "objj.displayC()"
   ]
  },
  {
   "cell_type": "code",
   "execution_count": 5,
   "id": "fbb4b674",
   "metadata": {},
   "outputs": [
    {
     "name": "stdout",
     "output_type": "stream",
     "text": [
      "18\n",
      "eligiable\n"
     ]
    }
   ],
   "source": [
    "age=int(input())\n",
    "if age >=18:\n",
    "    print(\"eligiable\")\n",
    "else:\n",
    "    print('not eligiable')"
   ]
  },
  {
   "cell_type": "code",
   "execution_count": 11,
   "id": "15a1b8ee",
   "metadata": {},
   "outputs": [
    {
     "name": "stdout",
     "output_type": "stream",
     "text": [
      "eligiable\n"
     ]
    }
   ],
   "source": [
    "age =87\n",
    "\n",
    "message='eligiable' if age>=18 else 'not eligiable'\n",
    "print(message)"
   ]
  },
  {
   "cell_type": "code",
   "execution_count": 1,
   "id": "e8ec0478",
   "metadata": {},
   "outputs": [],
   "source": [
    "def convert(obj):\n",
    "    L=[]\n",
    "    \n",
    "    for i in ast.literal_eval(obj):\n",
    "        L.append(i['name'])\n",
    "        return L"
   ]
  },
  {
   "cell_type": "code",
   "execution_count": 4,
   "id": "b114223c",
   "metadata": {},
   "outputs": [],
   "source": [
    "def three_name(dic):\n",
    "    \n",
    "    lis=[]\n",
    "    counter=0\n",
    "    for i in dic:\n",
    "        if counter !=3:\n",
    "            lis.append(i['names'])\n",
    "            counter+=1\n",
    "        else:\n",
    "            break\n",
    "    return lis\n"
   ]
  },
  {
   "cell_type": "code",
   "execution_count": 5,
   "id": "3d751f80",
   "metadata": {},
   "outputs": [],
   "source": [
    "def extract_job(dic):\n",
    "    apnd=[]\n",
    "    \n",
    "    \n",
    "    for i in dic:\n",
    "        if i['name']=='director':\n",
    "            apnd.append(i['name'])\n",
    "            break\n",
    "        return apnd"
   ]
  },
  {
   "cell_type": "code",
   "execution_count": null,
   "id": "536900c5",
   "metadata": {},
   "outputs": [],
   "source": [
    "# enumerate funtion for creating the indexing positions\n",
    "# like:\n",
    "\n",
    "# movie_list=sorted(list(enumerate(similarity[0]))\n",
    "\n",
    "# [(0,1.0000000000000002),\n",
    "# (1, 0.08346223261119858),\n",
    "# (2, 0.08346245561119858),\n",
    "# (3, 0.0734718358370645),\n",
    "# (4, 0.1892994097121204),\n",
    "# (5, 0.10838874619051501)]"
   ]
  },
  {
   "cell_type": "code",
   "execution_count": 2,
   "id": "69c68074",
   "metadata": {},
   "outputs": [
    {
     "name": "stdout",
     "output_type": "stream",
     "text": [
      "[1][1, 4][1, 4, 9][1, 4, 9, 16][1, 4, 9, 16, 25]"
     ]
    }
   ],
   "source": [
    "def f(n):\n",
    "    return n*n\n",
    "\n",
    "if __name__ ==  \"__main__\":\n",
    "    array=[1,2,3,4,5]\n",
    "    \n",
    "    result=[]\n",
    "    for n in array:\n",
    "        result.append(f(n))\n",
    "        print(result,end='')\n",
    "        "
   ]
  },
  {
   "cell_type": "code",
   "execution_count": 3,
   "id": "0de1d84f",
   "metadata": {},
   "outputs": [],
   "source": [
    "def multiply(a,b):\n",
    "    \n",
    "    \n",
    "    for i in range(b):\n",
    "        print(b)\n",
    "    "
   ]
  },
  {
   "cell_type": "code",
   "execution_count": 5,
   "id": "11492dd3",
   "metadata": {},
   "outputs": [
    {
     "name": "stdout",
     "output_type": "stream",
     "text": [
      "4\n",
      "4\n",
      "4\n",
      "4\n"
     ]
    }
   ],
   "source": [
    "b=4\n",
    "\n",
    "for i in range(b):\n",
    "    print(b)\n",
    "    "
   ]
  },
  {
   "cell_type": "code",
   "execution_count": 6,
   "id": "ee5c1c2e",
   "metadata": {},
   "outputs": [
    {
     "ename": "NameError",
     "evalue": "name 'user_input' is not defined",
     "output_type": "error",
     "traceback": [
      "\u001b[0;31m---------------------------------------------------------------------------\u001b[0m",
      "\u001b[0;31mNameError\u001b[0m                                 Traceback (most recent call last)",
      "Input \u001b[0;32mIn [6]\u001b[0m, in \u001b[0;36m<cell line: 1>\u001b[0;34m()\u001b[0m\n\u001b[0;32m----> 1\u001b[0m \u001b[38;5;28;01mclass\u001b[39;00m \u001b[38;5;21;01mAtm\u001b[39;00m:\n\u001b[1;32m      3\u001b[0m     \u001b[38;5;28;01mdef\u001b[39;00m \u001b[38;5;21m__init__\u001b[39m(\u001b[38;5;28mself\u001b[39m):\n\u001b[1;32m      4\u001b[0m         \u001b[38;5;28mself\u001b[39m\u001b[38;5;241m.\u001b[39mpin\u001b[38;5;241m=\u001b[39m\u001b[38;5;124m'\u001b[39m\u001b[38;5;124m'\u001b[39m\n",
      "Input \u001b[0;32mIn [6]\u001b[0m, in \u001b[0;36mAtm\u001b[0;34m()\u001b[0m\n\u001b[1;32m      9\u001b[0m \u001b[38;5;28;01mdef\u001b[39;00m \u001b[38;5;21mmenu\u001b[39m(\u001b[38;5;28mself\u001b[39m):\n\u001b[1;32m     10\u001b[0m     user_input\u001b[38;5;241m=\u001b[39m\u001b[38;5;28minput\u001b[39m(\u001b[38;5;124m\"\"\"\u001b[39m\n\u001b[1;32m     11\u001b[0m \u001b[38;5;124m    hellow how would you like to proceedhel\u001b[39m\n\u001b[1;32m     12\u001b[0m \u001b[38;5;124m                     1.Enter the crete pin\u001b[39m\n\u001b[0;32m   (...)\u001b[0m\n\u001b[1;32m     15\u001b[0m \u001b[38;5;124m                     4.Enter 4 to check balance \u001b[39m\n\u001b[1;32m     16\u001b[0m \u001b[38;5;124m                     5 Enter 5 to exit\u001b[39m\u001b[38;5;124m\"\"\"\u001b[39m)\n\u001b[0;32m---> 19\u001b[0m \u001b[38;5;28;01mif\u001b[39;00m \u001b[43muser_input\u001b[49m\u001b[38;5;241m==\u001b[39m\u001b[38;5;124m'\u001b[39m\u001b[38;5;124m1\u001b[39m\u001b[38;5;124m'\u001b[39m:\n\u001b[1;32m     20\u001b[0m     \u001b[38;5;28mprint\u001b[39m(\u001b[38;5;124m\"\u001b[39m\u001b[38;5;124mCreate Pin\u001b[39m\u001b[38;5;124m\"\u001b[39m)\n\u001b[1;32m     22\u001b[0m \u001b[38;5;28;01melif\u001b[39;00m user_input\u001b[38;5;241m==\u001b[39m\u001b[38;5;124m'\u001b[39m\u001b[38;5;124m2\u001b[39m\u001b[38;5;124m'\u001b[39m:\n",
      "\u001b[0;31mNameError\u001b[0m: name 'user_input' is not defined"
     ]
    }
   ],
   "source": [
    "class Atm:\n",
    "    \n",
    "    def __init__(self):\n",
    "        self.pin=''\n",
    "        self.balance=0\n",
    "        \n",
    "        self.menu()\n",
    "    \n",
    "    def menu(self):\n",
    "        user_input=input(\"\"\"\n",
    "        hellow how would you like to proceedhel\n",
    "                         1.Enter the crete pin\n",
    "                         2.Enter 2 to deposite\n",
    "                         3.Enter 3 to Withdraw \n",
    "                         4.Enter 4 to check balance \n",
    "                         5 Enter 5 to exit\"\"\")\n",
    "        \n",
    "        \n",
    "    if user_input=='1':\n",
    "        print(\"Create Pin\")\n",
    "        \n",
    "    elif user_input=='2':\n",
    "        print(\"deposite \")\n",
    "        \n",
    "    elif user_input==\"3\":\n",
    "        print(\"Withdraw\")\n",
    "        \n",
    "    elif user_input==\"4\":\n",
    "        print(\"Check the balance\")\n",
    "        \n",
    "    elif user_input==\"5\":\n",
    "        print(\"Exit\")\n",
    "        \n",
    "    else:\n",
    "        print(\"bye\")"
   ]
  },
  {
   "cell_type": "code",
   "execution_count": 1,
   "id": "ac687c57",
   "metadata": {},
   "outputs": [],
   "source": [
    "def evenodd(no):\n",
    "    if type(no)==int:\n",
    "        if no %2 ==0:\n",
    "            print(\"even\")\n",
    "        else:\n",
    "            print('odd')\n",
    "    else:\n",
    "        return \"not supported\""
   ]
  },
  {
   "cell_type": "code",
   "execution_count": 2,
   "id": "75cc3492",
   "metadata": {},
   "outputs": [
    {
     "data": {
      "text/plain": [
       "'not supported'"
      ]
     },
     "execution_count": 2,
     "metadata": {},
     "output_type": "execute_result"
    }
   ],
   "source": [
    "evenodd('ttu')"
   ]
  },
  {
   "cell_type": "code",
   "execution_count": 12,
   "id": "78925fb4",
   "metadata": {},
   "outputs": [],
   "source": [
    "def oddeven(no):\n",
    "    if type(no)==int and str:\n",
    "        if no % 2 ==0:\n",
    "            print(\"even number\")\n",
    "        else:\n",
    "            print(\"odd number\")\n",
    "    else:\n",
    "        print(\"not no or divisible entry\")    \n",
    "    \n",
    "    \n",
    "    "
   ]
  },
  {
   "cell_type": "code",
   "execution_count": 13,
   "id": "49667d91",
   "metadata": {},
   "outputs": [
    {
     "name": "stdout",
     "output_type": "stream",
     "text": [
      "not no or divisible entry\n"
     ]
    }
   ],
   "source": [
    "oddeven(\"tushr\")"
   ]
  },
  {
   "cell_type": "code",
   "execution_count": 14,
   "id": "184b32f1",
   "metadata": {},
   "outputs": [],
   "source": [
    "def adding(*numbers):\n",
    "    total=1\n",
    "    for i in numbers:\n",
    "        total=total+i\n",
    "    return total\n",
    "\n",
    "\n",
    "\n",
    "def addd2(*no):\n",
    "    total=1\n",
    "    for i in no:\n",
    "        total=total+i\n",
    "    return total"
   ]
  },
  {
   "cell_type": "code",
   "execution_count": 16,
   "id": "4237c4e9",
   "metadata": {},
   "outputs": [
    {
     "data": {
      "text/plain": [
       "203"
      ]
     },
     "execution_count": 16,
     "metadata": {},
     "output_type": "execute_result"
    }
   ],
   "source": [
    "addd2(5,45,98,54)"
   ]
  },
  {
   "cell_type": "code",
   "execution_count": 22,
   "id": "ea9b38e9",
   "metadata": {},
   "outputs": [],
   "source": [
    "def sub(a,b):\n",
    "    return a-b"
   ]
  },
  {
   "cell_type": "code",
   "execution_count": 24,
   "id": "aa6dd49f",
   "metadata": {},
   "outputs": [
    {
     "data": {
      "text/plain": [
       "710"
      ]
     },
     "execution_count": 24,
     "metadata": {},
     "output_type": "execute_result"
    }
   ],
   "source": [
    "sub(788,78)"
   ]
  },
  {
   "cell_type": "code",
   "execution_count": 35,
   "id": "a6216641",
   "metadata": {},
   "outputs": [],
   "source": [
    "def tu(age,name):\n",
    "    print(age,name)"
   ]
  },
  {
   "cell_type": "code",
   "execution_count": 36,
   "id": "4ecd84d4",
   "metadata": {},
   "outputs": [
    {
     "name": "stdout",
     "output_type": "stream",
     "text": [
      "23 tushar\n"
     ]
    }
   ],
   "source": [
    "tu(23,'tushar')"
   ]
  },
  {
   "cell_type": "code",
   "execution_count": 37,
   "id": "c5921145",
   "metadata": {},
   "outputs": [
    {
     "name": "stdout",
     "output_type": "stream",
     "text": [
      "Ben 25\n"
     ]
    }
   ],
   "source": [
    "# demo is the function name\n",
    "def demo(name, age):\n",
    "    # print value\n",
    "    print(name, age)\n",
    "\n",
    "# call function\n",
    "demo(\"Ben\", 25)"
   ]
  },
  {
   "cell_type": "code",
   "execution_count": 40,
   "id": "fa4d82ba",
   "metadata": {},
   "outputs": [],
   "source": [
    "def nu(*numbers):\n",
    "    for i in numbers:\n",
    "        print(numbers)"
   ]
  },
  {
   "cell_type": "code",
   "execution_count": 41,
   "id": "e887b04f",
   "metadata": {},
   "outputs": [
    {
     "name": "stdout",
     "output_type": "stream",
     "text": [
      "(1, 2, 3, 4, 5, 6)\n",
      "(1, 2, 3, 4, 5, 6)\n",
      "(1, 2, 3, 4, 5, 6)\n",
      "(1, 2, 3, 4, 5, 6)\n",
      "(1, 2, 3, 4, 5, 6)\n",
      "(1, 2, 3, 4, 5, 6)\n"
     ]
    }
   ],
   "source": [
    "nu(1,2,3,4,5,6,)"
   ]
  },
  {
   "cell_type": "code",
   "execution_count": 47,
   "id": "49aa5c4f",
   "metadata": {},
   "outputs": [],
   "source": [
    "def add_sub(a,b):\n",
    "    add1=a+b\n",
    "    sub1=a-b\n",
    "    return(add1,sub1)\n",
    "    "
   ]
  },
  {
   "cell_type": "code",
   "execution_count": 48,
   "id": "06072e34",
   "metadata": {},
   "outputs": [
    {
     "data": {
      "text/plain": [
       "(6, 2)"
      ]
     },
     "execution_count": 48,
     "metadata": {},
     "output_type": "execute_result"
    }
   ],
   "source": [
    "add_sub(4,2)"
   ]
  },
  {
   "cell_type": "code",
   "execution_count": 49,
   "id": "5f366635",
   "metadata": {},
   "outputs": [
    {
     "name": "stdout",
     "output_type": "stream",
     "text": [
      "(50, 30)\n"
     ]
    }
   ],
   "source": [
    "def calculation(a, b):\n",
    "    addition = a + b\n",
    "    subtraction = a - b\n",
    "    # return multiple values separated by comma\n",
    "    return addition, subtraction\n",
    "\n",
    "# get result in tuple format\n",
    "res = calculation(40, 10)\n",
    "print(res)"
   ]
  },
  {
   "cell_type": "code",
   "execution_count": 51,
   "id": "8d6a1625",
   "metadata": {},
   "outputs": [
    {
     "name": "stdout",
     "output_type": "stream",
     "text": [
      "{\"key1\": \"value1\", \"key2\": \"value2\"}\n"
     ]
    }
   ],
   "source": [
    "import json\n",
    "\n",
    "data = {\"key1\" : \"value1\", \"key2\" : \"value2\"}\n",
    "\n",
    "jsonData = json.dumps(data)\n",
    "print(jsonData)"
   ]
  },
  {
   "cell_type": "code",
   "execution_count": 4,
   "id": "e054fc60",
   "metadata": {},
   "outputs": [
    {
     "name": "stdout",
     "output_type": "stream",
     "text": [
      "{\"tushar\": 10, \"bhAWSR\": 40}\n"
     ]
    }
   ],
   "source": [
    "import json\n",
    "\n",
    "data ={'tushar':10,'bhAWSR':40}\n",
    "\n",
    "UDATA=json.dumps(data)\n",
    "print(UDATA)"
   ]
  },
  {
   "cell_type": "code",
   "execution_count": 17,
   "id": "85b06e4e",
   "metadata": {},
   "outputs": [],
   "source": [
    "def maxvalue(**no):\n",
    "    maximum=max.no\n",
    "    return maximum"
   ]
  },
  {
   "cell_type": "code",
   "execution_count": 18,
   "id": "bbf92d93",
   "metadata": {},
   "outputs": [
    {
     "ename": "TypeError",
     "evalue": "maxvalue() takes 0 positional arguments but 4 were given",
     "output_type": "error",
     "traceback": [
      "\u001b[0;31m---------------------------------------------------------------------------\u001b[0m",
      "\u001b[0;31mTypeError\u001b[0m                                 Traceback (most recent call last)",
      "Input \u001b[0;32mIn [18]\u001b[0m, in \u001b[0;36m<cell line: 1>\u001b[0;34m()\u001b[0m\n\u001b[0;32m----> 1\u001b[0m \u001b[43mmaxvalue\u001b[49m\u001b[43m(\u001b[49m\u001b[38;5;241;43m45\u001b[39;49m\u001b[43m,\u001b[49m\u001b[38;5;241;43m74\u001b[39;49m\u001b[43m,\u001b[49m\u001b[38;5;241;43m87\u001b[39;49m\u001b[43m,\u001b[49m\u001b[38;5;241;43m97\u001b[39;49m\u001b[43m)\u001b[49m\n",
      "\u001b[0;31mTypeError\u001b[0m: maxvalue() takes 0 positional arguments but 4 were given"
     ]
    }
   ],
   "source": [
    "maxvalue(45,74,87,97)"
   ]
  },
  {
   "cell_type": "code",
   "execution_count": 7,
   "id": "6fba44fb",
   "metadata": {},
   "outputs": [],
   "source": [
    "# Initialize list\n",
    "test_list = [\n",
    "    {'Course': \"C++\", 'Author': \"Jerry\"},\n",
    "    {'Course': \"Python\", 'Author': \"Mark\"},\n",
    "    {'Course': \"Java\", 'Author': \"Paul\"}]\n",
    "\n",
    "# Find dictionary matching value in list\n",
    "res = None\n",
    "for sub in test_list:\n",
    "    if sub['Author'] == \"Mark\":\n",
    "        res = sub\n",
    "        break\n",
    "        print(res)\n",
    "\n",
    "# printing result\n",
    "# print(\"The filtered dictionary value is : \" + str(res))\n"
   ]
  },
  {
   "cell_type": "code",
   "execution_count": null,
   "id": "d490d614",
   "metadata": {},
   "outputs": [],
   "source": []
  }
 ],
 "metadata": {
  "kernelspec": {
   "display_name": "Python 3 (ipykernel)",
   "language": "python",
   "name": "python3"
  },
  "language_info": {
   "codemirror_mode": {
    "name": "ipython",
    "version": 3
   },
   "file_extension": ".py",
   "mimetype": "text/x-python",
   "name": "python",
   "nbconvert_exporter": "python",
   "pygments_lexer": "ipython3",
   "version": "3.8.10"
  }
 },
 "nbformat": 4,
 "nbformat_minor": 5
}
