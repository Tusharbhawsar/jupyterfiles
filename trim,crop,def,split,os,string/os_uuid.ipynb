{
 "cells": [
  {
   "cell_type": "code",
   "execution_count": 33,
   "id": "b10db39a",
   "metadata": {},
   "outputs": [],
   "source": [
    "import os\n",
    "import glob"
   ]
  },
  {
   "cell_type": "code",
   "execution_count": 2,
   "id": "8ff25070",
   "metadata": {},
   "outputs": [
    {
     "name": "stdout",
     "output_type": "stream",
     "text": [
      "['CLD_CONTINUED', 'CLD_DUMPED', 'CLD_EXITED', 'CLD_TRAPPED', 'DirEntry', 'EX_CANTCREAT', 'EX_CONFIG', 'EX_DATAERR', 'EX_IOERR', 'EX_NOHOST', 'EX_NOINPUT', 'EX_NOPERM', 'EX_NOUSER', 'EX_OK', 'EX_OSERR', 'EX_OSFILE', 'EX_PROTOCOL', 'EX_SOFTWARE', 'EX_TEMPFAIL', 'EX_UNAVAILABLE', 'EX_USAGE', 'F_LOCK', 'F_OK', 'F_TEST', 'F_TLOCK', 'F_ULOCK', 'GRND_NONBLOCK', 'GRND_RANDOM', 'MFD_ALLOW_SEALING', 'MFD_CLOEXEC', 'MFD_HUGETLB', 'MFD_HUGE_16GB', 'MFD_HUGE_16MB', 'MFD_HUGE_1GB', 'MFD_HUGE_1MB', 'MFD_HUGE_256MB', 'MFD_HUGE_2GB', 'MFD_HUGE_2MB', 'MFD_HUGE_32MB', 'MFD_HUGE_512KB', 'MFD_HUGE_512MB', 'MFD_HUGE_64KB', 'MFD_HUGE_8MB', 'MFD_HUGE_MASK', 'MFD_HUGE_SHIFT', 'MutableMapping', 'NGROUPS_MAX', 'O_ACCMODE', 'O_APPEND', 'O_ASYNC', 'O_CLOEXEC', 'O_CREAT', 'O_DIRECT', 'O_DIRECTORY', 'O_DSYNC', 'O_EXCL', 'O_LARGEFILE', 'O_NDELAY', 'O_NOATIME', 'O_NOCTTY', 'O_NOFOLLOW', 'O_NONBLOCK', 'O_PATH', 'O_RDONLY', 'O_RDWR', 'O_RSYNC', 'O_SYNC', 'O_TMPFILE', 'O_TRUNC', 'O_WRONLY', 'POSIX_FADV_DONTNEED', 'POSIX_FADV_NOREUSE', 'POSIX_FADV_NORMAL', 'POSIX_FADV_RANDOM', 'POSIX_FADV_SEQUENTIAL', 'POSIX_FADV_WILLNEED', 'POSIX_SPAWN_CLOSE', 'POSIX_SPAWN_DUP2', 'POSIX_SPAWN_OPEN', 'PRIO_PGRP', 'PRIO_PROCESS', 'PRIO_USER', 'P_ALL', 'P_NOWAIT', 'P_NOWAITO', 'P_PGID', 'P_PID', 'P_WAIT', 'PathLike', 'RTLD_DEEPBIND', 'RTLD_GLOBAL', 'RTLD_LAZY', 'RTLD_LOCAL', 'RTLD_NODELETE', 'RTLD_NOLOAD', 'RTLD_NOW', 'RWF_DSYNC', 'RWF_HIPRI', 'RWF_NOWAIT', 'RWF_SYNC', 'R_OK', 'SCHED_BATCH', 'SCHED_FIFO', 'SCHED_IDLE', 'SCHED_OTHER', 'SCHED_RESET_ON_FORK', 'SCHED_RR', 'SEEK_CUR', 'SEEK_DATA', 'SEEK_END', 'SEEK_HOLE', 'SEEK_SET', 'ST_APPEND', 'ST_MANDLOCK', 'ST_NOATIME', 'ST_NODEV', 'ST_NODIRATIME', 'ST_NOEXEC', 'ST_NOSUID', 'ST_RDONLY', 'ST_RELATIME', 'ST_SYNCHRONOUS', 'ST_WRITE', 'TMP_MAX', 'WCONTINUED', 'WCOREDUMP', 'WEXITED', 'WEXITSTATUS', 'WIFCONTINUED', 'WIFEXITED', 'WIFSIGNALED', 'WIFSTOPPED', 'WNOHANG', 'WNOWAIT', 'WSTOPPED', 'WSTOPSIG', 'WTERMSIG', 'WUNTRACED', 'W_OK', 'XATTR_CREATE', 'XATTR_REPLACE', 'XATTR_SIZE_MAX', 'X_OK', '_Environ', '__all__', '__builtins__', '__cached__', '__doc__', '__file__', '__loader__', '__name__', '__package__', '__spec__', '_check_methods', '_execvpe', '_exists', '_exit', '_fspath', '_fwalk', '_get_exports_list', '_putenv', '_spawnvef', '_unsetenv', '_wrap_close', 'abc', 'abort', 'access', 'altsep', 'chdir', 'chmod', 'chown', 'chroot', 'close', 'closerange', 'confstr', 'confstr_names', 'copy_file_range', 'cpu_count', 'ctermid', 'curdir', 'defpath', 'device_encoding', 'devnull', 'dup', 'dup2', 'environ', 'environb', 'error', 'execl', 'execle', 'execlp', 'execlpe', 'execv', 'execve', 'execvp', 'execvpe', 'extsep', 'fchdir', 'fchmod', 'fchown', 'fdatasync', 'fdopen', 'fork', 'forkpty', 'fpathconf', 'fsdecode', 'fsencode', 'fspath', 'fstat', 'fstatvfs', 'fsync', 'ftruncate', 'fwalk', 'get_blocking', 'get_exec_path', 'get_inheritable', 'get_terminal_size', 'getcwd', 'getcwdb', 'getegid', 'getenv', 'getenvb', 'geteuid', 'getgid', 'getgrouplist', 'getgroups', 'getloadavg', 'getlogin', 'getpgid', 'getpgrp', 'getpid', 'getppid', 'getpriority', 'getrandom', 'getresgid', 'getresuid', 'getsid', 'getuid', 'getxattr', 'initgroups', 'isatty', 'kill', 'killpg', 'lchown', 'linesep', 'link', 'listdir', 'listxattr', 'lockf', 'lseek', 'lstat', 'major', 'makedev', 'makedirs', 'memfd_create', 'minor', 'mkdir', 'mkfifo', 'mknod', 'name', 'nice', 'open', 'openpty', 'pardir', 'path', 'pathconf', 'pathconf_names', 'pathsep', 'pipe', 'pipe2', 'popen', 'posix_fadvise', 'posix_fallocate', 'posix_spawn', 'posix_spawnp', 'pread', 'preadv', 'putenv', 'pwrite', 'pwritev', 'read', 'readlink', 'readv', 'register_at_fork', 'remove', 'removedirs', 'removexattr', 'rename', 'renames', 'replace', 'rmdir', 'scandir', 'sched_get_priority_max', 'sched_get_priority_min', 'sched_getaffinity', 'sched_getparam', 'sched_getscheduler', 'sched_param', 'sched_rr_get_interval', 'sched_setaffinity', 'sched_setparam', 'sched_setscheduler', 'sched_yield', 'sendfile', 'sep', 'set_blocking', 'set_inheritable', 'setegid', 'seteuid', 'setgid', 'setgroups', 'setpgid', 'setpgrp', 'setpriority', 'setregid', 'setresgid', 'setresuid', 'setreuid', 'setsid', 'setuid', 'setxattr', 'spawnl', 'spawnle', 'spawnlp', 'spawnlpe', 'spawnv', 'spawnve', 'spawnvp', 'spawnvpe', 'st', 'stat', 'stat_result', 'statvfs', 'statvfs_result', 'strerror', 'supports_bytes_environ', 'supports_dir_fd', 'supports_effective_ids', 'supports_fd', 'supports_follow_symlinks', 'symlink', 'sync', 'sys', 'sysconf', 'sysconf_names', 'system', 'tcgetpgrp', 'tcsetpgrp', 'terminal_size', 'times', 'times_result', 'truncate', 'ttyname', 'umask', 'uname', 'uname_result', 'unlink', 'unsetenv', 'urandom', 'utime', 'wait', 'wait3', 'wait4', 'waitid', 'waitid_result', 'waitpid', 'walk', 'write', 'writev']\n"
     ]
    }
   ],
   "source": [
    "print(dir(os))"
   ]
  },
  {
   "cell_type": "code",
   "execution_count": 3,
   "id": "e12f2149",
   "metadata": {},
   "outputs": [
    {
     "data": {
      "text/plain": [
       "'/home/link-lap-24/Downloads/golf_june7/trim'"
      ]
     },
     "execution_count": 3,
     "metadata": {},
     "output_type": "execute_result"
    }
   ],
   "source": [
    "os.getcwd()"
   ]
  },
  {
   "cell_type": "code",
   "execution_count": 4,
   "id": "4e6f4df8",
   "metadata": {},
   "outputs": [],
   "source": [
    "path='/home/link-lap-24/Downloads/golf_june7/trim/'"
   ]
  },
  {
   "cell_type": "code",
   "execution_count": 5,
   "id": "2697b833",
   "metadata": {},
   "outputs": [
    {
     "data": {
      "text/plain": [
       "['trim.ipynb',\n",
       " 'Untitled1.ipynb',\n",
       " 'video (copy).txt',\n",
       " 'os.ipynb',\n",
       " '.ipynb_checkpoints',\n",
       " 'video.txt',\n",
       " 'input3.mp4',\n",
       " 'Untitled.ipynb',\n",
       " 'input1.mp4',\n",
       " 'video.bat',\n",
       " 'input2.mp4',\n",
       " 'input4.mp4']"
      ]
     },
     "execution_count": 5,
     "metadata": {},
     "output_type": "execute_result"
    }
   ],
   "source": [
    "os.listdir(path)"
   ]
  },
  {
   "cell_type": "code",
   "execution_count": 6,
   "id": "ab231edd",
   "metadata": {},
   "outputs": [
    {
     "data": {
      "text/plain": [
       "'/home/link-lap-24/Downloads/golf_june7/trim'"
      ]
     },
     "execution_count": 6,
     "metadata": {},
     "output_type": "execute_result"
    }
   ],
   "source": [
    "os.getcwd()"
   ]
  },
  {
   "cell_type": "code",
   "execution_count": null,
   "id": "f9fa81a4",
   "metadata": {},
   "outputs": [],
   "source": [
    "os.chdir()"
   ]
  },
  {
   "cell_type": "code",
   "execution_count": 7,
   "id": "20badc9a",
   "metadata": {},
   "outputs": [],
   "source": [
    "os.mkdir('tushar')"
   ]
  },
  {
   "cell_type": "code",
   "execution_count": 8,
   "id": "f8a5e2e0",
   "metadata": {},
   "outputs": [
    {
     "data": {
      "text/plain": [
       "['trim.ipynb',\n",
       " 'Untitled1.ipynb',\n",
       " 'video (copy).txt',\n",
       " 'os.ipynb',\n",
       " '.ipynb_checkpoints',\n",
       " 'video.txt',\n",
       " 'input3.mp4',\n",
       " 'Untitled.ipynb',\n",
       " 'tushar',\n",
       " 'input1.mp4',\n",
       " 'video.bat',\n",
       " 'input2.mp4',\n",
       " 'input4.mp4']"
      ]
     },
     "execution_count": 8,
     "metadata": {},
     "output_type": "execute_result"
    }
   ],
   "source": [
    "os.listdir(path)"
   ]
  },
  {
   "cell_type": "code",
   "execution_count": 10,
   "id": "d72d3f49",
   "metadata": {},
   "outputs": [],
   "source": [
    "# for creating the folders\n",
    "os.makedirs('tushar/bhawsar/jrtushar')"
   ]
  },
  {
   "cell_type": "code",
   "execution_count": 11,
   "id": "80ccebb4",
   "metadata": {},
   "outputs": [],
   "source": [
    "os.rename('tushar','tb')"
   ]
  },
  {
   "cell_type": "code",
   "execution_count": 4,
   "id": "c74c388e",
   "metadata": {},
   "outputs": [
    {
     "name": "stderr",
     "output_type": "stream",
     "text": [
      "sh: 1: input1.mp4: not found\n"
     ]
    },
    {
     "data": {
      "text/plain": [
       "32512"
      ]
     },
     "execution_count": 4,
     "metadata": {},
     "output_type": "execute_result"
    }
   ],
   "source": [
    "cmd='input1.mp4'\n",
    "\n",
    "os.system(cmd)\n"
   ]
  },
  {
   "cell_type": "code",
   "execution_count": 2,
   "id": "285df7b6",
   "metadata": {},
   "outputs": [
    {
     "data": {
      "text/plain": [
       "'/home/link-lap-24/Downloads/golf_june7/trim'"
      ]
     },
     "execution_count": 2,
     "metadata": {},
     "output_type": "execute_result"
    }
   ],
   "source": [
    "os.getcwd()"
   ]
  },
  {
   "cell_type": "code",
   "execution_count": 3,
   "id": "404ed815",
   "metadata": {},
   "outputs": [],
   "source": [
    "os.mkdir('him')"
   ]
  },
  {
   "cell_type": "code",
   "execution_count": 9,
   "id": "38e1b766",
   "metadata": {},
   "outputs": [
    {
     "data": {
      "text/plain": [
       "['input',\n",
       " 'trim.ipynb',\n",
       " 'Untitled1.ipynb',\n",
       " 'split,replace,join.ipynb',\n",
       " 'video (copy).txt',\n",
       " 'os.ipynb',\n",
       " '.ipynb_checkpoints',\n",
       " 'video.txt',\n",
       " 'videos',\n",
       " 'def.ipynb',\n",
       " 'videos.zip',\n",
       " 'Untitled.ipynb',\n",
       " 'string.ipynb',\n",
       " 'video.bat',\n",
       " 'output',\n",
       " 'crop.ipynb',\n",
       " 'TB']"
      ]
     },
     "execution_count": 9,
     "metadata": {},
     "output_type": "execute_result"
    }
   ],
   "source": [
    "os.listdir()"
   ]
  },
  {
   "cell_type": "code",
   "execution_count": 6,
   "id": "c2aa1269",
   "metadata": {},
   "outputs": [],
   "source": [
    "os.rmdir('him/')"
   ]
  },
  {
   "cell_type": "code",
   "execution_count": 8,
   "id": "8fd9a049",
   "metadata": {},
   "outputs": [],
   "source": [
    "os.rename('tb','TB')"
   ]
  },
  {
   "cell_type": "code",
   "execution_count": 11,
   "id": "f8045b7c",
   "metadata": {},
   "outputs": [
    {
     "data": {
      "text/plain": [
       "os.stat_result(st_mode=33204, st_ino=2233627, st_dev=66306, st_nlink=1, st_uid=1000, st_gid=1000, st_size=72, st_atime=1657865262, st_mtime=1657794195, st_ctime=1657794195)"
      ]
     },
     "execution_count": 11,
     "metadata": {},
     "output_type": "execute_result"
    }
   ],
   "source": [
    "os.stat('video.txt')"
   ]
  },
  {
   "cell_type": "code",
   "execution_count": 13,
   "id": "70cc14a2",
   "metadata": {},
   "outputs": [],
   "source": [
    "modtime=os.stat('video.txt').st_mtime"
   ]
  },
  {
   "cell_type": "code",
   "execution_count": 14,
   "id": "40022f61",
   "metadata": {},
   "outputs": [
    {
     "name": "stdout",
     "output_type": "stream",
     "text": [
      "2022-07-14 15:53:15.391107\n"
     ]
    }
   ],
   "source": [
    "from datetime import datetime\n",
    "print(datetime.fromtimestamp(modtime))"
   ]
  },
  {
   "cell_type": "code",
   "execution_count": null,
   "id": "89e57cd6",
   "metadata": {},
   "outputs": [],
   "source": [
    "# # Before performing any operation on the file like reading or writing, first,we have to open that file.For this,\n",
    "# # we should use Python’s inbuilt function open() but at the time of opening, we have to specify the mode,\n",
    "# # which represents the purpose of the opening file.\n",
    "\n",
    "# Where the following mode is supported:\n",
    "\n",
    "# r: open an existing file for a read operation.\n",
    "# w: open an existing file for a write operation. If the file already contains some data then it will be overridden.\n",
    "# a:  open an existing file for append operation. It won’t override existing data.\n",
    "# r+:  To read and write data into the file. The previous data in the file will be overridden.\n",
    "# w+: To write and read data. It will override existing data.\n",
    "# a+: To append and read data from the file. It won’t override existing data.\n"
   ]
  },
  {
   "cell_type": "code",
   "execution_count": 15,
   "id": "cf72be68",
   "metadata": {},
   "outputs": [
    {
     "data": {
      "text/plain": [
       "['input',\n",
       " 'trim.ipynb',\n",
       " 'Untitled1.ipynb',\n",
       " 'split,replace,join.ipynb',\n",
       " 'video (copy).txt',\n",
       " 'os.ipynb',\n",
       " '.ipynb_checkpoints',\n",
       " 'video.txt',\n",
       " 'videos',\n",
       " 'def.ipynb',\n",
       " 'videos.zip',\n",
       " 'Untitled.ipynb',\n",
       " 'string.ipynb',\n",
       " 'video.bat',\n",
       " 'output',\n",
       " 'crop.ipynb',\n",
       " 'TB']"
      ]
     },
     "execution_count": 15,
     "metadata": {},
     "output_type": "execute_result"
    }
   ],
   "source": [
    "os.listdir()"
   ]
  },
  {
   "cell_type": "code",
   "execution_count": 21,
   "id": "0b122e52",
   "metadata": {},
   "outputs": [
    {
     "name": "stdout",
     "output_type": "stream",
     "text": [
      "file 'input1.mp4'\n",
      "\n",
      "file 'input2.mp4'\n",
      "\n",
      "file 'input3.mp4'\n",
      "\n",
      "file 'input4.mp4'\n",
      "\n"
     ]
    }
   ],
   "source": [
    "# files=open('video.txt','r')\n",
    "\n",
    "\n",
    "# for i in files:\n",
    "#     print(i)"
   ]
  },
  {
   "cell_type": "code",
   "execution_count": 27,
   "id": "792c8635",
   "metadata": {},
   "outputs": [
    {
     "data": {
      "text/plain": [
       "<function TextIOWrapper.close()>"
      ]
     },
     "execution_count": 27,
     "metadata": {},
     "output_type": "execute_result"
    }
   ],
   "source": [
    "file=open('video.txt','a')\n",
    "file.write(\"input10\")\n",
    "file.close"
   ]
  },
  {
   "cell_type": "code",
   "execution_count": 28,
   "id": "fea16f4c",
   "metadata": {},
   "outputs": [
    {
     "data": {
      "text/plain": [
       "<_io.TextIOWrapper name='video.txt' mode='a' encoding='UTF-8'>"
      ]
     },
     "execution_count": 28,
     "metadata": {},
     "output_type": "execute_result"
    }
   ],
   "source": [
    "file"
   ]
  },
  {
   "cell_type": "code",
   "execution_count": 40,
   "id": "6e35a240",
   "metadata": {},
   "outputs": [
    {
     "data": {
      "text/plain": [
       "['/home/link-lap-24/Downloads/golf_june7/trim/trim.ipynb',\n",
       " '/home/link-lap-24/Downloads/golf_june7/trim/Untitled1.ipynb',\n",
       " '/home/link-lap-24/Downloads/golf_june7/trim/split,replace,join.ipynb',\n",
       " '/home/link-lap-24/Downloads/golf_june7/trim/os.ipynb',\n",
       " '/home/link-lap-24/Downloads/golf_june7/trim/def.ipynb',\n",
       " '/home/link-lap-24/Downloads/golf_june7/trim/Untitled.ipynb',\n",
       " '/home/link-lap-24/Downloads/golf_june7/trim/string.ipynb',\n",
       " '/home/link-lap-24/Downloads/golf_june7/trim/crop.ipynb']"
      ]
     },
     "execution_count": 40,
     "metadata": {},
     "output_type": "execute_result"
    }
   ],
   "source": [
    "path2=glob.glob('/home/link-lap-24/Downloads/golf_june7/trim/*.ipynb')\n",
    "path2"
   ]
  },
  {
   "cell_type": "code",
   "execution_count": 43,
   "id": "dd1252c7",
   "metadata": {},
   "outputs": [
    {
     "name": "stdout",
     "output_type": "stream",
     "text": [
      "('i', '')\n",
      "('i', '')\n",
      "('i', '')\n",
      "('i', '')\n",
      "('i', '')\n",
      "('i', '')\n",
      "('i', '')\n",
      "('i', '')\n"
     ]
    }
   ],
   "source": [
    "for i in path2:\n",
    "    print(os.path.splitext('i'))"
   ]
  },
  {
   "cell_type": "code",
   "execution_count": 45,
   "id": "1b559241",
   "metadata": {},
   "outputs": [
    {
     "name": "stdout",
     "output_type": "stream",
     "text": [
      "('input', '')\n",
      "('trim', '.ipynb')\n",
      "('Untitled1', '.ipynb')\n",
      "('split,replace,join', '.ipynb')\n",
      "('video (copy)', '.txt')\n",
      "('os', '.ipynb')\n",
      "('.ipynb_checkpoints', '')\n",
      "('video', '.txt')\n",
      "('videos', '')\n",
      "('def', '.ipynb')\n",
      "('file', '.txt')\n",
      "('videos', '.zip')\n",
      "('Untitled', '.ipynb')\n",
      "('string', '.ipynb')\n",
      "('video', '.bat')\n",
      "('output', '')\n",
      "('crop', '.ipynb')\n",
      "('TB', '')\n"
     ]
    }
   ],
   "source": [
    "# files=os.listdir()\n",
    "\n",
    "# for f in files:\n",
    "#     print(os.path.splitext(f))"
   ]
  },
  {
   "cell_type": "code",
   "execution_count": 49,
   "id": "77c1085f",
   "metadata": {},
   "outputs": [
    {
     "name": "stdout",
     "output_type": "stream",
     "text": [
      "['CLD_CONTINUED', 'CLD_DUMPED', 'CLD_EXITED', 'CLD_TRAPPED', 'DirEntry', 'EX_CANTCREAT', 'EX_CONFIG', 'EX_DATAERR', 'EX_IOERR', 'EX_NOHOST', 'EX_NOINPUT', 'EX_NOPERM', 'EX_NOUSER', 'EX_OK', 'EX_OSERR', 'EX_OSFILE', 'EX_PROTOCOL', 'EX_SOFTWARE', 'EX_TEMPFAIL', 'EX_UNAVAILABLE', 'EX_USAGE', 'F_LOCK', 'F_OK', 'F_TEST', 'F_TLOCK', 'F_ULOCK', 'GRND_NONBLOCK', 'GRND_RANDOM', 'MFD_ALLOW_SEALING', 'MFD_CLOEXEC', 'MFD_HUGETLB', 'MFD_HUGE_16GB', 'MFD_HUGE_16MB', 'MFD_HUGE_1GB', 'MFD_HUGE_1MB', 'MFD_HUGE_256MB', 'MFD_HUGE_2GB', 'MFD_HUGE_2MB', 'MFD_HUGE_32MB', 'MFD_HUGE_512KB', 'MFD_HUGE_512MB', 'MFD_HUGE_64KB', 'MFD_HUGE_8MB', 'MFD_HUGE_MASK', 'MFD_HUGE_SHIFT', 'MutableMapping', 'NGROUPS_MAX', 'O_ACCMODE', 'O_APPEND', 'O_ASYNC', 'O_CLOEXEC', 'O_CREAT', 'O_DIRECT', 'O_DIRECTORY', 'O_DSYNC', 'O_EXCL', 'O_LARGEFILE', 'O_NDELAY', 'O_NOATIME', 'O_NOCTTY', 'O_NOFOLLOW', 'O_NONBLOCK', 'O_PATH', 'O_RDONLY', 'O_RDWR', 'O_RSYNC', 'O_SYNC', 'O_TMPFILE', 'O_TRUNC', 'O_WRONLY', 'POSIX_FADV_DONTNEED', 'POSIX_FADV_NOREUSE', 'POSIX_FADV_NORMAL', 'POSIX_FADV_RANDOM', 'POSIX_FADV_SEQUENTIAL', 'POSIX_FADV_WILLNEED', 'POSIX_SPAWN_CLOSE', 'POSIX_SPAWN_DUP2', 'POSIX_SPAWN_OPEN', 'PRIO_PGRP', 'PRIO_PROCESS', 'PRIO_USER', 'P_ALL', 'P_NOWAIT', 'P_NOWAITO', 'P_PGID', 'P_PID', 'P_WAIT', 'PathLike', 'RTLD_DEEPBIND', 'RTLD_GLOBAL', 'RTLD_LAZY', 'RTLD_LOCAL', 'RTLD_NODELETE', 'RTLD_NOLOAD', 'RTLD_NOW', 'RWF_DSYNC', 'RWF_HIPRI', 'RWF_NOWAIT', 'RWF_SYNC', 'R_OK', 'SCHED_BATCH', 'SCHED_FIFO', 'SCHED_IDLE', 'SCHED_OTHER', 'SCHED_RESET_ON_FORK', 'SCHED_RR', 'SEEK_CUR', 'SEEK_DATA', 'SEEK_END', 'SEEK_HOLE', 'SEEK_SET', 'ST_APPEND', 'ST_MANDLOCK', 'ST_NOATIME', 'ST_NODEV', 'ST_NODIRATIME', 'ST_NOEXEC', 'ST_NOSUID', 'ST_RDONLY', 'ST_RELATIME', 'ST_SYNCHRONOUS', 'ST_WRITE', 'TMP_MAX', 'WCONTINUED', 'WCOREDUMP', 'WEXITED', 'WEXITSTATUS', 'WIFCONTINUED', 'WIFEXITED', 'WIFSIGNALED', 'WIFSTOPPED', 'WNOHANG', 'WNOWAIT', 'WSTOPPED', 'WSTOPSIG', 'WTERMSIG', 'WUNTRACED', 'W_OK', 'XATTR_CREATE', 'XATTR_REPLACE', 'XATTR_SIZE_MAX', 'X_OK', '_Environ', '__all__', '__builtins__', '__cached__', '__doc__', '__file__', '__loader__', '__name__', '__package__', '__spec__', '_check_methods', '_execvpe', '_exists', '_exit', '_fspath', '_fwalk', '_get_exports_list', '_putenv', '_spawnvef', '_unsetenv', '_wrap_close', 'abc', 'abort', 'access', 'altsep', 'chdir', 'chmod', 'chown', 'chroot', 'close', 'closerange', 'confstr', 'confstr_names', 'copy_file_range', 'cpu_count', 'ctermid', 'curdir', 'defpath', 'device_encoding', 'devnull', 'dup', 'dup2', 'environ', 'environb', 'error', 'execl', 'execle', 'execlp', 'execlpe', 'execv', 'execve', 'execvp', 'execvpe', 'extsep', 'fchdir', 'fchmod', 'fchown', 'fdatasync', 'fdopen', 'fork', 'forkpty', 'fpathconf', 'fsdecode', 'fsencode', 'fspath', 'fstat', 'fstatvfs', 'fsync', 'ftruncate', 'fwalk', 'get_blocking', 'get_exec_path', 'get_inheritable', 'get_terminal_size', 'getcwd', 'getcwdb', 'getegid', 'getenv', 'getenvb', 'geteuid', 'getgid', 'getgrouplist', 'getgroups', 'getloadavg', 'getlogin', 'getpgid', 'getpgrp', 'getpid', 'getppid', 'getpriority', 'getrandom', 'getresgid', 'getresuid', 'getsid', 'getuid', 'getxattr', 'initgroups', 'isatty', 'kill', 'killpg', 'lchown', 'linesep', 'link', 'listdir', 'listxattr', 'lockf', 'lseek', 'lstat', 'major', 'makedev', 'makedirs', 'memfd_create', 'minor', 'mkdir', 'mkfifo', 'mknod', 'name', 'nice', 'open', 'openpty', 'pardir', 'path', 'pathconf', 'pathconf_names', 'pathsep', 'pipe', 'pipe2', 'popen', 'posix_fadvise', 'posix_fallocate', 'posix_spawn', 'posix_spawnp', 'pread', 'preadv', 'putenv', 'pwrite', 'pwritev', 'read', 'readlink', 'readv', 'register_at_fork', 'remove', 'removedirs', 'removexattr', 'rename', 'renames', 'replace', 'rmdir', 'scandir', 'sched_get_priority_max', 'sched_get_priority_min', 'sched_getaffinity', 'sched_getparam', 'sched_getscheduler', 'sched_param', 'sched_rr_get_interval', 'sched_setaffinity', 'sched_setparam', 'sched_setscheduler', 'sched_yield', 'sendfile', 'sep', 'set_blocking', 'set_inheritable', 'setegid', 'seteuid', 'setgid', 'setgroups', 'setpgid', 'setpgrp', 'setpriority', 'setregid', 'setresgid', 'setresuid', 'setreuid', 'setsid', 'setuid', 'setxattr', 'spawnl', 'spawnle', 'spawnlp', 'spawnlpe', 'spawnv', 'spawnve', 'spawnvp', 'spawnvpe', 'st', 'stat', 'stat_result', 'statvfs', 'statvfs_result', 'strerror', 'supports_bytes_environ', 'supports_dir_fd', 'supports_effective_ids', 'supports_fd', 'supports_follow_symlinks', 'symlink', 'sync', 'sys', 'sysconf', 'sysconf_names', 'system', 'tcgetpgrp', 'tcsetpgrp', 'terminal_size', 'times', 'times_result', 'truncate', 'ttyname', 'umask', 'uname', 'uname_result', 'unlink', 'unsetenv', 'urandom', 'utime', 'wait', 'wait3', 'wait4', 'waitid', 'waitid_result', 'waitpid', 'walk', 'write', 'writev']\n"
     ]
    }
   ],
   "source": [
    "print(dir(os))"
   ]
  },
  {
   "cell_type": "code",
   "execution_count": 58,
   "id": "a4718a02",
   "metadata": {},
   "outputs": [
    {
     "data": {
      "text/plain": [
       "'/home/link-lap-24/Downloads/golf_june7/trim/ipynb'"
      ]
     },
     "execution_count": 58,
     "metadata": {},
     "output_type": "execute_result"
    }
   ],
   "source": [
    "files=os.path.abspath('ipynb')\n",
    "\n",
    "files"
   ]
  },
  {
   "cell_type": "code",
   "execution_count": 1,
   "id": "0ea03e97",
   "metadata": {},
   "outputs": [],
   "source": [
    "import uuid\n"
   ]
  },
  {
   "cell_type": "code",
   "execution_count": 8,
   "id": "425fa9b0",
   "metadata": {},
   "outputs": [
    {
     "name": "stdout",
     "output_type": "stream",
     "text": [
      "3e053258-081d-11ed-acc9-593b3c877f7c\n",
      "3e053259-081d-11ed-acc9-593b3c877f7c\n",
      "3e05325a-081d-11ed-acc9-593b3c877f7c\n",
      "3e05325b-081d-11ed-acc9-593b3c877f7c\n",
      "3e05325c-081d-11ed-acc9-593b3c877f7c\n",
      "3e05325d-081d-11ed-acc9-593b3c877f7c\n",
      "3e05325e-081d-11ed-acc9-593b3c877f7c\n",
      "3e05325f-081d-11ed-acc9-593b3c877f7c\n",
      "3e053260-081d-11ed-acc9-593b3c877f7c\n",
      "3e053261-081d-11ed-acc9-593b3c877f7c\n",
      "3e053262-081d-11ed-acc9-593b3c877f7c\n"
     ]
    }
   ],
   "source": [
    "i=0\n",
    "\n",
    "while i <= 10:\n",
    "    print(uuid.uuid1())\n",
    "    \n",
    "    i+=1"
   ]
  },
  {
   "cell_type": "code",
   "execution_count": 7,
   "id": "b6e27587",
   "metadata": {},
   "outputs": [
    {
     "ename": "TypeError",
     "evalue": "hin() takes 0 positional arguments but 1 was given",
     "output_type": "error",
     "traceback": [
      "\u001b[0;31m---------------------------------------------------------------------------\u001b[0m",
      "\u001b[0;31mTypeError\u001b[0m                                 Traceback (most recent call last)",
      "Input \u001b[0;32mIn [7]\u001b[0m, in \u001b[0;36m<cell line: 1>\u001b[0;34m()\u001b[0m\n\u001b[0;32m----> 1\u001b[0m \u001b[43mhin\u001b[49m\u001b[43m(\u001b[49m\u001b[38;5;241;43m2\u001b[39;49m\u001b[43m)\u001b[49m\n",
      "\u001b[0;31mTypeError\u001b[0m: hin() takes 0 positional arguments but 1 was given"
     ]
    }
   ],
   "source": []
  },
  {
   "cell_type": "code",
   "execution_count": 9,
   "id": "3f9645b9",
   "metadata": {},
   "outputs": [
    {
     "name": "stdout",
     "output_type": "stream",
     "text": [
      "8951b6bb-1c9c-4c07-aad1-29d95f904fab\n"
     ]
    }
   ],
   "source": [
    "print(uuid.uuid4())"
   ]
  },
  {
   "cell_type": "code",
   "execution_count": 1,
   "id": "885fae88",
   "metadata": {},
   "outputs": [
    {
     "name": "stdout",
     "output_type": "stream",
     "text": [
      "Wednesday 03 August 2022 11:04:24 AM IST\n"
     ]
    },
    {
     "data": {
      "text/plain": [
       "0"
      ]
     },
     "execution_count": 1,
     "metadata": {},
     "output_type": "execute_result"
    }
   ],
   "source": [
    "# Python program to explain os.system() method\n",
    "\n",
    "# importing os module\n",
    "import os\n",
    "\n",
    "# Command to execute\n",
    "# Using Windows OS command\n",
    "cmd = 'date'\n",
    "\n",
    "# Using os.system() method\n",
    "os.system(cmd)\n"
   ]
  },
  {
   "cell_type": "code",
   "execution_count": 2,
   "id": "55e6d2e3",
   "metadata": {},
   "outputs": [
    {
     "name": "stderr",
     "output_type": "stream",
     "text": [
      "sh: 1: notepad: not found\n"
     ]
    },
    {
     "data": {
      "text/plain": [
       "32512"
      ]
     },
     "execution_count": 2,
     "metadata": {},
     "output_type": "execute_result"
    }
   ],
   "source": [
    "# Python program to explain os.system() method\n",
    "\n",
    "# importing os module\n",
    "import os\n",
    "\n",
    "# Command to execute\n",
    "# Using Windows OS command\n",
    "cmd = 'notepad'\n",
    "\n",
    "# Using os.system() method\n",
    "os.system(cmd)\n"
   ]
  },
  {
   "cell_type": "code",
   "execution_count": 8,
   "id": "ecab6d83",
   "metadata": {},
   "outputs": [
    {
     "name": "stderr",
     "output_type": "stream",
     "text": [
      "Qt: Session management error: Could not open network socket\n"
     ]
    },
    {
     "name": "stdout",
     "output_type": "stream",
     "text": [
      "This is SMPlayer v. 22.7.0 (revision 10091) running on Linux\n"
     ]
    },
    {
     "data": {
      "text/plain": [
       "0"
      ]
     },
     "execution_count": 8,
     "metadata": {},
     "output_type": "execute_result"
    }
   ],
   "source": [
    "# Python program to explain os.system() method\n",
    "\n",
    "# importing os module\n",
    "import os\n",
    "\n",
    "# Command to execute\n",
    "# Using Windows OS command\n",
    "cmd = 'smplayer'\n",
    "\n",
    "# Using os.system() method\n",
    "os.system(cmd)\n"
   ]
  },
  {
   "cell_type": "code",
   "execution_count": 13,
   "id": "04388b90",
   "metadata": {},
   "outputs": [
    {
     "name": "stderr",
     "output_type": "stream",
     "text": [
      "[000055ced97a75b0] main libvlc: Running vlc with the default interface. Use 'cvlc' to use vlc without interface.\n",
      "[000055ced9844ff0] main playlist: playlist is empty\n",
      "QObject::~QObject: Timers cannot be stopped from another thread\n"
     ]
    },
    {
     "data": {
      "text/plain": [
       "0"
      ]
     },
     "execution_count": 13,
     "metadata": {},
     "output_type": "execute_result"
    }
   ],
   "source": [
    "import os\n",
    "\n",
    "\n",
    "cmd='vlc'\n",
    "\n",
    "os.system(cmd)"
   ]
  },
  {
   "cell_type": "code",
   "execution_count": 2,
   "id": "4c7ff99a",
   "metadata": {},
   "outputs": [],
   "source": [
    "import os\n",
    "import pandas as pd"
   ]
  },
  {
   "cell_type": "code",
   "execution_count": 7,
   "id": "8b91d2f2",
   "metadata": {
    "scrolled": true
   },
   "outputs": [
    {
     "data": {
      "text/html": [
       "<div>\n",
       "<style scoped>\n",
       "    .dataframe tbody tr th:only-of-type {\n",
       "        vertical-align: middle;\n",
       "    }\n",
       "\n",
       "    .dataframe tbody tr th {\n",
       "        vertical-align: top;\n",
       "    }\n",
       "\n",
       "    .dataframe thead th {\n",
       "        text-align: right;\n",
       "    }\n",
       "</style>\n",
       "<table border=\"1\" class=\"dataframe\">\n",
       "  <thead>\n",
       "    <tr style=\"text-align: right;\">\n",
       "      <th></th>\n",
       "      <th>63441acf33850aef09384fb3</th>\n",
       "      <th>63441ad033850aef09384fb4</th>\n",
       "      <th>63441ad133850aef09384fb5</th>\n",
       "      <th>63441ad133850aef09384fb6</th>\n",
       "      <th>63441ad233850aef09384fb7</th>\n",
       "      <th>63441ad333850aef09384fb8</th>\n",
       "      <th>63441ad333850aef09384fb9</th>\n",
       "      <th>63441ad433850aef09384fba</th>\n",
       "      <th>63441ad533850aef09384fbb</th>\n",
       "      <th>63441ad533850aef09384fbc</th>\n",
       "      <th>...</th>\n",
       "      <th>63441afb33850aef09384fe2</th>\n",
       "      <th>63441afc33850aef09384fe4</th>\n",
       "      <th>63441afd33850aef09384fe5</th>\n",
       "      <th>63441afe33850aef09384fe6</th>\n",
       "      <th>63441aff33850aef09384fe7</th>\n",
       "      <th>63441aff33850aef09384fe8</th>\n",
       "      <th>63441b0033850aef09384fe9</th>\n",
       "      <th>63441b0233850aef09384feb</th>\n",
       "      <th>63441b0333850aef09384fed</th>\n",
       "      <th>63441b0433850aef09384fee</th>\n",
       "    </tr>\n",
       "  </thead>\n",
       "  <tbody>\n",
       "    <tr>\n",
       "      <th>rect</th>\n",
       "      <td>[]</td>\n",
       "      <td>[]</td>\n",
       "      <td>[]</td>\n",
       "      <td>[]</td>\n",
       "      <td>[]</td>\n",
       "      <td>[]</td>\n",
       "      <td>[]</td>\n",
       "      <td>[]</td>\n",
       "      <td>[]</td>\n",
       "      <td>[]</td>\n",
       "      <td>...</td>\n",
       "      <td>[]</td>\n",
       "      <td>[]</td>\n",
       "      <td>[]</td>\n",
       "      <td>[]</td>\n",
       "      <td>[]</td>\n",
       "      <td>[]</td>\n",
       "      <td>[]</td>\n",
       "      <td>[]</td>\n",
       "      <td>[]</td>\n",
       "      <td>[]</td>\n",
       "    </tr>\n",
       "    <tr>\n",
       "      <th>imageUrl</th>\n",
       "      <td>https://ai-studio-new.s3-ap-south-1.amazonaws....</td>\n",
       "      <td>https://ai-studio-new.s3-ap-south-1.amazonaws....</td>\n",
       "      <td>https://ai-studio-new.s3-ap-south-1.amazonaws....</td>\n",
       "      <td>https://ai-studio-new.s3-ap-south-1.amazonaws....</td>\n",
       "      <td>https://ai-studio-new.s3-ap-south-1.amazonaws....</td>\n",
       "      <td>https://ai-studio-new.s3-ap-south-1.amazonaws....</td>\n",
       "      <td>https://ai-studio-new.s3-ap-south-1.amazonaws....</td>\n",
       "      <td>https://ai-studio-new.s3-ap-south-1.amazonaws....</td>\n",
       "      <td>https://ai-studio-new.s3-ap-south-1.amazonaws....</td>\n",
       "      <td>https://ai-studio-new.s3-ap-south-1.amazonaws....</td>\n",
       "      <td>...</td>\n",
       "      <td>https://ai-studio-new.s3-ap-south-1.amazonaws....</td>\n",
       "      <td>https://ai-studio-new.s3-ap-south-1.amazonaws....</td>\n",
       "      <td>https://ai-studio-new.s3-ap-south-1.amazonaws....</td>\n",
       "      <td>https://ai-studio-new.s3-ap-south-1.amazonaws....</td>\n",
       "      <td>https://ai-studio-new.s3-ap-south-1.amazonaws....</td>\n",
       "      <td>https://ai-studio-new.s3-ap-south-1.amazonaws....</td>\n",
       "      <td>https://ai-studio-new.s3-ap-south-1.amazonaws....</td>\n",
       "      <td>https://ai-studio-new.s3-ap-south-1.amazonaws....</td>\n",
       "      <td>https://ai-studio-new.s3-ap-south-1.amazonaws....</td>\n",
       "      <td>https://ai-studio-new.s3-ap-south-1.amazonaws....</td>\n",
       "    </tr>\n",
       "    <tr>\n",
       "      <th>point</th>\n",
       "      <td>[]</td>\n",
       "      <td>[]</td>\n",
       "      <td>[]</td>\n",
       "      <td>[]</td>\n",
       "      <td>[]</td>\n",
       "      <td>[]</td>\n",
       "      <td>[]</td>\n",
       "      <td>[]</td>\n",
       "      <td>[]</td>\n",
       "      <td>[]</td>\n",
       "      <td>...</td>\n",
       "      <td>[]</td>\n",
       "      <td>[]</td>\n",
       "      <td>[]</td>\n",
       "      <td>[]</td>\n",
       "      <td>[]</td>\n",
       "      <td>[]</td>\n",
       "      <td>[]</td>\n",
       "      <td>[]</td>\n",
       "      <td>[]</td>\n",
       "      <td>[]</td>\n",
       "    </tr>\n",
       "    <tr>\n",
       "      <th>line</th>\n",
       "      <td>[]</td>\n",
       "      <td>[]</td>\n",
       "      <td>[]</td>\n",
       "      <td>[]</td>\n",
       "      <td>[]</td>\n",
       "      <td>[]</td>\n",
       "      <td>[]</td>\n",
       "      <td>[]</td>\n",
       "      <td>[]</td>\n",
       "      <td>[]</td>\n",
       "      <td>...</td>\n",
       "      <td>[]</td>\n",
       "      <td>[]</td>\n",
       "      <td>[]</td>\n",
       "      <td>[]</td>\n",
       "      <td>[]</td>\n",
       "      <td>[]</td>\n",
       "      <td>[]</td>\n",
       "      <td>[]</td>\n",
       "      <td>[]</td>\n",
       "      <td>[]</td>\n",
       "    </tr>\n",
       "    <tr>\n",
       "      <th>polygon</th>\n",
       "      <td>[]</td>\n",
       "      <td>[]</td>\n",
       "      <td>[]</td>\n",
       "      <td>[]</td>\n",
       "      <td>[]</td>\n",
       "      <td>[]</td>\n",
       "      <td>[]</td>\n",
       "      <td>[]</td>\n",
       "      <td>[]</td>\n",
       "      <td>[]</td>\n",
       "      <td>...</td>\n",
       "      <td>[]</td>\n",
       "      <td>[]</td>\n",
       "      <td>[]</td>\n",
       "      <td>[]</td>\n",
       "      <td>[]</td>\n",
       "      <td>[]</td>\n",
       "      <td>[]</td>\n",
       "      <td>[]</td>\n",
       "      <td>[]</td>\n",
       "      <td>[]</td>\n",
       "    </tr>\n",
       "  </tbody>\n",
       "</table>\n",
       "<p>5 rows × 50 columns</p>\n",
       "</div>"
      ],
      "text/plain": [
       "                                   63441acf33850aef09384fb3  \\\n",
       "rect                                                     []   \n",
       "imageUrl  https://ai-studio-new.s3-ap-south-1.amazonaws....   \n",
       "point                                                    []   \n",
       "line                                                     []   \n",
       "polygon                                                  []   \n",
       "\n",
       "                                   63441ad033850aef09384fb4  \\\n",
       "rect                                                     []   \n",
       "imageUrl  https://ai-studio-new.s3-ap-south-1.amazonaws....   \n",
       "point                                                    []   \n",
       "line                                                     []   \n",
       "polygon                                                  []   \n",
       "\n",
       "                                   63441ad133850aef09384fb5  \\\n",
       "rect                                                     []   \n",
       "imageUrl  https://ai-studio-new.s3-ap-south-1.amazonaws....   \n",
       "point                                                    []   \n",
       "line                                                     []   \n",
       "polygon                                                  []   \n",
       "\n",
       "                                   63441ad133850aef09384fb6  \\\n",
       "rect                                                     []   \n",
       "imageUrl  https://ai-studio-new.s3-ap-south-1.amazonaws....   \n",
       "point                                                    []   \n",
       "line                                                     []   \n",
       "polygon                                                  []   \n",
       "\n",
       "                                   63441ad233850aef09384fb7  \\\n",
       "rect                                                     []   \n",
       "imageUrl  https://ai-studio-new.s3-ap-south-1.amazonaws....   \n",
       "point                                                    []   \n",
       "line                                                     []   \n",
       "polygon                                                  []   \n",
       "\n",
       "                                   63441ad333850aef09384fb8  \\\n",
       "rect                                                     []   \n",
       "imageUrl  https://ai-studio-new.s3-ap-south-1.amazonaws....   \n",
       "point                                                    []   \n",
       "line                                                     []   \n",
       "polygon                                                  []   \n",
       "\n",
       "                                   63441ad333850aef09384fb9  \\\n",
       "rect                                                     []   \n",
       "imageUrl  https://ai-studio-new.s3-ap-south-1.amazonaws....   \n",
       "point                                                    []   \n",
       "line                                                     []   \n",
       "polygon                                                  []   \n",
       "\n",
       "                                   63441ad433850aef09384fba  \\\n",
       "rect                                                     []   \n",
       "imageUrl  https://ai-studio-new.s3-ap-south-1.amazonaws....   \n",
       "point                                                    []   \n",
       "line                                                     []   \n",
       "polygon                                                  []   \n",
       "\n",
       "                                   63441ad533850aef09384fbb  \\\n",
       "rect                                                     []   \n",
       "imageUrl  https://ai-studio-new.s3-ap-south-1.amazonaws....   \n",
       "point                                                    []   \n",
       "line                                                     []   \n",
       "polygon                                                  []   \n",
       "\n",
       "                                   63441ad533850aef09384fbc  ...  \\\n",
       "rect                                                     []  ...   \n",
       "imageUrl  https://ai-studio-new.s3-ap-south-1.amazonaws....  ...   \n",
       "point                                                    []  ...   \n",
       "line                                                     []  ...   \n",
       "polygon                                                  []  ...   \n",
       "\n",
       "                                   63441afb33850aef09384fe2  \\\n",
       "rect                                                     []   \n",
       "imageUrl  https://ai-studio-new.s3-ap-south-1.amazonaws....   \n",
       "point                                                    []   \n",
       "line                                                     []   \n",
       "polygon                                                  []   \n",
       "\n",
       "                                   63441afc33850aef09384fe4  \\\n",
       "rect                                                     []   \n",
       "imageUrl  https://ai-studio-new.s3-ap-south-1.amazonaws....   \n",
       "point                                                    []   \n",
       "line                                                     []   \n",
       "polygon                                                  []   \n",
       "\n",
       "                                   63441afd33850aef09384fe5  \\\n",
       "rect                                                     []   \n",
       "imageUrl  https://ai-studio-new.s3-ap-south-1.amazonaws....   \n",
       "point                                                    []   \n",
       "line                                                     []   \n",
       "polygon                                                  []   \n",
       "\n",
       "                                   63441afe33850aef09384fe6  \\\n",
       "rect                                                     []   \n",
       "imageUrl  https://ai-studio-new.s3-ap-south-1.amazonaws....   \n",
       "point                                                    []   \n",
       "line                                                     []   \n",
       "polygon                                                  []   \n",
       "\n",
       "                                   63441aff33850aef09384fe7  \\\n",
       "rect                                                     []   \n",
       "imageUrl  https://ai-studio-new.s3-ap-south-1.amazonaws....   \n",
       "point                                                    []   \n",
       "line                                                     []   \n",
       "polygon                                                  []   \n",
       "\n",
       "                                   63441aff33850aef09384fe8  \\\n",
       "rect                                                     []   \n",
       "imageUrl  https://ai-studio-new.s3-ap-south-1.amazonaws....   \n",
       "point                                                    []   \n",
       "line                                                     []   \n",
       "polygon                                                  []   \n",
       "\n",
       "                                   63441b0033850aef09384fe9  \\\n",
       "rect                                                     []   \n",
       "imageUrl  https://ai-studio-new.s3-ap-south-1.amazonaws....   \n",
       "point                                                    []   \n",
       "line                                                     []   \n",
       "polygon                                                  []   \n",
       "\n",
       "                                   63441b0233850aef09384feb  \\\n",
       "rect                                                     []   \n",
       "imageUrl  https://ai-studio-new.s3-ap-south-1.amazonaws....   \n",
       "point                                                    []   \n",
       "line                                                     []   \n",
       "polygon                                                  []   \n",
       "\n",
       "                                   63441b0333850aef09384fed  \\\n",
       "rect                                                     []   \n",
       "imageUrl  https://ai-studio-new.s3-ap-south-1.amazonaws....   \n",
       "point                                                    []   \n",
       "line                                                     []   \n",
       "polygon                                                  []   \n",
       "\n",
       "                                   63441b0433850aef09384fee  \n",
       "rect                                                     []  \n",
       "imageUrl  https://ai-studio-new.s3-ap-south-1.amazonaws....  \n",
       "point                                                    []  \n",
       "line                                                     []  \n",
       "polygon                                                  []  \n",
       "\n",
       "[5 rows x 50 columns]"
      ]
     },
     "execution_count": 7,
     "metadata": {},
     "output_type": "execute_result"
    }
   ],
   "source": [
    "json=pd.read_json(\"data.json\")\n",
    "json"
   ]
  },
  {
   "cell_type": "code",
   "execution_count": 8,
   "id": "d0425bd7",
   "metadata": {
    "scrolled": true
   },
   "outputs": [
    {
     "data": {
      "text/plain": [
       "rect                                                       []\n",
       "imageUrl    https://ai-studio-new.s3-ap-south-1.amazonaws....\n",
       "point                                                      []\n",
       "line                                                       []\n",
       "polygon                                                    []\n",
       "Name: 63441acf33850aef09384fb3, dtype: object"
      ]
     },
     "execution_count": 8,
     "metadata": {},
     "output_type": "execute_result"
    }
   ],
   "source": [
    "json['63441acf33850aef09384fb3']"
   ]
  },
  {
   "cell_type": "code",
   "execution_count": 19,
   "id": "0d6c31d7",
   "metadata": {},
   "outputs": [
    {
     "data": {
      "text/html": [
       "<div>\n",
       "<style scoped>\n",
       "    .dataframe tbody tr th:only-of-type {\n",
       "        vertical-align: middle;\n",
       "    }\n",
       "\n",
       "    .dataframe tbody tr th {\n",
       "        vertical-align: top;\n",
       "    }\n",
       "\n",
       "    .dataframe thead th {\n",
       "        text-align: right;\n",
       "    }\n",
       "</style>\n",
       "<table border=\"1\" class=\"dataframe\">\n",
       "  <thead>\n",
       "    <tr style=\"text-align: right;\">\n",
       "      <th></th>\n",
       "      <th>rect</th>\n",
       "      <th>imageUrl</th>\n",
       "      <th>point</th>\n",
       "      <th>line</th>\n",
       "      <th>polygon</th>\n",
       "    </tr>\n",
       "  </thead>\n",
       "  <tbody>\n",
       "    <tr>\n",
       "      <th>63441acf33850aef09384fb3</th>\n",
       "      <td>[]</td>\n",
       "      <td>https://ai-studio-new.s3-ap-south-1.amazonaws....</td>\n",
       "      <td>[]</td>\n",
       "      <td>[]</td>\n",
       "      <td>[]</td>\n",
       "    </tr>\n",
       "    <tr>\n",
       "      <th>63441ad033850aef09384fb4</th>\n",
       "      <td>[]</td>\n",
       "      <td>https://ai-studio-new.s3-ap-south-1.amazonaws....</td>\n",
       "      <td>[]</td>\n",
       "      <td>[]</td>\n",
       "      <td>[]</td>\n",
       "    </tr>\n",
       "    <tr>\n",
       "      <th>63441ad133850aef09384fb5</th>\n",
       "      <td>[]</td>\n",
       "      <td>https://ai-studio-new.s3-ap-south-1.amazonaws....</td>\n",
       "      <td>[]</td>\n",
       "      <td>[]</td>\n",
       "      <td>[]</td>\n",
       "    </tr>\n",
       "    <tr>\n",
       "      <th>63441ad133850aef09384fb6</th>\n",
       "      <td>[]</td>\n",
       "      <td>https://ai-studio-new.s3-ap-south-1.amazonaws....</td>\n",
       "      <td>[]</td>\n",
       "      <td>[]</td>\n",
       "      <td>[]</td>\n",
       "    </tr>\n",
       "    <tr>\n",
       "      <th>63441ad233850aef09384fb7</th>\n",
       "      <td>[]</td>\n",
       "      <td>https://ai-studio-new.s3-ap-south-1.amazonaws....</td>\n",
       "      <td>[]</td>\n",
       "      <td>[]</td>\n",
       "      <td>[]</td>\n",
       "    </tr>\n",
       "    <tr>\n",
       "      <th>63441ad333850aef09384fb8</th>\n",
       "      <td>[]</td>\n",
       "      <td>https://ai-studio-new.s3-ap-south-1.amazonaws....</td>\n",
       "      <td>[]</td>\n",
       "      <td>[]</td>\n",
       "      <td>[]</td>\n",
       "    </tr>\n",
       "    <tr>\n",
       "      <th>63441ad333850aef09384fb9</th>\n",
       "      <td>[]</td>\n",
       "      <td>https://ai-studio-new.s3-ap-south-1.amazonaws....</td>\n",
       "      <td>[]</td>\n",
       "      <td>[]</td>\n",
       "      <td>[]</td>\n",
       "    </tr>\n",
       "    <tr>\n",
       "      <th>63441ad433850aef09384fba</th>\n",
       "      <td>[]</td>\n",
       "      <td>https://ai-studio-new.s3-ap-south-1.amazonaws....</td>\n",
       "      <td>[]</td>\n",
       "      <td>[]</td>\n",
       "      <td>[]</td>\n",
       "    </tr>\n",
       "    <tr>\n",
       "      <th>63441ad533850aef09384fbb</th>\n",
       "      <td>[]</td>\n",
       "      <td>https://ai-studio-new.s3-ap-south-1.amazonaws....</td>\n",
       "      <td>[]</td>\n",
       "      <td>[]</td>\n",
       "      <td>[]</td>\n",
       "    </tr>\n",
       "    <tr>\n",
       "      <th>63441ad533850aef09384fbc</th>\n",
       "      <td>[]</td>\n",
       "      <td>https://ai-studio-new.s3-ap-south-1.amazonaws....</td>\n",
       "      <td>[]</td>\n",
       "      <td>[]</td>\n",
       "      <td>[]</td>\n",
       "    </tr>\n",
       "    <tr>\n",
       "      <th>63441ad733850aef09384fbd</th>\n",
       "      <td>[]</td>\n",
       "      <td>https://ai-studio-new.s3-ap-south-1.amazonaws....</td>\n",
       "      <td>[]</td>\n",
       "      <td>[]</td>\n",
       "      <td>[]</td>\n",
       "    </tr>\n",
       "    <tr>\n",
       "      <th>63441ad833850aef09384fbe</th>\n",
       "      <td>[]</td>\n",
       "      <td>https://ai-studio-new.s3-ap-south-1.amazonaws....</td>\n",
       "      <td>[]</td>\n",
       "      <td>[]</td>\n",
       "      <td>[]</td>\n",
       "    </tr>\n",
       "    <tr>\n",
       "      <th>63441ad933850aef09384fbf</th>\n",
       "      <td>[]</td>\n",
       "      <td>https://ai-studio-new.s3-ap-south-1.amazonaws....</td>\n",
       "      <td>[]</td>\n",
       "      <td>[]</td>\n",
       "      <td>[]</td>\n",
       "    </tr>\n",
       "    <tr>\n",
       "      <th>63441ad933850aef09384fc0</th>\n",
       "      <td>[]</td>\n",
       "      <td>https://ai-studio-new.s3-ap-south-1.amazonaws....</td>\n",
       "      <td>[]</td>\n",
       "      <td>[]</td>\n",
       "      <td>[]</td>\n",
       "    </tr>\n",
       "    <tr>\n",
       "      <th>63441ada33850aef09384fc1</th>\n",
       "      <td>[]</td>\n",
       "      <td>https://ai-studio-new.s3-ap-south-1.amazonaws....</td>\n",
       "      <td>[]</td>\n",
       "      <td>[]</td>\n",
       "      <td>[]</td>\n",
       "    </tr>\n",
       "    <tr>\n",
       "      <th>63441adb33850aef09384fc2</th>\n",
       "      <td>[]</td>\n",
       "      <td>https://ai-studio-new.s3-ap-south-1.amazonaws....</td>\n",
       "      <td>[]</td>\n",
       "      <td>[]</td>\n",
       "      <td>[]</td>\n",
       "    </tr>\n",
       "    <tr>\n",
       "      <th>63441adc33850aef09384fc3</th>\n",
       "      <td>[]</td>\n",
       "      <td>https://ai-studio-new.s3-ap-south-1.amazonaws....</td>\n",
       "      <td>[]</td>\n",
       "      <td>[]</td>\n",
       "      <td>[]</td>\n",
       "    </tr>\n",
       "    <tr>\n",
       "      <th>63441add33850aef09384fc4</th>\n",
       "      <td>[]</td>\n",
       "      <td>https://ai-studio-new.s3-ap-south-1.amazonaws....</td>\n",
       "      <td>[]</td>\n",
       "      <td>[]</td>\n",
       "      <td>[]</td>\n",
       "    </tr>\n",
       "    <tr>\n",
       "      <th>63441ade33850aef09384fc5</th>\n",
       "      <td>[]</td>\n",
       "      <td>https://ai-studio-new.s3-ap-south-1.amazonaws....</td>\n",
       "      <td>[]</td>\n",
       "      <td>[]</td>\n",
       "      <td>[]</td>\n",
       "    </tr>\n",
       "    <tr>\n",
       "      <th>63441adf33850aef09384fc6</th>\n",
       "      <td>[]</td>\n",
       "      <td>https://ai-studio-new.s3-ap-south-1.amazonaws....</td>\n",
       "      <td>[]</td>\n",
       "      <td>[]</td>\n",
       "      <td>[]</td>\n",
       "    </tr>\n",
       "    <tr>\n",
       "      <th>63441ae233850aef09384fc9</th>\n",
       "      <td>[]</td>\n",
       "      <td>https://ai-studio-new.s3-ap-south-1.amazonaws....</td>\n",
       "      <td>[]</td>\n",
       "      <td>[]</td>\n",
       "      <td>[]</td>\n",
       "    </tr>\n",
       "    <tr>\n",
       "      <th>63441ae333850aef09384fca</th>\n",
       "      <td>[]</td>\n",
       "      <td>https://ai-studio-new.s3-ap-south-1.amazonaws....</td>\n",
       "      <td>[]</td>\n",
       "      <td>[]</td>\n",
       "      <td>[]</td>\n",
       "    </tr>\n",
       "    <tr>\n",
       "      <th>63441ae433850aef09384fcb</th>\n",
       "      <td>[]</td>\n",
       "      <td>https://ai-studio-new.s3-ap-south-1.amazonaws....</td>\n",
       "      <td>[]</td>\n",
       "      <td>[]</td>\n",
       "      <td>[]</td>\n",
       "    </tr>\n",
       "    <tr>\n",
       "      <th>63441ae633850aef09384fcc</th>\n",
       "      <td>[]</td>\n",
       "      <td>https://ai-studio-new.s3-ap-south-1.amazonaws....</td>\n",
       "      <td>[]</td>\n",
       "      <td>[]</td>\n",
       "      <td>[]</td>\n",
       "    </tr>\n",
       "    <tr>\n",
       "      <th>63441ae633850aef09384fcd</th>\n",
       "      <td>[]</td>\n",
       "      <td>https://ai-studio-new.s3-ap-south-1.amazonaws....</td>\n",
       "      <td>[]</td>\n",
       "      <td>[]</td>\n",
       "      <td>[]</td>\n",
       "    </tr>\n",
       "    <tr>\n",
       "      <th>63441ae733850aef09384fce</th>\n",
       "      <td>[]</td>\n",
       "      <td>https://ai-studio-new.s3-ap-south-1.amazonaws....</td>\n",
       "      <td>[]</td>\n",
       "      <td>[]</td>\n",
       "      <td>[]</td>\n",
       "    </tr>\n",
       "    <tr>\n",
       "      <th>63441ae933850aef09384fcf</th>\n",
       "      <td>[]</td>\n",
       "      <td>https://ai-studio-new.s3-ap-south-1.amazonaws....</td>\n",
       "      <td>[]</td>\n",
       "      <td>[]</td>\n",
       "      <td>[]</td>\n",
       "    </tr>\n",
       "    <tr>\n",
       "      <th>63441ae933850aef09384fd0</th>\n",
       "      <td>[]</td>\n",
       "      <td>https://ai-studio-new.s3-ap-south-1.amazonaws....</td>\n",
       "      <td>[]</td>\n",
       "      <td>[]</td>\n",
       "      <td>[]</td>\n",
       "    </tr>\n",
       "    <tr>\n",
       "      <th>63441aeb33850aef09384fd1</th>\n",
       "      <td>[]</td>\n",
       "      <td>https://ai-studio-new.s3-ap-south-1.amazonaws....</td>\n",
       "      <td>[]</td>\n",
       "      <td>[]</td>\n",
       "      <td>[]</td>\n",
       "    </tr>\n",
       "    <tr>\n",
       "      <th>63441aeb33850aef09384fd2</th>\n",
       "      <td>[]</td>\n",
       "      <td>https://ai-studio-new.s3-ap-south-1.amazonaws....</td>\n",
       "      <td>[]</td>\n",
       "      <td>[]</td>\n",
       "      <td>[]</td>\n",
       "    </tr>\n",
       "    <tr>\n",
       "      <th>63441aee33850aef09384fd5</th>\n",
       "      <td>[]</td>\n",
       "      <td>https://ai-studio-new.s3-ap-south-1.amazonaws....</td>\n",
       "      <td>[]</td>\n",
       "      <td>[]</td>\n",
       "      <td>[]</td>\n",
       "    </tr>\n",
       "    <tr>\n",
       "      <th>63441aef33850aef09384fd6</th>\n",
       "      <td>[]</td>\n",
       "      <td>https://ai-studio-new.s3-ap-south-1.amazonaws....</td>\n",
       "      <td>[]</td>\n",
       "      <td>[]</td>\n",
       "      <td>[]</td>\n",
       "    </tr>\n",
       "    <tr>\n",
       "      <th>63441af033850aef09384fd7</th>\n",
       "      <td>[]</td>\n",
       "      <td>https://ai-studio-new.s3-ap-south-1.amazonaws....</td>\n",
       "      <td>[]</td>\n",
       "      <td>[]</td>\n",
       "      <td>[]</td>\n",
       "    </tr>\n",
       "    <tr>\n",
       "      <th>63441af233850aef09384fd9</th>\n",
       "      <td>[]</td>\n",
       "      <td>https://ai-studio-new.s3-ap-south-1.amazonaws....</td>\n",
       "      <td>[]</td>\n",
       "      <td>[]</td>\n",
       "      <td>[]</td>\n",
       "    </tr>\n",
       "    <tr>\n",
       "      <th>63441af333850aef09384fda</th>\n",
       "      <td>[]</td>\n",
       "      <td>https://ai-studio-new.s3-ap-south-1.amazonaws....</td>\n",
       "      <td>[]</td>\n",
       "      <td>[]</td>\n",
       "      <td>[]</td>\n",
       "    </tr>\n",
       "    <tr>\n",
       "      <th>63441af433850aef09384fdb</th>\n",
       "      <td>[]</td>\n",
       "      <td>https://ai-studio-new.s3-ap-south-1.amazonaws....</td>\n",
       "      <td>[]</td>\n",
       "      <td>[]</td>\n",
       "      <td>[]</td>\n",
       "    </tr>\n",
       "    <tr>\n",
       "      <th>63441af533850aef09384fdc</th>\n",
       "      <td>[]</td>\n",
       "      <td>https://ai-studio-new.s3-ap-south-1.amazonaws....</td>\n",
       "      <td>[]</td>\n",
       "      <td>[]</td>\n",
       "      <td>[]</td>\n",
       "    </tr>\n",
       "    <tr>\n",
       "      <th>63441af733850aef09384fde</th>\n",
       "      <td>[]</td>\n",
       "      <td>https://ai-studio-new.s3-ap-south-1.amazonaws....</td>\n",
       "      <td>[]</td>\n",
       "      <td>[]</td>\n",
       "      <td>[]</td>\n",
       "    </tr>\n",
       "    <tr>\n",
       "      <th>63441af833850aef09384fdf</th>\n",
       "      <td>[]</td>\n",
       "      <td>https://ai-studio-new.s3-ap-south-1.amazonaws....</td>\n",
       "      <td>[]</td>\n",
       "      <td>[]</td>\n",
       "      <td>[]</td>\n",
       "    </tr>\n",
       "    <tr>\n",
       "      <th>63441afa33850aef09384fe1</th>\n",
       "      <td>[]</td>\n",
       "      <td>https://ai-studio-new.s3-ap-south-1.amazonaws....</td>\n",
       "      <td>[]</td>\n",
       "      <td>[]</td>\n",
       "      <td>[]</td>\n",
       "    </tr>\n",
       "    <tr>\n",
       "      <th>63441afb33850aef09384fe2</th>\n",
       "      <td>[]</td>\n",
       "      <td>https://ai-studio-new.s3-ap-south-1.amazonaws....</td>\n",
       "      <td>[]</td>\n",
       "      <td>[]</td>\n",
       "      <td>[]</td>\n",
       "    </tr>\n",
       "    <tr>\n",
       "      <th>63441afc33850aef09384fe4</th>\n",
       "      <td>[]</td>\n",
       "      <td>https://ai-studio-new.s3-ap-south-1.amazonaws....</td>\n",
       "      <td>[]</td>\n",
       "      <td>[]</td>\n",
       "      <td>[]</td>\n",
       "    </tr>\n",
       "    <tr>\n",
       "      <th>63441afd33850aef09384fe5</th>\n",
       "      <td>[]</td>\n",
       "      <td>https://ai-studio-new.s3-ap-south-1.amazonaws....</td>\n",
       "      <td>[]</td>\n",
       "      <td>[]</td>\n",
       "      <td>[]</td>\n",
       "    </tr>\n",
       "    <tr>\n",
       "      <th>63441afe33850aef09384fe6</th>\n",
       "      <td>[]</td>\n",
       "      <td>https://ai-studio-new.s3-ap-south-1.amazonaws....</td>\n",
       "      <td>[]</td>\n",
       "      <td>[]</td>\n",
       "      <td>[]</td>\n",
       "    </tr>\n",
       "    <tr>\n",
       "      <th>63441aff33850aef09384fe7</th>\n",
       "      <td>[]</td>\n",
       "      <td>https://ai-studio-new.s3-ap-south-1.amazonaws....</td>\n",
       "      <td>[]</td>\n",
       "      <td>[]</td>\n",
       "      <td>[]</td>\n",
       "    </tr>\n",
       "    <tr>\n",
       "      <th>63441aff33850aef09384fe8</th>\n",
       "      <td>[]</td>\n",
       "      <td>https://ai-studio-new.s3-ap-south-1.amazonaws....</td>\n",
       "      <td>[]</td>\n",
       "      <td>[]</td>\n",
       "      <td>[]</td>\n",
       "    </tr>\n",
       "    <tr>\n",
       "      <th>63441b0033850aef09384fe9</th>\n",
       "      <td>[]</td>\n",
       "      <td>https://ai-studio-new.s3-ap-south-1.amazonaws....</td>\n",
       "      <td>[]</td>\n",
       "      <td>[]</td>\n",
       "      <td>[]</td>\n",
       "    </tr>\n",
       "    <tr>\n",
       "      <th>63441b0233850aef09384feb</th>\n",
       "      <td>[]</td>\n",
       "      <td>https://ai-studio-new.s3-ap-south-1.amazonaws....</td>\n",
       "      <td>[]</td>\n",
       "      <td>[]</td>\n",
       "      <td>[]</td>\n",
       "    </tr>\n",
       "    <tr>\n",
       "      <th>63441b0333850aef09384fed</th>\n",
       "      <td>[]</td>\n",
       "      <td>https://ai-studio-new.s3-ap-south-1.amazonaws....</td>\n",
       "      <td>[]</td>\n",
       "      <td>[]</td>\n",
       "      <td>[]</td>\n",
       "    </tr>\n",
       "    <tr>\n",
       "      <th>63441b0433850aef09384fee</th>\n",
       "      <td>[]</td>\n",
       "      <td>https://ai-studio-new.s3-ap-south-1.amazonaws....</td>\n",
       "      <td>[]</td>\n",
       "      <td>[]</td>\n",
       "      <td>[]</td>\n",
       "    </tr>\n",
       "  </tbody>\n",
       "</table>\n",
       "</div>"
      ],
      "text/plain": [
       "                         rect  \\\n",
       "63441acf33850aef09384fb3   []   \n",
       "63441ad033850aef09384fb4   []   \n",
       "63441ad133850aef09384fb5   []   \n",
       "63441ad133850aef09384fb6   []   \n",
       "63441ad233850aef09384fb7   []   \n",
       "63441ad333850aef09384fb8   []   \n",
       "63441ad333850aef09384fb9   []   \n",
       "63441ad433850aef09384fba   []   \n",
       "63441ad533850aef09384fbb   []   \n",
       "63441ad533850aef09384fbc   []   \n",
       "63441ad733850aef09384fbd   []   \n",
       "63441ad833850aef09384fbe   []   \n",
       "63441ad933850aef09384fbf   []   \n",
       "63441ad933850aef09384fc0   []   \n",
       "63441ada33850aef09384fc1   []   \n",
       "63441adb33850aef09384fc2   []   \n",
       "63441adc33850aef09384fc3   []   \n",
       "63441add33850aef09384fc4   []   \n",
       "63441ade33850aef09384fc5   []   \n",
       "63441adf33850aef09384fc6   []   \n",
       "63441ae233850aef09384fc9   []   \n",
       "63441ae333850aef09384fca   []   \n",
       "63441ae433850aef09384fcb   []   \n",
       "63441ae633850aef09384fcc   []   \n",
       "63441ae633850aef09384fcd   []   \n",
       "63441ae733850aef09384fce   []   \n",
       "63441ae933850aef09384fcf   []   \n",
       "63441ae933850aef09384fd0   []   \n",
       "63441aeb33850aef09384fd1   []   \n",
       "63441aeb33850aef09384fd2   []   \n",
       "63441aee33850aef09384fd5   []   \n",
       "63441aef33850aef09384fd6   []   \n",
       "63441af033850aef09384fd7   []   \n",
       "63441af233850aef09384fd9   []   \n",
       "63441af333850aef09384fda   []   \n",
       "63441af433850aef09384fdb   []   \n",
       "63441af533850aef09384fdc   []   \n",
       "63441af733850aef09384fde   []   \n",
       "63441af833850aef09384fdf   []   \n",
       "63441afa33850aef09384fe1   []   \n",
       "63441afb33850aef09384fe2   []   \n",
       "63441afc33850aef09384fe4   []   \n",
       "63441afd33850aef09384fe5   []   \n",
       "63441afe33850aef09384fe6   []   \n",
       "63441aff33850aef09384fe7   []   \n",
       "63441aff33850aef09384fe8   []   \n",
       "63441b0033850aef09384fe9   []   \n",
       "63441b0233850aef09384feb   []   \n",
       "63441b0333850aef09384fed   []   \n",
       "63441b0433850aef09384fee   []   \n",
       "\n",
       "                                                                   imageUrl  \\\n",
       "63441acf33850aef09384fb3  https://ai-studio-new.s3-ap-south-1.amazonaws....   \n",
       "63441ad033850aef09384fb4  https://ai-studio-new.s3-ap-south-1.amazonaws....   \n",
       "63441ad133850aef09384fb5  https://ai-studio-new.s3-ap-south-1.amazonaws....   \n",
       "63441ad133850aef09384fb6  https://ai-studio-new.s3-ap-south-1.amazonaws....   \n",
       "63441ad233850aef09384fb7  https://ai-studio-new.s3-ap-south-1.amazonaws....   \n",
       "63441ad333850aef09384fb8  https://ai-studio-new.s3-ap-south-1.amazonaws....   \n",
       "63441ad333850aef09384fb9  https://ai-studio-new.s3-ap-south-1.amazonaws....   \n",
       "63441ad433850aef09384fba  https://ai-studio-new.s3-ap-south-1.amazonaws....   \n",
       "63441ad533850aef09384fbb  https://ai-studio-new.s3-ap-south-1.amazonaws....   \n",
       "63441ad533850aef09384fbc  https://ai-studio-new.s3-ap-south-1.amazonaws....   \n",
       "63441ad733850aef09384fbd  https://ai-studio-new.s3-ap-south-1.amazonaws....   \n",
       "63441ad833850aef09384fbe  https://ai-studio-new.s3-ap-south-1.amazonaws....   \n",
       "63441ad933850aef09384fbf  https://ai-studio-new.s3-ap-south-1.amazonaws....   \n",
       "63441ad933850aef09384fc0  https://ai-studio-new.s3-ap-south-1.amazonaws....   \n",
       "63441ada33850aef09384fc1  https://ai-studio-new.s3-ap-south-1.amazonaws....   \n",
       "63441adb33850aef09384fc2  https://ai-studio-new.s3-ap-south-1.amazonaws....   \n",
       "63441adc33850aef09384fc3  https://ai-studio-new.s3-ap-south-1.amazonaws....   \n",
       "63441add33850aef09384fc4  https://ai-studio-new.s3-ap-south-1.amazonaws....   \n",
       "63441ade33850aef09384fc5  https://ai-studio-new.s3-ap-south-1.amazonaws....   \n",
       "63441adf33850aef09384fc6  https://ai-studio-new.s3-ap-south-1.amazonaws....   \n",
       "63441ae233850aef09384fc9  https://ai-studio-new.s3-ap-south-1.amazonaws....   \n",
       "63441ae333850aef09384fca  https://ai-studio-new.s3-ap-south-1.amazonaws....   \n",
       "63441ae433850aef09384fcb  https://ai-studio-new.s3-ap-south-1.amazonaws....   \n",
       "63441ae633850aef09384fcc  https://ai-studio-new.s3-ap-south-1.amazonaws....   \n",
       "63441ae633850aef09384fcd  https://ai-studio-new.s3-ap-south-1.amazonaws....   \n",
       "63441ae733850aef09384fce  https://ai-studio-new.s3-ap-south-1.amazonaws....   \n",
       "63441ae933850aef09384fcf  https://ai-studio-new.s3-ap-south-1.amazonaws....   \n",
       "63441ae933850aef09384fd0  https://ai-studio-new.s3-ap-south-1.amazonaws....   \n",
       "63441aeb33850aef09384fd1  https://ai-studio-new.s3-ap-south-1.amazonaws....   \n",
       "63441aeb33850aef09384fd2  https://ai-studio-new.s3-ap-south-1.amazonaws....   \n",
       "63441aee33850aef09384fd5  https://ai-studio-new.s3-ap-south-1.amazonaws....   \n",
       "63441aef33850aef09384fd6  https://ai-studio-new.s3-ap-south-1.amazonaws....   \n",
       "63441af033850aef09384fd7  https://ai-studio-new.s3-ap-south-1.amazonaws....   \n",
       "63441af233850aef09384fd9  https://ai-studio-new.s3-ap-south-1.amazonaws....   \n",
       "63441af333850aef09384fda  https://ai-studio-new.s3-ap-south-1.amazonaws....   \n",
       "63441af433850aef09384fdb  https://ai-studio-new.s3-ap-south-1.amazonaws....   \n",
       "63441af533850aef09384fdc  https://ai-studio-new.s3-ap-south-1.amazonaws....   \n",
       "63441af733850aef09384fde  https://ai-studio-new.s3-ap-south-1.amazonaws....   \n",
       "63441af833850aef09384fdf  https://ai-studio-new.s3-ap-south-1.amazonaws....   \n",
       "63441afa33850aef09384fe1  https://ai-studio-new.s3-ap-south-1.amazonaws....   \n",
       "63441afb33850aef09384fe2  https://ai-studio-new.s3-ap-south-1.amazonaws....   \n",
       "63441afc33850aef09384fe4  https://ai-studio-new.s3-ap-south-1.amazonaws....   \n",
       "63441afd33850aef09384fe5  https://ai-studio-new.s3-ap-south-1.amazonaws....   \n",
       "63441afe33850aef09384fe6  https://ai-studio-new.s3-ap-south-1.amazonaws....   \n",
       "63441aff33850aef09384fe7  https://ai-studio-new.s3-ap-south-1.amazonaws....   \n",
       "63441aff33850aef09384fe8  https://ai-studio-new.s3-ap-south-1.amazonaws....   \n",
       "63441b0033850aef09384fe9  https://ai-studio-new.s3-ap-south-1.amazonaws....   \n",
       "63441b0233850aef09384feb  https://ai-studio-new.s3-ap-south-1.amazonaws....   \n",
       "63441b0333850aef09384fed  https://ai-studio-new.s3-ap-south-1.amazonaws....   \n",
       "63441b0433850aef09384fee  https://ai-studio-new.s3-ap-south-1.amazonaws....   \n",
       "\n",
       "                         point line polygon  \n",
       "63441acf33850aef09384fb3    []   []      []  \n",
       "63441ad033850aef09384fb4    []   []      []  \n",
       "63441ad133850aef09384fb5    []   []      []  \n",
       "63441ad133850aef09384fb6    []   []      []  \n",
       "63441ad233850aef09384fb7    []   []      []  \n",
       "63441ad333850aef09384fb8    []   []      []  \n",
       "63441ad333850aef09384fb9    []   []      []  \n",
       "63441ad433850aef09384fba    []   []      []  \n",
       "63441ad533850aef09384fbb    []   []      []  \n",
       "63441ad533850aef09384fbc    []   []      []  \n",
       "63441ad733850aef09384fbd    []   []      []  \n",
       "63441ad833850aef09384fbe    []   []      []  \n",
       "63441ad933850aef09384fbf    []   []      []  \n",
       "63441ad933850aef09384fc0    []   []      []  \n",
       "63441ada33850aef09384fc1    []   []      []  \n",
       "63441adb33850aef09384fc2    []   []      []  \n",
       "63441adc33850aef09384fc3    []   []      []  \n",
       "63441add33850aef09384fc4    []   []      []  \n",
       "63441ade33850aef09384fc5    []   []      []  \n",
       "63441adf33850aef09384fc6    []   []      []  \n",
       "63441ae233850aef09384fc9    []   []      []  \n",
       "63441ae333850aef09384fca    []   []      []  \n",
       "63441ae433850aef09384fcb    []   []      []  \n",
       "63441ae633850aef09384fcc    []   []      []  \n",
       "63441ae633850aef09384fcd    []   []      []  \n",
       "63441ae733850aef09384fce    []   []      []  \n",
       "63441ae933850aef09384fcf    []   []      []  \n",
       "63441ae933850aef09384fd0    []   []      []  \n",
       "63441aeb33850aef09384fd1    []   []      []  \n",
       "63441aeb33850aef09384fd2    []   []      []  \n",
       "63441aee33850aef09384fd5    []   []      []  \n",
       "63441aef33850aef09384fd6    []   []      []  \n",
       "63441af033850aef09384fd7    []   []      []  \n",
       "63441af233850aef09384fd9    []   []      []  \n",
       "63441af333850aef09384fda    []   []      []  \n",
       "63441af433850aef09384fdb    []   []      []  \n",
       "63441af533850aef09384fdc    []   []      []  \n",
       "63441af733850aef09384fde    []   []      []  \n",
       "63441af833850aef09384fdf    []   []      []  \n",
       "63441afa33850aef09384fe1    []   []      []  \n",
       "63441afb33850aef09384fe2    []   []      []  \n",
       "63441afc33850aef09384fe4    []   []      []  \n",
       "63441afd33850aef09384fe5    []   []      []  \n",
       "63441afe33850aef09384fe6    []   []      []  \n",
       "63441aff33850aef09384fe7    []   []      []  \n",
       "63441aff33850aef09384fe8    []   []      []  \n",
       "63441b0033850aef09384fe9    []   []      []  \n",
       "63441b0233850aef09384feb    []   []      []  \n",
       "63441b0333850aef09384fed    []   []      []  \n",
       "63441b0433850aef09384fee    []   []      []  "
      ]
     },
     "execution_count": 19,
     "metadata": {},
     "output_type": "execute_result"
    }
   ],
   "source": [
    "upg=json.transpose()\n",
    "upg"
   ]
  },
  {
   "cell_type": "code",
   "execution_count": 32,
   "id": "bf1ac61a",
   "metadata": {},
   "outputs": [],
   "source": [
    "up2=upg['imageUrl']\n",
    "# up2"
   ]
  },
  {
   "cell_type": "code",
   "execution_count": 34,
   "id": "decd0744",
   "metadata": {},
   "outputs": [
    {
     "data": {
      "text/plain": [
       "['images']"
      ]
     },
     "execution_count": 34,
     "metadata": {},
     "output_type": "execute_result"
    }
   ],
   "source": [
    "hau=up2.columns=[\"images\"]\n",
    "hau"
   ]
  },
  {
   "cell_type": "code",
   "execution_count": 27,
   "id": "85986641",
   "metadata": {},
   "outputs": [],
   "source": [
    "viii=up2.to_csv('file2.csv', header=False, index=False)\n",
    "viii"
   ]
  },
  {
   "cell_type": "code",
   "execution_count": 28,
   "id": "3af7967d",
   "metadata": {
    "scrolled": true
   },
   "outputs": [
    {
     "data": {
      "text/html": [
       "<div>\n",
       "<style scoped>\n",
       "    .dataframe tbody tr th:only-of-type {\n",
       "        vertical-align: middle;\n",
       "    }\n",
       "\n",
       "    .dataframe tbody tr th {\n",
       "        vertical-align: top;\n",
       "    }\n",
       "\n",
       "    .dataframe thead th {\n",
       "        text-align: right;\n",
       "    }\n",
       "</style>\n",
       "<table border=\"1\" class=\"dataframe\">\n",
       "  <thead>\n",
       "    <tr style=\"text-align: right;\">\n",
       "      <th></th>\n",
       "      <th>https://ai-studio-new.s3-ap-south-1.amazonaws.com/ai-studio/63440f1833850aef093847bc/data/dc03427-4fa5-364-0a22-f1c3d0f5c46png.png</th>\n",
       "    </tr>\n",
       "  </thead>\n",
       "  <tbody>\n",
       "    <tr>\n",
       "      <th>0</th>\n",
       "      <td>https://ai-studio-new.s3-ap-south-1.amazonaws....</td>\n",
       "    </tr>\n",
       "    <tr>\n",
       "      <th>1</th>\n",
       "      <td>https://ai-studio-new.s3-ap-south-1.amazonaws....</td>\n",
       "    </tr>\n",
       "    <tr>\n",
       "      <th>2</th>\n",
       "      <td>https://ai-studio-new.s3-ap-south-1.amazonaws....</td>\n",
       "    </tr>\n",
       "    <tr>\n",
       "      <th>3</th>\n",
       "      <td>https://ai-studio-new.s3-ap-south-1.amazonaws....</td>\n",
       "    </tr>\n",
       "    <tr>\n",
       "      <th>4</th>\n",
       "      <td>https://ai-studio-new.s3-ap-south-1.amazonaws....</td>\n",
       "    </tr>\n",
       "    <tr>\n",
       "      <th>5</th>\n",
       "      <td>https://ai-studio-new.s3-ap-south-1.amazonaws....</td>\n",
       "    </tr>\n",
       "    <tr>\n",
       "      <th>6</th>\n",
       "      <td>https://ai-studio-new.s3-ap-south-1.amazonaws....</td>\n",
       "    </tr>\n",
       "    <tr>\n",
       "      <th>7</th>\n",
       "      <td>https://ai-studio-new.s3-ap-south-1.amazonaws....</td>\n",
       "    </tr>\n",
       "    <tr>\n",
       "      <th>8</th>\n",
       "      <td>https://ai-studio-new.s3-ap-south-1.amazonaws....</td>\n",
       "    </tr>\n",
       "    <tr>\n",
       "      <th>9</th>\n",
       "      <td>https://ai-studio-new.s3-ap-south-1.amazonaws....</td>\n",
       "    </tr>\n",
       "    <tr>\n",
       "      <th>10</th>\n",
       "      <td>https://ai-studio-new.s3-ap-south-1.amazonaws....</td>\n",
       "    </tr>\n",
       "    <tr>\n",
       "      <th>11</th>\n",
       "      <td>https://ai-studio-new.s3-ap-south-1.amazonaws....</td>\n",
       "    </tr>\n",
       "    <tr>\n",
       "      <th>12</th>\n",
       "      <td>https://ai-studio-new.s3-ap-south-1.amazonaws....</td>\n",
       "    </tr>\n",
       "    <tr>\n",
       "      <th>13</th>\n",
       "      <td>https://ai-studio-new.s3-ap-south-1.amazonaws....</td>\n",
       "    </tr>\n",
       "    <tr>\n",
       "      <th>14</th>\n",
       "      <td>https://ai-studio-new.s3-ap-south-1.amazonaws....</td>\n",
       "    </tr>\n",
       "    <tr>\n",
       "      <th>15</th>\n",
       "      <td>https://ai-studio-new.s3-ap-south-1.amazonaws....</td>\n",
       "    </tr>\n",
       "    <tr>\n",
       "      <th>16</th>\n",
       "      <td>https://ai-studio-new.s3-ap-south-1.amazonaws....</td>\n",
       "    </tr>\n",
       "    <tr>\n",
       "      <th>17</th>\n",
       "      <td>https://ai-studio-new.s3-ap-south-1.amazonaws....</td>\n",
       "    </tr>\n",
       "    <tr>\n",
       "      <th>18</th>\n",
       "      <td>https://ai-studio-new.s3-ap-south-1.amazonaws....</td>\n",
       "    </tr>\n",
       "    <tr>\n",
       "      <th>19</th>\n",
       "      <td>https://ai-studio-new.s3-ap-south-1.amazonaws....</td>\n",
       "    </tr>\n",
       "    <tr>\n",
       "      <th>20</th>\n",
       "      <td>https://ai-studio-new.s3-ap-south-1.amazonaws....</td>\n",
       "    </tr>\n",
       "    <tr>\n",
       "      <th>21</th>\n",
       "      <td>https://ai-studio-new.s3-ap-south-1.amazonaws....</td>\n",
       "    </tr>\n",
       "    <tr>\n",
       "      <th>22</th>\n",
       "      <td>https://ai-studio-new.s3-ap-south-1.amazonaws....</td>\n",
       "    </tr>\n",
       "    <tr>\n",
       "      <th>23</th>\n",
       "      <td>https://ai-studio-new.s3-ap-south-1.amazonaws....</td>\n",
       "    </tr>\n",
       "    <tr>\n",
       "      <th>24</th>\n",
       "      <td>https://ai-studio-new.s3-ap-south-1.amazonaws....</td>\n",
       "    </tr>\n",
       "    <tr>\n",
       "      <th>25</th>\n",
       "      <td>https://ai-studio-new.s3-ap-south-1.amazonaws....</td>\n",
       "    </tr>\n",
       "    <tr>\n",
       "      <th>26</th>\n",
       "      <td>https://ai-studio-new.s3-ap-south-1.amazonaws....</td>\n",
       "    </tr>\n",
       "    <tr>\n",
       "      <th>27</th>\n",
       "      <td>https://ai-studio-new.s3-ap-south-1.amazonaws....</td>\n",
       "    </tr>\n",
       "    <tr>\n",
       "      <th>28</th>\n",
       "      <td>https://ai-studio-new.s3-ap-south-1.amazonaws....</td>\n",
       "    </tr>\n",
       "    <tr>\n",
       "      <th>29</th>\n",
       "      <td>https://ai-studio-new.s3-ap-south-1.amazonaws....</td>\n",
       "    </tr>\n",
       "    <tr>\n",
       "      <th>30</th>\n",
       "      <td>https://ai-studio-new.s3-ap-south-1.amazonaws....</td>\n",
       "    </tr>\n",
       "    <tr>\n",
       "      <th>31</th>\n",
       "      <td>https://ai-studio-new.s3-ap-south-1.amazonaws....</td>\n",
       "    </tr>\n",
       "    <tr>\n",
       "      <th>32</th>\n",
       "      <td>https://ai-studio-new.s3-ap-south-1.amazonaws....</td>\n",
       "    </tr>\n",
       "    <tr>\n",
       "      <th>33</th>\n",
       "      <td>https://ai-studio-new.s3-ap-south-1.amazonaws....</td>\n",
       "    </tr>\n",
       "    <tr>\n",
       "      <th>34</th>\n",
       "      <td>https://ai-studio-new.s3-ap-south-1.amazonaws....</td>\n",
       "    </tr>\n",
       "    <tr>\n",
       "      <th>35</th>\n",
       "      <td>https://ai-studio-new.s3-ap-south-1.amazonaws....</td>\n",
       "    </tr>\n",
       "    <tr>\n",
       "      <th>36</th>\n",
       "      <td>https://ai-studio-new.s3-ap-south-1.amazonaws....</td>\n",
       "    </tr>\n",
       "    <tr>\n",
       "      <th>37</th>\n",
       "      <td>https://ai-studio-new.s3-ap-south-1.amazonaws....</td>\n",
       "    </tr>\n",
       "    <tr>\n",
       "      <th>38</th>\n",
       "      <td>https://ai-studio-new.s3-ap-south-1.amazonaws....</td>\n",
       "    </tr>\n",
       "    <tr>\n",
       "      <th>39</th>\n",
       "      <td>https://ai-studio-new.s3-ap-south-1.amazonaws....</td>\n",
       "    </tr>\n",
       "    <tr>\n",
       "      <th>40</th>\n",
       "      <td>https://ai-studio-new.s3-ap-south-1.amazonaws....</td>\n",
       "    </tr>\n",
       "    <tr>\n",
       "      <th>41</th>\n",
       "      <td>https://ai-studio-new.s3-ap-south-1.amazonaws....</td>\n",
       "    </tr>\n",
       "    <tr>\n",
       "      <th>42</th>\n",
       "      <td>https://ai-studio-new.s3-ap-south-1.amazonaws....</td>\n",
       "    </tr>\n",
       "    <tr>\n",
       "      <th>43</th>\n",
       "      <td>https://ai-studio-new.s3-ap-south-1.amazonaws....</td>\n",
       "    </tr>\n",
       "    <tr>\n",
       "      <th>44</th>\n",
       "      <td>https://ai-studio-new.s3-ap-south-1.amazonaws....</td>\n",
       "    </tr>\n",
       "    <tr>\n",
       "      <th>45</th>\n",
       "      <td>https://ai-studio-new.s3-ap-south-1.amazonaws....</td>\n",
       "    </tr>\n",
       "    <tr>\n",
       "      <th>46</th>\n",
       "      <td>https://ai-studio-new.s3-ap-south-1.amazonaws....</td>\n",
       "    </tr>\n",
       "    <tr>\n",
       "      <th>47</th>\n",
       "      <td>https://ai-studio-new.s3-ap-south-1.amazonaws....</td>\n",
       "    </tr>\n",
       "    <tr>\n",
       "      <th>48</th>\n",
       "      <td>https://ai-studio-new.s3-ap-south-1.amazonaws....</td>\n",
       "    </tr>\n",
       "  </tbody>\n",
       "</table>\n",
       "</div>"
      ],
      "text/plain": [
       "   https://ai-studio-new.s3-ap-south-1.amazonaws.com/ai-studio/63440f1833850aef093847bc/data/dc03427-4fa5-364-0a22-f1c3d0f5c46png.png\n",
       "0   https://ai-studio-new.s3-ap-south-1.amazonaws....                                                                                \n",
       "1   https://ai-studio-new.s3-ap-south-1.amazonaws....                                                                                \n",
       "2   https://ai-studio-new.s3-ap-south-1.amazonaws....                                                                                \n",
       "3   https://ai-studio-new.s3-ap-south-1.amazonaws....                                                                                \n",
       "4   https://ai-studio-new.s3-ap-south-1.amazonaws....                                                                                \n",
       "5   https://ai-studio-new.s3-ap-south-1.amazonaws....                                                                                \n",
       "6   https://ai-studio-new.s3-ap-south-1.amazonaws....                                                                                \n",
       "7   https://ai-studio-new.s3-ap-south-1.amazonaws....                                                                                \n",
       "8   https://ai-studio-new.s3-ap-south-1.amazonaws....                                                                                \n",
       "9   https://ai-studio-new.s3-ap-south-1.amazonaws....                                                                                \n",
       "10  https://ai-studio-new.s3-ap-south-1.amazonaws....                                                                                \n",
       "11  https://ai-studio-new.s3-ap-south-1.amazonaws....                                                                                \n",
       "12  https://ai-studio-new.s3-ap-south-1.amazonaws....                                                                                \n",
       "13  https://ai-studio-new.s3-ap-south-1.amazonaws....                                                                                \n",
       "14  https://ai-studio-new.s3-ap-south-1.amazonaws....                                                                                \n",
       "15  https://ai-studio-new.s3-ap-south-1.amazonaws....                                                                                \n",
       "16  https://ai-studio-new.s3-ap-south-1.amazonaws....                                                                                \n",
       "17  https://ai-studio-new.s3-ap-south-1.amazonaws....                                                                                \n",
       "18  https://ai-studio-new.s3-ap-south-1.amazonaws....                                                                                \n",
       "19  https://ai-studio-new.s3-ap-south-1.amazonaws....                                                                                \n",
       "20  https://ai-studio-new.s3-ap-south-1.amazonaws....                                                                                \n",
       "21  https://ai-studio-new.s3-ap-south-1.amazonaws....                                                                                \n",
       "22  https://ai-studio-new.s3-ap-south-1.amazonaws....                                                                                \n",
       "23  https://ai-studio-new.s3-ap-south-1.amazonaws....                                                                                \n",
       "24  https://ai-studio-new.s3-ap-south-1.amazonaws....                                                                                \n",
       "25  https://ai-studio-new.s3-ap-south-1.amazonaws....                                                                                \n",
       "26  https://ai-studio-new.s3-ap-south-1.amazonaws....                                                                                \n",
       "27  https://ai-studio-new.s3-ap-south-1.amazonaws....                                                                                \n",
       "28  https://ai-studio-new.s3-ap-south-1.amazonaws....                                                                                \n",
       "29  https://ai-studio-new.s3-ap-south-1.amazonaws....                                                                                \n",
       "30  https://ai-studio-new.s3-ap-south-1.amazonaws....                                                                                \n",
       "31  https://ai-studio-new.s3-ap-south-1.amazonaws....                                                                                \n",
       "32  https://ai-studio-new.s3-ap-south-1.amazonaws....                                                                                \n",
       "33  https://ai-studio-new.s3-ap-south-1.amazonaws....                                                                                \n",
       "34  https://ai-studio-new.s3-ap-south-1.amazonaws....                                                                                \n",
       "35  https://ai-studio-new.s3-ap-south-1.amazonaws....                                                                                \n",
       "36  https://ai-studio-new.s3-ap-south-1.amazonaws....                                                                                \n",
       "37  https://ai-studio-new.s3-ap-south-1.amazonaws....                                                                                \n",
       "38  https://ai-studio-new.s3-ap-south-1.amazonaws....                                                                                \n",
       "39  https://ai-studio-new.s3-ap-south-1.amazonaws....                                                                                \n",
       "40  https://ai-studio-new.s3-ap-south-1.amazonaws....                                                                                \n",
       "41  https://ai-studio-new.s3-ap-south-1.amazonaws....                                                                                \n",
       "42  https://ai-studio-new.s3-ap-south-1.amazonaws....                                                                                \n",
       "43  https://ai-studio-new.s3-ap-south-1.amazonaws....                                                                                \n",
       "44  https://ai-studio-new.s3-ap-south-1.amazonaws....                                                                                \n",
       "45  https://ai-studio-new.s3-ap-south-1.amazonaws....                                                                                \n",
       "46  https://ai-studio-new.s3-ap-south-1.amazonaws....                                                                                \n",
       "47  https://ai-studio-new.s3-ap-south-1.amazonaws....                                                                                \n",
       "48  https://ai-studio-new.s3-ap-south-1.amazonaws....                                                                                "
      ]
     },
     "execution_count": 28,
     "metadata": {},
     "output_type": "execute_result"
    }
   ],
   "source": [
    "pd.read_csv(\"file2.csv\")"
   ]
  },
  {
   "cell_type": "code",
   "execution_count": 4,
   "id": "ac2f3878",
   "metadata": {},
   "outputs": [
    {
     "data": {
      "text/html": [
       "<div>\n",
       "<style scoped>\n",
       "    .dataframe tbody tr th:only-of-type {\n",
       "        vertical-align: middle;\n",
       "    }\n",
       "\n",
       "    .dataframe tbody tr th {\n",
       "        vertical-align: top;\n",
       "    }\n",
       "\n",
       "    .dataframe thead th {\n",
       "        text-align: right;\n",
       "    }\n",
       "</style>\n",
       "<table border=\"1\" class=\"dataframe\">\n",
       "  <thead>\n",
       "    <tr style=\"text-align: right;\">\n",
       "      <th></th>\n",
       "      <th>name</th>\n",
       "      <th>Branch</th>\n",
       "      <th>Score</th>\n",
       "      <th>Result</th>\n",
       "    </tr>\n",
       "  </thead>\n",
       "  <tbody>\n",
       "    <tr>\n",
       "      <th>0</th>\n",
       "      <td>Akash</td>\n",
       "      <td>B.Tech</td>\n",
       "      <td>80</td>\n",
       "      <td>Pass</td>\n",
       "    </tr>\n",
       "    <tr>\n",
       "      <th>1</th>\n",
       "      <td>Geeku</td>\n",
       "      <td>MBA</td>\n",
       "      <td>90</td>\n",
       "      <td>Pass</td>\n",
       "    </tr>\n",
       "    <tr>\n",
       "      <th>2</th>\n",
       "      <td>Pankaj</td>\n",
       "      <td>BCA</td>\n",
       "      <td>60</td>\n",
       "      <td>Pass</td>\n",
       "    </tr>\n",
       "    <tr>\n",
       "      <th>3</th>\n",
       "      <td>Sumitra</td>\n",
       "      <td>B.Tech</td>\n",
       "      <td>30</td>\n",
       "      <td>Fail</td>\n",
       "    </tr>\n",
       "    <tr>\n",
       "      <th>4</th>\n",
       "      <td>Ramlal</td>\n",
       "      <td>BCA</td>\n",
       "      <td>50</td>\n",
       "      <td>Fail</td>\n",
       "    </tr>\n",
       "  </tbody>\n",
       "</table>\n",
       "</div>"
      ],
      "text/plain": [
       "      name  Branch Score Result\n",
       "0    Akash  B.Tech    80   Pass\n",
       "1    Geeku     MBA    90   Pass\n",
       "2   Pankaj     BCA    60   Pass\n",
       "3  Sumitra  B.Tech    30   Fail\n",
       "4   Ramlal     BCA    50   Fail"
      ]
     },
     "execution_count": 4,
     "metadata": {},
     "output_type": "execute_result"
    }
   ],
   "source": [
    "# importing pandas as pd\n",
    "import pandas as pd\n",
    "\n",
    "# Creating a dict of lists\n",
    "data = {'name':[\"Akash\", \"Geeku\", \"Pankaj\", \"Sumitra\", \"Ramlal\"],\n",
    "    'Branch':[\"B.Tech\", \"MBA\", \"BCA\", \"B.Tech\", \"BCA\"],\n",
    "    'Score':[\"80\", \"90\", \"60\", \"30\", \"50\"],\n",
    "    'Result': [\"Pass\", \"Pass\", \"Pass\", \"Fail\", \"Fail\"]}\n",
    "\n",
    "df = pd.DataFrame(data)\n",
    "df"
   ]
  },
  {
   "cell_type": "code",
   "execution_count": 6,
   "id": "d2e7fe3e",
   "metadata": {},
   "outputs": [
    {
     "data": {
      "text/html": [
       "<div>\n",
       "<style scoped>\n",
       "    .dataframe tbody tr th:only-of-type {\n",
       "        vertical-align: middle;\n",
       "    }\n",
       "\n",
       "    .dataframe tbody tr th {\n",
       "        vertical-align: top;\n",
       "    }\n",
       "\n",
       "    .dataframe thead tr th {\n",
       "        text-align: left;\n",
       "    }\n",
       "\n",
       "    .dataframe thead tr:last-of-type th {\n",
       "        text-align: right;\n",
       "    }\n",
       "</style>\n",
       "<table border=\"1\" class=\"dataframe\">\n",
       "  <thead>\n",
       "    <tr>\n",
       "      <th></th>\n",
       "      <th colspan=\"5\" halign=\"left\">Branch</th>\n",
       "      <th colspan=\"5\" halign=\"left\">Score</th>\n",
       "    </tr>\n",
       "    <tr>\n",
       "      <th>name</th>\n",
       "      <th>Akash</th>\n",
       "      <th>Geeku</th>\n",
       "      <th>Pankaj</th>\n",
       "      <th>Ramlal</th>\n",
       "      <th>Sumitra</th>\n",
       "      <th>Akash</th>\n",
       "      <th>Geeku</th>\n",
       "      <th>Pankaj</th>\n",
       "      <th>Ramlal</th>\n",
       "      <th>Sumitra</th>\n",
       "    </tr>\n",
       "    <tr>\n",
       "      <th>Result</th>\n",
       "      <th></th>\n",
       "      <th></th>\n",
       "      <th></th>\n",
       "      <th></th>\n",
       "      <th></th>\n",
       "      <th></th>\n",
       "      <th></th>\n",
       "      <th></th>\n",
       "      <th></th>\n",
       "      <th></th>\n",
       "    </tr>\n",
       "  </thead>\n",
       "  <tbody>\n",
       "    <tr>\n",
       "      <th>Fail</th>\n",
       "      <td>NaN</td>\n",
       "      <td>NaN</td>\n",
       "      <td>NaN</td>\n",
       "      <td>BCA</td>\n",
       "      <td>B.Tech</td>\n",
       "      <td>NaN</td>\n",
       "      <td>NaN</td>\n",
       "      <td>NaN</td>\n",
       "      <td>50</td>\n",
       "      <td>30</td>\n",
       "    </tr>\n",
       "    <tr>\n",
       "      <th>Pass</th>\n",
       "      <td>B.Tech</td>\n",
       "      <td>MBA</td>\n",
       "      <td>BCA</td>\n",
       "      <td>NaN</td>\n",
       "      <td>NaN</td>\n",
       "      <td>80</td>\n",
       "      <td>90</td>\n",
       "      <td>60</td>\n",
       "      <td>NaN</td>\n",
       "      <td>NaN</td>\n",
       "    </tr>\n",
       "  </tbody>\n",
       "</table>\n",
       "</div>"
      ],
      "text/plain": [
       "        Branch                             Score                            \n",
       "name     Akash Geeku Pankaj Ramlal Sumitra Akash Geeku Pankaj Ramlal Sumitra\n",
       "Result                                                                      \n",
       "Fail       NaN   NaN    NaN    BCA  B.Tech   NaN   NaN    NaN     50      30\n",
       "Pass    B.Tech   MBA    BCA    NaN     NaN    80    90     60    NaN     NaN"
      ]
     },
     "execution_count": 6,
     "metadata": {},
     "output_type": "execute_result"
    }
   ],
   "source": [
    "# pivoting the dataframe\n",
    "df.pivot(index ='Result', columns ='name')\n"
   ]
  },
  {
   "cell_type": "code",
   "execution_count": null,
   "id": "41326657",
   "metadata": {},
   "outputs": [],
   "source": []
  }
 ],
 "metadata": {
  "kernelspec": {
   "display_name": "Python 3 (ipykernel)",
   "language": "python",
   "name": "python3"
  },
  "language_info": {
   "codemirror_mode": {
    "name": "ipython",
    "version": 3
   },
   "file_extension": ".py",
   "mimetype": "text/x-python",
   "name": "python",
   "nbconvert_exporter": "python",
   "pygments_lexer": "ipython3",
   "version": "3.8.10"
  }
 },
 "nbformat": 4,
 "nbformat_minor": 5
}
