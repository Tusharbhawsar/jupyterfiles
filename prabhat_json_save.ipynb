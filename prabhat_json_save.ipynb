{
 "cells": [
  {
   "cell_type": "code",
   "execution_count": 1,
   "id": "7974dc88",
   "metadata": {},
   "outputs": [
    {
     "name": "stdout",
     "output_type": "stream",
     "text": [
      "Defaulting to user installation because normal site-packages is not writeable\n",
      "Requirement already satisfied: fastai in /home/link-lap-24/.local/lib/python3.8/site-packages (2.7.10)\n",
      "Requirement already satisfied: pillow>6.0.0 in /home/link-lap-24/.local/lib/python3.8/site-packages (from fastai) (9.1.0)\n",
      "Requirement already satisfied: pip in /usr/local/lib/python3.8/dist-packages (from fastai) (22.0.4)\n",
      "Requirement already satisfied: spacy<4 in /home/link-lap-24/.local/lib/python3.8/site-packages (from fastai) (3.3.0)\n",
      "Requirement already satisfied: fastdownload<2,>=0.0.5 in /home/link-lap-24/.local/lib/python3.8/site-packages (from fastai) (0.0.5)\n",
      "Requirement already satisfied: packaging in /home/link-lap-24/.local/lib/python3.8/site-packages (from fastai) (21.3)\n",
      "Requirement already satisfied: torchvision>=0.8.2 in /home/link-lap-24/.local/lib/python3.8/site-packages (from fastai) (0.10.0+cu111)\n",
      "Requirement already satisfied: fastcore<1.6,>=1.4.5 in /home/link-lap-24/.local/lib/python3.8/site-packages (from fastai) (1.5.27)\n",
      "Requirement already satisfied: requests in /home/link-lap-24/.local/lib/python3.8/site-packages (from fastai) (2.28.1)\n",
      "Requirement already satisfied: fastprogress>=0.2.4 in /home/link-lap-24/.local/lib/python3.8/site-packages (from fastai) (1.0.2)\n",
      "Requirement already satisfied: scipy in /home/link-lap-24/.local/lib/python3.8/site-packages (from fastai) (1.8.0)\n",
      "Requirement already satisfied: torch<1.14,>=1.7 in /home/link-lap-24/.local/lib/python3.8/site-packages (from fastai) (1.9.0+cu111)\n",
      "Requirement already satisfied: matplotlib in /home/link-lap-24/.local/lib/python3.8/site-packages (from fastai) (3.5.1)\n",
      "Requirement already satisfied: pyyaml in /usr/lib/python3/dist-packages (from fastai) (5.3.1)\n",
      "Requirement already satisfied: scikit-learn in /home/link-lap-24/.local/lib/python3.8/site-packages (from fastai) (1.0.2)\n",
      "Requirement already satisfied: pandas in /home/link-lap-24/.local/lib/python3.8/site-packages (from fastai) (1.4.2)\n",
      "Requirement already satisfied: wasabi<1.1.0,>=0.9.1 in /home/link-lap-24/.local/lib/python3.8/site-packages (from spacy<4->fastai) (0.9.1)\n",
      "Requirement already satisfied: preshed<3.1.0,>=3.0.2 in /home/link-lap-24/.local/lib/python3.8/site-packages (from spacy<4->fastai) (3.0.6)\n",
      "Requirement already satisfied: setuptools in /usr/lib/python3/dist-packages (from spacy<4->fastai) (45.2.0)\n",
      "Requirement already satisfied: numpy>=1.15.0 in /home/link-lap-24/.local/lib/python3.8/site-packages (from spacy<4->fastai) (1.20.3)\n",
      "Requirement already satisfied: spacy-legacy<3.1.0,>=3.0.9 in /home/link-lap-24/.local/lib/python3.8/site-packages (from spacy<4->fastai) (3.0.9)\n",
      "Requirement already satisfied: cymem<2.1.0,>=2.0.2 in /home/link-lap-24/.local/lib/python3.8/site-packages (from spacy<4->fastai) (2.0.6)\n",
      "Requirement already satisfied: typer<0.5.0,>=0.3.0 in /home/link-lap-24/.local/lib/python3.8/site-packages (from spacy<4->fastai) (0.4.1)\n",
      "Requirement already satisfied: spacy-loggers<2.0.0,>=1.0.0 in /home/link-lap-24/.local/lib/python3.8/site-packages (from spacy<4->fastai) (1.0.2)\n",
      "Requirement already satisfied: tqdm<5.0.0,>=4.38.0 in /home/link-lap-24/.local/lib/python3.8/site-packages (from spacy<4->fastai) (4.64.0)\n",
      "Requirement already satisfied: catalogue<2.1.0,>=2.0.6 in /home/link-lap-24/.local/lib/python3.8/site-packages (from spacy<4->fastai) (2.0.7)\n",
      "Requirement already satisfied: thinc<8.1.0,>=8.0.14 in /home/link-lap-24/.local/lib/python3.8/site-packages (from spacy<4->fastai) (8.0.15)\n",
      "Requirement already satisfied: srsly<3.0.0,>=2.4.3 in /home/link-lap-24/.local/lib/python3.8/site-packages (from spacy<4->fastai) (2.4.3)\n",
      "Requirement already satisfied: langcodes<4.0.0,>=3.2.0 in /home/link-lap-24/.local/lib/python3.8/site-packages (from spacy<4->fastai) (3.3.0)\n",
      "Requirement already satisfied: blis<0.8.0,>=0.4.0 in /home/link-lap-24/.local/lib/python3.8/site-packages (from spacy<4->fastai) (0.7.7)\n",
      "Requirement already satisfied: pathy>=0.3.5 in /home/link-lap-24/.local/lib/python3.8/site-packages (from spacy<4->fastai) (0.6.1)\n",
      "Requirement already satisfied: pydantic!=1.8,!=1.8.1,<1.9.0,>=1.7.4 in /home/link-lap-24/.local/lib/python3.8/site-packages (from spacy<4->fastai) (1.8.2)\n",
      "Requirement already satisfied: murmurhash<1.1.0,>=0.28.0 in /home/link-lap-24/.local/lib/python3.8/site-packages (from spacy<4->fastai) (1.0.7)\n",
      "Requirement already satisfied: jinja2 in /home/link-lap-24/.local/lib/python3.8/site-packages (from spacy<4->fastai) (3.1.1)\n",
      "Requirement already satisfied: pyparsing!=3.0.5,>=2.0.2 in /home/link-lap-24/.local/lib/python3.8/site-packages (from packaging->fastai) (3.0.8)\n",
      "Requirement already satisfied: urllib3<1.27,>=1.21.1 in /home/link-lap-24/.local/lib/python3.8/site-packages (from requests->fastai) (1.26.12)\n",
      "Requirement already satisfied: certifi>=2017.4.17 in /usr/lib/python3/dist-packages (from requests->fastai) (2019.11.28)\n",
      "Requirement already satisfied: charset-normalizer<3,>=2 in /home/link-lap-24/.local/lib/python3.8/site-packages (from requests->fastai) (2.1.1)\n",
      "Requirement already satisfied: idna<4,>=2.5 in /usr/lib/python3/dist-packages (from requests->fastai) (2.8)\n",
      "Requirement already satisfied: typing-extensions in /home/link-lap-24/.local/lib/python3.8/site-packages (from torch<1.14,>=1.7->fastai) (4.2.0)\n",
      "Requirement already satisfied: kiwisolver>=1.0.1 in /home/link-lap-24/.local/lib/python3.8/site-packages (from matplotlib->fastai) (1.4.2)\n",
      "Requirement already satisfied: python-dateutil>=2.7 in /home/link-lap-24/.local/lib/python3.8/site-packages (from matplotlib->fastai) (2.8.2)\n",
      "Requirement already satisfied: cycler>=0.10 in /home/link-lap-24/.local/lib/python3.8/site-packages (from matplotlib->fastai) (0.11.0)\n",
      "Requirement already satisfied: fonttools>=4.22.0 in /home/link-lap-24/.local/lib/python3.8/site-packages (from matplotlib->fastai) (4.33.3)\n",
      "Requirement already satisfied: pytz>=2020.1 in /home/link-lap-24/.local/lib/python3.8/site-packages (from pandas->fastai) (2022.1)\n",
      "Requirement already satisfied: joblib>=0.11 in /home/link-lap-24/.local/lib/python3.8/site-packages (from scikit-learn->fastai) (1.1.0)\n",
      "Requirement already satisfied: threadpoolctl>=2.0.0 in /home/link-lap-24/.local/lib/python3.8/site-packages (from scikit-learn->fastai) (3.1.0)\n",
      "Requirement already satisfied: smart-open<6.0.0,>=5.0.0 in /home/link-lap-24/.local/lib/python3.8/site-packages (from pathy>=0.3.5->spacy<4->fastai) (5.2.1)\n",
      "Requirement already satisfied: six>=1.5 in /usr/lib/python3/dist-packages (from python-dateutil>=2.7->matplotlib->fastai) (1.14.0)\n",
      "Requirement already satisfied: click<9.0.0,>=7.1.1 in /home/link-lap-24/.local/lib/python3.8/site-packages (from typer<0.5.0,>=0.3.0->spacy<4->fastai) (8.1.3)\n",
      "Requirement already satisfied: MarkupSafe>=2.0 in /home/link-lap-24/.local/lib/python3.8/site-packages (from jinja2->spacy<4->fastai) (2.1.1)\n",
      "\u001b[33mWARNING: You are using pip version 22.0.4; however, version 22.3.1 is available.\n",
      "You should consider upgrading via the '/usr/bin/python3 -m pip install --upgrade pip' command.\u001b[0m\u001b[33m\n",
      "\u001b[0mDefaulting to user installation because normal site-packages is not writeable\n",
      "Looking in links: https://download.pytorch.org/whl/torch_stable.html\n",
      "Requirement already satisfied: torch==1.9.0+cu111 in /home/link-lap-24/.local/lib/python3.8/site-packages (1.9.0+cu111)\n",
      "Requirement already satisfied: torchvision==0.10.0+cu111 in /home/link-lap-24/.local/lib/python3.8/site-packages (0.10.0+cu111)\n",
      "Requirement already satisfied: torchaudio==0.9.0 in /home/link-lap-24/.local/lib/python3.8/site-packages (0.9.0)\n",
      "Requirement already satisfied: typing-extensions in /home/link-lap-24/.local/lib/python3.8/site-packages (from torch==1.9.0+cu111) (4.2.0)\n",
      "Requirement already satisfied: pillow>=5.3.0 in /home/link-lap-24/.local/lib/python3.8/site-packages (from torchvision==0.10.0+cu111) (9.1.0)\n",
      "Requirement already satisfied: numpy in /home/link-lap-24/.local/lib/python3.8/site-packages (from torchvision==0.10.0+cu111) (1.20.3)\n",
      "\u001b[33mWARNING: You are using pip version 22.0.4; however, version 22.3.1 is available.\n",
      "You should consider upgrading via the '/usr/bin/python3 -m pip install --upgrade pip' command.\u001b[0m\u001b[33m\n",
      "\u001b[0mDefaulting to user installation because normal site-packages is not writeable\n"
     ]
    },
    {
     "name": "stdout",
     "output_type": "stream",
     "text": [
      "Requirement already satisfied: timm in /home/link-lap-24/.local/lib/python3.8/site-packages (0.5.4)\n",
      "Requirement already satisfied: torch>=1.4 in /home/link-lap-24/.local/lib/python3.8/site-packages (from timm) (1.9.0+cu111)\n",
      "Requirement already satisfied: torchvision in /home/link-lap-24/.local/lib/python3.8/site-packages (from timm) (0.10.0+cu111)\n",
      "Requirement already satisfied: typing-extensions in /home/link-lap-24/.local/lib/python3.8/site-packages (from torch>=1.4->timm) (4.2.0)\n",
      "Requirement already satisfied: numpy in /home/link-lap-24/.local/lib/python3.8/site-packages (from torchvision->timm) (1.20.3)\n",
      "Requirement already satisfied: pillow>=5.3.0 in /home/link-lap-24/.local/lib/python3.8/site-packages (from torchvision->timm) (9.1.0)\n",
      "\u001b[33mWARNING: You are using pip version 22.0.4; however, version 22.3.1 is available.\n",
      "You should consider upgrading via the '/usr/bin/python3 -m pip install --upgrade pip' command.\u001b[0m\u001b[33m\n",
      "\u001b[0mDefaulting to user installation because normal site-packages is not writeable\n",
      "Requirement already satisfied: fastbook in /home/link-lap-24/.local/lib/python3.8/site-packages (0.0.28)\n",
      "Requirement already satisfied: fastai>=2.6 in /home/link-lap-24/.local/lib/python3.8/site-packages (from fastbook) (2.7.10)\n",
      "Requirement already satisfied: sentencepiece in /home/link-lap-24/.local/lib/python3.8/site-packages (from fastbook) (0.1.97)\n",
      "Requirement already satisfied: datasets in /home/link-lap-24/.local/lib/python3.8/site-packages (from fastbook) (2.6.1)\n",
      "Requirement already satisfied: pip in /usr/local/lib/python3.8/dist-packages (from fastbook) (22.0.4)\n",
      "Requirement already satisfied: requests in /home/link-lap-24/.local/lib/python3.8/site-packages (from fastbook) (2.28.1)\n",
      "Requirement already satisfied: transformers in /home/link-lap-24/.local/lib/python3.8/site-packages (from fastbook) (4.23.1)\n",
      "Requirement already satisfied: graphviz in /home/link-lap-24/.local/lib/python3.8/site-packages (from fastbook) (0.20.1)\n",
      "Requirement already satisfied: packaging in /home/link-lap-24/.local/lib/python3.8/site-packages (from fastbook) (21.3)\n",
      "Requirement already satisfied: pandas in /home/link-lap-24/.local/lib/python3.8/site-packages (from fastbook) (1.4.2)\n",
      "Requirement already satisfied: scipy in /home/link-lap-24/.local/lib/python3.8/site-packages (from fastai>=2.6->fastbook) (1.8.0)\n",
      "Requirement already satisfied: pillow>6.0.0 in /home/link-lap-24/.local/lib/python3.8/site-packages (from fastai>=2.6->fastbook) (9.1.0)\n",
      "Requirement already satisfied: scikit-learn in /home/link-lap-24/.local/lib/python3.8/site-packages (from fastai>=2.6->fastbook) (1.0.2)\n",
      "Requirement already satisfied: fastcore<1.6,>=1.4.5 in /home/link-lap-24/.local/lib/python3.8/site-packages (from fastai>=2.6->fastbook) (1.5.27)\n",
      "Requirement already satisfied: matplotlib in /home/link-lap-24/.local/lib/python3.8/site-packages (from fastai>=2.6->fastbook) (3.5.1)\n",
      "Requirement already satisfied: torchvision>=0.8.2 in /home/link-lap-24/.local/lib/python3.8/site-packages (from fastai>=2.6->fastbook) (0.10.0+cu111)\n",
      "Requirement already satisfied: pyyaml in /usr/lib/python3/dist-packages (from fastai>=2.6->fastbook) (5.3.1)\n",
      "Requirement already satisfied: fastprogress>=0.2.4 in /home/link-lap-24/.local/lib/python3.8/site-packages (from fastai>=2.6->fastbook) (1.0.2)\n",
      "Requirement already satisfied: torch<1.14,>=1.7 in /home/link-lap-24/.local/lib/python3.8/site-packages (from fastai>=2.6->fastbook) (1.9.0+cu111)\n",
      "Requirement already satisfied: spacy<4 in /home/link-lap-24/.local/lib/python3.8/site-packages (from fastai>=2.6->fastbook) (3.3.0)\n",
      "Requirement already satisfied: fastdownload<2,>=0.0.5 in /home/link-lap-24/.local/lib/python3.8/site-packages (from fastai>=2.6->fastbook) (0.0.5)\n",
      "Requirement already satisfied: huggingface-hub<1.0.0,>=0.2.0 in /home/link-lap-24/.local/lib/python3.8/site-packages (from datasets->fastbook) (0.10.1)\n",
      "Requirement already satisfied: fsspec[http]>=2021.11.1 in /home/link-lap-24/.local/lib/python3.8/site-packages (from datasets->fastbook) (2022.8.2)\n",
      "Requirement already satisfied: xxhash in /home/link-lap-24/.local/lib/python3.8/site-packages (from datasets->fastbook) (3.0.0)\n",
      "Requirement already satisfied: pyarrow>=6.0.0 in /home/link-lap-24/.local/lib/python3.8/site-packages (from datasets->fastbook) (9.0.0)\n",
      "Requirement already satisfied: dill<0.3.6 in /home/link-lap-24/.local/lib/python3.8/site-packages (from datasets->fastbook) (0.3.5.1)\n",
      "Requirement already satisfied: numpy>=1.17 in /home/link-lap-24/.local/lib/python3.8/site-packages (from datasets->fastbook) (1.20.3)\n",
      "Requirement already satisfied: tqdm>=4.62.1 in /home/link-lap-24/.local/lib/python3.8/site-packages (from datasets->fastbook) (4.64.0)\n",
      "Requirement already satisfied: aiohttp in /home/link-lap-24/.local/lib/python3.8/site-packages (from datasets->fastbook) (3.8.3)\n",
      "Requirement already satisfied: responses<0.19 in /home/link-lap-24/.local/lib/python3.8/site-packages (from datasets->fastbook) (0.18.0)\n",
      "Requirement already satisfied: multiprocess in /home/link-lap-24/.local/lib/python3.8/site-packages (from datasets->fastbook) (0.70.13)\n",
      "Requirement already satisfied: urllib3<1.27,>=1.21.1 in /home/link-lap-24/.local/lib/python3.8/site-packages (from requests->fastbook) (1.26.12)\n",
      "Requirement already satisfied: certifi>=2017.4.17 in /usr/lib/python3/dist-packages (from requests->fastbook) (2019.11.28)\n",
      "Requirement already satisfied: idna<4,>=2.5 in /usr/lib/python3/dist-packages (from requests->fastbook) (2.8)\n",
      "Requirement already satisfied: charset-normalizer<3,>=2 in /home/link-lap-24/.local/lib/python3.8/site-packages (from requests->fastbook) (2.1.1)\n",
      "Requirement already satisfied: pyparsing!=3.0.5,>=2.0.2 in /home/link-lap-24/.local/lib/python3.8/site-packages (from packaging->fastbook) (3.0.8)\n",
      "Requirement already satisfied: python-dateutil>=2.8.1 in /home/link-lap-24/.local/lib/python3.8/site-packages (from pandas->fastbook) (2.8.2)\n",
      "Requirement already satisfied: pytz>=2020.1 in /home/link-lap-24/.local/lib/python3.8/site-packages (from pandas->fastbook) (2022.1)\n",
      "Requirement already satisfied: regex!=2019.12.17 in /home/link-lap-24/.local/lib/python3.8/site-packages (from transformers->fastbook) (2022.4.24)\n",
      "Requirement already satisfied: tokenizers!=0.11.3,<0.14,>=0.11.1 in /home/link-lap-24/.local/lib/python3.8/site-packages (from transformers->fastbook) (0.13.1)\n",
      "Requirement already satisfied: filelock in /usr/local/lib/python3.8/dist-packages (from transformers->fastbook) (3.6.0)\n",
      "Requirement already satisfied: aiosignal>=1.1.2 in /home/link-lap-24/.local/lib/python3.8/site-packages (from aiohttp->datasets->fastbook) (1.2.0)\n",
      "Requirement already satisfied: attrs>=17.3.0 in /home/link-lap-24/.local/lib/python3.8/site-packages (from aiohttp->datasets->fastbook) (21.4.0)\n",
      "Requirement already satisfied: frozenlist>=1.1.1 in /home/link-lap-24/.local/lib/python3.8/site-packages (from aiohttp->datasets->fastbook) (1.3.1)\n",
      "Requirement already satisfied: yarl<2.0,>=1.0 in /home/link-lap-24/.local/lib/python3.8/site-packages (from aiohttp->datasets->fastbook) (1.8.1)\n",
      "Requirement already satisfied: multidict<7.0,>=4.5 in /home/link-lap-24/.local/lib/python3.8/site-packages (from aiohttp->datasets->fastbook) (6.0.2)\n",
      "Requirement already satisfied: async-timeout<5.0,>=4.0.0a3 in /home/link-lap-24/.local/lib/python3.8/site-packages (from aiohttp->datasets->fastbook) (4.0.2)\n",
      "Requirement already satisfied: typing-extensions>=3.7.4.3 in /home/link-lap-24/.local/lib/python3.8/site-packages (from huggingface-hub<1.0.0,>=0.2.0->datasets->fastbook) (4.2.0)\n",
      "Requirement already satisfied: six>=1.5 in /usr/lib/python3/dist-packages (from python-dateutil>=2.8.1->pandas->fastbook) (1.14.0)\n",
      "Requirement already satisfied: spacy-loggers<2.0.0,>=1.0.0 in /home/link-lap-24/.local/lib/python3.8/site-packages (from spacy<4->fastai>=2.6->fastbook) (1.0.2)\n",
      "Requirement already satisfied: blis<0.8.0,>=0.4.0 in /home/link-lap-24/.local/lib/python3.8/site-packages (from spacy<4->fastai>=2.6->fastbook) (0.7.7)\n",
      "Requirement already satisfied: jinja2 in /home/link-lap-24/.local/lib/python3.8/site-packages (from spacy<4->fastai>=2.6->fastbook) (3.1.1)\n",
      "Requirement already satisfied: typer<0.5.0,>=0.3.0 in /home/link-lap-24/.local/lib/python3.8/site-packages (from spacy<4->fastai>=2.6->fastbook) (0.4.1)\n",
      "Requirement already satisfied: murmurhash<1.1.0,>=0.28.0 in /home/link-lap-24/.local/lib/python3.8/site-packages (from spacy<4->fastai>=2.6->fastbook) (1.0.7)\n",
      "Requirement already satisfied: setuptools in /usr/lib/python3/dist-packages (from spacy<4->fastai>=2.6->fastbook) (45.2.0)\n",
      "Requirement already satisfied: catalogue<2.1.0,>=2.0.6 in /home/link-lap-24/.local/lib/python3.8/site-packages (from spacy<4->fastai>=2.6->fastbook) (2.0.7)\n",
      "Requirement already satisfied: pydantic!=1.8,!=1.8.1,<1.9.0,>=1.7.4 in /home/link-lap-24/.local/lib/python3.8/site-packages (from spacy<4->fastai>=2.6->fastbook) (1.8.2)\n",
      "Requirement already satisfied: pathy>=0.3.5 in /home/link-lap-24/.local/lib/python3.8/site-packages (from spacy<4->fastai>=2.6->fastbook) (0.6.1)\n",
      "Requirement already satisfied: srsly<3.0.0,>=2.4.3 in /home/link-lap-24/.local/lib/python3.8/site-packages (from spacy<4->fastai>=2.6->fastbook) (2.4.3)\n",
      "Requirement already satisfied: langcodes<4.0.0,>=3.2.0 in /home/link-lap-24/.local/lib/python3.8/site-packages (from spacy<4->fastai>=2.6->fastbook) (3.3.0)\n",
      "Requirement already satisfied: cymem<2.1.0,>=2.0.2 in /home/link-lap-24/.local/lib/python3.8/site-packages (from spacy<4->fastai>=2.6->fastbook) (2.0.6)\n",
      "Requirement already satisfied: spacy-legacy<3.1.0,>=3.0.9 in /home/link-lap-24/.local/lib/python3.8/site-packages (from spacy<4->fastai>=2.6->fastbook) (3.0.9)\n",
      "Requirement already satisfied: thinc<8.1.0,>=8.0.14 in /home/link-lap-24/.local/lib/python3.8/site-packages (from spacy<4->fastai>=2.6->fastbook) (8.0.15)\n"
     ]
    },
    {
     "name": "stdout",
     "output_type": "stream",
     "text": [
      "Requirement already satisfied: wasabi<1.1.0,>=0.9.1 in /home/link-lap-24/.local/lib/python3.8/site-packages (from spacy<4->fastai>=2.6->fastbook) (0.9.1)\n",
      "Requirement already satisfied: preshed<3.1.0,>=3.0.2 in /home/link-lap-24/.local/lib/python3.8/site-packages (from spacy<4->fastai>=2.6->fastbook) (3.0.6)\n",
      "Requirement already satisfied: cycler>=0.10 in /home/link-lap-24/.local/lib/python3.8/site-packages (from matplotlib->fastai>=2.6->fastbook) (0.11.0)\n",
      "Requirement already satisfied: fonttools>=4.22.0 in /home/link-lap-24/.local/lib/python3.8/site-packages (from matplotlib->fastai>=2.6->fastbook) (4.33.3)\n",
      "Requirement already satisfied: kiwisolver>=1.0.1 in /home/link-lap-24/.local/lib/python3.8/site-packages (from matplotlib->fastai>=2.6->fastbook) (1.4.2)\n",
      "Requirement already satisfied: threadpoolctl>=2.0.0 in /home/link-lap-24/.local/lib/python3.8/site-packages (from scikit-learn->fastai>=2.6->fastbook) (3.1.0)\n",
      "Requirement already satisfied: joblib>=0.11 in /home/link-lap-24/.local/lib/python3.8/site-packages (from scikit-learn->fastai>=2.6->fastbook) (1.1.0)\n",
      "Requirement already satisfied: smart-open<6.0.0,>=5.0.0 in /home/link-lap-24/.local/lib/python3.8/site-packages (from pathy>=0.3.5->spacy<4->fastai>=2.6->fastbook) (5.2.1)\n",
      "Requirement already satisfied: click<9.0.0,>=7.1.1 in /home/link-lap-24/.local/lib/python3.8/site-packages (from typer<0.5.0,>=0.3.0->spacy<4->fastai>=2.6->fastbook) (8.1.3)\n",
      "Requirement already satisfied: MarkupSafe>=2.0 in /home/link-lap-24/.local/lib/python3.8/site-packages (from jinja2->spacy<4->fastai>=2.6->fastbook) (2.1.1)\n",
      "\u001b[33mWARNING: You are using pip version 22.0.4; however, version 22.3.1 is available.\n",
      "You should consider upgrading via the '/usr/bin/python3 -m pip install --upgrade pip' command.\u001b[0m\u001b[33m\n",
      "\u001b[0m"
     ]
    }
   ],
   "source": [
    "!pip install -U fastai\n",
    "!pip install torch==1.9.0+cu111 torchvision==0.10.0+cu111 torchaudio==0.9.0 -f https://download.pytorch.org/whl/torch_stable.html\n",
    "!pip install timm\n",
    "!pip install fastbook"
   ]
  },
  {
   "cell_type": "code",
   "execution_count": 2,
   "id": "f17eb1bc",
   "metadata": {},
   "outputs": [],
   "source": [
    "from fastai.imports import *\n",
    "from fastai.vision import *\n",
    "from fastbook import *\n",
    "import torch, timm\n",
    "\n",
    "import os\n",
    "import glob\n",
    "import cv2"
   ]
  },
  {
   "cell_type": "code",
   "execution_count": 10,
   "id": "2a65f4b2",
   "metadata": {
    "scrolled": true
   },
   "outputs": [
    {
     "data": {
      "text/html": [
       "\n",
       "<style>\n",
       "    /* Turns off some styling */\n",
       "    progress {\n",
       "        /* gets rid of default border in Firefox and Opera. */\n",
       "        border: none;\n",
       "        /* Needs to be in here for Safari polyfill so background images work as expected. */\n",
       "        background-size: auto;\n",
       "    }\n",
       "    .progress-bar-interrupted, .progress-bar-interrupted::-webkit-progress-bar {\n",
       "        background: #F44336;\n",
       "    }\n",
       "</style>\n"
      ],
      "text/plain": [
       "<IPython.core.display.HTML object>"
      ]
     },
     "metadata": {},
     "output_type": "display_data"
    },
    {
     "data": {
      "text/html": [],
      "text/plain": [
       "<IPython.core.display.HTML object>"
      ]
     },
     "metadata": {},
     "output_type": "display_data"
    },
    {
     "name": "stdout",
     "output_type": "stream",
     "text": [
      "this is the final results Activity: {'Dead': 24.796} \n",
      "this is the final results Activity: {'Dead': 24.796, 'Non-dead': 75.103} \n",
      "this is the final results Activity: {'Dead': 24.796, 'Non-dead': 75.103, 'Player_Activity': 0.101} \n"
     ]
    },
    {
     "data": {
      "text/html": [
       "\n",
       "<style>\n",
       "    /* Turns off some styling */\n",
       "    progress {\n",
       "        /* gets rid of default border in Firefox and Opera. */\n",
       "        border: none;\n",
       "        /* Needs to be in here for Safari polyfill so background images work as expected. */\n",
       "        background-size: auto;\n",
       "    }\n",
       "    .progress-bar-interrupted, .progress-bar-interrupted::-webkit-progress-bar {\n",
       "        background: #F44336;\n",
       "    }\n",
       "</style>\n"
      ],
      "text/plain": [
       "<IPython.core.display.HTML object>"
      ]
     },
     "metadata": {},
     "output_type": "display_data"
    },
    {
     "data": {
      "text/html": [],
      "text/plain": [
       "<IPython.core.display.HTML object>"
      ]
     },
     "metadata": {},
     "output_type": "display_data"
    },
    {
     "name": "stdout",
     "output_type": "stream",
     "text": [
      "this is the final results Activity: {'Dead': 2.936} \n",
      "this is the final results Activity: {'Dead': 2.936, 'Non-dead': 97.064} \n",
      "this is the final results Activity: {'Dead': 2.936, 'Non-dead': 97.064, 'Player_Activity': 0.0} \n"
     ]
    },
    {
     "data": {
      "text/html": [
       "\n",
       "<style>\n",
       "    /* Turns off some styling */\n",
       "    progress {\n",
       "        /* gets rid of default border in Firefox and Opera. */\n",
       "        border: none;\n",
       "        /* Needs to be in here for Safari polyfill so background images work as expected. */\n",
       "        background-size: auto;\n",
       "    }\n",
       "    .progress-bar-interrupted, .progress-bar-interrupted::-webkit-progress-bar {\n",
       "        background: #F44336;\n",
       "    }\n",
       "</style>\n"
      ],
      "text/plain": [
       "<IPython.core.display.HTML object>"
      ]
     },
     "metadata": {},
     "output_type": "display_data"
    },
    {
     "data": {
      "text/html": [],
      "text/plain": [
       "<IPython.core.display.HTML object>"
      ]
     },
     "metadata": {},
     "output_type": "display_data"
    },
    {
     "name": "stdout",
     "output_type": "stream",
     "text": [
      "this is the final results Activity: {'Dead': 37.02} \n",
      "this is the final results Activity: {'Dead': 37.02, 'Non-dead': 7.664} \n",
      "this is the final results Activity: {'Dead': 37.02, 'Non-dead': 7.664, 'Player_Activity': 55.316} \n"
     ]
    },
    {
     "data": {
      "text/html": [
       "\n",
       "<style>\n",
       "    /* Turns off some styling */\n",
       "    progress {\n",
       "        /* gets rid of default border in Firefox and Opera. */\n",
       "        border: none;\n",
       "        /* Needs to be in here for Safari polyfill so background images work as expected. */\n",
       "        background-size: auto;\n",
       "    }\n",
       "    .progress-bar-interrupted, .progress-bar-interrupted::-webkit-progress-bar {\n",
       "        background: #F44336;\n",
       "    }\n",
       "</style>\n"
      ],
      "text/plain": [
       "<IPython.core.display.HTML object>"
      ]
     },
     "metadata": {},
     "output_type": "display_data"
    },
    {
     "data": {
      "text/html": [],
      "text/plain": [
       "<IPython.core.display.HTML object>"
      ]
     },
     "metadata": {},
     "output_type": "display_data"
    },
    {
     "name": "stdout",
     "output_type": "stream",
     "text": [
      "this is the final results Activity: {'Dead': 35.3} \n",
      "this is the final results Activity: {'Dead': 35.3, 'Non-dead': 64.637} \n",
      "this is the final results Activity: {'Dead': 35.3, 'Non-dead': 64.637, 'Player_Activity': 0.063} \n"
     ]
    },
    {
     "data": {
      "text/html": [
       "\n",
       "<style>\n",
       "    /* Turns off some styling */\n",
       "    progress {\n",
       "        /* gets rid of default border in Firefox and Opera. */\n",
       "        border: none;\n",
       "        /* Needs to be in here for Safari polyfill so background images work as expected. */\n",
       "        background-size: auto;\n",
       "    }\n",
       "    .progress-bar-interrupted, .progress-bar-interrupted::-webkit-progress-bar {\n",
       "        background: #F44336;\n",
       "    }\n",
       "</style>\n"
      ],
      "text/plain": [
       "<IPython.core.display.HTML object>"
      ]
     },
     "metadata": {},
     "output_type": "display_data"
    },
    {
     "data": {
      "text/html": [],
      "text/plain": [
       "<IPython.core.display.HTML object>"
      ]
     },
     "metadata": {},
     "output_type": "display_data"
    },
    {
     "name": "stdout",
     "output_type": "stream",
     "text": [
      "this is the final results Activity: {'Dead': 0.334} \n",
      "this is the final results Activity: {'Dead': 0.334, 'Non-dead': 99.664} \n",
      "this is the final results Activity: {'Dead': 0.334, 'Non-dead': 99.664, 'Player_Activity': 0.001} \n"
     ]
    },
    {
     "data": {
      "text/html": [
       "\n",
       "<style>\n",
       "    /* Turns off some styling */\n",
       "    progress {\n",
       "        /* gets rid of default border in Firefox and Opera. */\n",
       "        border: none;\n",
       "        /* Needs to be in here for Safari polyfill so background images work as expected. */\n",
       "        background-size: auto;\n",
       "    }\n",
       "    .progress-bar-interrupted, .progress-bar-interrupted::-webkit-progress-bar {\n",
       "        background: #F44336;\n",
       "    }\n",
       "</style>\n"
      ],
      "text/plain": [
       "<IPython.core.display.HTML object>"
      ]
     },
     "metadata": {},
     "output_type": "display_data"
    },
    {
     "data": {
      "text/html": [],
      "text/plain": [
       "<IPython.core.display.HTML object>"
      ]
     },
     "metadata": {},
     "output_type": "display_data"
    },
    {
     "name": "stdout",
     "output_type": "stream",
     "text": [
      "this is the final results Activity: {'Dead': 6.723} \n",
      "this is the final results Activity: {'Dead': 6.723, 'Non-dead': 0.005} \n",
      "this is the final results Activity: {'Dead': 6.723, 'Non-dead': 0.005, 'Player_Activity': 93.272} \n"
     ]
    },
    {
     "data": {
      "text/html": [
       "\n",
       "<style>\n",
       "    /* Turns off some styling */\n",
       "    progress {\n",
       "        /* gets rid of default border in Firefox and Opera. */\n",
       "        border: none;\n",
       "        /* Needs to be in here for Safari polyfill so background images work as expected. */\n",
       "        background-size: auto;\n",
       "    }\n",
       "    .progress-bar-interrupted, .progress-bar-interrupted::-webkit-progress-bar {\n",
       "        background: #F44336;\n",
       "    }\n",
       "</style>\n"
      ],
      "text/plain": [
       "<IPython.core.display.HTML object>"
      ]
     },
     "metadata": {},
     "output_type": "display_data"
    },
    {
     "data": {
      "text/html": [],
      "text/plain": [
       "<IPython.core.display.HTML object>"
      ]
     },
     "metadata": {},
     "output_type": "display_data"
    },
    {
     "name": "stdout",
     "output_type": "stream",
     "text": [
      "this is the final results Activity: {'Dead': 0.006} \n",
      "this is the final results Activity: {'Dead': 0.006, 'Non-dead': 99.994} \n",
      "this is the final results Activity: {'Dead': 0.006, 'Non-dead': 99.994, 'Player_Activity': 0.0} \n"
     ]
    },
    {
     "data": {
      "text/html": [
       "\n",
       "<style>\n",
       "    /* Turns off some styling */\n",
       "    progress {\n",
       "        /* gets rid of default border in Firefox and Opera. */\n",
       "        border: none;\n",
       "        /* Needs to be in here for Safari polyfill so background images work as expected. */\n",
       "        background-size: auto;\n",
       "    }\n",
       "    .progress-bar-interrupted, .progress-bar-interrupted::-webkit-progress-bar {\n",
       "        background: #F44336;\n",
       "    }\n",
       "</style>\n"
      ],
      "text/plain": [
       "<IPython.core.display.HTML object>"
      ]
     },
     "metadata": {},
     "output_type": "display_data"
    },
    {
     "data": {
      "text/html": [],
      "text/plain": [
       "<IPython.core.display.HTML object>"
      ]
     },
     "metadata": {},
     "output_type": "display_data"
    },
    {
     "name": "stdout",
     "output_type": "stream",
     "text": [
      "this is the final results Activity: {'Dead': 1.754} \n",
      "this is the final results Activity: {'Dead': 1.754, 'Non-dead': 98.245} \n",
      "this is the final results Activity: {'Dead': 1.754, 'Non-dead': 98.245, 'Player_Activity': 0.0} \n"
     ]
    },
    {
     "data": {
      "text/html": [
       "\n",
       "<style>\n",
       "    /* Turns off some styling */\n",
       "    progress {\n",
       "        /* gets rid of default border in Firefox and Opera. */\n",
       "        border: none;\n",
       "        /* Needs to be in here for Safari polyfill so background images work as expected. */\n",
       "        background-size: auto;\n",
       "    }\n",
       "    .progress-bar-interrupted, .progress-bar-interrupted::-webkit-progress-bar {\n",
       "        background: #F44336;\n",
       "    }\n",
       "</style>\n"
      ],
      "text/plain": [
       "<IPython.core.display.HTML object>"
      ]
     },
     "metadata": {},
     "output_type": "display_data"
    },
    {
     "data": {
      "text/html": [],
      "text/plain": [
       "<IPython.core.display.HTML object>"
      ]
     },
     "metadata": {},
     "output_type": "display_data"
    },
    {
     "name": "stdout",
     "output_type": "stream",
     "text": [
      "this is the final results Activity: {'Dead': 0.039} \n",
      "this is the final results Activity: {'Dead': 0.039, 'Non-dead': 99.961} \n",
      "this is the final results Activity: {'Dead': 0.039, 'Non-dead': 99.961, 'Player_Activity': 0.0} \n"
     ]
    },
    {
     "data": {
      "text/html": [
       "\n",
       "<style>\n",
       "    /* Turns off some styling */\n",
       "    progress {\n",
       "        /* gets rid of default border in Firefox and Opera. */\n",
       "        border: none;\n",
       "        /* Needs to be in here for Safari polyfill so background images work as expected. */\n",
       "        background-size: auto;\n",
       "    }\n",
       "    .progress-bar-interrupted, .progress-bar-interrupted::-webkit-progress-bar {\n",
       "        background: #F44336;\n",
       "    }\n",
       "</style>\n"
      ],
      "text/plain": [
       "<IPython.core.display.HTML object>"
      ]
     },
     "metadata": {},
     "output_type": "display_data"
    },
    {
     "data": {
      "text/html": [],
      "text/plain": [
       "<IPython.core.display.HTML object>"
      ]
     },
     "metadata": {},
     "output_type": "display_data"
    },
    {
     "name": "stdout",
     "output_type": "stream",
     "text": [
      "this is the final results Activity: {'Dead': 0.048} \n",
      "this is the final results Activity: {'Dead': 0.048, 'Non-dead': 99.951} \n",
      "this is the final results Activity: {'Dead': 0.048, 'Non-dead': 99.951, 'Player_Activity': 0.002} \n"
     ]
    },
    {
     "data": {
      "text/html": [
       "\n",
       "<style>\n",
       "    /* Turns off some styling */\n",
       "    progress {\n",
       "        /* gets rid of default border in Firefox and Opera. */\n",
       "        border: none;\n",
       "        /* Needs to be in here for Safari polyfill so background images work as expected. */\n",
       "        background-size: auto;\n",
       "    }\n",
       "    .progress-bar-interrupted, .progress-bar-interrupted::-webkit-progress-bar {\n",
       "        background: #F44336;\n",
       "    }\n",
       "</style>\n"
      ],
      "text/plain": [
       "<IPython.core.display.HTML object>"
      ]
     },
     "metadata": {},
     "output_type": "display_data"
    },
    {
     "data": {
      "text/html": [],
      "text/plain": [
       "<IPython.core.display.HTML object>"
      ]
     },
     "metadata": {},
     "output_type": "display_data"
    },
    {
     "name": "stdout",
     "output_type": "stream",
     "text": [
      "this is the final results Activity: {'Dead': 0.087} \n",
      "this is the final results Activity: {'Dead': 0.087, 'Non-dead': 97.965} \n",
      "this is the final results Activity: {'Dead': 0.087, 'Non-dead': 97.965, 'Player_Activity': 1.948} \n"
     ]
    },
    {
     "data": {
      "text/html": [
       "\n",
       "<style>\n",
       "    /* Turns off some styling */\n",
       "    progress {\n",
       "        /* gets rid of default border in Firefox and Opera. */\n",
       "        border: none;\n",
       "        /* Needs to be in here for Safari polyfill so background images work as expected. */\n",
       "        background-size: auto;\n",
       "    }\n",
       "    .progress-bar-interrupted, .progress-bar-interrupted::-webkit-progress-bar {\n",
       "        background: #F44336;\n",
       "    }\n",
       "</style>\n"
      ],
      "text/plain": [
       "<IPython.core.display.HTML object>"
      ]
     },
     "metadata": {},
     "output_type": "display_data"
    },
    {
     "data": {
      "text/html": [],
      "text/plain": [
       "<IPython.core.display.HTML object>"
      ]
     },
     "metadata": {},
     "output_type": "display_data"
    },
    {
     "name": "stdout",
     "output_type": "stream",
     "text": [
      "this is the final results Activity: {'Dead': 99.994} \n",
      "this is the final results Activity: {'Dead': 99.994, 'Non-dead': 0.005} \n",
      "this is the final results Activity: {'Dead': 99.994, 'Non-dead': 0.005, 'Player_Activity': 0.001} \n"
     ]
    },
    {
     "data": {
      "text/html": [
       "\n",
       "<style>\n",
       "    /* Turns off some styling */\n",
       "    progress {\n",
       "        /* gets rid of default border in Firefox and Opera. */\n",
       "        border: none;\n",
       "        /* Needs to be in here for Safari polyfill so background images work as expected. */\n",
       "        background-size: auto;\n",
       "    }\n",
       "    .progress-bar-interrupted, .progress-bar-interrupted::-webkit-progress-bar {\n",
       "        background: #F44336;\n",
       "    }\n",
       "</style>\n"
      ],
      "text/plain": [
       "<IPython.core.display.HTML object>"
      ]
     },
     "metadata": {},
     "output_type": "display_data"
    },
    {
     "data": {
      "text/html": [],
      "text/plain": [
       "<IPython.core.display.HTML object>"
      ]
     },
     "metadata": {},
     "output_type": "display_data"
    },
    {
     "name": "stdout",
     "output_type": "stream",
     "text": [
      "this is the final results Activity: {'Dead': 100.0} \n",
      "this is the final results Activity: {'Dead': 100.0, 'Non-dead': 0.0} \n",
      "this is the final results Activity: {'Dead': 100.0, 'Non-dead': 0.0, 'Player_Activity': 0.0} \n"
     ]
    },
    {
     "data": {
      "text/html": [
       "\n",
       "<style>\n",
       "    /* Turns off some styling */\n",
       "    progress {\n",
       "        /* gets rid of default border in Firefox and Opera. */\n",
       "        border: none;\n",
       "        /* Needs to be in here for Safari polyfill so background images work as expected. */\n",
       "        background-size: auto;\n",
       "    }\n",
       "    .progress-bar-interrupted, .progress-bar-interrupted::-webkit-progress-bar {\n",
       "        background: #F44336;\n",
       "    }\n",
       "</style>\n"
      ],
      "text/plain": [
       "<IPython.core.display.HTML object>"
      ]
     },
     "metadata": {},
     "output_type": "display_data"
    },
    {
     "data": {
      "text/html": [],
      "text/plain": [
       "<IPython.core.display.HTML object>"
      ]
     },
     "metadata": {},
     "output_type": "display_data"
    },
    {
     "name": "stdout",
     "output_type": "stream",
     "text": [
      "this is the final results Activity: {'Dead': 100.0} \n",
      "this is the final results Activity: {'Dead': 100.0, 'Non-dead': 0.0} \n",
      "this is the final results Activity: {'Dead': 100.0, 'Non-dead': 0.0, 'Player_Activity': 0.0} \n"
     ]
    },
    {
     "data": {
      "text/html": [
       "\n",
       "<style>\n",
       "    /* Turns off some styling */\n",
       "    progress {\n",
       "        /* gets rid of default border in Firefox and Opera. */\n",
       "        border: none;\n",
       "        /* Needs to be in here for Safari polyfill so background images work as expected. */\n",
       "        background-size: auto;\n",
       "    }\n",
       "    .progress-bar-interrupted, .progress-bar-interrupted::-webkit-progress-bar {\n",
       "        background: #F44336;\n",
       "    }\n",
       "</style>\n"
      ],
      "text/plain": [
       "<IPython.core.display.HTML object>"
      ]
     },
     "metadata": {},
     "output_type": "display_data"
    },
    {
     "data": {
      "text/html": [],
      "text/plain": [
       "<IPython.core.display.HTML object>"
      ]
     },
     "metadata": {},
     "output_type": "display_data"
    },
    {
     "name": "stdout",
     "output_type": "stream",
     "text": [
      "this is the final results Activity: {'Dead': 47.758} \n",
      "this is the final results Activity: {'Dead': 47.758, 'Non-dead': 0.0} \n",
      "this is the final results Activity: {'Dead': 47.758, 'Non-dead': 0.0, 'Player_Activity': 52.242} \n"
     ]
    },
    {
     "data": {
      "text/html": [
       "\n",
       "<style>\n",
       "    /* Turns off some styling */\n",
       "    progress {\n",
       "        /* gets rid of default border in Firefox and Opera. */\n",
       "        border: none;\n",
       "        /* Needs to be in here for Safari polyfill so background images work as expected. */\n",
       "        background-size: auto;\n",
       "    }\n",
       "    .progress-bar-interrupted, .progress-bar-interrupted::-webkit-progress-bar {\n",
       "        background: #F44336;\n",
       "    }\n",
       "</style>\n"
      ],
      "text/plain": [
       "<IPython.core.display.HTML object>"
      ]
     },
     "metadata": {},
     "output_type": "display_data"
    },
    {
     "data": {
      "text/html": [],
      "text/plain": [
       "<IPython.core.display.HTML object>"
      ]
     },
     "metadata": {},
     "output_type": "display_data"
    },
    {
     "name": "stdout",
     "output_type": "stream",
     "text": [
      "this is the final results Activity: {'Dead': 0.174} \n",
      "this is the final results Activity: {'Dead': 0.174, 'Non-dead': 99.826} \n",
      "this is the final results Activity: {'Dead': 0.174, 'Non-dead': 99.826, 'Player_Activity': 0.0} \n"
     ]
    },
    {
     "data": {
      "text/html": [
       "\n",
       "<style>\n",
       "    /* Turns off some styling */\n",
       "    progress {\n",
       "        /* gets rid of default border in Firefox and Opera. */\n",
       "        border: none;\n",
       "        /* Needs to be in here for Safari polyfill so background images work as expected. */\n",
       "        background-size: auto;\n",
       "    }\n",
       "    .progress-bar-interrupted, .progress-bar-interrupted::-webkit-progress-bar {\n",
       "        background: #F44336;\n",
       "    }\n",
       "</style>\n"
      ],
      "text/plain": [
       "<IPython.core.display.HTML object>"
      ]
     },
     "metadata": {},
     "output_type": "display_data"
    },
    {
     "data": {
      "text/html": [],
      "text/plain": [
       "<IPython.core.display.HTML object>"
      ]
     },
     "metadata": {},
     "output_type": "display_data"
    },
    {
     "name": "stdout",
     "output_type": "stream",
     "text": [
      "this is the final results Activity: {'Dead': 99.985} \n",
      "this is the final results Activity: {'Dead': 99.985, 'Non-dead': 0.0} \n",
      "this is the final results Activity: {'Dead': 99.985, 'Non-dead': 0.0, 'Player_Activity': 0.015} \n"
     ]
    },
    {
     "data": {
      "text/html": [
       "\n",
       "<style>\n",
       "    /* Turns off some styling */\n",
       "    progress {\n",
       "        /* gets rid of default border in Firefox and Opera. */\n",
       "        border: none;\n",
       "        /* Needs to be in here for Safari polyfill so background images work as expected. */\n",
       "        background-size: auto;\n",
       "    }\n",
       "    .progress-bar-interrupted, .progress-bar-interrupted::-webkit-progress-bar {\n",
       "        background: #F44336;\n",
       "    }\n",
       "</style>\n"
      ],
      "text/plain": [
       "<IPython.core.display.HTML object>"
      ]
     },
     "metadata": {},
     "output_type": "display_data"
    },
    {
     "data": {
      "text/html": [],
      "text/plain": [
       "<IPython.core.display.HTML object>"
      ]
     },
     "metadata": {},
     "output_type": "display_data"
    },
    {
     "name": "stdout",
     "output_type": "stream",
     "text": [
      "this is the final results Activity: {'Dead': 100.0} \n",
      "this is the final results Activity: {'Dead': 100.0, 'Non-dead': 0.0} \n",
      "this is the final results Activity: {'Dead': 100.0, 'Non-dead': 0.0, 'Player_Activity': 0.0} \n"
     ]
    },
    {
     "data": {
      "text/html": [
       "\n",
       "<style>\n",
       "    /* Turns off some styling */\n",
       "    progress {\n",
       "        /* gets rid of default border in Firefox and Opera. */\n",
       "        border: none;\n",
       "        /* Needs to be in here for Safari polyfill so background images work as expected. */\n",
       "        background-size: auto;\n",
       "    }\n",
       "    .progress-bar-interrupted, .progress-bar-interrupted::-webkit-progress-bar {\n",
       "        background: #F44336;\n",
       "    }\n",
       "</style>\n"
      ],
      "text/plain": [
       "<IPython.core.display.HTML object>"
      ]
     },
     "metadata": {},
     "output_type": "display_data"
    },
    {
     "data": {
      "text/html": [],
      "text/plain": [
       "<IPython.core.display.HTML object>"
      ]
     },
     "metadata": {},
     "output_type": "display_data"
    },
    {
     "name": "stdout",
     "output_type": "stream",
     "text": [
      "this is the final results Activity: {'Dead': 100.0} \n",
      "this is the final results Activity: {'Dead': 100.0, 'Non-dead': 0.0} \n",
      "this is the final results Activity: {'Dead': 100.0, 'Non-dead': 0.0, 'Player_Activity': 0.0} \n"
     ]
    },
    {
     "data": {
      "text/html": [
       "\n",
       "<style>\n",
       "    /* Turns off some styling */\n",
       "    progress {\n",
       "        /* gets rid of default border in Firefox and Opera. */\n",
       "        border: none;\n",
       "        /* Needs to be in here for Safari polyfill so background images work as expected. */\n",
       "        background-size: auto;\n",
       "    }\n",
       "    .progress-bar-interrupted, .progress-bar-interrupted::-webkit-progress-bar {\n",
       "        background: #F44336;\n",
       "    }\n",
       "</style>\n"
      ],
      "text/plain": [
       "<IPython.core.display.HTML object>"
      ]
     },
     "metadata": {},
     "output_type": "display_data"
    },
    {
     "data": {
      "text/html": [],
      "text/plain": [
       "<IPython.core.display.HTML object>"
      ]
     },
     "metadata": {},
     "output_type": "display_data"
    },
    {
     "name": "stdout",
     "output_type": "stream",
     "text": [
      "this is the final results Activity: {'Dead': 95.345} \n",
      "this is the final results Activity: {'Dead': 95.345, 'Non-dead': 0.0} \n",
      "this is the final results Activity: {'Dead': 95.345, 'Non-dead': 0.0, 'Player_Activity': 4.655} \n"
     ]
    },
    {
     "data": {
      "text/html": [
       "\n",
       "<style>\n",
       "    /* Turns off some styling */\n",
       "    progress {\n",
       "        /* gets rid of default border in Firefox and Opera. */\n",
       "        border: none;\n",
       "        /* Needs to be in here for Safari polyfill so background images work as expected. */\n",
       "        background-size: auto;\n",
       "    }\n",
       "    .progress-bar-interrupted, .progress-bar-interrupted::-webkit-progress-bar {\n",
       "        background: #F44336;\n",
       "    }\n",
       "</style>\n"
      ],
      "text/plain": [
       "<IPython.core.display.HTML object>"
      ]
     },
     "metadata": {},
     "output_type": "display_data"
    },
    {
     "data": {
      "text/html": [],
      "text/plain": [
       "<IPython.core.display.HTML object>"
      ]
     },
     "metadata": {},
     "output_type": "display_data"
    },
    {
     "name": "stdout",
     "output_type": "stream",
     "text": [
      "this is the final results Activity: {'Dead': 99.116} \n",
      "this is the final results Activity: {'Dead': 99.116, 'Non-dead': 0.883} \n",
      "this is the final results Activity: {'Dead': 99.116, 'Non-dead': 0.883, 'Player_Activity': 0.0} \n"
     ]
    },
    {
     "data": {
      "text/html": [
       "\n",
       "<style>\n",
       "    /* Turns off some styling */\n",
       "    progress {\n",
       "        /* gets rid of default border in Firefox and Opera. */\n",
       "        border: none;\n",
       "        /* Needs to be in here for Safari polyfill so background images work as expected. */\n",
       "        background-size: auto;\n",
       "    }\n",
       "    .progress-bar-interrupted, .progress-bar-interrupted::-webkit-progress-bar {\n",
       "        background: #F44336;\n",
       "    }\n",
       "</style>\n"
      ],
      "text/plain": [
       "<IPython.core.display.HTML object>"
      ]
     },
     "metadata": {},
     "output_type": "display_data"
    },
    {
     "data": {
      "text/html": [],
      "text/plain": [
       "<IPython.core.display.HTML object>"
      ]
     },
     "metadata": {},
     "output_type": "display_data"
    },
    {
     "name": "stdout",
     "output_type": "stream",
     "text": [
      "this is the final results Activity: {'Dead': 99.995} \n",
      "this is the final results Activity: {'Dead': 99.995, 'Non-dead': 0.005} \n",
      "this is the final results Activity: {'Dead': 99.995, 'Non-dead': 0.005, 'Player_Activity': 0.0} \n"
     ]
    },
    {
     "data": {
      "text/html": [
       "\n",
       "<style>\n",
       "    /* Turns off some styling */\n",
       "    progress {\n",
       "        /* gets rid of default border in Firefox and Opera. */\n",
       "        border: none;\n",
       "        /* Needs to be in here for Safari polyfill so background images work as expected. */\n",
       "        background-size: auto;\n",
       "    }\n",
       "    .progress-bar-interrupted, .progress-bar-interrupted::-webkit-progress-bar {\n",
       "        background: #F44336;\n",
       "    }\n",
       "</style>\n"
      ],
      "text/plain": [
       "<IPython.core.display.HTML object>"
      ]
     },
     "metadata": {},
     "output_type": "display_data"
    },
    {
     "data": {
      "text/html": [],
      "text/plain": [
       "<IPython.core.display.HTML object>"
      ]
     },
     "metadata": {},
     "output_type": "display_data"
    },
    {
     "name": "stdout",
     "output_type": "stream",
     "text": [
      "this is the final results Activity: {'Dead': 0.415} \n",
      "this is the final results Activity: {'Dead': 0.415, 'Non-dead': 99.584} \n",
      "this is the final results Activity: {'Dead': 0.415, 'Non-dead': 99.584, 'Player_Activity': 0.001} \n"
     ]
    },
    {
     "data": {
      "text/html": [
       "\n",
       "<style>\n",
       "    /* Turns off some styling */\n",
       "    progress {\n",
       "        /* gets rid of default border in Firefox and Opera. */\n",
       "        border: none;\n",
       "        /* Needs to be in here for Safari polyfill so background images work as expected. */\n",
       "        background-size: auto;\n",
       "    }\n",
       "    .progress-bar-interrupted, .progress-bar-interrupted::-webkit-progress-bar {\n",
       "        background: #F44336;\n",
       "    }\n",
       "</style>\n"
      ],
      "text/plain": [
       "<IPython.core.display.HTML object>"
      ]
     },
     "metadata": {},
     "output_type": "display_data"
    },
    {
     "data": {
      "text/html": [],
      "text/plain": [
       "<IPython.core.display.HTML object>"
      ]
     },
     "metadata": {},
     "output_type": "display_data"
    },
    {
     "name": "stdout",
     "output_type": "stream",
     "text": [
      "this is the final results Activity: {'Dead': 51.625} \n",
      "this is the final results Activity: {'Dead': 51.625, 'Non-dead': 31.592} \n",
      "this is the final results Activity: {'Dead': 51.625, 'Non-dead': 31.592, 'Player_Activity': 16.783} \n"
     ]
    },
    {
     "data": {
      "text/html": [
       "\n",
       "<style>\n",
       "    /* Turns off some styling */\n",
       "    progress {\n",
       "        /* gets rid of default border in Firefox and Opera. */\n",
       "        border: none;\n",
       "        /* Needs to be in here for Safari polyfill so background images work as expected. */\n",
       "        background-size: auto;\n",
       "    }\n",
       "    .progress-bar-interrupted, .progress-bar-interrupted::-webkit-progress-bar {\n",
       "        background: #F44336;\n",
       "    }\n",
       "</style>\n"
      ],
      "text/plain": [
       "<IPython.core.display.HTML object>"
      ]
     },
     "metadata": {},
     "output_type": "display_data"
    },
    {
     "data": {
      "text/html": [],
      "text/plain": [
       "<IPython.core.display.HTML object>"
      ]
     },
     "metadata": {},
     "output_type": "display_data"
    },
    {
     "name": "stdout",
     "output_type": "stream",
     "text": [
      "this is the final results Activity: {'Dead': 0.0} \n",
      "this is the final results Activity: {'Dead': 0.0, 'Non-dead': 0.0} \n",
      "this is the final results Activity: {'Dead': 0.0, 'Non-dead': 0.0, 'Player_Activity': 100.0} \n"
     ]
    },
    {
     "data": {
      "text/html": [
       "\n",
       "<style>\n",
       "    /* Turns off some styling */\n",
       "    progress {\n",
       "        /* gets rid of default border in Firefox and Opera. */\n",
       "        border: none;\n",
       "        /* Needs to be in here for Safari polyfill so background images work as expected. */\n",
       "        background-size: auto;\n",
       "    }\n",
       "    .progress-bar-interrupted, .progress-bar-interrupted::-webkit-progress-bar {\n",
       "        background: #F44336;\n",
       "    }\n",
       "</style>\n"
      ],
      "text/plain": [
       "<IPython.core.display.HTML object>"
      ]
     },
     "metadata": {},
     "output_type": "display_data"
    },
    {
     "data": {
      "text/html": [],
      "text/plain": [
       "<IPython.core.display.HTML object>"
      ]
     },
     "metadata": {},
     "output_type": "display_data"
    },
    {
     "name": "stdout",
     "output_type": "stream",
     "text": [
      "this is the final results Activity: {'Dead': 0.04} \n",
      "this is the final results Activity: {'Dead': 0.04, 'Non-dead': 99.959} \n",
      "this is the final results Activity: {'Dead': 0.04, 'Non-dead': 99.959, 'Player_Activity': 0.001} \n"
     ]
    },
    {
     "data": {
      "text/html": [
       "\n",
       "<style>\n",
       "    /* Turns off some styling */\n",
       "    progress {\n",
       "        /* gets rid of default border in Firefox and Opera. */\n",
       "        border: none;\n",
       "        /* Needs to be in here for Safari polyfill so background images work as expected. */\n",
       "        background-size: auto;\n",
       "    }\n",
       "    .progress-bar-interrupted, .progress-bar-interrupted::-webkit-progress-bar {\n",
       "        background: #F44336;\n",
       "    }\n",
       "</style>\n"
      ],
      "text/plain": [
       "<IPython.core.display.HTML object>"
      ]
     },
     "metadata": {},
     "output_type": "display_data"
    },
    {
     "data": {
      "text/html": [],
      "text/plain": [
       "<IPython.core.display.HTML object>"
      ]
     },
     "metadata": {},
     "output_type": "display_data"
    },
    {
     "name": "stdout",
     "output_type": "stream",
     "text": [
      "this is the final results Activity: {'Dead': 0.0} \n",
      "this is the final results Activity: {'Dead': 0.0, 'Non-dead': 99.925} \n",
      "this is the final results Activity: {'Dead': 0.0, 'Non-dead': 99.925, 'Player_Activity': 0.075} \n"
     ]
    },
    {
     "data": {
      "text/html": [
       "\n",
       "<style>\n",
       "    /* Turns off some styling */\n",
       "    progress {\n",
       "        /* gets rid of default border in Firefox and Opera. */\n",
       "        border: none;\n",
       "        /* Needs to be in here for Safari polyfill so background images work as expected. */\n",
       "        background-size: auto;\n",
       "    }\n",
       "    .progress-bar-interrupted, .progress-bar-interrupted::-webkit-progress-bar {\n",
       "        background: #F44336;\n",
       "    }\n",
       "</style>\n"
      ],
      "text/plain": [
       "<IPython.core.display.HTML object>"
      ]
     },
     "metadata": {},
     "output_type": "display_data"
    },
    {
     "data": {
      "text/html": [],
      "text/plain": [
       "<IPython.core.display.HTML object>"
      ]
     },
     "metadata": {},
     "output_type": "display_data"
    },
    {
     "name": "stdout",
     "output_type": "stream",
     "text": [
      "this is the final results Activity: {'Dead': 1.889} \n",
      "this is the final results Activity: {'Dead': 1.889, 'Non-dead': 96.577} \n",
      "this is the final results Activity: {'Dead': 1.889, 'Non-dead': 96.577, 'Player_Activity': 1.534} \n"
     ]
    },
    {
     "data": {
      "text/html": [
       "\n",
       "<style>\n",
       "    /* Turns off some styling */\n",
       "    progress {\n",
       "        /* gets rid of default border in Firefox and Opera. */\n",
       "        border: none;\n",
       "        /* Needs to be in here for Safari polyfill so background images work as expected. */\n",
       "        background-size: auto;\n",
       "    }\n",
       "    .progress-bar-interrupted, .progress-bar-interrupted::-webkit-progress-bar {\n",
       "        background: #F44336;\n",
       "    }\n",
       "</style>\n"
      ],
      "text/plain": [
       "<IPython.core.display.HTML object>"
      ]
     },
     "metadata": {},
     "output_type": "display_data"
    },
    {
     "data": {
      "text/html": [],
      "text/plain": [
       "<IPython.core.display.HTML object>"
      ]
     },
     "metadata": {},
     "output_type": "display_data"
    },
    {
     "name": "stdout",
     "output_type": "stream",
     "text": [
      "this is the final results Activity: {'Dead': 0.058} \n",
      "this is the final results Activity: {'Dead': 0.058, 'Non-dead': 99.838} \n",
      "this is the final results Activity: {'Dead': 0.058, 'Non-dead': 99.838, 'Player_Activity': 0.104} \n"
     ]
    },
    {
     "data": {
      "text/html": [
       "\n",
       "<style>\n",
       "    /* Turns off some styling */\n",
       "    progress {\n",
       "        /* gets rid of default border in Firefox and Opera. */\n",
       "        border: none;\n",
       "        /* Needs to be in here for Safari polyfill so background images work as expected. */\n",
       "        background-size: auto;\n",
       "    }\n",
       "    .progress-bar-interrupted, .progress-bar-interrupted::-webkit-progress-bar {\n",
       "        background: #F44336;\n",
       "    }\n",
       "</style>\n"
      ],
      "text/plain": [
       "<IPython.core.display.HTML object>"
      ]
     },
     "metadata": {},
     "output_type": "display_data"
    },
    {
     "data": {
      "text/html": [],
      "text/plain": [
       "<IPython.core.display.HTML object>"
      ]
     },
     "metadata": {},
     "output_type": "display_data"
    },
    {
     "name": "stdout",
     "output_type": "stream",
     "text": [
      "this is the final results Activity: {'Dead': 0.031} \n",
      "this is the final results Activity: {'Dead': 0.031, 'Non-dead': 99.969} \n",
      "this is the final results Activity: {'Dead': 0.031, 'Non-dead': 99.969, 'Player_Activity': 0.0} \n"
     ]
    },
    {
     "data": {
      "text/html": [
       "\n",
       "<style>\n",
       "    /* Turns off some styling */\n",
       "    progress {\n",
       "        /* gets rid of default border in Firefox and Opera. */\n",
       "        border: none;\n",
       "        /* Needs to be in here for Safari polyfill so background images work as expected. */\n",
       "        background-size: auto;\n",
       "    }\n",
       "    .progress-bar-interrupted, .progress-bar-interrupted::-webkit-progress-bar {\n",
       "        background: #F44336;\n",
       "    }\n",
       "</style>\n"
      ],
      "text/plain": [
       "<IPython.core.display.HTML object>"
      ]
     },
     "metadata": {},
     "output_type": "display_data"
    },
    {
     "data": {
      "text/html": [],
      "text/plain": [
       "<IPython.core.display.HTML object>"
      ]
     },
     "metadata": {},
     "output_type": "display_data"
    },
    {
     "name": "stdout",
     "output_type": "stream",
     "text": [
      "this is the final results Activity: {'Dead': 0.783} \n",
      "this is the final results Activity: {'Dead': 0.783, 'Non-dead': 99.217} \n",
      "this is the final results Activity: {'Dead': 0.783, 'Non-dead': 99.217, 'Player_Activity': 0.0} \n"
     ]
    },
    {
     "data": {
      "text/html": [
       "\n",
       "<style>\n",
       "    /* Turns off some styling */\n",
       "    progress {\n",
       "        /* gets rid of default border in Firefox and Opera. */\n",
       "        border: none;\n",
       "        /* Needs to be in here for Safari polyfill so background images work as expected. */\n",
       "        background-size: auto;\n",
       "    }\n",
       "    .progress-bar-interrupted, .progress-bar-interrupted::-webkit-progress-bar {\n",
       "        background: #F44336;\n",
       "    }\n",
       "</style>\n"
      ],
      "text/plain": [
       "<IPython.core.display.HTML object>"
      ]
     },
     "metadata": {},
     "output_type": "display_data"
    },
    {
     "data": {
      "text/html": [],
      "text/plain": [
       "<IPython.core.display.HTML object>"
      ]
     },
     "metadata": {},
     "output_type": "display_data"
    },
    {
     "name": "stdout",
     "output_type": "stream",
     "text": [
      "this is the final results Activity: {'Dead': 0.069} \n",
      "this is the final results Activity: {'Dead': 0.069, 'Non-dead': 99.929} \n",
      "this is the final results Activity: {'Dead': 0.069, 'Non-dead': 99.929, 'Player_Activity': 0.002} \n"
     ]
    },
    {
     "data": {
      "text/html": [
       "\n",
       "<style>\n",
       "    /* Turns off some styling */\n",
       "    progress {\n",
       "        /* gets rid of default border in Firefox and Opera. */\n",
       "        border: none;\n",
       "        /* Needs to be in here for Safari polyfill so background images work as expected. */\n",
       "        background-size: auto;\n",
       "    }\n",
       "    .progress-bar-interrupted, .progress-bar-interrupted::-webkit-progress-bar {\n",
       "        background: #F44336;\n",
       "    }\n",
       "</style>\n"
      ],
      "text/plain": [
       "<IPython.core.display.HTML object>"
      ]
     },
     "metadata": {},
     "output_type": "display_data"
    },
    {
     "data": {
      "text/html": [],
      "text/plain": [
       "<IPython.core.display.HTML object>"
      ]
     },
     "metadata": {},
     "output_type": "display_data"
    },
    {
     "name": "stdout",
     "output_type": "stream",
     "text": [
      "this is the final results Activity: {'Dead': 99.929} \n",
      "this is the final results Activity: {'Dead': 99.929, 'Non-dead': 0.0} \n",
      "this is the final results Activity: {'Dead': 99.929, 'Non-dead': 0.0, 'Player_Activity': 0.071} \n"
     ]
    },
    {
     "data": {
      "text/html": [
       "\n",
       "<style>\n",
       "    /* Turns off some styling */\n",
       "    progress {\n",
       "        /* gets rid of default border in Firefox and Opera. */\n",
       "        border: none;\n",
       "        /* Needs to be in here for Safari polyfill so background images work as expected. */\n",
       "        background-size: auto;\n",
       "    }\n",
       "    .progress-bar-interrupted, .progress-bar-interrupted::-webkit-progress-bar {\n",
       "        background: #F44336;\n",
       "    }\n",
       "</style>\n"
      ],
      "text/plain": [
       "<IPython.core.display.HTML object>"
      ]
     },
     "metadata": {},
     "output_type": "display_data"
    },
    {
     "data": {
      "text/html": [],
      "text/plain": [
       "<IPython.core.display.HTML object>"
      ]
     },
     "metadata": {},
     "output_type": "display_data"
    },
    {
     "name": "stdout",
     "output_type": "stream",
     "text": [
      "this is the final results Activity: {'Dead': 14.588} \n",
      "this is the final results Activity: {'Dead': 14.588, 'Non-dead': 85.411} \n",
      "this is the final results Activity: {'Dead': 14.588, 'Non-dead': 85.411, 'Player_Activity': 0.001} \n"
     ]
    },
    {
     "data": {
      "text/html": [
       "\n",
       "<style>\n",
       "    /* Turns off some styling */\n",
       "    progress {\n",
       "        /* gets rid of default border in Firefox and Opera. */\n",
       "        border: none;\n",
       "        /* Needs to be in here for Safari polyfill so background images work as expected. */\n",
       "        background-size: auto;\n",
       "    }\n",
       "    .progress-bar-interrupted, .progress-bar-interrupted::-webkit-progress-bar {\n",
       "        background: #F44336;\n",
       "    }\n",
       "</style>\n"
      ],
      "text/plain": [
       "<IPython.core.display.HTML object>"
      ]
     },
     "metadata": {},
     "output_type": "display_data"
    },
    {
     "data": {
      "text/html": [],
      "text/plain": [
       "<IPython.core.display.HTML object>"
      ]
     },
     "metadata": {},
     "output_type": "display_data"
    },
    {
     "name": "stdout",
     "output_type": "stream",
     "text": [
      "this is the final results Activity: {'Dead': 68.419} \n",
      "this is the final results Activity: {'Dead': 68.419, 'Non-dead': 0.072} \n",
      "this is the final results Activity: {'Dead': 68.419, 'Non-dead': 0.072, 'Player_Activity': 31.509} \n"
     ]
    },
    {
     "data": {
      "text/html": [
       "\n",
       "<style>\n",
       "    /* Turns off some styling */\n",
       "    progress {\n",
       "        /* gets rid of default border in Firefox and Opera. */\n",
       "        border: none;\n",
       "        /* Needs to be in here for Safari polyfill so background images work as expected. */\n",
       "        background-size: auto;\n",
       "    }\n",
       "    .progress-bar-interrupted, .progress-bar-interrupted::-webkit-progress-bar {\n",
       "        background: #F44336;\n",
       "    }\n",
       "</style>\n"
      ],
      "text/plain": [
       "<IPython.core.display.HTML object>"
      ]
     },
     "metadata": {},
     "output_type": "display_data"
    },
    {
     "data": {
      "text/html": [],
      "text/plain": [
       "<IPython.core.display.HTML object>"
      ]
     },
     "metadata": {},
     "output_type": "display_data"
    },
    {
     "name": "stdout",
     "output_type": "stream",
     "text": [
      "this is the final results Activity: {'Dead': 0.032} \n",
      "this is the final results Activity: {'Dead': 0.032, 'Non-dead': 99.906} \n",
      "this is the final results Activity: {'Dead': 0.032, 'Non-dead': 99.906, 'Player_Activity': 0.062} \n"
     ]
    },
    {
     "data": {
      "text/html": [
       "\n",
       "<style>\n",
       "    /* Turns off some styling */\n",
       "    progress {\n",
       "        /* gets rid of default border in Firefox and Opera. */\n",
       "        border: none;\n",
       "        /* Needs to be in here for Safari polyfill so background images work as expected. */\n",
       "        background-size: auto;\n",
       "    }\n",
       "    .progress-bar-interrupted, .progress-bar-interrupted::-webkit-progress-bar {\n",
       "        background: #F44336;\n",
       "    }\n",
       "</style>\n"
      ],
      "text/plain": [
       "<IPython.core.display.HTML object>"
      ]
     },
     "metadata": {},
     "output_type": "display_data"
    },
    {
     "data": {
      "text/html": [],
      "text/plain": [
       "<IPython.core.display.HTML object>"
      ]
     },
     "metadata": {},
     "output_type": "display_data"
    },
    {
     "name": "stdout",
     "output_type": "stream",
     "text": [
      "this is the final results Activity: {'Dead': 99.79} \n",
      "this is the final results Activity: {'Dead': 99.79, 'Non-dead': 0.207} \n",
      "this is the final results Activity: {'Dead': 99.79, 'Non-dead': 0.207, 'Player_Activity': 0.003} \n"
     ]
    },
    {
     "data": {
      "text/html": [
       "\n",
       "<style>\n",
       "    /* Turns off some styling */\n",
       "    progress {\n",
       "        /* gets rid of default border in Firefox and Opera. */\n",
       "        border: none;\n",
       "        /* Needs to be in here for Safari polyfill so background images work as expected. */\n",
       "        background-size: auto;\n",
       "    }\n",
       "    .progress-bar-interrupted, .progress-bar-interrupted::-webkit-progress-bar {\n",
       "        background: #F44336;\n",
       "    }\n",
       "</style>\n"
      ],
      "text/plain": [
       "<IPython.core.display.HTML object>"
      ]
     },
     "metadata": {},
     "output_type": "display_data"
    },
    {
     "data": {
      "text/html": [],
      "text/plain": [
       "<IPython.core.display.HTML object>"
      ]
     },
     "metadata": {},
     "output_type": "display_data"
    },
    {
     "name": "stdout",
     "output_type": "stream",
     "text": [
      "this is the final results Activity: {'Dead': 20.722} \n",
      "this is the final results Activity: {'Dead': 20.722, 'Non-dead': 14.856} \n",
      "this is the final results Activity: {'Dead': 20.722, 'Non-dead': 14.856, 'Player_Activity': 64.422} \n"
     ]
    },
    {
     "data": {
      "text/html": [
       "\n",
       "<style>\n",
       "    /* Turns off some styling */\n",
       "    progress {\n",
       "        /* gets rid of default border in Firefox and Opera. */\n",
       "        border: none;\n",
       "        /* Needs to be in here for Safari polyfill so background images work as expected. */\n",
       "        background-size: auto;\n",
       "    }\n",
       "    .progress-bar-interrupted, .progress-bar-interrupted::-webkit-progress-bar {\n",
       "        background: #F44336;\n",
       "    }\n",
       "</style>\n"
      ],
      "text/plain": [
       "<IPython.core.display.HTML object>"
      ]
     },
     "metadata": {},
     "output_type": "display_data"
    },
    {
     "data": {
      "text/html": [],
      "text/plain": [
       "<IPython.core.display.HTML object>"
      ]
     },
     "metadata": {},
     "output_type": "display_data"
    },
    {
     "name": "stdout",
     "output_type": "stream",
     "text": [
      "this is the final results Activity: {'Dead': 2.952} \n",
      "this is the final results Activity: {'Dead': 2.952, 'Non-dead': 97.048} \n",
      "this is the final results Activity: {'Dead': 2.952, 'Non-dead': 97.048, 'Player_Activity': 0.0} \n"
     ]
    },
    {
     "data": {
      "text/html": [
       "\n",
       "<style>\n",
       "    /* Turns off some styling */\n",
       "    progress {\n",
       "        /* gets rid of default border in Firefox and Opera. */\n",
       "        border: none;\n",
       "        /* Needs to be in here for Safari polyfill so background images work as expected. */\n",
       "        background-size: auto;\n",
       "    }\n",
       "    .progress-bar-interrupted, .progress-bar-interrupted::-webkit-progress-bar {\n",
       "        background: #F44336;\n",
       "    }\n",
       "</style>\n"
      ],
      "text/plain": [
       "<IPython.core.display.HTML object>"
      ]
     },
     "metadata": {},
     "output_type": "display_data"
    },
    {
     "data": {
      "text/html": [],
      "text/plain": [
       "<IPython.core.display.HTML object>"
      ]
     },
     "metadata": {},
     "output_type": "display_data"
    },
    {
     "name": "stdout",
     "output_type": "stream",
     "text": [
      "this is the final results Activity: {'Dead': 0.891} \n",
      "this is the final results Activity: {'Dead': 0.891, 'Non-dead': 0.0} \n",
      "this is the final results Activity: {'Dead': 0.891, 'Non-dead': 0.0, 'Player_Activity': 99.109} \n"
     ]
    },
    {
     "data": {
      "text/html": [
       "\n",
       "<style>\n",
       "    /* Turns off some styling */\n",
       "    progress {\n",
       "        /* gets rid of default border in Firefox and Opera. */\n",
       "        border: none;\n",
       "        /* Needs to be in here for Safari polyfill so background images work as expected. */\n",
       "        background-size: auto;\n",
       "    }\n",
       "    .progress-bar-interrupted, .progress-bar-interrupted::-webkit-progress-bar {\n",
       "        background: #F44336;\n",
       "    }\n",
       "</style>\n"
      ],
      "text/plain": [
       "<IPython.core.display.HTML object>"
      ]
     },
     "metadata": {},
     "output_type": "display_data"
    },
    {
     "data": {
      "text/html": [],
      "text/plain": [
       "<IPython.core.display.HTML object>"
      ]
     },
     "metadata": {},
     "output_type": "display_data"
    },
    {
     "name": "stdout",
     "output_type": "stream",
     "text": [
      "this is the final results Activity: {'Dead': 0.003} \n",
      "this is the final results Activity: {'Dead': 0.003, 'Non-dead': 99.955} \n",
      "this is the final results Activity: {'Dead': 0.003, 'Non-dead': 99.955, 'Player_Activity': 0.042} \n"
     ]
    },
    {
     "data": {
      "text/html": [
       "\n",
       "<style>\n",
       "    /* Turns off some styling */\n",
       "    progress {\n",
       "        /* gets rid of default border in Firefox and Opera. */\n",
       "        border: none;\n",
       "        /* Needs to be in here for Safari polyfill so background images work as expected. */\n",
       "        background-size: auto;\n",
       "    }\n",
       "    .progress-bar-interrupted, .progress-bar-interrupted::-webkit-progress-bar {\n",
       "        background: #F44336;\n",
       "    }\n",
       "</style>\n"
      ],
      "text/plain": [
       "<IPython.core.display.HTML object>"
      ]
     },
     "metadata": {},
     "output_type": "display_data"
    },
    {
     "data": {
      "text/html": [],
      "text/plain": [
       "<IPython.core.display.HTML object>"
      ]
     },
     "metadata": {},
     "output_type": "display_data"
    },
    {
     "name": "stdout",
     "output_type": "stream",
     "text": [
      "this is the final results Activity: {'Dead': 100.0} \n",
      "this is the final results Activity: {'Dead': 100.0, 'Non-dead': 0.0} \n",
      "this is the final results Activity: {'Dead': 100.0, 'Non-dead': 0.0, 'Player_Activity': 0.0} \n"
     ]
    },
    {
     "data": {
      "text/html": [
       "\n",
       "<style>\n",
       "    /* Turns off some styling */\n",
       "    progress {\n",
       "        /* gets rid of default border in Firefox and Opera. */\n",
       "        border: none;\n",
       "        /* Needs to be in here for Safari polyfill so background images work as expected. */\n",
       "        background-size: auto;\n",
       "    }\n",
       "    .progress-bar-interrupted, .progress-bar-interrupted::-webkit-progress-bar {\n",
       "        background: #F44336;\n",
       "    }\n",
       "</style>\n"
      ],
      "text/plain": [
       "<IPython.core.display.HTML object>"
      ]
     },
     "metadata": {},
     "output_type": "display_data"
    },
    {
     "data": {
      "text/html": [],
      "text/plain": [
       "<IPython.core.display.HTML object>"
      ]
     },
     "metadata": {},
     "output_type": "display_data"
    },
    {
     "name": "stdout",
     "output_type": "stream",
     "text": [
      "this is the final results Activity: {'Dead': 0.038} \n",
      "this is the final results Activity: {'Dead': 0.038, 'Non-dead': 0.0} \n",
      "this is the final results Activity: {'Dead': 0.038, 'Non-dead': 0.0, 'Player_Activity': 99.962} \n"
     ]
    },
    {
     "data": {
      "text/html": [
       "\n",
       "<style>\n",
       "    /* Turns off some styling */\n",
       "    progress {\n",
       "        /* gets rid of default border in Firefox and Opera. */\n",
       "        border: none;\n",
       "        /* Needs to be in here for Safari polyfill so background images work as expected. */\n",
       "        background-size: auto;\n",
       "    }\n",
       "    .progress-bar-interrupted, .progress-bar-interrupted::-webkit-progress-bar {\n",
       "        background: #F44336;\n",
       "    }\n",
       "</style>\n"
      ],
      "text/plain": [
       "<IPython.core.display.HTML object>"
      ]
     },
     "metadata": {},
     "output_type": "display_data"
    },
    {
     "data": {
      "text/html": [],
      "text/plain": [
       "<IPython.core.display.HTML object>"
      ]
     },
     "metadata": {},
     "output_type": "display_data"
    },
    {
     "name": "stdout",
     "output_type": "stream",
     "text": [
      "this is the final results Activity: {'Dead': 64.975} \n",
      "this is the final results Activity: {'Dead': 64.975, 'Non-dead': 34.724} \n",
      "this is the final results Activity: {'Dead': 64.975, 'Non-dead': 34.724, 'Player_Activity': 0.301} \n"
     ]
    },
    {
     "data": {
      "text/html": [
       "\n",
       "<style>\n",
       "    /* Turns off some styling */\n",
       "    progress {\n",
       "        /* gets rid of default border in Firefox and Opera. */\n",
       "        border: none;\n",
       "        /* Needs to be in here for Safari polyfill so background images work as expected. */\n",
       "        background-size: auto;\n",
       "    }\n",
       "    .progress-bar-interrupted, .progress-bar-interrupted::-webkit-progress-bar {\n",
       "        background: #F44336;\n",
       "    }\n",
       "</style>\n"
      ],
      "text/plain": [
       "<IPython.core.display.HTML object>"
      ]
     },
     "metadata": {},
     "output_type": "display_data"
    },
    {
     "data": {
      "text/html": [],
      "text/plain": [
       "<IPython.core.display.HTML object>"
      ]
     },
     "metadata": {},
     "output_type": "display_data"
    },
    {
     "name": "stdout",
     "output_type": "stream",
     "text": [
      "this is the final results Activity: {'Dead': 10.523} \n",
      "this is the final results Activity: {'Dead': 10.523, 'Non-dead': 79.551} \n",
      "this is the final results Activity: {'Dead': 10.523, 'Non-dead': 79.551, 'Player_Activity': 9.926} \n"
     ]
    },
    {
     "data": {
      "text/html": [
       "\n",
       "<style>\n",
       "    /* Turns off some styling */\n",
       "    progress {\n",
       "        /* gets rid of default border in Firefox and Opera. */\n",
       "        border: none;\n",
       "        /* Needs to be in here for Safari polyfill so background images work as expected. */\n",
       "        background-size: auto;\n",
       "    }\n",
       "    .progress-bar-interrupted, .progress-bar-interrupted::-webkit-progress-bar {\n",
       "        background: #F44336;\n",
       "    }\n",
       "</style>\n"
      ],
      "text/plain": [
       "<IPython.core.display.HTML object>"
      ]
     },
     "metadata": {},
     "output_type": "display_data"
    },
    {
     "data": {
      "text/html": [],
      "text/plain": [
       "<IPython.core.display.HTML object>"
      ]
     },
     "metadata": {},
     "output_type": "display_data"
    },
    {
     "name": "stdout",
     "output_type": "stream",
     "text": [
      "this is the final results Activity: {'Dead': 0.04} \n",
      "this is the final results Activity: {'Dead': 0.04, 'Non-dead': 0.002} \n",
      "this is the final results Activity: {'Dead': 0.04, 'Non-dead': 0.002, 'Player_Activity': 99.958} \n"
     ]
    },
    {
     "data": {
      "text/html": [
       "\n",
       "<style>\n",
       "    /* Turns off some styling */\n",
       "    progress {\n",
       "        /* gets rid of default border in Firefox and Opera. */\n",
       "        border: none;\n",
       "        /* Needs to be in here for Safari polyfill so background images work as expected. */\n",
       "        background-size: auto;\n",
       "    }\n",
       "    .progress-bar-interrupted, .progress-bar-interrupted::-webkit-progress-bar {\n",
       "        background: #F44336;\n",
       "    }\n",
       "</style>\n"
      ],
      "text/plain": [
       "<IPython.core.display.HTML object>"
      ]
     },
     "metadata": {},
     "output_type": "display_data"
    },
    {
     "data": {
      "text/html": [],
      "text/plain": [
       "<IPython.core.display.HTML object>"
      ]
     },
     "metadata": {},
     "output_type": "display_data"
    },
    {
     "name": "stdout",
     "output_type": "stream",
     "text": [
      "this is the final results Activity: {'Dead': 99.999} \n",
      "this is the final results Activity: {'Dead': 99.999, 'Non-dead': 0.0} \n",
      "this is the final results Activity: {'Dead': 99.999, 'Non-dead': 0.0, 'Player_Activity': 0.001} \n"
     ]
    },
    {
     "data": {
      "text/html": [
       "\n",
       "<style>\n",
       "    /* Turns off some styling */\n",
       "    progress {\n",
       "        /* gets rid of default border in Firefox and Opera. */\n",
       "        border: none;\n",
       "        /* Needs to be in here for Safari polyfill so background images work as expected. */\n",
       "        background-size: auto;\n",
       "    }\n",
       "    .progress-bar-interrupted, .progress-bar-interrupted::-webkit-progress-bar {\n",
       "        background: #F44336;\n",
       "    }\n",
       "</style>\n"
      ],
      "text/plain": [
       "<IPython.core.display.HTML object>"
      ]
     },
     "metadata": {},
     "output_type": "display_data"
    },
    {
     "data": {
      "text/html": [],
      "text/plain": [
       "<IPython.core.display.HTML object>"
      ]
     },
     "metadata": {},
     "output_type": "display_data"
    },
    {
     "name": "stdout",
     "output_type": "stream",
     "text": [
      "this is the final results Activity: {'Dead': 100.0} \n",
      "this is the final results Activity: {'Dead': 100.0, 'Non-dead': 0.0} \n",
      "this is the final results Activity: {'Dead': 100.0, 'Non-dead': 0.0, 'Player_Activity': 0.0} \n"
     ]
    },
    {
     "data": {
      "text/html": [
       "\n",
       "<style>\n",
       "    /* Turns off some styling */\n",
       "    progress {\n",
       "        /* gets rid of default border in Firefox and Opera. */\n",
       "        border: none;\n",
       "        /* Needs to be in here for Safari polyfill so background images work as expected. */\n",
       "        background-size: auto;\n",
       "    }\n",
       "    .progress-bar-interrupted, .progress-bar-interrupted::-webkit-progress-bar {\n",
       "        background: #F44336;\n",
       "    }\n",
       "</style>\n"
      ],
      "text/plain": [
       "<IPython.core.display.HTML object>"
      ]
     },
     "metadata": {},
     "output_type": "display_data"
    },
    {
     "data": {
      "text/html": [],
      "text/plain": [
       "<IPython.core.display.HTML object>"
      ]
     },
     "metadata": {},
     "output_type": "display_data"
    },
    {
     "name": "stdout",
     "output_type": "stream",
     "text": [
      "this is the final results Activity: {'Dead': 100.0} \n",
      "this is the final results Activity: {'Dead': 100.0, 'Non-dead': 0.0} \n",
      "this is the final results Activity: {'Dead': 100.0, 'Non-dead': 0.0, 'Player_Activity': 0.0} \n"
     ]
    },
    {
     "data": {
      "text/html": [
       "\n",
       "<style>\n",
       "    /* Turns off some styling */\n",
       "    progress {\n",
       "        /* gets rid of default border in Firefox and Opera. */\n",
       "        border: none;\n",
       "        /* Needs to be in here for Safari polyfill so background images work as expected. */\n",
       "        background-size: auto;\n",
       "    }\n",
       "    .progress-bar-interrupted, .progress-bar-interrupted::-webkit-progress-bar {\n",
       "        background: #F44336;\n",
       "    }\n",
       "</style>\n"
      ],
      "text/plain": [
       "<IPython.core.display.HTML object>"
      ]
     },
     "metadata": {},
     "output_type": "display_data"
    },
    {
     "data": {
      "text/html": [],
      "text/plain": [
       "<IPython.core.display.HTML object>"
      ]
     },
     "metadata": {},
     "output_type": "display_data"
    },
    {
     "name": "stdout",
     "output_type": "stream",
     "text": [
      "this is the final results Activity: {'Dead': 99.775} \n",
      "this is the final results Activity: {'Dead': 99.775, 'Non-dead': 0.194} \n",
      "this is the final results Activity: {'Dead': 99.775, 'Non-dead': 0.194, 'Player_Activity': 0.03} \n"
     ]
    },
    {
     "data": {
      "text/html": [
       "\n",
       "<style>\n",
       "    /* Turns off some styling */\n",
       "    progress {\n",
       "        /* gets rid of default border in Firefox and Opera. */\n",
       "        border: none;\n",
       "        /* Needs to be in here for Safari polyfill so background images work as expected. */\n",
       "        background-size: auto;\n",
       "    }\n",
       "    .progress-bar-interrupted, .progress-bar-interrupted::-webkit-progress-bar {\n",
       "        background: #F44336;\n",
       "    }\n",
       "</style>\n"
      ],
      "text/plain": [
       "<IPython.core.display.HTML object>"
      ]
     },
     "metadata": {},
     "output_type": "display_data"
    },
    {
     "data": {
      "text/html": [],
      "text/plain": [
       "<IPython.core.display.HTML object>"
      ]
     },
     "metadata": {},
     "output_type": "display_data"
    },
    {
     "name": "stdout",
     "output_type": "stream",
     "text": [
      "this is the final results Activity: {'Dead': 3.481} \n",
      "this is the final results Activity: {'Dead': 3.481, 'Non-dead': 0.0} \n",
      "this is the final results Activity: {'Dead': 3.481, 'Non-dead': 0.0, 'Player_Activity': 96.519} \n"
     ]
    },
    {
     "data": {
      "text/html": [
       "\n",
       "<style>\n",
       "    /* Turns off some styling */\n",
       "    progress {\n",
       "        /* gets rid of default border in Firefox and Opera. */\n",
       "        border: none;\n",
       "        /* Needs to be in here for Safari polyfill so background images work as expected. */\n",
       "        background-size: auto;\n",
       "    }\n",
       "    .progress-bar-interrupted, .progress-bar-interrupted::-webkit-progress-bar {\n",
       "        background: #F44336;\n",
       "    }\n",
       "</style>\n"
      ],
      "text/plain": [
       "<IPython.core.display.HTML object>"
      ]
     },
     "metadata": {},
     "output_type": "display_data"
    },
    {
     "data": {
      "text/html": [],
      "text/plain": [
       "<IPython.core.display.HTML object>"
      ]
     },
     "metadata": {},
     "output_type": "display_data"
    },
    {
     "name": "stdout",
     "output_type": "stream",
     "text": [
      "this is the final results Activity: {'Dead': 100.0} \n",
      "this is the final results Activity: {'Dead': 100.0, 'Non-dead': 0.0} \n",
      "this is the final results Activity: {'Dead': 100.0, 'Non-dead': 0.0, 'Player_Activity': 0.0} \n"
     ]
    },
    {
     "data": {
      "text/html": [
       "\n",
       "<style>\n",
       "    /* Turns off some styling */\n",
       "    progress {\n",
       "        /* gets rid of default border in Firefox and Opera. */\n",
       "        border: none;\n",
       "        /* Needs to be in here for Safari polyfill so background images work as expected. */\n",
       "        background-size: auto;\n",
       "    }\n",
       "    .progress-bar-interrupted, .progress-bar-interrupted::-webkit-progress-bar {\n",
       "        background: #F44336;\n",
       "    }\n",
       "</style>\n"
      ],
      "text/plain": [
       "<IPython.core.display.HTML object>"
      ]
     },
     "metadata": {},
     "output_type": "display_data"
    },
    {
     "data": {
      "text/html": [],
      "text/plain": [
       "<IPython.core.display.HTML object>"
      ]
     },
     "metadata": {},
     "output_type": "display_data"
    },
    {
     "name": "stdout",
     "output_type": "stream",
     "text": [
      "this is the final results Activity: {'Dead': 99.989} \n",
      "this is the final results Activity: {'Dead': 99.989, 'Non-dead': 0.001} \n",
      "this is the final results Activity: {'Dead': 99.989, 'Non-dead': 0.001, 'Player_Activity': 0.01} \n"
     ]
    },
    {
     "data": {
      "text/html": [
       "\n",
       "<style>\n",
       "    /* Turns off some styling */\n",
       "    progress {\n",
       "        /* gets rid of default border in Firefox and Opera. */\n",
       "        border: none;\n",
       "        /* Needs to be in here for Safari polyfill so background images work as expected. */\n",
       "        background-size: auto;\n",
       "    }\n",
       "    .progress-bar-interrupted, .progress-bar-interrupted::-webkit-progress-bar {\n",
       "        background: #F44336;\n",
       "    }\n",
       "</style>\n"
      ],
      "text/plain": [
       "<IPython.core.display.HTML object>"
      ]
     },
     "metadata": {},
     "output_type": "display_data"
    },
    {
     "data": {
      "text/html": [],
      "text/plain": [
       "<IPython.core.display.HTML object>"
      ]
     },
     "metadata": {},
     "output_type": "display_data"
    },
    {
     "name": "stdout",
     "output_type": "stream",
     "text": [
      "this is the final results Activity: {'Dead': 0.0} \n",
      "this is the final results Activity: {'Dead': 0.0, 'Non-dead': 0.0} \n",
      "this is the final results Activity: {'Dead': 0.0, 'Non-dead': 0.0, 'Player_Activity': 100.0} \n"
     ]
    },
    {
     "data": {
      "text/html": [
       "\n",
       "<style>\n",
       "    /* Turns off some styling */\n",
       "    progress {\n",
       "        /* gets rid of default border in Firefox and Opera. */\n",
       "        border: none;\n",
       "        /* Needs to be in here for Safari polyfill so background images work as expected. */\n",
       "        background-size: auto;\n",
       "    }\n",
       "    .progress-bar-interrupted, .progress-bar-interrupted::-webkit-progress-bar {\n",
       "        background: #F44336;\n",
       "    }\n",
       "</style>\n"
      ],
      "text/plain": [
       "<IPython.core.display.HTML object>"
      ]
     },
     "metadata": {},
     "output_type": "display_data"
    },
    {
     "data": {
      "text/html": [],
      "text/plain": [
       "<IPython.core.display.HTML object>"
      ]
     },
     "metadata": {},
     "output_type": "display_data"
    },
    {
     "name": "stdout",
     "output_type": "stream",
     "text": [
      "this is the final results Activity: {'Dead': 0.003} \n",
      "this is the final results Activity: {'Dead': 0.003, 'Non-dead': 0.001} \n",
      "this is the final results Activity: {'Dead': 0.003, 'Non-dead': 0.001, 'Player_Activity': 99.996} \n"
     ]
    },
    {
     "data": {
      "text/html": [
       "\n",
       "<style>\n",
       "    /* Turns off some styling */\n",
       "    progress {\n",
       "        /* gets rid of default border in Firefox and Opera. */\n",
       "        border: none;\n",
       "        /* Needs to be in here for Safari polyfill so background images work as expected. */\n",
       "        background-size: auto;\n",
       "    }\n",
       "    .progress-bar-interrupted, .progress-bar-interrupted::-webkit-progress-bar {\n",
       "        background: #F44336;\n",
       "    }\n",
       "</style>\n"
      ],
      "text/plain": [
       "<IPython.core.display.HTML object>"
      ]
     },
     "metadata": {},
     "output_type": "display_data"
    },
    {
     "data": {
      "text/html": [],
      "text/plain": [
       "<IPython.core.display.HTML object>"
      ]
     },
     "metadata": {},
     "output_type": "display_data"
    },
    {
     "name": "stdout",
     "output_type": "stream",
     "text": [
      "this is the final results Activity: {'Dead': 0.0} \n",
      "this is the final results Activity: {'Dead': 0.0, 'Non-dead': 0.0} \n",
      "this is the final results Activity: {'Dead': 0.0, 'Non-dead': 0.0, 'Player_Activity': 100.0} \n"
     ]
    },
    {
     "data": {
      "text/html": [
       "\n",
       "<style>\n",
       "    /* Turns off some styling */\n",
       "    progress {\n",
       "        /* gets rid of default border in Firefox and Opera. */\n",
       "        border: none;\n",
       "        /* Needs to be in here for Safari polyfill so background images work as expected. */\n",
       "        background-size: auto;\n",
       "    }\n",
       "    .progress-bar-interrupted, .progress-bar-interrupted::-webkit-progress-bar {\n",
       "        background: #F44336;\n",
       "    }\n",
       "</style>\n"
      ],
      "text/plain": [
       "<IPython.core.display.HTML object>"
      ]
     },
     "metadata": {},
     "output_type": "display_data"
    },
    {
     "data": {
      "text/html": [],
      "text/plain": [
       "<IPython.core.display.HTML object>"
      ]
     },
     "metadata": {},
     "output_type": "display_data"
    },
    {
     "name": "stdout",
     "output_type": "stream",
     "text": [
      "this is the final results Activity: {'Dead': 0.0} \n",
      "this is the final results Activity: {'Dead': 0.0, 'Non-dead': 100.0} \n",
      "this is the final results Activity: {'Dead': 0.0, 'Non-dead': 100.0, 'Player_Activity': 0.0} \n"
     ]
    },
    {
     "data": {
      "text/html": [
       "\n",
       "<style>\n",
       "    /* Turns off some styling */\n",
       "    progress {\n",
       "        /* gets rid of default border in Firefox and Opera. */\n",
       "        border: none;\n",
       "        /* Needs to be in here for Safari polyfill so background images work as expected. */\n",
       "        background-size: auto;\n",
       "    }\n",
       "    .progress-bar-interrupted, .progress-bar-interrupted::-webkit-progress-bar {\n",
       "        background: #F44336;\n",
       "    }\n",
       "</style>\n"
      ],
      "text/plain": [
       "<IPython.core.display.HTML object>"
      ]
     },
     "metadata": {},
     "output_type": "display_data"
    },
    {
     "data": {
      "text/html": [],
      "text/plain": [
       "<IPython.core.display.HTML object>"
      ]
     },
     "metadata": {},
     "output_type": "display_data"
    },
    {
     "name": "stdout",
     "output_type": "stream",
     "text": [
      "this is the final results Activity: {'Dead': 0.004} \n",
      "this is the final results Activity: {'Dead': 0.004, 'Non-dead': 0.0} \n",
      "this is the final results Activity: {'Dead': 0.004, 'Non-dead': 0.0, 'Player_Activity': 99.996} \n"
     ]
    },
    {
     "data": {
      "text/html": [
       "\n",
       "<style>\n",
       "    /* Turns off some styling */\n",
       "    progress {\n",
       "        /* gets rid of default border in Firefox and Opera. */\n",
       "        border: none;\n",
       "        /* Needs to be in here for Safari polyfill so background images work as expected. */\n",
       "        background-size: auto;\n",
       "    }\n",
       "    .progress-bar-interrupted, .progress-bar-interrupted::-webkit-progress-bar {\n",
       "        background: #F44336;\n",
       "    }\n",
       "</style>\n"
      ],
      "text/plain": [
       "<IPython.core.display.HTML object>"
      ]
     },
     "metadata": {},
     "output_type": "display_data"
    },
    {
     "data": {
      "text/html": [],
      "text/plain": [
       "<IPython.core.display.HTML object>"
      ]
     },
     "metadata": {},
     "output_type": "display_data"
    },
    {
     "name": "stdout",
     "output_type": "stream",
     "text": [
      "this is the final results Activity: {'Dead': 0.0} \n",
      "this is the final results Activity: {'Dead': 0.0, 'Non-dead': 0.0} \n",
      "this is the final results Activity: {'Dead': 0.0, 'Non-dead': 0.0, 'Player_Activity': 100.0} \n"
     ]
    },
    {
     "data": {
      "text/html": [
       "\n",
       "<style>\n",
       "    /* Turns off some styling */\n",
       "    progress {\n",
       "        /* gets rid of default border in Firefox and Opera. */\n",
       "        border: none;\n",
       "        /* Needs to be in here for Safari polyfill so background images work as expected. */\n",
       "        background-size: auto;\n",
       "    }\n",
       "    .progress-bar-interrupted, .progress-bar-interrupted::-webkit-progress-bar {\n",
       "        background: #F44336;\n",
       "    }\n",
       "</style>\n"
      ],
      "text/plain": [
       "<IPython.core.display.HTML object>"
      ]
     },
     "metadata": {},
     "output_type": "display_data"
    },
    {
     "data": {
      "text/html": [],
      "text/plain": [
       "<IPython.core.display.HTML object>"
      ]
     },
     "metadata": {},
     "output_type": "display_data"
    },
    {
     "name": "stdout",
     "output_type": "stream",
     "text": [
      "this is the final results Activity: {'Dead': 0.001} \n",
      "this is the final results Activity: {'Dead': 0.001, 'Non-dead': 0.0} \n",
      "this is the final results Activity: {'Dead': 0.001, 'Non-dead': 0.0, 'Player_Activity': 99.999} \n"
     ]
    },
    {
     "data": {
      "text/html": [
       "\n",
       "<style>\n",
       "    /* Turns off some styling */\n",
       "    progress {\n",
       "        /* gets rid of default border in Firefox and Opera. */\n",
       "        border: none;\n",
       "        /* Needs to be in here for Safari polyfill so background images work as expected. */\n",
       "        background-size: auto;\n",
       "    }\n",
       "    .progress-bar-interrupted, .progress-bar-interrupted::-webkit-progress-bar {\n",
       "        background: #F44336;\n",
       "    }\n",
       "</style>\n"
      ],
      "text/plain": [
       "<IPython.core.display.HTML object>"
      ]
     },
     "metadata": {},
     "output_type": "display_data"
    },
    {
     "data": {
      "text/html": [],
      "text/plain": [
       "<IPython.core.display.HTML object>"
      ]
     },
     "metadata": {},
     "output_type": "display_data"
    },
    {
     "name": "stdout",
     "output_type": "stream",
     "text": [
      "this is the final results Activity: {'Dead': 0.003} \n",
      "this is the final results Activity: {'Dead': 0.003, 'Non-dead': 99.997} \n",
      "this is the final results Activity: {'Dead': 0.003, 'Non-dead': 99.997, 'Player_Activity': 0.0} \n"
     ]
    },
    {
     "data": {
      "text/html": [
       "\n",
       "<style>\n",
       "    /* Turns off some styling */\n",
       "    progress {\n",
       "        /* gets rid of default border in Firefox and Opera. */\n",
       "        border: none;\n",
       "        /* Needs to be in here for Safari polyfill so background images work as expected. */\n",
       "        background-size: auto;\n",
       "    }\n",
       "    .progress-bar-interrupted, .progress-bar-interrupted::-webkit-progress-bar {\n",
       "        background: #F44336;\n",
       "    }\n",
       "</style>\n"
      ],
      "text/plain": [
       "<IPython.core.display.HTML object>"
      ]
     },
     "metadata": {},
     "output_type": "display_data"
    },
    {
     "data": {
      "text/html": [],
      "text/plain": [
       "<IPython.core.display.HTML object>"
      ]
     },
     "metadata": {},
     "output_type": "display_data"
    },
    {
     "name": "stdout",
     "output_type": "stream",
     "text": [
      "this is the final results Activity: {'Dead': 0.004} \n",
      "this is the final results Activity: {'Dead': 0.004, 'Non-dead': 0.0} \n",
      "this is the final results Activity: {'Dead': 0.004, 'Non-dead': 0.0, 'Player_Activity': 99.996} \n"
     ]
    },
    {
     "data": {
      "text/html": [
       "\n",
       "<style>\n",
       "    /* Turns off some styling */\n",
       "    progress {\n",
       "        /* gets rid of default border in Firefox and Opera. */\n",
       "        border: none;\n",
       "        /* Needs to be in here for Safari polyfill so background images work as expected. */\n",
       "        background-size: auto;\n",
       "    }\n",
       "    .progress-bar-interrupted, .progress-bar-interrupted::-webkit-progress-bar {\n",
       "        background: #F44336;\n",
       "    }\n",
       "</style>\n"
      ],
      "text/plain": [
       "<IPython.core.display.HTML object>"
      ]
     },
     "metadata": {},
     "output_type": "display_data"
    },
    {
     "data": {
      "text/html": [],
      "text/plain": [
       "<IPython.core.display.HTML object>"
      ]
     },
     "metadata": {},
     "output_type": "display_data"
    },
    {
     "name": "stdout",
     "output_type": "stream",
     "text": [
      "this is the final results Activity: {'Dead': 7.303} \n",
      "this is the final results Activity: {'Dead': 7.303, 'Non-dead': 0.003} \n",
      "this is the final results Activity: {'Dead': 7.303, 'Non-dead': 0.003, 'Player_Activity': 92.694} \n"
     ]
    },
    {
     "data": {
      "text/html": [
       "\n",
       "<style>\n",
       "    /* Turns off some styling */\n",
       "    progress {\n",
       "        /* gets rid of default border in Firefox and Opera. */\n",
       "        border: none;\n",
       "        /* Needs to be in here for Safari polyfill so background images work as expected. */\n",
       "        background-size: auto;\n",
       "    }\n",
       "    .progress-bar-interrupted, .progress-bar-interrupted::-webkit-progress-bar {\n",
       "        background: #F44336;\n",
       "    }\n",
       "</style>\n"
      ],
      "text/plain": [
       "<IPython.core.display.HTML object>"
      ]
     },
     "metadata": {},
     "output_type": "display_data"
    },
    {
     "data": {
      "text/html": [],
      "text/plain": [
       "<IPython.core.display.HTML object>"
      ]
     },
     "metadata": {},
     "output_type": "display_data"
    },
    {
     "name": "stdout",
     "output_type": "stream",
     "text": [
      "this is the final results Activity: {'Dead': 95.617} \n",
      "this is the final results Activity: {'Dead': 95.617, 'Non-dead': 0.03} \n",
      "this is the final results Activity: {'Dead': 95.617, 'Non-dead': 0.03, 'Player_Activity': 4.353} \n"
     ]
    },
    {
     "data": {
      "text/html": [
       "\n",
       "<style>\n",
       "    /* Turns off some styling */\n",
       "    progress {\n",
       "        /* gets rid of default border in Firefox and Opera. */\n",
       "        border: none;\n",
       "        /* Needs to be in here for Safari polyfill so background images work as expected. */\n",
       "        background-size: auto;\n",
       "    }\n",
       "    .progress-bar-interrupted, .progress-bar-interrupted::-webkit-progress-bar {\n",
       "        background: #F44336;\n",
       "    }\n",
       "</style>\n"
      ],
      "text/plain": [
       "<IPython.core.display.HTML object>"
      ]
     },
     "metadata": {},
     "output_type": "display_data"
    },
    {
     "data": {
      "text/html": [],
      "text/plain": [
       "<IPython.core.display.HTML object>"
      ]
     },
     "metadata": {},
     "output_type": "display_data"
    },
    {
     "name": "stdout",
     "output_type": "stream",
     "text": [
      "this is the final results Activity: {'Dead': 92.137} \n",
      "this is the final results Activity: {'Dead': 92.137, 'Non-dead': 1.344} \n",
      "this is the final results Activity: {'Dead': 92.137, 'Non-dead': 1.344, 'Player_Activity': 6.519} \n"
     ]
    },
    {
     "data": {
      "text/html": [
       "\n",
       "<style>\n",
       "    /* Turns off some styling */\n",
       "    progress {\n",
       "        /* gets rid of default border in Firefox and Opera. */\n",
       "        border: none;\n",
       "        /* Needs to be in here for Safari polyfill so background images work as expected. */\n",
       "        background-size: auto;\n",
       "    }\n",
       "    .progress-bar-interrupted, .progress-bar-interrupted::-webkit-progress-bar {\n",
       "        background: #F44336;\n",
       "    }\n",
       "</style>\n"
      ],
      "text/plain": [
       "<IPython.core.display.HTML object>"
      ]
     },
     "metadata": {},
     "output_type": "display_data"
    },
    {
     "data": {
      "text/html": [],
      "text/plain": [
       "<IPython.core.display.HTML object>"
      ]
     },
     "metadata": {},
     "output_type": "display_data"
    },
    {
     "name": "stdout",
     "output_type": "stream",
     "text": [
      "this is the final results Activity: {'Dead': 99.999} \n",
      "this is the final results Activity: {'Dead': 99.999, 'Non-dead': 0.0} \n",
      "this is the final results Activity: {'Dead': 99.999, 'Non-dead': 0.0, 'Player_Activity': 0.001} \n"
     ]
    },
    {
     "data": {
      "text/html": [
       "\n",
       "<style>\n",
       "    /* Turns off some styling */\n",
       "    progress {\n",
       "        /* gets rid of default border in Firefox and Opera. */\n",
       "        border: none;\n",
       "        /* Needs to be in here for Safari polyfill so background images work as expected. */\n",
       "        background-size: auto;\n",
       "    }\n",
       "    .progress-bar-interrupted, .progress-bar-interrupted::-webkit-progress-bar {\n",
       "        background: #F44336;\n",
       "    }\n",
       "</style>\n"
      ],
      "text/plain": [
       "<IPython.core.display.HTML object>"
      ]
     },
     "metadata": {},
     "output_type": "display_data"
    },
    {
     "data": {
      "text/html": [],
      "text/plain": [
       "<IPython.core.display.HTML object>"
      ]
     },
     "metadata": {},
     "output_type": "display_data"
    },
    {
     "name": "stdout",
     "output_type": "stream",
     "text": [
      "this is the final results Activity: {'Dead': 0.049} \n",
      "this is the final results Activity: {'Dead': 0.049, 'Non-dead': 0.0} \n",
      "this is the final results Activity: {'Dead': 0.049, 'Non-dead': 0.0, 'Player_Activity': 99.951} \n"
     ]
    },
    {
     "data": {
      "text/html": [
       "\n",
       "<style>\n",
       "    /* Turns off some styling */\n",
       "    progress {\n",
       "        /* gets rid of default border in Firefox and Opera. */\n",
       "        border: none;\n",
       "        /* Needs to be in here for Safari polyfill so background images work as expected. */\n",
       "        background-size: auto;\n",
       "    }\n",
       "    .progress-bar-interrupted, .progress-bar-interrupted::-webkit-progress-bar {\n",
       "        background: #F44336;\n",
       "    }\n",
       "</style>\n"
      ],
      "text/plain": [
       "<IPython.core.display.HTML object>"
      ]
     },
     "metadata": {},
     "output_type": "display_data"
    },
    {
     "data": {
      "text/html": [],
      "text/plain": [
       "<IPython.core.display.HTML object>"
      ]
     },
     "metadata": {},
     "output_type": "display_data"
    },
    {
     "name": "stdout",
     "output_type": "stream",
     "text": [
      "this is the final results Activity: {'Dead': 57.554} \n",
      "this is the final results Activity: {'Dead': 57.554, 'Non-dead': 36.321} \n",
      "this is the final results Activity: {'Dead': 57.554, 'Non-dead': 36.321, 'Player_Activity': 6.125} \n"
     ]
    },
    {
     "data": {
      "text/html": [
       "\n",
       "<style>\n",
       "    /* Turns off some styling */\n",
       "    progress {\n",
       "        /* gets rid of default border in Firefox and Opera. */\n",
       "        border: none;\n",
       "        /* Needs to be in here for Safari polyfill so background images work as expected. */\n",
       "        background-size: auto;\n",
       "    }\n",
       "    .progress-bar-interrupted, .progress-bar-interrupted::-webkit-progress-bar {\n",
       "        background: #F44336;\n",
       "    }\n",
       "</style>\n"
      ],
      "text/plain": [
       "<IPython.core.display.HTML object>"
      ]
     },
     "metadata": {},
     "output_type": "display_data"
    },
    {
     "data": {
      "text/html": [],
      "text/plain": [
       "<IPython.core.display.HTML object>"
      ]
     },
     "metadata": {},
     "output_type": "display_data"
    },
    {
     "name": "stdout",
     "output_type": "stream",
     "text": [
      "this is the final results Activity: {'Dead': 0.0} \n",
      "this is the final results Activity: {'Dead': 0.0, 'Non-dead': 0.0} \n",
      "this is the final results Activity: {'Dead': 0.0, 'Non-dead': 0.0, 'Player_Activity': 100.0} \n"
     ]
    },
    {
     "data": {
      "text/html": [
       "\n",
       "<style>\n",
       "    /* Turns off some styling */\n",
       "    progress {\n",
       "        /* gets rid of default border in Firefox and Opera. */\n",
       "        border: none;\n",
       "        /* Needs to be in here for Safari polyfill so background images work as expected. */\n",
       "        background-size: auto;\n",
       "    }\n",
       "    .progress-bar-interrupted, .progress-bar-interrupted::-webkit-progress-bar {\n",
       "        background: #F44336;\n",
       "    }\n",
       "</style>\n"
      ],
      "text/plain": [
       "<IPython.core.display.HTML object>"
      ]
     },
     "metadata": {},
     "output_type": "display_data"
    },
    {
     "data": {
      "text/html": [],
      "text/plain": [
       "<IPython.core.display.HTML object>"
      ]
     },
     "metadata": {},
     "output_type": "display_data"
    },
    {
     "name": "stdout",
     "output_type": "stream",
     "text": [
      "this is the final results Activity: {'Dead': 0.007} \n",
      "this is the final results Activity: {'Dead': 0.007, 'Non-dead': 3.06} \n",
      "this is the final results Activity: {'Dead': 0.007, 'Non-dead': 3.06, 'Player_Activity': 96.934} \n"
     ]
    },
    {
     "data": {
      "text/html": [
       "\n",
       "<style>\n",
       "    /* Turns off some styling */\n",
       "    progress {\n",
       "        /* gets rid of default border in Firefox and Opera. */\n",
       "        border: none;\n",
       "        /* Needs to be in here for Safari polyfill so background images work as expected. */\n",
       "        background-size: auto;\n",
       "    }\n",
       "    .progress-bar-interrupted, .progress-bar-interrupted::-webkit-progress-bar {\n",
       "        background: #F44336;\n",
       "    }\n",
       "</style>\n"
      ],
      "text/plain": [
       "<IPython.core.display.HTML object>"
      ]
     },
     "metadata": {},
     "output_type": "display_data"
    },
    {
     "data": {
      "text/html": [],
      "text/plain": [
       "<IPython.core.display.HTML object>"
      ]
     },
     "metadata": {},
     "output_type": "display_data"
    },
    {
     "name": "stdout",
     "output_type": "stream",
     "text": [
      "this is the final results Activity: {'Dead': 0.001} \n",
      "this is the final results Activity: {'Dead': 0.001, 'Non-dead': 0.0} \n",
      "this is the final results Activity: {'Dead': 0.001, 'Non-dead': 0.0, 'Player_Activity': 99.999} \n"
     ]
    },
    {
     "data": {
      "text/html": [
       "\n",
       "<style>\n",
       "    /* Turns off some styling */\n",
       "    progress {\n",
       "        /* gets rid of default border in Firefox and Opera. */\n",
       "        border: none;\n",
       "        /* Needs to be in here for Safari polyfill so background images work as expected. */\n",
       "        background-size: auto;\n",
       "    }\n",
       "    .progress-bar-interrupted, .progress-bar-interrupted::-webkit-progress-bar {\n",
       "        background: #F44336;\n",
       "    }\n",
       "</style>\n"
      ],
      "text/plain": [
       "<IPython.core.display.HTML object>"
      ]
     },
     "metadata": {},
     "output_type": "display_data"
    },
    {
     "data": {
      "text/html": [],
      "text/plain": [
       "<IPython.core.display.HTML object>"
      ]
     },
     "metadata": {},
     "output_type": "display_data"
    },
    {
     "name": "stdout",
     "output_type": "stream",
     "text": [
      "this is the final results Activity: {'Dead': 0.0} \n",
      "this is the final results Activity: {'Dead': 0.0, 'Non-dead': 0.0} \n",
      "this is the final results Activity: {'Dead': 0.0, 'Non-dead': 0.0, 'Player_Activity': 100.0} \n"
     ]
    },
    {
     "data": {
      "text/html": [
       "\n",
       "<style>\n",
       "    /* Turns off some styling */\n",
       "    progress {\n",
       "        /* gets rid of default border in Firefox and Opera. */\n",
       "        border: none;\n",
       "        /* Needs to be in here for Safari polyfill so background images work as expected. */\n",
       "        background-size: auto;\n",
       "    }\n",
       "    .progress-bar-interrupted, .progress-bar-interrupted::-webkit-progress-bar {\n",
       "        background: #F44336;\n",
       "    }\n",
       "</style>\n"
      ],
      "text/plain": [
       "<IPython.core.display.HTML object>"
      ]
     },
     "metadata": {},
     "output_type": "display_data"
    },
    {
     "data": {
      "text/html": [],
      "text/plain": [
       "<IPython.core.display.HTML object>"
      ]
     },
     "metadata": {},
     "output_type": "display_data"
    },
    {
     "name": "stdout",
     "output_type": "stream",
     "text": [
      "this is the final results Activity: {'Dead': 1.484} \n",
      "this is the final results Activity: {'Dead': 1.484, 'Non-dead': 97.55} \n",
      "this is the final results Activity: {'Dead': 1.484, 'Non-dead': 97.55, 'Player_Activity': 0.966} \n"
     ]
    },
    {
     "data": {
      "text/html": [
       "\n",
       "<style>\n",
       "    /* Turns off some styling */\n",
       "    progress {\n",
       "        /* gets rid of default border in Firefox and Opera. */\n",
       "        border: none;\n",
       "        /* Needs to be in here for Safari polyfill so background images work as expected. */\n",
       "        background-size: auto;\n",
       "    }\n",
       "    .progress-bar-interrupted, .progress-bar-interrupted::-webkit-progress-bar {\n",
       "        background: #F44336;\n",
       "    }\n",
       "</style>\n"
      ],
      "text/plain": [
       "<IPython.core.display.HTML object>"
      ]
     },
     "metadata": {},
     "output_type": "display_data"
    },
    {
     "data": {
      "text/html": [],
      "text/plain": [
       "<IPython.core.display.HTML object>"
      ]
     },
     "metadata": {},
     "output_type": "display_data"
    },
    {
     "name": "stdout",
     "output_type": "stream",
     "text": [
      "this is the final results Activity: {'Dead': 82.152} \n",
      "this is the final results Activity: {'Dead': 82.152, 'Non-dead': 0.0} \n",
      "this is the final results Activity: {'Dead': 82.152, 'Non-dead': 0.0, 'Player_Activity': 17.848} \n"
     ]
    },
    {
     "data": {
      "text/html": [
       "\n",
       "<style>\n",
       "    /* Turns off some styling */\n",
       "    progress {\n",
       "        /* gets rid of default border in Firefox and Opera. */\n",
       "        border: none;\n",
       "        /* Needs to be in here for Safari polyfill so background images work as expected. */\n",
       "        background-size: auto;\n",
       "    }\n",
       "    .progress-bar-interrupted, .progress-bar-interrupted::-webkit-progress-bar {\n",
       "        background: #F44336;\n",
       "    }\n",
       "</style>\n"
      ],
      "text/plain": [
       "<IPython.core.display.HTML object>"
      ]
     },
     "metadata": {},
     "output_type": "display_data"
    },
    {
     "data": {
      "text/html": [],
      "text/plain": [
       "<IPython.core.display.HTML object>"
      ]
     },
     "metadata": {},
     "output_type": "display_data"
    },
    {
     "name": "stdout",
     "output_type": "stream",
     "text": [
      "this is the final results Activity: {'Dead': 0.363} \n",
      "this is the final results Activity: {'Dead': 0.363, 'Non-dead': 91.095} \n",
      "this is the final results Activity: {'Dead': 0.363, 'Non-dead': 91.095, 'Player_Activity': 8.542} \n"
     ]
    },
    {
     "data": {
      "text/html": [
       "\n",
       "<style>\n",
       "    /* Turns off some styling */\n",
       "    progress {\n",
       "        /* gets rid of default border in Firefox and Opera. */\n",
       "        border: none;\n",
       "        /* Needs to be in here for Safari polyfill so background images work as expected. */\n",
       "        background-size: auto;\n",
       "    }\n",
       "    .progress-bar-interrupted, .progress-bar-interrupted::-webkit-progress-bar {\n",
       "        background: #F44336;\n",
       "    }\n",
       "</style>\n"
      ],
      "text/plain": [
       "<IPython.core.display.HTML object>"
      ]
     },
     "metadata": {},
     "output_type": "display_data"
    },
    {
     "data": {
      "text/html": [],
      "text/plain": [
       "<IPython.core.display.HTML object>"
      ]
     },
     "metadata": {},
     "output_type": "display_data"
    },
    {
     "name": "stdout",
     "output_type": "stream",
     "text": [
      "this is the final results Activity: {'Dead': 0.0} \n",
      "this is the final results Activity: {'Dead': 0.0, 'Non-dead': 0.0} \n",
      "this is the final results Activity: {'Dead': 0.0, 'Non-dead': 0.0, 'Player_Activity': 100.0} \n"
     ]
    },
    {
     "data": {
      "text/html": [
       "\n",
       "<style>\n",
       "    /* Turns off some styling */\n",
       "    progress {\n",
       "        /* gets rid of default border in Firefox and Opera. */\n",
       "        border: none;\n",
       "        /* Needs to be in here for Safari polyfill so background images work as expected. */\n",
       "        background-size: auto;\n",
       "    }\n",
       "    .progress-bar-interrupted, .progress-bar-interrupted::-webkit-progress-bar {\n",
       "        background: #F44336;\n",
       "    }\n",
       "</style>\n"
      ],
      "text/plain": [
       "<IPython.core.display.HTML object>"
      ]
     },
     "metadata": {},
     "output_type": "display_data"
    },
    {
     "data": {
      "text/html": [],
      "text/plain": [
       "<IPython.core.display.HTML object>"
      ]
     },
     "metadata": {},
     "output_type": "display_data"
    },
    {
     "name": "stdout",
     "output_type": "stream",
     "text": [
      "this is the final results Activity: {'Dead': 99.943} \n",
      "this is the final results Activity: {'Dead': 99.943, 'Non-dead': 0.0} \n",
      "this is the final results Activity: {'Dead': 99.943, 'Non-dead': 0.0, 'Player_Activity': 0.057} \n"
     ]
    },
    {
     "data": {
      "text/html": [
       "\n",
       "<style>\n",
       "    /* Turns off some styling */\n",
       "    progress {\n",
       "        /* gets rid of default border in Firefox and Opera. */\n",
       "        border: none;\n",
       "        /* Needs to be in here for Safari polyfill so background images work as expected. */\n",
       "        background-size: auto;\n",
       "    }\n",
       "    .progress-bar-interrupted, .progress-bar-interrupted::-webkit-progress-bar {\n",
       "        background: #F44336;\n",
       "    }\n",
       "</style>\n"
      ],
      "text/plain": [
       "<IPython.core.display.HTML object>"
      ]
     },
     "metadata": {},
     "output_type": "display_data"
    },
    {
     "data": {
      "text/html": [],
      "text/plain": [
       "<IPython.core.display.HTML object>"
      ]
     },
     "metadata": {},
     "output_type": "display_data"
    },
    {
     "name": "stdout",
     "output_type": "stream",
     "text": [
      "this is the final results Activity: {'Dead': 1.158} \n",
      "this is the final results Activity: {'Dead': 1.158, 'Non-dead': 0.0} \n",
      "this is the final results Activity: {'Dead': 1.158, 'Non-dead': 0.0, 'Player_Activity': 98.842} \n"
     ]
    },
    {
     "data": {
      "text/html": [
       "\n",
       "<style>\n",
       "    /* Turns off some styling */\n",
       "    progress {\n",
       "        /* gets rid of default border in Firefox and Opera. */\n",
       "        border: none;\n",
       "        /* Needs to be in here for Safari polyfill so background images work as expected. */\n",
       "        background-size: auto;\n",
       "    }\n",
       "    .progress-bar-interrupted, .progress-bar-interrupted::-webkit-progress-bar {\n",
       "        background: #F44336;\n",
       "    }\n",
       "</style>\n"
      ],
      "text/plain": [
       "<IPython.core.display.HTML object>"
      ]
     },
     "metadata": {},
     "output_type": "display_data"
    },
    {
     "data": {
      "text/html": [],
      "text/plain": [
       "<IPython.core.display.HTML object>"
      ]
     },
     "metadata": {},
     "output_type": "display_data"
    },
    {
     "name": "stdout",
     "output_type": "stream",
     "text": [
      "this is the final results Activity: {'Dead': 0.094} \n",
      "this is the final results Activity: {'Dead': 0.094, 'Non-dead': 99.906} \n",
      "this is the final results Activity: {'Dead': 0.094, 'Non-dead': 99.906, 'Player_Activity': 0.0} \n"
     ]
    },
    {
     "data": {
      "text/html": [
       "\n",
       "<style>\n",
       "    /* Turns off some styling */\n",
       "    progress {\n",
       "        /* gets rid of default border in Firefox and Opera. */\n",
       "        border: none;\n",
       "        /* Needs to be in here for Safari polyfill so background images work as expected. */\n",
       "        background-size: auto;\n",
       "    }\n",
       "    .progress-bar-interrupted, .progress-bar-interrupted::-webkit-progress-bar {\n",
       "        background: #F44336;\n",
       "    }\n",
       "</style>\n"
      ],
      "text/plain": [
       "<IPython.core.display.HTML object>"
      ]
     },
     "metadata": {},
     "output_type": "display_data"
    },
    {
     "data": {
      "text/html": [],
      "text/plain": [
       "<IPython.core.display.HTML object>"
      ]
     },
     "metadata": {},
     "output_type": "display_data"
    },
    {
     "name": "stdout",
     "output_type": "stream",
     "text": [
      "this is the final results Activity: {'Dead': 0.0} \n",
      "this is the final results Activity: {'Dead': 0.0, 'Non-dead': 100.0} \n",
      "this is the final results Activity: {'Dead': 0.0, 'Non-dead': 100.0, 'Player_Activity': 0.0} \n"
     ]
    },
    {
     "data": {
      "text/html": [
       "\n",
       "<style>\n",
       "    /* Turns off some styling */\n",
       "    progress {\n",
       "        /* gets rid of default border in Firefox and Opera. */\n",
       "        border: none;\n",
       "        /* Needs to be in here for Safari polyfill so background images work as expected. */\n",
       "        background-size: auto;\n",
       "    }\n",
       "    .progress-bar-interrupted, .progress-bar-interrupted::-webkit-progress-bar {\n",
       "        background: #F44336;\n",
       "    }\n",
       "</style>\n"
      ],
      "text/plain": [
       "<IPython.core.display.HTML object>"
      ]
     },
     "metadata": {},
     "output_type": "display_data"
    },
    {
     "data": {
      "text/html": [],
      "text/plain": [
       "<IPython.core.display.HTML object>"
      ]
     },
     "metadata": {},
     "output_type": "display_data"
    },
    {
     "name": "stdout",
     "output_type": "stream",
     "text": [
      "this is the final results Activity: {'Dead': 99.999} \n",
      "this is the final results Activity: {'Dead': 99.999, 'Non-dead': 0.0} \n",
      "this is the final results Activity: {'Dead': 99.999, 'Non-dead': 0.0, 'Player_Activity': 0.001} \n"
     ]
    },
    {
     "data": {
      "text/html": [
       "\n",
       "<style>\n",
       "    /* Turns off some styling */\n",
       "    progress {\n",
       "        /* gets rid of default border in Firefox and Opera. */\n",
       "        border: none;\n",
       "        /* Needs to be in here for Safari polyfill so background images work as expected. */\n",
       "        background-size: auto;\n",
       "    }\n",
       "    .progress-bar-interrupted, .progress-bar-interrupted::-webkit-progress-bar {\n",
       "        background: #F44336;\n",
       "    }\n",
       "</style>\n"
      ],
      "text/plain": [
       "<IPython.core.display.HTML object>"
      ]
     },
     "metadata": {},
     "output_type": "display_data"
    },
    {
     "data": {
      "text/html": [],
      "text/plain": [
       "<IPython.core.display.HTML object>"
      ]
     },
     "metadata": {},
     "output_type": "display_data"
    },
    {
     "name": "stdout",
     "output_type": "stream",
     "text": [
      "this is the final results Activity: {'Dead': 100.0} \n",
      "this is the final results Activity: {'Dead': 100.0, 'Non-dead': 0.0} \n",
      "this is the final results Activity: {'Dead': 100.0, 'Non-dead': 0.0, 'Player_Activity': 0.0} \n"
     ]
    },
    {
     "data": {
      "text/html": [
       "\n",
       "<style>\n",
       "    /* Turns off some styling */\n",
       "    progress {\n",
       "        /* gets rid of default border in Firefox and Opera. */\n",
       "        border: none;\n",
       "        /* Needs to be in here for Safari polyfill so background images work as expected. */\n",
       "        background-size: auto;\n",
       "    }\n",
       "    .progress-bar-interrupted, .progress-bar-interrupted::-webkit-progress-bar {\n",
       "        background: #F44336;\n",
       "    }\n",
       "</style>\n"
      ],
      "text/plain": [
       "<IPython.core.display.HTML object>"
      ]
     },
     "metadata": {},
     "output_type": "display_data"
    },
    {
     "data": {
      "text/html": [],
      "text/plain": [
       "<IPython.core.display.HTML object>"
      ]
     },
     "metadata": {},
     "output_type": "display_data"
    },
    {
     "name": "stdout",
     "output_type": "stream",
     "text": [
      "this is the final results Activity: {'Dead': 0.009} \n",
      "this is the final results Activity: {'Dead': 0.009, 'Non-dead': 0.001} \n",
      "this is the final results Activity: {'Dead': 0.009, 'Non-dead': 0.001, 'Player_Activity': 99.991} \n"
     ]
    },
    {
     "data": {
      "text/html": [
       "\n",
       "<style>\n",
       "    /* Turns off some styling */\n",
       "    progress {\n",
       "        /* gets rid of default border in Firefox and Opera. */\n",
       "        border: none;\n",
       "        /* Needs to be in here for Safari polyfill so background images work as expected. */\n",
       "        background-size: auto;\n",
       "    }\n",
       "    .progress-bar-interrupted, .progress-bar-interrupted::-webkit-progress-bar {\n",
       "        background: #F44336;\n",
       "    }\n",
       "</style>\n"
      ],
      "text/plain": [
       "<IPython.core.display.HTML object>"
      ]
     },
     "metadata": {},
     "output_type": "display_data"
    },
    {
     "data": {
      "text/html": [],
      "text/plain": [
       "<IPython.core.display.HTML object>"
      ]
     },
     "metadata": {},
     "output_type": "display_data"
    },
    {
     "name": "stdout",
     "output_type": "stream",
     "text": [
      "this is the final results Activity: {'Dead': 52.024} \n",
      "this is the final results Activity: {'Dead': 52.024, 'Non-dead': 0.0} \n",
      "this is the final results Activity: {'Dead': 52.024, 'Non-dead': 0.0, 'Player_Activity': 47.976} \n"
     ]
    },
    {
     "data": {
      "text/html": [
       "\n",
       "<style>\n",
       "    /* Turns off some styling */\n",
       "    progress {\n",
       "        /* gets rid of default border in Firefox and Opera. */\n",
       "        border: none;\n",
       "        /* Needs to be in here for Safari polyfill so background images work as expected. */\n",
       "        background-size: auto;\n",
       "    }\n",
       "    .progress-bar-interrupted, .progress-bar-interrupted::-webkit-progress-bar {\n",
       "        background: #F44336;\n",
       "    }\n",
       "</style>\n"
      ],
      "text/plain": [
       "<IPython.core.display.HTML object>"
      ]
     },
     "metadata": {},
     "output_type": "display_data"
    },
    {
     "data": {
      "text/html": [],
      "text/plain": [
       "<IPython.core.display.HTML object>"
      ]
     },
     "metadata": {},
     "output_type": "display_data"
    },
    {
     "name": "stdout",
     "output_type": "stream",
     "text": [
      "this is the final results Activity: {'Dead': 100.0} \n",
      "this is the final results Activity: {'Dead': 100.0, 'Non-dead': 0.0} \n",
      "this is the final results Activity: {'Dead': 100.0, 'Non-dead': 0.0, 'Player_Activity': 0.0} \n"
     ]
    },
    {
     "data": {
      "text/html": [
       "\n",
       "<style>\n",
       "    /* Turns off some styling */\n",
       "    progress {\n",
       "        /* gets rid of default border in Firefox and Opera. */\n",
       "        border: none;\n",
       "        /* Needs to be in here for Safari polyfill so background images work as expected. */\n",
       "        background-size: auto;\n",
       "    }\n",
       "    .progress-bar-interrupted, .progress-bar-interrupted::-webkit-progress-bar {\n",
       "        background: #F44336;\n",
       "    }\n",
       "</style>\n"
      ],
      "text/plain": [
       "<IPython.core.display.HTML object>"
      ]
     },
     "metadata": {},
     "output_type": "display_data"
    },
    {
     "data": {
      "text/html": [],
      "text/plain": [
       "<IPython.core.display.HTML object>"
      ]
     },
     "metadata": {},
     "output_type": "display_data"
    },
    {
     "name": "stdout",
     "output_type": "stream",
     "text": [
      "this is the final results Activity: {'Dead': 99.999} \n",
      "this is the final results Activity: {'Dead': 99.999, 'Non-dead': 0.0} \n",
      "this is the final results Activity: {'Dead': 99.999, 'Non-dead': 0.0, 'Player_Activity': 0.001} \n"
     ]
    },
    {
     "data": {
      "text/html": [
       "\n",
       "<style>\n",
       "    /* Turns off some styling */\n",
       "    progress {\n",
       "        /* gets rid of default border in Firefox and Opera. */\n",
       "        border: none;\n",
       "        /* Needs to be in here for Safari polyfill so background images work as expected. */\n",
       "        background-size: auto;\n",
       "    }\n",
       "    .progress-bar-interrupted, .progress-bar-interrupted::-webkit-progress-bar {\n",
       "        background: #F44336;\n",
       "    }\n",
       "</style>\n"
      ],
      "text/plain": [
       "<IPython.core.display.HTML object>"
      ]
     },
     "metadata": {},
     "output_type": "display_data"
    },
    {
     "data": {
      "text/html": [],
      "text/plain": [
       "<IPython.core.display.HTML object>"
      ]
     },
     "metadata": {},
     "output_type": "display_data"
    },
    {
     "name": "stdout",
     "output_type": "stream",
     "text": [
      "this is the final results Activity: {'Dead': 99.998} \n",
      "this is the final results Activity: {'Dead': 99.998, 'Non-dead': 0.0} \n",
      "this is the final results Activity: {'Dead': 99.998, 'Non-dead': 0.0, 'Player_Activity': 0.002} \n"
     ]
    },
    {
     "data": {
      "text/html": [
       "\n",
       "<style>\n",
       "    /* Turns off some styling */\n",
       "    progress {\n",
       "        /* gets rid of default border in Firefox and Opera. */\n",
       "        border: none;\n",
       "        /* Needs to be in here for Safari polyfill so background images work as expected. */\n",
       "        background-size: auto;\n",
       "    }\n",
       "    .progress-bar-interrupted, .progress-bar-interrupted::-webkit-progress-bar {\n",
       "        background: #F44336;\n",
       "    }\n",
       "</style>\n"
      ],
      "text/plain": [
       "<IPython.core.display.HTML object>"
      ]
     },
     "metadata": {},
     "output_type": "display_data"
    },
    {
     "data": {
      "text/html": [],
      "text/plain": [
       "<IPython.core.display.HTML object>"
      ]
     },
     "metadata": {},
     "output_type": "display_data"
    },
    {
     "name": "stdout",
     "output_type": "stream",
     "text": [
      "this is the final results Activity: {'Dead': 91.837} \n",
      "this is the final results Activity: {'Dead': 91.837, 'Non-dead': 8.163} \n",
      "this is the final results Activity: {'Dead': 91.837, 'Non-dead': 8.163, 'Player_Activity': 0.0} \n"
     ]
    },
    {
     "data": {
      "text/html": [
       "\n",
       "<style>\n",
       "    /* Turns off some styling */\n",
       "    progress {\n",
       "        /* gets rid of default border in Firefox and Opera. */\n",
       "        border: none;\n",
       "        /* Needs to be in here for Safari polyfill so background images work as expected. */\n",
       "        background-size: auto;\n",
       "    }\n",
       "    .progress-bar-interrupted, .progress-bar-interrupted::-webkit-progress-bar {\n",
       "        background: #F44336;\n",
       "    }\n",
       "</style>\n"
      ],
      "text/plain": [
       "<IPython.core.display.HTML object>"
      ]
     },
     "metadata": {},
     "output_type": "display_data"
    },
    {
     "data": {
      "text/html": [],
      "text/plain": [
       "<IPython.core.display.HTML object>"
      ]
     },
     "metadata": {},
     "output_type": "display_data"
    },
    {
     "name": "stdout",
     "output_type": "stream",
     "text": [
      "this is the final results Activity: {'Dead': 99.95} \n",
      "this is the final results Activity: {'Dead': 99.95, 'Non-dead': 0.05} \n",
      "this is the final results Activity: {'Dead': 99.95, 'Non-dead': 0.05, 'Player_Activity': 0.0} \n"
     ]
    },
    {
     "data": {
      "text/html": [
       "\n",
       "<style>\n",
       "    /* Turns off some styling */\n",
       "    progress {\n",
       "        /* gets rid of default border in Firefox and Opera. */\n",
       "        border: none;\n",
       "        /* Needs to be in here for Safari polyfill so background images work as expected. */\n",
       "        background-size: auto;\n",
       "    }\n",
       "    .progress-bar-interrupted, .progress-bar-interrupted::-webkit-progress-bar {\n",
       "        background: #F44336;\n",
       "    }\n",
       "</style>\n"
      ],
      "text/plain": [
       "<IPython.core.display.HTML object>"
      ]
     },
     "metadata": {},
     "output_type": "display_data"
    },
    {
     "data": {
      "text/html": [],
      "text/plain": [
       "<IPython.core.display.HTML object>"
      ]
     },
     "metadata": {},
     "output_type": "display_data"
    },
    {
     "name": "stdout",
     "output_type": "stream",
     "text": [
      "this is the final results Activity: {'Dead': 99.992} \n",
      "this is the final results Activity: {'Dead': 99.992, 'Non-dead': 0.008} \n",
      "this is the final results Activity: {'Dead': 99.992, 'Non-dead': 0.008, 'Player_Activity': 0.0} \n"
     ]
    },
    {
     "data": {
      "text/html": [
       "\n",
       "<style>\n",
       "    /* Turns off some styling */\n",
       "    progress {\n",
       "        /* gets rid of default border in Firefox and Opera. */\n",
       "        border: none;\n",
       "        /* Needs to be in here for Safari polyfill so background images work as expected. */\n",
       "        background-size: auto;\n",
       "    }\n",
       "    .progress-bar-interrupted, .progress-bar-interrupted::-webkit-progress-bar {\n",
       "        background: #F44336;\n",
       "    }\n",
       "</style>\n"
      ],
      "text/plain": [
       "<IPython.core.display.HTML object>"
      ]
     },
     "metadata": {},
     "output_type": "display_data"
    },
    {
     "data": {
      "text/html": [],
      "text/plain": [
       "<IPython.core.display.HTML object>"
      ]
     },
     "metadata": {},
     "output_type": "display_data"
    },
    {
     "name": "stdout",
     "output_type": "stream",
     "text": [
      "this is the final results Activity: {'Dead': 99.308} \n",
      "this is the final results Activity: {'Dead': 99.308, 'Non-dead': 0.692} \n",
      "this is the final results Activity: {'Dead': 99.308, 'Non-dead': 0.692, 'Player_Activity': 0.0} \n"
     ]
    },
    {
     "data": {
      "text/html": [
       "\n",
       "<style>\n",
       "    /* Turns off some styling */\n",
       "    progress {\n",
       "        /* gets rid of default border in Firefox and Opera. */\n",
       "        border: none;\n",
       "        /* Needs to be in here for Safari polyfill so background images work as expected. */\n",
       "        background-size: auto;\n",
       "    }\n",
       "    .progress-bar-interrupted, .progress-bar-interrupted::-webkit-progress-bar {\n",
       "        background: #F44336;\n",
       "    }\n",
       "</style>\n"
      ],
      "text/plain": [
       "<IPython.core.display.HTML object>"
      ]
     },
     "metadata": {},
     "output_type": "display_data"
    },
    {
     "data": {
      "text/html": [],
      "text/plain": [
       "<IPython.core.display.HTML object>"
      ]
     },
     "metadata": {},
     "output_type": "display_data"
    },
    {
     "name": "stdout",
     "output_type": "stream",
     "text": [
      "this is the final results Activity: {'Dead': 99.92} \n",
      "this is the final results Activity: {'Dead': 99.92, 'Non-dead': 0.08} \n",
      "this is the final results Activity: {'Dead': 99.92, 'Non-dead': 0.08, 'Player_Activity': 0.0} \n"
     ]
    },
    {
     "data": {
      "text/html": [
       "\n",
       "<style>\n",
       "    /* Turns off some styling */\n",
       "    progress {\n",
       "        /* gets rid of default border in Firefox and Opera. */\n",
       "        border: none;\n",
       "        /* Needs to be in here for Safari polyfill so background images work as expected. */\n",
       "        background-size: auto;\n",
       "    }\n",
       "    .progress-bar-interrupted, .progress-bar-interrupted::-webkit-progress-bar {\n",
       "        background: #F44336;\n",
       "    }\n",
       "</style>\n"
      ],
      "text/plain": [
       "<IPython.core.display.HTML object>"
      ]
     },
     "metadata": {},
     "output_type": "display_data"
    },
    {
     "data": {
      "text/html": [],
      "text/plain": [
       "<IPython.core.display.HTML object>"
      ]
     },
     "metadata": {},
     "output_type": "display_data"
    },
    {
     "name": "stdout",
     "output_type": "stream",
     "text": [
      "this is the final results Activity: {'Dead': 99.78} \n",
      "this is the final results Activity: {'Dead': 99.78, 'Non-dead': 0.22} \n",
      "this is the final results Activity: {'Dead': 99.78, 'Non-dead': 0.22, 'Player_Activity': 0.0} \n"
     ]
    },
    {
     "data": {
      "text/html": [
       "\n",
       "<style>\n",
       "    /* Turns off some styling */\n",
       "    progress {\n",
       "        /* gets rid of default border in Firefox and Opera. */\n",
       "        border: none;\n",
       "        /* Needs to be in here for Safari polyfill so background images work as expected. */\n",
       "        background-size: auto;\n",
       "    }\n",
       "    .progress-bar-interrupted, .progress-bar-interrupted::-webkit-progress-bar {\n",
       "        background: #F44336;\n",
       "    }\n",
       "</style>\n"
      ],
      "text/plain": [
       "<IPython.core.display.HTML object>"
      ]
     },
     "metadata": {},
     "output_type": "display_data"
    },
    {
     "data": {
      "text/html": [],
      "text/plain": [
       "<IPython.core.display.HTML object>"
      ]
     },
     "metadata": {},
     "output_type": "display_data"
    },
    {
     "name": "stdout",
     "output_type": "stream",
     "text": [
      "this is the final results Activity: {'Dead': 99.516} \n",
      "this is the final results Activity: {'Dead': 99.516, 'Non-dead': 0.482} \n",
      "this is the final results Activity: {'Dead': 99.516, 'Non-dead': 0.482, 'Player_Activity': 0.002} \n"
     ]
    },
    {
     "data": {
      "text/html": [
       "\n",
       "<style>\n",
       "    /* Turns off some styling */\n",
       "    progress {\n",
       "        /* gets rid of default border in Firefox and Opera. */\n",
       "        border: none;\n",
       "        /* Needs to be in here for Safari polyfill so background images work as expected. */\n",
       "        background-size: auto;\n",
       "    }\n",
       "    .progress-bar-interrupted, .progress-bar-interrupted::-webkit-progress-bar {\n",
       "        background: #F44336;\n",
       "    }\n",
       "</style>\n"
      ],
      "text/plain": [
       "<IPython.core.display.HTML object>"
      ]
     },
     "metadata": {},
     "output_type": "display_data"
    },
    {
     "data": {
      "text/html": [],
      "text/plain": [
       "<IPython.core.display.HTML object>"
      ]
     },
     "metadata": {},
     "output_type": "display_data"
    },
    {
     "name": "stdout",
     "output_type": "stream",
     "text": [
      "this is the final results Activity: {'Dead': 99.197} \n",
      "this is the final results Activity: {'Dead': 99.197, 'Non-dead': 0.709} \n",
      "this is the final results Activity: {'Dead': 99.197, 'Non-dead': 0.709, 'Player_Activity': 0.094} \n"
     ]
    },
    {
     "data": {
      "text/html": [
       "\n",
       "<style>\n",
       "    /* Turns off some styling */\n",
       "    progress {\n",
       "        /* gets rid of default border in Firefox and Opera. */\n",
       "        border: none;\n",
       "        /* Needs to be in here for Safari polyfill so background images work as expected. */\n",
       "        background-size: auto;\n",
       "    }\n",
       "    .progress-bar-interrupted, .progress-bar-interrupted::-webkit-progress-bar {\n",
       "        background: #F44336;\n",
       "    }\n",
       "</style>\n"
      ],
      "text/plain": [
       "<IPython.core.display.HTML object>"
      ]
     },
     "metadata": {},
     "output_type": "display_data"
    },
    {
     "data": {
      "text/html": [],
      "text/plain": [
       "<IPython.core.display.HTML object>"
      ]
     },
     "metadata": {},
     "output_type": "display_data"
    },
    {
     "name": "stdout",
     "output_type": "stream",
     "text": [
      "this is the final results Activity: {'Dead': 92.87} \n",
      "this is the final results Activity: {'Dead': 92.87, 'Non-dead': 7.129} \n",
      "this is the final results Activity: {'Dead': 92.87, 'Non-dead': 7.129, 'Player_Activity': 0.0} \n"
     ]
    },
    {
     "data": {
      "text/html": [
       "\n",
       "<style>\n",
       "    /* Turns off some styling */\n",
       "    progress {\n",
       "        /* gets rid of default border in Firefox and Opera. */\n",
       "        border: none;\n",
       "        /* Needs to be in here for Safari polyfill so background images work as expected. */\n",
       "        background-size: auto;\n",
       "    }\n",
       "    .progress-bar-interrupted, .progress-bar-interrupted::-webkit-progress-bar {\n",
       "        background: #F44336;\n",
       "    }\n",
       "</style>\n"
      ],
      "text/plain": [
       "<IPython.core.display.HTML object>"
      ]
     },
     "metadata": {},
     "output_type": "display_data"
    },
    {
     "data": {
      "text/html": [],
      "text/plain": [
       "<IPython.core.display.HTML object>"
      ]
     },
     "metadata": {},
     "output_type": "display_data"
    },
    {
     "name": "stdout",
     "output_type": "stream",
     "text": [
      "this is the final results Activity: {'Dead': 94.349} \n",
      "this is the final results Activity: {'Dead': 94.349, 'Non-dead': 5.651} \n",
      "this is the final results Activity: {'Dead': 94.349, 'Non-dead': 5.651, 'Player_Activity': 0.0} \n"
     ]
    },
    {
     "data": {
      "text/html": [
       "\n",
       "<style>\n",
       "    /* Turns off some styling */\n",
       "    progress {\n",
       "        /* gets rid of default border in Firefox and Opera. */\n",
       "        border: none;\n",
       "        /* Needs to be in here for Safari polyfill so background images work as expected. */\n",
       "        background-size: auto;\n",
       "    }\n",
       "    .progress-bar-interrupted, .progress-bar-interrupted::-webkit-progress-bar {\n",
       "        background: #F44336;\n",
       "    }\n",
       "</style>\n"
      ],
      "text/plain": [
       "<IPython.core.display.HTML object>"
      ]
     },
     "metadata": {},
     "output_type": "display_data"
    },
    {
     "data": {
      "text/html": [],
      "text/plain": [
       "<IPython.core.display.HTML object>"
      ]
     },
     "metadata": {},
     "output_type": "display_data"
    },
    {
     "name": "stdout",
     "output_type": "stream",
     "text": [
      "this is the final results Activity: {'Dead': 91.272} \n",
      "this is the final results Activity: {'Dead': 91.272, 'Non-dead': 8.728} \n",
      "this is the final results Activity: {'Dead': 91.272, 'Non-dead': 8.728, 'Player_Activity': 0.0} \n"
     ]
    },
    {
     "data": {
      "text/html": [
       "\n",
       "<style>\n",
       "    /* Turns off some styling */\n",
       "    progress {\n",
       "        /* gets rid of default border in Firefox and Opera. */\n",
       "        border: none;\n",
       "        /* Needs to be in here for Safari polyfill so background images work as expected. */\n",
       "        background-size: auto;\n",
       "    }\n",
       "    .progress-bar-interrupted, .progress-bar-interrupted::-webkit-progress-bar {\n",
       "        background: #F44336;\n",
       "    }\n",
       "</style>\n"
      ],
      "text/plain": [
       "<IPython.core.display.HTML object>"
      ]
     },
     "metadata": {},
     "output_type": "display_data"
    },
    {
     "data": {
      "text/html": [],
      "text/plain": [
       "<IPython.core.display.HTML object>"
      ]
     },
     "metadata": {},
     "output_type": "display_data"
    },
    {
     "name": "stdout",
     "output_type": "stream",
     "text": [
      "this is the final results Activity: {'Dead': 0.001} \n",
      "this is the final results Activity: {'Dead': 0.001, 'Non-dead': 0.017} \n",
      "this is the final results Activity: {'Dead': 0.001, 'Non-dead': 0.017, 'Player_Activity': 99.982} \n"
     ]
    },
    {
     "data": {
      "text/html": [
       "\n",
       "<style>\n",
       "    /* Turns off some styling */\n",
       "    progress {\n",
       "        /* gets rid of default border in Firefox and Opera. */\n",
       "        border: none;\n",
       "        /* Needs to be in here for Safari polyfill so background images work as expected. */\n",
       "        background-size: auto;\n",
       "    }\n",
       "    .progress-bar-interrupted, .progress-bar-interrupted::-webkit-progress-bar {\n",
       "        background: #F44336;\n",
       "    }\n",
       "</style>\n"
      ],
      "text/plain": [
       "<IPython.core.display.HTML object>"
      ]
     },
     "metadata": {},
     "output_type": "display_data"
    },
    {
     "data": {
      "text/html": [],
      "text/plain": [
       "<IPython.core.display.HTML object>"
      ]
     },
     "metadata": {},
     "output_type": "display_data"
    },
    {
     "name": "stdout",
     "output_type": "stream",
     "text": [
      "this is the final results Activity: {'Dead': 0.028} \n",
      "this is the final results Activity: {'Dead': 0.028, 'Non-dead': 0.532} \n",
      "this is the final results Activity: {'Dead': 0.028, 'Non-dead': 0.532, 'Player_Activity': 99.44} \n"
     ]
    },
    {
     "data": {
      "text/html": [
       "\n",
       "<style>\n",
       "    /* Turns off some styling */\n",
       "    progress {\n",
       "        /* gets rid of default border in Firefox and Opera. */\n",
       "        border: none;\n",
       "        /* Needs to be in here for Safari polyfill so background images work as expected. */\n",
       "        background-size: auto;\n",
       "    }\n",
       "    .progress-bar-interrupted, .progress-bar-interrupted::-webkit-progress-bar {\n",
       "        background: #F44336;\n",
       "    }\n",
       "</style>\n"
      ],
      "text/plain": [
       "<IPython.core.display.HTML object>"
      ]
     },
     "metadata": {},
     "output_type": "display_data"
    },
    {
     "data": {
      "text/html": [],
      "text/plain": [
       "<IPython.core.display.HTML object>"
      ]
     },
     "metadata": {},
     "output_type": "display_data"
    },
    {
     "name": "stdout",
     "output_type": "stream",
     "text": [
      "this is the final results Activity: {'Dead': 0.83} \n",
      "this is the final results Activity: {'Dead': 0.83, 'Non-dead': 0.224} \n",
      "this is the final results Activity: {'Dead': 0.83, 'Non-dead': 0.224, 'Player_Activity': 98.946} \n"
     ]
    },
    {
     "data": {
      "text/html": [
       "\n",
       "<style>\n",
       "    /* Turns off some styling */\n",
       "    progress {\n",
       "        /* gets rid of default border in Firefox and Opera. */\n",
       "        border: none;\n",
       "        /* Needs to be in here for Safari polyfill so background images work as expected. */\n",
       "        background-size: auto;\n",
       "    }\n",
       "    .progress-bar-interrupted, .progress-bar-interrupted::-webkit-progress-bar {\n",
       "        background: #F44336;\n",
       "    }\n",
       "</style>\n"
      ],
      "text/plain": [
       "<IPython.core.display.HTML object>"
      ]
     },
     "metadata": {},
     "output_type": "display_data"
    },
    {
     "data": {
      "text/html": [],
      "text/plain": [
       "<IPython.core.display.HTML object>"
      ]
     },
     "metadata": {},
     "output_type": "display_data"
    },
    {
     "name": "stdout",
     "output_type": "stream",
     "text": [
      "this is the final results Activity: {'Dead': 0.452} \n",
      "this is the final results Activity: {'Dead': 0.452, 'Non-dead': 99.524} \n",
      "this is the final results Activity: {'Dead': 0.452, 'Non-dead': 99.524, 'Player_Activity': 0.024} \n"
     ]
    },
    {
     "data": {
      "text/html": [
       "\n",
       "<style>\n",
       "    /* Turns off some styling */\n",
       "    progress {\n",
       "        /* gets rid of default border in Firefox and Opera. */\n",
       "        border: none;\n",
       "        /* Needs to be in here for Safari polyfill so background images work as expected. */\n",
       "        background-size: auto;\n",
       "    }\n",
       "    .progress-bar-interrupted, .progress-bar-interrupted::-webkit-progress-bar {\n",
       "        background: #F44336;\n",
       "    }\n",
       "</style>\n"
      ],
      "text/plain": [
       "<IPython.core.display.HTML object>"
      ]
     },
     "metadata": {},
     "output_type": "display_data"
    },
    {
     "data": {
      "text/html": [],
      "text/plain": [
       "<IPython.core.display.HTML object>"
      ]
     },
     "metadata": {},
     "output_type": "display_data"
    },
    {
     "name": "stdout",
     "output_type": "stream",
     "text": [
      "this is the final results Activity: {'Dead': 0.017} \n",
      "this is the final results Activity: {'Dead': 0.017, 'Non-dead': 99.983} \n",
      "this is the final results Activity: {'Dead': 0.017, 'Non-dead': 99.983, 'Player_Activity': 0.0} \n"
     ]
    },
    {
     "data": {
      "text/html": [
       "\n",
       "<style>\n",
       "    /* Turns off some styling */\n",
       "    progress {\n",
       "        /* gets rid of default border in Firefox and Opera. */\n",
       "        border: none;\n",
       "        /* Needs to be in here for Safari polyfill so background images work as expected. */\n",
       "        background-size: auto;\n",
       "    }\n",
       "    .progress-bar-interrupted, .progress-bar-interrupted::-webkit-progress-bar {\n",
       "        background: #F44336;\n",
       "    }\n",
       "</style>\n"
      ],
      "text/plain": [
       "<IPython.core.display.HTML object>"
      ]
     },
     "metadata": {},
     "output_type": "display_data"
    },
    {
     "data": {
      "text/html": [],
      "text/plain": [
       "<IPython.core.display.HTML object>"
      ]
     },
     "metadata": {},
     "output_type": "display_data"
    },
    {
     "name": "stdout",
     "output_type": "stream",
     "text": [
      "this is the final results Activity: {'Dead': 0.011} \n",
      "this is the final results Activity: {'Dead': 0.011, 'Non-dead': 99.989} \n",
      "this is the final results Activity: {'Dead': 0.011, 'Non-dead': 99.989, 'Player_Activity': 0.0} \n"
     ]
    },
    {
     "data": {
      "text/html": [
       "\n",
       "<style>\n",
       "    /* Turns off some styling */\n",
       "    progress {\n",
       "        /* gets rid of default border in Firefox and Opera. */\n",
       "        border: none;\n",
       "        /* Needs to be in here for Safari polyfill so background images work as expected. */\n",
       "        background-size: auto;\n",
       "    }\n",
       "    .progress-bar-interrupted, .progress-bar-interrupted::-webkit-progress-bar {\n",
       "        background: #F44336;\n",
       "    }\n",
       "</style>\n"
      ],
      "text/plain": [
       "<IPython.core.display.HTML object>"
      ]
     },
     "metadata": {},
     "output_type": "display_data"
    },
    {
     "data": {
      "text/html": [],
      "text/plain": [
       "<IPython.core.display.HTML object>"
      ]
     },
     "metadata": {},
     "output_type": "display_data"
    },
    {
     "name": "stdout",
     "output_type": "stream",
     "text": [
      "this is the final results Activity: {'Dead': 21.716} \n",
      "this is the final results Activity: {'Dead': 21.716, 'Non-dead': 78.204} \n",
      "this is the final results Activity: {'Dead': 21.716, 'Non-dead': 78.204, 'Player_Activity': 0.08} \n"
     ]
    },
    {
     "data": {
      "text/html": [
       "\n",
       "<style>\n",
       "    /* Turns off some styling */\n",
       "    progress {\n",
       "        /* gets rid of default border in Firefox and Opera. */\n",
       "        border: none;\n",
       "        /* Needs to be in here for Safari polyfill so background images work as expected. */\n",
       "        background-size: auto;\n",
       "    }\n",
       "    .progress-bar-interrupted, .progress-bar-interrupted::-webkit-progress-bar {\n",
       "        background: #F44336;\n",
       "    }\n",
       "</style>\n"
      ],
      "text/plain": [
       "<IPython.core.display.HTML object>"
      ]
     },
     "metadata": {},
     "output_type": "display_data"
    },
    {
     "data": {
      "text/html": [],
      "text/plain": [
       "<IPython.core.display.HTML object>"
      ]
     },
     "metadata": {},
     "output_type": "display_data"
    },
    {
     "name": "stdout",
     "output_type": "stream",
     "text": [
      "this is the final results Activity: {'Dead': 2.95} \n",
      "this is the final results Activity: {'Dead': 2.95, 'Non-dead': 95.956} \n",
      "this is the final results Activity: {'Dead': 2.95, 'Non-dead': 95.956, 'Player_Activity': 1.094} \n"
     ]
    },
    {
     "data": {
      "text/html": [
       "\n",
       "<style>\n",
       "    /* Turns off some styling */\n",
       "    progress {\n",
       "        /* gets rid of default border in Firefox and Opera. */\n",
       "        border: none;\n",
       "        /* Needs to be in here for Safari polyfill so background images work as expected. */\n",
       "        background-size: auto;\n",
       "    }\n",
       "    .progress-bar-interrupted, .progress-bar-interrupted::-webkit-progress-bar {\n",
       "        background: #F44336;\n",
       "    }\n",
       "</style>\n"
      ],
      "text/plain": [
       "<IPython.core.display.HTML object>"
      ]
     },
     "metadata": {},
     "output_type": "display_data"
    },
    {
     "data": {
      "text/html": [],
      "text/plain": [
       "<IPython.core.display.HTML object>"
      ]
     },
     "metadata": {},
     "output_type": "display_data"
    },
    {
     "name": "stdout",
     "output_type": "stream",
     "text": [
      "this is the final results Activity: {'Dead': 90.789} \n",
      "this is the final results Activity: {'Dead': 90.789, 'Non-dead': 5.922} \n",
      "this is the final results Activity: {'Dead': 90.789, 'Non-dead': 5.922, 'Player_Activity': 3.29} \n"
     ]
    },
    {
     "data": {
      "text/html": [
       "\n",
       "<style>\n",
       "    /* Turns off some styling */\n",
       "    progress {\n",
       "        /* gets rid of default border in Firefox and Opera. */\n",
       "        border: none;\n",
       "        /* Needs to be in here for Safari polyfill so background images work as expected. */\n",
       "        background-size: auto;\n",
       "    }\n",
       "    .progress-bar-interrupted, .progress-bar-interrupted::-webkit-progress-bar {\n",
       "        background: #F44336;\n",
       "    }\n",
       "</style>\n"
      ],
      "text/plain": [
       "<IPython.core.display.HTML object>"
      ]
     },
     "metadata": {},
     "output_type": "display_data"
    },
    {
     "data": {
      "text/html": [],
      "text/plain": [
       "<IPython.core.display.HTML object>"
      ]
     },
     "metadata": {},
     "output_type": "display_data"
    },
    {
     "name": "stdout",
     "output_type": "stream",
     "text": [
      "this is the final results Activity: {'Dead': 40.924} \n",
      "this is the final results Activity: {'Dead': 40.924, 'Non-dead': 5.731} \n",
      "this is the final results Activity: {'Dead': 40.924, 'Non-dead': 5.731, 'Player_Activity': 53.345} \n"
     ]
    },
    {
     "data": {
      "text/html": [
       "\n",
       "<style>\n",
       "    /* Turns off some styling */\n",
       "    progress {\n",
       "        /* gets rid of default border in Firefox and Opera. */\n",
       "        border: none;\n",
       "        /* Needs to be in here for Safari polyfill so background images work as expected. */\n",
       "        background-size: auto;\n",
       "    }\n",
       "    .progress-bar-interrupted, .progress-bar-interrupted::-webkit-progress-bar {\n",
       "        background: #F44336;\n",
       "    }\n",
       "</style>\n"
      ],
      "text/plain": [
       "<IPython.core.display.HTML object>"
      ]
     },
     "metadata": {},
     "output_type": "display_data"
    },
    {
     "data": {
      "text/html": [],
      "text/plain": [
       "<IPython.core.display.HTML object>"
      ]
     },
     "metadata": {},
     "output_type": "display_data"
    },
    {
     "name": "stdout",
     "output_type": "stream",
     "text": [
      "this is the final results Activity: {'Dead': 13.626} \n",
      "this is the final results Activity: {'Dead': 13.626, 'Non-dead': 86.175} \n",
      "this is the final results Activity: {'Dead': 13.626, 'Non-dead': 86.175, 'Player_Activity': 0.2} \n"
     ]
    },
    {
     "data": {
      "text/html": [
       "\n",
       "<style>\n",
       "    /* Turns off some styling */\n",
       "    progress {\n",
       "        /* gets rid of default border in Firefox and Opera. */\n",
       "        border: none;\n",
       "        /* Needs to be in here for Safari polyfill so background images work as expected. */\n",
       "        background-size: auto;\n",
       "    }\n",
       "    .progress-bar-interrupted, .progress-bar-interrupted::-webkit-progress-bar {\n",
       "        background: #F44336;\n",
       "    }\n",
       "</style>\n"
      ],
      "text/plain": [
       "<IPython.core.display.HTML object>"
      ]
     },
     "metadata": {},
     "output_type": "display_data"
    },
    {
     "data": {
      "text/html": [],
      "text/plain": [
       "<IPython.core.display.HTML object>"
      ]
     },
     "metadata": {},
     "output_type": "display_data"
    },
    {
     "name": "stdout",
     "output_type": "stream",
     "text": [
      "this is the final results Activity: {'Dead': 0.006} \n",
      "this is the final results Activity: {'Dead': 0.006, 'Non-dead': 99.994} \n",
      "this is the final results Activity: {'Dead': 0.006, 'Non-dead': 99.994, 'Player_Activity': 0.0} \n"
     ]
    },
    {
     "data": {
      "text/html": [
       "\n",
       "<style>\n",
       "    /* Turns off some styling */\n",
       "    progress {\n",
       "        /* gets rid of default border in Firefox and Opera. */\n",
       "        border: none;\n",
       "        /* Needs to be in here for Safari polyfill so background images work as expected. */\n",
       "        background-size: auto;\n",
       "    }\n",
       "    .progress-bar-interrupted, .progress-bar-interrupted::-webkit-progress-bar {\n",
       "        background: #F44336;\n",
       "    }\n",
       "</style>\n"
      ],
      "text/plain": [
       "<IPython.core.display.HTML object>"
      ]
     },
     "metadata": {},
     "output_type": "display_data"
    },
    {
     "data": {
      "text/html": [],
      "text/plain": [
       "<IPython.core.display.HTML object>"
      ]
     },
     "metadata": {},
     "output_type": "display_data"
    },
    {
     "name": "stdout",
     "output_type": "stream",
     "text": [
      "this is the final results Activity: {'Dead': 5.807} \n",
      "this is the final results Activity: {'Dead': 5.807, 'Non-dead': 94.193} \n",
      "this is the final results Activity: {'Dead': 5.807, 'Non-dead': 94.193, 'Player_Activity': 0.0} \n"
     ]
    },
    {
     "data": {
      "text/html": [
       "\n",
       "<style>\n",
       "    /* Turns off some styling */\n",
       "    progress {\n",
       "        /* gets rid of default border in Firefox and Opera. */\n",
       "        border: none;\n",
       "        /* Needs to be in here for Safari polyfill so background images work as expected. */\n",
       "        background-size: auto;\n",
       "    }\n",
       "    .progress-bar-interrupted, .progress-bar-interrupted::-webkit-progress-bar {\n",
       "        background: #F44336;\n",
       "    }\n",
       "</style>\n"
      ],
      "text/plain": [
       "<IPython.core.display.HTML object>"
      ]
     },
     "metadata": {},
     "output_type": "display_data"
    },
    {
     "data": {
      "text/html": [],
      "text/plain": [
       "<IPython.core.display.HTML object>"
      ]
     },
     "metadata": {},
     "output_type": "display_data"
    },
    {
     "name": "stdout",
     "output_type": "stream",
     "text": [
      "this is the final results Activity: {'Dead': 96.706} \n",
      "this is the final results Activity: {'Dead': 96.706, 'Non-dead': 3.294} \n",
      "this is the final results Activity: {'Dead': 96.706, 'Non-dead': 3.294, 'Player_Activity': 0.0} \n"
     ]
    },
    {
     "data": {
      "text/html": [
       "\n",
       "<style>\n",
       "    /* Turns off some styling */\n",
       "    progress {\n",
       "        /* gets rid of default border in Firefox and Opera. */\n",
       "        border: none;\n",
       "        /* Needs to be in here for Safari polyfill so background images work as expected. */\n",
       "        background-size: auto;\n",
       "    }\n",
       "    .progress-bar-interrupted, .progress-bar-interrupted::-webkit-progress-bar {\n",
       "        background: #F44336;\n",
       "    }\n",
       "</style>\n"
      ],
      "text/plain": [
       "<IPython.core.display.HTML object>"
      ]
     },
     "metadata": {},
     "output_type": "display_data"
    },
    {
     "data": {
      "text/html": [],
      "text/plain": [
       "<IPython.core.display.HTML object>"
      ]
     },
     "metadata": {},
     "output_type": "display_data"
    },
    {
     "name": "stdout",
     "output_type": "stream",
     "text": [
      "this is the final results Activity: {'Dead': 99.992} \n",
      "this is the final results Activity: {'Dead': 99.992, 'Non-dead': 0.002} \n",
      "this is the final results Activity: {'Dead': 99.992, 'Non-dead': 0.002, 'Player_Activity': 0.006} \n"
     ]
    },
    {
     "data": {
      "text/html": [
       "\n",
       "<style>\n",
       "    /* Turns off some styling */\n",
       "    progress {\n",
       "        /* gets rid of default border in Firefox and Opera. */\n",
       "        border: none;\n",
       "        /* Needs to be in here for Safari polyfill so background images work as expected. */\n",
       "        background-size: auto;\n",
       "    }\n",
       "    .progress-bar-interrupted, .progress-bar-interrupted::-webkit-progress-bar {\n",
       "        background: #F44336;\n",
       "    }\n",
       "</style>\n"
      ],
      "text/plain": [
       "<IPython.core.display.HTML object>"
      ]
     },
     "metadata": {},
     "output_type": "display_data"
    },
    {
     "data": {
      "text/html": [],
      "text/plain": [
       "<IPython.core.display.HTML object>"
      ]
     },
     "metadata": {},
     "output_type": "display_data"
    },
    {
     "name": "stdout",
     "output_type": "stream",
     "text": [
      "this is the final results Activity: {'Dead': 99.977} \n",
      "this is the final results Activity: {'Dead': 99.977, 'Non-dead': 0.012} \n",
      "this is the final results Activity: {'Dead': 99.977, 'Non-dead': 0.012, 'Player_Activity': 0.01} \n"
     ]
    },
    {
     "data": {
      "text/html": [
       "\n",
       "<style>\n",
       "    /* Turns off some styling */\n",
       "    progress {\n",
       "        /* gets rid of default border in Firefox and Opera. */\n",
       "        border: none;\n",
       "        /* Needs to be in here for Safari polyfill so background images work as expected. */\n",
       "        background-size: auto;\n",
       "    }\n",
       "    .progress-bar-interrupted, .progress-bar-interrupted::-webkit-progress-bar {\n",
       "        background: #F44336;\n",
       "    }\n",
       "</style>\n"
      ],
      "text/plain": [
       "<IPython.core.display.HTML object>"
      ]
     },
     "metadata": {},
     "output_type": "display_data"
    },
    {
     "data": {
      "text/html": [],
      "text/plain": [
       "<IPython.core.display.HTML object>"
      ]
     },
     "metadata": {},
     "output_type": "display_data"
    },
    {
     "name": "stdout",
     "output_type": "stream",
     "text": [
      "this is the final results Activity: {'Dead': 99.987} \n",
      "this is the final results Activity: {'Dead': 99.987, 'Non-dead': 0.013} \n",
      "this is the final results Activity: {'Dead': 99.987, 'Non-dead': 0.013, 'Player_Activity': 0.0} \n"
     ]
    },
    {
     "data": {
      "text/html": [
       "\n",
       "<style>\n",
       "    /* Turns off some styling */\n",
       "    progress {\n",
       "        /* gets rid of default border in Firefox and Opera. */\n",
       "        border: none;\n",
       "        /* Needs to be in here for Safari polyfill so background images work as expected. */\n",
       "        background-size: auto;\n",
       "    }\n",
       "    .progress-bar-interrupted, .progress-bar-interrupted::-webkit-progress-bar {\n",
       "        background: #F44336;\n",
       "    }\n",
       "</style>\n"
      ],
      "text/plain": [
       "<IPython.core.display.HTML object>"
      ]
     },
     "metadata": {},
     "output_type": "display_data"
    },
    {
     "data": {
      "text/html": [],
      "text/plain": [
       "<IPython.core.display.HTML object>"
      ]
     },
     "metadata": {},
     "output_type": "display_data"
    },
    {
     "name": "stdout",
     "output_type": "stream",
     "text": [
      "this is the final results Activity: {'Dead': 99.985} \n",
      "this is the final results Activity: {'Dead': 99.985, 'Non-dead': 0.015} \n",
      "this is the final results Activity: {'Dead': 99.985, 'Non-dead': 0.015, 'Player_Activity': 0.0} \n"
     ]
    },
    {
     "data": {
      "text/html": [
       "\n",
       "<style>\n",
       "    /* Turns off some styling */\n",
       "    progress {\n",
       "        /* gets rid of default border in Firefox and Opera. */\n",
       "        border: none;\n",
       "        /* Needs to be in here for Safari polyfill so background images work as expected. */\n",
       "        background-size: auto;\n",
       "    }\n",
       "    .progress-bar-interrupted, .progress-bar-interrupted::-webkit-progress-bar {\n",
       "        background: #F44336;\n",
       "    }\n",
       "</style>\n"
      ],
      "text/plain": [
       "<IPython.core.display.HTML object>"
      ]
     },
     "metadata": {},
     "output_type": "display_data"
    },
    {
     "data": {
      "text/html": [],
      "text/plain": [
       "<IPython.core.display.HTML object>"
      ]
     },
     "metadata": {},
     "output_type": "display_data"
    },
    {
     "name": "stdout",
     "output_type": "stream",
     "text": [
      "this is the final results Activity: {'Dead': 0.0} \n",
      "this is the final results Activity: {'Dead': 0.0, 'Non-dead': 100.0} \n",
      "this is the final results Activity: {'Dead': 0.0, 'Non-dead': 100.0, 'Player_Activity': 0.0} \n"
     ]
    },
    {
     "data": {
      "text/html": [
       "\n",
       "<style>\n",
       "    /* Turns off some styling */\n",
       "    progress {\n",
       "        /* gets rid of default border in Firefox and Opera. */\n",
       "        border: none;\n",
       "        /* Needs to be in here for Safari polyfill so background images work as expected. */\n",
       "        background-size: auto;\n",
       "    }\n",
       "    .progress-bar-interrupted, .progress-bar-interrupted::-webkit-progress-bar {\n",
       "        background: #F44336;\n",
       "    }\n",
       "</style>\n"
      ],
      "text/plain": [
       "<IPython.core.display.HTML object>"
      ]
     },
     "metadata": {},
     "output_type": "display_data"
    },
    {
     "data": {
      "text/html": [],
      "text/plain": [
       "<IPython.core.display.HTML object>"
      ]
     },
     "metadata": {},
     "output_type": "display_data"
    },
    {
     "name": "stdout",
     "output_type": "stream",
     "text": [
      "this is the final results Activity: {'Dead': 0.0} \n",
      "this is the final results Activity: {'Dead': 0.0, 'Non-dead': 100.0} \n",
      "this is the final results Activity: {'Dead': 0.0, 'Non-dead': 100.0, 'Player_Activity': 0.0} \n"
     ]
    },
    {
     "data": {
      "text/html": [
       "\n",
       "<style>\n",
       "    /* Turns off some styling */\n",
       "    progress {\n",
       "        /* gets rid of default border in Firefox and Opera. */\n",
       "        border: none;\n",
       "        /* Needs to be in here for Safari polyfill so background images work as expected. */\n",
       "        background-size: auto;\n",
       "    }\n",
       "    .progress-bar-interrupted, .progress-bar-interrupted::-webkit-progress-bar {\n",
       "        background: #F44336;\n",
       "    }\n",
       "</style>\n"
      ],
      "text/plain": [
       "<IPython.core.display.HTML object>"
      ]
     },
     "metadata": {},
     "output_type": "display_data"
    },
    {
     "data": {
      "text/html": [],
      "text/plain": [
       "<IPython.core.display.HTML object>"
      ]
     },
     "metadata": {},
     "output_type": "display_data"
    },
    {
     "name": "stdout",
     "output_type": "stream",
     "text": [
      "this is the final results Activity: {'Dead': 0.0} \n",
      "this is the final results Activity: {'Dead': 0.0, 'Non-dead': 100.0} \n",
      "this is the final results Activity: {'Dead': 0.0, 'Non-dead': 100.0, 'Player_Activity': 0.0} \n"
     ]
    },
    {
     "data": {
      "text/html": [
       "\n",
       "<style>\n",
       "    /* Turns off some styling */\n",
       "    progress {\n",
       "        /* gets rid of default border in Firefox and Opera. */\n",
       "        border: none;\n",
       "        /* Needs to be in here for Safari polyfill so background images work as expected. */\n",
       "        background-size: auto;\n",
       "    }\n",
       "    .progress-bar-interrupted, .progress-bar-interrupted::-webkit-progress-bar {\n",
       "        background: #F44336;\n",
       "    }\n",
       "</style>\n"
      ],
      "text/plain": [
       "<IPython.core.display.HTML object>"
      ]
     },
     "metadata": {},
     "output_type": "display_data"
    },
    {
     "data": {
      "text/html": [],
      "text/plain": [
       "<IPython.core.display.HTML object>"
      ]
     },
     "metadata": {},
     "output_type": "display_data"
    },
    {
     "name": "stdout",
     "output_type": "stream",
     "text": [
      "this is the final results Activity: {'Dead': 0.0} \n",
      "this is the final results Activity: {'Dead': 0.0, 'Non-dead': 100.0} \n",
      "this is the final results Activity: {'Dead': 0.0, 'Non-dead': 100.0, 'Player_Activity': 0.0} \n"
     ]
    },
    {
     "data": {
      "text/html": [
       "\n",
       "<style>\n",
       "    /* Turns off some styling */\n",
       "    progress {\n",
       "        /* gets rid of default border in Firefox and Opera. */\n",
       "        border: none;\n",
       "        /* Needs to be in here for Safari polyfill so background images work as expected. */\n",
       "        background-size: auto;\n",
       "    }\n",
       "    .progress-bar-interrupted, .progress-bar-interrupted::-webkit-progress-bar {\n",
       "        background: #F44336;\n",
       "    }\n",
       "</style>\n"
      ],
      "text/plain": [
       "<IPython.core.display.HTML object>"
      ]
     },
     "metadata": {},
     "output_type": "display_data"
    },
    {
     "data": {
      "text/html": [],
      "text/plain": [
       "<IPython.core.display.HTML object>"
      ]
     },
     "metadata": {},
     "output_type": "display_data"
    },
    {
     "name": "stdout",
     "output_type": "stream",
     "text": [
      "this is the final results Activity: {'Dead': 0.0} \n",
      "this is the final results Activity: {'Dead': 0.0, 'Non-dead': 100.0} \n",
      "this is the final results Activity: {'Dead': 0.0, 'Non-dead': 100.0, 'Player_Activity': 0.0} \n"
     ]
    },
    {
     "data": {
      "text/html": [
       "\n",
       "<style>\n",
       "    /* Turns off some styling */\n",
       "    progress {\n",
       "        /* gets rid of default border in Firefox and Opera. */\n",
       "        border: none;\n",
       "        /* Needs to be in here for Safari polyfill so background images work as expected. */\n",
       "        background-size: auto;\n",
       "    }\n",
       "    .progress-bar-interrupted, .progress-bar-interrupted::-webkit-progress-bar {\n",
       "        background: #F44336;\n",
       "    }\n",
       "</style>\n"
      ],
      "text/plain": [
       "<IPython.core.display.HTML object>"
      ]
     },
     "metadata": {},
     "output_type": "display_data"
    },
    {
     "data": {
      "text/html": [],
      "text/plain": [
       "<IPython.core.display.HTML object>"
      ]
     },
     "metadata": {},
     "output_type": "display_data"
    },
    {
     "name": "stdout",
     "output_type": "stream",
     "text": [
      "this is the final results Activity: {'Dead': 0.0} \n",
      "this is the final results Activity: {'Dead': 0.0, 'Non-dead': 100.0} \n",
      "this is the final results Activity: {'Dead': 0.0, 'Non-dead': 100.0, 'Player_Activity': 0.0} \n"
     ]
    },
    {
     "data": {
      "text/html": [
       "\n",
       "<style>\n",
       "    /* Turns off some styling */\n",
       "    progress {\n",
       "        /* gets rid of default border in Firefox and Opera. */\n",
       "        border: none;\n",
       "        /* Needs to be in here for Safari polyfill so background images work as expected. */\n",
       "        background-size: auto;\n",
       "    }\n",
       "    .progress-bar-interrupted, .progress-bar-interrupted::-webkit-progress-bar {\n",
       "        background: #F44336;\n",
       "    }\n",
       "</style>\n"
      ],
      "text/plain": [
       "<IPython.core.display.HTML object>"
      ]
     },
     "metadata": {},
     "output_type": "display_data"
    },
    {
     "data": {
      "text/html": [],
      "text/plain": [
       "<IPython.core.display.HTML object>"
      ]
     },
     "metadata": {},
     "output_type": "display_data"
    },
    {
     "name": "stdout",
     "output_type": "stream",
     "text": [
      "this is the final results Activity: {'Dead': 0.0} \n",
      "this is the final results Activity: {'Dead': 0.0, 'Non-dead': 100.0} \n",
      "this is the final results Activity: {'Dead': 0.0, 'Non-dead': 100.0, 'Player_Activity': 0.0} \n"
     ]
    },
    {
     "data": {
      "text/html": [
       "\n",
       "<style>\n",
       "    /* Turns off some styling */\n",
       "    progress {\n",
       "        /* gets rid of default border in Firefox and Opera. */\n",
       "        border: none;\n",
       "        /* Needs to be in here for Safari polyfill so background images work as expected. */\n",
       "        background-size: auto;\n",
       "    }\n",
       "    .progress-bar-interrupted, .progress-bar-interrupted::-webkit-progress-bar {\n",
       "        background: #F44336;\n",
       "    }\n",
       "</style>\n"
      ],
      "text/plain": [
       "<IPython.core.display.HTML object>"
      ]
     },
     "metadata": {},
     "output_type": "display_data"
    },
    {
     "data": {
      "text/html": [],
      "text/plain": [
       "<IPython.core.display.HTML object>"
      ]
     },
     "metadata": {},
     "output_type": "display_data"
    },
    {
     "name": "stdout",
     "output_type": "stream",
     "text": [
      "this is the final results Activity: {'Dead': 0.0} \n",
      "this is the final results Activity: {'Dead': 0.0, 'Non-dead': 100.0} \n",
      "this is the final results Activity: {'Dead': 0.0, 'Non-dead': 100.0, 'Player_Activity': 0.0} \n"
     ]
    },
    {
     "data": {
      "text/html": [
       "\n",
       "<style>\n",
       "    /* Turns off some styling */\n",
       "    progress {\n",
       "        /* gets rid of default border in Firefox and Opera. */\n",
       "        border: none;\n",
       "        /* Needs to be in here for Safari polyfill so background images work as expected. */\n",
       "        background-size: auto;\n",
       "    }\n",
       "    .progress-bar-interrupted, .progress-bar-interrupted::-webkit-progress-bar {\n",
       "        background: #F44336;\n",
       "    }\n",
       "</style>\n"
      ],
      "text/plain": [
       "<IPython.core.display.HTML object>"
      ]
     },
     "metadata": {},
     "output_type": "display_data"
    },
    {
     "data": {
      "text/html": [],
      "text/plain": [
       "<IPython.core.display.HTML object>"
      ]
     },
     "metadata": {},
     "output_type": "display_data"
    },
    {
     "name": "stdout",
     "output_type": "stream",
     "text": [
      "this is the final results Activity: {'Dead': 0.0} \n",
      "this is the final results Activity: {'Dead': 0.0, 'Non-dead': 100.0} \n",
      "this is the final results Activity: {'Dead': 0.0, 'Non-dead': 100.0, 'Player_Activity': 0.0} \n"
     ]
    },
    {
     "data": {
      "text/html": [
       "\n",
       "<style>\n",
       "    /* Turns off some styling */\n",
       "    progress {\n",
       "        /* gets rid of default border in Firefox and Opera. */\n",
       "        border: none;\n",
       "        /* Needs to be in here for Safari polyfill so background images work as expected. */\n",
       "        background-size: auto;\n",
       "    }\n",
       "    .progress-bar-interrupted, .progress-bar-interrupted::-webkit-progress-bar {\n",
       "        background: #F44336;\n",
       "    }\n",
       "</style>\n"
      ],
      "text/plain": [
       "<IPython.core.display.HTML object>"
      ]
     },
     "metadata": {},
     "output_type": "display_data"
    },
    {
     "data": {
      "text/html": [],
      "text/plain": [
       "<IPython.core.display.HTML object>"
      ]
     },
     "metadata": {},
     "output_type": "display_data"
    },
    {
     "name": "stdout",
     "output_type": "stream",
     "text": [
      "this is the final results Activity: {'Dead': 0.0} \n",
      "this is the final results Activity: {'Dead': 0.0, 'Non-dead': 99.999} \n",
      "this is the final results Activity: {'Dead': 0.0, 'Non-dead': 99.999, 'Player_Activity': 0.001} \n"
     ]
    },
    {
     "data": {
      "text/html": [
       "\n",
       "<style>\n",
       "    /* Turns off some styling */\n",
       "    progress {\n",
       "        /* gets rid of default border in Firefox and Opera. */\n",
       "        border: none;\n",
       "        /* Needs to be in here for Safari polyfill so background images work as expected. */\n",
       "        background-size: auto;\n",
       "    }\n",
       "    .progress-bar-interrupted, .progress-bar-interrupted::-webkit-progress-bar {\n",
       "        background: #F44336;\n",
       "    }\n",
       "</style>\n"
      ],
      "text/plain": [
       "<IPython.core.display.HTML object>"
      ]
     },
     "metadata": {},
     "output_type": "display_data"
    },
    {
     "data": {
      "text/html": [],
      "text/plain": [
       "<IPython.core.display.HTML object>"
      ]
     },
     "metadata": {},
     "output_type": "display_data"
    },
    {
     "name": "stdout",
     "output_type": "stream",
     "text": [
      "this is the final results Activity: {'Dead': 0.0} \n",
      "this is the final results Activity: {'Dead': 0.0, 'Non-dead': 100.0} \n",
      "this is the final results Activity: {'Dead': 0.0, 'Non-dead': 100.0, 'Player_Activity': 0.0} \n"
     ]
    },
    {
     "data": {
      "text/html": [
       "\n",
       "<style>\n",
       "    /* Turns off some styling */\n",
       "    progress {\n",
       "        /* gets rid of default border in Firefox and Opera. */\n",
       "        border: none;\n",
       "        /* Needs to be in here for Safari polyfill so background images work as expected. */\n",
       "        background-size: auto;\n",
       "    }\n",
       "    .progress-bar-interrupted, .progress-bar-interrupted::-webkit-progress-bar {\n",
       "        background: #F44336;\n",
       "    }\n",
       "</style>\n"
      ],
      "text/plain": [
       "<IPython.core.display.HTML object>"
      ]
     },
     "metadata": {},
     "output_type": "display_data"
    },
    {
     "data": {
      "text/html": [],
      "text/plain": [
       "<IPython.core.display.HTML object>"
      ]
     },
     "metadata": {},
     "output_type": "display_data"
    },
    {
     "name": "stdout",
     "output_type": "stream",
     "text": [
      "this is the final results Activity: {'Dead': 0.0} \n",
      "this is the final results Activity: {'Dead': 0.0, 'Non-dead': 100.0} \n",
      "this is the final results Activity: {'Dead': 0.0, 'Non-dead': 100.0, 'Player_Activity': 0.0} \n"
     ]
    },
    {
     "data": {
      "text/html": [
       "\n",
       "<style>\n",
       "    /* Turns off some styling */\n",
       "    progress {\n",
       "        /* gets rid of default border in Firefox and Opera. */\n",
       "        border: none;\n",
       "        /* Needs to be in here for Safari polyfill so background images work as expected. */\n",
       "        background-size: auto;\n",
       "    }\n",
       "    .progress-bar-interrupted, .progress-bar-interrupted::-webkit-progress-bar {\n",
       "        background: #F44336;\n",
       "    }\n",
       "</style>\n"
      ],
      "text/plain": [
       "<IPython.core.display.HTML object>"
      ]
     },
     "metadata": {},
     "output_type": "display_data"
    },
    {
     "data": {
      "text/html": [],
      "text/plain": [
       "<IPython.core.display.HTML object>"
      ]
     },
     "metadata": {},
     "output_type": "display_data"
    },
    {
     "name": "stdout",
     "output_type": "stream",
     "text": [
      "this is the final results Activity: {'Dead': 0.001} \n",
      "this is the final results Activity: {'Dead': 0.001, 'Non-dead': 99.999} \n",
      "this is the final results Activity: {'Dead': 0.001, 'Non-dead': 99.999, 'Player_Activity': 0.0} \n"
     ]
    },
    {
     "data": {
      "text/html": [
       "\n",
       "<style>\n",
       "    /* Turns off some styling */\n",
       "    progress {\n",
       "        /* gets rid of default border in Firefox and Opera. */\n",
       "        border: none;\n",
       "        /* Needs to be in here for Safari polyfill so background images work as expected. */\n",
       "        background-size: auto;\n",
       "    }\n",
       "    .progress-bar-interrupted, .progress-bar-interrupted::-webkit-progress-bar {\n",
       "        background: #F44336;\n",
       "    }\n",
       "</style>\n"
      ],
      "text/plain": [
       "<IPython.core.display.HTML object>"
      ]
     },
     "metadata": {},
     "output_type": "display_data"
    },
    {
     "data": {
      "text/html": [],
      "text/plain": [
       "<IPython.core.display.HTML object>"
      ]
     },
     "metadata": {},
     "output_type": "display_data"
    },
    {
     "name": "stdout",
     "output_type": "stream",
     "text": [
      "this is the final results Activity: {'Dead': 0.0} \n",
      "this is the final results Activity: {'Dead': 0.0, 'Non-dead': 100.0} \n",
      "this is the final results Activity: {'Dead': 0.0, 'Non-dead': 100.0, 'Player_Activity': 0.0} \n"
     ]
    },
    {
     "data": {
      "text/html": [
       "\n",
       "<style>\n",
       "    /* Turns off some styling */\n",
       "    progress {\n",
       "        /* gets rid of default border in Firefox and Opera. */\n",
       "        border: none;\n",
       "        /* Needs to be in here for Safari polyfill so background images work as expected. */\n",
       "        background-size: auto;\n",
       "    }\n",
       "    .progress-bar-interrupted, .progress-bar-interrupted::-webkit-progress-bar {\n",
       "        background: #F44336;\n",
       "    }\n",
       "</style>\n"
      ],
      "text/plain": [
       "<IPython.core.display.HTML object>"
      ]
     },
     "metadata": {},
     "output_type": "display_data"
    },
    {
     "data": {
      "text/html": [],
      "text/plain": [
       "<IPython.core.display.HTML object>"
      ]
     },
     "metadata": {},
     "output_type": "display_data"
    },
    {
     "name": "stdout",
     "output_type": "stream",
     "text": [
      "this is the final results Activity: {'Dead': 0.0} \n",
      "this is the final results Activity: {'Dead': 0.0, 'Non-dead': 99.999} \n",
      "this is the final results Activity: {'Dead': 0.0, 'Non-dead': 99.999, 'Player_Activity': 0.001} \n"
     ]
    },
    {
     "data": {
      "text/html": [
       "\n",
       "<style>\n",
       "    /* Turns off some styling */\n",
       "    progress {\n",
       "        /* gets rid of default border in Firefox and Opera. */\n",
       "        border: none;\n",
       "        /* Needs to be in here for Safari polyfill so background images work as expected. */\n",
       "        background-size: auto;\n",
       "    }\n",
       "    .progress-bar-interrupted, .progress-bar-interrupted::-webkit-progress-bar {\n",
       "        background: #F44336;\n",
       "    }\n",
       "</style>\n"
      ],
      "text/plain": [
       "<IPython.core.display.HTML object>"
      ]
     },
     "metadata": {},
     "output_type": "display_data"
    },
    {
     "data": {
      "text/html": [],
      "text/plain": [
       "<IPython.core.display.HTML object>"
      ]
     },
     "metadata": {},
     "output_type": "display_data"
    },
    {
     "name": "stdout",
     "output_type": "stream",
     "text": [
      "this is the final results Activity: {'Dead': 0.002} \n",
      "this is the final results Activity: {'Dead': 0.002, 'Non-dead': 99.998} \n",
      "this is the final results Activity: {'Dead': 0.002, 'Non-dead': 99.998, 'Player_Activity': 0.0} \n"
     ]
    },
    {
     "data": {
      "text/html": [
       "\n",
       "<style>\n",
       "    /* Turns off some styling */\n",
       "    progress {\n",
       "        /* gets rid of default border in Firefox and Opera. */\n",
       "        border: none;\n",
       "        /* Needs to be in here for Safari polyfill so background images work as expected. */\n",
       "        background-size: auto;\n",
       "    }\n",
       "    .progress-bar-interrupted, .progress-bar-interrupted::-webkit-progress-bar {\n",
       "        background: #F44336;\n",
       "    }\n",
       "</style>\n"
      ],
      "text/plain": [
       "<IPython.core.display.HTML object>"
      ]
     },
     "metadata": {},
     "output_type": "display_data"
    },
    {
     "data": {
      "text/html": [],
      "text/plain": [
       "<IPython.core.display.HTML object>"
      ]
     },
     "metadata": {},
     "output_type": "display_data"
    },
    {
     "name": "stdout",
     "output_type": "stream",
     "text": [
      "this is the final results Activity: {'Dead': 99.995} \n",
      "this is the final results Activity: {'Dead': 99.995, 'Non-dead': 0.001} \n",
      "this is the final results Activity: {'Dead': 99.995, 'Non-dead': 0.001, 'Player_Activity': 0.004} \n"
     ]
    },
    {
     "data": {
      "text/html": [
       "\n",
       "<style>\n",
       "    /* Turns off some styling */\n",
       "    progress {\n",
       "        /* gets rid of default border in Firefox and Opera. */\n",
       "        border: none;\n",
       "        /* Needs to be in here for Safari polyfill so background images work as expected. */\n",
       "        background-size: auto;\n",
       "    }\n",
       "    .progress-bar-interrupted, .progress-bar-interrupted::-webkit-progress-bar {\n",
       "        background: #F44336;\n",
       "    }\n",
       "</style>\n"
      ],
      "text/plain": [
       "<IPython.core.display.HTML object>"
      ]
     },
     "metadata": {},
     "output_type": "display_data"
    },
    {
     "data": {
      "text/html": [],
      "text/plain": [
       "<IPython.core.display.HTML object>"
      ]
     },
     "metadata": {},
     "output_type": "display_data"
    },
    {
     "name": "stdout",
     "output_type": "stream",
     "text": [
      "this is the final results Activity: {'Dead': 0.025} \n",
      "this is the final results Activity: {'Dead': 0.025, 'Non-dead': 99.87} \n",
      "this is the final results Activity: {'Dead': 0.025, 'Non-dead': 99.87, 'Player_Activity': 0.105} \n"
     ]
    },
    {
     "data": {
      "text/html": [
       "\n",
       "<style>\n",
       "    /* Turns off some styling */\n",
       "    progress {\n",
       "        /* gets rid of default border in Firefox and Opera. */\n",
       "        border: none;\n",
       "        /* Needs to be in here for Safari polyfill so background images work as expected. */\n",
       "        background-size: auto;\n",
       "    }\n",
       "    .progress-bar-interrupted, .progress-bar-interrupted::-webkit-progress-bar {\n",
       "        background: #F44336;\n",
       "    }\n",
       "</style>\n"
      ],
      "text/plain": [
       "<IPython.core.display.HTML object>"
      ]
     },
     "metadata": {},
     "output_type": "display_data"
    },
    {
     "data": {
      "text/html": [],
      "text/plain": [
       "<IPython.core.display.HTML object>"
      ]
     },
     "metadata": {},
     "output_type": "display_data"
    },
    {
     "name": "stdout",
     "output_type": "stream",
     "text": [
      "this is the final results Activity: {'Dead': 0.0} \n",
      "this is the final results Activity: {'Dead': 0.0, 'Non-dead': 99.922} \n",
      "this is the final results Activity: {'Dead': 0.0, 'Non-dead': 99.922, 'Player_Activity': 0.078} \n"
     ]
    },
    {
     "data": {
      "text/html": [
       "\n",
       "<style>\n",
       "    /* Turns off some styling */\n",
       "    progress {\n",
       "        /* gets rid of default border in Firefox and Opera. */\n",
       "        border: none;\n",
       "        /* Needs to be in here for Safari polyfill so background images work as expected. */\n",
       "        background-size: auto;\n",
       "    }\n",
       "    .progress-bar-interrupted, .progress-bar-interrupted::-webkit-progress-bar {\n",
       "        background: #F44336;\n",
       "    }\n",
       "</style>\n"
      ],
      "text/plain": [
       "<IPython.core.display.HTML object>"
      ]
     },
     "metadata": {},
     "output_type": "display_data"
    },
    {
     "data": {
      "text/html": [],
      "text/plain": [
       "<IPython.core.display.HTML object>"
      ]
     },
     "metadata": {},
     "output_type": "display_data"
    },
    {
     "name": "stdout",
     "output_type": "stream",
     "text": [
      "this is the final results Activity: {'Dead': 0.0} \n",
      "this is the final results Activity: {'Dead': 0.0, 'Non-dead': 99.991} \n",
      "this is the final results Activity: {'Dead': 0.0, 'Non-dead': 99.991, 'Player_Activity': 0.009} \n"
     ]
    },
    {
     "data": {
      "text/html": [
       "\n",
       "<style>\n",
       "    /* Turns off some styling */\n",
       "    progress {\n",
       "        /* gets rid of default border in Firefox and Opera. */\n",
       "        border: none;\n",
       "        /* Needs to be in here for Safari polyfill so background images work as expected. */\n",
       "        background-size: auto;\n",
       "    }\n",
       "    .progress-bar-interrupted, .progress-bar-interrupted::-webkit-progress-bar {\n",
       "        background: #F44336;\n",
       "    }\n",
       "</style>\n"
      ],
      "text/plain": [
       "<IPython.core.display.HTML object>"
      ]
     },
     "metadata": {},
     "output_type": "display_data"
    },
    {
     "data": {
      "text/html": [],
      "text/plain": [
       "<IPython.core.display.HTML object>"
      ]
     },
     "metadata": {},
     "output_type": "display_data"
    },
    {
     "name": "stdout",
     "output_type": "stream",
     "text": [
      "this is the final results Activity: {'Dead': 0.099} \n",
      "this is the final results Activity: {'Dead': 0.099, 'Non-dead': 99.901} \n",
      "this is the final results Activity: {'Dead': 0.099, 'Non-dead': 99.901, 'Player_Activity': 0.0} \n"
     ]
    },
    {
     "data": {
      "text/html": [
       "\n",
       "<style>\n",
       "    /* Turns off some styling */\n",
       "    progress {\n",
       "        /* gets rid of default border in Firefox and Opera. */\n",
       "        border: none;\n",
       "        /* Needs to be in here for Safari polyfill so background images work as expected. */\n",
       "        background-size: auto;\n",
       "    }\n",
       "    .progress-bar-interrupted, .progress-bar-interrupted::-webkit-progress-bar {\n",
       "        background: #F44336;\n",
       "    }\n",
       "</style>\n"
      ],
      "text/plain": [
       "<IPython.core.display.HTML object>"
      ]
     },
     "metadata": {},
     "output_type": "display_data"
    },
    {
     "data": {
      "text/html": [],
      "text/plain": [
       "<IPython.core.display.HTML object>"
      ]
     },
     "metadata": {},
     "output_type": "display_data"
    },
    {
     "name": "stdout",
     "output_type": "stream",
     "text": [
      "this is the final results Activity: {'Dead': 0.002} \n",
      "this is the final results Activity: {'Dead': 0.002, 'Non-dead': 99.998} \n",
      "this is the final results Activity: {'Dead': 0.002, 'Non-dead': 99.998, 'Player_Activity': 0.0} \n"
     ]
    },
    {
     "data": {
      "text/html": [
       "\n",
       "<style>\n",
       "    /* Turns off some styling */\n",
       "    progress {\n",
       "        /* gets rid of default border in Firefox and Opera. */\n",
       "        border: none;\n",
       "        /* Needs to be in here for Safari polyfill so background images work as expected. */\n",
       "        background-size: auto;\n",
       "    }\n",
       "    .progress-bar-interrupted, .progress-bar-interrupted::-webkit-progress-bar {\n",
       "        background: #F44336;\n",
       "    }\n",
       "</style>\n"
      ],
      "text/plain": [
       "<IPython.core.display.HTML object>"
      ]
     },
     "metadata": {},
     "output_type": "display_data"
    },
    {
     "data": {
      "text/html": [],
      "text/plain": [
       "<IPython.core.display.HTML object>"
      ]
     },
     "metadata": {},
     "output_type": "display_data"
    },
    {
     "name": "stdout",
     "output_type": "stream",
     "text": [
      "this is the final results Activity: {'Dead': 0.016} \n",
      "this is the final results Activity: {'Dead': 0.016, 'Non-dead': 99.984} \n",
      "this is the final results Activity: {'Dead': 0.016, 'Non-dead': 99.984, 'Player_Activity': 0.0} \n"
     ]
    },
    {
     "data": {
      "text/html": [
       "\n",
       "<style>\n",
       "    /* Turns off some styling */\n",
       "    progress {\n",
       "        /* gets rid of default border in Firefox and Opera. */\n",
       "        border: none;\n",
       "        /* Needs to be in here for Safari polyfill so background images work as expected. */\n",
       "        background-size: auto;\n",
       "    }\n",
       "    .progress-bar-interrupted, .progress-bar-interrupted::-webkit-progress-bar {\n",
       "        background: #F44336;\n",
       "    }\n",
       "</style>\n"
      ],
      "text/plain": [
       "<IPython.core.display.HTML object>"
      ]
     },
     "metadata": {},
     "output_type": "display_data"
    },
    {
     "data": {
      "text/html": [],
      "text/plain": [
       "<IPython.core.display.HTML object>"
      ]
     },
     "metadata": {},
     "output_type": "display_data"
    },
    {
     "name": "stdout",
     "output_type": "stream",
     "text": [
      "this is the final results Activity: {'Dead': 0.0} \n",
      "this is the final results Activity: {'Dead': 0.0, 'Non-dead': 99.982} \n",
      "this is the final results Activity: {'Dead': 0.0, 'Non-dead': 99.982, 'Player_Activity': 0.018} \n"
     ]
    },
    {
     "data": {
      "text/html": [
       "\n",
       "<style>\n",
       "    /* Turns off some styling */\n",
       "    progress {\n",
       "        /* gets rid of default border in Firefox and Opera. */\n",
       "        border: none;\n",
       "        /* Needs to be in here for Safari polyfill so background images work as expected. */\n",
       "        background-size: auto;\n",
       "    }\n",
       "    .progress-bar-interrupted, .progress-bar-interrupted::-webkit-progress-bar {\n",
       "        background: #F44336;\n",
       "    }\n",
       "</style>\n"
      ],
      "text/plain": [
       "<IPython.core.display.HTML object>"
      ]
     },
     "metadata": {},
     "output_type": "display_data"
    },
    {
     "data": {
      "text/html": [],
      "text/plain": [
       "<IPython.core.display.HTML object>"
      ]
     },
     "metadata": {},
     "output_type": "display_data"
    },
    {
     "name": "stdout",
     "output_type": "stream",
     "text": [
      "this is the final results Activity: {'Dead': 0.001} \n",
      "this is the final results Activity: {'Dead': 0.001, 'Non-dead': 99.999} \n",
      "this is the final results Activity: {'Dead': 0.001, 'Non-dead': 99.999, 'Player_Activity': 0.0} \n"
     ]
    },
    {
     "data": {
      "text/html": [
       "\n",
       "<style>\n",
       "    /* Turns off some styling */\n",
       "    progress {\n",
       "        /* gets rid of default border in Firefox and Opera. */\n",
       "        border: none;\n",
       "        /* Needs to be in here for Safari polyfill so background images work as expected. */\n",
       "        background-size: auto;\n",
       "    }\n",
       "    .progress-bar-interrupted, .progress-bar-interrupted::-webkit-progress-bar {\n",
       "        background: #F44336;\n",
       "    }\n",
       "</style>\n"
      ],
      "text/plain": [
       "<IPython.core.display.HTML object>"
      ]
     },
     "metadata": {},
     "output_type": "display_data"
    },
    {
     "data": {
      "text/html": [],
      "text/plain": [
       "<IPython.core.display.HTML object>"
      ]
     },
     "metadata": {},
     "output_type": "display_data"
    },
    {
     "name": "stdout",
     "output_type": "stream",
     "text": [
      "this is the final results Activity: {'Dead': 0.005} \n",
      "this is the final results Activity: {'Dead': 0.005, 'Non-dead': 99.995} \n",
      "this is the final results Activity: {'Dead': 0.005, 'Non-dead': 99.995, 'Player_Activity': 0.0} \n"
     ]
    },
    {
     "data": {
      "text/html": [
       "\n",
       "<style>\n",
       "    /* Turns off some styling */\n",
       "    progress {\n",
       "        /* gets rid of default border in Firefox and Opera. */\n",
       "        border: none;\n",
       "        /* Needs to be in here for Safari polyfill so background images work as expected. */\n",
       "        background-size: auto;\n",
       "    }\n",
       "    .progress-bar-interrupted, .progress-bar-interrupted::-webkit-progress-bar {\n",
       "        background: #F44336;\n",
       "    }\n",
       "</style>\n"
      ],
      "text/plain": [
       "<IPython.core.display.HTML object>"
      ]
     },
     "metadata": {},
     "output_type": "display_data"
    },
    {
     "data": {
      "text/html": [],
      "text/plain": [
       "<IPython.core.display.HTML object>"
      ]
     },
     "metadata": {},
     "output_type": "display_data"
    },
    {
     "name": "stdout",
     "output_type": "stream",
     "text": [
      "this is the final results Activity: {'Dead': 1.515} \n",
      "this is the final results Activity: {'Dead': 1.515, 'Non-dead': 98.483} \n",
      "this is the final results Activity: {'Dead': 1.515, 'Non-dead': 98.483, 'Player_Activity': 0.003} \n"
     ]
    },
    {
     "data": {
      "text/html": [
       "\n",
       "<style>\n",
       "    /* Turns off some styling */\n",
       "    progress {\n",
       "        /* gets rid of default border in Firefox and Opera. */\n",
       "        border: none;\n",
       "        /* Needs to be in here for Safari polyfill so background images work as expected. */\n",
       "        background-size: auto;\n",
       "    }\n",
       "    .progress-bar-interrupted, .progress-bar-interrupted::-webkit-progress-bar {\n",
       "        background: #F44336;\n",
       "    }\n",
       "</style>\n"
      ],
      "text/plain": [
       "<IPython.core.display.HTML object>"
      ]
     },
     "metadata": {},
     "output_type": "display_data"
    },
    {
     "data": {
      "text/html": [],
      "text/plain": [
       "<IPython.core.display.HTML object>"
      ]
     },
     "metadata": {},
     "output_type": "display_data"
    },
    {
     "name": "stdout",
     "output_type": "stream",
     "text": [
      "this is the final results Activity: {'Dead': 0.717} \n",
      "this is the final results Activity: {'Dead': 0.717, 'Non-dead': 99.281} \n",
      "this is the final results Activity: {'Dead': 0.717, 'Non-dead': 99.281, 'Player_Activity': 0.002} \n"
     ]
    },
    {
     "data": {
      "text/html": [
       "\n",
       "<style>\n",
       "    /* Turns off some styling */\n",
       "    progress {\n",
       "        /* gets rid of default border in Firefox and Opera. */\n",
       "        border: none;\n",
       "        /* Needs to be in here for Safari polyfill so background images work as expected. */\n",
       "        background-size: auto;\n",
       "    }\n",
       "    .progress-bar-interrupted, .progress-bar-interrupted::-webkit-progress-bar {\n",
       "        background: #F44336;\n",
       "    }\n",
       "</style>\n"
      ],
      "text/plain": [
       "<IPython.core.display.HTML object>"
      ]
     },
     "metadata": {},
     "output_type": "display_data"
    },
    {
     "data": {
      "text/html": [],
      "text/plain": [
       "<IPython.core.display.HTML object>"
      ]
     },
     "metadata": {},
     "output_type": "display_data"
    },
    {
     "name": "stdout",
     "output_type": "stream",
     "text": [
      "this is the final results Activity: {'Dead': 100.0} \n",
      "this is the final results Activity: {'Dead': 100.0, 'Non-dead': 0.0} \n",
      "this is the final results Activity: {'Dead': 100.0, 'Non-dead': 0.0, 'Player_Activity': 0.0} \n"
     ]
    },
    {
     "data": {
      "text/html": [
       "\n",
       "<style>\n",
       "    /* Turns off some styling */\n",
       "    progress {\n",
       "        /* gets rid of default border in Firefox and Opera. */\n",
       "        border: none;\n",
       "        /* Needs to be in here for Safari polyfill so background images work as expected. */\n",
       "        background-size: auto;\n",
       "    }\n",
       "    .progress-bar-interrupted, .progress-bar-interrupted::-webkit-progress-bar {\n",
       "        background: #F44336;\n",
       "    }\n",
       "</style>\n"
      ],
      "text/plain": [
       "<IPython.core.display.HTML object>"
      ]
     },
     "metadata": {},
     "output_type": "display_data"
    },
    {
     "data": {
      "text/html": [],
      "text/plain": [
       "<IPython.core.display.HTML object>"
      ]
     },
     "metadata": {},
     "output_type": "display_data"
    },
    {
     "name": "stdout",
     "output_type": "stream",
     "text": [
      "this is the final results Activity: {'Dead': 98.595} \n",
      "this is the final results Activity: {'Dead': 98.595, 'Non-dead': 0.006} \n",
      "this is the final results Activity: {'Dead': 98.595, 'Non-dead': 0.006, 'Player_Activity': 1.399} \n"
     ]
    },
    {
     "data": {
      "text/html": [
       "\n",
       "<style>\n",
       "    /* Turns off some styling */\n",
       "    progress {\n",
       "        /* gets rid of default border in Firefox and Opera. */\n",
       "        border: none;\n",
       "        /* Needs to be in here for Safari polyfill so background images work as expected. */\n",
       "        background-size: auto;\n",
       "    }\n",
       "    .progress-bar-interrupted, .progress-bar-interrupted::-webkit-progress-bar {\n",
       "        background: #F44336;\n",
       "    }\n",
       "</style>\n"
      ],
      "text/plain": [
       "<IPython.core.display.HTML object>"
      ]
     },
     "metadata": {},
     "output_type": "display_data"
    },
    {
     "data": {
      "text/html": [],
      "text/plain": [
       "<IPython.core.display.HTML object>"
      ]
     },
     "metadata": {},
     "output_type": "display_data"
    },
    {
     "name": "stdout",
     "output_type": "stream",
     "text": [
      "this is the final results Activity: {'Dead': 98.231} \n",
      "this is the final results Activity: {'Dead': 98.231, 'Non-dead': 0.031} \n",
      "this is the final results Activity: {'Dead': 98.231, 'Non-dead': 0.031, 'Player_Activity': 1.738} \n"
     ]
    },
    {
     "data": {
      "text/html": [
       "\n",
       "<style>\n",
       "    /* Turns off some styling */\n",
       "    progress {\n",
       "        /* gets rid of default border in Firefox and Opera. */\n",
       "        border: none;\n",
       "        /* Needs to be in here for Safari polyfill so background images work as expected. */\n",
       "        background-size: auto;\n",
       "    }\n",
       "    .progress-bar-interrupted, .progress-bar-interrupted::-webkit-progress-bar {\n",
       "        background: #F44336;\n",
       "    }\n",
       "</style>\n"
      ],
      "text/plain": [
       "<IPython.core.display.HTML object>"
      ]
     },
     "metadata": {},
     "output_type": "display_data"
    },
    {
     "data": {
      "text/html": [],
      "text/plain": [
       "<IPython.core.display.HTML object>"
      ]
     },
     "metadata": {},
     "output_type": "display_data"
    },
    {
     "name": "stdout",
     "output_type": "stream",
     "text": [
      "this is the final results Activity: {'Dead': 99.983} \n",
      "this is the final results Activity: {'Dead': 99.983, 'Non-dead': 0.0} \n",
      "this is the final results Activity: {'Dead': 99.983, 'Non-dead': 0.0, 'Player_Activity': 0.017} \n"
     ]
    },
    {
     "data": {
      "text/html": [
       "\n",
       "<style>\n",
       "    /* Turns off some styling */\n",
       "    progress {\n",
       "        /* gets rid of default border in Firefox and Opera. */\n",
       "        border: none;\n",
       "        /* Needs to be in here for Safari polyfill so background images work as expected. */\n",
       "        background-size: auto;\n",
       "    }\n",
       "    .progress-bar-interrupted, .progress-bar-interrupted::-webkit-progress-bar {\n",
       "        background: #F44336;\n",
       "    }\n",
       "</style>\n"
      ],
      "text/plain": [
       "<IPython.core.display.HTML object>"
      ]
     },
     "metadata": {},
     "output_type": "display_data"
    },
    {
     "data": {
      "text/html": [],
      "text/plain": [
       "<IPython.core.display.HTML object>"
      ]
     },
     "metadata": {},
     "output_type": "display_data"
    },
    {
     "name": "stdout",
     "output_type": "stream",
     "text": [
      "this is the final results Activity: {'Dead': 98.163} \n",
      "this is the final results Activity: {'Dead': 98.163, 'Non-dead': 0.001} \n",
      "this is the final results Activity: {'Dead': 98.163, 'Non-dead': 0.001, 'Player_Activity': 1.835} \n"
     ]
    },
    {
     "data": {
      "text/html": [
       "\n",
       "<style>\n",
       "    /* Turns off some styling */\n",
       "    progress {\n",
       "        /* gets rid of default border in Firefox and Opera. */\n",
       "        border: none;\n",
       "        /* Needs to be in here for Safari polyfill so background images work as expected. */\n",
       "        background-size: auto;\n",
       "    }\n",
       "    .progress-bar-interrupted, .progress-bar-interrupted::-webkit-progress-bar {\n",
       "        background: #F44336;\n",
       "    }\n",
       "</style>\n"
      ],
      "text/plain": [
       "<IPython.core.display.HTML object>"
      ]
     },
     "metadata": {},
     "output_type": "display_data"
    },
    {
     "data": {
      "text/html": [],
      "text/plain": [
       "<IPython.core.display.HTML object>"
      ]
     },
     "metadata": {},
     "output_type": "display_data"
    },
    {
     "name": "stdout",
     "output_type": "stream",
     "text": [
      "this is the final results Activity: {'Dead': 99.478} \n",
      "this is the final results Activity: {'Dead': 99.478, 'Non-dead': 0.0} \n",
      "this is the final results Activity: {'Dead': 99.478, 'Non-dead': 0.0, 'Player_Activity': 0.522} \n"
     ]
    },
    {
     "data": {
      "text/html": [
       "\n",
       "<style>\n",
       "    /* Turns off some styling */\n",
       "    progress {\n",
       "        /* gets rid of default border in Firefox and Opera. */\n",
       "        border: none;\n",
       "        /* Needs to be in here for Safari polyfill so background images work as expected. */\n",
       "        background-size: auto;\n",
       "    }\n",
       "    .progress-bar-interrupted, .progress-bar-interrupted::-webkit-progress-bar {\n",
       "        background: #F44336;\n",
       "    }\n",
       "</style>\n"
      ],
      "text/plain": [
       "<IPython.core.display.HTML object>"
      ]
     },
     "metadata": {},
     "output_type": "display_data"
    },
    {
     "data": {
      "text/html": [],
      "text/plain": [
       "<IPython.core.display.HTML object>"
      ]
     },
     "metadata": {},
     "output_type": "display_data"
    },
    {
     "name": "stdout",
     "output_type": "stream",
     "text": [
      "this is the final results Activity: {'Dead': 98.934} \n",
      "this is the final results Activity: {'Dead': 98.934, 'Non-dead': 0.007} \n",
      "this is the final results Activity: {'Dead': 98.934, 'Non-dead': 0.007, 'Player_Activity': 1.059} \n"
     ]
    },
    {
     "data": {
      "text/html": [
       "\n",
       "<style>\n",
       "    /* Turns off some styling */\n",
       "    progress {\n",
       "        /* gets rid of default border in Firefox and Opera. */\n",
       "        border: none;\n",
       "        /* Needs to be in here for Safari polyfill so background images work as expected. */\n",
       "        background-size: auto;\n",
       "    }\n",
       "    .progress-bar-interrupted, .progress-bar-interrupted::-webkit-progress-bar {\n",
       "        background: #F44336;\n",
       "    }\n",
       "</style>\n"
      ],
      "text/plain": [
       "<IPython.core.display.HTML object>"
      ]
     },
     "metadata": {},
     "output_type": "display_data"
    },
    {
     "data": {
      "text/html": [],
      "text/plain": [
       "<IPython.core.display.HTML object>"
      ]
     },
     "metadata": {},
     "output_type": "display_data"
    },
    {
     "name": "stdout",
     "output_type": "stream",
     "text": [
      "this is the final results Activity: {'Dead': 99.988} \n",
      "this is the final results Activity: {'Dead': 99.988, 'Non-dead': 0.005} \n",
      "this is the final results Activity: {'Dead': 99.988, 'Non-dead': 0.005, 'Player_Activity': 0.008} \n"
     ]
    },
    {
     "data": {
      "text/html": [
       "\n",
       "<style>\n",
       "    /* Turns off some styling */\n",
       "    progress {\n",
       "        /* gets rid of default border in Firefox and Opera. */\n",
       "        border: none;\n",
       "        /* Needs to be in here for Safari polyfill so background images work as expected. */\n",
       "        background-size: auto;\n",
       "    }\n",
       "    .progress-bar-interrupted, .progress-bar-interrupted::-webkit-progress-bar {\n",
       "        background: #F44336;\n",
       "    }\n",
       "</style>\n"
      ],
      "text/plain": [
       "<IPython.core.display.HTML object>"
      ]
     },
     "metadata": {},
     "output_type": "display_data"
    },
    {
     "data": {
      "text/html": [],
      "text/plain": [
       "<IPython.core.display.HTML object>"
      ]
     },
     "metadata": {},
     "output_type": "display_data"
    },
    {
     "name": "stdout",
     "output_type": "stream",
     "text": [
      "this is the final results Activity: {'Dead': 99.99} \n",
      "this is the final results Activity: {'Dead': 99.99, 'Non-dead': 0.0} \n",
      "this is the final results Activity: {'Dead': 99.99, 'Non-dead': 0.0, 'Player_Activity': 0.01} \n"
     ]
    },
    {
     "data": {
      "text/html": [
       "\n",
       "<style>\n",
       "    /* Turns off some styling */\n",
       "    progress {\n",
       "        /* gets rid of default border in Firefox and Opera. */\n",
       "        border: none;\n",
       "        /* Needs to be in here for Safari polyfill so background images work as expected. */\n",
       "        background-size: auto;\n",
       "    }\n",
       "    .progress-bar-interrupted, .progress-bar-interrupted::-webkit-progress-bar {\n",
       "        background: #F44336;\n",
       "    }\n",
       "</style>\n"
      ],
      "text/plain": [
       "<IPython.core.display.HTML object>"
      ]
     },
     "metadata": {},
     "output_type": "display_data"
    },
    {
     "data": {
      "text/html": [],
      "text/plain": [
       "<IPython.core.display.HTML object>"
      ]
     },
     "metadata": {},
     "output_type": "display_data"
    },
    {
     "name": "stdout",
     "output_type": "stream",
     "text": [
      "this is the final results Activity: {'Dead': 92.762} \n",
      "this is the final results Activity: {'Dead': 92.762, 'Non-dead': 6.985} \n",
      "this is the final results Activity: {'Dead': 92.762, 'Non-dead': 6.985, 'Player_Activity': 0.253} \n"
     ]
    },
    {
     "data": {
      "text/html": [
       "\n",
       "<style>\n",
       "    /* Turns off some styling */\n",
       "    progress {\n",
       "        /* gets rid of default border in Firefox and Opera. */\n",
       "        border: none;\n",
       "        /* Needs to be in here for Safari polyfill so background images work as expected. */\n",
       "        background-size: auto;\n",
       "    }\n",
       "    .progress-bar-interrupted, .progress-bar-interrupted::-webkit-progress-bar {\n",
       "        background: #F44336;\n",
       "    }\n",
       "</style>\n"
      ],
      "text/plain": [
       "<IPython.core.display.HTML object>"
      ]
     },
     "metadata": {},
     "output_type": "display_data"
    },
    {
     "data": {
      "text/html": [],
      "text/plain": [
       "<IPython.core.display.HTML object>"
      ]
     },
     "metadata": {},
     "output_type": "display_data"
    },
    {
     "name": "stdout",
     "output_type": "stream",
     "text": [
      "this is the final results Activity: {'Dead': 47.453} \n",
      "this is the final results Activity: {'Dead': 47.453, 'Non-dead': 50.717} \n",
      "this is the final results Activity: {'Dead': 47.453, 'Non-dead': 50.717, 'Player_Activity': 1.83} \n"
     ]
    },
    {
     "data": {
      "text/html": [
       "\n",
       "<style>\n",
       "    /* Turns off some styling */\n",
       "    progress {\n",
       "        /* gets rid of default border in Firefox and Opera. */\n",
       "        border: none;\n",
       "        /* Needs to be in here for Safari polyfill so background images work as expected. */\n",
       "        background-size: auto;\n",
       "    }\n",
       "    .progress-bar-interrupted, .progress-bar-interrupted::-webkit-progress-bar {\n",
       "        background: #F44336;\n",
       "    }\n",
       "</style>\n"
      ],
      "text/plain": [
       "<IPython.core.display.HTML object>"
      ]
     },
     "metadata": {},
     "output_type": "display_data"
    },
    {
     "data": {
      "text/html": [],
      "text/plain": [
       "<IPython.core.display.HTML object>"
      ]
     },
     "metadata": {},
     "output_type": "display_data"
    },
    {
     "name": "stdout",
     "output_type": "stream",
     "text": [
      "this is the final results Activity: {'Dead': 8.243} \n",
      "this is the final results Activity: {'Dead': 8.243, 'Non-dead': 89.485} \n",
      "this is the final results Activity: {'Dead': 8.243, 'Non-dead': 89.485, 'Player_Activity': 2.272} \n"
     ]
    },
    {
     "data": {
      "text/html": [
       "\n",
       "<style>\n",
       "    /* Turns off some styling */\n",
       "    progress {\n",
       "        /* gets rid of default border in Firefox and Opera. */\n",
       "        border: none;\n",
       "        /* Needs to be in here for Safari polyfill so background images work as expected. */\n",
       "        background-size: auto;\n",
       "    }\n",
       "    .progress-bar-interrupted, .progress-bar-interrupted::-webkit-progress-bar {\n",
       "        background: #F44336;\n",
       "    }\n",
       "</style>\n"
      ],
      "text/plain": [
       "<IPython.core.display.HTML object>"
      ]
     },
     "metadata": {},
     "output_type": "display_data"
    },
    {
     "data": {
      "text/html": [],
      "text/plain": [
       "<IPython.core.display.HTML object>"
      ]
     },
     "metadata": {},
     "output_type": "display_data"
    },
    {
     "name": "stdout",
     "output_type": "stream",
     "text": [
      "this is the final results Activity: {'Dead': 2.432} \n",
      "this is the final results Activity: {'Dead': 2.432, 'Non-dead': 97.127} \n",
      "this is the final results Activity: {'Dead': 2.432, 'Non-dead': 97.127, 'Player_Activity': 0.441} \n"
     ]
    },
    {
     "data": {
      "text/html": [
       "\n",
       "<style>\n",
       "    /* Turns off some styling */\n",
       "    progress {\n",
       "        /* gets rid of default border in Firefox and Opera. */\n",
       "        border: none;\n",
       "        /* Needs to be in here for Safari polyfill so background images work as expected. */\n",
       "        background-size: auto;\n",
       "    }\n",
       "    .progress-bar-interrupted, .progress-bar-interrupted::-webkit-progress-bar {\n",
       "        background: #F44336;\n",
       "    }\n",
       "</style>\n"
      ],
      "text/plain": [
       "<IPython.core.display.HTML object>"
      ]
     },
     "metadata": {},
     "output_type": "display_data"
    },
    {
     "data": {
      "text/html": [],
      "text/plain": [
       "<IPython.core.display.HTML object>"
      ]
     },
     "metadata": {},
     "output_type": "display_data"
    },
    {
     "name": "stdout",
     "output_type": "stream",
     "text": [
      "this is the final results Activity: {'Dead': 0.006} \n",
      "this is the final results Activity: {'Dead': 0.006, 'Non-dead': 99.994} \n",
      "this is the final results Activity: {'Dead': 0.006, 'Non-dead': 99.994, 'Player_Activity': 0.0} \n"
     ]
    },
    {
     "data": {
      "text/html": [
       "\n",
       "<style>\n",
       "    /* Turns off some styling */\n",
       "    progress {\n",
       "        /* gets rid of default border in Firefox and Opera. */\n",
       "        border: none;\n",
       "        /* Needs to be in here for Safari polyfill so background images work as expected. */\n",
       "        background-size: auto;\n",
       "    }\n",
       "    .progress-bar-interrupted, .progress-bar-interrupted::-webkit-progress-bar {\n",
       "        background: #F44336;\n",
       "    }\n",
       "</style>\n"
      ],
      "text/plain": [
       "<IPython.core.display.HTML object>"
      ]
     },
     "metadata": {},
     "output_type": "display_data"
    },
    {
     "data": {
      "text/html": [],
      "text/plain": [
       "<IPython.core.display.HTML object>"
      ]
     },
     "metadata": {},
     "output_type": "display_data"
    },
    {
     "name": "stdout",
     "output_type": "stream",
     "text": [
      "this is the final results Activity: {'Dead': 0.0} \n",
      "this is the final results Activity: {'Dead': 0.0, 'Non-dead': 99.999} \n",
      "this is the final results Activity: {'Dead': 0.0, 'Non-dead': 99.999, 'Player_Activity': 0.001} \n"
     ]
    },
    {
     "data": {
      "text/html": [
       "\n",
       "<style>\n",
       "    /* Turns off some styling */\n",
       "    progress {\n",
       "        /* gets rid of default border in Firefox and Opera. */\n",
       "        border: none;\n",
       "        /* Needs to be in here for Safari polyfill so background images work as expected. */\n",
       "        background-size: auto;\n",
       "    }\n",
       "    .progress-bar-interrupted, .progress-bar-interrupted::-webkit-progress-bar {\n",
       "        background: #F44336;\n",
       "    }\n",
       "</style>\n"
      ],
      "text/plain": [
       "<IPython.core.display.HTML object>"
      ]
     },
     "metadata": {},
     "output_type": "display_data"
    },
    {
     "data": {
      "text/html": [],
      "text/plain": [
       "<IPython.core.display.HTML object>"
      ]
     },
     "metadata": {},
     "output_type": "display_data"
    },
    {
     "name": "stdout",
     "output_type": "stream",
     "text": [
      "this is the final results Activity: {'Dead': 0.014} \n",
      "this is the final results Activity: {'Dead': 0.014, 'Non-dead': 99.986} \n",
      "this is the final results Activity: {'Dead': 0.014, 'Non-dead': 99.986, 'Player_Activity': 0.0} \n"
     ]
    },
    {
     "data": {
      "text/html": [
       "\n",
       "<style>\n",
       "    /* Turns off some styling */\n",
       "    progress {\n",
       "        /* gets rid of default border in Firefox and Opera. */\n",
       "        border: none;\n",
       "        /* Needs to be in here for Safari polyfill so background images work as expected. */\n",
       "        background-size: auto;\n",
       "    }\n",
       "    .progress-bar-interrupted, .progress-bar-interrupted::-webkit-progress-bar {\n",
       "        background: #F44336;\n",
       "    }\n",
       "</style>\n"
      ],
      "text/plain": [
       "<IPython.core.display.HTML object>"
      ]
     },
     "metadata": {},
     "output_type": "display_data"
    },
    {
     "data": {
      "text/html": [],
      "text/plain": [
       "<IPython.core.display.HTML object>"
      ]
     },
     "metadata": {},
     "output_type": "display_data"
    },
    {
     "name": "stdout",
     "output_type": "stream",
     "text": [
      "this is the final results Activity: {'Dead': 68.551} \n",
      "this is the final results Activity: {'Dead': 68.551, 'Non-dead': 0.0} \n",
      "this is the final results Activity: {'Dead': 68.551, 'Non-dead': 0.0, 'Player_Activity': 31.449} \n"
     ]
    },
    {
     "data": {
      "text/html": [
       "\n",
       "<style>\n",
       "    /* Turns off some styling */\n",
       "    progress {\n",
       "        /* gets rid of default border in Firefox and Opera. */\n",
       "        border: none;\n",
       "        /* Needs to be in here for Safari polyfill so background images work as expected. */\n",
       "        background-size: auto;\n",
       "    }\n",
       "    .progress-bar-interrupted, .progress-bar-interrupted::-webkit-progress-bar {\n",
       "        background: #F44336;\n",
       "    }\n",
       "</style>\n"
      ],
      "text/plain": [
       "<IPython.core.display.HTML object>"
      ]
     },
     "metadata": {},
     "output_type": "display_data"
    },
    {
     "data": {
      "text/html": [],
      "text/plain": [
       "<IPython.core.display.HTML object>"
      ]
     },
     "metadata": {},
     "output_type": "display_data"
    },
    {
     "name": "stdout",
     "output_type": "stream",
     "text": [
      "this is the final results Activity: {'Dead': 1.911} \n",
      "this is the final results Activity: {'Dead': 1.911, 'Non-dead': 0.0} \n",
      "this is the final results Activity: {'Dead': 1.911, 'Non-dead': 0.0, 'Player_Activity': 98.089} \n"
     ]
    },
    {
     "data": {
      "text/html": [
       "\n",
       "<style>\n",
       "    /* Turns off some styling */\n",
       "    progress {\n",
       "        /* gets rid of default border in Firefox and Opera. */\n",
       "        border: none;\n",
       "        /* Needs to be in here for Safari polyfill so background images work as expected. */\n",
       "        background-size: auto;\n",
       "    }\n",
       "    .progress-bar-interrupted, .progress-bar-interrupted::-webkit-progress-bar {\n",
       "        background: #F44336;\n",
       "    }\n",
       "</style>\n"
      ],
      "text/plain": [
       "<IPython.core.display.HTML object>"
      ]
     },
     "metadata": {},
     "output_type": "display_data"
    },
    {
     "data": {
      "text/html": [],
      "text/plain": [
       "<IPython.core.display.HTML object>"
      ]
     },
     "metadata": {},
     "output_type": "display_data"
    },
    {
     "name": "stdout",
     "output_type": "stream",
     "text": [
      "this is the final results Activity: {'Dead': 0.025} \n",
      "this is the final results Activity: {'Dead': 0.025, 'Non-dead': 99.975} \n",
      "this is the final results Activity: {'Dead': 0.025, 'Non-dead': 99.975, 'Player_Activity': 0.0} \n"
     ]
    },
    {
     "data": {
      "text/html": [
       "\n",
       "<style>\n",
       "    /* Turns off some styling */\n",
       "    progress {\n",
       "        /* gets rid of default border in Firefox and Opera. */\n",
       "        border: none;\n",
       "        /* Needs to be in here for Safari polyfill so background images work as expected. */\n",
       "        background-size: auto;\n",
       "    }\n",
       "    .progress-bar-interrupted, .progress-bar-interrupted::-webkit-progress-bar {\n",
       "        background: #F44336;\n",
       "    }\n",
       "</style>\n"
      ],
      "text/plain": [
       "<IPython.core.display.HTML object>"
      ]
     },
     "metadata": {},
     "output_type": "display_data"
    },
    {
     "data": {
      "text/html": [],
      "text/plain": [
       "<IPython.core.display.HTML object>"
      ]
     },
     "metadata": {},
     "output_type": "display_data"
    },
    {
     "name": "stdout",
     "output_type": "stream",
     "text": [
      "this is the final results Activity: {'Dead': 0.0} \n",
      "this is the final results Activity: {'Dead': 0.0, 'Non-dead': 100.0} \n",
      "this is the final results Activity: {'Dead': 0.0, 'Non-dead': 100.0, 'Player_Activity': 0.0} \n"
     ]
    },
    {
     "data": {
      "text/html": [
       "\n",
       "<style>\n",
       "    /* Turns off some styling */\n",
       "    progress {\n",
       "        /* gets rid of default border in Firefox and Opera. */\n",
       "        border: none;\n",
       "        /* Needs to be in here for Safari polyfill so background images work as expected. */\n",
       "        background-size: auto;\n",
       "    }\n",
       "    .progress-bar-interrupted, .progress-bar-interrupted::-webkit-progress-bar {\n",
       "        background: #F44336;\n",
       "    }\n",
       "</style>\n"
      ],
      "text/plain": [
       "<IPython.core.display.HTML object>"
      ]
     },
     "metadata": {},
     "output_type": "display_data"
    },
    {
     "data": {
      "text/html": [],
      "text/plain": [
       "<IPython.core.display.HTML object>"
      ]
     },
     "metadata": {},
     "output_type": "display_data"
    },
    {
     "name": "stdout",
     "output_type": "stream",
     "text": [
      "this is the final results Activity: {'Dead': 0.0} \n",
      "this is the final results Activity: {'Dead': 0.0, 'Non-dead': 100.0} \n",
      "this is the final results Activity: {'Dead': 0.0, 'Non-dead': 100.0, 'Player_Activity': 0.0} \n"
     ]
    },
    {
     "data": {
      "text/html": [
       "\n",
       "<style>\n",
       "    /* Turns off some styling */\n",
       "    progress {\n",
       "        /* gets rid of default border in Firefox and Opera. */\n",
       "        border: none;\n",
       "        /* Needs to be in here for Safari polyfill so background images work as expected. */\n",
       "        background-size: auto;\n",
       "    }\n",
       "    .progress-bar-interrupted, .progress-bar-interrupted::-webkit-progress-bar {\n",
       "        background: #F44336;\n",
       "    }\n",
       "</style>\n"
      ],
      "text/plain": [
       "<IPython.core.display.HTML object>"
      ]
     },
     "metadata": {},
     "output_type": "display_data"
    },
    {
     "data": {
      "text/html": [],
      "text/plain": [
       "<IPython.core.display.HTML object>"
      ]
     },
     "metadata": {},
     "output_type": "display_data"
    },
    {
     "name": "stdout",
     "output_type": "stream",
     "text": [
      "this is the final results Activity: {'Dead': 0.0} \n",
      "this is the final results Activity: {'Dead': 0.0, 'Non-dead': 100.0} \n",
      "this is the final results Activity: {'Dead': 0.0, 'Non-dead': 100.0, 'Player_Activity': 0.0} \n"
     ]
    },
    {
     "data": {
      "text/html": [
       "\n",
       "<style>\n",
       "    /* Turns off some styling */\n",
       "    progress {\n",
       "        /* gets rid of default border in Firefox and Opera. */\n",
       "        border: none;\n",
       "        /* Needs to be in here for Safari polyfill so background images work as expected. */\n",
       "        background-size: auto;\n",
       "    }\n",
       "    .progress-bar-interrupted, .progress-bar-interrupted::-webkit-progress-bar {\n",
       "        background: #F44336;\n",
       "    }\n",
       "</style>\n"
      ],
      "text/plain": [
       "<IPython.core.display.HTML object>"
      ]
     },
     "metadata": {},
     "output_type": "display_data"
    },
    {
     "data": {
      "text/html": [],
      "text/plain": [
       "<IPython.core.display.HTML object>"
      ]
     },
     "metadata": {},
     "output_type": "display_data"
    },
    {
     "name": "stdout",
     "output_type": "stream",
     "text": [
      "this is the final results Activity: {'Dead': 0.0} \n",
      "this is the final results Activity: {'Dead': 0.0, 'Non-dead': 100.0} \n",
      "this is the final results Activity: {'Dead': 0.0, 'Non-dead': 100.0, 'Player_Activity': 0.0} \n"
     ]
    },
    {
     "data": {
      "text/html": [
       "\n",
       "<style>\n",
       "    /* Turns off some styling */\n",
       "    progress {\n",
       "        /* gets rid of default border in Firefox and Opera. */\n",
       "        border: none;\n",
       "        /* Needs to be in here for Safari polyfill so background images work as expected. */\n",
       "        background-size: auto;\n",
       "    }\n",
       "    .progress-bar-interrupted, .progress-bar-interrupted::-webkit-progress-bar {\n",
       "        background: #F44336;\n",
       "    }\n",
       "</style>\n"
      ],
      "text/plain": [
       "<IPython.core.display.HTML object>"
      ]
     },
     "metadata": {},
     "output_type": "display_data"
    },
    {
     "data": {
      "text/html": [],
      "text/plain": [
       "<IPython.core.display.HTML object>"
      ]
     },
     "metadata": {},
     "output_type": "display_data"
    },
    {
     "name": "stdout",
     "output_type": "stream",
     "text": [
      "this is the final results Activity: {'Dead': 0.0} \n",
      "this is the final results Activity: {'Dead': 0.0, 'Non-dead': 100.0} \n",
      "this is the final results Activity: {'Dead': 0.0, 'Non-dead': 100.0, 'Player_Activity': 0.0} \n"
     ]
    },
    {
     "data": {
      "text/html": [
       "\n",
       "<style>\n",
       "    /* Turns off some styling */\n",
       "    progress {\n",
       "        /* gets rid of default border in Firefox and Opera. */\n",
       "        border: none;\n",
       "        /* Needs to be in here for Safari polyfill so background images work as expected. */\n",
       "        background-size: auto;\n",
       "    }\n",
       "    .progress-bar-interrupted, .progress-bar-interrupted::-webkit-progress-bar {\n",
       "        background: #F44336;\n",
       "    }\n",
       "</style>\n"
      ],
      "text/plain": [
       "<IPython.core.display.HTML object>"
      ]
     },
     "metadata": {},
     "output_type": "display_data"
    },
    {
     "data": {
      "text/html": [],
      "text/plain": [
       "<IPython.core.display.HTML object>"
      ]
     },
     "metadata": {},
     "output_type": "display_data"
    },
    {
     "name": "stdout",
     "output_type": "stream",
     "text": [
      "this is the final results Activity: {'Dead': 0.0} \n",
      "this is the final results Activity: {'Dead': 0.0, 'Non-dead': 99.929} \n",
      "this is the final results Activity: {'Dead': 0.0, 'Non-dead': 99.929, 'Player_Activity': 0.071} \n"
     ]
    },
    {
     "data": {
      "text/html": [
       "\n",
       "<style>\n",
       "    /* Turns off some styling */\n",
       "    progress {\n",
       "        /* gets rid of default border in Firefox and Opera. */\n",
       "        border: none;\n",
       "        /* Needs to be in here for Safari polyfill so background images work as expected. */\n",
       "        background-size: auto;\n",
       "    }\n",
       "    .progress-bar-interrupted, .progress-bar-interrupted::-webkit-progress-bar {\n",
       "        background: #F44336;\n",
       "    }\n",
       "</style>\n"
      ],
      "text/plain": [
       "<IPython.core.display.HTML object>"
      ]
     },
     "metadata": {},
     "output_type": "display_data"
    },
    {
     "data": {
      "text/html": [],
      "text/plain": [
       "<IPython.core.display.HTML object>"
      ]
     },
     "metadata": {},
     "output_type": "display_data"
    },
    {
     "name": "stdout",
     "output_type": "stream",
     "text": [
      "this is the final results Activity: {'Dead': 0.0} \n",
      "this is the final results Activity: {'Dead': 0.0, 'Non-dead': 100.0} \n",
      "this is the final results Activity: {'Dead': 0.0, 'Non-dead': 100.0, 'Player_Activity': 0.0} \n"
     ]
    },
    {
     "data": {
      "text/html": [
       "\n",
       "<style>\n",
       "    /* Turns off some styling */\n",
       "    progress {\n",
       "        /* gets rid of default border in Firefox and Opera. */\n",
       "        border: none;\n",
       "        /* Needs to be in here for Safari polyfill so background images work as expected. */\n",
       "        background-size: auto;\n",
       "    }\n",
       "    .progress-bar-interrupted, .progress-bar-interrupted::-webkit-progress-bar {\n",
       "        background: #F44336;\n",
       "    }\n",
       "</style>\n"
      ],
      "text/plain": [
       "<IPython.core.display.HTML object>"
      ]
     },
     "metadata": {},
     "output_type": "display_data"
    },
    {
     "data": {
      "text/html": [],
      "text/plain": [
       "<IPython.core.display.HTML object>"
      ]
     },
     "metadata": {},
     "output_type": "display_data"
    },
    {
     "name": "stdout",
     "output_type": "stream",
     "text": [
      "this is the final results Activity: {'Dead': 1.832} \n",
      "this is the final results Activity: {'Dead': 1.832, 'Non-dead': 0.257} \n",
      "this is the final results Activity: {'Dead': 1.832, 'Non-dead': 0.257, 'Player_Activity': 97.911} \n"
     ]
    },
    {
     "data": {
      "text/html": [
       "\n",
       "<style>\n",
       "    /* Turns off some styling */\n",
       "    progress {\n",
       "        /* gets rid of default border in Firefox and Opera. */\n",
       "        border: none;\n",
       "        /* Needs to be in here for Safari polyfill so background images work as expected. */\n",
       "        background-size: auto;\n",
       "    }\n",
       "    .progress-bar-interrupted, .progress-bar-interrupted::-webkit-progress-bar {\n",
       "        background: #F44336;\n",
       "    }\n",
       "</style>\n"
      ],
      "text/plain": [
       "<IPython.core.display.HTML object>"
      ]
     },
     "metadata": {},
     "output_type": "display_data"
    },
    {
     "data": {
      "text/html": [],
      "text/plain": [
       "<IPython.core.display.HTML object>"
      ]
     },
     "metadata": {},
     "output_type": "display_data"
    },
    {
     "name": "stdout",
     "output_type": "stream",
     "text": [
      "this is the final results Activity: {'Dead': 0.025} \n",
      "this is the final results Activity: {'Dead': 0.025, 'Non-dead': 99.972} \n",
      "this is the final results Activity: {'Dead': 0.025, 'Non-dead': 99.972, 'Player_Activity': 0.003} \n"
     ]
    },
    {
     "data": {
      "text/html": [
       "\n",
       "<style>\n",
       "    /* Turns off some styling */\n",
       "    progress {\n",
       "        /* gets rid of default border in Firefox and Opera. */\n",
       "        border: none;\n",
       "        /* Needs to be in here for Safari polyfill so background images work as expected. */\n",
       "        background-size: auto;\n",
       "    }\n",
       "    .progress-bar-interrupted, .progress-bar-interrupted::-webkit-progress-bar {\n",
       "        background: #F44336;\n",
       "    }\n",
       "</style>\n"
      ],
      "text/plain": [
       "<IPython.core.display.HTML object>"
      ]
     },
     "metadata": {},
     "output_type": "display_data"
    },
    {
     "data": {
      "text/html": [],
      "text/plain": [
       "<IPython.core.display.HTML object>"
      ]
     },
     "metadata": {},
     "output_type": "display_data"
    },
    {
     "name": "stdout",
     "output_type": "stream",
     "text": [
      "this is the final results Activity: {'Dead': 0.004} \n",
      "this is the final results Activity: {'Dead': 0.004, 'Non-dead': 99.996} \n",
      "this is the final results Activity: {'Dead': 0.004, 'Non-dead': 99.996, 'Player_Activity': 0.0} \n"
     ]
    },
    {
     "data": {
      "text/html": [
       "\n",
       "<style>\n",
       "    /* Turns off some styling */\n",
       "    progress {\n",
       "        /* gets rid of default border in Firefox and Opera. */\n",
       "        border: none;\n",
       "        /* Needs to be in here for Safari polyfill so background images work as expected. */\n",
       "        background-size: auto;\n",
       "    }\n",
       "    .progress-bar-interrupted, .progress-bar-interrupted::-webkit-progress-bar {\n",
       "        background: #F44336;\n",
       "    }\n",
       "</style>\n"
      ],
      "text/plain": [
       "<IPython.core.display.HTML object>"
      ]
     },
     "metadata": {},
     "output_type": "display_data"
    },
    {
     "data": {
      "text/html": [],
      "text/plain": [
       "<IPython.core.display.HTML object>"
      ]
     },
     "metadata": {},
     "output_type": "display_data"
    },
    {
     "name": "stdout",
     "output_type": "stream",
     "text": [
      "this is the final results Activity: {'Dead': 0.0} \n",
      "this is the final results Activity: {'Dead': 0.0, 'Non-dead': 99.994} \n",
      "this is the final results Activity: {'Dead': 0.0, 'Non-dead': 99.994, 'Player_Activity': 0.006} \n"
     ]
    },
    {
     "data": {
      "text/html": [
       "\n",
       "<style>\n",
       "    /* Turns off some styling */\n",
       "    progress {\n",
       "        /* gets rid of default border in Firefox and Opera. */\n",
       "        border: none;\n",
       "        /* Needs to be in here for Safari polyfill so background images work as expected. */\n",
       "        background-size: auto;\n",
       "    }\n",
       "    .progress-bar-interrupted, .progress-bar-interrupted::-webkit-progress-bar {\n",
       "        background: #F44336;\n",
       "    }\n",
       "</style>\n"
      ],
      "text/plain": [
       "<IPython.core.display.HTML object>"
      ]
     },
     "metadata": {},
     "output_type": "display_data"
    },
    {
     "data": {
      "text/html": [],
      "text/plain": [
       "<IPython.core.display.HTML object>"
      ]
     },
     "metadata": {},
     "output_type": "display_data"
    },
    {
     "name": "stdout",
     "output_type": "stream",
     "text": [
      "this is the final results Activity: {'Dead': 0.0} \n",
      "this is the final results Activity: {'Dead': 0.0, 'Non-dead': 99.918} \n",
      "this is the final results Activity: {'Dead': 0.0, 'Non-dead': 99.918, 'Player_Activity': 0.081} \n"
     ]
    },
    {
     "data": {
      "text/html": [
       "\n",
       "<style>\n",
       "    /* Turns off some styling */\n",
       "    progress {\n",
       "        /* gets rid of default border in Firefox and Opera. */\n",
       "        border: none;\n",
       "        /* Needs to be in here for Safari polyfill so background images work as expected. */\n",
       "        background-size: auto;\n",
       "    }\n",
       "    .progress-bar-interrupted, .progress-bar-interrupted::-webkit-progress-bar {\n",
       "        background: #F44336;\n",
       "    }\n",
       "</style>\n"
      ],
      "text/plain": [
       "<IPython.core.display.HTML object>"
      ]
     },
     "metadata": {},
     "output_type": "display_data"
    },
    {
     "data": {
      "text/html": [],
      "text/plain": [
       "<IPython.core.display.HTML object>"
      ]
     },
     "metadata": {},
     "output_type": "display_data"
    },
    {
     "name": "stdout",
     "output_type": "stream",
     "text": [
      "this is the final results Activity: {'Dead': 0.0} \n",
      "this is the final results Activity: {'Dead': 0.0, 'Non-dead': 0.0} \n",
      "this is the final results Activity: {'Dead': 0.0, 'Non-dead': 0.0, 'Player_Activity': 100.0} \n"
     ]
    },
    {
     "data": {
      "text/html": [
       "\n",
       "<style>\n",
       "    /* Turns off some styling */\n",
       "    progress {\n",
       "        /* gets rid of default border in Firefox and Opera. */\n",
       "        border: none;\n",
       "        /* Needs to be in here for Safari polyfill so background images work as expected. */\n",
       "        background-size: auto;\n",
       "    }\n",
       "    .progress-bar-interrupted, .progress-bar-interrupted::-webkit-progress-bar {\n",
       "        background: #F44336;\n",
       "    }\n",
       "</style>\n"
      ],
      "text/plain": [
       "<IPython.core.display.HTML object>"
      ]
     },
     "metadata": {},
     "output_type": "display_data"
    },
    {
     "data": {
      "text/html": [],
      "text/plain": [
       "<IPython.core.display.HTML object>"
      ]
     },
     "metadata": {},
     "output_type": "display_data"
    },
    {
     "name": "stdout",
     "output_type": "stream",
     "text": [
      "this is the final results Activity: {'Dead': 0.0} \n",
      "this is the final results Activity: {'Dead': 0.0, 'Non-dead': 0.001} \n",
      "this is the final results Activity: {'Dead': 0.0, 'Non-dead': 0.001, 'Player_Activity': 99.999} \n"
     ]
    },
    {
     "data": {
      "text/html": [
       "\n",
       "<style>\n",
       "    /* Turns off some styling */\n",
       "    progress {\n",
       "        /* gets rid of default border in Firefox and Opera. */\n",
       "        border: none;\n",
       "        /* Needs to be in here for Safari polyfill so background images work as expected. */\n",
       "        background-size: auto;\n",
       "    }\n",
       "    .progress-bar-interrupted, .progress-bar-interrupted::-webkit-progress-bar {\n",
       "        background: #F44336;\n",
       "    }\n",
       "</style>\n"
      ],
      "text/plain": [
       "<IPython.core.display.HTML object>"
      ]
     },
     "metadata": {},
     "output_type": "display_data"
    },
    {
     "data": {
      "text/html": [],
      "text/plain": [
       "<IPython.core.display.HTML object>"
      ]
     },
     "metadata": {},
     "output_type": "display_data"
    },
    {
     "name": "stdout",
     "output_type": "stream",
     "text": [
      "this is the final results Activity: {'Dead': 0.0} \n",
      "this is the final results Activity: {'Dead': 0.0, 'Non-dead': 100.0} \n",
      "this is the final results Activity: {'Dead': 0.0, 'Non-dead': 100.0, 'Player_Activity': 0.0} \n"
     ]
    },
    {
     "data": {
      "text/html": [
       "\n",
       "<style>\n",
       "    /* Turns off some styling */\n",
       "    progress {\n",
       "        /* gets rid of default border in Firefox and Opera. */\n",
       "        border: none;\n",
       "        /* Needs to be in here for Safari polyfill so background images work as expected. */\n",
       "        background-size: auto;\n",
       "    }\n",
       "    .progress-bar-interrupted, .progress-bar-interrupted::-webkit-progress-bar {\n",
       "        background: #F44336;\n",
       "    }\n",
       "</style>\n"
      ],
      "text/plain": [
       "<IPython.core.display.HTML object>"
      ]
     },
     "metadata": {},
     "output_type": "display_data"
    },
    {
     "data": {
      "text/html": [],
      "text/plain": [
       "<IPython.core.display.HTML object>"
      ]
     },
     "metadata": {},
     "output_type": "display_data"
    },
    {
     "name": "stdout",
     "output_type": "stream",
     "text": [
      "this is the final results Activity: {'Dead': 0.0} \n",
      "this is the final results Activity: {'Dead': 0.0, 'Non-dead': 100.0} \n",
      "this is the final results Activity: {'Dead': 0.0, 'Non-dead': 100.0, 'Player_Activity': 0.0} \n"
     ]
    },
    {
     "data": {
      "text/html": [
       "\n",
       "<style>\n",
       "    /* Turns off some styling */\n",
       "    progress {\n",
       "        /* gets rid of default border in Firefox and Opera. */\n",
       "        border: none;\n",
       "        /* Needs to be in here for Safari polyfill so background images work as expected. */\n",
       "        background-size: auto;\n",
       "    }\n",
       "    .progress-bar-interrupted, .progress-bar-interrupted::-webkit-progress-bar {\n",
       "        background: #F44336;\n",
       "    }\n",
       "</style>\n"
      ],
      "text/plain": [
       "<IPython.core.display.HTML object>"
      ]
     },
     "metadata": {},
     "output_type": "display_data"
    },
    {
     "data": {
      "text/html": [],
      "text/plain": [
       "<IPython.core.display.HTML object>"
      ]
     },
     "metadata": {},
     "output_type": "display_data"
    },
    {
     "name": "stdout",
     "output_type": "stream",
     "text": [
      "this is the final results Activity: {'Dead': 0.0} \n",
      "this is the final results Activity: {'Dead': 0.0, 'Non-dead': 100.0} \n",
      "this is the final results Activity: {'Dead': 0.0, 'Non-dead': 100.0, 'Player_Activity': 0.0} \n"
     ]
    },
    {
     "data": {
      "text/html": [
       "\n",
       "<style>\n",
       "    /* Turns off some styling */\n",
       "    progress {\n",
       "        /* gets rid of default border in Firefox and Opera. */\n",
       "        border: none;\n",
       "        /* Needs to be in here for Safari polyfill so background images work as expected. */\n",
       "        background-size: auto;\n",
       "    }\n",
       "    .progress-bar-interrupted, .progress-bar-interrupted::-webkit-progress-bar {\n",
       "        background: #F44336;\n",
       "    }\n",
       "</style>\n"
      ],
      "text/plain": [
       "<IPython.core.display.HTML object>"
      ]
     },
     "metadata": {},
     "output_type": "display_data"
    },
    {
     "data": {
      "text/html": [],
      "text/plain": [
       "<IPython.core.display.HTML object>"
      ]
     },
     "metadata": {},
     "output_type": "display_data"
    },
    {
     "name": "stdout",
     "output_type": "stream",
     "text": [
      "this is the final results Activity: {'Dead': 0.001} \n",
      "this is the final results Activity: {'Dead': 0.001, 'Non-dead': 99.999} \n",
      "this is the final results Activity: {'Dead': 0.001, 'Non-dead': 99.999, 'Player_Activity': 0.0} \n"
     ]
    },
    {
     "data": {
      "text/html": [
       "\n",
       "<style>\n",
       "    /* Turns off some styling */\n",
       "    progress {\n",
       "        /* gets rid of default border in Firefox and Opera. */\n",
       "        border: none;\n",
       "        /* Needs to be in here for Safari polyfill so background images work as expected. */\n",
       "        background-size: auto;\n",
       "    }\n",
       "    .progress-bar-interrupted, .progress-bar-interrupted::-webkit-progress-bar {\n",
       "        background: #F44336;\n",
       "    }\n",
       "</style>\n"
      ],
      "text/plain": [
       "<IPython.core.display.HTML object>"
      ]
     },
     "metadata": {},
     "output_type": "display_data"
    },
    {
     "data": {
      "text/html": [],
      "text/plain": [
       "<IPython.core.display.HTML object>"
      ]
     },
     "metadata": {},
     "output_type": "display_data"
    },
    {
     "name": "stdout",
     "output_type": "stream",
     "text": [
      "this is the final results Activity: {'Dead': 0.003} \n",
      "this is the final results Activity: {'Dead': 0.003, 'Non-dead': 99.129} \n",
      "this is the final results Activity: {'Dead': 0.003, 'Non-dead': 99.129, 'Player_Activity': 0.868} \n"
     ]
    },
    {
     "data": {
      "text/html": [
       "\n",
       "<style>\n",
       "    /* Turns off some styling */\n",
       "    progress {\n",
       "        /* gets rid of default border in Firefox and Opera. */\n",
       "        border: none;\n",
       "        /* Needs to be in here for Safari polyfill so background images work as expected. */\n",
       "        background-size: auto;\n",
       "    }\n",
       "    .progress-bar-interrupted, .progress-bar-interrupted::-webkit-progress-bar {\n",
       "        background: #F44336;\n",
       "    }\n",
       "</style>\n"
      ],
      "text/plain": [
       "<IPython.core.display.HTML object>"
      ]
     },
     "metadata": {},
     "output_type": "display_data"
    },
    {
     "data": {
      "text/html": [],
      "text/plain": [
       "<IPython.core.display.HTML object>"
      ]
     },
     "metadata": {},
     "output_type": "display_data"
    },
    {
     "name": "stdout",
     "output_type": "stream",
     "text": [
      "this is the final results Activity: {'Dead': 0.0} \n",
      "this is the final results Activity: {'Dead': 0.0, 'Non-dead': 100.0} \n",
      "this is the final results Activity: {'Dead': 0.0, 'Non-dead': 100.0, 'Player_Activity': 0.0} \n"
     ]
    },
    {
     "data": {
      "text/html": [
       "\n",
       "<style>\n",
       "    /* Turns off some styling */\n",
       "    progress {\n",
       "        /* gets rid of default border in Firefox and Opera. */\n",
       "        border: none;\n",
       "        /* Needs to be in here for Safari polyfill so background images work as expected. */\n",
       "        background-size: auto;\n",
       "    }\n",
       "    .progress-bar-interrupted, .progress-bar-interrupted::-webkit-progress-bar {\n",
       "        background: #F44336;\n",
       "    }\n",
       "</style>\n"
      ],
      "text/plain": [
       "<IPython.core.display.HTML object>"
      ]
     },
     "metadata": {},
     "output_type": "display_data"
    },
    {
     "data": {
      "text/html": [],
      "text/plain": [
       "<IPython.core.display.HTML object>"
      ]
     },
     "metadata": {},
     "output_type": "display_data"
    },
    {
     "name": "stdout",
     "output_type": "stream",
     "text": [
      "this is the final results Activity: {'Dead': 0.0} \n",
      "this is the final results Activity: {'Dead': 0.0, 'Non-dead': 100.0} \n",
      "this is the final results Activity: {'Dead': 0.0, 'Non-dead': 100.0, 'Player_Activity': 0.0} \n"
     ]
    },
    {
     "data": {
      "text/html": [
       "\n",
       "<style>\n",
       "    /* Turns off some styling */\n",
       "    progress {\n",
       "        /* gets rid of default border in Firefox and Opera. */\n",
       "        border: none;\n",
       "        /* Needs to be in here for Safari polyfill so background images work as expected. */\n",
       "        background-size: auto;\n",
       "    }\n",
       "    .progress-bar-interrupted, .progress-bar-interrupted::-webkit-progress-bar {\n",
       "        background: #F44336;\n",
       "    }\n",
       "</style>\n"
      ],
      "text/plain": [
       "<IPython.core.display.HTML object>"
      ]
     },
     "metadata": {},
     "output_type": "display_data"
    },
    {
     "data": {
      "text/html": [],
      "text/plain": [
       "<IPython.core.display.HTML object>"
      ]
     },
     "metadata": {},
     "output_type": "display_data"
    },
    {
     "name": "stdout",
     "output_type": "stream",
     "text": [
      "this is the final results Activity: {'Dead': 0.0} \n",
      "this is the final results Activity: {'Dead': 0.0, 'Non-dead': 100.0} \n",
      "this is the final results Activity: {'Dead': 0.0, 'Non-dead': 100.0, 'Player_Activity': 0.0} \n"
     ]
    },
    {
     "data": {
      "text/html": [
       "\n",
       "<style>\n",
       "    /* Turns off some styling */\n",
       "    progress {\n",
       "        /* gets rid of default border in Firefox and Opera. */\n",
       "        border: none;\n",
       "        /* Needs to be in here for Safari polyfill so background images work as expected. */\n",
       "        background-size: auto;\n",
       "    }\n",
       "    .progress-bar-interrupted, .progress-bar-interrupted::-webkit-progress-bar {\n",
       "        background: #F44336;\n",
       "    }\n",
       "</style>\n"
      ],
      "text/plain": [
       "<IPython.core.display.HTML object>"
      ]
     },
     "metadata": {},
     "output_type": "display_data"
    },
    {
     "data": {
      "text/html": [],
      "text/plain": [
       "<IPython.core.display.HTML object>"
      ]
     },
     "metadata": {},
     "output_type": "display_data"
    },
    {
     "name": "stdout",
     "output_type": "stream",
     "text": [
      "this is the final results Activity: {'Dead': 0.0} \n",
      "this is the final results Activity: {'Dead': 0.0, 'Non-dead': 100.0} \n",
      "this is the final results Activity: {'Dead': 0.0, 'Non-dead': 100.0, 'Player_Activity': 0.0} \n"
     ]
    },
    {
     "data": {
      "text/html": [
       "\n",
       "<style>\n",
       "    /* Turns off some styling */\n",
       "    progress {\n",
       "        /* gets rid of default border in Firefox and Opera. */\n",
       "        border: none;\n",
       "        /* Needs to be in here for Safari polyfill so background images work as expected. */\n",
       "        background-size: auto;\n",
       "    }\n",
       "    .progress-bar-interrupted, .progress-bar-interrupted::-webkit-progress-bar {\n",
       "        background: #F44336;\n",
       "    }\n",
       "</style>\n"
      ],
      "text/plain": [
       "<IPython.core.display.HTML object>"
      ]
     },
     "metadata": {},
     "output_type": "display_data"
    },
    {
     "data": {
      "text/html": [],
      "text/plain": [
       "<IPython.core.display.HTML object>"
      ]
     },
     "metadata": {},
     "output_type": "display_data"
    },
    {
     "name": "stdout",
     "output_type": "stream",
     "text": [
      "this is the final results Activity: {'Dead': 0.0} \n",
      "this is the final results Activity: {'Dead': 0.0, 'Non-dead': 100.0} \n",
      "this is the final results Activity: {'Dead': 0.0, 'Non-dead': 100.0, 'Player_Activity': 0.0} \n"
     ]
    },
    {
     "data": {
      "text/html": [
       "\n",
       "<style>\n",
       "    /* Turns off some styling */\n",
       "    progress {\n",
       "        /* gets rid of default border in Firefox and Opera. */\n",
       "        border: none;\n",
       "        /* Needs to be in here for Safari polyfill so background images work as expected. */\n",
       "        background-size: auto;\n",
       "    }\n",
       "    .progress-bar-interrupted, .progress-bar-interrupted::-webkit-progress-bar {\n",
       "        background: #F44336;\n",
       "    }\n",
       "</style>\n"
      ],
      "text/plain": [
       "<IPython.core.display.HTML object>"
      ]
     },
     "metadata": {},
     "output_type": "display_data"
    },
    {
     "data": {
      "text/html": [],
      "text/plain": [
       "<IPython.core.display.HTML object>"
      ]
     },
     "metadata": {},
     "output_type": "display_data"
    },
    {
     "name": "stdout",
     "output_type": "stream",
     "text": [
      "this is the final results Activity: {'Dead': 0.0} \n",
      "this is the final results Activity: {'Dead': 0.0, 'Non-dead': 100.0} \n",
      "this is the final results Activity: {'Dead': 0.0, 'Non-dead': 100.0, 'Player_Activity': 0.0} \n"
     ]
    },
    {
     "data": {
      "text/html": [
       "\n",
       "<style>\n",
       "    /* Turns off some styling */\n",
       "    progress {\n",
       "        /* gets rid of default border in Firefox and Opera. */\n",
       "        border: none;\n",
       "        /* Needs to be in here for Safari polyfill so background images work as expected. */\n",
       "        background-size: auto;\n",
       "    }\n",
       "    .progress-bar-interrupted, .progress-bar-interrupted::-webkit-progress-bar {\n",
       "        background: #F44336;\n",
       "    }\n",
       "</style>\n"
      ],
      "text/plain": [
       "<IPython.core.display.HTML object>"
      ]
     },
     "metadata": {},
     "output_type": "display_data"
    },
    {
     "data": {
      "text/html": [],
      "text/plain": [
       "<IPython.core.display.HTML object>"
      ]
     },
     "metadata": {},
     "output_type": "display_data"
    },
    {
     "name": "stdout",
     "output_type": "stream",
     "text": [
      "this is the final results Activity: {'Dead': 0.0} \n",
      "this is the final results Activity: {'Dead': 0.0, 'Non-dead': 100.0} \n",
      "this is the final results Activity: {'Dead': 0.0, 'Non-dead': 100.0, 'Player_Activity': 0.0} \n"
     ]
    },
    {
     "data": {
      "text/html": [
       "\n",
       "<style>\n",
       "    /* Turns off some styling */\n",
       "    progress {\n",
       "        /* gets rid of default border in Firefox and Opera. */\n",
       "        border: none;\n",
       "        /* Needs to be in here for Safari polyfill so background images work as expected. */\n",
       "        background-size: auto;\n",
       "    }\n",
       "    .progress-bar-interrupted, .progress-bar-interrupted::-webkit-progress-bar {\n",
       "        background: #F44336;\n",
       "    }\n",
       "</style>\n"
      ],
      "text/plain": [
       "<IPython.core.display.HTML object>"
      ]
     },
     "metadata": {},
     "output_type": "display_data"
    },
    {
     "data": {
      "text/html": [],
      "text/plain": [
       "<IPython.core.display.HTML object>"
      ]
     },
     "metadata": {},
     "output_type": "display_data"
    },
    {
     "name": "stdout",
     "output_type": "stream",
     "text": [
      "this is the final results Activity: {'Dead': 0.0} \n",
      "this is the final results Activity: {'Dead': 0.0, 'Non-dead': 100.0} \n",
      "this is the final results Activity: {'Dead': 0.0, 'Non-dead': 100.0, 'Player_Activity': 0.0} \n"
     ]
    },
    {
     "data": {
      "text/html": [
       "\n",
       "<style>\n",
       "    /* Turns off some styling */\n",
       "    progress {\n",
       "        /* gets rid of default border in Firefox and Opera. */\n",
       "        border: none;\n",
       "        /* Needs to be in here for Safari polyfill so background images work as expected. */\n",
       "        background-size: auto;\n",
       "    }\n",
       "    .progress-bar-interrupted, .progress-bar-interrupted::-webkit-progress-bar {\n",
       "        background: #F44336;\n",
       "    }\n",
       "</style>\n"
      ],
      "text/plain": [
       "<IPython.core.display.HTML object>"
      ]
     },
     "metadata": {},
     "output_type": "display_data"
    },
    {
     "data": {
      "text/html": [],
      "text/plain": [
       "<IPython.core.display.HTML object>"
      ]
     },
     "metadata": {},
     "output_type": "display_data"
    },
    {
     "name": "stdout",
     "output_type": "stream",
     "text": [
      "this is the final results Activity: {'Dead': 0.0} \n",
      "this is the final results Activity: {'Dead': 0.0, 'Non-dead': 100.0} \n",
      "this is the final results Activity: {'Dead': 0.0, 'Non-dead': 100.0, 'Player_Activity': 0.0} \n"
     ]
    },
    {
     "data": {
      "text/html": [
       "\n",
       "<style>\n",
       "    /* Turns off some styling */\n",
       "    progress {\n",
       "        /* gets rid of default border in Firefox and Opera. */\n",
       "        border: none;\n",
       "        /* Needs to be in here for Safari polyfill so background images work as expected. */\n",
       "        background-size: auto;\n",
       "    }\n",
       "    .progress-bar-interrupted, .progress-bar-interrupted::-webkit-progress-bar {\n",
       "        background: #F44336;\n",
       "    }\n",
       "</style>\n"
      ],
      "text/plain": [
       "<IPython.core.display.HTML object>"
      ]
     },
     "metadata": {},
     "output_type": "display_data"
    },
    {
     "data": {
      "text/html": [],
      "text/plain": [
       "<IPython.core.display.HTML object>"
      ]
     },
     "metadata": {},
     "output_type": "display_data"
    },
    {
     "name": "stdout",
     "output_type": "stream",
     "text": [
      "this is the final results Activity: {'Dead': 0.0} \n",
      "this is the final results Activity: {'Dead': 0.0, 'Non-dead': 100.0} \n",
      "this is the final results Activity: {'Dead': 0.0, 'Non-dead': 100.0, 'Player_Activity': 0.0} \n"
     ]
    },
    {
     "data": {
      "text/html": [
       "\n",
       "<style>\n",
       "    /* Turns off some styling */\n",
       "    progress {\n",
       "        /* gets rid of default border in Firefox and Opera. */\n",
       "        border: none;\n",
       "        /* Needs to be in here for Safari polyfill so background images work as expected. */\n",
       "        background-size: auto;\n",
       "    }\n",
       "    .progress-bar-interrupted, .progress-bar-interrupted::-webkit-progress-bar {\n",
       "        background: #F44336;\n",
       "    }\n",
       "</style>\n"
      ],
      "text/plain": [
       "<IPython.core.display.HTML object>"
      ]
     },
     "metadata": {},
     "output_type": "display_data"
    },
    {
     "data": {
      "text/html": [],
      "text/plain": [
       "<IPython.core.display.HTML object>"
      ]
     },
     "metadata": {},
     "output_type": "display_data"
    },
    {
     "name": "stdout",
     "output_type": "stream",
     "text": [
      "this is the final results Activity: {'Dead': 0.0} \n",
      "this is the final results Activity: {'Dead': 0.0, 'Non-dead': 100.0} \n",
      "this is the final results Activity: {'Dead': 0.0, 'Non-dead': 100.0, 'Player_Activity': 0.0} \n"
     ]
    },
    {
     "data": {
      "text/html": [
       "\n",
       "<style>\n",
       "    /* Turns off some styling */\n",
       "    progress {\n",
       "        /* gets rid of default border in Firefox and Opera. */\n",
       "        border: none;\n",
       "        /* Needs to be in here for Safari polyfill so background images work as expected. */\n",
       "        background-size: auto;\n",
       "    }\n",
       "    .progress-bar-interrupted, .progress-bar-interrupted::-webkit-progress-bar {\n",
       "        background: #F44336;\n",
       "    }\n",
       "</style>\n"
      ],
      "text/plain": [
       "<IPython.core.display.HTML object>"
      ]
     },
     "metadata": {},
     "output_type": "display_data"
    },
    {
     "data": {
      "text/html": [],
      "text/plain": [
       "<IPython.core.display.HTML object>"
      ]
     },
     "metadata": {},
     "output_type": "display_data"
    },
    {
     "name": "stdout",
     "output_type": "stream",
     "text": [
      "this is the final results Activity: {'Dead': 0.0} \n",
      "this is the final results Activity: {'Dead': 0.0, 'Non-dead': 99.995} \n",
      "this is the final results Activity: {'Dead': 0.0, 'Non-dead': 99.995, 'Player_Activity': 0.005} \n"
     ]
    },
    {
     "data": {
      "text/html": [
       "\n",
       "<style>\n",
       "    /* Turns off some styling */\n",
       "    progress {\n",
       "        /* gets rid of default border in Firefox and Opera. */\n",
       "        border: none;\n",
       "        /* Needs to be in here for Safari polyfill so background images work as expected. */\n",
       "        background-size: auto;\n",
       "    }\n",
       "    .progress-bar-interrupted, .progress-bar-interrupted::-webkit-progress-bar {\n",
       "        background: #F44336;\n",
       "    }\n",
       "</style>\n"
      ],
      "text/plain": [
       "<IPython.core.display.HTML object>"
      ]
     },
     "metadata": {},
     "output_type": "display_data"
    },
    {
     "data": {
      "text/html": [],
      "text/plain": [
       "<IPython.core.display.HTML object>"
      ]
     },
     "metadata": {},
     "output_type": "display_data"
    },
    {
     "name": "stdout",
     "output_type": "stream",
     "text": [
      "this is the final results Activity: {'Dead': 0.0} \n",
      "this is the final results Activity: {'Dead': 0.0, 'Non-dead': 100.0} \n",
      "this is the final results Activity: {'Dead': 0.0, 'Non-dead': 100.0, 'Player_Activity': 0.0} \n"
     ]
    },
    {
     "data": {
      "text/html": [
       "\n",
       "<style>\n",
       "    /* Turns off some styling */\n",
       "    progress {\n",
       "        /* gets rid of default border in Firefox and Opera. */\n",
       "        border: none;\n",
       "        /* Needs to be in here for Safari polyfill so background images work as expected. */\n",
       "        background-size: auto;\n",
       "    }\n",
       "    .progress-bar-interrupted, .progress-bar-interrupted::-webkit-progress-bar {\n",
       "        background: #F44336;\n",
       "    }\n",
       "</style>\n"
      ],
      "text/plain": [
       "<IPython.core.display.HTML object>"
      ]
     },
     "metadata": {},
     "output_type": "display_data"
    },
    {
     "data": {
      "text/html": [],
      "text/plain": [
       "<IPython.core.display.HTML object>"
      ]
     },
     "metadata": {},
     "output_type": "display_data"
    },
    {
     "name": "stdout",
     "output_type": "stream",
     "text": [
      "this is the final results Activity: {'Dead': 0.0} \n",
      "this is the final results Activity: {'Dead': 0.0, 'Non-dead': 100.0} \n",
      "this is the final results Activity: {'Dead': 0.0, 'Non-dead': 100.0, 'Player_Activity': 0.0} \n"
     ]
    },
    {
     "data": {
      "text/html": [
       "\n",
       "<style>\n",
       "    /* Turns off some styling */\n",
       "    progress {\n",
       "        /* gets rid of default border in Firefox and Opera. */\n",
       "        border: none;\n",
       "        /* Needs to be in here for Safari polyfill so background images work as expected. */\n",
       "        background-size: auto;\n",
       "    }\n",
       "    .progress-bar-interrupted, .progress-bar-interrupted::-webkit-progress-bar {\n",
       "        background: #F44336;\n",
       "    }\n",
       "</style>\n"
      ],
      "text/plain": [
       "<IPython.core.display.HTML object>"
      ]
     },
     "metadata": {},
     "output_type": "display_data"
    },
    {
     "data": {
      "text/html": [],
      "text/plain": [
       "<IPython.core.display.HTML object>"
      ]
     },
     "metadata": {},
     "output_type": "display_data"
    },
    {
     "name": "stdout",
     "output_type": "stream",
     "text": [
      "this is the final results Activity: {'Dead': 0.0} \n",
      "this is the final results Activity: {'Dead': 0.0, 'Non-dead': 100.0} \n",
      "this is the final results Activity: {'Dead': 0.0, 'Non-dead': 100.0, 'Player_Activity': 0.0} \n"
     ]
    },
    {
     "data": {
      "text/html": [
       "\n",
       "<style>\n",
       "    /* Turns off some styling */\n",
       "    progress {\n",
       "        /* gets rid of default border in Firefox and Opera. */\n",
       "        border: none;\n",
       "        /* Needs to be in here for Safari polyfill so background images work as expected. */\n",
       "        background-size: auto;\n",
       "    }\n",
       "    .progress-bar-interrupted, .progress-bar-interrupted::-webkit-progress-bar {\n",
       "        background: #F44336;\n",
       "    }\n",
       "</style>\n"
      ],
      "text/plain": [
       "<IPython.core.display.HTML object>"
      ]
     },
     "metadata": {},
     "output_type": "display_data"
    },
    {
     "data": {
      "text/html": [],
      "text/plain": [
       "<IPython.core.display.HTML object>"
      ]
     },
     "metadata": {},
     "output_type": "display_data"
    },
    {
     "name": "stdout",
     "output_type": "stream",
     "text": [
      "this is the final results Activity: {'Dead': 0.0} \n",
      "this is the final results Activity: {'Dead': 0.0, 'Non-dead': 100.0} \n",
      "this is the final results Activity: {'Dead': 0.0, 'Non-dead': 100.0, 'Player_Activity': 0.0} \n"
     ]
    },
    {
     "data": {
      "text/html": [
       "\n",
       "<style>\n",
       "    /* Turns off some styling */\n",
       "    progress {\n",
       "        /* gets rid of default border in Firefox and Opera. */\n",
       "        border: none;\n",
       "        /* Needs to be in here for Safari polyfill so background images work as expected. */\n",
       "        background-size: auto;\n",
       "    }\n",
       "    .progress-bar-interrupted, .progress-bar-interrupted::-webkit-progress-bar {\n",
       "        background: #F44336;\n",
       "    }\n",
       "</style>\n"
      ],
      "text/plain": [
       "<IPython.core.display.HTML object>"
      ]
     },
     "metadata": {},
     "output_type": "display_data"
    },
    {
     "data": {
      "text/html": [],
      "text/plain": [
       "<IPython.core.display.HTML object>"
      ]
     },
     "metadata": {},
     "output_type": "display_data"
    },
    {
     "name": "stdout",
     "output_type": "stream",
     "text": [
      "this is the final results Activity: {'Dead': 0.0} \n",
      "this is the final results Activity: {'Dead': 0.0, 'Non-dead': 100.0} \n",
      "this is the final results Activity: {'Dead': 0.0, 'Non-dead': 100.0, 'Player_Activity': 0.0} \n"
     ]
    },
    {
     "data": {
      "text/html": [
       "\n",
       "<style>\n",
       "    /* Turns off some styling */\n",
       "    progress {\n",
       "        /* gets rid of default border in Firefox and Opera. */\n",
       "        border: none;\n",
       "        /* Needs to be in here for Safari polyfill so background images work as expected. */\n",
       "        background-size: auto;\n",
       "    }\n",
       "    .progress-bar-interrupted, .progress-bar-interrupted::-webkit-progress-bar {\n",
       "        background: #F44336;\n",
       "    }\n",
       "</style>\n"
      ],
      "text/plain": [
       "<IPython.core.display.HTML object>"
      ]
     },
     "metadata": {},
     "output_type": "display_data"
    },
    {
     "data": {
      "text/html": [],
      "text/plain": [
       "<IPython.core.display.HTML object>"
      ]
     },
     "metadata": {},
     "output_type": "display_data"
    },
    {
     "name": "stdout",
     "output_type": "stream",
     "text": [
      "this is the final results Activity: {'Dead': 0.0} \n",
      "this is the final results Activity: {'Dead': 0.0, 'Non-dead': 100.0} \n",
      "this is the final results Activity: {'Dead': 0.0, 'Non-dead': 100.0, 'Player_Activity': 0.0} \n"
     ]
    },
    {
     "data": {
      "text/html": [
       "\n",
       "<style>\n",
       "    /* Turns off some styling */\n",
       "    progress {\n",
       "        /* gets rid of default border in Firefox and Opera. */\n",
       "        border: none;\n",
       "        /* Needs to be in here for Safari polyfill so background images work as expected. */\n",
       "        background-size: auto;\n",
       "    }\n",
       "    .progress-bar-interrupted, .progress-bar-interrupted::-webkit-progress-bar {\n",
       "        background: #F44336;\n",
       "    }\n",
       "</style>\n"
      ],
      "text/plain": [
       "<IPython.core.display.HTML object>"
      ]
     },
     "metadata": {},
     "output_type": "display_data"
    },
    {
     "data": {
      "text/html": [],
      "text/plain": [
       "<IPython.core.display.HTML object>"
      ]
     },
     "metadata": {},
     "output_type": "display_data"
    },
    {
     "name": "stdout",
     "output_type": "stream",
     "text": [
      "this is the final results Activity: {'Dead': 0.004} \n",
      "this is the final results Activity: {'Dead': 0.004, 'Non-dead': 99.996} \n",
      "this is the final results Activity: {'Dead': 0.004, 'Non-dead': 99.996, 'Player_Activity': 0.0} \n"
     ]
    },
    {
     "data": {
      "text/html": [
       "\n",
       "<style>\n",
       "    /* Turns off some styling */\n",
       "    progress {\n",
       "        /* gets rid of default border in Firefox and Opera. */\n",
       "        border: none;\n",
       "        /* Needs to be in here for Safari polyfill so background images work as expected. */\n",
       "        background-size: auto;\n",
       "    }\n",
       "    .progress-bar-interrupted, .progress-bar-interrupted::-webkit-progress-bar {\n",
       "        background: #F44336;\n",
       "    }\n",
       "</style>\n"
      ],
      "text/plain": [
       "<IPython.core.display.HTML object>"
      ]
     },
     "metadata": {},
     "output_type": "display_data"
    },
    {
     "data": {
      "text/html": [],
      "text/plain": [
       "<IPython.core.display.HTML object>"
      ]
     },
     "metadata": {},
     "output_type": "display_data"
    },
    {
     "name": "stdout",
     "output_type": "stream",
     "text": [
      "this is the final results Activity: {'Dead': 0.0} \n",
      "this is the final results Activity: {'Dead': 0.0, 'Non-dead': 100.0} \n",
      "this is the final results Activity: {'Dead': 0.0, 'Non-dead': 100.0, 'Player_Activity': 0.0} \n"
     ]
    },
    {
     "data": {
      "text/html": [
       "\n",
       "<style>\n",
       "    /* Turns off some styling */\n",
       "    progress {\n",
       "        /* gets rid of default border in Firefox and Opera. */\n",
       "        border: none;\n",
       "        /* Needs to be in here for Safari polyfill so background images work as expected. */\n",
       "        background-size: auto;\n",
       "    }\n",
       "    .progress-bar-interrupted, .progress-bar-interrupted::-webkit-progress-bar {\n",
       "        background: #F44336;\n",
       "    }\n",
       "</style>\n"
      ],
      "text/plain": [
       "<IPython.core.display.HTML object>"
      ]
     },
     "metadata": {},
     "output_type": "display_data"
    },
    {
     "data": {
      "text/html": [],
      "text/plain": [
       "<IPython.core.display.HTML object>"
      ]
     },
     "metadata": {},
     "output_type": "display_data"
    },
    {
     "name": "stdout",
     "output_type": "stream",
     "text": [
      "this is the final results Activity: {'Dead': 0.007} \n",
      "this is the final results Activity: {'Dead': 0.007, 'Non-dead': 99.993} \n",
      "this is the final results Activity: {'Dead': 0.007, 'Non-dead': 99.993, 'Player_Activity': 0.0} \n"
     ]
    },
    {
     "data": {
      "text/html": [
       "\n",
       "<style>\n",
       "    /* Turns off some styling */\n",
       "    progress {\n",
       "        /* gets rid of default border in Firefox and Opera. */\n",
       "        border: none;\n",
       "        /* Needs to be in here for Safari polyfill so background images work as expected. */\n",
       "        background-size: auto;\n",
       "    }\n",
       "    .progress-bar-interrupted, .progress-bar-interrupted::-webkit-progress-bar {\n",
       "        background: #F44336;\n",
       "    }\n",
       "</style>\n"
      ],
      "text/plain": [
       "<IPython.core.display.HTML object>"
      ]
     },
     "metadata": {},
     "output_type": "display_data"
    },
    {
     "data": {
      "text/html": [],
      "text/plain": [
       "<IPython.core.display.HTML object>"
      ]
     },
     "metadata": {},
     "output_type": "display_data"
    },
    {
     "name": "stdout",
     "output_type": "stream",
     "text": [
      "this is the final results Activity: {'Dead': 0.003} \n",
      "this is the final results Activity: {'Dead': 0.003, 'Non-dead': 99.997} \n",
      "this is the final results Activity: {'Dead': 0.003, 'Non-dead': 99.997, 'Player_Activity': 0.0} \n"
     ]
    },
    {
     "data": {
      "text/html": [
       "\n",
       "<style>\n",
       "    /* Turns off some styling */\n",
       "    progress {\n",
       "        /* gets rid of default border in Firefox and Opera. */\n",
       "        border: none;\n",
       "        /* Needs to be in here for Safari polyfill so background images work as expected. */\n",
       "        background-size: auto;\n",
       "    }\n",
       "    .progress-bar-interrupted, .progress-bar-interrupted::-webkit-progress-bar {\n",
       "        background: #F44336;\n",
       "    }\n",
       "</style>\n"
      ],
      "text/plain": [
       "<IPython.core.display.HTML object>"
      ]
     },
     "metadata": {},
     "output_type": "display_data"
    },
    {
     "data": {
      "text/html": [],
      "text/plain": [
       "<IPython.core.display.HTML object>"
      ]
     },
     "metadata": {},
     "output_type": "display_data"
    },
    {
     "name": "stdout",
     "output_type": "stream",
     "text": [
      "this is the final results Activity: {'Dead': 0.0} \n",
      "this is the final results Activity: {'Dead': 0.0, 'Non-dead': 100.0} \n",
      "this is the final results Activity: {'Dead': 0.0, 'Non-dead': 100.0, 'Player_Activity': 0.0} \n"
     ]
    },
    {
     "data": {
      "text/html": [
       "\n",
       "<style>\n",
       "    /* Turns off some styling */\n",
       "    progress {\n",
       "        /* gets rid of default border in Firefox and Opera. */\n",
       "        border: none;\n",
       "        /* Needs to be in here for Safari polyfill so background images work as expected. */\n",
       "        background-size: auto;\n",
       "    }\n",
       "    .progress-bar-interrupted, .progress-bar-interrupted::-webkit-progress-bar {\n",
       "        background: #F44336;\n",
       "    }\n",
       "</style>\n"
      ],
      "text/plain": [
       "<IPython.core.display.HTML object>"
      ]
     },
     "metadata": {},
     "output_type": "display_data"
    },
    {
     "data": {
      "text/html": [],
      "text/plain": [
       "<IPython.core.display.HTML object>"
      ]
     },
     "metadata": {},
     "output_type": "display_data"
    },
    {
     "name": "stdout",
     "output_type": "stream",
     "text": [
      "this is the final results Activity: {'Dead': 0.0} \n",
      "this is the final results Activity: {'Dead': 0.0, 'Non-dead': 100.0} \n",
      "this is the final results Activity: {'Dead': 0.0, 'Non-dead': 100.0, 'Player_Activity': 0.0} \n"
     ]
    },
    {
     "data": {
      "text/html": [
       "\n",
       "<style>\n",
       "    /* Turns off some styling */\n",
       "    progress {\n",
       "        /* gets rid of default border in Firefox and Opera. */\n",
       "        border: none;\n",
       "        /* Needs to be in here for Safari polyfill so background images work as expected. */\n",
       "        background-size: auto;\n",
       "    }\n",
       "    .progress-bar-interrupted, .progress-bar-interrupted::-webkit-progress-bar {\n",
       "        background: #F44336;\n",
       "    }\n",
       "</style>\n"
      ],
      "text/plain": [
       "<IPython.core.display.HTML object>"
      ]
     },
     "metadata": {},
     "output_type": "display_data"
    },
    {
     "data": {
      "text/html": [],
      "text/plain": [
       "<IPython.core.display.HTML object>"
      ]
     },
     "metadata": {},
     "output_type": "display_data"
    },
    {
     "name": "stdout",
     "output_type": "stream",
     "text": [
      "this is the final results Activity: {'Dead': 0.0} \n",
      "this is the final results Activity: {'Dead': 0.0, 'Non-dead': 100.0} \n",
      "this is the final results Activity: {'Dead': 0.0, 'Non-dead': 100.0, 'Player_Activity': 0.0} \n"
     ]
    },
    {
     "data": {
      "text/html": [
       "\n",
       "<style>\n",
       "    /* Turns off some styling */\n",
       "    progress {\n",
       "        /* gets rid of default border in Firefox and Opera. */\n",
       "        border: none;\n",
       "        /* Needs to be in here for Safari polyfill so background images work as expected. */\n",
       "        background-size: auto;\n",
       "    }\n",
       "    .progress-bar-interrupted, .progress-bar-interrupted::-webkit-progress-bar {\n",
       "        background: #F44336;\n",
       "    }\n",
       "</style>\n"
      ],
      "text/plain": [
       "<IPython.core.display.HTML object>"
      ]
     },
     "metadata": {},
     "output_type": "display_data"
    },
    {
     "data": {
      "text/html": [],
      "text/plain": [
       "<IPython.core.display.HTML object>"
      ]
     },
     "metadata": {},
     "output_type": "display_data"
    },
    {
     "name": "stdout",
     "output_type": "stream",
     "text": [
      "this is the final results Activity: {'Dead': 0.0} \n",
      "this is the final results Activity: {'Dead': 0.0, 'Non-dead': 100.0} \n",
      "this is the final results Activity: {'Dead': 0.0, 'Non-dead': 100.0, 'Player_Activity': 0.0} \n"
     ]
    },
    {
     "data": {
      "text/html": [
       "\n",
       "<style>\n",
       "    /* Turns off some styling */\n",
       "    progress {\n",
       "        /* gets rid of default border in Firefox and Opera. */\n",
       "        border: none;\n",
       "        /* Needs to be in here for Safari polyfill so background images work as expected. */\n",
       "        background-size: auto;\n",
       "    }\n",
       "    .progress-bar-interrupted, .progress-bar-interrupted::-webkit-progress-bar {\n",
       "        background: #F44336;\n",
       "    }\n",
       "</style>\n"
      ],
      "text/plain": [
       "<IPython.core.display.HTML object>"
      ]
     },
     "metadata": {},
     "output_type": "display_data"
    },
    {
     "data": {
      "text/html": [],
      "text/plain": [
       "<IPython.core.display.HTML object>"
      ]
     },
     "metadata": {},
     "output_type": "display_data"
    },
    {
     "name": "stdout",
     "output_type": "stream",
     "text": [
      "this is the final results Activity: {'Dead': 0.684} \n",
      "this is the final results Activity: {'Dead': 0.684, 'Non-dead': 99.127} \n",
      "this is the final results Activity: {'Dead': 0.684, 'Non-dead': 99.127, 'Player_Activity': 0.189} \n"
     ]
    },
    {
     "data": {
      "text/html": [
       "\n",
       "<style>\n",
       "    /* Turns off some styling */\n",
       "    progress {\n",
       "        /* gets rid of default border in Firefox and Opera. */\n",
       "        border: none;\n",
       "        /* Needs to be in here for Safari polyfill so background images work as expected. */\n",
       "        background-size: auto;\n",
       "    }\n",
       "    .progress-bar-interrupted, .progress-bar-interrupted::-webkit-progress-bar {\n",
       "        background: #F44336;\n",
       "    }\n",
       "</style>\n"
      ],
      "text/plain": [
       "<IPython.core.display.HTML object>"
      ]
     },
     "metadata": {},
     "output_type": "display_data"
    },
    {
     "data": {
      "text/html": [],
      "text/plain": [
       "<IPython.core.display.HTML object>"
      ]
     },
     "metadata": {},
     "output_type": "display_data"
    },
    {
     "name": "stdout",
     "output_type": "stream",
     "text": [
      "this is the final results Activity: {'Dead': 0.0} \n",
      "this is the final results Activity: {'Dead': 0.0, 'Non-dead': 100.0} \n",
      "this is the final results Activity: {'Dead': 0.0, 'Non-dead': 100.0, 'Player_Activity': 0.0} \n"
     ]
    },
    {
     "data": {
      "text/html": [
       "\n",
       "<style>\n",
       "    /* Turns off some styling */\n",
       "    progress {\n",
       "        /* gets rid of default border in Firefox and Opera. */\n",
       "        border: none;\n",
       "        /* Needs to be in here for Safari polyfill so background images work as expected. */\n",
       "        background-size: auto;\n",
       "    }\n",
       "    .progress-bar-interrupted, .progress-bar-interrupted::-webkit-progress-bar {\n",
       "        background: #F44336;\n",
       "    }\n",
       "</style>\n"
      ],
      "text/plain": [
       "<IPython.core.display.HTML object>"
      ]
     },
     "metadata": {},
     "output_type": "display_data"
    },
    {
     "data": {
      "text/html": [],
      "text/plain": [
       "<IPython.core.display.HTML object>"
      ]
     },
     "metadata": {},
     "output_type": "display_data"
    },
    {
     "name": "stdout",
     "output_type": "stream",
     "text": [
      "this is the final results Activity: {'Dead': 0.102} \n",
      "this is the final results Activity: {'Dead': 0.102, 'Non-dead': 99.898} \n",
      "this is the final results Activity: {'Dead': 0.102, 'Non-dead': 99.898, 'Player_Activity': 0.001} \n"
     ]
    },
    {
     "data": {
      "text/html": [
       "\n",
       "<style>\n",
       "    /* Turns off some styling */\n",
       "    progress {\n",
       "        /* gets rid of default border in Firefox and Opera. */\n",
       "        border: none;\n",
       "        /* Needs to be in here for Safari polyfill so background images work as expected. */\n",
       "        background-size: auto;\n",
       "    }\n",
       "    .progress-bar-interrupted, .progress-bar-interrupted::-webkit-progress-bar {\n",
       "        background: #F44336;\n",
       "    }\n",
       "</style>\n"
      ],
      "text/plain": [
       "<IPython.core.display.HTML object>"
      ]
     },
     "metadata": {},
     "output_type": "display_data"
    },
    {
     "data": {
      "text/html": [],
      "text/plain": [
       "<IPython.core.display.HTML object>"
      ]
     },
     "metadata": {},
     "output_type": "display_data"
    },
    {
     "name": "stdout",
     "output_type": "stream",
     "text": [
      "this is the final results Activity: {'Dead': 100.0} \n",
      "this is the final results Activity: {'Dead': 100.0, 'Non-dead': 0.0} \n",
      "this is the final results Activity: {'Dead': 100.0, 'Non-dead': 0.0, 'Player_Activity': 0.0} \n"
     ]
    },
    {
     "data": {
      "text/html": [
       "\n",
       "<style>\n",
       "    /* Turns off some styling */\n",
       "    progress {\n",
       "        /* gets rid of default border in Firefox and Opera. */\n",
       "        border: none;\n",
       "        /* Needs to be in here for Safari polyfill so background images work as expected. */\n",
       "        background-size: auto;\n",
       "    }\n",
       "    .progress-bar-interrupted, .progress-bar-interrupted::-webkit-progress-bar {\n",
       "        background: #F44336;\n",
       "    }\n",
       "</style>\n"
      ],
      "text/plain": [
       "<IPython.core.display.HTML object>"
      ]
     },
     "metadata": {},
     "output_type": "display_data"
    },
    {
     "data": {
      "text/html": [],
      "text/plain": [
       "<IPython.core.display.HTML object>"
      ]
     },
     "metadata": {},
     "output_type": "display_data"
    },
    {
     "name": "stdout",
     "output_type": "stream",
     "text": [
      "this is the final results Activity: {'Dead': 23.24} \n",
      "this is the final results Activity: {'Dead': 23.24, 'Non-dead': 76.375} \n",
      "this is the final results Activity: {'Dead': 23.24, 'Non-dead': 76.375, 'Player_Activity': 0.385} \n"
     ]
    },
    {
     "data": {
      "text/html": [
       "\n",
       "<style>\n",
       "    /* Turns off some styling */\n",
       "    progress {\n",
       "        /* gets rid of default border in Firefox and Opera. */\n",
       "        border: none;\n",
       "        /* Needs to be in here for Safari polyfill so background images work as expected. */\n",
       "        background-size: auto;\n",
       "    }\n",
       "    .progress-bar-interrupted, .progress-bar-interrupted::-webkit-progress-bar {\n",
       "        background: #F44336;\n",
       "    }\n",
       "</style>\n"
      ],
      "text/plain": [
       "<IPython.core.display.HTML object>"
      ]
     },
     "metadata": {},
     "output_type": "display_data"
    },
    {
     "data": {
      "text/html": [],
      "text/plain": [
       "<IPython.core.display.HTML object>"
      ]
     },
     "metadata": {},
     "output_type": "display_data"
    },
    {
     "name": "stdout",
     "output_type": "stream",
     "text": [
      "this is the final results Activity: {'Dead': 66.998} \n",
      "this is the final results Activity: {'Dead': 66.998, 'Non-dead': 33.001} \n",
      "this is the final results Activity: {'Dead': 66.998, 'Non-dead': 33.001, 'Player_Activity': 0.001} \n"
     ]
    },
    {
     "data": {
      "text/html": [
       "\n",
       "<style>\n",
       "    /* Turns off some styling */\n",
       "    progress {\n",
       "        /* gets rid of default border in Firefox and Opera. */\n",
       "        border: none;\n",
       "        /* Needs to be in here for Safari polyfill so background images work as expected. */\n",
       "        background-size: auto;\n",
       "    }\n",
       "    .progress-bar-interrupted, .progress-bar-interrupted::-webkit-progress-bar {\n",
       "        background: #F44336;\n",
       "    }\n",
       "</style>\n"
      ],
      "text/plain": [
       "<IPython.core.display.HTML object>"
      ]
     },
     "metadata": {},
     "output_type": "display_data"
    },
    {
     "data": {
      "text/html": [],
      "text/plain": [
       "<IPython.core.display.HTML object>"
      ]
     },
     "metadata": {},
     "output_type": "display_data"
    },
    {
     "name": "stdout",
     "output_type": "stream",
     "text": [
      "this is the final results Activity: {'Dead': 35.024} \n",
      "this is the final results Activity: {'Dead': 35.024, 'Non-dead': 64.976} \n",
      "this is the final results Activity: {'Dead': 35.024, 'Non-dead': 64.976, 'Player_Activity': 0.0} \n"
     ]
    },
    {
     "data": {
      "text/html": [
       "\n",
       "<style>\n",
       "    /* Turns off some styling */\n",
       "    progress {\n",
       "        /* gets rid of default border in Firefox and Opera. */\n",
       "        border: none;\n",
       "        /* Needs to be in here for Safari polyfill so background images work as expected. */\n",
       "        background-size: auto;\n",
       "    }\n",
       "    .progress-bar-interrupted, .progress-bar-interrupted::-webkit-progress-bar {\n",
       "        background: #F44336;\n",
       "    }\n",
       "</style>\n"
      ],
      "text/plain": [
       "<IPython.core.display.HTML object>"
      ]
     },
     "metadata": {},
     "output_type": "display_data"
    },
    {
     "data": {
      "text/html": [],
      "text/plain": [
       "<IPython.core.display.HTML object>"
      ]
     },
     "metadata": {},
     "output_type": "display_data"
    },
    {
     "name": "stdout",
     "output_type": "stream",
     "text": [
      "this is the final results Activity: {'Dead': 2.264} \n",
      "this is the final results Activity: {'Dead': 2.264, 'Non-dead': 0.002} \n",
      "this is the final results Activity: {'Dead': 2.264, 'Non-dead': 0.002, 'Player_Activity': 97.734} \n"
     ]
    },
    {
     "data": {
      "text/html": [
       "\n",
       "<style>\n",
       "    /* Turns off some styling */\n",
       "    progress {\n",
       "        /* gets rid of default border in Firefox and Opera. */\n",
       "        border: none;\n",
       "        /* Needs to be in here for Safari polyfill so background images work as expected. */\n",
       "        background-size: auto;\n",
       "    }\n",
       "    .progress-bar-interrupted, .progress-bar-interrupted::-webkit-progress-bar {\n",
       "        background: #F44336;\n",
       "    }\n",
       "</style>\n"
      ],
      "text/plain": [
       "<IPython.core.display.HTML object>"
      ]
     },
     "metadata": {},
     "output_type": "display_data"
    },
    {
     "data": {
      "text/html": [],
      "text/plain": [
       "<IPython.core.display.HTML object>"
      ]
     },
     "metadata": {},
     "output_type": "display_data"
    },
    {
     "name": "stdout",
     "output_type": "stream",
     "text": [
      "this is the final results Activity: {'Dead': 2.014} \n",
      "this is the final results Activity: {'Dead': 2.014, 'Non-dead': 0.007} \n",
      "this is the final results Activity: {'Dead': 2.014, 'Non-dead': 0.007, 'Player_Activity': 97.98} \n"
     ]
    },
    {
     "data": {
      "text/html": [
       "\n",
       "<style>\n",
       "    /* Turns off some styling */\n",
       "    progress {\n",
       "        /* gets rid of default border in Firefox and Opera. */\n",
       "        border: none;\n",
       "        /* Needs to be in here for Safari polyfill so background images work as expected. */\n",
       "        background-size: auto;\n",
       "    }\n",
       "    .progress-bar-interrupted, .progress-bar-interrupted::-webkit-progress-bar {\n",
       "        background: #F44336;\n",
       "    }\n",
       "</style>\n"
      ],
      "text/plain": [
       "<IPython.core.display.HTML object>"
      ]
     },
     "metadata": {},
     "output_type": "display_data"
    },
    {
     "data": {
      "text/html": [],
      "text/plain": [
       "<IPython.core.display.HTML object>"
      ]
     },
     "metadata": {},
     "output_type": "display_data"
    },
    {
     "name": "stdout",
     "output_type": "stream",
     "text": [
      "this is the final results Activity: {'Dead': 100.0} \n",
      "this is the final results Activity: {'Dead': 100.0, 'Non-dead': 0.0} \n",
      "this is the final results Activity: {'Dead': 100.0, 'Non-dead': 0.0, 'Player_Activity': 0.0} \n"
     ]
    },
    {
     "data": {
      "text/html": [
       "\n",
       "<style>\n",
       "    /* Turns off some styling */\n",
       "    progress {\n",
       "        /* gets rid of default border in Firefox and Opera. */\n",
       "        border: none;\n",
       "        /* Needs to be in here for Safari polyfill so background images work as expected. */\n",
       "        background-size: auto;\n",
       "    }\n",
       "    .progress-bar-interrupted, .progress-bar-interrupted::-webkit-progress-bar {\n",
       "        background: #F44336;\n",
       "    }\n",
       "</style>\n"
      ],
      "text/plain": [
       "<IPython.core.display.HTML object>"
      ]
     },
     "metadata": {},
     "output_type": "display_data"
    },
    {
     "data": {
      "text/html": [],
      "text/plain": [
       "<IPython.core.display.HTML object>"
      ]
     },
     "metadata": {},
     "output_type": "display_data"
    },
    {
     "name": "stdout",
     "output_type": "stream",
     "text": [
      "this is the final results Activity: {'Dead': 100.0} \n",
      "this is the final results Activity: {'Dead': 100.0, 'Non-dead': 0.0} \n",
      "this is the final results Activity: {'Dead': 100.0, 'Non-dead': 0.0, 'Player_Activity': 0.0} \n"
     ]
    },
    {
     "data": {
      "text/html": [
       "\n",
       "<style>\n",
       "    /* Turns off some styling */\n",
       "    progress {\n",
       "        /* gets rid of default border in Firefox and Opera. */\n",
       "        border: none;\n",
       "        /* Needs to be in here for Safari polyfill so background images work as expected. */\n",
       "        background-size: auto;\n",
       "    }\n",
       "    .progress-bar-interrupted, .progress-bar-interrupted::-webkit-progress-bar {\n",
       "        background: #F44336;\n",
       "    }\n",
       "</style>\n"
      ],
      "text/plain": [
       "<IPython.core.display.HTML object>"
      ]
     },
     "metadata": {},
     "output_type": "display_data"
    },
    {
     "data": {
      "text/html": [],
      "text/plain": [
       "<IPython.core.display.HTML object>"
      ]
     },
     "metadata": {},
     "output_type": "display_data"
    },
    {
     "name": "stdout",
     "output_type": "stream",
     "text": [
      "this is the final results Activity: {'Dead': 100.0} \n",
      "this is the final results Activity: {'Dead': 100.0, 'Non-dead': 0.0} \n",
      "this is the final results Activity: {'Dead': 100.0, 'Non-dead': 0.0, 'Player_Activity': 0.0} \n"
     ]
    },
    {
     "data": {
      "text/html": [
       "\n",
       "<style>\n",
       "    /* Turns off some styling */\n",
       "    progress {\n",
       "        /* gets rid of default border in Firefox and Opera. */\n",
       "        border: none;\n",
       "        /* Needs to be in here for Safari polyfill so background images work as expected. */\n",
       "        background-size: auto;\n",
       "    }\n",
       "    .progress-bar-interrupted, .progress-bar-interrupted::-webkit-progress-bar {\n",
       "        background: #F44336;\n",
       "    }\n",
       "</style>\n"
      ],
      "text/plain": [
       "<IPython.core.display.HTML object>"
      ]
     },
     "metadata": {},
     "output_type": "display_data"
    },
    {
     "data": {
      "text/html": [],
      "text/plain": [
       "<IPython.core.display.HTML object>"
      ]
     },
     "metadata": {},
     "output_type": "display_data"
    },
    {
     "name": "stdout",
     "output_type": "stream",
     "text": [
      "this is the final results Activity: {'Dead': 0.009} \n",
      "this is the final results Activity: {'Dead': 0.009, 'Non-dead': 99.991} \n",
      "this is the final results Activity: {'Dead': 0.009, 'Non-dead': 99.991, 'Player_Activity': 0.0} \n"
     ]
    },
    {
     "data": {
      "text/html": [
       "\n",
       "<style>\n",
       "    /* Turns off some styling */\n",
       "    progress {\n",
       "        /* gets rid of default border in Firefox and Opera. */\n",
       "        border: none;\n",
       "        /* Needs to be in here for Safari polyfill so background images work as expected. */\n",
       "        background-size: auto;\n",
       "    }\n",
       "    .progress-bar-interrupted, .progress-bar-interrupted::-webkit-progress-bar {\n",
       "        background: #F44336;\n",
       "    }\n",
       "</style>\n"
      ],
      "text/plain": [
       "<IPython.core.display.HTML object>"
      ]
     },
     "metadata": {},
     "output_type": "display_data"
    },
    {
     "data": {
      "text/html": [],
      "text/plain": [
       "<IPython.core.display.HTML object>"
      ]
     },
     "metadata": {},
     "output_type": "display_data"
    },
    {
     "name": "stdout",
     "output_type": "stream",
     "text": [
      "this is the final results Activity: {'Dead': 0.0} \n",
      "this is the final results Activity: {'Dead': 0.0, 'Non-dead': 100.0} \n",
      "this is the final results Activity: {'Dead': 0.0, 'Non-dead': 100.0, 'Player_Activity': 0.0} \n"
     ]
    },
    {
     "data": {
      "text/html": [
       "\n",
       "<style>\n",
       "    /* Turns off some styling */\n",
       "    progress {\n",
       "        /* gets rid of default border in Firefox and Opera. */\n",
       "        border: none;\n",
       "        /* Needs to be in here for Safari polyfill so background images work as expected. */\n",
       "        background-size: auto;\n",
       "    }\n",
       "    .progress-bar-interrupted, .progress-bar-interrupted::-webkit-progress-bar {\n",
       "        background: #F44336;\n",
       "    }\n",
       "</style>\n"
      ],
      "text/plain": [
       "<IPython.core.display.HTML object>"
      ]
     },
     "metadata": {},
     "output_type": "display_data"
    },
    {
     "data": {
      "text/html": [],
      "text/plain": [
       "<IPython.core.display.HTML object>"
      ]
     },
     "metadata": {},
     "output_type": "display_data"
    },
    {
     "name": "stdout",
     "output_type": "stream",
     "text": [
      "this is the final results Activity: {'Dead': 0.0} \n",
      "this is the final results Activity: {'Dead': 0.0, 'Non-dead': 100.0} \n",
      "this is the final results Activity: {'Dead': 0.0, 'Non-dead': 100.0, 'Player_Activity': 0.0} \n"
     ]
    },
    {
     "data": {
      "text/html": [
       "\n",
       "<style>\n",
       "    /* Turns off some styling */\n",
       "    progress {\n",
       "        /* gets rid of default border in Firefox and Opera. */\n",
       "        border: none;\n",
       "        /* Needs to be in here for Safari polyfill so background images work as expected. */\n",
       "        background-size: auto;\n",
       "    }\n",
       "    .progress-bar-interrupted, .progress-bar-interrupted::-webkit-progress-bar {\n",
       "        background: #F44336;\n",
       "    }\n",
       "</style>\n"
      ],
      "text/plain": [
       "<IPython.core.display.HTML object>"
      ]
     },
     "metadata": {},
     "output_type": "display_data"
    },
    {
     "data": {
      "text/html": [],
      "text/plain": [
       "<IPython.core.display.HTML object>"
      ]
     },
     "metadata": {},
     "output_type": "display_data"
    },
    {
     "name": "stdout",
     "output_type": "stream",
     "text": [
      "this is the final results Activity: {'Dead': 0.0} \n",
      "this is the final results Activity: {'Dead': 0.0, 'Non-dead': 100.0} \n",
      "this is the final results Activity: {'Dead': 0.0, 'Non-dead': 100.0, 'Player_Activity': 0.0} \n"
     ]
    },
    {
     "data": {
      "text/html": [
       "\n",
       "<style>\n",
       "    /* Turns off some styling */\n",
       "    progress {\n",
       "        /* gets rid of default border in Firefox and Opera. */\n",
       "        border: none;\n",
       "        /* Needs to be in here for Safari polyfill so background images work as expected. */\n",
       "        background-size: auto;\n",
       "    }\n",
       "    .progress-bar-interrupted, .progress-bar-interrupted::-webkit-progress-bar {\n",
       "        background: #F44336;\n",
       "    }\n",
       "</style>\n"
      ],
      "text/plain": [
       "<IPython.core.display.HTML object>"
      ]
     },
     "metadata": {},
     "output_type": "display_data"
    },
    {
     "data": {
      "text/html": [],
      "text/plain": [
       "<IPython.core.display.HTML object>"
      ]
     },
     "metadata": {},
     "output_type": "display_data"
    },
    {
     "name": "stdout",
     "output_type": "stream",
     "text": [
      "this is the final results Activity: {'Dead': 0.0} \n",
      "this is the final results Activity: {'Dead': 0.0, 'Non-dead': 100.0} \n",
      "this is the final results Activity: {'Dead': 0.0, 'Non-dead': 100.0, 'Player_Activity': 0.0} \n"
     ]
    },
    {
     "data": {
      "text/html": [
       "\n",
       "<style>\n",
       "    /* Turns off some styling */\n",
       "    progress {\n",
       "        /* gets rid of default border in Firefox and Opera. */\n",
       "        border: none;\n",
       "        /* Needs to be in here for Safari polyfill so background images work as expected. */\n",
       "        background-size: auto;\n",
       "    }\n",
       "    .progress-bar-interrupted, .progress-bar-interrupted::-webkit-progress-bar {\n",
       "        background: #F44336;\n",
       "    }\n",
       "</style>\n"
      ],
      "text/plain": [
       "<IPython.core.display.HTML object>"
      ]
     },
     "metadata": {},
     "output_type": "display_data"
    },
    {
     "data": {
      "text/html": [],
      "text/plain": [
       "<IPython.core.display.HTML object>"
      ]
     },
     "metadata": {},
     "output_type": "display_data"
    },
    {
     "name": "stdout",
     "output_type": "stream",
     "text": [
      "this is the final results Activity: {'Dead': 0.0} \n",
      "this is the final results Activity: {'Dead': 0.0, 'Non-dead': 100.0} \n",
      "this is the final results Activity: {'Dead': 0.0, 'Non-dead': 100.0, 'Player_Activity': 0.0} \n"
     ]
    }
   ],
   "source": [
    "images = \"/home/link-lap-24/Downloads/football_cycle_testing/frames/\"\n",
    "im = sorted(glob.glob(images + \"*.*\"), key=os.path.getmtime)\n",
    "for i_path in im:\n",
    "    frame = cv2.imread(i_path)\n",
    "    path = i_path.split('.')[0]\n",
    "    model = load_learner('CnWNk1MHv7DxRB2.pkl',cpu=true)\n",
    "    pred = model.predict(i_path)\n",
    "    cat = ['Dead','Non-dead','Player_Activity']\n",
    "    result = {}\n",
    "    for i, j in enumerate(pred[2]):\n",
    "        result[cat[i]] = round(float(pred[2][i])*100, 3)\n",
    "        text = \"Activity: {} \".format(result)\n",
    "        print(\"this is the final results\",text)\n",
    "        cv2.putText(frame, text, (35, 50), cv2.FONT_HERSHEY_SIMPLEX,1.25, (0, 255, 0), 3)\n",
    "        cv2.imwrite(path+\".jpg\",frame)"
   ]
  },
  {
   "cell_type": "code",
   "execution_count": 9,
   "id": "f368d7eb",
   "metadata": {},
   "outputs": [
    {
     "name": "stdout",
     "output_type": "stream",
     "text": [
      "5.77\n"
     ]
    }
   ],
   "source": [
    "x = round(5.76543, 2)\n",
    "print(x)"
   ]
  },
  {
   "cell_type": "code",
   "execution_count": 16,
   "id": "821b8309",
   "metadata": {},
   "outputs": [
    {
     "data": {
      "text/html": [
       "\n",
       "<style>\n",
       "    /* Turns off some styling */\n",
       "    progress {\n",
       "        /* gets rid of default border in Firefox and Opera. */\n",
       "        border: none;\n",
       "        /* Needs to be in here for Safari polyfill so background images work as expected. */\n",
       "        background-size: auto;\n",
       "    }\n",
       "    .progress-bar-interrupted, .progress-bar-interrupted::-webkit-progress-bar {\n",
       "        background: #F44336;\n",
       "    }\n",
       "</style>\n"
      ],
      "text/plain": [
       "<IPython.core.display.HTML object>"
      ]
     },
     "metadata": {},
     "output_type": "display_data"
    },
    {
     "data": {
      "text/html": [],
      "text/plain": [
       "<IPython.core.display.HTML object>"
      ]
     },
     "metadata": {},
     "output_type": "display_data"
    },
    {
     "name": "stdout",
     "output_type": "stream",
     "text": [
      "[{'label': 'Non-dead', 'Confidence': 0.736}]\n"
     ]
    },
    {
     "data": {
      "text/html": [
       "\n",
       "<style>\n",
       "    /* Turns off some styling */\n",
       "    progress {\n",
       "        /* gets rid of default border in Firefox and Opera. */\n",
       "        border: none;\n",
       "        /* Needs to be in here for Safari polyfill so background images work as expected. */\n",
       "        background-size: auto;\n",
       "    }\n",
       "    .progress-bar-interrupted, .progress-bar-interrupted::-webkit-progress-bar {\n",
       "        background: #F44336;\n",
       "    }\n",
       "</style>\n"
      ],
      "text/plain": [
       "<IPython.core.display.HTML object>"
      ]
     },
     "metadata": {},
     "output_type": "display_data"
    },
    {
     "data": {
      "text/html": [],
      "text/plain": [
       "<IPython.core.display.HTML object>"
      ]
     },
     "metadata": {},
     "output_type": "display_data"
    },
    {
     "name": "stdout",
     "output_type": "stream",
     "text": [
      "[{'label': 'Non-dead', 'Confidence': 0.736}, {'label': 'Non-dead', 'Confidence': 0.931}]\n"
     ]
    },
    {
     "data": {
      "text/html": [
       "\n",
       "<style>\n",
       "    /* Turns off some styling */\n",
       "    progress {\n",
       "        /* gets rid of default border in Firefox and Opera. */\n",
       "        border: none;\n",
       "        /* Needs to be in here for Safari polyfill so background images work as expected. */\n",
       "        background-size: auto;\n",
       "    }\n",
       "    .progress-bar-interrupted, .progress-bar-interrupted::-webkit-progress-bar {\n",
       "        background: #F44336;\n",
       "    }\n",
       "</style>\n"
      ],
      "text/plain": [
       "<IPython.core.display.HTML object>"
      ]
     },
     "metadata": {},
     "output_type": "display_data"
    },
    {
     "data": {
      "text/html": [],
      "text/plain": [
       "<IPython.core.display.HTML object>"
      ]
     },
     "metadata": {},
     "output_type": "display_data"
    },
    {
     "name": "stdout",
     "output_type": "stream",
     "text": [
      "[{'label': 'Non-dead', 'Confidence': 0.736}, {'label': 'Non-dead', 'Confidence': 0.931}, {'label': 'Player_Activity', 'Confidence': 0.46}]\n"
     ]
    },
    {
     "data": {
      "text/html": [
       "\n",
       "<style>\n",
       "    /* Turns off some styling */\n",
       "    progress {\n",
       "        /* gets rid of default border in Firefox and Opera. */\n",
       "        border: none;\n",
       "        /* Needs to be in here for Safari polyfill so background images work as expected. */\n",
       "        background-size: auto;\n",
       "    }\n",
       "    .progress-bar-interrupted, .progress-bar-interrupted::-webkit-progress-bar {\n",
       "        background: #F44336;\n",
       "    }\n",
       "</style>\n"
      ],
      "text/plain": [
       "<IPython.core.display.HTML object>"
      ]
     },
     "metadata": {},
     "output_type": "display_data"
    },
    {
     "data": {
      "text/html": [],
      "text/plain": [
       "<IPython.core.display.HTML object>"
      ]
     },
     "metadata": {},
     "output_type": "display_data"
    },
    {
     "name": "stdout",
     "output_type": "stream",
     "text": [
      "[{'label': 'Non-dead', 'Confidence': 0.736}, {'label': 'Non-dead', 'Confidence': 0.931}, {'label': 'Player_Activity', 'Confidence': 0.46}, {'label': 'Non-dead', 'Confidence': 0.653}]\n"
     ]
    },
    {
     "data": {
      "text/html": [
       "\n",
       "<style>\n",
       "    /* Turns off some styling */\n",
       "    progress {\n",
       "        /* gets rid of default border in Firefox and Opera. */\n",
       "        border: none;\n",
       "        /* Needs to be in here for Safari polyfill so background images work as expected. */\n",
       "        background-size: auto;\n",
       "    }\n",
       "    .progress-bar-interrupted, .progress-bar-interrupted::-webkit-progress-bar {\n",
       "        background: #F44336;\n",
       "    }\n",
       "</style>\n"
      ],
      "text/plain": [
       "<IPython.core.display.HTML object>"
      ]
     },
     "metadata": {},
     "output_type": "display_data"
    },
    {
     "data": {
      "text/html": [],
      "text/plain": [
       "<IPython.core.display.HTML object>"
      ]
     },
     "metadata": {},
     "output_type": "display_data"
    },
    {
     "name": "stdout",
     "output_type": "stream",
     "text": [
      "[{'label': 'Non-dead', 'Confidence': 0.736}, {'label': 'Non-dead', 'Confidence': 0.931}, {'label': 'Player_Activity', 'Confidence': 0.46}, {'label': 'Non-dead', 'Confidence': 0.653}, {'label': 'Non-dead', 'Confidence': 0.997}]\n"
     ]
    },
    {
     "data": {
      "text/html": [
       "\n",
       "<style>\n",
       "    /* Turns off some styling */\n",
       "    progress {\n",
       "        /* gets rid of default border in Firefox and Opera. */\n",
       "        border: none;\n",
       "        /* Needs to be in here for Safari polyfill so background images work as expected. */\n",
       "        background-size: auto;\n",
       "    }\n",
       "    .progress-bar-interrupted, .progress-bar-interrupted::-webkit-progress-bar {\n",
       "        background: #F44336;\n",
       "    }\n",
       "</style>\n"
      ],
      "text/plain": [
       "<IPython.core.display.HTML object>"
      ]
     },
     "metadata": {},
     "output_type": "display_data"
    },
    {
     "data": {
      "text/html": [],
      "text/plain": [
       "<IPython.core.display.HTML object>"
      ]
     },
     "metadata": {},
     "output_type": "display_data"
    },
    {
     "name": "stdout",
     "output_type": "stream",
     "text": [
      "[{'label': 'Non-dead', 'Confidence': 0.736}, {'label': 'Non-dead', 'Confidence': 0.931}, {'label': 'Player_Activity', 'Confidence': 0.46}, {'label': 'Non-dead', 'Confidence': 0.653}, {'label': 'Non-dead', 'Confidence': 0.997}, {'label': 'Player_Activity', 'Confidence': 0.905}]\n"
     ]
    },
    {
     "data": {
      "text/html": [
       "\n",
       "<style>\n",
       "    /* Turns off some styling */\n",
       "    progress {\n",
       "        /* gets rid of default border in Firefox and Opera. */\n",
       "        border: none;\n",
       "        /* Needs to be in here for Safari polyfill so background images work as expected. */\n",
       "        background-size: auto;\n",
       "    }\n",
       "    .progress-bar-interrupted, .progress-bar-interrupted::-webkit-progress-bar {\n",
       "        background: #F44336;\n",
       "    }\n",
       "</style>\n"
      ],
      "text/plain": [
       "<IPython.core.display.HTML object>"
      ]
     },
     "metadata": {},
     "output_type": "display_data"
    },
    {
     "data": {
      "text/html": [],
      "text/plain": [
       "<IPython.core.display.HTML object>"
      ]
     },
     "metadata": {},
     "output_type": "display_data"
    },
    {
     "name": "stdout",
     "output_type": "stream",
     "text": [
      "[{'label': 'Non-dead', 'Confidence': 0.736}, {'label': 'Non-dead', 'Confidence': 0.931}, {'label': 'Player_Activity', 'Confidence': 0.46}, {'label': 'Non-dead', 'Confidence': 0.653}, {'label': 'Non-dead', 'Confidence': 0.997}, {'label': 'Player_Activity', 'Confidence': 0.905}, {'label': 'Non-dead', 'Confidence': 1.0}]\n"
     ]
    },
    {
     "data": {
      "text/html": [
       "\n",
       "<style>\n",
       "    /* Turns off some styling */\n",
       "    progress {\n",
       "        /* gets rid of default border in Firefox and Opera. */\n",
       "        border: none;\n",
       "        /* Needs to be in here for Safari polyfill so background images work as expected. */\n",
       "        background-size: auto;\n",
       "    }\n",
       "    .progress-bar-interrupted, .progress-bar-interrupted::-webkit-progress-bar {\n",
       "        background: #F44336;\n",
       "    }\n",
       "</style>\n"
      ],
      "text/plain": [
       "<IPython.core.display.HTML object>"
      ]
     },
     "metadata": {},
     "output_type": "display_data"
    },
    {
     "data": {
      "text/html": [],
      "text/plain": [
       "<IPython.core.display.HTML object>"
      ]
     },
     "metadata": {},
     "output_type": "display_data"
    },
    {
     "name": "stdout",
     "output_type": "stream",
     "text": [
      "[{'label': 'Non-dead', 'Confidence': 0.736}, {'label': 'Non-dead', 'Confidence': 0.931}, {'label': 'Player_Activity', 'Confidence': 0.46}, {'label': 'Non-dead', 'Confidence': 0.653}, {'label': 'Non-dead', 'Confidence': 0.997}, {'label': 'Player_Activity', 'Confidence': 0.905}, {'label': 'Non-dead', 'Confidence': 1.0}, {'label': 'Non-dead', 'Confidence': 0.985}]\n"
     ]
    },
    {
     "data": {
      "text/html": [
       "\n",
       "<style>\n",
       "    /* Turns off some styling */\n",
       "    progress {\n",
       "        /* gets rid of default border in Firefox and Opera. */\n",
       "        border: none;\n",
       "        /* Needs to be in here for Safari polyfill so background images work as expected. */\n",
       "        background-size: auto;\n",
       "    }\n",
       "    .progress-bar-interrupted, .progress-bar-interrupted::-webkit-progress-bar {\n",
       "        background: #F44336;\n",
       "    }\n",
       "</style>\n"
      ],
      "text/plain": [
       "<IPython.core.display.HTML object>"
      ]
     },
     "metadata": {},
     "output_type": "display_data"
    },
    {
     "data": {
      "text/html": [],
      "text/plain": [
       "<IPython.core.display.HTML object>"
      ]
     },
     "metadata": {},
     "output_type": "display_data"
    },
    {
     "name": "stdout",
     "output_type": "stream",
     "text": [
      "[{'label': 'Non-dead', 'Confidence': 0.736}, {'label': 'Non-dead', 'Confidence': 0.931}, {'label': 'Player_Activity', 'Confidence': 0.46}, {'label': 'Non-dead', 'Confidence': 0.653}, {'label': 'Non-dead', 'Confidence': 0.997}, {'label': 'Player_Activity', 'Confidence': 0.905}, {'label': 'Non-dead', 'Confidence': 1.0}, {'label': 'Non-dead', 'Confidence': 0.985}, {'label': 'Non-dead', 'Confidence': 1.0}]\n"
     ]
    },
    {
     "data": {
      "text/html": [
       "\n",
       "<style>\n",
       "    /* Turns off some styling */\n",
       "    progress {\n",
       "        /* gets rid of default border in Firefox and Opera. */\n",
       "        border: none;\n",
       "        /* Needs to be in here for Safari polyfill so background images work as expected. */\n",
       "        background-size: auto;\n",
       "    }\n",
       "    .progress-bar-interrupted, .progress-bar-interrupted::-webkit-progress-bar {\n",
       "        background: #F44336;\n",
       "    }\n",
       "</style>\n"
      ],
      "text/plain": [
       "<IPython.core.display.HTML object>"
      ]
     },
     "metadata": {},
     "output_type": "display_data"
    },
    {
     "data": {
      "text/html": [],
      "text/plain": [
       "<IPython.core.display.HTML object>"
      ]
     },
     "metadata": {},
     "output_type": "display_data"
    },
    {
     "name": "stdout",
     "output_type": "stream",
     "text": [
      "[{'label': 'Non-dead', 'Confidence': 0.736}, {'label': 'Non-dead', 'Confidence': 0.931}, {'label': 'Player_Activity', 'Confidence': 0.46}, {'label': 'Non-dead', 'Confidence': 0.653}, {'label': 'Non-dead', 'Confidence': 0.997}, {'label': 'Player_Activity', 'Confidence': 0.905}, {'label': 'Non-dead', 'Confidence': 1.0}, {'label': 'Non-dead', 'Confidence': 0.985}, {'label': 'Non-dead', 'Confidence': 1.0}, {'label': 'Non-dead', 'Confidence': 0.999}]\n"
     ]
    },
    {
     "data": {
      "text/html": [
       "\n",
       "<style>\n",
       "    /* Turns off some styling */\n",
       "    progress {\n",
       "        /* gets rid of default border in Firefox and Opera. */\n",
       "        border: none;\n",
       "        /* Needs to be in here for Safari polyfill so background images work as expected. */\n",
       "        background-size: auto;\n",
       "    }\n",
       "    .progress-bar-interrupted, .progress-bar-interrupted::-webkit-progress-bar {\n",
       "        background: #F44336;\n",
       "    }\n",
       "</style>\n"
      ],
      "text/plain": [
       "<IPython.core.display.HTML object>"
      ]
     },
     "metadata": {},
     "output_type": "display_data"
    },
    {
     "data": {
      "text/html": [],
      "text/plain": [
       "<IPython.core.display.HTML object>"
      ]
     },
     "metadata": {},
     "output_type": "display_data"
    },
    {
     "name": "stdout",
     "output_type": "stream",
     "text": [
      "[{'label': 'Non-dead', 'Confidence': 0.736}, {'label': 'Non-dead', 'Confidence': 0.931}, {'label': 'Player_Activity', 'Confidence': 0.46}, {'label': 'Non-dead', 'Confidence': 0.653}, {'label': 'Non-dead', 'Confidence': 0.997}, {'label': 'Player_Activity', 'Confidence': 0.905}, {'label': 'Non-dead', 'Confidence': 1.0}, {'label': 'Non-dead', 'Confidence': 0.985}, {'label': 'Non-dead', 'Confidence': 1.0}, {'label': 'Non-dead', 'Confidence': 0.999}, {'label': 'Non-dead', 'Confidence': 0.976}]\n"
     ]
    },
    {
     "data": {
      "text/html": [
       "\n",
       "<style>\n",
       "    /* Turns off some styling */\n",
       "    progress {\n",
       "        /* gets rid of default border in Firefox and Opera. */\n",
       "        border: none;\n",
       "        /* Needs to be in here for Safari polyfill so background images work as expected. */\n",
       "        background-size: auto;\n",
       "    }\n",
       "    .progress-bar-interrupted, .progress-bar-interrupted::-webkit-progress-bar {\n",
       "        background: #F44336;\n",
       "    }\n",
       "</style>\n"
      ],
      "text/plain": [
       "<IPython.core.display.HTML object>"
      ]
     },
     "metadata": {},
     "output_type": "display_data"
    },
    {
     "data": {
      "text/html": [],
      "text/plain": [
       "<IPython.core.display.HTML object>"
      ]
     },
     "metadata": {},
     "output_type": "display_data"
    },
    {
     "name": "stdout",
     "output_type": "stream",
     "text": [
      "[{'label': 'Non-dead', 'Confidence': 0.736}, {'label': 'Non-dead', 'Confidence': 0.931}, {'label': 'Player_Activity', 'Confidence': 0.46}, {'label': 'Non-dead', 'Confidence': 0.653}, {'label': 'Non-dead', 'Confidence': 0.997}, {'label': 'Player_Activity', 'Confidence': 0.905}, {'label': 'Non-dead', 'Confidence': 1.0}, {'label': 'Non-dead', 'Confidence': 0.985}, {'label': 'Non-dead', 'Confidence': 1.0}, {'label': 'Non-dead', 'Confidence': 0.999}, {'label': 'Non-dead', 'Confidence': 0.976}, {'label': 'Dead', 'Confidence': 1.0}]\n"
     ]
    },
    {
     "data": {
      "text/html": [
       "\n",
       "<style>\n",
       "    /* Turns off some styling */\n",
       "    progress {\n",
       "        /* gets rid of default border in Firefox and Opera. */\n",
       "        border: none;\n",
       "        /* Needs to be in here for Safari polyfill so background images work as expected. */\n",
       "        background-size: auto;\n",
       "    }\n",
       "    .progress-bar-interrupted, .progress-bar-interrupted::-webkit-progress-bar {\n",
       "        background: #F44336;\n",
       "    }\n",
       "</style>\n"
      ],
      "text/plain": [
       "<IPython.core.display.HTML object>"
      ]
     },
     "metadata": {},
     "output_type": "display_data"
    },
    {
     "data": {
      "text/html": [],
      "text/plain": [
       "<IPython.core.display.HTML object>"
      ]
     },
     "metadata": {},
     "output_type": "display_data"
    },
    {
     "name": "stdout",
     "output_type": "stream",
     "text": [
      "[{'label': 'Non-dead', 'Confidence': 0.736}, {'label': 'Non-dead', 'Confidence': 0.931}, {'label': 'Player_Activity', 'Confidence': 0.46}, {'label': 'Non-dead', 'Confidence': 0.653}, {'label': 'Non-dead', 'Confidence': 0.997}, {'label': 'Player_Activity', 'Confidence': 0.905}, {'label': 'Non-dead', 'Confidence': 1.0}, {'label': 'Non-dead', 'Confidence': 0.985}, {'label': 'Non-dead', 'Confidence': 1.0}, {'label': 'Non-dead', 'Confidence': 0.999}, {'label': 'Non-dead', 'Confidence': 0.976}, {'label': 'Dead', 'Confidence': 1.0}, {'label': 'Dead', 'Confidence': 1.0}]\n"
     ]
    },
    {
     "data": {
      "text/html": [
       "\n",
       "<style>\n",
       "    /* Turns off some styling */\n",
       "    progress {\n",
       "        /* gets rid of default border in Firefox and Opera. */\n",
       "        border: none;\n",
       "        /* Needs to be in here for Safari polyfill so background images work as expected. */\n",
       "        background-size: auto;\n",
       "    }\n",
       "    .progress-bar-interrupted, .progress-bar-interrupted::-webkit-progress-bar {\n",
       "        background: #F44336;\n",
       "    }\n",
       "</style>\n"
      ],
      "text/plain": [
       "<IPython.core.display.HTML object>"
      ]
     },
     "metadata": {},
     "output_type": "display_data"
    },
    {
     "data": {
      "text/html": [],
      "text/plain": [
       "<IPython.core.display.HTML object>"
      ]
     },
     "metadata": {},
     "output_type": "display_data"
    },
    {
     "name": "stdout",
     "output_type": "stream",
     "text": [
      "[{'label': 'Non-dead', 'Confidence': 0.736}, {'label': 'Non-dead', 'Confidence': 0.931}, {'label': 'Player_Activity', 'Confidence': 0.46}, {'label': 'Non-dead', 'Confidence': 0.653}, {'label': 'Non-dead', 'Confidence': 0.997}, {'label': 'Player_Activity', 'Confidence': 0.905}, {'label': 'Non-dead', 'Confidence': 1.0}, {'label': 'Non-dead', 'Confidence': 0.985}, {'label': 'Non-dead', 'Confidence': 1.0}, {'label': 'Non-dead', 'Confidence': 0.999}, {'label': 'Non-dead', 'Confidence': 0.976}, {'label': 'Dead', 'Confidence': 1.0}, {'label': 'Dead', 'Confidence': 1.0}, {'label': 'Dead', 'Confidence': 1.0}]\n"
     ]
    },
    {
     "data": {
      "text/html": [
       "\n",
       "<style>\n",
       "    /* Turns off some styling */\n",
       "    progress {\n",
       "        /* gets rid of default border in Firefox and Opera. */\n",
       "        border: none;\n",
       "        /* Needs to be in here for Safari polyfill so background images work as expected. */\n",
       "        background-size: auto;\n",
       "    }\n",
       "    .progress-bar-interrupted, .progress-bar-interrupted::-webkit-progress-bar {\n",
       "        background: #F44336;\n",
       "    }\n",
       "</style>\n"
      ],
      "text/plain": [
       "<IPython.core.display.HTML object>"
      ]
     },
     "metadata": {},
     "output_type": "display_data"
    },
    {
     "data": {
      "text/html": [],
      "text/plain": [
       "<IPython.core.display.HTML object>"
      ]
     },
     "metadata": {},
     "output_type": "display_data"
    },
    {
     "name": "stdout",
     "output_type": "stream",
     "text": [
      "[{'label': 'Non-dead', 'Confidence': 0.736}, {'label': 'Non-dead', 'Confidence': 0.931}, {'label': 'Player_Activity', 'Confidence': 0.46}, {'label': 'Non-dead', 'Confidence': 0.653}, {'label': 'Non-dead', 'Confidence': 0.997}, {'label': 'Player_Activity', 'Confidence': 0.905}, {'label': 'Non-dead', 'Confidence': 1.0}, {'label': 'Non-dead', 'Confidence': 0.985}, {'label': 'Non-dead', 'Confidence': 1.0}, {'label': 'Non-dead', 'Confidence': 0.999}, {'label': 'Non-dead', 'Confidence': 0.976}, {'label': 'Dead', 'Confidence': 1.0}, {'label': 'Dead', 'Confidence': 1.0}, {'label': 'Dead', 'Confidence': 1.0}, {'label': 'Dead', 'Confidence': 0.561}]\n"
     ]
    },
    {
     "data": {
      "text/html": [
       "\n",
       "<style>\n",
       "    /* Turns off some styling */\n",
       "    progress {\n",
       "        /* gets rid of default border in Firefox and Opera. */\n",
       "        border: none;\n",
       "        /* Needs to be in here for Safari polyfill so background images work as expected. */\n",
       "        background-size: auto;\n",
       "    }\n",
       "    .progress-bar-interrupted, .progress-bar-interrupted::-webkit-progress-bar {\n",
       "        background: #F44336;\n",
       "    }\n",
       "</style>\n"
      ],
      "text/plain": [
       "<IPython.core.display.HTML object>"
      ]
     },
     "metadata": {},
     "output_type": "display_data"
    },
    {
     "data": {
      "text/html": [],
      "text/plain": [
       "<IPython.core.display.HTML object>"
      ]
     },
     "metadata": {},
     "output_type": "display_data"
    },
    {
     "name": "stdout",
     "output_type": "stream",
     "text": [
      "[{'label': 'Non-dead', 'Confidence': 0.736}, {'label': 'Non-dead', 'Confidence': 0.931}, {'label': 'Player_Activity', 'Confidence': 0.46}, {'label': 'Non-dead', 'Confidence': 0.653}, {'label': 'Non-dead', 'Confidence': 0.997}, {'label': 'Player_Activity', 'Confidence': 0.905}, {'label': 'Non-dead', 'Confidence': 1.0}, {'label': 'Non-dead', 'Confidence': 0.985}, {'label': 'Non-dead', 'Confidence': 1.0}, {'label': 'Non-dead', 'Confidence': 0.999}, {'label': 'Non-dead', 'Confidence': 0.976}, {'label': 'Dead', 'Confidence': 1.0}, {'label': 'Dead', 'Confidence': 1.0}, {'label': 'Dead', 'Confidence': 1.0}, {'label': 'Dead', 'Confidence': 0.561}, {'label': 'Non-dead', 'Confidence': 0.999}]\n"
     ]
    },
    {
     "data": {
      "text/html": [
       "\n",
       "<style>\n",
       "    /* Turns off some styling */\n",
       "    progress {\n",
       "        /* gets rid of default border in Firefox and Opera. */\n",
       "        border: none;\n",
       "        /* Needs to be in here for Safari polyfill so background images work as expected. */\n",
       "        background-size: auto;\n",
       "    }\n",
       "    .progress-bar-interrupted, .progress-bar-interrupted::-webkit-progress-bar {\n",
       "        background: #F44336;\n",
       "    }\n",
       "</style>\n"
      ],
      "text/plain": [
       "<IPython.core.display.HTML object>"
      ]
     },
     "metadata": {},
     "output_type": "display_data"
    },
    {
     "data": {
      "text/html": [],
      "text/plain": [
       "<IPython.core.display.HTML object>"
      ]
     },
     "metadata": {},
     "output_type": "display_data"
    },
    {
     "name": "stdout",
     "output_type": "stream",
     "text": [
      "[{'label': 'Non-dead', 'Confidence': 0.736}, {'label': 'Non-dead', 'Confidence': 0.931}, {'label': 'Player_Activity', 'Confidence': 0.46}, {'label': 'Non-dead', 'Confidence': 0.653}, {'label': 'Non-dead', 'Confidence': 0.997}, {'label': 'Player_Activity', 'Confidence': 0.905}, {'label': 'Non-dead', 'Confidence': 1.0}, {'label': 'Non-dead', 'Confidence': 0.985}, {'label': 'Non-dead', 'Confidence': 1.0}, {'label': 'Non-dead', 'Confidence': 0.999}, {'label': 'Non-dead', 'Confidence': 0.976}, {'label': 'Dead', 'Confidence': 1.0}, {'label': 'Dead', 'Confidence': 1.0}, {'label': 'Dead', 'Confidence': 1.0}, {'label': 'Dead', 'Confidence': 0.561}, {'label': 'Non-dead', 'Confidence': 0.999}, {'label': 'Dead', 'Confidence': 1.0}]\n"
     ]
    },
    {
     "data": {
      "text/html": [
       "\n",
       "<style>\n",
       "    /* Turns off some styling */\n",
       "    progress {\n",
       "        /* gets rid of default border in Firefox and Opera. */\n",
       "        border: none;\n",
       "        /* Needs to be in here for Safari polyfill so background images work as expected. */\n",
       "        background-size: auto;\n",
       "    }\n",
       "    .progress-bar-interrupted, .progress-bar-interrupted::-webkit-progress-bar {\n",
       "        background: #F44336;\n",
       "    }\n",
       "</style>\n"
      ],
      "text/plain": [
       "<IPython.core.display.HTML object>"
      ]
     },
     "metadata": {},
     "output_type": "display_data"
    },
    {
     "data": {
      "text/html": [],
      "text/plain": [
       "<IPython.core.display.HTML object>"
      ]
     },
     "metadata": {},
     "output_type": "display_data"
    },
    {
     "name": "stdout",
     "output_type": "stream",
     "text": [
      "[{'label': 'Non-dead', 'Confidence': 0.736}, {'label': 'Non-dead', 'Confidence': 0.931}, {'label': 'Player_Activity', 'Confidence': 0.46}, {'label': 'Non-dead', 'Confidence': 0.653}, {'label': 'Non-dead', 'Confidence': 0.997}, {'label': 'Player_Activity', 'Confidence': 0.905}, {'label': 'Non-dead', 'Confidence': 1.0}, {'label': 'Non-dead', 'Confidence': 0.985}, {'label': 'Non-dead', 'Confidence': 1.0}, {'label': 'Non-dead', 'Confidence': 0.999}, {'label': 'Non-dead', 'Confidence': 0.976}, {'label': 'Dead', 'Confidence': 1.0}, {'label': 'Dead', 'Confidence': 1.0}, {'label': 'Dead', 'Confidence': 1.0}, {'label': 'Dead', 'Confidence': 0.561}, {'label': 'Non-dead', 'Confidence': 0.999}, {'label': 'Dead', 'Confidence': 1.0}, {'label': 'Dead', 'Confidence': 1.0}]\n"
     ]
    },
    {
     "data": {
      "text/html": [
       "\n",
       "<style>\n",
       "    /* Turns off some styling */\n",
       "    progress {\n",
       "        /* gets rid of default border in Firefox and Opera. */\n",
       "        border: none;\n",
       "        /* Needs to be in here for Safari polyfill so background images work as expected. */\n",
       "        background-size: auto;\n",
       "    }\n",
       "    .progress-bar-interrupted, .progress-bar-interrupted::-webkit-progress-bar {\n",
       "        background: #F44336;\n",
       "    }\n",
       "</style>\n"
      ],
      "text/plain": [
       "<IPython.core.display.HTML object>"
      ]
     },
     "metadata": {},
     "output_type": "display_data"
    },
    {
     "data": {
      "text/html": [],
      "text/plain": [
       "<IPython.core.display.HTML object>"
      ]
     },
     "metadata": {},
     "output_type": "display_data"
    },
    {
     "name": "stdout",
     "output_type": "stream",
     "text": [
      "[{'label': 'Non-dead', 'Confidence': 0.736}, {'label': 'Non-dead', 'Confidence': 0.931}, {'label': 'Player_Activity', 'Confidence': 0.46}, {'label': 'Non-dead', 'Confidence': 0.653}, {'label': 'Non-dead', 'Confidence': 0.997}, {'label': 'Player_Activity', 'Confidence': 0.905}, {'label': 'Non-dead', 'Confidence': 1.0}, {'label': 'Non-dead', 'Confidence': 0.985}, {'label': 'Non-dead', 'Confidence': 1.0}, {'label': 'Non-dead', 'Confidence': 0.999}, {'label': 'Non-dead', 'Confidence': 0.976}, {'label': 'Dead', 'Confidence': 1.0}, {'label': 'Dead', 'Confidence': 1.0}, {'label': 'Dead', 'Confidence': 1.0}, {'label': 'Dead', 'Confidence': 0.561}, {'label': 'Non-dead', 'Confidence': 0.999}, {'label': 'Dead', 'Confidence': 1.0}, {'label': 'Dead', 'Confidence': 1.0}, {'label': 'Dead', 'Confidence': 1.0}]\n"
     ]
    },
    {
     "data": {
      "text/html": [
       "\n",
       "<style>\n",
       "    /* Turns off some styling */\n",
       "    progress {\n",
       "        /* gets rid of default border in Firefox and Opera. */\n",
       "        border: none;\n",
       "        /* Needs to be in here for Safari polyfill so background images work as expected. */\n",
       "        background-size: auto;\n",
       "    }\n",
       "    .progress-bar-interrupted, .progress-bar-interrupted::-webkit-progress-bar {\n",
       "        background: #F44336;\n",
       "    }\n",
       "</style>\n"
      ],
      "text/plain": [
       "<IPython.core.display.HTML object>"
      ]
     },
     "metadata": {},
     "output_type": "display_data"
    },
    {
     "data": {
      "text/html": [],
      "text/plain": [
       "<IPython.core.display.HTML object>"
      ]
     },
     "metadata": {},
     "output_type": "display_data"
    },
    {
     "name": "stdout",
     "output_type": "stream",
     "text": [
      "[{'label': 'Non-dead', 'Confidence': 0.736}, {'label': 'Non-dead', 'Confidence': 0.931}, {'label': 'Player_Activity', 'Confidence': 0.46}, {'label': 'Non-dead', 'Confidence': 0.653}, {'label': 'Non-dead', 'Confidence': 0.997}, {'label': 'Player_Activity', 'Confidence': 0.905}, {'label': 'Non-dead', 'Confidence': 1.0}, {'label': 'Non-dead', 'Confidence': 0.985}, {'label': 'Non-dead', 'Confidence': 1.0}, {'label': 'Non-dead', 'Confidence': 0.999}, {'label': 'Non-dead', 'Confidence': 0.976}, {'label': 'Dead', 'Confidence': 1.0}, {'label': 'Dead', 'Confidence': 1.0}, {'label': 'Dead', 'Confidence': 1.0}, {'label': 'Dead', 'Confidence': 0.561}, {'label': 'Non-dead', 'Confidence': 0.999}, {'label': 'Dead', 'Confidence': 1.0}, {'label': 'Dead', 'Confidence': 1.0}, {'label': 'Dead', 'Confidence': 1.0}, {'label': 'Dead', 'Confidence': 0.951}]\n"
     ]
    },
    {
     "data": {
      "text/html": [
       "\n",
       "<style>\n",
       "    /* Turns off some styling */\n",
       "    progress {\n",
       "        /* gets rid of default border in Firefox and Opera. */\n",
       "        border: none;\n",
       "        /* Needs to be in here for Safari polyfill so background images work as expected. */\n",
       "        background-size: auto;\n",
       "    }\n",
       "    .progress-bar-interrupted, .progress-bar-interrupted::-webkit-progress-bar {\n",
       "        background: #F44336;\n",
       "    }\n",
       "</style>\n"
      ],
      "text/plain": [
       "<IPython.core.display.HTML object>"
      ]
     },
     "metadata": {},
     "output_type": "display_data"
    },
    {
     "data": {
      "text/html": [],
      "text/plain": [
       "<IPython.core.display.HTML object>"
      ]
     },
     "metadata": {},
     "output_type": "display_data"
    },
    {
     "name": "stdout",
     "output_type": "stream",
     "text": [
      "[{'label': 'Non-dead', 'Confidence': 0.736}, {'label': 'Non-dead', 'Confidence': 0.931}, {'label': 'Player_Activity', 'Confidence': 0.46}, {'label': 'Non-dead', 'Confidence': 0.653}, {'label': 'Non-dead', 'Confidence': 0.997}, {'label': 'Player_Activity', 'Confidence': 0.905}, {'label': 'Non-dead', 'Confidence': 1.0}, {'label': 'Non-dead', 'Confidence': 0.985}, {'label': 'Non-dead', 'Confidence': 1.0}, {'label': 'Non-dead', 'Confidence': 0.999}, {'label': 'Non-dead', 'Confidence': 0.976}, {'label': 'Dead', 'Confidence': 1.0}, {'label': 'Dead', 'Confidence': 1.0}, {'label': 'Dead', 'Confidence': 1.0}, {'label': 'Dead', 'Confidence': 0.561}, {'label': 'Non-dead', 'Confidence': 0.999}, {'label': 'Dead', 'Confidence': 1.0}, {'label': 'Dead', 'Confidence': 1.0}, {'label': 'Dead', 'Confidence': 1.0}, {'label': 'Dead', 'Confidence': 0.951}, {'label': 'Dead', 'Confidence': 0.995}]\n"
     ]
    },
    {
     "data": {
      "text/html": [
       "\n",
       "<style>\n",
       "    /* Turns off some styling */\n",
       "    progress {\n",
       "        /* gets rid of default border in Firefox and Opera. */\n",
       "        border: none;\n",
       "        /* Needs to be in here for Safari polyfill so background images work as expected. */\n",
       "        background-size: auto;\n",
       "    }\n",
       "    .progress-bar-interrupted, .progress-bar-interrupted::-webkit-progress-bar {\n",
       "        background: #F44336;\n",
       "    }\n",
       "</style>\n"
      ],
      "text/plain": [
       "<IPython.core.display.HTML object>"
      ]
     },
     "metadata": {},
     "output_type": "display_data"
    },
    {
     "data": {
      "text/html": [],
      "text/plain": [
       "<IPython.core.display.HTML object>"
      ]
     },
     "metadata": {},
     "output_type": "display_data"
    },
    {
     "name": "stdout",
     "output_type": "stream",
     "text": [
      "[{'label': 'Non-dead', 'Confidence': 0.736}, {'label': 'Non-dead', 'Confidence': 0.931}, {'label': 'Player_Activity', 'Confidence': 0.46}, {'label': 'Non-dead', 'Confidence': 0.653}, {'label': 'Non-dead', 'Confidence': 0.997}, {'label': 'Player_Activity', 'Confidence': 0.905}, {'label': 'Non-dead', 'Confidence': 1.0}, {'label': 'Non-dead', 'Confidence': 0.985}, {'label': 'Non-dead', 'Confidence': 1.0}, {'label': 'Non-dead', 'Confidence': 0.999}, {'label': 'Non-dead', 'Confidence': 0.976}, {'label': 'Dead', 'Confidence': 1.0}, {'label': 'Dead', 'Confidence': 1.0}, {'label': 'Dead', 'Confidence': 1.0}, {'label': 'Dead', 'Confidence': 0.561}, {'label': 'Non-dead', 'Confidence': 0.999}, {'label': 'Dead', 'Confidence': 1.0}, {'label': 'Dead', 'Confidence': 1.0}, {'label': 'Dead', 'Confidence': 1.0}, {'label': 'Dead', 'Confidence': 0.951}, {'label': 'Dead', 'Confidence': 0.995}, {'label': 'Dead', 'Confidence': 1.0}]\n"
     ]
    },
    {
     "data": {
      "text/html": [
       "\n",
       "<style>\n",
       "    /* Turns off some styling */\n",
       "    progress {\n",
       "        /* gets rid of default border in Firefox and Opera. */\n",
       "        border: none;\n",
       "        /* Needs to be in here for Safari polyfill so background images work as expected. */\n",
       "        background-size: auto;\n",
       "    }\n",
       "    .progress-bar-interrupted, .progress-bar-interrupted::-webkit-progress-bar {\n",
       "        background: #F44336;\n",
       "    }\n",
       "</style>\n"
      ],
      "text/plain": [
       "<IPython.core.display.HTML object>"
      ]
     },
     "metadata": {},
     "output_type": "display_data"
    },
    {
     "data": {
      "text/html": [],
      "text/plain": [
       "<IPython.core.display.HTML object>"
      ]
     },
     "metadata": {},
     "output_type": "display_data"
    },
    {
     "name": "stdout",
     "output_type": "stream",
     "text": [
      "[{'label': 'Non-dead', 'Confidence': 0.736}, {'label': 'Non-dead', 'Confidence': 0.931}, {'label': 'Player_Activity', 'Confidence': 0.46}, {'label': 'Non-dead', 'Confidence': 0.653}, {'label': 'Non-dead', 'Confidence': 0.997}, {'label': 'Player_Activity', 'Confidence': 0.905}, {'label': 'Non-dead', 'Confidence': 1.0}, {'label': 'Non-dead', 'Confidence': 0.985}, {'label': 'Non-dead', 'Confidence': 1.0}, {'label': 'Non-dead', 'Confidence': 0.999}, {'label': 'Non-dead', 'Confidence': 0.976}, {'label': 'Dead', 'Confidence': 1.0}, {'label': 'Dead', 'Confidence': 1.0}, {'label': 'Dead', 'Confidence': 1.0}, {'label': 'Dead', 'Confidence': 0.561}, {'label': 'Non-dead', 'Confidence': 0.999}, {'label': 'Dead', 'Confidence': 1.0}, {'label': 'Dead', 'Confidence': 1.0}, {'label': 'Dead', 'Confidence': 1.0}, {'label': 'Dead', 'Confidence': 0.951}, {'label': 'Dead', 'Confidence': 0.995}, {'label': 'Dead', 'Confidence': 1.0}, {'label': 'Non-dead', 'Confidence': 0.993}]\n"
     ]
    },
    {
     "data": {
      "text/html": [
       "\n",
       "<style>\n",
       "    /* Turns off some styling */\n",
       "    progress {\n",
       "        /* gets rid of default border in Firefox and Opera. */\n",
       "        border: none;\n",
       "        /* Needs to be in here for Safari polyfill so background images work as expected. */\n",
       "        background-size: auto;\n",
       "    }\n",
       "    .progress-bar-interrupted, .progress-bar-interrupted::-webkit-progress-bar {\n",
       "        background: #F44336;\n",
       "    }\n",
       "</style>\n"
      ],
      "text/plain": [
       "<IPython.core.display.HTML object>"
      ]
     },
     "metadata": {},
     "output_type": "display_data"
    },
    {
     "data": {
      "text/html": [],
      "text/plain": [
       "<IPython.core.display.HTML object>"
      ]
     },
     "metadata": {},
     "output_type": "display_data"
    },
    {
     "name": "stdout",
     "output_type": "stream",
     "text": [
      "[{'label': 'Non-dead', 'Confidence': 0.736}, {'label': 'Non-dead', 'Confidence': 0.931}, {'label': 'Player_Activity', 'Confidence': 0.46}, {'label': 'Non-dead', 'Confidence': 0.653}, {'label': 'Non-dead', 'Confidence': 0.997}, {'label': 'Player_Activity', 'Confidence': 0.905}, {'label': 'Non-dead', 'Confidence': 1.0}, {'label': 'Non-dead', 'Confidence': 0.985}, {'label': 'Non-dead', 'Confidence': 1.0}, {'label': 'Non-dead', 'Confidence': 0.999}, {'label': 'Non-dead', 'Confidence': 0.976}, {'label': 'Dead', 'Confidence': 1.0}, {'label': 'Dead', 'Confidence': 1.0}, {'label': 'Dead', 'Confidence': 1.0}, {'label': 'Dead', 'Confidence': 0.561}, {'label': 'Non-dead', 'Confidence': 0.999}, {'label': 'Dead', 'Confidence': 1.0}, {'label': 'Dead', 'Confidence': 1.0}, {'label': 'Dead', 'Confidence': 1.0}, {'label': 'Dead', 'Confidence': 0.951}, {'label': 'Dead', 'Confidence': 0.995}, {'label': 'Dead', 'Confidence': 1.0}, {'label': 'Non-dead', 'Confidence': 0.993}, {'label': 'Dead', 'Confidence': 0.604}]\n"
     ]
    },
    {
     "data": {
      "text/html": [
       "\n",
       "<style>\n",
       "    /* Turns off some styling */\n",
       "    progress {\n",
       "        /* gets rid of default border in Firefox and Opera. */\n",
       "        border: none;\n",
       "        /* Needs to be in here for Safari polyfill so background images work as expected. */\n",
       "        background-size: auto;\n",
       "    }\n",
       "    .progress-bar-interrupted, .progress-bar-interrupted::-webkit-progress-bar {\n",
       "        background: #F44336;\n",
       "    }\n",
       "</style>\n"
      ],
      "text/plain": [
       "<IPython.core.display.HTML object>"
      ]
     },
     "metadata": {},
     "output_type": "display_data"
    },
    {
     "data": {
      "text/html": [],
      "text/plain": [
       "<IPython.core.display.HTML object>"
      ]
     },
     "metadata": {},
     "output_type": "display_data"
    },
    {
     "name": "stdout",
     "output_type": "stream",
     "text": [
      "[{'label': 'Non-dead', 'Confidence': 0.736}, {'label': 'Non-dead', 'Confidence': 0.931}, {'label': 'Player_Activity', 'Confidence': 0.46}, {'label': 'Non-dead', 'Confidence': 0.653}, {'label': 'Non-dead', 'Confidence': 0.997}, {'label': 'Player_Activity', 'Confidence': 0.905}, {'label': 'Non-dead', 'Confidence': 1.0}, {'label': 'Non-dead', 'Confidence': 0.985}, {'label': 'Non-dead', 'Confidence': 1.0}, {'label': 'Non-dead', 'Confidence': 0.999}, {'label': 'Non-dead', 'Confidence': 0.976}, {'label': 'Dead', 'Confidence': 1.0}, {'label': 'Dead', 'Confidence': 1.0}, {'label': 'Dead', 'Confidence': 1.0}, {'label': 'Dead', 'Confidence': 0.561}, {'label': 'Non-dead', 'Confidence': 0.999}, {'label': 'Dead', 'Confidence': 1.0}, {'label': 'Dead', 'Confidence': 1.0}, {'label': 'Dead', 'Confidence': 1.0}, {'label': 'Dead', 'Confidence': 0.951}, {'label': 'Dead', 'Confidence': 0.995}, {'label': 'Dead', 'Confidence': 1.0}, {'label': 'Non-dead', 'Confidence': 0.993}, {'label': 'Dead', 'Confidence': 0.604}, {'label': 'Player_Activity', 'Confidence': 1.0}]\n"
     ]
    },
    {
     "data": {
      "text/html": [
       "\n",
       "<style>\n",
       "    /* Turns off some styling */\n",
       "    progress {\n",
       "        /* gets rid of default border in Firefox and Opera. */\n",
       "        border: none;\n",
       "        /* Needs to be in here for Safari polyfill so background images work as expected. */\n",
       "        background-size: auto;\n",
       "    }\n",
       "    .progress-bar-interrupted, .progress-bar-interrupted::-webkit-progress-bar {\n",
       "        background: #F44336;\n",
       "    }\n",
       "</style>\n"
      ],
      "text/plain": [
       "<IPython.core.display.HTML object>"
      ]
     },
     "metadata": {},
     "output_type": "display_data"
    },
    {
     "data": {
      "text/html": [],
      "text/plain": [
       "<IPython.core.display.HTML object>"
      ]
     },
     "metadata": {},
     "output_type": "display_data"
    },
    {
     "name": "stdout",
     "output_type": "stream",
     "text": [
      "[{'label': 'Non-dead', 'Confidence': 0.736}, {'label': 'Non-dead', 'Confidence': 0.931}, {'label': 'Player_Activity', 'Confidence': 0.46}, {'label': 'Non-dead', 'Confidence': 0.653}, {'label': 'Non-dead', 'Confidence': 0.997}, {'label': 'Player_Activity', 'Confidence': 0.905}, {'label': 'Non-dead', 'Confidence': 1.0}, {'label': 'Non-dead', 'Confidence': 0.985}, {'label': 'Non-dead', 'Confidence': 1.0}, {'label': 'Non-dead', 'Confidence': 0.999}, {'label': 'Non-dead', 'Confidence': 0.976}, {'label': 'Dead', 'Confidence': 1.0}, {'label': 'Dead', 'Confidence': 1.0}, {'label': 'Dead', 'Confidence': 1.0}, {'label': 'Dead', 'Confidence': 0.561}, {'label': 'Non-dead', 'Confidence': 0.999}, {'label': 'Dead', 'Confidence': 1.0}, {'label': 'Dead', 'Confidence': 1.0}, {'label': 'Dead', 'Confidence': 1.0}, {'label': 'Dead', 'Confidence': 0.951}, {'label': 'Dead', 'Confidence': 0.995}, {'label': 'Dead', 'Confidence': 1.0}, {'label': 'Non-dead', 'Confidence': 0.993}, {'label': 'Dead', 'Confidence': 0.604}, {'label': 'Player_Activity', 'Confidence': 1.0}, {'label': 'Non-dead', 'Confidence': 0.999}]\n"
     ]
    },
    {
     "data": {
      "text/html": [
       "\n",
       "<style>\n",
       "    /* Turns off some styling */\n",
       "    progress {\n",
       "        /* gets rid of default border in Firefox and Opera. */\n",
       "        border: none;\n",
       "        /* Needs to be in here for Safari polyfill so background images work as expected. */\n",
       "        background-size: auto;\n",
       "    }\n",
       "    .progress-bar-interrupted, .progress-bar-interrupted::-webkit-progress-bar {\n",
       "        background: #F44336;\n",
       "    }\n",
       "</style>\n"
      ],
      "text/plain": [
       "<IPython.core.display.HTML object>"
      ]
     },
     "metadata": {},
     "output_type": "display_data"
    },
    {
     "data": {
      "text/html": [],
      "text/plain": [
       "<IPython.core.display.HTML object>"
      ]
     },
     "metadata": {},
     "output_type": "display_data"
    },
    {
     "name": "stdout",
     "output_type": "stream",
     "text": [
      "[{'label': 'Non-dead', 'Confidence': 0.736}, {'label': 'Non-dead', 'Confidence': 0.931}, {'label': 'Player_Activity', 'Confidence': 0.46}, {'label': 'Non-dead', 'Confidence': 0.653}, {'label': 'Non-dead', 'Confidence': 0.997}, {'label': 'Player_Activity', 'Confidence': 0.905}, {'label': 'Non-dead', 'Confidence': 1.0}, {'label': 'Non-dead', 'Confidence': 0.985}, {'label': 'Non-dead', 'Confidence': 1.0}, {'label': 'Non-dead', 'Confidence': 0.999}, {'label': 'Non-dead', 'Confidence': 0.976}, {'label': 'Dead', 'Confidence': 1.0}, {'label': 'Dead', 'Confidence': 1.0}, {'label': 'Dead', 'Confidence': 1.0}, {'label': 'Dead', 'Confidence': 0.561}, {'label': 'Non-dead', 'Confidence': 0.999}, {'label': 'Dead', 'Confidence': 1.0}, {'label': 'Dead', 'Confidence': 1.0}, {'label': 'Dead', 'Confidence': 1.0}, {'label': 'Dead', 'Confidence': 0.951}, {'label': 'Dead', 'Confidence': 0.995}, {'label': 'Dead', 'Confidence': 1.0}, {'label': 'Non-dead', 'Confidence': 0.993}, {'label': 'Dead', 'Confidence': 0.604}, {'label': 'Player_Activity', 'Confidence': 1.0}, {'label': 'Non-dead', 'Confidence': 0.999}, {'label': 'Non-dead', 'Confidence': 0.999}]\n"
     ]
    },
    {
     "data": {
      "text/html": [
       "\n",
       "<style>\n",
       "    /* Turns off some styling */\n",
       "    progress {\n",
       "        /* gets rid of default border in Firefox and Opera. */\n",
       "        border: none;\n",
       "        /* Needs to be in here for Safari polyfill so background images work as expected. */\n",
       "        background-size: auto;\n",
       "    }\n",
       "    .progress-bar-interrupted, .progress-bar-interrupted::-webkit-progress-bar {\n",
       "        background: #F44336;\n",
       "    }\n",
       "</style>\n"
      ],
      "text/plain": [
       "<IPython.core.display.HTML object>"
      ]
     },
     "metadata": {},
     "output_type": "display_data"
    },
    {
     "data": {
      "text/html": [],
      "text/plain": [
       "<IPython.core.display.HTML object>"
      ]
     },
     "metadata": {},
     "output_type": "display_data"
    },
    {
     "name": "stdout",
     "output_type": "stream",
     "text": [
      "[{'label': 'Non-dead', 'Confidence': 0.736}, {'label': 'Non-dead', 'Confidence': 0.931}, {'label': 'Player_Activity', 'Confidence': 0.46}, {'label': 'Non-dead', 'Confidence': 0.653}, {'label': 'Non-dead', 'Confidence': 0.997}, {'label': 'Player_Activity', 'Confidence': 0.905}, {'label': 'Non-dead', 'Confidence': 1.0}, {'label': 'Non-dead', 'Confidence': 0.985}, {'label': 'Non-dead', 'Confidence': 1.0}, {'label': 'Non-dead', 'Confidence': 0.999}, {'label': 'Non-dead', 'Confidence': 0.976}, {'label': 'Dead', 'Confidence': 1.0}, {'label': 'Dead', 'Confidence': 1.0}, {'label': 'Dead', 'Confidence': 1.0}, {'label': 'Dead', 'Confidence': 0.561}, {'label': 'Non-dead', 'Confidence': 0.999}, {'label': 'Dead', 'Confidence': 1.0}, {'label': 'Dead', 'Confidence': 1.0}, {'label': 'Dead', 'Confidence': 1.0}, {'label': 'Dead', 'Confidence': 0.951}, {'label': 'Dead', 'Confidence': 0.995}, {'label': 'Dead', 'Confidence': 1.0}, {'label': 'Non-dead', 'Confidence': 0.993}, {'label': 'Dead', 'Confidence': 0.604}, {'label': 'Player_Activity', 'Confidence': 1.0}, {'label': 'Non-dead', 'Confidence': 0.999}, {'label': 'Non-dead', 'Confidence': 0.999}, {'label': 'Non-dead', 'Confidence': 0.969}]\n"
     ]
    },
    {
     "data": {
      "text/html": [
       "\n",
       "<style>\n",
       "    /* Turns off some styling */\n",
       "    progress {\n",
       "        /* gets rid of default border in Firefox and Opera. */\n",
       "        border: none;\n",
       "        /* Needs to be in here for Safari polyfill so background images work as expected. */\n",
       "        background-size: auto;\n",
       "    }\n",
       "    .progress-bar-interrupted, .progress-bar-interrupted::-webkit-progress-bar {\n",
       "        background: #F44336;\n",
       "    }\n",
       "</style>\n"
      ],
      "text/plain": [
       "<IPython.core.display.HTML object>"
      ]
     },
     "metadata": {},
     "output_type": "display_data"
    },
    {
     "data": {
      "text/html": [],
      "text/plain": [
       "<IPython.core.display.HTML object>"
      ]
     },
     "metadata": {},
     "output_type": "display_data"
    },
    {
     "name": "stdout",
     "output_type": "stream",
     "text": [
      "[{'label': 'Non-dead', 'Confidence': 0.736}, {'label': 'Non-dead', 'Confidence': 0.931}, {'label': 'Player_Activity', 'Confidence': 0.46}, {'label': 'Non-dead', 'Confidence': 0.653}, {'label': 'Non-dead', 'Confidence': 0.997}, {'label': 'Player_Activity', 'Confidence': 0.905}, {'label': 'Non-dead', 'Confidence': 1.0}, {'label': 'Non-dead', 'Confidence': 0.985}, {'label': 'Non-dead', 'Confidence': 1.0}, {'label': 'Non-dead', 'Confidence': 0.999}, {'label': 'Non-dead', 'Confidence': 0.976}, {'label': 'Dead', 'Confidence': 1.0}, {'label': 'Dead', 'Confidence': 1.0}, {'label': 'Dead', 'Confidence': 1.0}, {'label': 'Dead', 'Confidence': 0.561}, {'label': 'Non-dead', 'Confidence': 0.999}, {'label': 'Dead', 'Confidence': 1.0}, {'label': 'Dead', 'Confidence': 1.0}, {'label': 'Dead', 'Confidence': 1.0}, {'label': 'Dead', 'Confidence': 0.951}, {'label': 'Dead', 'Confidence': 0.995}, {'label': 'Dead', 'Confidence': 1.0}, {'label': 'Non-dead', 'Confidence': 0.993}, {'label': 'Dead', 'Confidence': 0.604}, {'label': 'Player_Activity', 'Confidence': 1.0}, {'label': 'Non-dead', 'Confidence': 0.999}, {'label': 'Non-dead', 'Confidence': 0.999}, {'label': 'Non-dead', 'Confidence': 0.969}, {'label': 'Non-dead', 'Confidence': 0.998}]\n"
     ]
    },
    {
     "data": {
      "text/html": [
       "\n",
       "<style>\n",
       "    /* Turns off some styling */\n",
       "    progress {\n",
       "        /* gets rid of default border in Firefox and Opera. */\n",
       "        border: none;\n",
       "        /* Needs to be in here for Safari polyfill so background images work as expected. */\n",
       "        background-size: auto;\n",
       "    }\n",
       "    .progress-bar-interrupted, .progress-bar-interrupted::-webkit-progress-bar {\n",
       "        background: #F44336;\n",
       "    }\n",
       "</style>\n"
      ],
      "text/plain": [
       "<IPython.core.display.HTML object>"
      ]
     },
     "metadata": {},
     "output_type": "display_data"
    },
    {
     "data": {
      "text/html": [],
      "text/plain": [
       "<IPython.core.display.HTML object>"
      ]
     },
     "metadata": {},
     "output_type": "display_data"
    },
    {
     "name": "stdout",
     "output_type": "stream",
     "text": [
      "[{'label': 'Non-dead', 'Confidence': 0.736}, {'label': 'Non-dead', 'Confidence': 0.931}, {'label': 'Player_Activity', 'Confidence': 0.46}, {'label': 'Non-dead', 'Confidence': 0.653}, {'label': 'Non-dead', 'Confidence': 0.997}, {'label': 'Player_Activity', 'Confidence': 0.905}, {'label': 'Non-dead', 'Confidence': 1.0}, {'label': 'Non-dead', 'Confidence': 0.985}, {'label': 'Non-dead', 'Confidence': 1.0}, {'label': 'Non-dead', 'Confidence': 0.999}, {'label': 'Non-dead', 'Confidence': 0.976}, {'label': 'Dead', 'Confidence': 1.0}, {'label': 'Dead', 'Confidence': 1.0}, {'label': 'Dead', 'Confidence': 1.0}, {'label': 'Dead', 'Confidence': 0.561}, {'label': 'Non-dead', 'Confidence': 0.999}, {'label': 'Dead', 'Confidence': 1.0}, {'label': 'Dead', 'Confidence': 1.0}, {'label': 'Dead', 'Confidence': 1.0}, {'label': 'Dead', 'Confidence': 0.951}, {'label': 'Dead', 'Confidence': 0.995}, {'label': 'Dead', 'Confidence': 1.0}, {'label': 'Non-dead', 'Confidence': 0.993}, {'label': 'Dead', 'Confidence': 0.604}, {'label': 'Player_Activity', 'Confidence': 1.0}, {'label': 'Non-dead', 'Confidence': 0.999}, {'label': 'Non-dead', 'Confidence': 0.999}, {'label': 'Non-dead', 'Confidence': 0.969}, {'label': 'Non-dead', 'Confidence': 0.998}, {'label': 'Non-dead', 'Confidence': 1.0}]\n"
     ]
    },
    {
     "data": {
      "text/html": [
       "\n",
       "<style>\n",
       "    /* Turns off some styling */\n",
       "    progress {\n",
       "        /* gets rid of default border in Firefox and Opera. */\n",
       "        border: none;\n",
       "        /* Needs to be in here for Safari polyfill so background images work as expected. */\n",
       "        background-size: auto;\n",
       "    }\n",
       "    .progress-bar-interrupted, .progress-bar-interrupted::-webkit-progress-bar {\n",
       "        background: #F44336;\n",
       "    }\n",
       "</style>\n"
      ],
      "text/plain": [
       "<IPython.core.display.HTML object>"
      ]
     },
     "metadata": {},
     "output_type": "display_data"
    },
    {
     "data": {
      "text/html": [],
      "text/plain": [
       "<IPython.core.display.HTML object>"
      ]
     },
     "metadata": {},
     "output_type": "display_data"
    },
    {
     "name": "stdout",
     "output_type": "stream",
     "text": [
      "[{'label': 'Non-dead', 'Confidence': 0.736}, {'label': 'Non-dead', 'Confidence': 0.931}, {'label': 'Player_Activity', 'Confidence': 0.46}, {'label': 'Non-dead', 'Confidence': 0.653}, {'label': 'Non-dead', 'Confidence': 0.997}, {'label': 'Player_Activity', 'Confidence': 0.905}, {'label': 'Non-dead', 'Confidence': 1.0}, {'label': 'Non-dead', 'Confidence': 0.985}, {'label': 'Non-dead', 'Confidence': 1.0}, {'label': 'Non-dead', 'Confidence': 0.999}, {'label': 'Non-dead', 'Confidence': 0.976}, {'label': 'Dead', 'Confidence': 1.0}, {'label': 'Dead', 'Confidence': 1.0}, {'label': 'Dead', 'Confidence': 1.0}, {'label': 'Dead', 'Confidence': 0.561}, {'label': 'Non-dead', 'Confidence': 0.999}, {'label': 'Dead', 'Confidence': 1.0}, {'label': 'Dead', 'Confidence': 1.0}, {'label': 'Dead', 'Confidence': 1.0}, {'label': 'Dead', 'Confidence': 0.951}, {'label': 'Dead', 'Confidence': 0.995}, {'label': 'Dead', 'Confidence': 1.0}, {'label': 'Non-dead', 'Confidence': 0.993}, {'label': 'Dead', 'Confidence': 0.604}, {'label': 'Player_Activity', 'Confidence': 1.0}, {'label': 'Non-dead', 'Confidence': 0.999}, {'label': 'Non-dead', 'Confidence': 0.999}, {'label': 'Non-dead', 'Confidence': 0.969}, {'label': 'Non-dead', 'Confidence': 0.998}, {'label': 'Non-dead', 'Confidence': 1.0}, {'label': 'Non-dead', 'Confidence': 0.992}]\n"
     ]
    },
    {
     "data": {
      "text/html": [
       "\n",
       "<style>\n",
       "    /* Turns off some styling */\n",
       "    progress {\n",
       "        /* gets rid of default border in Firefox and Opera. */\n",
       "        border: none;\n",
       "        /* Needs to be in here for Safari polyfill so background images work as expected. */\n",
       "        background-size: auto;\n",
       "    }\n",
       "    .progress-bar-interrupted, .progress-bar-interrupted::-webkit-progress-bar {\n",
       "        background: #F44336;\n",
       "    }\n",
       "</style>\n"
      ],
      "text/plain": [
       "<IPython.core.display.HTML object>"
      ]
     },
     "metadata": {},
     "output_type": "display_data"
    },
    {
     "data": {
      "text/html": [],
      "text/plain": [
       "<IPython.core.display.HTML object>"
      ]
     },
     "metadata": {},
     "output_type": "display_data"
    },
    {
     "name": "stdout",
     "output_type": "stream",
     "text": [
      "[{'label': 'Non-dead', 'Confidence': 0.736}, {'label': 'Non-dead', 'Confidence': 0.931}, {'label': 'Player_Activity', 'Confidence': 0.46}, {'label': 'Non-dead', 'Confidence': 0.653}, {'label': 'Non-dead', 'Confidence': 0.997}, {'label': 'Player_Activity', 'Confidence': 0.905}, {'label': 'Non-dead', 'Confidence': 1.0}, {'label': 'Non-dead', 'Confidence': 0.985}, {'label': 'Non-dead', 'Confidence': 1.0}, {'label': 'Non-dead', 'Confidence': 0.999}, {'label': 'Non-dead', 'Confidence': 0.976}, {'label': 'Dead', 'Confidence': 1.0}, {'label': 'Dead', 'Confidence': 1.0}, {'label': 'Dead', 'Confidence': 1.0}, {'label': 'Dead', 'Confidence': 0.561}, {'label': 'Non-dead', 'Confidence': 0.999}, {'label': 'Dead', 'Confidence': 1.0}, {'label': 'Dead', 'Confidence': 1.0}, {'label': 'Dead', 'Confidence': 1.0}, {'label': 'Dead', 'Confidence': 0.951}, {'label': 'Dead', 'Confidence': 0.995}, {'label': 'Dead', 'Confidence': 1.0}, {'label': 'Non-dead', 'Confidence': 0.993}, {'label': 'Dead', 'Confidence': 0.604}, {'label': 'Player_Activity', 'Confidence': 1.0}, {'label': 'Non-dead', 'Confidence': 0.999}, {'label': 'Non-dead', 'Confidence': 0.999}, {'label': 'Non-dead', 'Confidence': 0.969}, {'label': 'Non-dead', 'Confidence': 0.998}, {'label': 'Non-dead', 'Confidence': 1.0}, {'label': 'Non-dead', 'Confidence': 0.992}, {'label': 'Non-dead', 'Confidence': 0.999}]\n"
     ]
    },
    {
     "data": {
      "text/html": [
       "\n",
       "<style>\n",
       "    /* Turns off some styling */\n",
       "    progress {\n",
       "        /* gets rid of default border in Firefox and Opera. */\n",
       "        border: none;\n",
       "        /* Needs to be in here for Safari polyfill so background images work as expected. */\n",
       "        background-size: auto;\n",
       "    }\n",
       "    .progress-bar-interrupted, .progress-bar-interrupted::-webkit-progress-bar {\n",
       "        background: #F44336;\n",
       "    }\n",
       "</style>\n"
      ],
      "text/plain": [
       "<IPython.core.display.HTML object>"
      ]
     },
     "metadata": {},
     "output_type": "display_data"
    },
    {
     "data": {
      "text/html": [],
      "text/plain": [
       "<IPython.core.display.HTML object>"
      ]
     },
     "metadata": {},
     "output_type": "display_data"
    },
    {
     "name": "stdout",
     "output_type": "stream",
     "text": [
      "[{'label': 'Non-dead', 'Confidence': 0.736}, {'label': 'Non-dead', 'Confidence': 0.931}, {'label': 'Player_Activity', 'Confidence': 0.46}, {'label': 'Non-dead', 'Confidence': 0.653}, {'label': 'Non-dead', 'Confidence': 0.997}, {'label': 'Player_Activity', 'Confidence': 0.905}, {'label': 'Non-dead', 'Confidence': 1.0}, {'label': 'Non-dead', 'Confidence': 0.985}, {'label': 'Non-dead', 'Confidence': 1.0}, {'label': 'Non-dead', 'Confidence': 0.999}, {'label': 'Non-dead', 'Confidence': 0.976}, {'label': 'Dead', 'Confidence': 1.0}, {'label': 'Dead', 'Confidence': 1.0}, {'label': 'Dead', 'Confidence': 1.0}, {'label': 'Dead', 'Confidence': 0.561}, {'label': 'Non-dead', 'Confidence': 0.999}, {'label': 'Dead', 'Confidence': 1.0}, {'label': 'Dead', 'Confidence': 1.0}, {'label': 'Dead', 'Confidence': 1.0}, {'label': 'Dead', 'Confidence': 0.951}, {'label': 'Dead', 'Confidence': 0.995}, {'label': 'Dead', 'Confidence': 1.0}, {'label': 'Non-dead', 'Confidence': 0.993}, {'label': 'Dead', 'Confidence': 0.604}, {'label': 'Player_Activity', 'Confidence': 1.0}, {'label': 'Non-dead', 'Confidence': 0.999}, {'label': 'Non-dead', 'Confidence': 0.999}, {'label': 'Non-dead', 'Confidence': 0.969}, {'label': 'Non-dead', 'Confidence': 0.998}, {'label': 'Non-dead', 'Confidence': 1.0}, {'label': 'Non-dead', 'Confidence': 0.992}, {'label': 'Non-dead', 'Confidence': 0.999}, {'label': 'Dead', 'Confidence': 0.999}]\n"
     ]
    },
    {
     "data": {
      "text/html": [
       "\n",
       "<style>\n",
       "    /* Turns off some styling */\n",
       "    progress {\n",
       "        /* gets rid of default border in Firefox and Opera. */\n",
       "        border: none;\n",
       "        /* Needs to be in here for Safari polyfill so background images work as expected. */\n",
       "        background-size: auto;\n",
       "    }\n",
       "    .progress-bar-interrupted, .progress-bar-interrupted::-webkit-progress-bar {\n",
       "        background: #F44336;\n",
       "    }\n",
       "</style>\n"
      ],
      "text/plain": [
       "<IPython.core.display.HTML object>"
      ]
     },
     "metadata": {},
     "output_type": "display_data"
    },
    {
     "data": {
      "text/html": [],
      "text/plain": [
       "<IPython.core.display.HTML object>"
      ]
     },
     "metadata": {},
     "output_type": "display_data"
    },
    {
     "name": "stdout",
     "output_type": "stream",
     "text": [
      "[{'label': 'Non-dead', 'Confidence': 0.736}, {'label': 'Non-dead', 'Confidence': 0.931}, {'label': 'Player_Activity', 'Confidence': 0.46}, {'label': 'Non-dead', 'Confidence': 0.653}, {'label': 'Non-dead', 'Confidence': 0.997}, {'label': 'Player_Activity', 'Confidence': 0.905}, {'label': 'Non-dead', 'Confidence': 1.0}, {'label': 'Non-dead', 'Confidence': 0.985}, {'label': 'Non-dead', 'Confidence': 1.0}, {'label': 'Non-dead', 'Confidence': 0.999}, {'label': 'Non-dead', 'Confidence': 0.976}, {'label': 'Dead', 'Confidence': 1.0}, {'label': 'Dead', 'Confidence': 1.0}, {'label': 'Dead', 'Confidence': 1.0}, {'label': 'Dead', 'Confidence': 0.561}, {'label': 'Non-dead', 'Confidence': 0.999}, {'label': 'Dead', 'Confidence': 1.0}, {'label': 'Dead', 'Confidence': 1.0}, {'label': 'Dead', 'Confidence': 1.0}, {'label': 'Dead', 'Confidence': 0.951}, {'label': 'Dead', 'Confidence': 0.995}, {'label': 'Dead', 'Confidence': 1.0}, {'label': 'Non-dead', 'Confidence': 0.993}, {'label': 'Dead', 'Confidence': 0.604}, {'label': 'Player_Activity', 'Confidence': 1.0}, {'label': 'Non-dead', 'Confidence': 0.999}, {'label': 'Non-dead', 'Confidence': 0.999}, {'label': 'Non-dead', 'Confidence': 0.969}, {'label': 'Non-dead', 'Confidence': 0.998}, {'label': 'Non-dead', 'Confidence': 1.0}, {'label': 'Non-dead', 'Confidence': 0.992}, {'label': 'Non-dead', 'Confidence': 0.999}, {'label': 'Dead', 'Confidence': 0.999}, {'label': 'Non-dead', 'Confidence': 0.865}]\n"
     ]
    },
    {
     "data": {
      "text/html": [
       "\n",
       "<style>\n",
       "    /* Turns off some styling */\n",
       "    progress {\n",
       "        /* gets rid of default border in Firefox and Opera. */\n",
       "        border: none;\n",
       "        /* Needs to be in here for Safari polyfill so background images work as expected. */\n",
       "        background-size: auto;\n",
       "    }\n",
       "    .progress-bar-interrupted, .progress-bar-interrupted::-webkit-progress-bar {\n",
       "        background: #F44336;\n",
       "    }\n",
       "</style>\n"
      ],
      "text/plain": [
       "<IPython.core.display.HTML object>"
      ]
     },
     "metadata": {},
     "output_type": "display_data"
    },
    {
     "data": {
      "text/html": [],
      "text/plain": [
       "<IPython.core.display.HTML object>"
      ]
     },
     "metadata": {},
     "output_type": "display_data"
    },
    {
     "name": "stdout",
     "output_type": "stream",
     "text": [
      "[{'label': 'Non-dead', 'Confidence': 0.736}, {'label': 'Non-dead', 'Confidence': 0.931}, {'label': 'Player_Activity', 'Confidence': 0.46}, {'label': 'Non-dead', 'Confidence': 0.653}, {'label': 'Non-dead', 'Confidence': 0.997}, {'label': 'Player_Activity', 'Confidence': 0.905}, {'label': 'Non-dead', 'Confidence': 1.0}, {'label': 'Non-dead', 'Confidence': 0.985}, {'label': 'Non-dead', 'Confidence': 1.0}, {'label': 'Non-dead', 'Confidence': 0.999}, {'label': 'Non-dead', 'Confidence': 0.976}, {'label': 'Dead', 'Confidence': 1.0}, {'label': 'Dead', 'Confidence': 1.0}, {'label': 'Dead', 'Confidence': 1.0}, {'label': 'Dead', 'Confidence': 0.561}, {'label': 'Non-dead', 'Confidence': 0.999}, {'label': 'Dead', 'Confidence': 1.0}, {'label': 'Dead', 'Confidence': 1.0}, {'label': 'Dead', 'Confidence': 1.0}, {'label': 'Dead', 'Confidence': 0.951}, {'label': 'Dead', 'Confidence': 0.995}, {'label': 'Dead', 'Confidence': 1.0}, {'label': 'Non-dead', 'Confidence': 0.993}, {'label': 'Dead', 'Confidence': 0.604}, {'label': 'Player_Activity', 'Confidence': 1.0}, {'label': 'Non-dead', 'Confidence': 0.999}, {'label': 'Non-dead', 'Confidence': 0.999}, {'label': 'Non-dead', 'Confidence': 0.969}, {'label': 'Non-dead', 'Confidence': 0.998}, {'label': 'Non-dead', 'Confidence': 1.0}, {'label': 'Non-dead', 'Confidence': 0.992}, {'label': 'Non-dead', 'Confidence': 0.999}, {'label': 'Dead', 'Confidence': 0.999}, {'label': 'Non-dead', 'Confidence': 0.865}, {'label': 'Dead', 'Confidence': 0.735}]\n"
     ]
    },
    {
     "data": {
      "text/html": [
       "\n",
       "<style>\n",
       "    /* Turns off some styling */\n",
       "    progress {\n",
       "        /* gets rid of default border in Firefox and Opera. */\n",
       "        border: none;\n",
       "        /* Needs to be in here for Safari polyfill so background images work as expected. */\n",
       "        background-size: auto;\n",
       "    }\n",
       "    .progress-bar-interrupted, .progress-bar-interrupted::-webkit-progress-bar {\n",
       "        background: #F44336;\n",
       "    }\n",
       "</style>\n"
      ],
      "text/plain": [
       "<IPython.core.display.HTML object>"
      ]
     },
     "metadata": {},
     "output_type": "display_data"
    },
    {
     "data": {
      "text/html": [],
      "text/plain": [
       "<IPython.core.display.HTML object>"
      ]
     },
     "metadata": {},
     "output_type": "display_data"
    },
    {
     "name": "stdout",
     "output_type": "stream",
     "text": [
      "[{'label': 'Non-dead', 'Confidence': 0.736}, {'label': 'Non-dead', 'Confidence': 0.931}, {'label': 'Player_Activity', 'Confidence': 0.46}, {'label': 'Non-dead', 'Confidence': 0.653}, {'label': 'Non-dead', 'Confidence': 0.997}, {'label': 'Player_Activity', 'Confidence': 0.905}, {'label': 'Non-dead', 'Confidence': 1.0}, {'label': 'Non-dead', 'Confidence': 0.985}, {'label': 'Non-dead', 'Confidence': 1.0}, {'label': 'Non-dead', 'Confidence': 0.999}, {'label': 'Non-dead', 'Confidence': 0.976}, {'label': 'Dead', 'Confidence': 1.0}, {'label': 'Dead', 'Confidence': 1.0}, {'label': 'Dead', 'Confidence': 1.0}, {'label': 'Dead', 'Confidence': 0.561}, {'label': 'Non-dead', 'Confidence': 0.999}, {'label': 'Dead', 'Confidence': 1.0}, {'label': 'Dead', 'Confidence': 1.0}, {'label': 'Dead', 'Confidence': 1.0}, {'label': 'Dead', 'Confidence': 0.951}, {'label': 'Dead', 'Confidence': 0.995}, {'label': 'Dead', 'Confidence': 1.0}, {'label': 'Non-dead', 'Confidence': 0.993}, {'label': 'Dead', 'Confidence': 0.604}, {'label': 'Player_Activity', 'Confidence': 1.0}, {'label': 'Non-dead', 'Confidence': 0.999}, {'label': 'Non-dead', 'Confidence': 0.999}, {'label': 'Non-dead', 'Confidence': 0.969}, {'label': 'Non-dead', 'Confidence': 0.998}, {'label': 'Non-dead', 'Confidence': 1.0}, {'label': 'Non-dead', 'Confidence': 0.992}, {'label': 'Non-dead', 'Confidence': 0.999}, {'label': 'Dead', 'Confidence': 0.999}, {'label': 'Non-dead', 'Confidence': 0.865}, {'label': 'Dead', 'Confidence': 0.735}, {'label': 'Non-dead', 'Confidence': 0.999}]\n"
     ]
    },
    {
     "data": {
      "text/html": [
       "\n",
       "<style>\n",
       "    /* Turns off some styling */\n",
       "    progress {\n",
       "        /* gets rid of default border in Firefox and Opera. */\n",
       "        border: none;\n",
       "        /* Needs to be in here for Safari polyfill so background images work as expected. */\n",
       "        background-size: auto;\n",
       "    }\n",
       "    .progress-bar-interrupted, .progress-bar-interrupted::-webkit-progress-bar {\n",
       "        background: #F44336;\n",
       "    }\n",
       "</style>\n"
      ],
      "text/plain": [
       "<IPython.core.display.HTML object>"
      ]
     },
     "metadata": {},
     "output_type": "display_data"
    },
    {
     "data": {
      "text/html": [],
      "text/plain": [
       "<IPython.core.display.HTML object>"
      ]
     },
     "metadata": {},
     "output_type": "display_data"
    },
    {
     "name": "stdout",
     "output_type": "stream",
     "text": [
      "[{'label': 'Non-dead', 'Confidence': 0.736}, {'label': 'Non-dead', 'Confidence': 0.931}, {'label': 'Player_Activity', 'Confidence': 0.46}, {'label': 'Non-dead', 'Confidence': 0.653}, {'label': 'Non-dead', 'Confidence': 0.997}, {'label': 'Player_Activity', 'Confidence': 0.905}, {'label': 'Non-dead', 'Confidence': 1.0}, {'label': 'Non-dead', 'Confidence': 0.985}, {'label': 'Non-dead', 'Confidence': 1.0}, {'label': 'Non-dead', 'Confidence': 0.999}, {'label': 'Non-dead', 'Confidence': 0.976}, {'label': 'Dead', 'Confidence': 1.0}, {'label': 'Dead', 'Confidence': 1.0}, {'label': 'Dead', 'Confidence': 1.0}, {'label': 'Dead', 'Confidence': 0.561}, {'label': 'Non-dead', 'Confidence': 0.999}, {'label': 'Dead', 'Confidence': 1.0}, {'label': 'Dead', 'Confidence': 1.0}, {'label': 'Dead', 'Confidence': 1.0}, {'label': 'Dead', 'Confidence': 0.951}, {'label': 'Dead', 'Confidence': 0.995}, {'label': 'Dead', 'Confidence': 1.0}, {'label': 'Non-dead', 'Confidence': 0.993}, {'label': 'Dead', 'Confidence': 0.604}, {'label': 'Player_Activity', 'Confidence': 1.0}, {'label': 'Non-dead', 'Confidence': 0.999}, {'label': 'Non-dead', 'Confidence': 0.999}, {'label': 'Non-dead', 'Confidence': 0.969}, {'label': 'Non-dead', 'Confidence': 0.998}, {'label': 'Non-dead', 'Confidence': 1.0}, {'label': 'Non-dead', 'Confidence': 0.992}, {'label': 'Non-dead', 'Confidence': 0.999}, {'label': 'Dead', 'Confidence': 0.999}, {'label': 'Non-dead', 'Confidence': 0.865}, {'label': 'Dead', 'Confidence': 0.735}, {'label': 'Non-dead', 'Confidence': 0.999}, {'label': 'Dead', 'Confidence': 0.997}]\n"
     ]
    },
    {
     "data": {
      "text/html": [
       "\n",
       "<style>\n",
       "    /* Turns off some styling */\n",
       "    progress {\n",
       "        /* gets rid of default border in Firefox and Opera. */\n",
       "        border: none;\n",
       "        /* Needs to be in here for Safari polyfill so background images work as expected. */\n",
       "        background-size: auto;\n",
       "    }\n",
       "    .progress-bar-interrupted, .progress-bar-interrupted::-webkit-progress-bar {\n",
       "        background: #F44336;\n",
       "    }\n",
       "</style>\n"
      ],
      "text/plain": [
       "<IPython.core.display.HTML object>"
      ]
     },
     "metadata": {},
     "output_type": "display_data"
    },
    {
     "data": {
      "text/html": [],
      "text/plain": [
       "<IPython.core.display.HTML object>"
      ]
     },
     "metadata": {},
     "output_type": "display_data"
    },
    {
     "name": "stdout",
     "output_type": "stream",
     "text": [
      "[{'label': 'Non-dead', 'Confidence': 0.736}, {'label': 'Non-dead', 'Confidence': 0.931}, {'label': 'Player_Activity', 'Confidence': 0.46}, {'label': 'Non-dead', 'Confidence': 0.653}, {'label': 'Non-dead', 'Confidence': 0.997}, {'label': 'Player_Activity', 'Confidence': 0.905}, {'label': 'Non-dead', 'Confidence': 1.0}, {'label': 'Non-dead', 'Confidence': 0.985}, {'label': 'Non-dead', 'Confidence': 1.0}, {'label': 'Non-dead', 'Confidence': 0.999}, {'label': 'Non-dead', 'Confidence': 0.976}, {'label': 'Dead', 'Confidence': 1.0}, {'label': 'Dead', 'Confidence': 1.0}, {'label': 'Dead', 'Confidence': 1.0}, {'label': 'Dead', 'Confidence': 0.561}, {'label': 'Non-dead', 'Confidence': 0.999}, {'label': 'Dead', 'Confidence': 1.0}, {'label': 'Dead', 'Confidence': 1.0}, {'label': 'Dead', 'Confidence': 1.0}, {'label': 'Dead', 'Confidence': 0.951}, {'label': 'Dead', 'Confidence': 0.995}, {'label': 'Dead', 'Confidence': 1.0}, {'label': 'Non-dead', 'Confidence': 0.993}, {'label': 'Dead', 'Confidence': 0.604}, {'label': 'Player_Activity', 'Confidence': 1.0}, {'label': 'Non-dead', 'Confidence': 0.999}, {'label': 'Non-dead', 'Confidence': 0.999}, {'label': 'Non-dead', 'Confidence': 0.969}, {'label': 'Non-dead', 'Confidence': 0.998}, {'label': 'Non-dead', 'Confidence': 1.0}, {'label': 'Non-dead', 'Confidence': 0.992}, {'label': 'Non-dead', 'Confidence': 0.999}, {'label': 'Dead', 'Confidence': 0.999}, {'label': 'Non-dead', 'Confidence': 0.865}, {'label': 'Dead', 'Confidence': 0.735}, {'label': 'Non-dead', 'Confidence': 0.999}, {'label': 'Dead', 'Confidence': 0.997}, {'label': 'Player_Activity', 'Confidence': 0.535}]\n"
     ]
    },
    {
     "data": {
      "text/html": [
       "\n",
       "<style>\n",
       "    /* Turns off some styling */\n",
       "    progress {\n",
       "        /* gets rid of default border in Firefox and Opera. */\n",
       "        border: none;\n",
       "        /* Needs to be in here for Safari polyfill so background images work as expected. */\n",
       "        background-size: auto;\n",
       "    }\n",
       "    .progress-bar-interrupted, .progress-bar-interrupted::-webkit-progress-bar {\n",
       "        background: #F44336;\n",
       "    }\n",
       "</style>\n"
      ],
      "text/plain": [
       "<IPython.core.display.HTML object>"
      ]
     },
     "metadata": {},
     "output_type": "display_data"
    },
    {
     "data": {
      "text/html": [],
      "text/plain": [
       "<IPython.core.display.HTML object>"
      ]
     },
     "metadata": {},
     "output_type": "display_data"
    },
    {
     "name": "stdout",
     "output_type": "stream",
     "text": [
      "[{'label': 'Non-dead', 'Confidence': 0.736}, {'label': 'Non-dead', 'Confidence': 0.931}, {'label': 'Player_Activity', 'Confidence': 0.46}, {'label': 'Non-dead', 'Confidence': 0.653}, {'label': 'Non-dead', 'Confidence': 0.997}, {'label': 'Player_Activity', 'Confidence': 0.905}, {'label': 'Non-dead', 'Confidence': 1.0}, {'label': 'Non-dead', 'Confidence': 0.985}, {'label': 'Non-dead', 'Confidence': 1.0}, {'label': 'Non-dead', 'Confidence': 0.999}, {'label': 'Non-dead', 'Confidence': 0.976}, {'label': 'Dead', 'Confidence': 1.0}, {'label': 'Dead', 'Confidence': 1.0}, {'label': 'Dead', 'Confidence': 1.0}, {'label': 'Dead', 'Confidence': 0.561}, {'label': 'Non-dead', 'Confidence': 0.999}, {'label': 'Dead', 'Confidence': 1.0}, {'label': 'Dead', 'Confidence': 1.0}, {'label': 'Dead', 'Confidence': 1.0}, {'label': 'Dead', 'Confidence': 0.951}, {'label': 'Dead', 'Confidence': 0.995}, {'label': 'Dead', 'Confidence': 1.0}, {'label': 'Non-dead', 'Confidence': 0.993}, {'label': 'Dead', 'Confidence': 0.604}, {'label': 'Player_Activity', 'Confidence': 1.0}, {'label': 'Non-dead', 'Confidence': 0.999}, {'label': 'Non-dead', 'Confidence': 0.999}, {'label': 'Non-dead', 'Confidence': 0.969}, {'label': 'Non-dead', 'Confidence': 0.998}, {'label': 'Non-dead', 'Confidence': 1.0}, {'label': 'Non-dead', 'Confidence': 0.992}, {'label': 'Non-dead', 'Confidence': 0.999}, {'label': 'Dead', 'Confidence': 0.999}, {'label': 'Non-dead', 'Confidence': 0.865}, {'label': 'Dead', 'Confidence': 0.735}, {'label': 'Non-dead', 'Confidence': 0.999}, {'label': 'Dead', 'Confidence': 0.997}, {'label': 'Player_Activity', 'Confidence': 0.535}, {'label': 'Non-dead', 'Confidence': 0.967}]\n"
     ]
    },
    {
     "data": {
      "text/html": [
       "\n",
       "<style>\n",
       "    /* Turns off some styling */\n",
       "    progress {\n",
       "        /* gets rid of default border in Firefox and Opera. */\n",
       "        border: none;\n",
       "        /* Needs to be in here for Safari polyfill so background images work as expected. */\n",
       "        background-size: auto;\n",
       "    }\n",
       "    .progress-bar-interrupted, .progress-bar-interrupted::-webkit-progress-bar {\n",
       "        background: #F44336;\n",
       "    }\n",
       "</style>\n"
      ],
      "text/plain": [
       "<IPython.core.display.HTML object>"
      ]
     },
     "metadata": {},
     "output_type": "display_data"
    },
    {
     "data": {
      "text/html": [],
      "text/plain": [
       "<IPython.core.display.HTML object>"
      ]
     },
     "metadata": {},
     "output_type": "display_data"
    },
    {
     "name": "stdout",
     "output_type": "stream",
     "text": [
      "[{'label': 'Non-dead', 'Confidence': 0.736}, {'label': 'Non-dead', 'Confidence': 0.931}, {'label': 'Player_Activity', 'Confidence': 0.46}, {'label': 'Non-dead', 'Confidence': 0.653}, {'label': 'Non-dead', 'Confidence': 0.997}, {'label': 'Player_Activity', 'Confidence': 0.905}, {'label': 'Non-dead', 'Confidence': 1.0}, {'label': 'Non-dead', 'Confidence': 0.985}, {'label': 'Non-dead', 'Confidence': 1.0}, {'label': 'Non-dead', 'Confidence': 0.999}, {'label': 'Non-dead', 'Confidence': 0.976}, {'label': 'Dead', 'Confidence': 1.0}, {'label': 'Dead', 'Confidence': 1.0}, {'label': 'Dead', 'Confidence': 1.0}, {'label': 'Dead', 'Confidence': 0.561}, {'label': 'Non-dead', 'Confidence': 0.999}, {'label': 'Dead', 'Confidence': 1.0}, {'label': 'Dead', 'Confidence': 1.0}, {'label': 'Dead', 'Confidence': 1.0}, {'label': 'Dead', 'Confidence': 0.951}, {'label': 'Dead', 'Confidence': 0.995}, {'label': 'Dead', 'Confidence': 1.0}, {'label': 'Non-dead', 'Confidence': 0.993}, {'label': 'Dead', 'Confidence': 0.604}, {'label': 'Player_Activity', 'Confidence': 1.0}, {'label': 'Non-dead', 'Confidence': 0.999}, {'label': 'Non-dead', 'Confidence': 0.999}, {'label': 'Non-dead', 'Confidence': 0.969}, {'label': 'Non-dead', 'Confidence': 0.998}, {'label': 'Non-dead', 'Confidence': 1.0}, {'label': 'Non-dead', 'Confidence': 0.992}, {'label': 'Non-dead', 'Confidence': 0.999}, {'label': 'Dead', 'Confidence': 0.999}, {'label': 'Non-dead', 'Confidence': 0.865}, {'label': 'Dead', 'Confidence': 0.735}, {'label': 'Non-dead', 'Confidence': 0.999}, {'label': 'Dead', 'Confidence': 0.997}, {'label': 'Player_Activity', 'Confidence': 0.535}, {'label': 'Non-dead', 'Confidence': 0.967}, {'label': 'Player_Activity', 'Confidence': 0.996}]\n"
     ]
    },
    {
     "data": {
      "text/html": [
       "\n",
       "<style>\n",
       "    /* Turns off some styling */\n",
       "    progress {\n",
       "        /* gets rid of default border in Firefox and Opera. */\n",
       "        border: none;\n",
       "        /* Needs to be in here for Safari polyfill so background images work as expected. */\n",
       "        background-size: auto;\n",
       "    }\n",
       "    .progress-bar-interrupted, .progress-bar-interrupted::-webkit-progress-bar {\n",
       "        background: #F44336;\n",
       "    }\n",
       "</style>\n"
      ],
      "text/plain": [
       "<IPython.core.display.HTML object>"
      ]
     },
     "metadata": {},
     "output_type": "display_data"
    },
    {
     "data": {
      "text/html": [],
      "text/plain": [
       "<IPython.core.display.HTML object>"
      ]
     },
     "metadata": {},
     "output_type": "display_data"
    },
    {
     "name": "stdout",
     "output_type": "stream",
     "text": [
      "[{'label': 'Non-dead', 'Confidence': 0.736}, {'label': 'Non-dead', 'Confidence': 0.931}, {'label': 'Player_Activity', 'Confidence': 0.46}, {'label': 'Non-dead', 'Confidence': 0.653}, {'label': 'Non-dead', 'Confidence': 0.997}, {'label': 'Player_Activity', 'Confidence': 0.905}, {'label': 'Non-dead', 'Confidence': 1.0}, {'label': 'Non-dead', 'Confidence': 0.985}, {'label': 'Non-dead', 'Confidence': 1.0}, {'label': 'Non-dead', 'Confidence': 0.999}, {'label': 'Non-dead', 'Confidence': 0.976}, {'label': 'Dead', 'Confidence': 1.0}, {'label': 'Dead', 'Confidence': 1.0}, {'label': 'Dead', 'Confidence': 1.0}, {'label': 'Dead', 'Confidence': 0.561}, {'label': 'Non-dead', 'Confidence': 0.999}, {'label': 'Dead', 'Confidence': 1.0}, {'label': 'Dead', 'Confidence': 1.0}, {'label': 'Dead', 'Confidence': 1.0}, {'label': 'Dead', 'Confidence': 0.951}, {'label': 'Dead', 'Confidence': 0.995}, {'label': 'Dead', 'Confidence': 1.0}, {'label': 'Non-dead', 'Confidence': 0.993}, {'label': 'Dead', 'Confidence': 0.604}, {'label': 'Player_Activity', 'Confidence': 1.0}, {'label': 'Non-dead', 'Confidence': 0.999}, {'label': 'Non-dead', 'Confidence': 0.999}, {'label': 'Non-dead', 'Confidence': 0.969}, {'label': 'Non-dead', 'Confidence': 0.998}, {'label': 'Non-dead', 'Confidence': 1.0}, {'label': 'Non-dead', 'Confidence': 0.992}, {'label': 'Non-dead', 'Confidence': 0.999}, {'label': 'Dead', 'Confidence': 0.999}, {'label': 'Non-dead', 'Confidence': 0.865}, {'label': 'Dead', 'Confidence': 0.735}, {'label': 'Non-dead', 'Confidence': 0.999}, {'label': 'Dead', 'Confidence': 0.997}, {'label': 'Player_Activity', 'Confidence': 0.535}, {'label': 'Non-dead', 'Confidence': 0.967}, {'label': 'Player_Activity', 'Confidence': 0.996}, {'label': 'Non-dead', 'Confidence': 0.999}]\n"
     ]
    },
    {
     "data": {
      "text/html": [
       "\n",
       "<style>\n",
       "    /* Turns off some styling */\n",
       "    progress {\n",
       "        /* gets rid of default border in Firefox and Opera. */\n",
       "        border: none;\n",
       "        /* Needs to be in here for Safari polyfill so background images work as expected. */\n",
       "        background-size: auto;\n",
       "    }\n",
       "    .progress-bar-interrupted, .progress-bar-interrupted::-webkit-progress-bar {\n",
       "        background: #F44336;\n",
       "    }\n",
       "</style>\n"
      ],
      "text/plain": [
       "<IPython.core.display.HTML object>"
      ]
     },
     "metadata": {},
     "output_type": "display_data"
    },
    {
     "data": {
      "text/html": [],
      "text/plain": [
       "<IPython.core.display.HTML object>"
      ]
     },
     "metadata": {},
     "output_type": "display_data"
    },
    {
     "name": "stdout",
     "output_type": "stream",
     "text": [
      "[{'label': 'Non-dead', 'Confidence': 0.736}, {'label': 'Non-dead', 'Confidence': 0.931}, {'label': 'Player_Activity', 'Confidence': 0.46}, {'label': 'Non-dead', 'Confidence': 0.653}, {'label': 'Non-dead', 'Confidence': 0.997}, {'label': 'Player_Activity', 'Confidence': 0.905}, {'label': 'Non-dead', 'Confidence': 1.0}, {'label': 'Non-dead', 'Confidence': 0.985}, {'label': 'Non-dead', 'Confidence': 1.0}, {'label': 'Non-dead', 'Confidence': 0.999}, {'label': 'Non-dead', 'Confidence': 0.976}, {'label': 'Dead', 'Confidence': 1.0}, {'label': 'Dead', 'Confidence': 1.0}, {'label': 'Dead', 'Confidence': 1.0}, {'label': 'Dead', 'Confidence': 0.561}, {'label': 'Non-dead', 'Confidence': 0.999}, {'label': 'Dead', 'Confidence': 1.0}, {'label': 'Dead', 'Confidence': 1.0}, {'label': 'Dead', 'Confidence': 1.0}, {'label': 'Dead', 'Confidence': 0.951}, {'label': 'Dead', 'Confidence': 0.995}, {'label': 'Dead', 'Confidence': 1.0}, {'label': 'Non-dead', 'Confidence': 0.993}, {'label': 'Dead', 'Confidence': 0.604}, {'label': 'Player_Activity', 'Confidence': 1.0}, {'label': 'Non-dead', 'Confidence': 0.999}, {'label': 'Non-dead', 'Confidence': 0.999}, {'label': 'Non-dead', 'Confidence': 0.969}, {'label': 'Non-dead', 'Confidence': 0.998}, {'label': 'Non-dead', 'Confidence': 1.0}, {'label': 'Non-dead', 'Confidence': 0.992}, {'label': 'Non-dead', 'Confidence': 0.999}, {'label': 'Dead', 'Confidence': 0.999}, {'label': 'Non-dead', 'Confidence': 0.865}, {'label': 'Dead', 'Confidence': 0.735}, {'label': 'Non-dead', 'Confidence': 0.999}, {'label': 'Dead', 'Confidence': 0.997}, {'label': 'Player_Activity', 'Confidence': 0.535}, {'label': 'Non-dead', 'Confidence': 0.967}, {'label': 'Player_Activity', 'Confidence': 0.996}, {'label': 'Non-dead', 'Confidence': 0.999}, {'label': 'Dead', 'Confidence': 1.0}]\n"
     ]
    },
    {
     "data": {
      "text/html": [
       "\n",
       "<style>\n",
       "    /* Turns off some styling */\n",
       "    progress {\n",
       "        /* gets rid of default border in Firefox and Opera. */\n",
       "        border: none;\n",
       "        /* Needs to be in here for Safari polyfill so background images work as expected. */\n",
       "        background-size: auto;\n",
       "    }\n",
       "    .progress-bar-interrupted, .progress-bar-interrupted::-webkit-progress-bar {\n",
       "        background: #F44336;\n",
       "    }\n",
       "</style>\n"
      ],
      "text/plain": [
       "<IPython.core.display.HTML object>"
      ]
     },
     "metadata": {},
     "output_type": "display_data"
    },
    {
     "data": {
      "text/html": [],
      "text/plain": [
       "<IPython.core.display.HTML object>"
      ]
     },
     "metadata": {},
     "output_type": "display_data"
    },
    {
     "name": "stdout",
     "output_type": "stream",
     "text": [
      "[{'label': 'Non-dead', 'Confidence': 0.736}, {'label': 'Non-dead', 'Confidence': 0.931}, {'label': 'Player_Activity', 'Confidence': 0.46}, {'label': 'Non-dead', 'Confidence': 0.653}, {'label': 'Non-dead', 'Confidence': 0.997}, {'label': 'Player_Activity', 'Confidence': 0.905}, {'label': 'Non-dead', 'Confidence': 1.0}, {'label': 'Non-dead', 'Confidence': 0.985}, {'label': 'Non-dead', 'Confidence': 1.0}, {'label': 'Non-dead', 'Confidence': 0.999}, {'label': 'Non-dead', 'Confidence': 0.976}, {'label': 'Dead', 'Confidence': 1.0}, {'label': 'Dead', 'Confidence': 1.0}, {'label': 'Dead', 'Confidence': 1.0}, {'label': 'Dead', 'Confidence': 0.561}, {'label': 'Non-dead', 'Confidence': 0.999}, {'label': 'Dead', 'Confidence': 1.0}, {'label': 'Dead', 'Confidence': 1.0}, {'label': 'Dead', 'Confidence': 1.0}, {'label': 'Dead', 'Confidence': 0.951}, {'label': 'Dead', 'Confidence': 0.995}, {'label': 'Dead', 'Confidence': 1.0}, {'label': 'Non-dead', 'Confidence': 0.993}, {'label': 'Dead', 'Confidence': 0.604}, {'label': 'Player_Activity', 'Confidence': 1.0}, {'label': 'Non-dead', 'Confidence': 0.999}, {'label': 'Non-dead', 'Confidence': 0.999}, {'label': 'Non-dead', 'Confidence': 0.969}, {'label': 'Non-dead', 'Confidence': 0.998}, {'label': 'Non-dead', 'Confidence': 1.0}, {'label': 'Non-dead', 'Confidence': 0.992}, {'label': 'Non-dead', 'Confidence': 0.999}, {'label': 'Dead', 'Confidence': 0.999}, {'label': 'Non-dead', 'Confidence': 0.865}, {'label': 'Dead', 'Confidence': 0.735}, {'label': 'Non-dead', 'Confidence': 0.999}, {'label': 'Dead', 'Confidence': 0.997}, {'label': 'Player_Activity', 'Confidence': 0.535}, {'label': 'Non-dead', 'Confidence': 0.967}, {'label': 'Player_Activity', 'Confidence': 0.996}, {'label': 'Non-dead', 'Confidence': 0.999}, {'label': 'Dead', 'Confidence': 1.0}, {'label': 'Player_Activity', 'Confidence': 1.0}]\n"
     ]
    },
    {
     "data": {
      "text/html": [
       "\n",
       "<style>\n",
       "    /* Turns off some styling */\n",
       "    progress {\n",
       "        /* gets rid of default border in Firefox and Opera. */\n",
       "        border: none;\n",
       "        /* Needs to be in here for Safari polyfill so background images work as expected. */\n",
       "        background-size: auto;\n",
       "    }\n",
       "    .progress-bar-interrupted, .progress-bar-interrupted::-webkit-progress-bar {\n",
       "        background: #F44336;\n",
       "    }\n",
       "</style>\n"
      ],
      "text/plain": [
       "<IPython.core.display.HTML object>"
      ]
     },
     "metadata": {},
     "output_type": "display_data"
    },
    {
     "data": {
      "text/html": [],
      "text/plain": [
       "<IPython.core.display.HTML object>"
      ]
     },
     "metadata": {},
     "output_type": "display_data"
    },
    {
     "name": "stdout",
     "output_type": "stream",
     "text": [
      "[{'label': 'Non-dead', 'Confidence': 0.736}, {'label': 'Non-dead', 'Confidence': 0.931}, {'label': 'Player_Activity', 'Confidence': 0.46}, {'label': 'Non-dead', 'Confidence': 0.653}, {'label': 'Non-dead', 'Confidence': 0.997}, {'label': 'Player_Activity', 'Confidence': 0.905}, {'label': 'Non-dead', 'Confidence': 1.0}, {'label': 'Non-dead', 'Confidence': 0.985}, {'label': 'Non-dead', 'Confidence': 1.0}, {'label': 'Non-dead', 'Confidence': 0.999}, {'label': 'Non-dead', 'Confidence': 0.976}, {'label': 'Dead', 'Confidence': 1.0}, {'label': 'Dead', 'Confidence': 1.0}, {'label': 'Dead', 'Confidence': 1.0}, {'label': 'Dead', 'Confidence': 0.561}, {'label': 'Non-dead', 'Confidence': 0.999}, {'label': 'Dead', 'Confidence': 1.0}, {'label': 'Dead', 'Confidence': 1.0}, {'label': 'Dead', 'Confidence': 1.0}, {'label': 'Dead', 'Confidence': 0.951}, {'label': 'Dead', 'Confidence': 0.995}, {'label': 'Dead', 'Confidence': 1.0}, {'label': 'Non-dead', 'Confidence': 0.993}, {'label': 'Dead', 'Confidence': 0.604}, {'label': 'Player_Activity', 'Confidence': 1.0}, {'label': 'Non-dead', 'Confidence': 0.999}, {'label': 'Non-dead', 'Confidence': 0.999}, {'label': 'Non-dead', 'Confidence': 0.969}, {'label': 'Non-dead', 'Confidence': 0.998}, {'label': 'Non-dead', 'Confidence': 1.0}, {'label': 'Non-dead', 'Confidence': 0.992}, {'label': 'Non-dead', 'Confidence': 0.999}, {'label': 'Dead', 'Confidence': 0.999}, {'label': 'Non-dead', 'Confidence': 0.865}, {'label': 'Dead', 'Confidence': 0.735}, {'label': 'Non-dead', 'Confidence': 0.999}, {'label': 'Dead', 'Confidence': 0.997}, {'label': 'Player_Activity', 'Confidence': 0.535}, {'label': 'Non-dead', 'Confidence': 0.967}, {'label': 'Player_Activity', 'Confidence': 0.996}, {'label': 'Non-dead', 'Confidence': 0.999}, {'label': 'Dead', 'Confidence': 1.0}, {'label': 'Player_Activity', 'Confidence': 1.0}, {'label': 'Dead', 'Confidence': 0.541}]\n"
     ]
    },
    {
     "data": {
      "text/html": [
       "\n",
       "<style>\n",
       "    /* Turns off some styling */\n",
       "    progress {\n",
       "        /* gets rid of default border in Firefox and Opera. */\n",
       "        border: none;\n",
       "        /* Needs to be in here for Safari polyfill so background images work as expected. */\n",
       "        background-size: auto;\n",
       "    }\n",
       "    .progress-bar-interrupted, .progress-bar-interrupted::-webkit-progress-bar {\n",
       "        background: #F44336;\n",
       "    }\n",
       "</style>\n"
      ],
      "text/plain": [
       "<IPython.core.display.HTML object>"
      ]
     },
     "metadata": {},
     "output_type": "display_data"
    },
    {
     "data": {
      "text/html": [],
      "text/plain": [
       "<IPython.core.display.HTML object>"
      ]
     },
     "metadata": {},
     "output_type": "display_data"
    },
    {
     "name": "stdout",
     "output_type": "stream",
     "text": [
      "[{'label': 'Non-dead', 'Confidence': 0.736}, {'label': 'Non-dead', 'Confidence': 0.931}, {'label': 'Player_Activity', 'Confidence': 0.46}, {'label': 'Non-dead', 'Confidence': 0.653}, {'label': 'Non-dead', 'Confidence': 0.997}, {'label': 'Player_Activity', 'Confidence': 0.905}, {'label': 'Non-dead', 'Confidence': 1.0}, {'label': 'Non-dead', 'Confidence': 0.985}, {'label': 'Non-dead', 'Confidence': 1.0}, {'label': 'Non-dead', 'Confidence': 0.999}, {'label': 'Non-dead', 'Confidence': 0.976}, {'label': 'Dead', 'Confidence': 1.0}, {'label': 'Dead', 'Confidence': 1.0}, {'label': 'Dead', 'Confidence': 1.0}, {'label': 'Dead', 'Confidence': 0.561}, {'label': 'Non-dead', 'Confidence': 0.999}, {'label': 'Dead', 'Confidence': 1.0}, {'label': 'Dead', 'Confidence': 1.0}, {'label': 'Dead', 'Confidence': 1.0}, {'label': 'Dead', 'Confidence': 0.951}, {'label': 'Dead', 'Confidence': 0.995}, {'label': 'Dead', 'Confidence': 1.0}, {'label': 'Non-dead', 'Confidence': 0.993}, {'label': 'Dead', 'Confidence': 0.604}, {'label': 'Player_Activity', 'Confidence': 1.0}, {'label': 'Non-dead', 'Confidence': 0.999}, {'label': 'Non-dead', 'Confidence': 0.999}, {'label': 'Non-dead', 'Confidence': 0.969}, {'label': 'Non-dead', 'Confidence': 0.998}, {'label': 'Non-dead', 'Confidence': 1.0}, {'label': 'Non-dead', 'Confidence': 0.992}, {'label': 'Non-dead', 'Confidence': 0.999}, {'label': 'Dead', 'Confidence': 0.999}, {'label': 'Non-dead', 'Confidence': 0.865}, {'label': 'Dead', 'Confidence': 0.735}, {'label': 'Non-dead', 'Confidence': 0.999}, {'label': 'Dead', 'Confidence': 0.997}, {'label': 'Player_Activity', 'Confidence': 0.535}, {'label': 'Non-dead', 'Confidence': 0.967}, {'label': 'Player_Activity', 'Confidence': 0.996}, {'label': 'Non-dead', 'Confidence': 0.999}, {'label': 'Dead', 'Confidence': 1.0}, {'label': 'Player_Activity', 'Confidence': 1.0}, {'label': 'Dead', 'Confidence': 0.541}, {'label': 'Non-dead', 'Confidence': 0.852}]\n"
     ]
    },
    {
     "data": {
      "text/html": [
       "\n",
       "<style>\n",
       "    /* Turns off some styling */\n",
       "    progress {\n",
       "        /* gets rid of default border in Firefox and Opera. */\n",
       "        border: none;\n",
       "        /* Needs to be in here for Safari polyfill so background images work as expected. */\n",
       "        background-size: auto;\n",
       "    }\n",
       "    .progress-bar-interrupted, .progress-bar-interrupted::-webkit-progress-bar {\n",
       "        background: #F44336;\n",
       "    }\n",
       "</style>\n"
      ],
      "text/plain": [
       "<IPython.core.display.HTML object>"
      ]
     },
     "metadata": {},
     "output_type": "display_data"
    },
    {
     "data": {
      "text/html": [],
      "text/plain": [
       "<IPython.core.display.HTML object>"
      ]
     },
     "metadata": {},
     "output_type": "display_data"
    },
    {
     "name": "stdout",
     "output_type": "stream",
     "text": [
      "[{'label': 'Non-dead', 'Confidence': 0.736}, {'label': 'Non-dead', 'Confidence': 0.931}, {'label': 'Player_Activity', 'Confidence': 0.46}, {'label': 'Non-dead', 'Confidence': 0.653}, {'label': 'Non-dead', 'Confidence': 0.997}, {'label': 'Player_Activity', 'Confidence': 0.905}, {'label': 'Non-dead', 'Confidence': 1.0}, {'label': 'Non-dead', 'Confidence': 0.985}, {'label': 'Non-dead', 'Confidence': 1.0}, {'label': 'Non-dead', 'Confidence': 0.999}, {'label': 'Non-dead', 'Confidence': 0.976}, {'label': 'Dead', 'Confidence': 1.0}, {'label': 'Dead', 'Confidence': 1.0}, {'label': 'Dead', 'Confidence': 1.0}, {'label': 'Dead', 'Confidence': 0.561}, {'label': 'Non-dead', 'Confidence': 0.999}, {'label': 'Dead', 'Confidence': 1.0}, {'label': 'Dead', 'Confidence': 1.0}, {'label': 'Dead', 'Confidence': 1.0}, {'label': 'Dead', 'Confidence': 0.951}, {'label': 'Dead', 'Confidence': 0.995}, {'label': 'Dead', 'Confidence': 1.0}, {'label': 'Non-dead', 'Confidence': 0.993}, {'label': 'Dead', 'Confidence': 0.604}, {'label': 'Player_Activity', 'Confidence': 1.0}, {'label': 'Non-dead', 'Confidence': 0.999}, {'label': 'Non-dead', 'Confidence': 0.999}, {'label': 'Non-dead', 'Confidence': 0.969}, {'label': 'Non-dead', 'Confidence': 0.998}, {'label': 'Non-dead', 'Confidence': 1.0}, {'label': 'Non-dead', 'Confidence': 0.992}, {'label': 'Non-dead', 'Confidence': 0.999}, {'label': 'Dead', 'Confidence': 0.999}, {'label': 'Non-dead', 'Confidence': 0.865}, {'label': 'Dead', 'Confidence': 0.735}, {'label': 'Non-dead', 'Confidence': 0.999}, {'label': 'Dead', 'Confidence': 0.997}, {'label': 'Player_Activity', 'Confidence': 0.535}, {'label': 'Non-dead', 'Confidence': 0.967}, {'label': 'Player_Activity', 'Confidence': 0.996}, {'label': 'Non-dead', 'Confidence': 0.999}, {'label': 'Dead', 'Confidence': 1.0}, {'label': 'Player_Activity', 'Confidence': 1.0}, {'label': 'Dead', 'Confidence': 0.541}, {'label': 'Non-dead', 'Confidence': 0.852}, {'label': 'Player_Activity', 'Confidence': 0.999}]\n"
     ]
    },
    {
     "data": {
      "text/html": [
       "\n",
       "<style>\n",
       "    /* Turns off some styling */\n",
       "    progress {\n",
       "        /* gets rid of default border in Firefox and Opera. */\n",
       "        border: none;\n",
       "        /* Needs to be in here for Safari polyfill so background images work as expected. */\n",
       "        background-size: auto;\n",
       "    }\n",
       "    .progress-bar-interrupted, .progress-bar-interrupted::-webkit-progress-bar {\n",
       "        background: #F44336;\n",
       "    }\n",
       "</style>\n"
      ],
      "text/plain": [
       "<IPython.core.display.HTML object>"
      ]
     },
     "metadata": {},
     "output_type": "display_data"
    },
    {
     "data": {
      "text/html": [],
      "text/plain": [
       "<IPython.core.display.HTML object>"
      ]
     },
     "metadata": {},
     "output_type": "display_data"
    },
    {
     "name": "stdout",
     "output_type": "stream",
     "text": [
      "[{'label': 'Non-dead', 'Confidence': 0.736}, {'label': 'Non-dead', 'Confidence': 0.931}, {'label': 'Player_Activity', 'Confidence': 0.46}, {'label': 'Non-dead', 'Confidence': 0.653}, {'label': 'Non-dead', 'Confidence': 0.997}, {'label': 'Player_Activity', 'Confidence': 0.905}, {'label': 'Non-dead', 'Confidence': 1.0}, {'label': 'Non-dead', 'Confidence': 0.985}, {'label': 'Non-dead', 'Confidence': 1.0}, {'label': 'Non-dead', 'Confidence': 0.999}, {'label': 'Non-dead', 'Confidence': 0.976}, {'label': 'Dead', 'Confidence': 1.0}, {'label': 'Dead', 'Confidence': 1.0}, {'label': 'Dead', 'Confidence': 1.0}, {'label': 'Dead', 'Confidence': 0.561}, {'label': 'Non-dead', 'Confidence': 0.999}, {'label': 'Dead', 'Confidence': 1.0}, {'label': 'Dead', 'Confidence': 1.0}, {'label': 'Dead', 'Confidence': 1.0}, {'label': 'Dead', 'Confidence': 0.951}, {'label': 'Dead', 'Confidence': 0.995}, {'label': 'Dead', 'Confidence': 1.0}, {'label': 'Non-dead', 'Confidence': 0.993}, {'label': 'Dead', 'Confidence': 0.604}, {'label': 'Player_Activity', 'Confidence': 1.0}, {'label': 'Non-dead', 'Confidence': 0.999}, {'label': 'Non-dead', 'Confidence': 0.999}, {'label': 'Non-dead', 'Confidence': 0.969}, {'label': 'Non-dead', 'Confidence': 0.998}, {'label': 'Non-dead', 'Confidence': 1.0}, {'label': 'Non-dead', 'Confidence': 0.992}, {'label': 'Non-dead', 'Confidence': 0.999}, {'label': 'Dead', 'Confidence': 0.999}, {'label': 'Non-dead', 'Confidence': 0.865}, {'label': 'Dead', 'Confidence': 0.735}, {'label': 'Non-dead', 'Confidence': 0.999}, {'label': 'Dead', 'Confidence': 0.997}, {'label': 'Player_Activity', 'Confidence': 0.535}, {'label': 'Non-dead', 'Confidence': 0.967}, {'label': 'Player_Activity', 'Confidence': 0.996}, {'label': 'Non-dead', 'Confidence': 0.999}, {'label': 'Dead', 'Confidence': 1.0}, {'label': 'Player_Activity', 'Confidence': 1.0}, {'label': 'Dead', 'Confidence': 0.541}, {'label': 'Non-dead', 'Confidence': 0.852}, {'label': 'Player_Activity', 'Confidence': 0.999}, {'label': 'Dead', 'Confidence': 1.0}]\n"
     ]
    },
    {
     "data": {
      "text/html": [
       "\n",
       "<style>\n",
       "    /* Turns off some styling */\n",
       "    progress {\n",
       "        /* gets rid of default border in Firefox and Opera. */\n",
       "        border: none;\n",
       "        /* Needs to be in here for Safari polyfill so background images work as expected. */\n",
       "        background-size: auto;\n",
       "    }\n",
       "    .progress-bar-interrupted, .progress-bar-interrupted::-webkit-progress-bar {\n",
       "        background: #F44336;\n",
       "    }\n",
       "</style>\n"
      ],
      "text/plain": [
       "<IPython.core.display.HTML object>"
      ]
     },
     "metadata": {},
     "output_type": "display_data"
    },
    {
     "data": {
      "text/html": [],
      "text/plain": [
       "<IPython.core.display.HTML object>"
      ]
     },
     "metadata": {},
     "output_type": "display_data"
    },
    {
     "name": "stdout",
     "output_type": "stream",
     "text": [
      "[{'label': 'Non-dead', 'Confidence': 0.736}, {'label': 'Non-dead', 'Confidence': 0.931}, {'label': 'Player_Activity', 'Confidence': 0.46}, {'label': 'Non-dead', 'Confidence': 0.653}, {'label': 'Non-dead', 'Confidence': 0.997}, {'label': 'Player_Activity', 'Confidence': 0.905}, {'label': 'Non-dead', 'Confidence': 1.0}, {'label': 'Non-dead', 'Confidence': 0.985}, {'label': 'Non-dead', 'Confidence': 1.0}, {'label': 'Non-dead', 'Confidence': 0.999}, {'label': 'Non-dead', 'Confidence': 0.976}, {'label': 'Dead', 'Confidence': 1.0}, {'label': 'Dead', 'Confidence': 1.0}, {'label': 'Dead', 'Confidence': 1.0}, {'label': 'Dead', 'Confidence': 0.561}, {'label': 'Non-dead', 'Confidence': 0.999}, {'label': 'Dead', 'Confidence': 1.0}, {'label': 'Dead', 'Confidence': 1.0}, {'label': 'Dead', 'Confidence': 1.0}, {'label': 'Dead', 'Confidence': 0.951}, {'label': 'Dead', 'Confidence': 0.995}, {'label': 'Dead', 'Confidence': 1.0}, {'label': 'Non-dead', 'Confidence': 0.993}, {'label': 'Dead', 'Confidence': 0.604}, {'label': 'Player_Activity', 'Confidence': 1.0}, {'label': 'Non-dead', 'Confidence': 0.999}, {'label': 'Non-dead', 'Confidence': 0.999}, {'label': 'Non-dead', 'Confidence': 0.969}, {'label': 'Non-dead', 'Confidence': 0.998}, {'label': 'Non-dead', 'Confidence': 1.0}, {'label': 'Non-dead', 'Confidence': 0.992}, {'label': 'Non-dead', 'Confidence': 0.999}, {'label': 'Dead', 'Confidence': 0.999}, {'label': 'Non-dead', 'Confidence': 0.865}, {'label': 'Dead', 'Confidence': 0.735}, {'label': 'Non-dead', 'Confidence': 0.999}, {'label': 'Dead', 'Confidence': 0.997}, {'label': 'Player_Activity', 'Confidence': 0.535}, {'label': 'Non-dead', 'Confidence': 0.967}, {'label': 'Player_Activity', 'Confidence': 0.996}, {'label': 'Non-dead', 'Confidence': 0.999}, {'label': 'Dead', 'Confidence': 1.0}, {'label': 'Player_Activity', 'Confidence': 1.0}, {'label': 'Dead', 'Confidence': 0.541}, {'label': 'Non-dead', 'Confidence': 0.852}, {'label': 'Player_Activity', 'Confidence': 0.999}, {'label': 'Dead', 'Confidence': 1.0}, {'label': 'Dead', 'Confidence': 1.0}]\n"
     ]
    },
    {
     "data": {
      "text/html": [
       "\n",
       "<style>\n",
       "    /* Turns off some styling */\n",
       "    progress {\n",
       "        /* gets rid of default border in Firefox and Opera. */\n",
       "        border: none;\n",
       "        /* Needs to be in here for Safari polyfill so background images work as expected. */\n",
       "        background-size: auto;\n",
       "    }\n",
       "    .progress-bar-interrupted, .progress-bar-interrupted::-webkit-progress-bar {\n",
       "        background: #F44336;\n",
       "    }\n",
       "</style>\n"
      ],
      "text/plain": [
       "<IPython.core.display.HTML object>"
      ]
     },
     "metadata": {},
     "output_type": "display_data"
    },
    {
     "data": {
      "text/html": [],
      "text/plain": [
       "<IPython.core.display.HTML object>"
      ]
     },
     "metadata": {},
     "output_type": "display_data"
    },
    {
     "name": "stdout",
     "output_type": "stream",
     "text": [
      "[{'label': 'Non-dead', 'Confidence': 0.736}, {'label': 'Non-dead', 'Confidence': 0.931}, {'label': 'Player_Activity', 'Confidence': 0.46}, {'label': 'Non-dead', 'Confidence': 0.653}, {'label': 'Non-dead', 'Confidence': 0.997}, {'label': 'Player_Activity', 'Confidence': 0.905}, {'label': 'Non-dead', 'Confidence': 1.0}, {'label': 'Non-dead', 'Confidence': 0.985}, {'label': 'Non-dead', 'Confidence': 1.0}, {'label': 'Non-dead', 'Confidence': 0.999}, {'label': 'Non-dead', 'Confidence': 0.976}, {'label': 'Dead', 'Confidence': 1.0}, {'label': 'Dead', 'Confidence': 1.0}, {'label': 'Dead', 'Confidence': 1.0}, {'label': 'Dead', 'Confidence': 0.561}, {'label': 'Non-dead', 'Confidence': 0.999}, {'label': 'Dead', 'Confidence': 1.0}, {'label': 'Dead', 'Confidence': 1.0}, {'label': 'Dead', 'Confidence': 1.0}, {'label': 'Dead', 'Confidence': 0.951}, {'label': 'Dead', 'Confidence': 0.995}, {'label': 'Dead', 'Confidence': 1.0}, {'label': 'Non-dead', 'Confidence': 0.993}, {'label': 'Dead', 'Confidence': 0.604}, {'label': 'Player_Activity', 'Confidence': 1.0}, {'label': 'Non-dead', 'Confidence': 0.999}, {'label': 'Non-dead', 'Confidence': 0.999}, {'label': 'Non-dead', 'Confidence': 0.969}, {'label': 'Non-dead', 'Confidence': 0.998}, {'label': 'Non-dead', 'Confidence': 1.0}, {'label': 'Non-dead', 'Confidence': 0.992}, {'label': 'Non-dead', 'Confidence': 0.999}, {'label': 'Dead', 'Confidence': 0.999}, {'label': 'Non-dead', 'Confidence': 0.865}, {'label': 'Dead', 'Confidence': 0.735}, {'label': 'Non-dead', 'Confidence': 0.999}, {'label': 'Dead', 'Confidence': 0.997}, {'label': 'Player_Activity', 'Confidence': 0.535}, {'label': 'Non-dead', 'Confidence': 0.967}, {'label': 'Player_Activity', 'Confidence': 0.996}, {'label': 'Non-dead', 'Confidence': 0.999}, {'label': 'Dead', 'Confidence': 1.0}, {'label': 'Player_Activity', 'Confidence': 1.0}, {'label': 'Dead', 'Confidence': 0.541}, {'label': 'Non-dead', 'Confidence': 0.852}, {'label': 'Player_Activity', 'Confidence': 0.999}, {'label': 'Dead', 'Confidence': 1.0}, {'label': 'Dead', 'Confidence': 1.0}, {'label': 'Dead', 'Confidence': 1.0}]\n"
     ]
    },
    {
     "data": {
      "text/html": [
       "\n",
       "<style>\n",
       "    /* Turns off some styling */\n",
       "    progress {\n",
       "        /* gets rid of default border in Firefox and Opera. */\n",
       "        border: none;\n",
       "        /* Needs to be in here for Safari polyfill so background images work as expected. */\n",
       "        background-size: auto;\n",
       "    }\n",
       "    .progress-bar-interrupted, .progress-bar-interrupted::-webkit-progress-bar {\n",
       "        background: #F44336;\n",
       "    }\n",
       "</style>\n"
      ],
      "text/plain": [
       "<IPython.core.display.HTML object>"
      ]
     },
     "metadata": {},
     "output_type": "display_data"
    },
    {
     "data": {
      "text/html": [],
      "text/plain": [
       "<IPython.core.display.HTML object>"
      ]
     },
     "metadata": {},
     "output_type": "display_data"
    },
    {
     "name": "stdout",
     "output_type": "stream",
     "text": [
      "[{'label': 'Non-dead', 'Confidence': 0.736}, {'label': 'Non-dead', 'Confidence': 0.931}, {'label': 'Player_Activity', 'Confidence': 0.46}, {'label': 'Non-dead', 'Confidence': 0.653}, {'label': 'Non-dead', 'Confidence': 0.997}, {'label': 'Player_Activity', 'Confidence': 0.905}, {'label': 'Non-dead', 'Confidence': 1.0}, {'label': 'Non-dead', 'Confidence': 0.985}, {'label': 'Non-dead', 'Confidence': 1.0}, {'label': 'Non-dead', 'Confidence': 0.999}, {'label': 'Non-dead', 'Confidence': 0.976}, {'label': 'Dead', 'Confidence': 1.0}, {'label': 'Dead', 'Confidence': 1.0}, {'label': 'Dead', 'Confidence': 1.0}, {'label': 'Dead', 'Confidence': 0.561}, {'label': 'Non-dead', 'Confidence': 0.999}, {'label': 'Dead', 'Confidence': 1.0}, {'label': 'Dead', 'Confidence': 1.0}, {'label': 'Dead', 'Confidence': 1.0}, {'label': 'Dead', 'Confidence': 0.951}, {'label': 'Dead', 'Confidence': 0.995}, {'label': 'Dead', 'Confidence': 1.0}, {'label': 'Non-dead', 'Confidence': 0.993}, {'label': 'Dead', 'Confidence': 0.604}, {'label': 'Player_Activity', 'Confidence': 1.0}, {'label': 'Non-dead', 'Confidence': 0.999}, {'label': 'Non-dead', 'Confidence': 0.999}, {'label': 'Non-dead', 'Confidence': 0.969}, {'label': 'Non-dead', 'Confidence': 0.998}, {'label': 'Non-dead', 'Confidence': 1.0}, {'label': 'Non-dead', 'Confidence': 0.992}, {'label': 'Non-dead', 'Confidence': 0.999}, {'label': 'Dead', 'Confidence': 0.999}, {'label': 'Non-dead', 'Confidence': 0.865}, {'label': 'Dead', 'Confidence': 0.735}, {'label': 'Non-dead', 'Confidence': 0.999}, {'label': 'Dead', 'Confidence': 0.997}, {'label': 'Player_Activity', 'Confidence': 0.535}, {'label': 'Non-dead', 'Confidence': 0.967}, {'label': 'Player_Activity', 'Confidence': 0.996}, {'label': 'Non-dead', 'Confidence': 0.999}, {'label': 'Dead', 'Confidence': 1.0}, {'label': 'Player_Activity', 'Confidence': 1.0}, {'label': 'Dead', 'Confidence': 0.541}, {'label': 'Non-dead', 'Confidence': 0.852}, {'label': 'Player_Activity', 'Confidence': 0.999}, {'label': 'Dead', 'Confidence': 1.0}, {'label': 'Dead', 'Confidence': 1.0}, {'label': 'Dead', 'Confidence': 1.0}, {'label': 'Dead', 'Confidence': 0.996}]\n"
     ]
    },
    {
     "data": {
      "text/html": [
       "\n",
       "<style>\n",
       "    /* Turns off some styling */\n",
       "    progress {\n",
       "        /* gets rid of default border in Firefox and Opera. */\n",
       "        border: none;\n",
       "        /* Needs to be in here for Safari polyfill so background images work as expected. */\n",
       "        background-size: auto;\n",
       "    }\n",
       "    .progress-bar-interrupted, .progress-bar-interrupted::-webkit-progress-bar {\n",
       "        background: #F44336;\n",
       "    }\n",
       "</style>\n"
      ],
      "text/plain": [
       "<IPython.core.display.HTML object>"
      ]
     },
     "metadata": {},
     "output_type": "display_data"
    },
    {
     "data": {
      "text/html": [],
      "text/plain": [
       "<IPython.core.display.HTML object>"
      ]
     },
     "metadata": {},
     "output_type": "display_data"
    },
    {
     "name": "stdout",
     "output_type": "stream",
     "text": [
      "[{'label': 'Non-dead', 'Confidence': 0.736}, {'label': 'Non-dead', 'Confidence': 0.931}, {'label': 'Player_Activity', 'Confidence': 0.46}, {'label': 'Non-dead', 'Confidence': 0.653}, {'label': 'Non-dead', 'Confidence': 0.997}, {'label': 'Player_Activity', 'Confidence': 0.905}, {'label': 'Non-dead', 'Confidence': 1.0}, {'label': 'Non-dead', 'Confidence': 0.985}, {'label': 'Non-dead', 'Confidence': 1.0}, {'label': 'Non-dead', 'Confidence': 0.999}, {'label': 'Non-dead', 'Confidence': 0.976}, {'label': 'Dead', 'Confidence': 1.0}, {'label': 'Dead', 'Confidence': 1.0}, {'label': 'Dead', 'Confidence': 1.0}, {'label': 'Dead', 'Confidence': 0.561}, {'label': 'Non-dead', 'Confidence': 0.999}, {'label': 'Dead', 'Confidence': 1.0}, {'label': 'Dead', 'Confidence': 1.0}, {'label': 'Dead', 'Confidence': 1.0}, {'label': 'Dead', 'Confidence': 0.951}, {'label': 'Dead', 'Confidence': 0.995}, {'label': 'Dead', 'Confidence': 1.0}, {'label': 'Non-dead', 'Confidence': 0.993}, {'label': 'Dead', 'Confidence': 0.604}, {'label': 'Player_Activity', 'Confidence': 1.0}, {'label': 'Non-dead', 'Confidence': 0.999}, {'label': 'Non-dead', 'Confidence': 0.999}, {'label': 'Non-dead', 'Confidence': 0.969}, {'label': 'Non-dead', 'Confidence': 0.998}, {'label': 'Non-dead', 'Confidence': 1.0}, {'label': 'Non-dead', 'Confidence': 0.992}, {'label': 'Non-dead', 'Confidence': 0.999}, {'label': 'Dead', 'Confidence': 0.999}, {'label': 'Non-dead', 'Confidence': 0.865}, {'label': 'Dead', 'Confidence': 0.735}, {'label': 'Non-dead', 'Confidence': 0.999}, {'label': 'Dead', 'Confidence': 0.997}, {'label': 'Player_Activity', 'Confidence': 0.535}, {'label': 'Non-dead', 'Confidence': 0.967}, {'label': 'Player_Activity', 'Confidence': 0.996}, {'label': 'Non-dead', 'Confidence': 0.999}, {'label': 'Dead', 'Confidence': 1.0}, {'label': 'Player_Activity', 'Confidence': 1.0}, {'label': 'Dead', 'Confidence': 0.541}, {'label': 'Non-dead', 'Confidence': 0.852}, {'label': 'Player_Activity', 'Confidence': 0.999}, {'label': 'Dead', 'Confidence': 1.0}, {'label': 'Dead', 'Confidence': 1.0}, {'label': 'Dead', 'Confidence': 1.0}, {'label': 'Dead', 'Confidence': 0.996}, {'label': 'Player_Activity', 'Confidence': 0.931}]\n"
     ]
    },
    {
     "data": {
      "text/html": [
       "\n",
       "<style>\n",
       "    /* Turns off some styling */\n",
       "    progress {\n",
       "        /* gets rid of default border in Firefox and Opera. */\n",
       "        border: none;\n",
       "        /* Needs to be in here for Safari polyfill so background images work as expected. */\n",
       "        background-size: auto;\n",
       "    }\n",
       "    .progress-bar-interrupted, .progress-bar-interrupted::-webkit-progress-bar {\n",
       "        background: #F44336;\n",
       "    }\n",
       "</style>\n"
      ],
      "text/plain": [
       "<IPython.core.display.HTML object>"
      ]
     },
     "metadata": {},
     "output_type": "display_data"
    },
    {
     "data": {
      "text/html": [],
      "text/plain": [
       "<IPython.core.display.HTML object>"
      ]
     },
     "metadata": {},
     "output_type": "display_data"
    },
    {
     "name": "stdout",
     "output_type": "stream",
     "text": [
      "[{'label': 'Non-dead', 'Confidence': 0.736}, {'label': 'Non-dead', 'Confidence': 0.931}, {'label': 'Player_Activity', 'Confidence': 0.46}, {'label': 'Non-dead', 'Confidence': 0.653}, {'label': 'Non-dead', 'Confidence': 0.997}, {'label': 'Player_Activity', 'Confidence': 0.905}, {'label': 'Non-dead', 'Confidence': 1.0}, {'label': 'Non-dead', 'Confidence': 0.985}, {'label': 'Non-dead', 'Confidence': 1.0}, {'label': 'Non-dead', 'Confidence': 0.999}, {'label': 'Non-dead', 'Confidence': 0.976}, {'label': 'Dead', 'Confidence': 1.0}, {'label': 'Dead', 'Confidence': 1.0}, {'label': 'Dead', 'Confidence': 1.0}, {'label': 'Dead', 'Confidence': 0.561}, {'label': 'Non-dead', 'Confidence': 0.999}, {'label': 'Dead', 'Confidence': 1.0}, {'label': 'Dead', 'Confidence': 1.0}, {'label': 'Dead', 'Confidence': 1.0}, {'label': 'Dead', 'Confidence': 0.951}, {'label': 'Dead', 'Confidence': 0.995}, {'label': 'Dead', 'Confidence': 1.0}, {'label': 'Non-dead', 'Confidence': 0.993}, {'label': 'Dead', 'Confidence': 0.604}, {'label': 'Player_Activity', 'Confidence': 1.0}, {'label': 'Non-dead', 'Confidence': 0.999}, {'label': 'Non-dead', 'Confidence': 0.999}, {'label': 'Non-dead', 'Confidence': 0.969}, {'label': 'Non-dead', 'Confidence': 0.998}, {'label': 'Non-dead', 'Confidence': 1.0}, {'label': 'Non-dead', 'Confidence': 0.992}, {'label': 'Non-dead', 'Confidence': 0.999}, {'label': 'Dead', 'Confidence': 0.999}, {'label': 'Non-dead', 'Confidence': 0.865}, {'label': 'Dead', 'Confidence': 0.735}, {'label': 'Non-dead', 'Confidence': 0.999}, {'label': 'Dead', 'Confidence': 0.997}, {'label': 'Player_Activity', 'Confidence': 0.535}, {'label': 'Non-dead', 'Confidence': 0.967}, {'label': 'Player_Activity', 'Confidence': 0.996}, {'label': 'Non-dead', 'Confidence': 0.999}, {'label': 'Dead', 'Confidence': 1.0}, {'label': 'Player_Activity', 'Confidence': 1.0}, {'label': 'Dead', 'Confidence': 0.541}, {'label': 'Non-dead', 'Confidence': 0.852}, {'label': 'Player_Activity', 'Confidence': 0.999}, {'label': 'Dead', 'Confidence': 1.0}, {'label': 'Dead', 'Confidence': 1.0}, {'label': 'Dead', 'Confidence': 1.0}, {'label': 'Dead', 'Confidence': 0.996}, {'label': 'Player_Activity', 'Confidence': 0.931}, {'label': 'Dead', 'Confidence': 1.0}]\n"
     ]
    },
    {
     "data": {
      "text/html": [
       "\n",
       "<style>\n",
       "    /* Turns off some styling */\n",
       "    progress {\n",
       "        /* gets rid of default border in Firefox and Opera. */\n",
       "        border: none;\n",
       "        /* Needs to be in here for Safari polyfill so background images work as expected. */\n",
       "        background-size: auto;\n",
       "    }\n",
       "    .progress-bar-interrupted, .progress-bar-interrupted::-webkit-progress-bar {\n",
       "        background: #F44336;\n",
       "    }\n",
       "</style>\n"
      ],
      "text/plain": [
       "<IPython.core.display.HTML object>"
      ]
     },
     "metadata": {},
     "output_type": "display_data"
    },
    {
     "data": {
      "text/html": [],
      "text/plain": [
       "<IPython.core.display.HTML object>"
      ]
     },
     "metadata": {},
     "output_type": "display_data"
    },
    {
     "name": "stdout",
     "output_type": "stream",
     "text": [
      "[{'label': 'Non-dead', 'Confidence': 0.736}, {'label': 'Non-dead', 'Confidence': 0.931}, {'label': 'Player_Activity', 'Confidence': 0.46}, {'label': 'Non-dead', 'Confidence': 0.653}, {'label': 'Non-dead', 'Confidence': 0.997}, {'label': 'Player_Activity', 'Confidence': 0.905}, {'label': 'Non-dead', 'Confidence': 1.0}, {'label': 'Non-dead', 'Confidence': 0.985}, {'label': 'Non-dead', 'Confidence': 1.0}, {'label': 'Non-dead', 'Confidence': 0.999}, {'label': 'Non-dead', 'Confidence': 0.976}, {'label': 'Dead', 'Confidence': 1.0}, {'label': 'Dead', 'Confidence': 1.0}, {'label': 'Dead', 'Confidence': 1.0}, {'label': 'Dead', 'Confidence': 0.561}, {'label': 'Non-dead', 'Confidence': 0.999}, {'label': 'Dead', 'Confidence': 1.0}, {'label': 'Dead', 'Confidence': 1.0}, {'label': 'Dead', 'Confidence': 1.0}, {'label': 'Dead', 'Confidence': 0.951}, {'label': 'Dead', 'Confidence': 0.995}, {'label': 'Dead', 'Confidence': 1.0}, {'label': 'Non-dead', 'Confidence': 0.993}, {'label': 'Dead', 'Confidence': 0.604}, {'label': 'Player_Activity', 'Confidence': 1.0}, {'label': 'Non-dead', 'Confidence': 0.999}, {'label': 'Non-dead', 'Confidence': 0.999}, {'label': 'Non-dead', 'Confidence': 0.969}, {'label': 'Non-dead', 'Confidence': 0.998}, {'label': 'Non-dead', 'Confidence': 1.0}, {'label': 'Non-dead', 'Confidence': 0.992}, {'label': 'Non-dead', 'Confidence': 0.999}, {'label': 'Dead', 'Confidence': 0.999}, {'label': 'Non-dead', 'Confidence': 0.865}, {'label': 'Dead', 'Confidence': 0.735}, {'label': 'Non-dead', 'Confidence': 0.999}, {'label': 'Dead', 'Confidence': 0.997}, {'label': 'Player_Activity', 'Confidence': 0.535}, {'label': 'Non-dead', 'Confidence': 0.967}, {'label': 'Player_Activity', 'Confidence': 0.996}, {'label': 'Non-dead', 'Confidence': 0.999}, {'label': 'Dead', 'Confidence': 1.0}, {'label': 'Player_Activity', 'Confidence': 1.0}, {'label': 'Dead', 'Confidence': 0.541}, {'label': 'Non-dead', 'Confidence': 0.852}, {'label': 'Player_Activity', 'Confidence': 0.999}, {'label': 'Dead', 'Confidence': 1.0}, {'label': 'Dead', 'Confidence': 1.0}, {'label': 'Dead', 'Confidence': 1.0}, {'label': 'Dead', 'Confidence': 0.996}, {'label': 'Player_Activity', 'Confidence': 0.931}, {'label': 'Dead', 'Confidence': 1.0}, {'label': 'Dead', 'Confidence': 1.0}]\n"
     ]
    },
    {
     "data": {
      "text/html": [
       "\n",
       "<style>\n",
       "    /* Turns off some styling */\n",
       "    progress {\n",
       "        /* gets rid of default border in Firefox and Opera. */\n",
       "        border: none;\n",
       "        /* Needs to be in here for Safari polyfill so background images work as expected. */\n",
       "        background-size: auto;\n",
       "    }\n",
       "    .progress-bar-interrupted, .progress-bar-interrupted::-webkit-progress-bar {\n",
       "        background: #F44336;\n",
       "    }\n",
       "</style>\n"
      ],
      "text/plain": [
       "<IPython.core.display.HTML object>"
      ]
     },
     "metadata": {},
     "output_type": "display_data"
    },
    {
     "data": {
      "text/html": [],
      "text/plain": [
       "<IPython.core.display.HTML object>"
      ]
     },
     "metadata": {},
     "output_type": "display_data"
    },
    {
     "name": "stdout",
     "output_type": "stream",
     "text": [
      "[{'label': 'Non-dead', 'Confidence': 0.736}, {'label': 'Non-dead', 'Confidence': 0.931}, {'label': 'Player_Activity', 'Confidence': 0.46}, {'label': 'Non-dead', 'Confidence': 0.653}, {'label': 'Non-dead', 'Confidence': 0.997}, {'label': 'Player_Activity', 'Confidence': 0.905}, {'label': 'Non-dead', 'Confidence': 1.0}, {'label': 'Non-dead', 'Confidence': 0.985}, {'label': 'Non-dead', 'Confidence': 1.0}, {'label': 'Non-dead', 'Confidence': 0.999}, {'label': 'Non-dead', 'Confidence': 0.976}, {'label': 'Dead', 'Confidence': 1.0}, {'label': 'Dead', 'Confidence': 1.0}, {'label': 'Dead', 'Confidence': 1.0}, {'label': 'Dead', 'Confidence': 0.561}, {'label': 'Non-dead', 'Confidence': 0.999}, {'label': 'Dead', 'Confidence': 1.0}, {'label': 'Dead', 'Confidence': 1.0}, {'label': 'Dead', 'Confidence': 1.0}, {'label': 'Dead', 'Confidence': 0.951}, {'label': 'Dead', 'Confidence': 0.995}, {'label': 'Dead', 'Confidence': 1.0}, {'label': 'Non-dead', 'Confidence': 0.993}, {'label': 'Dead', 'Confidence': 0.604}, {'label': 'Player_Activity', 'Confidence': 1.0}, {'label': 'Non-dead', 'Confidence': 0.999}, {'label': 'Non-dead', 'Confidence': 0.999}, {'label': 'Non-dead', 'Confidence': 0.969}, {'label': 'Non-dead', 'Confidence': 0.998}, {'label': 'Non-dead', 'Confidence': 1.0}, {'label': 'Non-dead', 'Confidence': 0.992}, {'label': 'Non-dead', 'Confidence': 0.999}, {'label': 'Dead', 'Confidence': 0.999}, {'label': 'Non-dead', 'Confidence': 0.865}, {'label': 'Dead', 'Confidence': 0.735}, {'label': 'Non-dead', 'Confidence': 0.999}, {'label': 'Dead', 'Confidence': 0.997}, {'label': 'Player_Activity', 'Confidence': 0.535}, {'label': 'Non-dead', 'Confidence': 0.967}, {'label': 'Player_Activity', 'Confidence': 0.996}, {'label': 'Non-dead', 'Confidence': 0.999}, {'label': 'Dead', 'Confidence': 1.0}, {'label': 'Player_Activity', 'Confidence': 1.0}, {'label': 'Dead', 'Confidence': 0.541}, {'label': 'Non-dead', 'Confidence': 0.852}, {'label': 'Player_Activity', 'Confidence': 0.999}, {'label': 'Dead', 'Confidence': 1.0}, {'label': 'Dead', 'Confidence': 1.0}, {'label': 'Dead', 'Confidence': 1.0}, {'label': 'Dead', 'Confidence': 0.996}, {'label': 'Player_Activity', 'Confidence': 0.931}, {'label': 'Dead', 'Confidence': 1.0}, {'label': 'Dead', 'Confidence': 1.0}, {'label': 'Player_Activity', 'Confidence': 1.0}]\n"
     ]
    },
    {
     "data": {
      "text/html": [
       "\n",
       "<style>\n",
       "    /* Turns off some styling */\n",
       "    progress {\n",
       "        /* gets rid of default border in Firefox and Opera. */\n",
       "        border: none;\n",
       "        /* Needs to be in here for Safari polyfill so background images work as expected. */\n",
       "        background-size: auto;\n",
       "    }\n",
       "    .progress-bar-interrupted, .progress-bar-interrupted::-webkit-progress-bar {\n",
       "        background: #F44336;\n",
       "    }\n",
       "</style>\n"
      ],
      "text/plain": [
       "<IPython.core.display.HTML object>"
      ]
     },
     "metadata": {},
     "output_type": "display_data"
    },
    {
     "data": {
      "text/html": [],
      "text/plain": [
       "<IPython.core.display.HTML object>"
      ]
     },
     "metadata": {},
     "output_type": "display_data"
    },
    {
     "name": "stdout",
     "output_type": "stream",
     "text": [
      "[{'label': 'Non-dead', 'Confidence': 0.736}, {'label': 'Non-dead', 'Confidence': 0.931}, {'label': 'Player_Activity', 'Confidence': 0.46}, {'label': 'Non-dead', 'Confidence': 0.653}, {'label': 'Non-dead', 'Confidence': 0.997}, {'label': 'Player_Activity', 'Confidence': 0.905}, {'label': 'Non-dead', 'Confidence': 1.0}, {'label': 'Non-dead', 'Confidence': 0.985}, {'label': 'Non-dead', 'Confidence': 1.0}, {'label': 'Non-dead', 'Confidence': 0.999}, {'label': 'Non-dead', 'Confidence': 0.976}, {'label': 'Dead', 'Confidence': 1.0}, {'label': 'Dead', 'Confidence': 1.0}, {'label': 'Dead', 'Confidence': 1.0}, {'label': 'Dead', 'Confidence': 0.561}, {'label': 'Non-dead', 'Confidence': 0.999}, {'label': 'Dead', 'Confidence': 1.0}, {'label': 'Dead', 'Confidence': 1.0}, {'label': 'Dead', 'Confidence': 1.0}, {'label': 'Dead', 'Confidence': 0.951}, {'label': 'Dead', 'Confidence': 0.995}, {'label': 'Dead', 'Confidence': 1.0}, {'label': 'Non-dead', 'Confidence': 0.993}, {'label': 'Dead', 'Confidence': 0.604}, {'label': 'Player_Activity', 'Confidence': 1.0}, {'label': 'Non-dead', 'Confidence': 0.999}, {'label': 'Non-dead', 'Confidence': 0.999}, {'label': 'Non-dead', 'Confidence': 0.969}, {'label': 'Non-dead', 'Confidence': 0.998}, {'label': 'Non-dead', 'Confidence': 1.0}, {'label': 'Non-dead', 'Confidence': 0.992}, {'label': 'Non-dead', 'Confidence': 0.999}, {'label': 'Dead', 'Confidence': 0.999}, {'label': 'Non-dead', 'Confidence': 0.865}, {'label': 'Dead', 'Confidence': 0.735}, {'label': 'Non-dead', 'Confidence': 0.999}, {'label': 'Dead', 'Confidence': 0.997}, {'label': 'Player_Activity', 'Confidence': 0.535}, {'label': 'Non-dead', 'Confidence': 0.967}, {'label': 'Player_Activity', 'Confidence': 0.996}, {'label': 'Non-dead', 'Confidence': 0.999}, {'label': 'Dead', 'Confidence': 1.0}, {'label': 'Player_Activity', 'Confidence': 1.0}, {'label': 'Dead', 'Confidence': 0.541}, {'label': 'Non-dead', 'Confidence': 0.852}, {'label': 'Player_Activity', 'Confidence': 0.999}, {'label': 'Dead', 'Confidence': 1.0}, {'label': 'Dead', 'Confidence': 1.0}, {'label': 'Dead', 'Confidence': 1.0}, {'label': 'Dead', 'Confidence': 0.996}, {'label': 'Player_Activity', 'Confidence': 0.931}, {'label': 'Dead', 'Confidence': 1.0}, {'label': 'Dead', 'Confidence': 1.0}, {'label': 'Player_Activity', 'Confidence': 1.0}, {'label': 'Player_Activity', 'Confidence': 1.0}]\n"
     ]
    },
    {
     "data": {
      "text/html": [
       "\n",
       "<style>\n",
       "    /* Turns off some styling */\n",
       "    progress {\n",
       "        /* gets rid of default border in Firefox and Opera. */\n",
       "        border: none;\n",
       "        /* Needs to be in here for Safari polyfill so background images work as expected. */\n",
       "        background-size: auto;\n",
       "    }\n",
       "    .progress-bar-interrupted, .progress-bar-interrupted::-webkit-progress-bar {\n",
       "        background: #F44336;\n",
       "    }\n",
       "</style>\n"
      ],
      "text/plain": [
       "<IPython.core.display.HTML object>"
      ]
     },
     "metadata": {},
     "output_type": "display_data"
    },
    {
     "data": {
      "text/html": [],
      "text/plain": [
       "<IPython.core.display.HTML object>"
      ]
     },
     "metadata": {},
     "output_type": "display_data"
    },
    {
     "name": "stdout",
     "output_type": "stream",
     "text": [
      "[{'label': 'Non-dead', 'Confidence': 0.736}, {'label': 'Non-dead', 'Confidence': 0.931}, {'label': 'Player_Activity', 'Confidence': 0.46}, {'label': 'Non-dead', 'Confidence': 0.653}, {'label': 'Non-dead', 'Confidence': 0.997}, {'label': 'Player_Activity', 'Confidence': 0.905}, {'label': 'Non-dead', 'Confidence': 1.0}, {'label': 'Non-dead', 'Confidence': 0.985}, {'label': 'Non-dead', 'Confidence': 1.0}, {'label': 'Non-dead', 'Confidence': 0.999}, {'label': 'Non-dead', 'Confidence': 0.976}, {'label': 'Dead', 'Confidence': 1.0}, {'label': 'Dead', 'Confidence': 1.0}, {'label': 'Dead', 'Confidence': 1.0}, {'label': 'Dead', 'Confidence': 0.561}, {'label': 'Non-dead', 'Confidence': 0.999}, {'label': 'Dead', 'Confidence': 1.0}, {'label': 'Dead', 'Confidence': 1.0}, {'label': 'Dead', 'Confidence': 1.0}, {'label': 'Dead', 'Confidence': 0.951}, {'label': 'Dead', 'Confidence': 0.995}, {'label': 'Dead', 'Confidence': 1.0}, {'label': 'Non-dead', 'Confidence': 0.993}, {'label': 'Dead', 'Confidence': 0.604}, {'label': 'Player_Activity', 'Confidence': 1.0}, {'label': 'Non-dead', 'Confidence': 0.999}, {'label': 'Non-dead', 'Confidence': 0.999}, {'label': 'Non-dead', 'Confidence': 0.969}, {'label': 'Non-dead', 'Confidence': 0.998}, {'label': 'Non-dead', 'Confidence': 1.0}, {'label': 'Non-dead', 'Confidence': 0.992}, {'label': 'Non-dead', 'Confidence': 0.999}, {'label': 'Dead', 'Confidence': 0.999}, {'label': 'Non-dead', 'Confidence': 0.865}, {'label': 'Dead', 'Confidence': 0.735}, {'label': 'Non-dead', 'Confidence': 0.999}, {'label': 'Dead', 'Confidence': 0.997}, {'label': 'Player_Activity', 'Confidence': 0.535}, {'label': 'Non-dead', 'Confidence': 0.967}, {'label': 'Player_Activity', 'Confidence': 0.996}, {'label': 'Non-dead', 'Confidence': 0.999}, {'label': 'Dead', 'Confidence': 1.0}, {'label': 'Player_Activity', 'Confidence': 1.0}, {'label': 'Dead', 'Confidence': 0.541}, {'label': 'Non-dead', 'Confidence': 0.852}, {'label': 'Player_Activity', 'Confidence': 0.999}, {'label': 'Dead', 'Confidence': 1.0}, {'label': 'Dead', 'Confidence': 1.0}, {'label': 'Dead', 'Confidence': 1.0}, {'label': 'Dead', 'Confidence': 0.996}, {'label': 'Player_Activity', 'Confidence': 0.931}, {'label': 'Dead', 'Confidence': 1.0}, {'label': 'Dead', 'Confidence': 1.0}, {'label': 'Player_Activity', 'Confidence': 1.0}, {'label': 'Player_Activity', 'Confidence': 1.0}, {'label': 'Player_Activity', 'Confidence': 1.0}]\n"
     ]
    },
    {
     "data": {
      "text/html": [
       "\n",
       "<style>\n",
       "    /* Turns off some styling */\n",
       "    progress {\n",
       "        /* gets rid of default border in Firefox and Opera. */\n",
       "        border: none;\n",
       "        /* Needs to be in here for Safari polyfill so background images work as expected. */\n",
       "        background-size: auto;\n",
       "    }\n",
       "    .progress-bar-interrupted, .progress-bar-interrupted::-webkit-progress-bar {\n",
       "        background: #F44336;\n",
       "    }\n",
       "</style>\n"
      ],
      "text/plain": [
       "<IPython.core.display.HTML object>"
      ]
     },
     "metadata": {},
     "output_type": "display_data"
    },
    {
     "data": {
      "text/html": [],
      "text/plain": [
       "<IPython.core.display.HTML object>"
      ]
     },
     "metadata": {},
     "output_type": "display_data"
    },
    {
     "name": "stdout",
     "output_type": "stream",
     "text": [
      "[{'label': 'Non-dead', 'Confidence': 0.736}, {'label': 'Non-dead', 'Confidence': 0.931}, {'label': 'Player_Activity', 'Confidence': 0.46}, {'label': 'Non-dead', 'Confidence': 0.653}, {'label': 'Non-dead', 'Confidence': 0.997}, {'label': 'Player_Activity', 'Confidence': 0.905}, {'label': 'Non-dead', 'Confidence': 1.0}, {'label': 'Non-dead', 'Confidence': 0.985}, {'label': 'Non-dead', 'Confidence': 1.0}, {'label': 'Non-dead', 'Confidence': 0.999}, {'label': 'Non-dead', 'Confidence': 0.976}, {'label': 'Dead', 'Confidence': 1.0}, {'label': 'Dead', 'Confidence': 1.0}, {'label': 'Dead', 'Confidence': 1.0}, {'label': 'Dead', 'Confidence': 0.561}, {'label': 'Non-dead', 'Confidence': 0.999}, {'label': 'Dead', 'Confidence': 1.0}, {'label': 'Dead', 'Confidence': 1.0}, {'label': 'Dead', 'Confidence': 1.0}, {'label': 'Dead', 'Confidence': 0.951}, {'label': 'Dead', 'Confidence': 0.995}, {'label': 'Dead', 'Confidence': 1.0}, {'label': 'Non-dead', 'Confidence': 0.993}, {'label': 'Dead', 'Confidence': 0.604}, {'label': 'Player_Activity', 'Confidence': 1.0}, {'label': 'Non-dead', 'Confidence': 0.999}, {'label': 'Non-dead', 'Confidence': 0.999}, {'label': 'Non-dead', 'Confidence': 0.969}, {'label': 'Non-dead', 'Confidence': 0.998}, {'label': 'Non-dead', 'Confidence': 1.0}, {'label': 'Non-dead', 'Confidence': 0.992}, {'label': 'Non-dead', 'Confidence': 0.999}, {'label': 'Dead', 'Confidence': 0.999}, {'label': 'Non-dead', 'Confidence': 0.865}, {'label': 'Dead', 'Confidence': 0.735}, {'label': 'Non-dead', 'Confidence': 0.999}, {'label': 'Dead', 'Confidence': 0.997}, {'label': 'Player_Activity', 'Confidence': 0.535}, {'label': 'Non-dead', 'Confidence': 0.967}, {'label': 'Player_Activity', 'Confidence': 0.996}, {'label': 'Non-dead', 'Confidence': 0.999}, {'label': 'Dead', 'Confidence': 1.0}, {'label': 'Player_Activity', 'Confidence': 1.0}, {'label': 'Dead', 'Confidence': 0.541}, {'label': 'Non-dead', 'Confidence': 0.852}, {'label': 'Player_Activity', 'Confidence': 0.999}, {'label': 'Dead', 'Confidence': 1.0}, {'label': 'Dead', 'Confidence': 1.0}, {'label': 'Dead', 'Confidence': 1.0}, {'label': 'Dead', 'Confidence': 0.996}, {'label': 'Player_Activity', 'Confidence': 0.931}, {'label': 'Dead', 'Confidence': 1.0}, {'label': 'Dead', 'Confidence': 1.0}, {'label': 'Player_Activity', 'Confidence': 1.0}, {'label': 'Player_Activity', 'Confidence': 1.0}, {'label': 'Player_Activity', 'Confidence': 1.0}, {'label': 'Non-dead', 'Confidence': 1.0}]\n"
     ]
    },
    {
     "data": {
      "text/html": [
       "\n",
       "<style>\n",
       "    /* Turns off some styling */\n",
       "    progress {\n",
       "        /* gets rid of default border in Firefox and Opera. */\n",
       "        border: none;\n",
       "        /* Needs to be in here for Safari polyfill so background images work as expected. */\n",
       "        background-size: auto;\n",
       "    }\n",
       "    .progress-bar-interrupted, .progress-bar-interrupted::-webkit-progress-bar {\n",
       "        background: #F44336;\n",
       "    }\n",
       "</style>\n"
      ],
      "text/plain": [
       "<IPython.core.display.HTML object>"
      ]
     },
     "metadata": {},
     "output_type": "display_data"
    },
    {
     "data": {
      "text/html": [],
      "text/plain": [
       "<IPython.core.display.HTML object>"
      ]
     },
     "metadata": {},
     "output_type": "display_data"
    },
    {
     "name": "stdout",
     "output_type": "stream",
     "text": [
      "[{'label': 'Non-dead', 'Confidence': 0.736}, {'label': 'Non-dead', 'Confidence': 0.931}, {'label': 'Player_Activity', 'Confidence': 0.46}, {'label': 'Non-dead', 'Confidence': 0.653}, {'label': 'Non-dead', 'Confidence': 0.997}, {'label': 'Player_Activity', 'Confidence': 0.905}, {'label': 'Non-dead', 'Confidence': 1.0}, {'label': 'Non-dead', 'Confidence': 0.985}, {'label': 'Non-dead', 'Confidence': 1.0}, {'label': 'Non-dead', 'Confidence': 0.999}, {'label': 'Non-dead', 'Confidence': 0.976}, {'label': 'Dead', 'Confidence': 1.0}, {'label': 'Dead', 'Confidence': 1.0}, {'label': 'Dead', 'Confidence': 1.0}, {'label': 'Dead', 'Confidence': 0.561}, {'label': 'Non-dead', 'Confidence': 0.999}, {'label': 'Dead', 'Confidence': 1.0}, {'label': 'Dead', 'Confidence': 1.0}, {'label': 'Dead', 'Confidence': 1.0}, {'label': 'Dead', 'Confidence': 0.951}, {'label': 'Dead', 'Confidence': 0.995}, {'label': 'Dead', 'Confidence': 1.0}, {'label': 'Non-dead', 'Confidence': 0.993}, {'label': 'Dead', 'Confidence': 0.604}, {'label': 'Player_Activity', 'Confidence': 1.0}, {'label': 'Non-dead', 'Confidence': 0.999}, {'label': 'Non-dead', 'Confidence': 0.999}, {'label': 'Non-dead', 'Confidence': 0.969}, {'label': 'Non-dead', 'Confidence': 0.998}, {'label': 'Non-dead', 'Confidence': 1.0}, {'label': 'Non-dead', 'Confidence': 0.992}, {'label': 'Non-dead', 'Confidence': 0.999}, {'label': 'Dead', 'Confidence': 0.999}, {'label': 'Non-dead', 'Confidence': 0.865}, {'label': 'Dead', 'Confidence': 0.735}, {'label': 'Non-dead', 'Confidence': 0.999}, {'label': 'Dead', 'Confidence': 0.997}, {'label': 'Player_Activity', 'Confidence': 0.535}, {'label': 'Non-dead', 'Confidence': 0.967}, {'label': 'Player_Activity', 'Confidence': 0.996}, {'label': 'Non-dead', 'Confidence': 0.999}, {'label': 'Dead', 'Confidence': 1.0}, {'label': 'Player_Activity', 'Confidence': 1.0}, {'label': 'Dead', 'Confidence': 0.541}, {'label': 'Non-dead', 'Confidence': 0.852}, {'label': 'Player_Activity', 'Confidence': 0.999}, {'label': 'Dead', 'Confidence': 1.0}, {'label': 'Dead', 'Confidence': 1.0}, {'label': 'Dead', 'Confidence': 1.0}, {'label': 'Dead', 'Confidence': 0.996}, {'label': 'Player_Activity', 'Confidence': 0.931}, {'label': 'Dead', 'Confidence': 1.0}, {'label': 'Dead', 'Confidence': 1.0}, {'label': 'Player_Activity', 'Confidence': 1.0}, {'label': 'Player_Activity', 'Confidence': 1.0}, {'label': 'Player_Activity', 'Confidence': 1.0}, {'label': 'Non-dead', 'Confidence': 1.0}, {'label': 'Player_Activity', 'Confidence': 1.0}]\n"
     ]
    },
    {
     "data": {
      "text/html": [
       "\n",
       "<style>\n",
       "    /* Turns off some styling */\n",
       "    progress {\n",
       "        /* gets rid of default border in Firefox and Opera. */\n",
       "        border: none;\n",
       "        /* Needs to be in here for Safari polyfill so background images work as expected. */\n",
       "        background-size: auto;\n",
       "    }\n",
       "    .progress-bar-interrupted, .progress-bar-interrupted::-webkit-progress-bar {\n",
       "        background: #F44336;\n",
       "    }\n",
       "</style>\n"
      ],
      "text/plain": [
       "<IPython.core.display.HTML object>"
      ]
     },
     "metadata": {},
     "output_type": "display_data"
    },
    {
     "data": {
      "text/html": [],
      "text/plain": [
       "<IPython.core.display.HTML object>"
      ]
     },
     "metadata": {},
     "output_type": "display_data"
    },
    {
     "name": "stdout",
     "output_type": "stream",
     "text": [
      "[{'label': 'Non-dead', 'Confidence': 0.736}, {'label': 'Non-dead', 'Confidence': 0.931}, {'label': 'Player_Activity', 'Confidence': 0.46}, {'label': 'Non-dead', 'Confidence': 0.653}, {'label': 'Non-dead', 'Confidence': 0.997}, {'label': 'Player_Activity', 'Confidence': 0.905}, {'label': 'Non-dead', 'Confidence': 1.0}, {'label': 'Non-dead', 'Confidence': 0.985}, {'label': 'Non-dead', 'Confidence': 1.0}, {'label': 'Non-dead', 'Confidence': 0.999}, {'label': 'Non-dead', 'Confidence': 0.976}, {'label': 'Dead', 'Confidence': 1.0}, {'label': 'Dead', 'Confidence': 1.0}, {'label': 'Dead', 'Confidence': 1.0}, {'label': 'Dead', 'Confidence': 0.561}, {'label': 'Non-dead', 'Confidence': 0.999}, {'label': 'Dead', 'Confidence': 1.0}, {'label': 'Dead', 'Confidence': 1.0}, {'label': 'Dead', 'Confidence': 1.0}, {'label': 'Dead', 'Confidence': 0.951}, {'label': 'Dead', 'Confidence': 0.995}, {'label': 'Dead', 'Confidence': 1.0}, {'label': 'Non-dead', 'Confidence': 0.993}, {'label': 'Dead', 'Confidence': 0.604}, {'label': 'Player_Activity', 'Confidence': 1.0}, {'label': 'Non-dead', 'Confidence': 0.999}, {'label': 'Non-dead', 'Confidence': 0.999}, {'label': 'Non-dead', 'Confidence': 0.969}, {'label': 'Non-dead', 'Confidence': 0.998}, {'label': 'Non-dead', 'Confidence': 1.0}, {'label': 'Non-dead', 'Confidence': 0.992}, {'label': 'Non-dead', 'Confidence': 0.999}, {'label': 'Dead', 'Confidence': 0.999}, {'label': 'Non-dead', 'Confidence': 0.865}, {'label': 'Dead', 'Confidence': 0.735}, {'label': 'Non-dead', 'Confidence': 0.999}, {'label': 'Dead', 'Confidence': 0.997}, {'label': 'Player_Activity', 'Confidence': 0.535}, {'label': 'Non-dead', 'Confidence': 0.967}, {'label': 'Player_Activity', 'Confidence': 0.996}, {'label': 'Non-dead', 'Confidence': 0.999}, {'label': 'Dead', 'Confidence': 1.0}, {'label': 'Player_Activity', 'Confidence': 1.0}, {'label': 'Dead', 'Confidence': 0.541}, {'label': 'Non-dead', 'Confidence': 0.852}, {'label': 'Player_Activity', 'Confidence': 0.999}, {'label': 'Dead', 'Confidence': 1.0}, {'label': 'Dead', 'Confidence': 1.0}, {'label': 'Dead', 'Confidence': 1.0}, {'label': 'Dead', 'Confidence': 0.996}, {'label': 'Player_Activity', 'Confidence': 0.931}, {'label': 'Dead', 'Confidence': 1.0}, {'label': 'Dead', 'Confidence': 1.0}, {'label': 'Player_Activity', 'Confidence': 1.0}, {'label': 'Player_Activity', 'Confidence': 1.0}, {'label': 'Player_Activity', 'Confidence': 1.0}, {'label': 'Non-dead', 'Confidence': 1.0}, {'label': 'Player_Activity', 'Confidence': 1.0}, {'label': 'Player_Activity', 'Confidence': 1.0}]\n"
     ]
    },
    {
     "data": {
      "text/html": [
       "\n",
       "<style>\n",
       "    /* Turns off some styling */\n",
       "    progress {\n",
       "        /* gets rid of default border in Firefox and Opera. */\n",
       "        border: none;\n",
       "        /* Needs to be in here for Safari polyfill so background images work as expected. */\n",
       "        background-size: auto;\n",
       "    }\n",
       "    .progress-bar-interrupted, .progress-bar-interrupted::-webkit-progress-bar {\n",
       "        background: #F44336;\n",
       "    }\n",
       "</style>\n"
      ],
      "text/plain": [
       "<IPython.core.display.HTML object>"
      ]
     },
     "metadata": {},
     "output_type": "display_data"
    },
    {
     "data": {
      "text/html": [],
      "text/plain": [
       "<IPython.core.display.HTML object>"
      ]
     },
     "metadata": {},
     "output_type": "display_data"
    },
    {
     "name": "stdout",
     "output_type": "stream",
     "text": [
      "[{'label': 'Non-dead', 'Confidence': 0.736}, {'label': 'Non-dead', 'Confidence': 0.931}, {'label': 'Player_Activity', 'Confidence': 0.46}, {'label': 'Non-dead', 'Confidence': 0.653}, {'label': 'Non-dead', 'Confidence': 0.997}, {'label': 'Player_Activity', 'Confidence': 0.905}, {'label': 'Non-dead', 'Confidence': 1.0}, {'label': 'Non-dead', 'Confidence': 0.985}, {'label': 'Non-dead', 'Confidence': 1.0}, {'label': 'Non-dead', 'Confidence': 0.999}, {'label': 'Non-dead', 'Confidence': 0.976}, {'label': 'Dead', 'Confidence': 1.0}, {'label': 'Dead', 'Confidence': 1.0}, {'label': 'Dead', 'Confidence': 1.0}, {'label': 'Dead', 'Confidence': 0.561}, {'label': 'Non-dead', 'Confidence': 0.999}, {'label': 'Dead', 'Confidence': 1.0}, {'label': 'Dead', 'Confidence': 1.0}, {'label': 'Dead', 'Confidence': 1.0}, {'label': 'Dead', 'Confidence': 0.951}, {'label': 'Dead', 'Confidence': 0.995}, {'label': 'Dead', 'Confidence': 1.0}, {'label': 'Non-dead', 'Confidence': 0.993}, {'label': 'Dead', 'Confidence': 0.604}, {'label': 'Player_Activity', 'Confidence': 1.0}, {'label': 'Non-dead', 'Confidence': 0.999}, {'label': 'Non-dead', 'Confidence': 0.999}, {'label': 'Non-dead', 'Confidence': 0.969}, {'label': 'Non-dead', 'Confidence': 0.998}, {'label': 'Non-dead', 'Confidence': 1.0}, {'label': 'Non-dead', 'Confidence': 0.992}, {'label': 'Non-dead', 'Confidence': 0.999}, {'label': 'Dead', 'Confidence': 0.999}, {'label': 'Non-dead', 'Confidence': 0.865}, {'label': 'Dead', 'Confidence': 0.735}, {'label': 'Non-dead', 'Confidence': 0.999}, {'label': 'Dead', 'Confidence': 0.997}, {'label': 'Player_Activity', 'Confidence': 0.535}, {'label': 'Non-dead', 'Confidence': 0.967}, {'label': 'Player_Activity', 'Confidence': 0.996}, {'label': 'Non-dead', 'Confidence': 0.999}, {'label': 'Dead', 'Confidence': 1.0}, {'label': 'Player_Activity', 'Confidence': 1.0}, {'label': 'Dead', 'Confidence': 0.541}, {'label': 'Non-dead', 'Confidence': 0.852}, {'label': 'Player_Activity', 'Confidence': 0.999}, {'label': 'Dead', 'Confidence': 1.0}, {'label': 'Dead', 'Confidence': 1.0}, {'label': 'Dead', 'Confidence': 1.0}, {'label': 'Dead', 'Confidence': 0.996}, {'label': 'Player_Activity', 'Confidence': 0.931}, {'label': 'Dead', 'Confidence': 1.0}, {'label': 'Dead', 'Confidence': 1.0}, {'label': 'Player_Activity', 'Confidence': 1.0}, {'label': 'Player_Activity', 'Confidence': 1.0}, {'label': 'Player_Activity', 'Confidence': 1.0}, {'label': 'Non-dead', 'Confidence': 1.0}, {'label': 'Player_Activity', 'Confidence': 1.0}, {'label': 'Player_Activity', 'Confidence': 1.0}, {'label': 'Player_Activity', 'Confidence': 1.0}]\n"
     ]
    },
    {
     "data": {
      "text/html": [
       "\n",
       "<style>\n",
       "    /* Turns off some styling */\n",
       "    progress {\n",
       "        /* gets rid of default border in Firefox and Opera. */\n",
       "        border: none;\n",
       "        /* Needs to be in here for Safari polyfill so background images work as expected. */\n",
       "        background-size: auto;\n",
       "    }\n",
       "    .progress-bar-interrupted, .progress-bar-interrupted::-webkit-progress-bar {\n",
       "        background: #F44336;\n",
       "    }\n",
       "</style>\n"
      ],
      "text/plain": [
       "<IPython.core.display.HTML object>"
      ]
     },
     "metadata": {},
     "output_type": "display_data"
    },
    {
     "data": {
      "text/html": [],
      "text/plain": [
       "<IPython.core.display.HTML object>"
      ]
     },
     "metadata": {},
     "output_type": "display_data"
    },
    {
     "name": "stdout",
     "output_type": "stream",
     "text": [
      "[{'label': 'Non-dead', 'Confidence': 0.736}, {'label': 'Non-dead', 'Confidence': 0.931}, {'label': 'Player_Activity', 'Confidence': 0.46}, {'label': 'Non-dead', 'Confidence': 0.653}, {'label': 'Non-dead', 'Confidence': 0.997}, {'label': 'Player_Activity', 'Confidence': 0.905}, {'label': 'Non-dead', 'Confidence': 1.0}, {'label': 'Non-dead', 'Confidence': 0.985}, {'label': 'Non-dead', 'Confidence': 1.0}, {'label': 'Non-dead', 'Confidence': 0.999}, {'label': 'Non-dead', 'Confidence': 0.976}, {'label': 'Dead', 'Confidence': 1.0}, {'label': 'Dead', 'Confidence': 1.0}, {'label': 'Dead', 'Confidence': 1.0}, {'label': 'Dead', 'Confidence': 0.561}, {'label': 'Non-dead', 'Confidence': 0.999}, {'label': 'Dead', 'Confidence': 1.0}, {'label': 'Dead', 'Confidence': 1.0}, {'label': 'Dead', 'Confidence': 1.0}, {'label': 'Dead', 'Confidence': 0.951}, {'label': 'Dead', 'Confidence': 0.995}, {'label': 'Dead', 'Confidence': 1.0}, {'label': 'Non-dead', 'Confidence': 0.993}, {'label': 'Dead', 'Confidence': 0.604}, {'label': 'Player_Activity', 'Confidence': 1.0}, {'label': 'Non-dead', 'Confidence': 0.999}, {'label': 'Non-dead', 'Confidence': 0.999}, {'label': 'Non-dead', 'Confidence': 0.969}, {'label': 'Non-dead', 'Confidence': 0.998}, {'label': 'Non-dead', 'Confidence': 1.0}, {'label': 'Non-dead', 'Confidence': 0.992}, {'label': 'Non-dead', 'Confidence': 0.999}, {'label': 'Dead', 'Confidence': 0.999}, {'label': 'Non-dead', 'Confidence': 0.865}, {'label': 'Dead', 'Confidence': 0.735}, {'label': 'Non-dead', 'Confidence': 0.999}, {'label': 'Dead', 'Confidence': 0.997}, {'label': 'Player_Activity', 'Confidence': 0.535}, {'label': 'Non-dead', 'Confidence': 0.967}, {'label': 'Player_Activity', 'Confidence': 0.996}, {'label': 'Non-dead', 'Confidence': 0.999}, {'label': 'Dead', 'Confidence': 1.0}, {'label': 'Player_Activity', 'Confidence': 1.0}, {'label': 'Dead', 'Confidence': 0.541}, {'label': 'Non-dead', 'Confidence': 0.852}, {'label': 'Player_Activity', 'Confidence': 0.999}, {'label': 'Dead', 'Confidence': 1.0}, {'label': 'Dead', 'Confidence': 1.0}, {'label': 'Dead', 'Confidence': 1.0}, {'label': 'Dead', 'Confidence': 0.996}, {'label': 'Player_Activity', 'Confidence': 0.931}, {'label': 'Dead', 'Confidence': 1.0}, {'label': 'Dead', 'Confidence': 1.0}, {'label': 'Player_Activity', 'Confidence': 1.0}, {'label': 'Player_Activity', 'Confidence': 1.0}, {'label': 'Player_Activity', 'Confidence': 1.0}, {'label': 'Non-dead', 'Confidence': 1.0}, {'label': 'Player_Activity', 'Confidence': 1.0}, {'label': 'Player_Activity', 'Confidence': 1.0}, {'label': 'Player_Activity', 'Confidence': 1.0}, {'label': 'Non-dead', 'Confidence': 1.0}]\n"
     ]
    },
    {
     "data": {
      "text/html": [
       "\n",
       "<style>\n",
       "    /* Turns off some styling */\n",
       "    progress {\n",
       "        /* gets rid of default border in Firefox and Opera. */\n",
       "        border: none;\n",
       "        /* Needs to be in here for Safari polyfill so background images work as expected. */\n",
       "        background-size: auto;\n",
       "    }\n",
       "    .progress-bar-interrupted, .progress-bar-interrupted::-webkit-progress-bar {\n",
       "        background: #F44336;\n",
       "    }\n",
       "</style>\n"
      ],
      "text/plain": [
       "<IPython.core.display.HTML object>"
      ]
     },
     "metadata": {},
     "output_type": "display_data"
    },
    {
     "data": {
      "text/html": [],
      "text/plain": [
       "<IPython.core.display.HTML object>"
      ]
     },
     "metadata": {},
     "output_type": "display_data"
    },
    {
     "name": "stdout",
     "output_type": "stream",
     "text": [
      "[{'label': 'Non-dead', 'Confidence': 0.736}, {'label': 'Non-dead', 'Confidence': 0.931}, {'label': 'Player_Activity', 'Confidence': 0.46}, {'label': 'Non-dead', 'Confidence': 0.653}, {'label': 'Non-dead', 'Confidence': 0.997}, {'label': 'Player_Activity', 'Confidence': 0.905}, {'label': 'Non-dead', 'Confidence': 1.0}, {'label': 'Non-dead', 'Confidence': 0.985}, {'label': 'Non-dead', 'Confidence': 1.0}, {'label': 'Non-dead', 'Confidence': 0.999}, {'label': 'Non-dead', 'Confidence': 0.976}, {'label': 'Dead', 'Confidence': 1.0}, {'label': 'Dead', 'Confidence': 1.0}, {'label': 'Dead', 'Confidence': 1.0}, {'label': 'Dead', 'Confidence': 0.561}, {'label': 'Non-dead', 'Confidence': 0.999}, {'label': 'Dead', 'Confidence': 1.0}, {'label': 'Dead', 'Confidence': 1.0}, {'label': 'Dead', 'Confidence': 1.0}, {'label': 'Dead', 'Confidence': 0.951}, {'label': 'Dead', 'Confidence': 0.995}, {'label': 'Dead', 'Confidence': 1.0}, {'label': 'Non-dead', 'Confidence': 0.993}, {'label': 'Dead', 'Confidence': 0.604}, {'label': 'Player_Activity', 'Confidence': 1.0}, {'label': 'Non-dead', 'Confidence': 0.999}, {'label': 'Non-dead', 'Confidence': 0.999}, {'label': 'Non-dead', 'Confidence': 0.969}, {'label': 'Non-dead', 'Confidence': 0.998}, {'label': 'Non-dead', 'Confidence': 1.0}, {'label': 'Non-dead', 'Confidence': 0.992}, {'label': 'Non-dead', 'Confidence': 0.999}, {'label': 'Dead', 'Confidence': 0.999}, {'label': 'Non-dead', 'Confidence': 0.865}, {'label': 'Dead', 'Confidence': 0.735}, {'label': 'Non-dead', 'Confidence': 0.999}, {'label': 'Dead', 'Confidence': 0.997}, {'label': 'Player_Activity', 'Confidence': 0.535}, {'label': 'Non-dead', 'Confidence': 0.967}, {'label': 'Player_Activity', 'Confidence': 0.996}, {'label': 'Non-dead', 'Confidence': 0.999}, {'label': 'Dead', 'Confidence': 1.0}, {'label': 'Player_Activity', 'Confidence': 1.0}, {'label': 'Dead', 'Confidence': 0.541}, {'label': 'Non-dead', 'Confidence': 0.852}, {'label': 'Player_Activity', 'Confidence': 0.999}, {'label': 'Dead', 'Confidence': 1.0}, {'label': 'Dead', 'Confidence': 1.0}, {'label': 'Dead', 'Confidence': 1.0}, {'label': 'Dead', 'Confidence': 0.996}, {'label': 'Player_Activity', 'Confidence': 0.931}, {'label': 'Dead', 'Confidence': 1.0}, {'label': 'Dead', 'Confidence': 1.0}, {'label': 'Player_Activity', 'Confidence': 1.0}, {'label': 'Player_Activity', 'Confidence': 1.0}, {'label': 'Player_Activity', 'Confidence': 1.0}, {'label': 'Non-dead', 'Confidence': 1.0}, {'label': 'Player_Activity', 'Confidence': 1.0}, {'label': 'Player_Activity', 'Confidence': 1.0}, {'label': 'Player_Activity', 'Confidence': 1.0}, {'label': 'Non-dead', 'Confidence': 1.0}, {'label': 'Player_Activity', 'Confidence': 1.0}]\n"
     ]
    },
    {
     "data": {
      "text/html": [
       "\n",
       "<style>\n",
       "    /* Turns off some styling */\n",
       "    progress {\n",
       "        /* gets rid of default border in Firefox and Opera. */\n",
       "        border: none;\n",
       "        /* Needs to be in here for Safari polyfill so background images work as expected. */\n",
       "        background-size: auto;\n",
       "    }\n",
       "    .progress-bar-interrupted, .progress-bar-interrupted::-webkit-progress-bar {\n",
       "        background: #F44336;\n",
       "    }\n",
       "</style>\n"
      ],
      "text/plain": [
       "<IPython.core.display.HTML object>"
      ]
     },
     "metadata": {},
     "output_type": "display_data"
    },
    {
     "data": {
      "text/html": [],
      "text/plain": [
       "<IPython.core.display.HTML object>"
      ]
     },
     "metadata": {},
     "output_type": "display_data"
    },
    {
     "name": "stdout",
     "output_type": "stream",
     "text": [
      "[{'label': 'Non-dead', 'Confidence': 0.736}, {'label': 'Non-dead', 'Confidence': 0.931}, {'label': 'Player_Activity', 'Confidence': 0.46}, {'label': 'Non-dead', 'Confidence': 0.653}, {'label': 'Non-dead', 'Confidence': 0.997}, {'label': 'Player_Activity', 'Confidence': 0.905}, {'label': 'Non-dead', 'Confidence': 1.0}, {'label': 'Non-dead', 'Confidence': 0.985}, {'label': 'Non-dead', 'Confidence': 1.0}, {'label': 'Non-dead', 'Confidence': 0.999}, {'label': 'Non-dead', 'Confidence': 0.976}, {'label': 'Dead', 'Confidence': 1.0}, {'label': 'Dead', 'Confidence': 1.0}, {'label': 'Dead', 'Confidence': 1.0}, {'label': 'Dead', 'Confidence': 0.561}, {'label': 'Non-dead', 'Confidence': 0.999}, {'label': 'Dead', 'Confidence': 1.0}, {'label': 'Dead', 'Confidence': 1.0}, {'label': 'Dead', 'Confidence': 1.0}, {'label': 'Dead', 'Confidence': 0.951}, {'label': 'Dead', 'Confidence': 0.995}, {'label': 'Dead', 'Confidence': 1.0}, {'label': 'Non-dead', 'Confidence': 0.993}, {'label': 'Dead', 'Confidence': 0.604}, {'label': 'Player_Activity', 'Confidence': 1.0}, {'label': 'Non-dead', 'Confidence': 0.999}, {'label': 'Non-dead', 'Confidence': 0.999}, {'label': 'Non-dead', 'Confidence': 0.969}, {'label': 'Non-dead', 'Confidence': 0.998}, {'label': 'Non-dead', 'Confidence': 1.0}, {'label': 'Non-dead', 'Confidence': 0.992}, {'label': 'Non-dead', 'Confidence': 0.999}, {'label': 'Dead', 'Confidence': 0.999}, {'label': 'Non-dead', 'Confidence': 0.865}, {'label': 'Dead', 'Confidence': 0.735}, {'label': 'Non-dead', 'Confidence': 0.999}, {'label': 'Dead', 'Confidence': 0.997}, {'label': 'Player_Activity', 'Confidence': 0.535}, {'label': 'Non-dead', 'Confidence': 0.967}, {'label': 'Player_Activity', 'Confidence': 0.996}, {'label': 'Non-dead', 'Confidence': 0.999}, {'label': 'Dead', 'Confidence': 1.0}, {'label': 'Player_Activity', 'Confidence': 1.0}, {'label': 'Dead', 'Confidence': 0.541}, {'label': 'Non-dead', 'Confidence': 0.852}, {'label': 'Player_Activity', 'Confidence': 0.999}, {'label': 'Dead', 'Confidence': 1.0}, {'label': 'Dead', 'Confidence': 1.0}, {'label': 'Dead', 'Confidence': 1.0}, {'label': 'Dead', 'Confidence': 0.996}, {'label': 'Player_Activity', 'Confidence': 0.931}, {'label': 'Dead', 'Confidence': 1.0}, {'label': 'Dead', 'Confidence': 1.0}, {'label': 'Player_Activity', 'Confidence': 1.0}, {'label': 'Player_Activity', 'Confidence': 1.0}, {'label': 'Player_Activity', 'Confidence': 1.0}, {'label': 'Non-dead', 'Confidence': 1.0}, {'label': 'Player_Activity', 'Confidence': 1.0}, {'label': 'Player_Activity', 'Confidence': 1.0}, {'label': 'Player_Activity', 'Confidence': 1.0}, {'label': 'Non-dead', 'Confidence': 1.0}, {'label': 'Player_Activity', 'Confidence': 1.0}, {'label': 'Player_Activity', 'Confidence': 0.905}]\n"
     ]
    },
    {
     "data": {
      "text/html": [
       "\n",
       "<style>\n",
       "    /* Turns off some styling */\n",
       "    progress {\n",
       "        /* gets rid of default border in Firefox and Opera. */\n",
       "        border: none;\n",
       "        /* Needs to be in here for Safari polyfill so background images work as expected. */\n",
       "        background-size: auto;\n",
       "    }\n",
       "    .progress-bar-interrupted, .progress-bar-interrupted::-webkit-progress-bar {\n",
       "        background: #F44336;\n",
       "    }\n",
       "</style>\n"
      ],
      "text/plain": [
       "<IPython.core.display.HTML object>"
      ]
     },
     "metadata": {},
     "output_type": "display_data"
    },
    {
     "data": {
      "text/html": [],
      "text/plain": [
       "<IPython.core.display.HTML object>"
      ]
     },
     "metadata": {},
     "output_type": "display_data"
    },
    {
     "name": "stdout",
     "output_type": "stream",
     "text": [
      "[{'label': 'Non-dead', 'Confidence': 0.736}, {'label': 'Non-dead', 'Confidence': 0.931}, {'label': 'Player_Activity', 'Confidence': 0.46}, {'label': 'Non-dead', 'Confidence': 0.653}, {'label': 'Non-dead', 'Confidence': 0.997}, {'label': 'Player_Activity', 'Confidence': 0.905}, {'label': 'Non-dead', 'Confidence': 1.0}, {'label': 'Non-dead', 'Confidence': 0.985}, {'label': 'Non-dead', 'Confidence': 1.0}, {'label': 'Non-dead', 'Confidence': 0.999}, {'label': 'Non-dead', 'Confidence': 0.976}, {'label': 'Dead', 'Confidence': 1.0}, {'label': 'Dead', 'Confidence': 1.0}, {'label': 'Dead', 'Confidence': 1.0}, {'label': 'Dead', 'Confidence': 0.561}, {'label': 'Non-dead', 'Confidence': 0.999}, {'label': 'Dead', 'Confidence': 1.0}, {'label': 'Dead', 'Confidence': 1.0}, {'label': 'Dead', 'Confidence': 1.0}, {'label': 'Dead', 'Confidence': 0.951}, {'label': 'Dead', 'Confidence': 0.995}, {'label': 'Dead', 'Confidence': 1.0}, {'label': 'Non-dead', 'Confidence': 0.993}, {'label': 'Dead', 'Confidence': 0.604}, {'label': 'Player_Activity', 'Confidence': 1.0}, {'label': 'Non-dead', 'Confidence': 0.999}, {'label': 'Non-dead', 'Confidence': 0.999}, {'label': 'Non-dead', 'Confidence': 0.969}, {'label': 'Non-dead', 'Confidence': 0.998}, {'label': 'Non-dead', 'Confidence': 1.0}, {'label': 'Non-dead', 'Confidence': 0.992}, {'label': 'Non-dead', 'Confidence': 0.999}, {'label': 'Dead', 'Confidence': 0.999}, {'label': 'Non-dead', 'Confidence': 0.865}, {'label': 'Dead', 'Confidence': 0.735}, {'label': 'Non-dead', 'Confidence': 0.999}, {'label': 'Dead', 'Confidence': 0.997}, {'label': 'Player_Activity', 'Confidence': 0.535}, {'label': 'Non-dead', 'Confidence': 0.967}, {'label': 'Player_Activity', 'Confidence': 0.996}, {'label': 'Non-dead', 'Confidence': 0.999}, {'label': 'Dead', 'Confidence': 1.0}, {'label': 'Player_Activity', 'Confidence': 1.0}, {'label': 'Dead', 'Confidence': 0.541}, {'label': 'Non-dead', 'Confidence': 0.852}, {'label': 'Player_Activity', 'Confidence': 0.999}, {'label': 'Dead', 'Confidence': 1.0}, {'label': 'Dead', 'Confidence': 1.0}, {'label': 'Dead', 'Confidence': 1.0}, {'label': 'Dead', 'Confidence': 0.996}, {'label': 'Player_Activity', 'Confidence': 0.931}, {'label': 'Dead', 'Confidence': 1.0}, {'label': 'Dead', 'Confidence': 1.0}, {'label': 'Player_Activity', 'Confidence': 1.0}, {'label': 'Player_Activity', 'Confidence': 1.0}, {'label': 'Player_Activity', 'Confidence': 1.0}, {'label': 'Non-dead', 'Confidence': 1.0}, {'label': 'Player_Activity', 'Confidence': 1.0}, {'label': 'Player_Activity', 'Confidence': 1.0}, {'label': 'Player_Activity', 'Confidence': 1.0}, {'label': 'Non-dead', 'Confidence': 1.0}, {'label': 'Player_Activity', 'Confidence': 1.0}, {'label': 'Player_Activity', 'Confidence': 0.905}, {'label': 'Dead', 'Confidence': 0.957}]\n"
     ]
    },
    {
     "data": {
      "text/html": [
       "\n",
       "<style>\n",
       "    /* Turns off some styling */\n",
       "    progress {\n",
       "        /* gets rid of default border in Firefox and Opera. */\n",
       "        border: none;\n",
       "        /* Needs to be in here for Safari polyfill so background images work as expected. */\n",
       "        background-size: auto;\n",
       "    }\n",
       "    .progress-bar-interrupted, .progress-bar-interrupted::-webkit-progress-bar {\n",
       "        background: #F44336;\n",
       "    }\n",
       "</style>\n"
      ],
      "text/plain": [
       "<IPython.core.display.HTML object>"
      ]
     },
     "metadata": {},
     "output_type": "display_data"
    },
    {
     "data": {
      "text/html": [],
      "text/plain": [
       "<IPython.core.display.HTML object>"
      ]
     },
     "metadata": {},
     "output_type": "display_data"
    },
    {
     "name": "stdout",
     "output_type": "stream",
     "text": [
      "[{'label': 'Non-dead', 'Confidence': 0.736}, {'label': 'Non-dead', 'Confidence': 0.931}, {'label': 'Player_Activity', 'Confidence': 0.46}, {'label': 'Non-dead', 'Confidence': 0.653}, {'label': 'Non-dead', 'Confidence': 0.997}, {'label': 'Player_Activity', 'Confidence': 0.905}, {'label': 'Non-dead', 'Confidence': 1.0}, {'label': 'Non-dead', 'Confidence': 0.985}, {'label': 'Non-dead', 'Confidence': 1.0}, {'label': 'Non-dead', 'Confidence': 0.999}, {'label': 'Non-dead', 'Confidence': 0.976}, {'label': 'Dead', 'Confidence': 1.0}, {'label': 'Dead', 'Confidence': 1.0}, {'label': 'Dead', 'Confidence': 1.0}, {'label': 'Dead', 'Confidence': 0.561}, {'label': 'Non-dead', 'Confidence': 0.999}, {'label': 'Dead', 'Confidence': 1.0}, {'label': 'Dead', 'Confidence': 1.0}, {'label': 'Dead', 'Confidence': 1.0}, {'label': 'Dead', 'Confidence': 0.951}, {'label': 'Dead', 'Confidence': 0.995}, {'label': 'Dead', 'Confidence': 1.0}, {'label': 'Non-dead', 'Confidence': 0.993}, {'label': 'Dead', 'Confidence': 0.604}, {'label': 'Player_Activity', 'Confidence': 1.0}, {'label': 'Non-dead', 'Confidence': 0.999}, {'label': 'Non-dead', 'Confidence': 0.999}, {'label': 'Non-dead', 'Confidence': 0.969}, {'label': 'Non-dead', 'Confidence': 0.998}, {'label': 'Non-dead', 'Confidence': 1.0}, {'label': 'Non-dead', 'Confidence': 0.992}, {'label': 'Non-dead', 'Confidence': 0.999}, {'label': 'Dead', 'Confidence': 0.999}, {'label': 'Non-dead', 'Confidence': 0.865}, {'label': 'Dead', 'Confidence': 0.735}, {'label': 'Non-dead', 'Confidence': 0.999}, {'label': 'Dead', 'Confidence': 0.997}, {'label': 'Player_Activity', 'Confidence': 0.535}, {'label': 'Non-dead', 'Confidence': 0.967}, {'label': 'Player_Activity', 'Confidence': 0.996}, {'label': 'Non-dead', 'Confidence': 0.999}, {'label': 'Dead', 'Confidence': 1.0}, {'label': 'Player_Activity', 'Confidence': 1.0}, {'label': 'Dead', 'Confidence': 0.541}, {'label': 'Non-dead', 'Confidence': 0.852}, {'label': 'Player_Activity', 'Confidence': 0.999}, {'label': 'Dead', 'Confidence': 1.0}, {'label': 'Dead', 'Confidence': 1.0}, {'label': 'Dead', 'Confidence': 1.0}, {'label': 'Dead', 'Confidence': 0.996}, {'label': 'Player_Activity', 'Confidence': 0.931}, {'label': 'Dead', 'Confidence': 1.0}, {'label': 'Dead', 'Confidence': 1.0}, {'label': 'Player_Activity', 'Confidence': 1.0}, {'label': 'Player_Activity', 'Confidence': 1.0}, {'label': 'Player_Activity', 'Confidence': 1.0}, {'label': 'Non-dead', 'Confidence': 1.0}, {'label': 'Player_Activity', 'Confidence': 1.0}, {'label': 'Player_Activity', 'Confidence': 1.0}, {'label': 'Player_Activity', 'Confidence': 1.0}, {'label': 'Non-dead', 'Confidence': 1.0}, {'label': 'Player_Activity', 'Confidence': 1.0}, {'label': 'Player_Activity', 'Confidence': 0.905}, {'label': 'Dead', 'Confidence': 0.957}, {'label': 'Dead', 'Confidence': 0.929}]\n"
     ]
    },
    {
     "data": {
      "text/html": [
       "\n",
       "<style>\n",
       "    /* Turns off some styling */\n",
       "    progress {\n",
       "        /* gets rid of default border in Firefox and Opera. */\n",
       "        border: none;\n",
       "        /* Needs to be in here for Safari polyfill so background images work as expected. */\n",
       "        background-size: auto;\n",
       "    }\n",
       "    .progress-bar-interrupted, .progress-bar-interrupted::-webkit-progress-bar {\n",
       "        background: #F44336;\n",
       "    }\n",
       "</style>\n"
      ],
      "text/plain": [
       "<IPython.core.display.HTML object>"
      ]
     },
     "metadata": {},
     "output_type": "display_data"
    },
    {
     "data": {
      "text/html": [],
      "text/plain": [
       "<IPython.core.display.HTML object>"
      ]
     },
     "metadata": {},
     "output_type": "display_data"
    },
    {
     "name": "stdout",
     "output_type": "stream",
     "text": [
      "[{'label': 'Non-dead', 'Confidence': 0.736}, {'label': 'Non-dead', 'Confidence': 0.931}, {'label': 'Player_Activity', 'Confidence': 0.46}, {'label': 'Non-dead', 'Confidence': 0.653}, {'label': 'Non-dead', 'Confidence': 0.997}, {'label': 'Player_Activity', 'Confidence': 0.905}, {'label': 'Non-dead', 'Confidence': 1.0}, {'label': 'Non-dead', 'Confidence': 0.985}, {'label': 'Non-dead', 'Confidence': 1.0}, {'label': 'Non-dead', 'Confidence': 0.999}, {'label': 'Non-dead', 'Confidence': 0.976}, {'label': 'Dead', 'Confidence': 1.0}, {'label': 'Dead', 'Confidence': 1.0}, {'label': 'Dead', 'Confidence': 1.0}, {'label': 'Dead', 'Confidence': 0.561}, {'label': 'Non-dead', 'Confidence': 0.999}, {'label': 'Dead', 'Confidence': 1.0}, {'label': 'Dead', 'Confidence': 1.0}, {'label': 'Dead', 'Confidence': 1.0}, {'label': 'Dead', 'Confidence': 0.951}, {'label': 'Dead', 'Confidence': 0.995}, {'label': 'Dead', 'Confidence': 1.0}, {'label': 'Non-dead', 'Confidence': 0.993}, {'label': 'Dead', 'Confidence': 0.604}, {'label': 'Player_Activity', 'Confidence': 1.0}, {'label': 'Non-dead', 'Confidence': 0.999}, {'label': 'Non-dead', 'Confidence': 0.999}, {'label': 'Non-dead', 'Confidence': 0.969}, {'label': 'Non-dead', 'Confidence': 0.998}, {'label': 'Non-dead', 'Confidence': 1.0}, {'label': 'Non-dead', 'Confidence': 0.992}, {'label': 'Non-dead', 'Confidence': 0.999}, {'label': 'Dead', 'Confidence': 0.999}, {'label': 'Non-dead', 'Confidence': 0.865}, {'label': 'Dead', 'Confidence': 0.735}, {'label': 'Non-dead', 'Confidence': 0.999}, {'label': 'Dead', 'Confidence': 0.997}, {'label': 'Player_Activity', 'Confidence': 0.535}, {'label': 'Non-dead', 'Confidence': 0.967}, {'label': 'Player_Activity', 'Confidence': 0.996}, {'label': 'Non-dead', 'Confidence': 0.999}, {'label': 'Dead', 'Confidence': 1.0}, {'label': 'Player_Activity', 'Confidence': 1.0}, {'label': 'Dead', 'Confidence': 0.541}, {'label': 'Non-dead', 'Confidence': 0.852}, {'label': 'Player_Activity', 'Confidence': 0.999}, {'label': 'Dead', 'Confidence': 1.0}, {'label': 'Dead', 'Confidence': 1.0}, {'label': 'Dead', 'Confidence': 1.0}, {'label': 'Dead', 'Confidence': 0.996}, {'label': 'Player_Activity', 'Confidence': 0.931}, {'label': 'Dead', 'Confidence': 1.0}, {'label': 'Dead', 'Confidence': 1.0}, {'label': 'Player_Activity', 'Confidence': 1.0}, {'label': 'Player_Activity', 'Confidence': 1.0}, {'label': 'Player_Activity', 'Confidence': 1.0}, {'label': 'Non-dead', 'Confidence': 1.0}, {'label': 'Player_Activity', 'Confidence': 1.0}, {'label': 'Player_Activity', 'Confidence': 1.0}, {'label': 'Player_Activity', 'Confidence': 1.0}, {'label': 'Non-dead', 'Confidence': 1.0}, {'label': 'Player_Activity', 'Confidence': 1.0}, {'label': 'Player_Activity', 'Confidence': 0.905}, {'label': 'Dead', 'Confidence': 0.957}, {'label': 'Dead', 'Confidence': 0.929}, {'label': 'Dead', 'Confidence': 1.0}]\n"
     ]
    },
    {
     "data": {
      "text/html": [
       "\n",
       "<style>\n",
       "    /* Turns off some styling */\n",
       "    progress {\n",
       "        /* gets rid of default border in Firefox and Opera. */\n",
       "        border: none;\n",
       "        /* Needs to be in here for Safari polyfill so background images work as expected. */\n",
       "        background-size: auto;\n",
       "    }\n",
       "    .progress-bar-interrupted, .progress-bar-interrupted::-webkit-progress-bar {\n",
       "        background: #F44336;\n",
       "    }\n",
       "</style>\n"
      ],
      "text/plain": [
       "<IPython.core.display.HTML object>"
      ]
     },
     "metadata": {},
     "output_type": "display_data"
    },
    {
     "data": {
      "text/html": [],
      "text/plain": [
       "<IPython.core.display.HTML object>"
      ]
     },
     "metadata": {},
     "output_type": "display_data"
    },
    {
     "name": "stdout",
     "output_type": "stream",
     "text": [
      "[{'label': 'Non-dead', 'Confidence': 0.736}, {'label': 'Non-dead', 'Confidence': 0.931}, {'label': 'Player_Activity', 'Confidence': 0.46}, {'label': 'Non-dead', 'Confidence': 0.653}, {'label': 'Non-dead', 'Confidence': 0.997}, {'label': 'Player_Activity', 'Confidence': 0.905}, {'label': 'Non-dead', 'Confidence': 1.0}, {'label': 'Non-dead', 'Confidence': 0.985}, {'label': 'Non-dead', 'Confidence': 1.0}, {'label': 'Non-dead', 'Confidence': 0.999}, {'label': 'Non-dead', 'Confidence': 0.976}, {'label': 'Dead', 'Confidence': 1.0}, {'label': 'Dead', 'Confidence': 1.0}, {'label': 'Dead', 'Confidence': 1.0}, {'label': 'Dead', 'Confidence': 0.561}, {'label': 'Non-dead', 'Confidence': 0.999}, {'label': 'Dead', 'Confidence': 1.0}, {'label': 'Dead', 'Confidence': 1.0}, {'label': 'Dead', 'Confidence': 1.0}, {'label': 'Dead', 'Confidence': 0.951}, {'label': 'Dead', 'Confidence': 0.995}, {'label': 'Dead', 'Confidence': 1.0}, {'label': 'Non-dead', 'Confidence': 0.993}, {'label': 'Dead', 'Confidence': 0.604}, {'label': 'Player_Activity', 'Confidence': 1.0}, {'label': 'Non-dead', 'Confidence': 0.999}, {'label': 'Non-dead', 'Confidence': 0.999}, {'label': 'Non-dead', 'Confidence': 0.969}, {'label': 'Non-dead', 'Confidence': 0.998}, {'label': 'Non-dead', 'Confidence': 1.0}, {'label': 'Non-dead', 'Confidence': 0.992}, {'label': 'Non-dead', 'Confidence': 0.999}, {'label': 'Dead', 'Confidence': 0.999}, {'label': 'Non-dead', 'Confidence': 0.865}, {'label': 'Dead', 'Confidence': 0.735}, {'label': 'Non-dead', 'Confidence': 0.999}, {'label': 'Dead', 'Confidence': 0.997}, {'label': 'Player_Activity', 'Confidence': 0.535}, {'label': 'Non-dead', 'Confidence': 0.967}, {'label': 'Player_Activity', 'Confidence': 0.996}, {'label': 'Non-dead', 'Confidence': 0.999}, {'label': 'Dead', 'Confidence': 1.0}, {'label': 'Player_Activity', 'Confidence': 1.0}, {'label': 'Dead', 'Confidence': 0.541}, {'label': 'Non-dead', 'Confidence': 0.852}, {'label': 'Player_Activity', 'Confidence': 0.999}, {'label': 'Dead', 'Confidence': 1.0}, {'label': 'Dead', 'Confidence': 1.0}, {'label': 'Dead', 'Confidence': 1.0}, {'label': 'Dead', 'Confidence': 0.996}, {'label': 'Player_Activity', 'Confidence': 0.931}, {'label': 'Dead', 'Confidence': 1.0}, {'label': 'Dead', 'Confidence': 1.0}, {'label': 'Player_Activity', 'Confidence': 1.0}, {'label': 'Player_Activity', 'Confidence': 1.0}, {'label': 'Player_Activity', 'Confidence': 1.0}, {'label': 'Non-dead', 'Confidence': 1.0}, {'label': 'Player_Activity', 'Confidence': 1.0}, {'label': 'Player_Activity', 'Confidence': 1.0}, {'label': 'Player_Activity', 'Confidence': 1.0}, {'label': 'Non-dead', 'Confidence': 1.0}, {'label': 'Player_Activity', 'Confidence': 1.0}, {'label': 'Player_Activity', 'Confidence': 0.905}, {'label': 'Dead', 'Confidence': 0.957}, {'label': 'Dead', 'Confidence': 0.929}, {'label': 'Dead', 'Confidence': 1.0}, {'label': 'Player_Activity', 'Confidence': 0.999}]\n"
     ]
    },
    {
     "data": {
      "text/html": [
       "\n",
       "<style>\n",
       "    /* Turns off some styling */\n",
       "    progress {\n",
       "        /* gets rid of default border in Firefox and Opera. */\n",
       "        border: none;\n",
       "        /* Needs to be in here for Safari polyfill so background images work as expected. */\n",
       "        background-size: auto;\n",
       "    }\n",
       "    .progress-bar-interrupted, .progress-bar-interrupted::-webkit-progress-bar {\n",
       "        background: #F44336;\n",
       "    }\n",
       "</style>\n"
      ],
      "text/plain": [
       "<IPython.core.display.HTML object>"
      ]
     },
     "metadata": {},
     "output_type": "display_data"
    },
    {
     "data": {
      "text/html": [],
      "text/plain": [
       "<IPython.core.display.HTML object>"
      ]
     },
     "metadata": {},
     "output_type": "display_data"
    },
    {
     "name": "stdout",
     "output_type": "stream",
     "text": [
      "[{'label': 'Non-dead', 'Confidence': 0.736}, {'label': 'Non-dead', 'Confidence': 0.931}, {'label': 'Player_Activity', 'Confidence': 0.46}, {'label': 'Non-dead', 'Confidence': 0.653}, {'label': 'Non-dead', 'Confidence': 0.997}, {'label': 'Player_Activity', 'Confidence': 0.905}, {'label': 'Non-dead', 'Confidence': 1.0}, {'label': 'Non-dead', 'Confidence': 0.985}, {'label': 'Non-dead', 'Confidence': 1.0}, {'label': 'Non-dead', 'Confidence': 0.999}, {'label': 'Non-dead', 'Confidence': 0.976}, {'label': 'Dead', 'Confidence': 1.0}, {'label': 'Dead', 'Confidence': 1.0}, {'label': 'Dead', 'Confidence': 1.0}, {'label': 'Dead', 'Confidence': 0.561}, {'label': 'Non-dead', 'Confidence': 0.999}, {'label': 'Dead', 'Confidence': 1.0}, {'label': 'Dead', 'Confidence': 1.0}, {'label': 'Dead', 'Confidence': 1.0}, {'label': 'Dead', 'Confidence': 0.951}, {'label': 'Dead', 'Confidence': 0.995}, {'label': 'Dead', 'Confidence': 1.0}, {'label': 'Non-dead', 'Confidence': 0.993}, {'label': 'Dead', 'Confidence': 0.604}, {'label': 'Player_Activity', 'Confidence': 1.0}, {'label': 'Non-dead', 'Confidence': 0.999}, {'label': 'Non-dead', 'Confidence': 0.999}, {'label': 'Non-dead', 'Confidence': 0.969}, {'label': 'Non-dead', 'Confidence': 0.998}, {'label': 'Non-dead', 'Confidence': 1.0}, {'label': 'Non-dead', 'Confidence': 0.992}, {'label': 'Non-dead', 'Confidence': 0.999}, {'label': 'Dead', 'Confidence': 0.999}, {'label': 'Non-dead', 'Confidence': 0.865}, {'label': 'Dead', 'Confidence': 0.735}, {'label': 'Non-dead', 'Confidence': 0.999}, {'label': 'Dead', 'Confidence': 0.997}, {'label': 'Player_Activity', 'Confidence': 0.535}, {'label': 'Non-dead', 'Confidence': 0.967}, {'label': 'Player_Activity', 'Confidence': 0.996}, {'label': 'Non-dead', 'Confidence': 0.999}, {'label': 'Dead', 'Confidence': 1.0}, {'label': 'Player_Activity', 'Confidence': 1.0}, {'label': 'Dead', 'Confidence': 0.541}, {'label': 'Non-dead', 'Confidence': 0.852}, {'label': 'Player_Activity', 'Confidence': 0.999}, {'label': 'Dead', 'Confidence': 1.0}, {'label': 'Dead', 'Confidence': 1.0}, {'label': 'Dead', 'Confidence': 1.0}, {'label': 'Dead', 'Confidence': 0.996}, {'label': 'Player_Activity', 'Confidence': 0.931}, {'label': 'Dead', 'Confidence': 1.0}, {'label': 'Dead', 'Confidence': 1.0}, {'label': 'Player_Activity', 'Confidence': 1.0}, {'label': 'Player_Activity', 'Confidence': 1.0}, {'label': 'Player_Activity', 'Confidence': 1.0}, {'label': 'Non-dead', 'Confidence': 1.0}, {'label': 'Player_Activity', 'Confidence': 1.0}, {'label': 'Player_Activity', 'Confidence': 1.0}, {'label': 'Player_Activity', 'Confidence': 1.0}, {'label': 'Non-dead', 'Confidence': 1.0}, {'label': 'Player_Activity', 'Confidence': 1.0}, {'label': 'Player_Activity', 'Confidence': 0.905}, {'label': 'Dead', 'Confidence': 0.957}, {'label': 'Dead', 'Confidence': 0.929}, {'label': 'Dead', 'Confidence': 1.0}, {'label': 'Player_Activity', 'Confidence': 0.999}, {'label': 'Non-dead', 'Confidence': 0.536}]\n"
     ]
    },
    {
     "data": {
      "text/html": [
       "\n",
       "<style>\n",
       "    /* Turns off some styling */\n",
       "    progress {\n",
       "        /* gets rid of default border in Firefox and Opera. */\n",
       "        border: none;\n",
       "        /* Needs to be in here for Safari polyfill so background images work as expected. */\n",
       "        background-size: auto;\n",
       "    }\n",
       "    .progress-bar-interrupted, .progress-bar-interrupted::-webkit-progress-bar {\n",
       "        background: #F44336;\n",
       "    }\n",
       "</style>\n"
      ],
      "text/plain": [
       "<IPython.core.display.HTML object>"
      ]
     },
     "metadata": {},
     "output_type": "display_data"
    },
    {
     "data": {
      "text/html": [],
      "text/plain": [
       "<IPython.core.display.HTML object>"
      ]
     },
     "metadata": {},
     "output_type": "display_data"
    },
    {
     "name": "stdout",
     "output_type": "stream",
     "text": [
      "[{'label': 'Non-dead', 'Confidence': 0.736}, {'label': 'Non-dead', 'Confidence': 0.931}, {'label': 'Player_Activity', 'Confidence': 0.46}, {'label': 'Non-dead', 'Confidence': 0.653}, {'label': 'Non-dead', 'Confidence': 0.997}, {'label': 'Player_Activity', 'Confidence': 0.905}, {'label': 'Non-dead', 'Confidence': 1.0}, {'label': 'Non-dead', 'Confidence': 0.985}, {'label': 'Non-dead', 'Confidence': 1.0}, {'label': 'Non-dead', 'Confidence': 0.999}, {'label': 'Non-dead', 'Confidence': 0.976}, {'label': 'Dead', 'Confidence': 1.0}, {'label': 'Dead', 'Confidence': 1.0}, {'label': 'Dead', 'Confidence': 1.0}, {'label': 'Dead', 'Confidence': 0.561}, {'label': 'Non-dead', 'Confidence': 0.999}, {'label': 'Dead', 'Confidence': 1.0}, {'label': 'Dead', 'Confidence': 1.0}, {'label': 'Dead', 'Confidence': 1.0}, {'label': 'Dead', 'Confidence': 0.951}, {'label': 'Dead', 'Confidence': 0.995}, {'label': 'Dead', 'Confidence': 1.0}, {'label': 'Non-dead', 'Confidence': 0.993}, {'label': 'Dead', 'Confidence': 0.604}, {'label': 'Player_Activity', 'Confidence': 1.0}, {'label': 'Non-dead', 'Confidence': 0.999}, {'label': 'Non-dead', 'Confidence': 0.999}, {'label': 'Non-dead', 'Confidence': 0.969}, {'label': 'Non-dead', 'Confidence': 0.998}, {'label': 'Non-dead', 'Confidence': 1.0}, {'label': 'Non-dead', 'Confidence': 0.992}, {'label': 'Non-dead', 'Confidence': 0.999}, {'label': 'Dead', 'Confidence': 0.999}, {'label': 'Non-dead', 'Confidence': 0.865}, {'label': 'Dead', 'Confidence': 0.735}, {'label': 'Non-dead', 'Confidence': 0.999}, {'label': 'Dead', 'Confidence': 0.997}, {'label': 'Player_Activity', 'Confidence': 0.535}, {'label': 'Non-dead', 'Confidence': 0.967}, {'label': 'Player_Activity', 'Confidence': 0.996}, {'label': 'Non-dead', 'Confidence': 0.999}, {'label': 'Dead', 'Confidence': 1.0}, {'label': 'Player_Activity', 'Confidence': 1.0}, {'label': 'Dead', 'Confidence': 0.541}, {'label': 'Non-dead', 'Confidence': 0.852}, {'label': 'Player_Activity', 'Confidence': 0.999}, {'label': 'Dead', 'Confidence': 1.0}, {'label': 'Dead', 'Confidence': 1.0}, {'label': 'Dead', 'Confidence': 1.0}, {'label': 'Dead', 'Confidence': 0.996}, {'label': 'Player_Activity', 'Confidence': 0.931}, {'label': 'Dead', 'Confidence': 1.0}, {'label': 'Dead', 'Confidence': 1.0}, {'label': 'Player_Activity', 'Confidence': 1.0}, {'label': 'Player_Activity', 'Confidence': 1.0}, {'label': 'Player_Activity', 'Confidence': 1.0}, {'label': 'Non-dead', 'Confidence': 1.0}, {'label': 'Player_Activity', 'Confidence': 1.0}, {'label': 'Player_Activity', 'Confidence': 1.0}, {'label': 'Player_Activity', 'Confidence': 1.0}, {'label': 'Non-dead', 'Confidence': 1.0}, {'label': 'Player_Activity', 'Confidence': 1.0}, {'label': 'Player_Activity', 'Confidence': 0.905}, {'label': 'Dead', 'Confidence': 0.957}, {'label': 'Dead', 'Confidence': 0.929}, {'label': 'Dead', 'Confidence': 1.0}, {'label': 'Player_Activity', 'Confidence': 0.999}, {'label': 'Non-dead', 'Confidence': 0.536}, {'label': 'Player_Activity', 'Confidence': 1.0}]\n"
     ]
    },
    {
     "data": {
      "text/html": [
       "\n",
       "<style>\n",
       "    /* Turns off some styling */\n",
       "    progress {\n",
       "        /* gets rid of default border in Firefox and Opera. */\n",
       "        border: none;\n",
       "        /* Needs to be in here for Safari polyfill so background images work as expected. */\n",
       "        background-size: auto;\n",
       "    }\n",
       "    .progress-bar-interrupted, .progress-bar-interrupted::-webkit-progress-bar {\n",
       "        background: #F44336;\n",
       "    }\n",
       "</style>\n"
      ],
      "text/plain": [
       "<IPython.core.display.HTML object>"
      ]
     },
     "metadata": {},
     "output_type": "display_data"
    },
    {
     "data": {
      "text/html": [],
      "text/plain": [
       "<IPython.core.display.HTML object>"
      ]
     },
     "metadata": {},
     "output_type": "display_data"
    },
    {
     "name": "stdout",
     "output_type": "stream",
     "text": [
      "[{'label': 'Non-dead', 'Confidence': 0.736}, {'label': 'Non-dead', 'Confidence': 0.931}, {'label': 'Player_Activity', 'Confidence': 0.46}, {'label': 'Non-dead', 'Confidence': 0.653}, {'label': 'Non-dead', 'Confidence': 0.997}, {'label': 'Player_Activity', 'Confidence': 0.905}, {'label': 'Non-dead', 'Confidence': 1.0}, {'label': 'Non-dead', 'Confidence': 0.985}, {'label': 'Non-dead', 'Confidence': 1.0}, {'label': 'Non-dead', 'Confidence': 0.999}, {'label': 'Non-dead', 'Confidence': 0.976}, {'label': 'Dead', 'Confidence': 1.0}, {'label': 'Dead', 'Confidence': 1.0}, {'label': 'Dead', 'Confidence': 1.0}, {'label': 'Dead', 'Confidence': 0.561}, {'label': 'Non-dead', 'Confidence': 0.999}, {'label': 'Dead', 'Confidence': 1.0}, {'label': 'Dead', 'Confidence': 1.0}, {'label': 'Dead', 'Confidence': 1.0}, {'label': 'Dead', 'Confidence': 0.951}, {'label': 'Dead', 'Confidence': 0.995}, {'label': 'Dead', 'Confidence': 1.0}, {'label': 'Non-dead', 'Confidence': 0.993}, {'label': 'Dead', 'Confidence': 0.604}, {'label': 'Player_Activity', 'Confidence': 1.0}, {'label': 'Non-dead', 'Confidence': 0.999}, {'label': 'Non-dead', 'Confidence': 0.999}, {'label': 'Non-dead', 'Confidence': 0.969}, {'label': 'Non-dead', 'Confidence': 0.998}, {'label': 'Non-dead', 'Confidence': 1.0}, {'label': 'Non-dead', 'Confidence': 0.992}, {'label': 'Non-dead', 'Confidence': 0.999}, {'label': 'Dead', 'Confidence': 0.999}, {'label': 'Non-dead', 'Confidence': 0.865}, {'label': 'Dead', 'Confidence': 0.735}, {'label': 'Non-dead', 'Confidence': 0.999}, {'label': 'Dead', 'Confidence': 0.997}, {'label': 'Player_Activity', 'Confidence': 0.535}, {'label': 'Non-dead', 'Confidence': 0.967}, {'label': 'Player_Activity', 'Confidence': 0.996}, {'label': 'Non-dead', 'Confidence': 0.999}, {'label': 'Dead', 'Confidence': 1.0}, {'label': 'Player_Activity', 'Confidence': 1.0}, {'label': 'Dead', 'Confidence': 0.541}, {'label': 'Non-dead', 'Confidence': 0.852}, {'label': 'Player_Activity', 'Confidence': 0.999}, {'label': 'Dead', 'Confidence': 1.0}, {'label': 'Dead', 'Confidence': 1.0}, {'label': 'Dead', 'Confidence': 1.0}, {'label': 'Dead', 'Confidence': 0.996}, {'label': 'Player_Activity', 'Confidence': 0.931}, {'label': 'Dead', 'Confidence': 1.0}, {'label': 'Dead', 'Confidence': 1.0}, {'label': 'Player_Activity', 'Confidence': 1.0}, {'label': 'Player_Activity', 'Confidence': 1.0}, {'label': 'Player_Activity', 'Confidence': 1.0}, {'label': 'Non-dead', 'Confidence': 1.0}, {'label': 'Player_Activity', 'Confidence': 1.0}, {'label': 'Player_Activity', 'Confidence': 1.0}, {'label': 'Player_Activity', 'Confidence': 1.0}, {'label': 'Non-dead', 'Confidence': 1.0}, {'label': 'Player_Activity', 'Confidence': 1.0}, {'label': 'Player_Activity', 'Confidence': 0.905}, {'label': 'Dead', 'Confidence': 0.957}, {'label': 'Dead', 'Confidence': 0.929}, {'label': 'Dead', 'Confidence': 1.0}, {'label': 'Player_Activity', 'Confidence': 0.999}, {'label': 'Non-dead', 'Confidence': 0.536}, {'label': 'Player_Activity', 'Confidence': 1.0}, {'label': 'Player_Activity', 'Confidence': 0.983}]\n"
     ]
    },
    {
     "data": {
      "text/html": [
       "\n",
       "<style>\n",
       "    /* Turns off some styling */\n",
       "    progress {\n",
       "        /* gets rid of default border in Firefox and Opera. */\n",
       "        border: none;\n",
       "        /* Needs to be in here for Safari polyfill so background images work as expected. */\n",
       "        background-size: auto;\n",
       "    }\n",
       "    .progress-bar-interrupted, .progress-bar-interrupted::-webkit-progress-bar {\n",
       "        background: #F44336;\n",
       "    }\n",
       "</style>\n"
      ],
      "text/plain": [
       "<IPython.core.display.HTML object>"
      ]
     },
     "metadata": {},
     "output_type": "display_data"
    },
    {
     "data": {
      "text/html": [],
      "text/plain": [
       "<IPython.core.display.HTML object>"
      ]
     },
     "metadata": {},
     "output_type": "display_data"
    },
    {
     "name": "stdout",
     "output_type": "stream",
     "text": [
      "[{'label': 'Non-dead', 'Confidence': 0.736}, {'label': 'Non-dead', 'Confidence': 0.931}, {'label': 'Player_Activity', 'Confidence': 0.46}, {'label': 'Non-dead', 'Confidence': 0.653}, {'label': 'Non-dead', 'Confidence': 0.997}, {'label': 'Player_Activity', 'Confidence': 0.905}, {'label': 'Non-dead', 'Confidence': 1.0}, {'label': 'Non-dead', 'Confidence': 0.985}, {'label': 'Non-dead', 'Confidence': 1.0}, {'label': 'Non-dead', 'Confidence': 0.999}, {'label': 'Non-dead', 'Confidence': 0.976}, {'label': 'Dead', 'Confidence': 1.0}, {'label': 'Dead', 'Confidence': 1.0}, {'label': 'Dead', 'Confidence': 1.0}, {'label': 'Dead', 'Confidence': 0.561}, {'label': 'Non-dead', 'Confidence': 0.999}, {'label': 'Dead', 'Confidence': 1.0}, {'label': 'Dead', 'Confidence': 1.0}, {'label': 'Dead', 'Confidence': 1.0}, {'label': 'Dead', 'Confidence': 0.951}, {'label': 'Dead', 'Confidence': 0.995}, {'label': 'Dead', 'Confidence': 1.0}, {'label': 'Non-dead', 'Confidence': 0.993}, {'label': 'Dead', 'Confidence': 0.604}, {'label': 'Player_Activity', 'Confidence': 1.0}, {'label': 'Non-dead', 'Confidence': 0.999}, {'label': 'Non-dead', 'Confidence': 0.999}, {'label': 'Non-dead', 'Confidence': 0.969}, {'label': 'Non-dead', 'Confidence': 0.998}, {'label': 'Non-dead', 'Confidence': 1.0}, {'label': 'Non-dead', 'Confidence': 0.992}, {'label': 'Non-dead', 'Confidence': 0.999}, {'label': 'Dead', 'Confidence': 0.999}, {'label': 'Non-dead', 'Confidence': 0.865}, {'label': 'Dead', 'Confidence': 0.735}, {'label': 'Non-dead', 'Confidence': 0.999}, {'label': 'Dead', 'Confidence': 0.997}, {'label': 'Player_Activity', 'Confidence': 0.535}, {'label': 'Non-dead', 'Confidence': 0.967}, {'label': 'Player_Activity', 'Confidence': 0.996}, {'label': 'Non-dead', 'Confidence': 0.999}, {'label': 'Dead', 'Confidence': 1.0}, {'label': 'Player_Activity', 'Confidence': 1.0}, {'label': 'Dead', 'Confidence': 0.541}, {'label': 'Non-dead', 'Confidence': 0.852}, {'label': 'Player_Activity', 'Confidence': 0.999}, {'label': 'Dead', 'Confidence': 1.0}, {'label': 'Dead', 'Confidence': 1.0}, {'label': 'Dead', 'Confidence': 1.0}, {'label': 'Dead', 'Confidence': 0.996}, {'label': 'Player_Activity', 'Confidence': 0.931}, {'label': 'Dead', 'Confidence': 1.0}, {'label': 'Dead', 'Confidence': 1.0}, {'label': 'Player_Activity', 'Confidence': 1.0}, {'label': 'Player_Activity', 'Confidence': 1.0}, {'label': 'Player_Activity', 'Confidence': 1.0}, {'label': 'Non-dead', 'Confidence': 1.0}, {'label': 'Player_Activity', 'Confidence': 1.0}, {'label': 'Player_Activity', 'Confidence': 1.0}, {'label': 'Player_Activity', 'Confidence': 1.0}, {'label': 'Non-dead', 'Confidence': 1.0}, {'label': 'Player_Activity', 'Confidence': 1.0}, {'label': 'Player_Activity', 'Confidence': 0.905}, {'label': 'Dead', 'Confidence': 0.957}, {'label': 'Dead', 'Confidence': 0.929}, {'label': 'Dead', 'Confidence': 1.0}, {'label': 'Player_Activity', 'Confidence': 0.999}, {'label': 'Non-dead', 'Confidence': 0.536}, {'label': 'Player_Activity', 'Confidence': 1.0}, {'label': 'Player_Activity', 'Confidence': 0.983}, {'label': 'Player_Activity', 'Confidence': 1.0}]\n"
     ]
    },
    {
     "data": {
      "text/html": [
       "\n",
       "<style>\n",
       "    /* Turns off some styling */\n",
       "    progress {\n",
       "        /* gets rid of default border in Firefox and Opera. */\n",
       "        border: none;\n",
       "        /* Needs to be in here for Safari polyfill so background images work as expected. */\n",
       "        background-size: auto;\n",
       "    }\n",
       "    .progress-bar-interrupted, .progress-bar-interrupted::-webkit-progress-bar {\n",
       "        background: #F44336;\n",
       "    }\n",
       "</style>\n"
      ],
      "text/plain": [
       "<IPython.core.display.HTML object>"
      ]
     },
     "metadata": {},
     "output_type": "display_data"
    },
    {
     "data": {
      "text/html": [],
      "text/plain": [
       "<IPython.core.display.HTML object>"
      ]
     },
     "metadata": {},
     "output_type": "display_data"
    },
    {
     "name": "stdout",
     "output_type": "stream",
     "text": [
      "[{'label': 'Non-dead', 'Confidence': 0.736}, {'label': 'Non-dead', 'Confidence': 0.931}, {'label': 'Player_Activity', 'Confidence': 0.46}, {'label': 'Non-dead', 'Confidence': 0.653}, {'label': 'Non-dead', 'Confidence': 0.997}, {'label': 'Player_Activity', 'Confidence': 0.905}, {'label': 'Non-dead', 'Confidence': 1.0}, {'label': 'Non-dead', 'Confidence': 0.985}, {'label': 'Non-dead', 'Confidence': 1.0}, {'label': 'Non-dead', 'Confidence': 0.999}, {'label': 'Non-dead', 'Confidence': 0.976}, {'label': 'Dead', 'Confidence': 1.0}, {'label': 'Dead', 'Confidence': 1.0}, {'label': 'Dead', 'Confidence': 1.0}, {'label': 'Dead', 'Confidence': 0.561}, {'label': 'Non-dead', 'Confidence': 0.999}, {'label': 'Dead', 'Confidence': 1.0}, {'label': 'Dead', 'Confidence': 1.0}, {'label': 'Dead', 'Confidence': 1.0}, {'label': 'Dead', 'Confidence': 0.951}, {'label': 'Dead', 'Confidence': 0.995}, {'label': 'Dead', 'Confidence': 1.0}, {'label': 'Non-dead', 'Confidence': 0.993}, {'label': 'Dead', 'Confidence': 0.604}, {'label': 'Player_Activity', 'Confidence': 1.0}, {'label': 'Non-dead', 'Confidence': 0.999}, {'label': 'Non-dead', 'Confidence': 0.999}, {'label': 'Non-dead', 'Confidence': 0.969}, {'label': 'Non-dead', 'Confidence': 0.998}, {'label': 'Non-dead', 'Confidence': 1.0}, {'label': 'Non-dead', 'Confidence': 0.992}, {'label': 'Non-dead', 'Confidence': 0.999}, {'label': 'Dead', 'Confidence': 0.999}, {'label': 'Non-dead', 'Confidence': 0.865}, {'label': 'Dead', 'Confidence': 0.735}, {'label': 'Non-dead', 'Confidence': 0.999}, {'label': 'Dead', 'Confidence': 0.997}, {'label': 'Player_Activity', 'Confidence': 0.535}, {'label': 'Non-dead', 'Confidence': 0.967}, {'label': 'Player_Activity', 'Confidence': 0.996}, {'label': 'Non-dead', 'Confidence': 0.999}, {'label': 'Dead', 'Confidence': 1.0}, {'label': 'Player_Activity', 'Confidence': 1.0}, {'label': 'Dead', 'Confidence': 0.541}, {'label': 'Non-dead', 'Confidence': 0.852}, {'label': 'Player_Activity', 'Confidence': 0.999}, {'label': 'Dead', 'Confidence': 1.0}, {'label': 'Dead', 'Confidence': 1.0}, {'label': 'Dead', 'Confidence': 1.0}, {'label': 'Dead', 'Confidence': 0.996}, {'label': 'Player_Activity', 'Confidence': 0.931}, {'label': 'Dead', 'Confidence': 1.0}, {'label': 'Dead', 'Confidence': 1.0}, {'label': 'Player_Activity', 'Confidence': 1.0}, {'label': 'Player_Activity', 'Confidence': 1.0}, {'label': 'Player_Activity', 'Confidence': 1.0}, {'label': 'Non-dead', 'Confidence': 1.0}, {'label': 'Player_Activity', 'Confidence': 1.0}, {'label': 'Player_Activity', 'Confidence': 1.0}, {'label': 'Player_Activity', 'Confidence': 1.0}, {'label': 'Non-dead', 'Confidence': 1.0}, {'label': 'Player_Activity', 'Confidence': 1.0}, {'label': 'Player_Activity', 'Confidence': 0.905}, {'label': 'Dead', 'Confidence': 0.957}, {'label': 'Dead', 'Confidence': 0.929}, {'label': 'Dead', 'Confidence': 1.0}, {'label': 'Player_Activity', 'Confidence': 0.999}, {'label': 'Non-dead', 'Confidence': 0.536}, {'label': 'Player_Activity', 'Confidence': 1.0}, {'label': 'Player_Activity', 'Confidence': 0.983}, {'label': 'Player_Activity', 'Confidence': 1.0}, {'label': 'Player_Activity', 'Confidence': 1.0}]\n"
     ]
    },
    {
     "data": {
      "text/html": [
       "\n",
       "<style>\n",
       "    /* Turns off some styling */\n",
       "    progress {\n",
       "        /* gets rid of default border in Firefox and Opera. */\n",
       "        border: none;\n",
       "        /* Needs to be in here for Safari polyfill so background images work as expected. */\n",
       "        background-size: auto;\n",
       "    }\n",
       "    .progress-bar-interrupted, .progress-bar-interrupted::-webkit-progress-bar {\n",
       "        background: #F44336;\n",
       "    }\n",
       "</style>\n"
      ],
      "text/plain": [
       "<IPython.core.display.HTML object>"
      ]
     },
     "metadata": {},
     "output_type": "display_data"
    },
    {
     "data": {
      "text/html": [],
      "text/plain": [
       "<IPython.core.display.HTML object>"
      ]
     },
     "metadata": {},
     "output_type": "display_data"
    },
    {
     "name": "stdout",
     "output_type": "stream",
     "text": [
      "[{'label': 'Non-dead', 'Confidence': 0.736}, {'label': 'Non-dead', 'Confidence': 0.931}, {'label': 'Player_Activity', 'Confidence': 0.46}, {'label': 'Non-dead', 'Confidence': 0.653}, {'label': 'Non-dead', 'Confidence': 0.997}, {'label': 'Player_Activity', 'Confidence': 0.905}, {'label': 'Non-dead', 'Confidence': 1.0}, {'label': 'Non-dead', 'Confidence': 0.985}, {'label': 'Non-dead', 'Confidence': 1.0}, {'label': 'Non-dead', 'Confidence': 0.999}, {'label': 'Non-dead', 'Confidence': 0.976}, {'label': 'Dead', 'Confidence': 1.0}, {'label': 'Dead', 'Confidence': 1.0}, {'label': 'Dead', 'Confidence': 1.0}, {'label': 'Dead', 'Confidence': 0.561}, {'label': 'Non-dead', 'Confidence': 0.999}, {'label': 'Dead', 'Confidence': 1.0}, {'label': 'Dead', 'Confidence': 1.0}, {'label': 'Dead', 'Confidence': 1.0}, {'label': 'Dead', 'Confidence': 0.951}, {'label': 'Dead', 'Confidence': 0.995}, {'label': 'Dead', 'Confidence': 1.0}, {'label': 'Non-dead', 'Confidence': 0.993}, {'label': 'Dead', 'Confidence': 0.604}, {'label': 'Player_Activity', 'Confidence': 1.0}, {'label': 'Non-dead', 'Confidence': 0.999}, {'label': 'Non-dead', 'Confidence': 0.999}, {'label': 'Non-dead', 'Confidence': 0.969}, {'label': 'Non-dead', 'Confidence': 0.998}, {'label': 'Non-dead', 'Confidence': 1.0}, {'label': 'Non-dead', 'Confidence': 0.992}, {'label': 'Non-dead', 'Confidence': 0.999}, {'label': 'Dead', 'Confidence': 0.999}, {'label': 'Non-dead', 'Confidence': 0.865}, {'label': 'Dead', 'Confidence': 0.735}, {'label': 'Non-dead', 'Confidence': 0.999}, {'label': 'Dead', 'Confidence': 0.997}, {'label': 'Player_Activity', 'Confidence': 0.535}, {'label': 'Non-dead', 'Confidence': 0.967}, {'label': 'Player_Activity', 'Confidence': 0.996}, {'label': 'Non-dead', 'Confidence': 0.999}, {'label': 'Dead', 'Confidence': 1.0}, {'label': 'Player_Activity', 'Confidence': 1.0}, {'label': 'Dead', 'Confidence': 0.541}, {'label': 'Non-dead', 'Confidence': 0.852}, {'label': 'Player_Activity', 'Confidence': 0.999}, {'label': 'Dead', 'Confidence': 1.0}, {'label': 'Dead', 'Confidence': 1.0}, {'label': 'Dead', 'Confidence': 1.0}, {'label': 'Dead', 'Confidence': 0.996}, {'label': 'Player_Activity', 'Confidence': 0.931}, {'label': 'Dead', 'Confidence': 1.0}, {'label': 'Dead', 'Confidence': 1.0}, {'label': 'Player_Activity', 'Confidence': 1.0}, {'label': 'Player_Activity', 'Confidence': 1.0}, {'label': 'Player_Activity', 'Confidence': 1.0}, {'label': 'Non-dead', 'Confidence': 1.0}, {'label': 'Player_Activity', 'Confidence': 1.0}, {'label': 'Player_Activity', 'Confidence': 1.0}, {'label': 'Player_Activity', 'Confidence': 1.0}, {'label': 'Non-dead', 'Confidence': 1.0}, {'label': 'Player_Activity', 'Confidence': 1.0}, {'label': 'Player_Activity', 'Confidence': 0.905}, {'label': 'Dead', 'Confidence': 0.957}, {'label': 'Dead', 'Confidence': 0.929}, {'label': 'Dead', 'Confidence': 1.0}, {'label': 'Player_Activity', 'Confidence': 0.999}, {'label': 'Non-dead', 'Confidence': 0.536}, {'label': 'Player_Activity', 'Confidence': 1.0}, {'label': 'Player_Activity', 'Confidence': 0.983}, {'label': 'Player_Activity', 'Confidence': 1.0}, {'label': 'Player_Activity', 'Confidence': 1.0}, {'label': 'Non-dead', 'Confidence': 0.974}]\n"
     ]
    },
    {
     "data": {
      "text/html": [
       "\n",
       "<style>\n",
       "    /* Turns off some styling */\n",
       "    progress {\n",
       "        /* gets rid of default border in Firefox and Opera. */\n",
       "        border: none;\n",
       "        /* Needs to be in here for Safari polyfill so background images work as expected. */\n",
       "        background-size: auto;\n",
       "    }\n",
       "    .progress-bar-interrupted, .progress-bar-interrupted::-webkit-progress-bar {\n",
       "        background: #F44336;\n",
       "    }\n",
       "</style>\n"
      ],
      "text/plain": [
       "<IPython.core.display.HTML object>"
      ]
     },
     "metadata": {},
     "output_type": "display_data"
    },
    {
     "data": {
      "text/html": [],
      "text/plain": [
       "<IPython.core.display.HTML object>"
      ]
     },
     "metadata": {},
     "output_type": "display_data"
    },
    {
     "name": "stdout",
     "output_type": "stream",
     "text": [
      "[{'label': 'Non-dead', 'Confidence': 0.736}, {'label': 'Non-dead', 'Confidence': 0.931}, {'label': 'Player_Activity', 'Confidence': 0.46}, {'label': 'Non-dead', 'Confidence': 0.653}, {'label': 'Non-dead', 'Confidence': 0.997}, {'label': 'Player_Activity', 'Confidence': 0.905}, {'label': 'Non-dead', 'Confidence': 1.0}, {'label': 'Non-dead', 'Confidence': 0.985}, {'label': 'Non-dead', 'Confidence': 1.0}, {'label': 'Non-dead', 'Confidence': 0.999}, {'label': 'Non-dead', 'Confidence': 0.976}, {'label': 'Dead', 'Confidence': 1.0}, {'label': 'Dead', 'Confidence': 1.0}, {'label': 'Dead', 'Confidence': 1.0}, {'label': 'Dead', 'Confidence': 0.561}, {'label': 'Non-dead', 'Confidence': 0.999}, {'label': 'Dead', 'Confidence': 1.0}, {'label': 'Dead', 'Confidence': 1.0}, {'label': 'Dead', 'Confidence': 1.0}, {'label': 'Dead', 'Confidence': 0.951}, {'label': 'Dead', 'Confidence': 0.995}, {'label': 'Dead', 'Confidence': 1.0}, {'label': 'Non-dead', 'Confidence': 0.993}, {'label': 'Dead', 'Confidence': 0.604}, {'label': 'Player_Activity', 'Confidence': 1.0}, {'label': 'Non-dead', 'Confidence': 0.999}, {'label': 'Non-dead', 'Confidence': 0.999}, {'label': 'Non-dead', 'Confidence': 0.969}, {'label': 'Non-dead', 'Confidence': 0.998}, {'label': 'Non-dead', 'Confidence': 1.0}, {'label': 'Non-dead', 'Confidence': 0.992}, {'label': 'Non-dead', 'Confidence': 0.999}, {'label': 'Dead', 'Confidence': 0.999}, {'label': 'Non-dead', 'Confidence': 0.865}, {'label': 'Dead', 'Confidence': 0.735}, {'label': 'Non-dead', 'Confidence': 0.999}, {'label': 'Dead', 'Confidence': 0.997}, {'label': 'Player_Activity', 'Confidence': 0.535}, {'label': 'Non-dead', 'Confidence': 0.967}, {'label': 'Player_Activity', 'Confidence': 0.996}, {'label': 'Non-dead', 'Confidence': 0.999}, {'label': 'Dead', 'Confidence': 1.0}, {'label': 'Player_Activity', 'Confidence': 1.0}, {'label': 'Dead', 'Confidence': 0.541}, {'label': 'Non-dead', 'Confidence': 0.852}, {'label': 'Player_Activity', 'Confidence': 0.999}, {'label': 'Dead', 'Confidence': 1.0}, {'label': 'Dead', 'Confidence': 1.0}, {'label': 'Dead', 'Confidence': 1.0}, {'label': 'Dead', 'Confidence': 0.996}, {'label': 'Player_Activity', 'Confidence': 0.931}, {'label': 'Dead', 'Confidence': 1.0}, {'label': 'Dead', 'Confidence': 1.0}, {'label': 'Player_Activity', 'Confidence': 1.0}, {'label': 'Player_Activity', 'Confidence': 1.0}, {'label': 'Player_Activity', 'Confidence': 1.0}, {'label': 'Non-dead', 'Confidence': 1.0}, {'label': 'Player_Activity', 'Confidence': 1.0}, {'label': 'Player_Activity', 'Confidence': 1.0}, {'label': 'Player_Activity', 'Confidence': 1.0}, {'label': 'Non-dead', 'Confidence': 1.0}, {'label': 'Player_Activity', 'Confidence': 1.0}, {'label': 'Player_Activity', 'Confidence': 0.905}, {'label': 'Dead', 'Confidence': 0.957}, {'label': 'Dead', 'Confidence': 0.929}, {'label': 'Dead', 'Confidence': 1.0}, {'label': 'Player_Activity', 'Confidence': 0.999}, {'label': 'Non-dead', 'Confidence': 0.536}, {'label': 'Player_Activity', 'Confidence': 1.0}, {'label': 'Player_Activity', 'Confidence': 0.983}, {'label': 'Player_Activity', 'Confidence': 1.0}, {'label': 'Player_Activity', 'Confidence': 1.0}, {'label': 'Non-dead', 'Confidence': 0.974}, {'label': 'Dead', 'Confidence': 0.755}]\n"
     ]
    },
    {
     "data": {
      "text/html": [
       "\n",
       "<style>\n",
       "    /* Turns off some styling */\n",
       "    progress {\n",
       "        /* gets rid of default border in Firefox and Opera. */\n",
       "        border: none;\n",
       "        /* Needs to be in here for Safari polyfill so background images work as expected. */\n",
       "        background-size: auto;\n",
       "    }\n",
       "    .progress-bar-interrupted, .progress-bar-interrupted::-webkit-progress-bar {\n",
       "        background: #F44336;\n",
       "    }\n",
       "</style>\n"
      ],
      "text/plain": [
       "<IPython.core.display.HTML object>"
      ]
     },
     "metadata": {},
     "output_type": "display_data"
    },
    {
     "data": {
      "text/html": [
       "\n",
       "    <div>\n",
       "      <progress value='0' class='' max='1' style='width:300px; height:20px; vertical-align: middle;'></progress>\n",
       "      0.00% [0/1 00:00<00:00]\n",
       "    </div>\n",
       "    "
      ],
      "text/plain": [
       "<IPython.core.display.HTML object>"
      ]
     },
     "metadata": {},
     "output_type": "display_data"
    },
    {
     "ename": "KeyboardInterrupt",
     "evalue": "",
     "output_type": "error",
     "traceback": [
      "\u001b[0;31m---------------------------------------------------------------------------\u001b[0m",
      "\u001b[0;31mKeyboardInterrupt\u001b[0m                         Traceback (most recent call last)",
      "Input \u001b[0;32mIn [16]\u001b[0m, in \u001b[0;36m<cell line: 4>\u001b[0;34m()\u001b[0m\n\u001b[1;32m      6\u001b[0m path \u001b[38;5;241m=\u001b[39m i_path\u001b[38;5;241m.\u001b[39msplit(\u001b[38;5;124m'\u001b[39m\u001b[38;5;124m.\u001b[39m\u001b[38;5;124m'\u001b[39m)[\u001b[38;5;241m0\u001b[39m]\n\u001b[1;32m      7\u001b[0m model \u001b[38;5;241m=\u001b[39m load_learner(\u001b[38;5;124m'\u001b[39m\u001b[38;5;124mCnWNk1MHv7DxRB2.pkl\u001b[39m\u001b[38;5;124m'\u001b[39m,cpu\u001b[38;5;241m=\u001b[39mtrue)\n\u001b[0;32m----> 8\u001b[0m preds\u001b[38;5;241m=\u001b[39m\u001b[43mmodel\u001b[49m\u001b[38;5;241;43m.\u001b[39;49m\u001b[43mpredict\u001b[49m\u001b[43m(\u001b[49m\u001b[38;5;28;43mopen\u001b[39;49m\u001b[43m(\u001b[49m\u001b[43mi_path\u001b[49m\u001b[43m,\u001b[49m\u001b[43m \u001b[49m\u001b[38;5;124;43m'\u001b[39;49m\u001b[38;5;124;43mrb\u001b[39;49m\u001b[38;5;124;43m'\u001b[39;49m\u001b[43m)\u001b[49m\u001b[38;5;241;43m.\u001b[39;49m\u001b[43mread\u001b[49m\u001b[43m(\u001b[49m\u001b[43m)\u001b[49m\u001b[43m)\u001b[49m\n\u001b[1;32m      9\u001b[0m \u001b[38;5;66;03m#print(pred)\u001b[39;00m\n\u001b[1;32m     10\u001b[0m result\u001b[38;5;241m.\u001b[39mappend({\u001b[38;5;124m'\u001b[39m\u001b[38;5;124mlabel\u001b[39m\u001b[38;5;124m'\u001b[39m: \u001b[38;5;28mstr\u001b[39m(preds[\u001b[38;5;241m0\u001b[39m]), \u001b[38;5;124m'\u001b[39m\u001b[38;5;124mConfidence\u001b[39m\u001b[38;5;124m'\u001b[39m : \u001b[38;5;28mround\u001b[39m(\u001b[38;5;28mfloat\u001b[39m(preds[\u001b[38;5;241m2\u001b[39m][\u001b[38;5;28mint\u001b[39m(preds[\u001b[38;5;241m1\u001b[39m])]), \u001b[38;5;241m3\u001b[39m)})\n",
      "File \u001b[0;32m~/.local/lib/python3.8/site-packages/fastai/learner.py:303\u001b[0m, in \u001b[0;36mLearner.predict\u001b[0;34m(self, item, rm_type_tfms, with_input)\u001b[0m\n\u001b[1;32m    301\u001b[0m \u001b[38;5;28;01mdef\u001b[39;00m \u001b[38;5;21mpredict\u001b[39m(\u001b[38;5;28mself\u001b[39m, item, rm_type_tfms\u001b[38;5;241m=\u001b[39m\u001b[38;5;28;01mNone\u001b[39;00m, with_input\u001b[38;5;241m=\u001b[39m\u001b[38;5;28;01mFalse\u001b[39;00m):\n\u001b[1;32m    302\u001b[0m     dl \u001b[38;5;241m=\u001b[39m \u001b[38;5;28mself\u001b[39m\u001b[38;5;241m.\u001b[39mdls\u001b[38;5;241m.\u001b[39mtest_dl([item], rm_type_tfms\u001b[38;5;241m=\u001b[39mrm_type_tfms, num_workers\u001b[38;5;241m=\u001b[39m\u001b[38;5;241m0\u001b[39m)\n\u001b[0;32m--> 303\u001b[0m     inp,preds,_,dec_preds \u001b[38;5;241m=\u001b[39m \u001b[38;5;28;43mself\u001b[39;49m\u001b[38;5;241;43m.\u001b[39;49m\u001b[43mget_preds\u001b[49m\u001b[43m(\u001b[49m\u001b[43mdl\u001b[49m\u001b[38;5;241;43m=\u001b[39;49m\u001b[43mdl\u001b[49m\u001b[43m,\u001b[49m\u001b[43m \u001b[49m\u001b[43mwith_input\u001b[49m\u001b[38;5;241;43m=\u001b[39;49m\u001b[38;5;28;43;01mTrue\u001b[39;49;00m\u001b[43m,\u001b[49m\u001b[43m \u001b[49m\u001b[43mwith_decoded\u001b[49m\u001b[38;5;241;43m=\u001b[39;49m\u001b[38;5;28;43;01mTrue\u001b[39;49;00m\u001b[43m)\u001b[49m\n\u001b[1;32m    304\u001b[0m     i \u001b[38;5;241m=\u001b[39m \u001b[38;5;28mgetattr\u001b[39m(\u001b[38;5;28mself\u001b[39m\u001b[38;5;241m.\u001b[39mdls, \u001b[38;5;124m'\u001b[39m\u001b[38;5;124mn_inp\u001b[39m\u001b[38;5;124m'\u001b[39m, \u001b[38;5;241m-\u001b[39m\u001b[38;5;241m1\u001b[39m)\n\u001b[1;32m    305\u001b[0m     inp \u001b[38;5;241m=\u001b[39m (inp,) \u001b[38;5;28;01mif\u001b[39;00m i\u001b[38;5;241m==\u001b[39m\u001b[38;5;241m1\u001b[39m \u001b[38;5;28;01melse\u001b[39;00m tuplify(inp)\n",
      "File \u001b[0;32m~/.local/lib/python3.8/site-packages/fastai/learner.py:290\u001b[0m, in \u001b[0;36mLearner.get_preds\u001b[0;34m(self, ds_idx, dl, with_input, with_decoded, with_loss, act, inner, reorder, cbs, **kwargs)\u001b[0m\n\u001b[1;32m    288\u001b[0m \u001b[38;5;28;01mif\u001b[39;00m with_loss: ctx_mgrs\u001b[38;5;241m.\u001b[39mappend(\u001b[38;5;28mself\u001b[39m\u001b[38;5;241m.\u001b[39mloss_not_reduced())\n\u001b[1;32m    289\u001b[0m \u001b[38;5;28;01mwith\u001b[39;00m ContextManagers(ctx_mgrs):\n\u001b[0;32m--> 290\u001b[0m     \u001b[38;5;28;43mself\u001b[39;49m\u001b[38;5;241;43m.\u001b[39;49m\u001b[43m_do_epoch_validate\u001b[49m\u001b[43m(\u001b[49m\u001b[43mdl\u001b[49m\u001b[38;5;241;43m=\u001b[39;49m\u001b[43mdl\u001b[49m\u001b[43m)\u001b[49m\n\u001b[1;32m    291\u001b[0m     \u001b[38;5;28;01mif\u001b[39;00m act \u001b[38;5;129;01mis\u001b[39;00m \u001b[38;5;28;01mNone\u001b[39;00m: act \u001b[38;5;241m=\u001b[39m getcallable(\u001b[38;5;28mself\u001b[39m\u001b[38;5;241m.\u001b[39mloss_func, \u001b[38;5;124m'\u001b[39m\u001b[38;5;124mactivation\u001b[39m\u001b[38;5;124m'\u001b[39m)\n\u001b[1;32m    292\u001b[0m     res \u001b[38;5;241m=\u001b[39m cb\u001b[38;5;241m.\u001b[39mall_tensors()\n",
      "File \u001b[0;32m~/.local/lib/python3.8/site-packages/fastai/learner.py:236\u001b[0m, in \u001b[0;36mLearner._do_epoch_validate\u001b[0;34m(self, ds_idx, dl)\u001b[0m\n\u001b[1;32m    234\u001b[0m \u001b[38;5;28;01mif\u001b[39;00m dl \u001b[38;5;129;01mis\u001b[39;00m \u001b[38;5;28;01mNone\u001b[39;00m: dl \u001b[38;5;241m=\u001b[39m \u001b[38;5;28mself\u001b[39m\u001b[38;5;241m.\u001b[39mdls[ds_idx]\n\u001b[1;32m    235\u001b[0m \u001b[38;5;28mself\u001b[39m\u001b[38;5;241m.\u001b[39mdl \u001b[38;5;241m=\u001b[39m dl\n\u001b[0;32m--> 236\u001b[0m \u001b[38;5;28;01mwith\u001b[39;00m torch\u001b[38;5;241m.\u001b[39mno_grad(): \u001b[38;5;28;43mself\u001b[39;49m\u001b[38;5;241;43m.\u001b[39;49m\u001b[43m_with_events\u001b[49m\u001b[43m(\u001b[49m\u001b[38;5;28;43mself\u001b[39;49m\u001b[38;5;241;43m.\u001b[39;49m\u001b[43mall_batches\u001b[49m\u001b[43m,\u001b[49m\u001b[43m \u001b[49m\u001b[38;5;124;43m'\u001b[39;49m\u001b[38;5;124;43mvalidate\u001b[39;49m\u001b[38;5;124;43m'\u001b[39;49m\u001b[43m,\u001b[49m\u001b[43m \u001b[49m\u001b[43mCancelValidException\u001b[49m\u001b[43m)\u001b[49m\n",
      "File \u001b[0;32m~/.local/lib/python3.8/site-packages/fastai/learner.py:193\u001b[0m, in \u001b[0;36mLearner._with_events\u001b[0;34m(self, f, event_type, ex, final)\u001b[0m\n\u001b[1;32m    192\u001b[0m \u001b[38;5;28;01mdef\u001b[39;00m \u001b[38;5;21m_with_events\u001b[39m(\u001b[38;5;28mself\u001b[39m, f, event_type, ex, final\u001b[38;5;241m=\u001b[39mnoop):\n\u001b[0;32m--> 193\u001b[0m     \u001b[38;5;28;01mtry\u001b[39;00m: \u001b[38;5;28mself\u001b[39m(\u001b[38;5;124mf\u001b[39m\u001b[38;5;124m'\u001b[39m\u001b[38;5;124mbefore_\u001b[39m\u001b[38;5;132;01m{\u001b[39;00mevent_type\u001b[38;5;132;01m}\u001b[39;00m\u001b[38;5;124m'\u001b[39m);  \u001b[43mf\u001b[49m\u001b[43m(\u001b[49m\u001b[43m)\u001b[49m\n\u001b[1;32m    194\u001b[0m     \u001b[38;5;28;01mexcept\u001b[39;00m ex: \u001b[38;5;28mself\u001b[39m(\u001b[38;5;124mf\u001b[39m\u001b[38;5;124m'\u001b[39m\u001b[38;5;124mafter_cancel_\u001b[39m\u001b[38;5;132;01m{\u001b[39;00mevent_type\u001b[38;5;132;01m}\u001b[39;00m\u001b[38;5;124m'\u001b[39m)\n\u001b[1;32m    195\u001b[0m     \u001b[38;5;28mself\u001b[39m(\u001b[38;5;124mf\u001b[39m\u001b[38;5;124m'\u001b[39m\u001b[38;5;124mafter_\u001b[39m\u001b[38;5;132;01m{\u001b[39;00mevent_type\u001b[38;5;132;01m}\u001b[39;00m\u001b[38;5;124m'\u001b[39m);  final()\n",
      "File \u001b[0;32m~/.local/lib/python3.8/site-packages/fastai/learner.py:199\u001b[0m, in \u001b[0;36mLearner.all_batches\u001b[0;34m(self)\u001b[0m\n\u001b[1;32m    197\u001b[0m \u001b[38;5;28;01mdef\u001b[39;00m \u001b[38;5;21mall_batches\u001b[39m(\u001b[38;5;28mself\u001b[39m):\n\u001b[1;32m    198\u001b[0m     \u001b[38;5;28mself\u001b[39m\u001b[38;5;241m.\u001b[39mn_iter \u001b[38;5;241m=\u001b[39m \u001b[38;5;28mlen\u001b[39m(\u001b[38;5;28mself\u001b[39m\u001b[38;5;241m.\u001b[39mdl)\n\u001b[0;32m--> 199\u001b[0m     \u001b[38;5;28;01mfor\u001b[39;00m o \u001b[38;5;129;01min\u001b[39;00m \u001b[38;5;28menumerate\u001b[39m(\u001b[38;5;28mself\u001b[39m\u001b[38;5;241m.\u001b[39mdl): \u001b[38;5;28mself\u001b[39m\u001b[38;5;241m.\u001b[39mone_batch(\u001b[38;5;241m*\u001b[39mo)\n",
      "File \u001b[0;32m~/.local/lib/python3.8/site-packages/fastai/data/load.py:133\u001b[0m, in \u001b[0;36mDataLoader.__iter__\u001b[0;34m(self)\u001b[0m\n\u001b[1;32m    131\u001b[0m     \u001b[38;5;28;01mif\u001b[39;00m \u001b[38;5;28mself\u001b[39m\u001b[38;5;241m.\u001b[39mpin_memory \u001b[38;5;129;01mand\u001b[39;00m \u001b[38;5;28mtype\u001b[39m(b) \u001b[38;5;241m==\u001b[39m \u001b[38;5;28mlist\u001b[39m: b \u001b[38;5;241m=\u001b[39m \u001b[38;5;28mtuple\u001b[39m(b)\n\u001b[1;32m    132\u001b[0m     \u001b[38;5;28;01mif\u001b[39;00m \u001b[38;5;28mself\u001b[39m\u001b[38;5;241m.\u001b[39mdevice \u001b[38;5;129;01mis\u001b[39;00m \u001b[38;5;129;01mnot\u001b[39;00m \u001b[38;5;28;01mNone\u001b[39;00m: b \u001b[38;5;241m=\u001b[39m to_device(b, \u001b[38;5;28mself\u001b[39m\u001b[38;5;241m.\u001b[39mdevice)\n\u001b[0;32m--> 133\u001b[0m     \u001b[38;5;28;01myield\u001b[39;00m \u001b[38;5;28;43mself\u001b[39;49m\u001b[38;5;241;43m.\u001b[39;49m\u001b[43mafter_batch\u001b[49m\u001b[43m(\u001b[49m\u001b[43mb\u001b[49m\u001b[43m)\u001b[49m\n\u001b[1;32m    134\u001b[0m \u001b[38;5;28mself\u001b[39m\u001b[38;5;241m.\u001b[39mafter_iter()\n\u001b[1;32m    135\u001b[0m \u001b[38;5;28;01mif\u001b[39;00m \u001b[38;5;28mhasattr\u001b[39m(\u001b[38;5;28mself\u001b[39m, \u001b[38;5;124m'\u001b[39m\u001b[38;5;124mit\u001b[39m\u001b[38;5;124m'\u001b[39m): \u001b[38;5;28;01mdel\u001b[39;00m(\u001b[38;5;28mself\u001b[39m\u001b[38;5;241m.\u001b[39mit)\n",
      "File \u001b[0;32m~/.local/lib/python3.8/site-packages/fastcore/transform.py:208\u001b[0m, in \u001b[0;36mPipeline.__call__\u001b[0;34m(self, o)\u001b[0m\n\u001b[0;32m--> 208\u001b[0m \u001b[38;5;28;01mdef\u001b[39;00m \u001b[38;5;21m__call__\u001b[39m(\u001b[38;5;28mself\u001b[39m, o): \u001b[38;5;28;01mreturn\u001b[39;00m \u001b[43mcompose_tfms\u001b[49m\u001b[43m(\u001b[49m\u001b[43mo\u001b[49m\u001b[43m,\u001b[49m\u001b[43m \u001b[49m\u001b[43mtfms\u001b[49m\u001b[38;5;241;43m=\u001b[39;49m\u001b[38;5;28;43mself\u001b[39;49m\u001b[38;5;241;43m.\u001b[39;49m\u001b[43mfs\u001b[49m\u001b[43m,\u001b[49m\u001b[43m \u001b[49m\u001b[43msplit_idx\u001b[49m\u001b[38;5;241;43m=\u001b[39;49m\u001b[38;5;28;43mself\u001b[39;49m\u001b[38;5;241;43m.\u001b[39;49m\u001b[43msplit_idx\u001b[49m\u001b[43m)\u001b[49m\n",
      "File \u001b[0;32m~/.local/lib/python3.8/site-packages/fastcore/transform.py:158\u001b[0m, in \u001b[0;36mcompose_tfms\u001b[0;34m(x, tfms, is_enc, reverse, **kwargs)\u001b[0m\n\u001b[1;32m    156\u001b[0m \u001b[38;5;28;01mfor\u001b[39;00m f \u001b[38;5;129;01min\u001b[39;00m tfms:\n\u001b[1;32m    157\u001b[0m     \u001b[38;5;28;01mif\u001b[39;00m \u001b[38;5;129;01mnot\u001b[39;00m is_enc: f \u001b[38;5;241m=\u001b[39m f\u001b[38;5;241m.\u001b[39mdecode\n\u001b[0;32m--> 158\u001b[0m     x \u001b[38;5;241m=\u001b[39m \u001b[43mf\u001b[49m\u001b[43m(\u001b[49m\u001b[43mx\u001b[49m\u001b[43m,\u001b[49m\u001b[43m \u001b[49m\u001b[38;5;241;43m*\u001b[39;49m\u001b[38;5;241;43m*\u001b[39;49m\u001b[43mkwargs\u001b[49m\u001b[43m)\u001b[49m\n\u001b[1;32m    159\u001b[0m \u001b[38;5;28;01mreturn\u001b[39;00m x\n",
      "File \u001b[0;32m~/.local/lib/python3.8/site-packages/fastai/vision/augment.py:49\u001b[0m, in \u001b[0;36mRandTransform.__call__\u001b[0;34m(self, b, split_idx, **kwargs)\u001b[0m\n\u001b[1;32m     43\u001b[0m \u001b[38;5;28;01mdef\u001b[39;00m \u001b[38;5;21m__call__\u001b[39m(\u001b[38;5;28mself\u001b[39m, \n\u001b[1;32m     44\u001b[0m     b, \n\u001b[1;32m     45\u001b[0m     split_idx:\u001b[38;5;28mint\u001b[39m\u001b[38;5;241m=\u001b[39m\u001b[38;5;28;01mNone\u001b[39;00m, \u001b[38;5;66;03m# Index of the train/valid dataset\u001b[39;00m\n\u001b[1;32m     46\u001b[0m     \u001b[38;5;241m*\u001b[39m\u001b[38;5;241m*\u001b[39mkwargs\n\u001b[1;32m     47\u001b[0m ):\n\u001b[1;32m     48\u001b[0m     \u001b[38;5;28mself\u001b[39m\u001b[38;5;241m.\u001b[39mbefore_call(b, split_idx\u001b[38;5;241m=\u001b[39msplit_idx)\n\u001b[0;32m---> 49\u001b[0m     \u001b[38;5;28;01mreturn\u001b[39;00m \u001b[38;5;28;43msuper\u001b[39;49m\u001b[43m(\u001b[49m\u001b[43m)\u001b[49m\u001b[38;5;241;43m.\u001b[39;49m\u001b[38;5;21;43m__call__\u001b[39;49m\u001b[43m(\u001b[49m\u001b[43mb\u001b[49m\u001b[43m,\u001b[49m\u001b[43m \u001b[49m\u001b[43msplit_idx\u001b[49m\u001b[38;5;241;43m=\u001b[39;49m\u001b[43msplit_idx\u001b[49m\u001b[43m,\u001b[49m\u001b[43m \u001b[49m\u001b[38;5;241;43m*\u001b[39;49m\u001b[38;5;241;43m*\u001b[39;49m\u001b[43mkwargs\u001b[49m\u001b[43m)\u001b[49m \u001b[38;5;28;01mif\u001b[39;00m \u001b[38;5;28mself\u001b[39m\u001b[38;5;241m.\u001b[39mdo \u001b[38;5;28;01melse\u001b[39;00m b\n",
      "File \u001b[0;32m~/.local/lib/python3.8/site-packages/fastcore/transform.py:81\u001b[0m, in \u001b[0;36mTransform.__call__\u001b[0;34m(self, x, **kwargs)\u001b[0m\n\u001b[0;32m---> 81\u001b[0m \u001b[38;5;28;01mdef\u001b[39;00m \u001b[38;5;21m__call__\u001b[39m(\u001b[38;5;28mself\u001b[39m, x, \u001b[38;5;241m*\u001b[39m\u001b[38;5;241m*\u001b[39mkwargs): \u001b[38;5;28;01mreturn\u001b[39;00m \u001b[38;5;28;43mself\u001b[39;49m\u001b[38;5;241;43m.\u001b[39;49m\u001b[43m_call\u001b[49m\u001b[43m(\u001b[49m\u001b[38;5;124;43m'\u001b[39;49m\u001b[38;5;124;43mencodes\u001b[39;49m\u001b[38;5;124;43m'\u001b[39;49m\u001b[43m,\u001b[49m\u001b[43m \u001b[49m\u001b[43mx\u001b[49m\u001b[43m,\u001b[49m\u001b[43m \u001b[49m\u001b[38;5;241;43m*\u001b[39;49m\u001b[38;5;241;43m*\u001b[39;49m\u001b[43mkwargs\u001b[49m\u001b[43m)\u001b[49m\n",
      "File \u001b[0;32m~/.local/lib/python3.8/site-packages/fastcore/transform.py:91\u001b[0m, in \u001b[0;36mTransform._call\u001b[0;34m(self, fn, x, split_idx, **kwargs)\u001b[0m\n\u001b[1;32m     89\u001b[0m \u001b[38;5;28;01mdef\u001b[39;00m \u001b[38;5;21m_call\u001b[39m(\u001b[38;5;28mself\u001b[39m, fn, x, split_idx\u001b[38;5;241m=\u001b[39m\u001b[38;5;28;01mNone\u001b[39;00m, \u001b[38;5;241m*\u001b[39m\u001b[38;5;241m*\u001b[39mkwargs):\n\u001b[1;32m     90\u001b[0m     \u001b[38;5;28;01mif\u001b[39;00m split_idx\u001b[38;5;241m!=\u001b[39m\u001b[38;5;28mself\u001b[39m\u001b[38;5;241m.\u001b[39msplit_idx \u001b[38;5;129;01mand\u001b[39;00m \u001b[38;5;28mself\u001b[39m\u001b[38;5;241m.\u001b[39msplit_idx \u001b[38;5;129;01mis\u001b[39;00m \u001b[38;5;129;01mnot\u001b[39;00m \u001b[38;5;28;01mNone\u001b[39;00m: \u001b[38;5;28;01mreturn\u001b[39;00m x\n\u001b[0;32m---> 91\u001b[0m     \u001b[38;5;28;01mreturn\u001b[39;00m \u001b[38;5;28;43mself\u001b[39;49m\u001b[38;5;241;43m.\u001b[39;49m\u001b[43m_do_call\u001b[49m\u001b[43m(\u001b[49m\u001b[38;5;28;43mgetattr\u001b[39;49m\u001b[43m(\u001b[49m\u001b[38;5;28;43mself\u001b[39;49m\u001b[43m,\u001b[49m\u001b[43m \u001b[49m\u001b[43mfn\u001b[49m\u001b[43m)\u001b[49m\u001b[43m,\u001b[49m\u001b[43m \u001b[49m\u001b[43mx\u001b[49m\u001b[43m,\u001b[49m\u001b[43m \u001b[49m\u001b[38;5;241;43m*\u001b[39;49m\u001b[38;5;241;43m*\u001b[39;49m\u001b[43mkwargs\u001b[49m\u001b[43m)\u001b[49m\n",
      "File \u001b[0;32m~/.local/lib/python3.8/site-packages/fastcore/transform.py:98\u001b[0m, in \u001b[0;36mTransform._do_call\u001b[0;34m(self, f, x, **kwargs)\u001b[0m\n\u001b[1;32m     96\u001b[0m     ret \u001b[38;5;241m=\u001b[39m f\u001b[38;5;241m.\u001b[39mreturns(x) \u001b[38;5;28;01mif\u001b[39;00m \u001b[38;5;28mhasattr\u001b[39m(f,\u001b[38;5;124m'\u001b[39m\u001b[38;5;124mreturns\u001b[39m\u001b[38;5;124m'\u001b[39m) \u001b[38;5;28;01melse\u001b[39;00m \u001b[38;5;28;01mNone\u001b[39;00m\n\u001b[1;32m     97\u001b[0m     \u001b[38;5;28;01mreturn\u001b[39;00m retain_type(f(x, \u001b[38;5;241m*\u001b[39m\u001b[38;5;241m*\u001b[39mkwargs), x, ret)\n\u001b[0;32m---> 98\u001b[0m res \u001b[38;5;241m=\u001b[39m \u001b[38;5;28;43mtuple\u001b[39;49m\u001b[43m(\u001b[49m\u001b[38;5;28;43mself\u001b[39;49m\u001b[38;5;241;43m.\u001b[39;49m\u001b[43m_do_call\u001b[49m\u001b[43m(\u001b[49m\u001b[43mf\u001b[49m\u001b[43m,\u001b[49m\u001b[43m \u001b[49m\u001b[43mx_\u001b[49m\u001b[43m,\u001b[49m\u001b[43m \u001b[49m\u001b[38;5;241;43m*\u001b[39;49m\u001b[38;5;241;43m*\u001b[39;49m\u001b[43mkwargs\u001b[49m\u001b[43m)\u001b[49m\u001b[43m \u001b[49m\u001b[38;5;28;43;01mfor\u001b[39;49;00m\u001b[43m \u001b[49m\u001b[43mx_\u001b[49m\u001b[43m \u001b[49m\u001b[38;5;129;43;01min\u001b[39;49;00m\u001b[43m \u001b[49m\u001b[43mx\u001b[49m\u001b[43m)\u001b[49m\n\u001b[1;32m     99\u001b[0m \u001b[38;5;28;01mreturn\u001b[39;00m retain_type(res, x)\n",
      "File \u001b[0;32m~/.local/lib/python3.8/site-packages/fastcore/transform.py:98\u001b[0m, in \u001b[0;36m<genexpr>\u001b[0;34m(.0)\u001b[0m\n\u001b[1;32m     96\u001b[0m     ret \u001b[38;5;241m=\u001b[39m f\u001b[38;5;241m.\u001b[39mreturns(x) \u001b[38;5;28;01mif\u001b[39;00m \u001b[38;5;28mhasattr\u001b[39m(f,\u001b[38;5;124m'\u001b[39m\u001b[38;5;124mreturns\u001b[39m\u001b[38;5;124m'\u001b[39m) \u001b[38;5;28;01melse\u001b[39;00m \u001b[38;5;28;01mNone\u001b[39;00m\n\u001b[1;32m     97\u001b[0m     \u001b[38;5;28;01mreturn\u001b[39;00m retain_type(f(x, \u001b[38;5;241m*\u001b[39m\u001b[38;5;241m*\u001b[39mkwargs), x, ret)\n\u001b[0;32m---> 98\u001b[0m res \u001b[38;5;241m=\u001b[39m \u001b[38;5;28mtuple\u001b[39m(\u001b[38;5;28;43mself\u001b[39;49m\u001b[38;5;241;43m.\u001b[39;49m\u001b[43m_do_call\u001b[49m\u001b[43m(\u001b[49m\u001b[43mf\u001b[49m\u001b[43m,\u001b[49m\u001b[43m \u001b[49m\u001b[43mx_\u001b[49m\u001b[43m,\u001b[49m\u001b[43m \u001b[49m\u001b[38;5;241;43m*\u001b[39;49m\u001b[38;5;241;43m*\u001b[39;49m\u001b[43mkwargs\u001b[49m\u001b[43m)\u001b[49m \u001b[38;5;28;01mfor\u001b[39;00m x_ \u001b[38;5;129;01min\u001b[39;00m x)\n\u001b[1;32m     99\u001b[0m \u001b[38;5;28;01mreturn\u001b[39;00m retain_type(res, x)\n",
      "File \u001b[0;32m~/.local/lib/python3.8/site-packages/fastcore/transform.py:97\u001b[0m, in \u001b[0;36mTransform._do_call\u001b[0;34m(self, f, x, **kwargs)\u001b[0m\n\u001b[1;32m     95\u001b[0m     \u001b[38;5;28;01mif\u001b[39;00m f \u001b[38;5;129;01mis\u001b[39;00m \u001b[38;5;28;01mNone\u001b[39;00m: \u001b[38;5;28;01mreturn\u001b[39;00m x\n\u001b[1;32m     96\u001b[0m     ret \u001b[38;5;241m=\u001b[39m f\u001b[38;5;241m.\u001b[39mreturns(x) \u001b[38;5;28;01mif\u001b[39;00m \u001b[38;5;28mhasattr\u001b[39m(f,\u001b[38;5;124m'\u001b[39m\u001b[38;5;124mreturns\u001b[39m\u001b[38;5;124m'\u001b[39m) \u001b[38;5;28;01melse\u001b[39;00m \u001b[38;5;28;01mNone\u001b[39;00m\n\u001b[0;32m---> 97\u001b[0m     \u001b[38;5;28;01mreturn\u001b[39;00m retain_type(\u001b[43mf\u001b[49m\u001b[43m(\u001b[49m\u001b[43mx\u001b[49m\u001b[43m,\u001b[49m\u001b[43m \u001b[49m\u001b[38;5;241;43m*\u001b[39;49m\u001b[38;5;241;43m*\u001b[39;49m\u001b[43mkwargs\u001b[49m\u001b[43m)\u001b[49m, x, ret)\n\u001b[1;32m     98\u001b[0m res \u001b[38;5;241m=\u001b[39m \u001b[38;5;28mtuple\u001b[39m(\u001b[38;5;28mself\u001b[39m\u001b[38;5;241m.\u001b[39m_do_call(f, x_, \u001b[38;5;241m*\u001b[39m\u001b[38;5;241m*\u001b[39mkwargs) \u001b[38;5;28;01mfor\u001b[39;00m x_ \u001b[38;5;129;01min\u001b[39;00m x)\n\u001b[1;32m     99\u001b[0m \u001b[38;5;28;01mreturn\u001b[39;00m retain_type(res, x)\n",
      "File \u001b[0;32m~/.local/lib/python3.8/site-packages/fastcore/dispatch.py:120\u001b[0m, in \u001b[0;36mTypeDispatch.__call__\u001b[0;34m(self, *args, **kwargs)\u001b[0m\n\u001b[1;32m    118\u001b[0m \u001b[38;5;28;01melif\u001b[39;00m \u001b[38;5;28mself\u001b[39m\u001b[38;5;241m.\u001b[39minst \u001b[38;5;129;01mis\u001b[39;00m \u001b[38;5;129;01mnot\u001b[39;00m \u001b[38;5;28;01mNone\u001b[39;00m: f \u001b[38;5;241m=\u001b[39m MethodType(f, \u001b[38;5;28mself\u001b[39m\u001b[38;5;241m.\u001b[39minst)\n\u001b[1;32m    119\u001b[0m \u001b[38;5;28;01melif\u001b[39;00m \u001b[38;5;28mself\u001b[39m\u001b[38;5;241m.\u001b[39mowner \u001b[38;5;129;01mis\u001b[39;00m \u001b[38;5;129;01mnot\u001b[39;00m \u001b[38;5;28;01mNone\u001b[39;00m: f \u001b[38;5;241m=\u001b[39m MethodType(f, \u001b[38;5;28mself\u001b[39m\u001b[38;5;241m.\u001b[39mowner)\n\u001b[0;32m--> 120\u001b[0m \u001b[38;5;28;01mreturn\u001b[39;00m \u001b[43mf\u001b[49m\u001b[43m(\u001b[49m\u001b[38;5;241;43m*\u001b[39;49m\u001b[43margs\u001b[49m\u001b[43m,\u001b[49m\u001b[43m \u001b[49m\u001b[38;5;241;43m*\u001b[39;49m\u001b[38;5;241;43m*\u001b[39;49m\u001b[43mkwargs\u001b[49m\u001b[43m)\u001b[49m\n",
      "File \u001b[0;32m~/.local/lib/python3.8/site-packages/fastai/vision/augment.py:501\u001b[0m, in \u001b[0;36mAffineCoordTfm.encodes\u001b[0;34m(self, x)\u001b[0m\n\u001b[0;32m--> 501\u001b[0m \u001b[38;5;28;01mdef\u001b[39;00m \u001b[38;5;21mencodes\u001b[39m(\u001b[38;5;28mself\u001b[39m, x:TensorImage): \u001b[38;5;28;01mreturn\u001b[39;00m \u001b[38;5;28;43mself\u001b[39;49m\u001b[38;5;241;43m.\u001b[39;49m\u001b[43m_encode\u001b[49m\u001b[43m(\u001b[49m\u001b[43mx\u001b[49m\u001b[43m,\u001b[49m\u001b[43m \u001b[49m\u001b[38;5;28;43mself\u001b[39;49m\u001b[38;5;241;43m.\u001b[39;49m\u001b[43mmode\u001b[49m\u001b[43m)\u001b[49m\n",
      "File \u001b[0;32m~/.local/lib/python3.8/site-packages/fastai/vision/augment.py:499\u001b[0m, in \u001b[0;36mAffineCoordTfm._encode\u001b[0;34m(self, x, mode, reverse)\u001b[0m\n\u001b[1;32m    497\u001b[0m \u001b[38;5;28;01mdef\u001b[39;00m \u001b[38;5;21m_encode\u001b[39m(\u001b[38;5;28mself\u001b[39m, x, mode, reverse\u001b[38;5;241m=\u001b[39m\u001b[38;5;28;01mFalse\u001b[39;00m):\n\u001b[1;32m    498\u001b[0m     coord_func \u001b[38;5;241m=\u001b[39m \u001b[38;5;28;01mNone\u001b[39;00m \u001b[38;5;28;01mif\u001b[39;00m \u001b[38;5;28mlen\u001b[39m(\u001b[38;5;28mself\u001b[39m\u001b[38;5;241m.\u001b[39mcoord_fs)\u001b[38;5;241m==\u001b[39m\u001b[38;5;241m0\u001b[39m \u001b[38;5;129;01mor\u001b[39;00m \u001b[38;5;28mself\u001b[39m\u001b[38;5;241m.\u001b[39msplit_idx \u001b[38;5;28;01melse\u001b[39;00m partial(compose_tfms, tfms\u001b[38;5;241m=\u001b[39m\u001b[38;5;28mself\u001b[39m\u001b[38;5;241m.\u001b[39mcoord_fs, reverse\u001b[38;5;241m=\u001b[39mreverse)\n\u001b[0;32m--> 499\u001b[0m     \u001b[38;5;28;01mreturn\u001b[39;00m \u001b[43mx\u001b[49m\u001b[38;5;241;43m.\u001b[39;49m\u001b[43maffine_coord\u001b[49m\u001b[43m(\u001b[49m\u001b[38;5;28;43mself\u001b[39;49m\u001b[38;5;241;43m.\u001b[39;49m\u001b[43mmat\u001b[49m\u001b[43m,\u001b[49m\u001b[43m \u001b[49m\u001b[43mcoord_func\u001b[49m\u001b[43m,\u001b[49m\u001b[43m \u001b[49m\u001b[43msz\u001b[49m\u001b[38;5;241;43m=\u001b[39;49m\u001b[38;5;28;43mself\u001b[39;49m\u001b[38;5;241;43m.\u001b[39;49m\u001b[43msize\u001b[49m\u001b[43m,\u001b[49m\u001b[43m \u001b[49m\u001b[43mmode\u001b[49m\u001b[38;5;241;43m=\u001b[39;49m\u001b[43mmode\u001b[49m\u001b[43m,\u001b[49m\u001b[43m \u001b[49m\u001b[43mpad_mode\u001b[49m\u001b[38;5;241;43m=\u001b[39;49m\u001b[38;5;28;43mself\u001b[39;49m\u001b[38;5;241;43m.\u001b[39;49m\u001b[43mpad_mode\u001b[49m\u001b[43m,\u001b[49m\u001b[43m \u001b[49m\u001b[43malign_corners\u001b[49m\u001b[38;5;241;43m=\u001b[39;49m\u001b[38;5;28;43mself\u001b[39;49m\u001b[38;5;241;43m.\u001b[39;49m\u001b[43malign_corners\u001b[49m\u001b[43m)\u001b[49m\n",
      "File \u001b[0;32m~/.local/lib/python3.8/site-packages/fastai/vision/augment.py:391\u001b[0m, in \u001b[0;36maffine_coord\u001b[0;34m(x, mat, coord_tfm, sz, mode, pad_mode, align_corners)\u001b[0m\n\u001b[1;32m    389\u001b[0m coords \u001b[38;5;241m=\u001b[39m affine_grid(mat, x\u001b[38;5;241m.\u001b[39mshape[:\u001b[38;5;241m2\u001b[39m] \u001b[38;5;241m+\u001b[39m size, align_corners\u001b[38;5;241m=\u001b[39malign_corners)\n\u001b[1;32m    390\u001b[0m \u001b[38;5;28;01mif\u001b[39;00m coord_tfm \u001b[38;5;129;01mis\u001b[39;00m \u001b[38;5;129;01mnot\u001b[39;00m \u001b[38;5;28;01mNone\u001b[39;00m: coords \u001b[38;5;241m=\u001b[39m coord_tfm(coords)\n\u001b[0;32m--> 391\u001b[0m \u001b[38;5;28;01mreturn\u001b[39;00m \u001b[43mTensorImage\u001b[49m\u001b[43m(\u001b[49m\u001b[43m_grid_sample\u001b[49m\u001b[43m(\u001b[49m\u001b[43mx\u001b[49m\u001b[43m,\u001b[49m\u001b[43m \u001b[49m\u001b[43mcoords\u001b[49m\u001b[43m,\u001b[49m\u001b[43m \u001b[49m\u001b[43mmode\u001b[49m\u001b[38;5;241;43m=\u001b[39;49m\u001b[43mmode\u001b[49m\u001b[43m,\u001b[49m\u001b[43m \u001b[49m\u001b[43mpadding_mode\u001b[49m\u001b[38;5;241;43m=\u001b[39;49m\u001b[43mpad_mode\u001b[49m\u001b[43m,\u001b[49m\u001b[43m \u001b[49m\u001b[43malign_corners\u001b[49m\u001b[38;5;241;43m=\u001b[39;49m\u001b[43malign_corners\u001b[49m\u001b[43m)\u001b[49m\u001b[43m)\u001b[49m\n",
      "File \u001b[0;32m~/.local/lib/python3.8/site-packages/fastai/torch_core.py:353\u001b[0m, in \u001b[0;36mTensorBase.__new__\u001b[0;34m(cls, x, **kwargs)\u001b[0m\n\u001b[1;32m    352\u001b[0m \u001b[38;5;28;01mdef\u001b[39;00m \u001b[38;5;21m__new__\u001b[39m(\u001b[38;5;28mcls\u001b[39m, x, \u001b[38;5;241m*\u001b[39m\u001b[38;5;241m*\u001b[39mkwargs):\n\u001b[0;32m--> 353\u001b[0m     res \u001b[38;5;241m=\u001b[39m cast(\u001b[43mtensor\u001b[49m\u001b[43m(\u001b[49m\u001b[43mx\u001b[49m\u001b[43m)\u001b[49m, \u001b[38;5;28mcls\u001b[39m)\n\u001b[1;32m    354\u001b[0m     \u001b[38;5;28;01mfor\u001b[39;00m k,v \u001b[38;5;129;01min\u001b[39;00m kwargs\u001b[38;5;241m.\u001b[39mitems(): \u001b[38;5;28msetattr\u001b[39m(res, k, v)\n\u001b[1;32m    355\u001b[0m     \u001b[38;5;28;01mreturn\u001b[39;00m res\n",
      "File \u001b[0;32m~/.local/lib/python3.8/site-packages/fastai/torch_core.py:153\u001b[0m, in \u001b[0;36mtensor\u001b[0;34m(x, *rest, **kwargs)\u001b[0m\n\u001b[1;32m    145\u001b[0m     \u001b[38;5;66;03m# There was a Pytorch bug in dataloader using num_workers>0. Haven't confirmed if fixed\u001b[39;00m\n\u001b[1;32m    146\u001b[0m     \u001b[38;5;66;03m# if isinstance(x, (tuple,list)) and len(x)==0: return tensor(0)\u001b[39;00m\n\u001b[1;32m    147\u001b[0m     res \u001b[38;5;241m=\u001b[39m (x \u001b[38;5;28;01mif\u001b[39;00m \u001b[38;5;28misinstance\u001b[39m(x, Tensor)\n\u001b[1;32m    148\u001b[0m            \u001b[38;5;28;01melse\u001b[39;00m torch\u001b[38;5;241m.\u001b[39mtensor(x, \u001b[38;5;241m*\u001b[39m\u001b[38;5;241m*\u001b[39mkwargs) \u001b[38;5;28;01mif\u001b[39;00m \u001b[38;5;28misinstance\u001b[39m(x, (\u001b[38;5;28mtuple\u001b[39m,\u001b[38;5;28mlist\u001b[39m))\n\u001b[1;32m    149\u001b[0m            \u001b[38;5;28;01melse\u001b[39;00m _array2tensor(x) \u001b[38;5;28;01mif\u001b[39;00m \u001b[38;5;28misinstance\u001b[39m(x, ndarray)\n\u001b[1;32m    150\u001b[0m            \u001b[38;5;28;01melse\u001b[39;00m as_tensor(x\u001b[38;5;241m.\u001b[39mvalues, \u001b[38;5;241m*\u001b[39m\u001b[38;5;241m*\u001b[39mkwargs) \u001b[38;5;28;01mif\u001b[39;00m \u001b[38;5;28misinstance\u001b[39m(x, (pd\u001b[38;5;241m.\u001b[39mSeries, pd\u001b[38;5;241m.\u001b[39mDataFrame))\n\u001b[1;32m    151\u001b[0m \u001b[38;5;66;03m#            else as_tensor(array(x, **kwargs)) if hasattr(x, '__array__') or is_iter(x)\u001b[39;00m\n\u001b[1;32m    152\u001b[0m            \u001b[38;5;28;01melse\u001b[39;00m _array2tensor(array(x), \u001b[38;5;241m*\u001b[39m\u001b[38;5;241m*\u001b[39mkwargs))\n\u001b[0;32m--> 153\u001b[0m     \u001b[38;5;28;01mif\u001b[39;00m \u001b[43mres\u001b[49m\u001b[38;5;241;43m.\u001b[39;49m\u001b[43mdtype\u001b[49m \u001b[38;5;129;01mis\u001b[39;00m torch\u001b[38;5;241m.\u001b[39mfloat64: \u001b[38;5;28;01mreturn\u001b[39;00m res\u001b[38;5;241m.\u001b[39mfloat()\n\u001b[1;32m    154\u001b[0m     \u001b[38;5;28;01mreturn\u001b[39;00m res\n",
      "File \u001b[0;32m~/.local/lib/python3.8/site-packages/fastai/torch_core.py:376\u001b[0m, in \u001b[0;36mTensorBase.__torch_function__\u001b[0;34m(cls, func, types, args, kwargs)\u001b[0m\n\u001b[1;32m    374\u001b[0m \u001b[38;5;28;01mif\u001b[39;00m \u001b[38;5;28mcls\u001b[39m\u001b[38;5;241m.\u001b[39mdebug \u001b[38;5;129;01mand\u001b[39;00m func\u001b[38;5;241m.\u001b[39m\u001b[38;5;18m__name__\u001b[39m \u001b[38;5;129;01mnot\u001b[39;00m \u001b[38;5;129;01min\u001b[39;00m (\u001b[38;5;124m'\u001b[39m\u001b[38;5;124m__str__\u001b[39m\u001b[38;5;124m'\u001b[39m,\u001b[38;5;124m'\u001b[39m\u001b[38;5;124m__repr__\u001b[39m\u001b[38;5;124m'\u001b[39m): \u001b[38;5;28mprint\u001b[39m(func, types, args, kwargs)\n\u001b[1;32m    375\u001b[0m \u001b[38;5;28;01mif\u001b[39;00m _torch_handled(args, \u001b[38;5;28mcls\u001b[39m\u001b[38;5;241m.\u001b[39m_opt, func): types \u001b[38;5;241m=\u001b[39m (torch\u001b[38;5;241m.\u001b[39mTensor,)\n\u001b[0;32m--> 376\u001b[0m res \u001b[38;5;241m=\u001b[39m \u001b[38;5;28;43msuper\u001b[39;49m\u001b[43m(\u001b[49m\u001b[43m)\u001b[49m\u001b[38;5;241;43m.\u001b[39;49m\u001b[43m__torch_function__\u001b[49m\u001b[43m(\u001b[49m\u001b[43mfunc\u001b[49m\u001b[43m,\u001b[49m\u001b[43m \u001b[49m\u001b[43mtypes\u001b[49m\u001b[43m,\u001b[49m\u001b[43m \u001b[49m\u001b[43margs\u001b[49m\u001b[43m,\u001b[49m\u001b[43m \u001b[49m\u001b[43mifnone\u001b[49m\u001b[43m(\u001b[49m\u001b[43mkwargs\u001b[49m\u001b[43m,\u001b[49m\u001b[43m \u001b[49m\u001b[43m{\u001b[49m\u001b[43m}\u001b[49m\u001b[43m)\u001b[49m\u001b[43m)\u001b[49m\n\u001b[1;32m    377\u001b[0m dict_objs \u001b[38;5;241m=\u001b[39m _find_args(args) \u001b[38;5;28;01mif\u001b[39;00m args \u001b[38;5;28;01melse\u001b[39;00m _find_args(\u001b[38;5;28mlist\u001b[39m(kwargs\u001b[38;5;241m.\u001b[39mvalues()))\n\u001b[1;32m    378\u001b[0m \u001b[38;5;28;01mif\u001b[39;00m \u001b[38;5;28missubclass\u001b[39m(\u001b[38;5;28mtype\u001b[39m(res),TensorBase) \u001b[38;5;129;01mand\u001b[39;00m dict_objs: res\u001b[38;5;241m.\u001b[39mset_meta(dict_objs[\u001b[38;5;241m0\u001b[39m],as_copy\u001b[38;5;241m=\u001b[39m\u001b[38;5;28;01mTrue\u001b[39;00m)\n",
      "File \u001b[0;32m~/.local/lib/python3.8/site-packages/torch/_tensor.py:1019\u001b[0m, in \u001b[0;36mTensor.__torch_function__\u001b[0;34m(cls, func, types, args, kwargs)\u001b[0m\n\u001b[1;32m   1016\u001b[0m \u001b[38;5;28;01mif\u001b[39;00m kwargs \u001b[38;5;129;01mis\u001b[39;00m \u001b[38;5;28;01mNone\u001b[39;00m:\n\u001b[1;32m   1017\u001b[0m     kwargs \u001b[38;5;241m=\u001b[39m {}\n\u001b[0;32m-> 1019\u001b[0m \u001b[38;5;28;01mif\u001b[39;00m \u001b[38;5;129;01mnot\u001b[39;00m \u001b[38;5;28;43mall\u001b[39;49m\u001b[43m(\u001b[49m\u001b[38;5;28;43missubclass\u001b[39;49m\u001b[43m(\u001b[49m\u001b[38;5;28;43mcls\u001b[39;49m\u001b[43m,\u001b[49m\u001b[43m \u001b[49m\u001b[43mt\u001b[49m\u001b[43m)\u001b[49m\u001b[43m \u001b[49m\u001b[38;5;28;43;01mfor\u001b[39;49;00m\u001b[43m \u001b[49m\u001b[43mt\u001b[49m\u001b[43m \u001b[49m\u001b[38;5;129;43;01min\u001b[39;49;00m\u001b[43m \u001b[49m\u001b[43mtypes\u001b[49m\u001b[43m)\u001b[49m:\n\u001b[1;32m   1020\u001b[0m     \u001b[38;5;28;01mreturn\u001b[39;00m \u001b[38;5;28mNotImplemented\u001b[39m\n\u001b[1;32m   1022\u001b[0m \u001b[38;5;28;01mwith\u001b[39;00m _C\u001b[38;5;241m.\u001b[39mDisableTorchFunction():\n",
      "\u001b[0;31mKeyboardInterrupt\u001b[0m: "
     ]
    }
   ],
   "source": [
    "images = \"/home/link-lap-24/Downloads/football_cycle_testing/frames/\"\n",
    "im = sorted(glob.glob(images + \"*.*\"), key=os.path.getmtime)\n",
    "result = []\n",
    "for i_path in im:\n",
    "    frame = cv2.imread(i_path)\n",
    "    path = i_path.split('.')[0]\n",
    "    model = load_learner('CnWNk1MHv7DxRB2.pkl',cpu=true)\n",
    "    preds=model.predict(open(i_path, 'rb').read())\n",
    "    #print(pred)\n",
    "    result.append({'label': str(preds[0]), 'Confidence' : round(float(preds[2][int(preds[1])]), 3)})\n",
    "    print(result)\n",
    "            #else:\n",
    "             #   with model.no_bar(): preds = model.predict(open(image_path, 'rb').read())\n",
    "\n",
    "    "
   ]
  },
  {
   "cell_type": "code",
   "execution_count": 3,
   "id": "496a08bd",
   "metadata": {},
   "outputs": [],
   "source": [
    "model = load_learner('aPcYSr8yKxBmXB2.pkl',cpu=true)\n"
   ]
  },
  {
   "cell_type": "code",
   "execution_count": 4,
   "id": "7d2272ea",
   "metadata": {
    "scrolled": true
   },
   "outputs": [
    {
     "data": {
      "text/html": [
       "\n",
       "<style>\n",
       "    /* Turns off some styling */\n",
       "    progress {\n",
       "        /* gets rid of default border in Firefox and Opera. */\n",
       "        border: none;\n",
       "        /* Needs to be in here for Safari polyfill so background images work as expected. */\n",
       "        background-size: auto;\n",
       "    }\n",
       "    .progress-bar-interrupted, .progress-bar-interrupted::-webkit-progress-bar {\n",
       "        background: #F44336;\n",
       "    }\n",
       "</style>\n"
      ],
      "text/plain": [
       "<IPython.core.display.HTML object>"
      ]
     },
     "metadata": {},
     "output_type": "display_data"
    },
    {
     "data": {
      "text/html": [],
      "text/plain": [
       "<IPython.core.display.HTML object>"
      ]
     },
     "metadata": {},
     "output_type": "display_data"
    },
    {
     "name": "stderr",
     "output_type": "stream",
     "text": [
      "/home/link-lap-24/.local/lib/python3.8/site-packages/torch/nn/functional.py:718: UserWarning: Named tensors and all their associated APIs are an experimental feature and subject to change. Please do not use them for anything important until they are released as stable. (Triggered internally at  /pytorch/c10/core/TensorImpl.h:1156.)\n",
      "  return torch.max_pool2d(input, kernel_size, stride, padding, dilation, ceil_mode)\n"
     ]
    },
    {
     "name": "stdout",
     "output_type": "stream",
     "text": [
      "safe tensor(0.9925)\n"
     ]
    }
   ],
   "source": [
    "out=model.predict('/home/link-lap-24/Downloads/nudenet_model_testing/test1/n1_fr3/10.jpg')\n",
    "print(out[0],out[2][out[1]])"
   ]
  },
  {
   "cell_type": "code",
   "execution_count": 1,
   "id": "2db7bca0",
   "metadata": {},
   "outputs": [],
   "source": [
    "import os \n",
    "import uuid\n",
    "import glob\n",
    "import cv2"
   ]
  },
  {
   "cell_type": "code",
   "execution_count": null,
   "id": "f39fc10e",
   "metadata": {},
   "outputs": [],
   "source": [
    "finaldic = {}\n",
    "def hashvalue(images,fileName, finaldic):\n",
    "    images = images + '/*.jpg'\n",
    "    full_path = glob.glob(images)\n",
    "    dictionary={}    \n",
    "    for path in full_path:\n",
    "        folder_imges=path.split('/')[-1]\n",
    "        hashes= imagehash.average_hash(Image.open(path),16)\n",
    "        dictionary[folder_imges]=hashes\n",
    "    \n",
    "#     valueName = 'V'+ str(i)\n",
    "    finaldic[fileName] = dictionary\n",
    "    return True\n",
    "\n",
    "folder_prefix  = \"/home/link-lap-24/Downloads/golf_june7/projet/input_video/\"\n",
    "\n",
    "all_file = glob.glob(folder_prefix + \"*.mp4\")\n",
    "i = 0\n",
    "for file in all_file:\n",
    "    fileName = file.split('/')[-1]            #finaldic[fileName] = dictionary\n",
    "    ide = file.split(\"/\")[-1].split(\".\")[-1]\n",
    "    image_path=folder_prefix + ide + str(i)       \n",
    "    if not os.path.exists(image_path):\n",
    "        os.mkdir(image_path)\n",
    "    random = str(uuid.uuid4())\n",
    "    cmd  = \"ffmpeg -i {} -vf fps=5 {}/{}%d.jpg\".format(file,image_path,random)\n",
    "    os.system(cmd)\n",
    "    hashvalue(image_path, fileName , finaldic)\n",
    "    i= i+1\n",
    "print(finaldic,'test')"
   ]
  },
  {
   "cell_type": "code",
   "execution_count": 14,
   "id": "432fb304",
   "metadata": {},
   "outputs": [
    {
     "name": "stdout",
     "output_type": "stream",
     "text": [
      "{} test\n"
     ]
    }
   ],
   "source": [
    "finaldic = {}\n",
    "\n",
    "def testjson(images,fileName, finaldic):\n",
    "    images=images + \"/*.jpg\"\n",
    "    full_path=glob.glob(images)\n",
    "    model = load_learner('aPcYSr8yKxBmXB2.pkl',cpu=true)\n",
    "    dictionay={}\n",
    "    for path in full_path:\n",
    "        folder_imges=path.split('/')[-1]\n",
    "        out=model.predict(path)\n",
    "        pred=out[0],out[2][out[1]]\n",
    "        dictionay[folder_imges]=pred\n",
    "    \n",
    "    finaldic[fileName] = dictionary\n",
    "    return True\n",
    "    \n",
    "folder_prefix='/home/link-lap-24/Downloads/nudenet_model_testing/test_videso/'\n",
    "all_file=glob.glob(videos_path + \".mp4\")\n",
    "i=0\n",
    "for file in all_file:\n",
    "    filename=file.split('/')[-1]\n",
    "    ide=file.split('/')[-1].split('.')[-1]\n",
    "#     image_path=folder_prefix + ide + str(i)\n",
    "    if not os.path.exists(image_path):\n",
    "        os.mkdir(image_path)\n",
    "    random=str(uuid.uuid4())\n",
    "    cmd  = \"ffmpeg -i {} -vf fps=1 {}/{}%d.jpg\".format(video,image_path,random)\n",
    "    os.system(cmd)\n",
    "    testjson(image_path,filename,finaldic)\n",
    "print(finaldic,'test')"
   ]
  },
  {
   "cell_type": "code",
   "execution_count": 13,
   "id": "8dc0c9d3",
   "metadata": {},
   "outputs": [
    {
     "data": {
      "text/plain": [
       "'/home/link-lap-24/Downloads/nudenet_model_testing'"
      ]
     },
     "execution_count": 13,
     "metadata": {},
     "output_type": "execute_result"
    }
   ],
   "source": [
    "os.getcwd()"
   ]
  },
  {
   "cell_type": "code",
   "execution_count": 8,
   "id": "bd5b1f58",
   "metadata": {
    "scrolled": false
   },
   "outputs": [],
   "source": [
    "# folder_prefix='/home/link-lap-24/Downloads/nudenet_model_testing/test_videso/'\n",
    "# fold_vid=glob.glob(folder_prefix + \"*.mp4\")\n",
    "\n",
    "# datapaths = os.listdir(folder_prefix)\n",
    "# # datapaths = [i.split('.')[0] for i in datapaths]\n",
    "# datapaths\n",
    "\n",
    "# for i in datapaths:\n",
    "#     os.mkdir(f'{folder_prefix}/{i.split(\".\")[0]}')\n",
    "#     cmd  = f'ffmpeg -i {folder_prefix}/{i} -vf fps=1 {folder_prefix}/{i.split(\".\")[0]}/%d.jpg'\n",
    "#     os.system(cmd)\n",
    "\n"
   ]
  },
  {
   "cell_type": "code",
   "execution_count": null,
   "id": "343585bc",
   "metadata": {},
   "outputs": [],
   "source": [
    "/home/link-lap-24/Downloads/nudenet_model_testing/1.mp4/\n",
    "/home/link-lap-24/Downloads/nudenet_model_testing/test_videso/1/"
   ]
  },
  {
   "cell_type": "code",
   "execution_count": 12,
   "id": "b1f96bba",
   "metadata": {},
   "outputs": [],
   "source": [
    "img_path='/home/link-lap-24/Downloads/nudenet_model_testing/7.mp4/'\n",
    "\n",
    "im=glob.glob(img_path + \"*.jpg\")\n",
    "# print(im)\n",
    "# im=os.listdir(img_path)\n",
    "result=[]\n",
    "# jsonString = json.dumps(result)\n",
    "\n",
    "\n",
    "import numpy as np\n",
    "\n",
    "model = load_learner('aPcYSr8yKxBmXB2.pkl',cpu=true)\n",
    "\n",
    "result = {}\n",
    "\n",
    "for i in im:\n",
    "#     folder_imges=i.split('/')[-1]\n",
    "    out=model.predict(i)\n",
    "    label = out[0]\n",
    "    score = str(np.array(out[2][out[1]]))\n",
    "    print(type(score), score)\n",
    "\n",
    "    \n",
    "    \n",
    "    \n",
    "    img = i.split(\"/\")[-1]\n",
    "    result[img] = {}\n",
    "    result[img][\"label\"] = label\n",
    "    result[img][\"score\"] = score\n",
    "\n",
    "    \n",
    "print(result)\n",
    "with open(\"test.json\", \"w\") as file:\n",
    "    json.dump(result, file)\n",
    "    \n",
    "    \n",
    "    \n",
    "#     a=list(pred)\n",
    "# #     print(a)\n",
    "\n",
    "# jsonString = json.dumps(a)\n",
    "\n",
    "#     print(type(pred))\n",
    "#     result[im]=pred"
   ]
  },
  {
   "cell_type": "code",
   "execution_count": 62,
   "id": "ce3ac6de",
   "metadata": {},
   "outputs": [],
   "source": [
    "# imag_path='/home/link-lap-24/Downloads/nudenet_model_testing/7.mp4/'\n",
    "\n",
    "# fin_img=glob.glob(imag_path + '*.jpg')\n",
    "\n",
    "# # print(fin_img)\n",
    "# result={}\n",
    "\n",
    "# model=load_learner(\"aPcYSr8yKxBmXB2.pkl\",cpu=true)\n",
    "\n",
    "# for img in fin_img:\n",
    "# #     print(img)\n",
    "    \n",
    "#     img_name=img.split(\"/\")[-1]\n",
    "#     out=model.predict(img)\n",
    "#     label=out[0]\n",
    "# #     print(label)\n",
    "#     score=str(np.array(out[0],out[2][out[1]])\n",
    "#     print(type(score), score)\n",
    "    \n",
    "#     result[img_name]={}\n",
    "# #     print(result)\n",
    "    \n",
    "#     result[img_name]['label'] = label\n",
    "#     result[img_name]['score'] = score\n",
    "\n",
    "# with open(\"nude_json\",'w') as file:\n",
    "#     json.dump(result,file)"
   ]
  },
  {
   "cell_type": "code",
   "execution_count": 3,
   "id": "7d29bdb6",
   "metadata": {},
   "outputs": [],
   "source": [
    "import json\n",
    "import numpy\n",
    "\n",
    "# jsonString = json.dumps(list)"
   ]
  },
  {
   "cell_type": "code",
   "execution_count": 25,
   "id": "85f41ade",
   "metadata": {},
   "outputs": [],
   "source": [
    "# img_path='/home/link-lap-24/Downloads/nudenet_model_testing/7.mp4/'\n",
    "\n",
    "# fin_img=glob.glob(img_path + \"*.jpg\")\n",
    "\n",
    "# result=[]\n",
    "\n",
    "\n",
    "# model=load_learner(\"aPcYSr8yKxBmXB2.pkl\",cpu=true)\n",
    "\n",
    "# result={}\n",
    "\n",
    "# for i in fin_img:\n",
    "#     out=model.predict(i)\n",
    "#     label=out[0]\n",
    "#     score = str(np.array(out[2][out[1]]))\n",
    "\n",
    "# #     score=out[2][out[1]]\n",
    "# #     score2= str(np.array(score))\n",
    "#     print(type(score), score)\n",
    "\n",
    "#     img_name=i.split(\"/\")[-1]\n",
    "    \n",
    "#     result[img_name]={}\n",
    "#     result[img_name]['label']= label\n",
    "#     result[img_name]['score']= score\n",
    "\n",
    "# print(result)    \n",
    "# with open (\"nude.json\",\"w\") as file:\n",
    "#     json.dump(result, file)"
   ]
  },
  {
   "cell_type": "code",
   "execution_count": 9,
   "id": "70978200",
   "metadata": {},
   "outputs": [
    {
     "data": {
      "text/html": [
       "\n",
       "<style>\n",
       "    /* Turns off some styling */\n",
       "    progress {\n",
       "        /* gets rid of default border in Firefox and Opera. */\n",
       "        border: none;\n",
       "        /* Needs to be in here for Safari polyfill so background images work as expected. */\n",
       "        background-size: auto;\n",
       "    }\n",
       "    .progress-bar-interrupted, .progress-bar-interrupted::-webkit-progress-bar {\n",
       "        background: #F44336;\n",
       "    }\n",
       "</style>\n"
      ],
      "text/plain": [
       "<IPython.core.display.HTML object>"
      ]
     },
     "metadata": {},
     "output_type": "display_data"
    },
    {
     "data": {
      "text/html": [],
      "text/plain": [
       "<IPython.core.display.HTML object>"
      ]
     },
     "metadata": {},
     "output_type": "display_data"
    },
    {
     "data": {
      "text/html": [
       "\n",
       "<style>\n",
       "    /* Turns off some styling */\n",
       "    progress {\n",
       "        /* gets rid of default border in Firefox and Opera. */\n",
       "        border: none;\n",
       "        /* Needs to be in here for Safari polyfill so background images work as expected. */\n",
       "        background-size: auto;\n",
       "    }\n",
       "    .progress-bar-interrupted, .progress-bar-interrupted::-webkit-progress-bar {\n",
       "        background: #F44336;\n",
       "    }\n",
       "</style>\n"
      ],
      "text/plain": [
       "<IPython.core.display.HTML object>"
      ]
     },
     "metadata": {},
     "output_type": "display_data"
    },
    {
     "data": {
      "text/html": [],
      "text/plain": [
       "<IPython.core.display.HTML object>"
      ]
     },
     "metadata": {},
     "output_type": "display_data"
    },
    {
     "data": {
      "text/html": [
       "\n",
       "<style>\n",
       "    /* Turns off some styling */\n",
       "    progress {\n",
       "        /* gets rid of default border in Firefox and Opera. */\n",
       "        border: none;\n",
       "        /* Needs to be in here for Safari polyfill so background images work as expected. */\n",
       "        background-size: auto;\n",
       "    }\n",
       "    .progress-bar-interrupted, .progress-bar-interrupted::-webkit-progress-bar {\n",
       "        background: #F44336;\n",
       "    }\n",
       "</style>\n"
      ],
      "text/plain": [
       "<IPython.core.display.HTML object>"
      ]
     },
     "metadata": {},
     "output_type": "display_data"
    },
    {
     "data": {
      "text/html": [],
      "text/plain": [
       "<IPython.core.display.HTML object>"
      ]
     },
     "metadata": {},
     "output_type": "display_data"
    },
    {
     "data": {
      "text/html": [
       "\n",
       "<style>\n",
       "    /* Turns off some styling */\n",
       "    progress {\n",
       "        /* gets rid of default border in Firefox and Opera. */\n",
       "        border: none;\n",
       "        /* Needs to be in here for Safari polyfill so background images work as expected. */\n",
       "        background-size: auto;\n",
       "    }\n",
       "    .progress-bar-interrupted, .progress-bar-interrupted::-webkit-progress-bar {\n",
       "        background: #F44336;\n",
       "    }\n",
       "</style>\n"
      ],
      "text/plain": [
       "<IPython.core.display.HTML object>"
      ]
     },
     "metadata": {},
     "output_type": "display_data"
    },
    {
     "data": {
      "text/html": [],
      "text/plain": [
       "<IPython.core.display.HTML object>"
      ]
     },
     "metadata": {},
     "output_type": "display_data"
    },
    {
     "data": {
      "text/html": [
       "\n",
       "<style>\n",
       "    /* Turns off some styling */\n",
       "    progress {\n",
       "        /* gets rid of default border in Firefox and Opera. */\n",
       "        border: none;\n",
       "        /* Needs to be in here for Safari polyfill so background images work as expected. */\n",
       "        background-size: auto;\n",
       "    }\n",
       "    .progress-bar-interrupted, .progress-bar-interrupted::-webkit-progress-bar {\n",
       "        background: #F44336;\n",
       "    }\n",
       "</style>\n"
      ],
      "text/plain": [
       "<IPython.core.display.HTML object>"
      ]
     },
     "metadata": {},
     "output_type": "display_data"
    },
    {
     "data": {
      "text/html": [],
      "text/plain": [
       "<IPython.core.display.HTML object>"
      ]
     },
     "metadata": {},
     "output_type": "display_data"
    },
    {
     "data": {
      "text/html": [
       "\n",
       "<style>\n",
       "    /* Turns off some styling */\n",
       "    progress {\n",
       "        /* gets rid of default border in Firefox and Opera. */\n",
       "        border: none;\n",
       "        /* Needs to be in here for Safari polyfill so background images work as expected. */\n",
       "        background-size: auto;\n",
       "    }\n",
       "    .progress-bar-interrupted, .progress-bar-interrupted::-webkit-progress-bar {\n",
       "        background: #F44336;\n",
       "    }\n",
       "</style>\n"
      ],
      "text/plain": [
       "<IPython.core.display.HTML object>"
      ]
     },
     "metadata": {},
     "output_type": "display_data"
    },
    {
     "data": {
      "text/html": [],
      "text/plain": [
       "<IPython.core.display.HTML object>"
      ]
     },
     "metadata": {},
     "output_type": "display_data"
    },
    {
     "data": {
      "text/html": [
       "\n",
       "<style>\n",
       "    /* Turns off some styling */\n",
       "    progress {\n",
       "        /* gets rid of default border in Firefox and Opera. */\n",
       "        border: none;\n",
       "        /* Needs to be in here for Safari polyfill so background images work as expected. */\n",
       "        background-size: auto;\n",
       "    }\n",
       "    .progress-bar-interrupted, .progress-bar-interrupted::-webkit-progress-bar {\n",
       "        background: #F44336;\n",
       "    }\n",
       "</style>\n"
      ],
      "text/plain": [
       "<IPython.core.display.HTML object>"
      ]
     },
     "metadata": {},
     "output_type": "display_data"
    },
    {
     "data": {
      "text/html": [],
      "text/plain": [
       "<IPython.core.display.HTML object>"
      ]
     },
     "metadata": {},
     "output_type": "display_data"
    },
    {
     "data": {
      "text/html": [
       "\n",
       "<style>\n",
       "    /* Turns off some styling */\n",
       "    progress {\n",
       "        /* gets rid of default border in Firefox and Opera. */\n",
       "        border: none;\n",
       "        /* Needs to be in here for Safari polyfill so background images work as expected. */\n",
       "        background-size: auto;\n",
       "    }\n",
       "    .progress-bar-interrupted, .progress-bar-interrupted::-webkit-progress-bar {\n",
       "        background: #F44336;\n",
       "    }\n",
       "</style>\n"
      ],
      "text/plain": [
       "<IPython.core.display.HTML object>"
      ]
     },
     "metadata": {},
     "output_type": "display_data"
    },
    {
     "data": {
      "text/html": [],
      "text/plain": [
       "<IPython.core.display.HTML object>"
      ]
     },
     "metadata": {},
     "output_type": "display_data"
    },
    {
     "data": {
      "text/html": [
       "\n",
       "<style>\n",
       "    /* Turns off some styling */\n",
       "    progress {\n",
       "        /* gets rid of default border in Firefox and Opera. */\n",
       "        border: none;\n",
       "        /* Needs to be in here for Safari polyfill so background images work as expected. */\n",
       "        background-size: auto;\n",
       "    }\n",
       "    .progress-bar-interrupted, .progress-bar-interrupted::-webkit-progress-bar {\n",
       "        background: #F44336;\n",
       "    }\n",
       "</style>\n"
      ],
      "text/plain": [
       "<IPython.core.display.HTML object>"
      ]
     },
     "metadata": {},
     "output_type": "display_data"
    },
    {
     "data": {
      "text/html": [],
      "text/plain": [
       "<IPython.core.display.HTML object>"
      ]
     },
     "metadata": {},
     "output_type": "display_data"
    },
    {
     "data": {
      "text/html": [
       "\n",
       "<style>\n",
       "    /* Turns off some styling */\n",
       "    progress {\n",
       "        /* gets rid of default border in Firefox and Opera. */\n",
       "        border: none;\n",
       "        /* Needs to be in here for Safari polyfill so background images work as expected. */\n",
       "        background-size: auto;\n",
       "    }\n",
       "    .progress-bar-interrupted, .progress-bar-interrupted::-webkit-progress-bar {\n",
       "        background: #F44336;\n",
       "    }\n",
       "</style>\n"
      ],
      "text/plain": [
       "<IPython.core.display.HTML object>"
      ]
     },
     "metadata": {},
     "output_type": "display_data"
    },
    {
     "data": {
      "text/html": [],
      "text/plain": [
       "<IPython.core.display.HTML object>"
      ]
     },
     "metadata": {},
     "output_type": "display_data"
    },
    {
     "data": {
      "text/html": [
       "\n",
       "<style>\n",
       "    /* Turns off some styling */\n",
       "    progress {\n",
       "        /* gets rid of default border in Firefox and Opera. */\n",
       "        border: none;\n",
       "        /* Needs to be in here for Safari polyfill so background images work as expected. */\n",
       "        background-size: auto;\n",
       "    }\n",
       "    .progress-bar-interrupted, .progress-bar-interrupted::-webkit-progress-bar {\n",
       "        background: #F44336;\n",
       "    }\n",
       "</style>\n"
      ],
      "text/plain": [
       "<IPython.core.display.HTML object>"
      ]
     },
     "metadata": {},
     "output_type": "display_data"
    },
    {
     "data": {
      "text/html": [],
      "text/plain": [
       "<IPython.core.display.HTML object>"
      ]
     },
     "metadata": {},
     "output_type": "display_data"
    },
    {
     "data": {
      "text/html": [
       "\n",
       "<style>\n",
       "    /* Turns off some styling */\n",
       "    progress {\n",
       "        /* gets rid of default border in Firefox and Opera. */\n",
       "        border: none;\n",
       "        /* Needs to be in here for Safari polyfill so background images work as expected. */\n",
       "        background-size: auto;\n",
       "    }\n",
       "    .progress-bar-interrupted, .progress-bar-interrupted::-webkit-progress-bar {\n",
       "        background: #F44336;\n",
       "    }\n",
       "</style>\n"
      ],
      "text/plain": [
       "<IPython.core.display.HTML object>"
      ]
     },
     "metadata": {},
     "output_type": "display_data"
    },
    {
     "data": {
      "text/html": [],
      "text/plain": [
       "<IPython.core.display.HTML object>"
      ]
     },
     "metadata": {},
     "output_type": "display_data"
    },
    {
     "data": {
      "text/html": [
       "\n",
       "<style>\n",
       "    /* Turns off some styling */\n",
       "    progress {\n",
       "        /* gets rid of default border in Firefox and Opera. */\n",
       "        border: none;\n",
       "        /* Needs to be in here for Safari polyfill so background images work as expected. */\n",
       "        background-size: auto;\n",
       "    }\n",
       "    .progress-bar-interrupted, .progress-bar-interrupted::-webkit-progress-bar {\n",
       "        background: #F44336;\n",
       "    }\n",
       "</style>\n"
      ],
      "text/plain": [
       "<IPython.core.display.HTML object>"
      ]
     },
     "metadata": {},
     "output_type": "display_data"
    },
    {
     "data": {
      "text/html": [],
      "text/plain": [
       "<IPython.core.display.HTML object>"
      ]
     },
     "metadata": {},
     "output_type": "display_data"
    },
    {
     "data": {
      "text/html": [
       "\n",
       "<style>\n",
       "    /* Turns off some styling */\n",
       "    progress {\n",
       "        /* gets rid of default border in Firefox and Opera. */\n",
       "        border: none;\n",
       "        /* Needs to be in here for Safari polyfill so background images work as expected. */\n",
       "        background-size: auto;\n",
       "    }\n",
       "    .progress-bar-interrupted, .progress-bar-interrupted::-webkit-progress-bar {\n",
       "        background: #F44336;\n",
       "    }\n",
       "</style>\n"
      ],
      "text/plain": [
       "<IPython.core.display.HTML object>"
      ]
     },
     "metadata": {},
     "output_type": "display_data"
    },
    {
     "data": {
      "text/html": [],
      "text/plain": [
       "<IPython.core.display.HTML object>"
      ]
     },
     "metadata": {},
     "output_type": "display_data"
    },
    {
     "data": {
      "text/html": [
       "\n",
       "<style>\n",
       "    /* Turns off some styling */\n",
       "    progress {\n",
       "        /* gets rid of default border in Firefox and Opera. */\n",
       "        border: none;\n",
       "        /* Needs to be in here for Safari polyfill so background images work as expected. */\n",
       "        background-size: auto;\n",
       "    }\n",
       "    .progress-bar-interrupted, .progress-bar-interrupted::-webkit-progress-bar {\n",
       "        background: #F44336;\n",
       "    }\n",
       "</style>\n"
      ],
      "text/plain": [
       "<IPython.core.display.HTML object>"
      ]
     },
     "metadata": {},
     "output_type": "display_data"
    },
    {
     "data": {
      "text/html": [],
      "text/plain": [
       "<IPython.core.display.HTML object>"
      ]
     },
     "metadata": {},
     "output_type": "display_data"
    },
    {
     "data": {
      "text/html": [
       "\n",
       "<style>\n",
       "    /* Turns off some styling */\n",
       "    progress {\n",
       "        /* gets rid of default border in Firefox and Opera. */\n",
       "        border: none;\n",
       "        /* Needs to be in here for Safari polyfill so background images work as expected. */\n",
       "        background-size: auto;\n",
       "    }\n",
       "    .progress-bar-interrupted, .progress-bar-interrupted::-webkit-progress-bar {\n",
       "        background: #F44336;\n",
       "    }\n",
       "</style>\n"
      ],
      "text/plain": [
       "<IPython.core.display.HTML object>"
      ]
     },
     "metadata": {},
     "output_type": "display_data"
    },
    {
     "data": {
      "text/html": [],
      "text/plain": [
       "<IPython.core.display.HTML object>"
      ]
     },
     "metadata": {},
     "output_type": "display_data"
    },
    {
     "data": {
      "text/html": [
       "\n",
       "<style>\n",
       "    /* Turns off some styling */\n",
       "    progress {\n",
       "        /* gets rid of default border in Firefox and Opera. */\n",
       "        border: none;\n",
       "        /* Needs to be in here for Safari polyfill so background images work as expected. */\n",
       "        background-size: auto;\n",
       "    }\n",
       "    .progress-bar-interrupted, .progress-bar-interrupted::-webkit-progress-bar {\n",
       "        background: #F44336;\n",
       "    }\n",
       "</style>\n"
      ],
      "text/plain": [
       "<IPython.core.display.HTML object>"
      ]
     },
     "metadata": {},
     "output_type": "display_data"
    },
    {
     "data": {
      "text/html": [],
      "text/plain": [
       "<IPython.core.display.HTML object>"
      ]
     },
     "metadata": {},
     "output_type": "display_data"
    },
    {
     "data": {
      "text/html": [
       "\n",
       "<style>\n",
       "    /* Turns off some styling */\n",
       "    progress {\n",
       "        /* gets rid of default border in Firefox and Opera. */\n",
       "        border: none;\n",
       "        /* Needs to be in here for Safari polyfill so background images work as expected. */\n",
       "        background-size: auto;\n",
       "    }\n",
       "    .progress-bar-interrupted, .progress-bar-interrupted::-webkit-progress-bar {\n",
       "        background: #F44336;\n",
       "    }\n",
       "</style>\n"
      ],
      "text/plain": [
       "<IPython.core.display.HTML object>"
      ]
     },
     "metadata": {},
     "output_type": "display_data"
    },
    {
     "data": {
      "text/html": [],
      "text/plain": [
       "<IPython.core.display.HTML object>"
      ]
     },
     "metadata": {},
     "output_type": "display_data"
    },
    {
     "data": {
      "text/html": [
       "\n",
       "<style>\n",
       "    /* Turns off some styling */\n",
       "    progress {\n",
       "        /* gets rid of default border in Firefox and Opera. */\n",
       "        border: none;\n",
       "        /* Needs to be in here for Safari polyfill so background images work as expected. */\n",
       "        background-size: auto;\n",
       "    }\n",
       "    .progress-bar-interrupted, .progress-bar-interrupted::-webkit-progress-bar {\n",
       "        background: #F44336;\n",
       "    }\n",
       "</style>\n"
      ],
      "text/plain": [
       "<IPython.core.display.HTML object>"
      ]
     },
     "metadata": {},
     "output_type": "display_data"
    },
    {
     "data": {
      "text/html": [],
      "text/plain": [
       "<IPython.core.display.HTML object>"
      ]
     },
     "metadata": {},
     "output_type": "display_data"
    },
    {
     "data": {
      "text/html": [
       "\n",
       "<style>\n",
       "    /* Turns off some styling */\n",
       "    progress {\n",
       "        /* gets rid of default border in Firefox and Opera. */\n",
       "        border: none;\n",
       "        /* Needs to be in here for Safari polyfill so background images work as expected. */\n",
       "        background-size: auto;\n",
       "    }\n",
       "    .progress-bar-interrupted, .progress-bar-interrupted::-webkit-progress-bar {\n",
       "        background: #F44336;\n",
       "    }\n",
       "</style>\n"
      ],
      "text/plain": [
       "<IPython.core.display.HTML object>"
      ]
     },
     "metadata": {},
     "output_type": "display_data"
    },
    {
     "data": {
      "text/html": [],
      "text/plain": [
       "<IPython.core.display.HTML object>"
      ]
     },
     "metadata": {},
     "output_type": "display_data"
    },
    {
     "data": {
      "text/html": [
       "\n",
       "<style>\n",
       "    /* Turns off some styling */\n",
       "    progress {\n",
       "        /* gets rid of default border in Firefox and Opera. */\n",
       "        border: none;\n",
       "        /* Needs to be in here for Safari polyfill so background images work as expected. */\n",
       "        background-size: auto;\n",
       "    }\n",
       "    .progress-bar-interrupted, .progress-bar-interrupted::-webkit-progress-bar {\n",
       "        background: #F44336;\n",
       "    }\n",
       "</style>\n"
      ],
      "text/plain": [
       "<IPython.core.display.HTML object>"
      ]
     },
     "metadata": {},
     "output_type": "display_data"
    },
    {
     "data": {
      "text/html": [],
      "text/plain": [
       "<IPython.core.display.HTML object>"
      ]
     },
     "metadata": {},
     "output_type": "display_data"
    },
    {
     "data": {
      "text/html": [
       "\n",
       "<style>\n",
       "    /* Turns off some styling */\n",
       "    progress {\n",
       "        /* gets rid of default border in Firefox and Opera. */\n",
       "        border: none;\n",
       "        /* Needs to be in here for Safari polyfill so background images work as expected. */\n",
       "        background-size: auto;\n",
       "    }\n",
       "    .progress-bar-interrupted, .progress-bar-interrupted::-webkit-progress-bar {\n",
       "        background: #F44336;\n",
       "    }\n",
       "</style>\n"
      ],
      "text/plain": [
       "<IPython.core.display.HTML object>"
      ]
     },
     "metadata": {},
     "output_type": "display_data"
    },
    {
     "data": {
      "text/html": [],
      "text/plain": [
       "<IPython.core.display.HTML object>"
      ]
     },
     "metadata": {},
     "output_type": "display_data"
    },
    {
     "data": {
      "text/html": [
       "\n",
       "<style>\n",
       "    /* Turns off some styling */\n",
       "    progress {\n",
       "        /* gets rid of default border in Firefox and Opera. */\n",
       "        border: none;\n",
       "        /* Needs to be in here for Safari polyfill so background images work as expected. */\n",
       "        background-size: auto;\n",
       "    }\n",
       "    .progress-bar-interrupted, .progress-bar-interrupted::-webkit-progress-bar {\n",
       "        background: #F44336;\n",
       "    }\n",
       "</style>\n"
      ],
      "text/plain": [
       "<IPython.core.display.HTML object>"
      ]
     },
     "metadata": {},
     "output_type": "display_data"
    },
    {
     "data": {
      "text/html": [],
      "text/plain": [
       "<IPython.core.display.HTML object>"
      ]
     },
     "metadata": {},
     "output_type": "display_data"
    },
    {
     "data": {
      "text/html": [
       "\n",
       "<style>\n",
       "    /* Turns off some styling */\n",
       "    progress {\n",
       "        /* gets rid of default border in Firefox and Opera. */\n",
       "        border: none;\n",
       "        /* Needs to be in here for Safari polyfill so background images work as expected. */\n",
       "        background-size: auto;\n",
       "    }\n",
       "    .progress-bar-interrupted, .progress-bar-interrupted::-webkit-progress-bar {\n",
       "        background: #F44336;\n",
       "    }\n",
       "</style>\n"
      ],
      "text/plain": [
       "<IPython.core.display.HTML object>"
      ]
     },
     "metadata": {},
     "output_type": "display_data"
    },
    {
     "data": {
      "text/html": [],
      "text/plain": [
       "<IPython.core.display.HTML object>"
      ]
     },
     "metadata": {},
     "output_type": "display_data"
    },
    {
     "data": {
      "text/html": [
       "\n",
       "<style>\n",
       "    /* Turns off some styling */\n",
       "    progress {\n",
       "        /* gets rid of default border in Firefox and Opera. */\n",
       "        border: none;\n",
       "        /* Needs to be in here for Safari polyfill so background images work as expected. */\n",
       "        background-size: auto;\n",
       "    }\n",
       "    .progress-bar-interrupted, .progress-bar-interrupted::-webkit-progress-bar {\n",
       "        background: #F44336;\n",
       "    }\n",
       "</style>\n"
      ],
      "text/plain": [
       "<IPython.core.display.HTML object>"
      ]
     },
     "metadata": {},
     "output_type": "display_data"
    },
    {
     "data": {
      "text/html": [],
      "text/plain": [
       "<IPython.core.display.HTML object>"
      ]
     },
     "metadata": {},
     "output_type": "display_data"
    }
   ],
   "source": [
    "imgs_path=\"/home/link-lap-24/Downloads/nudenet_model_testing/7.mp4/\"\n",
    "\n",
    "fin_path=glob.glob(imgs_path + \"*.jpg\")\n",
    "\n",
    "model=load_learner(\"aPcYSr8yKxBmXB2.pkl\",cpu=true)\n",
    "\n",
    "result={}\n",
    "\n",
    "for i in fin_path:\n",
    "    out=model.predict(i)\n",
    "    label=out[0]\n",
    "    score=out[2][out[1]]\n",
    "    score2=str(np.array(score))\n",
    "    \n",
    "    img_name=i.split('/')[-1]\n",
    "    \n",
    "    result[img_name]={}\n",
    "    result[img_name][\"label\"]=label\n",
    "    result[img_name][\"score\"]=score2\n",
    "    \n",
    "with open (\"nude.json\",\"w\") as file:\n",
    "    json.dump(result,file)"
   ]
  },
  {
   "cell_type": "code",
   "execution_count": null,
   "id": "5c803612",
   "metadata": {},
   "outputs": [],
   "source": []
  }
 ],
 "metadata": {
  "kernelspec": {
   "display_name": "Python 3 (ipykernel)",
   "language": "python",
   "name": "python3"
  },
  "language_info": {
   "codemirror_mode": {
    "name": "ipython",
    "version": 3
   },
   "file_extension": ".py",
   "mimetype": "text/x-python",
   "name": "python",
   "nbconvert_exporter": "python",
   "pygments_lexer": "ipython3",
   "version": "3.8.10"
  }
 },
 "nbformat": 4,
 "nbformat_minor": 5
}
