{
 "cells": [
  {
   "cell_type": "code",
   "execution_count": null,
   "id": "37d64bd2",
   "metadata": {},
   "outputs": [
    {
     "name": "stderr",
     "output_type": "stream",
     "text": [
      "chunk:  73%|██████████████▌     | 3861/5313 [02:52<00:00, 3237.36it/s, now=None]"
     ]
    },
    {
     "name": "stdout",
     "output_type": "stream",
     "text": [
      "Moviepy - Building video video_fast.mp4.\n",
      "MoviePy - Writing audio in video_fastTEMP_MPY_wvf_snd.mp3\n"
     ]
    },
    {
     "name": "stderr",
     "output_type": "stream",
     "text": [
      "\n",
      "chunk:   0%|                                 | 0/5313 [00:00<?, ?it/s, now=None]\u001b[A\n",
      "chunk:   5%|█                    | 257/5313 [00:00<00:01, 2558.39it/s, now=None]\u001b[A\n",
      "chunk:  10%|██                   | 514/5313 [00:00<00:01, 2564.59it/s, now=None]\u001b[A\n",
      "chunk:  15%|███▏                 | 809/5313 [00:00<00:01, 2739.45it/s, now=None]\u001b[A\n",
      "chunk:  21%|████▏               | 1116/5313 [00:00<00:01, 2867.33it/s, now=None]\u001b[A\n",
      "chunk:  26%|█████▎              | 1407/5313 [00:00<00:01, 2857.73it/s, now=None]\u001b[A\n",
      "chunk:  32%|██████▍             | 1705/5313 [00:00<00:01, 2897.30it/s, now=None]\u001b[A\n",
      "chunk:  38%|███████▌            | 2009/5313 [00:00<00:01, 2943.39it/s, now=None]\u001b[A\n",
      "chunk:  44%|████████▊           | 2353/5313 [00:00<00:00, 3090.75it/s, now=None]\u001b[A\n",
      "chunk:  50%|██████████          | 2663/5313 [00:00<00:00, 2932.17it/s, now=None]\u001b[A\n",
      "chunk:  56%|███████████▎        | 2989/5313 [00:01<00:00, 3028.85it/s, now=None]\u001b[A\n",
      "chunk:  62%|████████████▍       | 3294/5313 [00:01<00:00, 2949.21it/s, now=None]\u001b[A\n",
      "chunk:  68%|█████████████▌      | 3591/5313 [00:01<00:00, 2942.24it/s, now=None]\u001b[A\n",
      "chunk:  73%|██████████████▌     | 3861/5313 [00:17<00:00, 2942.24it/s, now=None]\u001b[A"
     ]
    }
   ],
   "source": [
    "from moviepy.editor import VideoFileClip\n",
    "\n",
    "clip = VideoFileClip('annotation_dashboard.mp4').speedx(2)  # double the speed\n",
    "clip.write_videofile('video_fast.mp4')\n"
   ]
  },
  {
   "cell_type": "code",
   "execution_count": null,
   "id": "c6353d3d",
   "metadata": {},
   "outputs": [],
   "source": []
  }
 ],
 "metadata": {
  "kernelspec": {
   "display_name": "Python 3 (ipykernel)",
   "language": "python",
   "name": "python3"
  },
  "language_info": {
   "codemirror_mode": {
    "name": "ipython",
    "version": 3
   },
   "file_extension": ".py",
   "mimetype": "text/x-python",
   "name": "python",
   "nbconvert_exporter": "python",
   "pygments_lexer": "ipython3",
   "version": "3.8.10"
  }
 },
 "nbformat": 4,
 "nbformat_minor": 5
}
