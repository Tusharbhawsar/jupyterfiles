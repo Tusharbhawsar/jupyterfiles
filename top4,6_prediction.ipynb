{
  "nbformat": 4,
  "nbformat_minor": 0,
  "metadata": {
    "colab": {
      "name": "top4,6_prediction.ipynb",
      "provenance": []
    },
    "kernelspec": {
      "name": "python3",
      "display_name": "Python 3"
    },
    "language_info": {
      "name": "python"
    }
  },
  "cells": [
    {
      "cell_type": "code",
      "execution_count": null,
      "metadata": {
        "id": "o5skL8zJhvqT"
      },
      "outputs": [],
      "source": [
        "import pandas as pd\n",
        "import numpy as np"
      ]
    },
    {
      "cell_type": "code",
      "source": [
        "path=\"/content/drive/MyDrive/cricket/modify_cricket_2_dataset.csv\""
      ],
      "metadata": {
        "id": "Uf56CWw0iFMa"
      },
      "execution_count": null,
      "outputs": []
    },
    {
      "cell_type": "code",
      "source": [
        "df=pd.read_csv(path)\n",
        "df"
      ],
      "metadata": {
        "colab": {
          "base_uri": "https://localhost:8080/",
          "height": 424
        },
        "id": "FrwmDR7miFHy",
        "outputId": "2867960d-b949-4b7b-bc8f-635d8dce4adf"
      },
      "execution_count": null,
      "outputs": [
        {
          "output_type": "execute_result",
          "data": {
            "text/html": [
              "\n",
              "  <div id=\"df-2e0330e1-8d2e-4914-ba66-4bf63d278802\">\n",
              "    <div class=\"colab-df-container\">\n",
              "      <div>\n",
              "<style scoped>\n",
              "    .dataframe tbody tr th:only-of-type {\n",
              "        vertical-align: middle;\n",
              "    }\n",
              "\n",
              "    .dataframe tbody tr th {\n",
              "        vertical-align: top;\n",
              "    }\n",
              "\n",
              "    .dataframe thead th {\n",
              "        text-align: right;\n",
              "    }\n",
              "</style>\n",
              "<table border=\"1\" class=\"dataframe\">\n",
              "  <thead>\n",
              "    <tr style=\"text-align: right;\">\n",
              "      <th></th>\n",
              "      <th>overs</th>\n",
              "      <th>description</th>\n",
              "    </tr>\n",
              "  </thead>\n",
              "  <tbody>\n",
              "    <tr>\n",
              "      <th>0</th>\n",
              "      <td>0.1</td>\n",
              "      <td>wankhedes notorious reputation for being a cha...</td>\n",
              "    </tr>\n",
              "    <tr>\n",
              "      <th>1</th>\n",
              "      <td>1.1</td>\n",
              "      <td>pandya to rahane no run picks a short of lengt...</td>\n",
              "    </tr>\n",
              "    <tr>\n",
              "      <th>2</th>\n",
              "      <td>2.1</td>\n",
              "      <td>harbhajan to rahane no run pushes it quick jus...</td>\n",
              "    </tr>\n",
              "    <tr>\n",
              "      <th>3</th>\n",
              "      <td>3.1</td>\n",
              "      <td>shreyas gopal to pietersen leg byes one run sp...</td>\n",
              "    </tr>\n",
              "    <tr>\n",
              "      <th>4</th>\n",
              "      <td>4.1</td>\n",
              "      <td>shreyas gopal to rahane no run on the stumps n...</td>\n",
              "    </tr>\n",
              "    <tr>\n",
              "      <th>...</th>\n",
              "      <td>...</td>\n",
              "      <td>...</td>\n",
              "    </tr>\n",
              "    <tr>\n",
              "      <th>291</th>\n",
              "      <td>45.6</td>\n",
              "      <td>hastings to rohit one  runhastings to rohit fo...</td>\n",
              "    </tr>\n",
              "    <tr>\n",
              "      <th>292</th>\n",
              "      <td>46.6</td>\n",
              "      <td>b hogg to parthiv patel no run a hogg to rohit...</td>\n",
              "    </tr>\n",
              "    <tr>\n",
              "      <th>293</th>\n",
              "      <td>47.6</td>\n",
              "      <td>b hogg to parthiv patel leg byes one  runa rus...</td>\n",
              "    </tr>\n",
              "    <tr>\n",
              "      <th>294</th>\n",
              "      <td>48.6</td>\n",
              "      <td>a russell to parthiv patel no runa russell to ...</td>\n",
              "    </tr>\n",
              "    <tr>\n",
              "      <th>295</th>\n",
              "      <td>49.6</td>\n",
              "      <td>hastings to rohit four hastings to rohit no ru...</td>\n",
              "    </tr>\n",
              "  </tbody>\n",
              "</table>\n",
              "<p>296 rows × 2 columns</p>\n",
              "</div>\n",
              "      <button class=\"colab-df-convert\" onclick=\"convertToInteractive('df-2e0330e1-8d2e-4914-ba66-4bf63d278802')\"\n",
              "              title=\"Convert this dataframe to an interactive table.\"\n",
              "              style=\"display:none;\">\n",
              "        \n",
              "  <svg xmlns=\"http://www.w3.org/2000/svg\" height=\"24px\"viewBox=\"0 0 24 24\"\n",
              "       width=\"24px\">\n",
              "    <path d=\"M0 0h24v24H0V0z\" fill=\"none\"/>\n",
              "    <path d=\"M18.56 5.44l.94 2.06.94-2.06 2.06-.94-2.06-.94-.94-2.06-.94 2.06-2.06.94zm-11 1L8.5 8.5l.94-2.06 2.06-.94-2.06-.94L8.5 2.5l-.94 2.06-2.06.94zm10 10l.94 2.06.94-2.06 2.06-.94-2.06-.94-.94-2.06-.94 2.06-2.06.94z\"/><path d=\"M17.41 7.96l-1.37-1.37c-.4-.4-.92-.59-1.43-.59-.52 0-1.04.2-1.43.59L10.3 9.45l-7.72 7.72c-.78.78-.78 2.05 0 2.83L4 21.41c.39.39.9.59 1.41.59.51 0 1.02-.2 1.41-.59l7.78-7.78 2.81-2.81c.8-.78.8-2.07 0-2.86zM5.41 20L4 18.59l7.72-7.72 1.47 1.35L5.41 20z\"/>\n",
              "  </svg>\n",
              "      </button>\n",
              "      \n",
              "  <style>\n",
              "    .colab-df-container {\n",
              "      display:flex;\n",
              "      flex-wrap:wrap;\n",
              "      gap: 12px;\n",
              "    }\n",
              "\n",
              "    .colab-df-convert {\n",
              "      background-color: #E8F0FE;\n",
              "      border: none;\n",
              "      border-radius: 50%;\n",
              "      cursor: pointer;\n",
              "      display: none;\n",
              "      fill: #1967D2;\n",
              "      height: 32px;\n",
              "      padding: 0 0 0 0;\n",
              "      width: 32px;\n",
              "    }\n",
              "\n",
              "    .colab-df-convert:hover {\n",
              "      background-color: #E2EBFA;\n",
              "      box-shadow: 0px 1px 2px rgba(60, 64, 67, 0.3), 0px 1px 3px 1px rgba(60, 64, 67, 0.15);\n",
              "      fill: #174EA6;\n",
              "    }\n",
              "\n",
              "    [theme=dark] .colab-df-convert {\n",
              "      background-color: #3B4455;\n",
              "      fill: #D2E3FC;\n",
              "    }\n",
              "\n",
              "    [theme=dark] .colab-df-convert:hover {\n",
              "      background-color: #434B5C;\n",
              "      box-shadow: 0px 1px 3px 1px rgba(0, 0, 0, 0.15);\n",
              "      filter: drop-shadow(0px 1px 2px rgba(0, 0, 0, 0.3));\n",
              "      fill: #FFFFFF;\n",
              "    }\n",
              "  </style>\n",
              "\n",
              "      <script>\n",
              "        const buttonEl =\n",
              "          document.querySelector('#df-2e0330e1-8d2e-4914-ba66-4bf63d278802 button.colab-df-convert');\n",
              "        buttonEl.style.display =\n",
              "          google.colab.kernel.accessAllowed ? 'block' : 'none';\n",
              "\n",
              "        async function convertToInteractive(key) {\n",
              "          const element = document.querySelector('#df-2e0330e1-8d2e-4914-ba66-4bf63d278802');\n",
              "          const dataTable =\n",
              "            await google.colab.kernel.invokeFunction('convertToInteractive',\n",
              "                                                     [key], {});\n",
              "          if (!dataTable) return;\n",
              "\n",
              "          const docLinkHtml = 'Like what you see? Visit the ' +\n",
              "            '<a target=\"_blank\" href=https://colab.research.google.com/notebooks/data_table.ipynb>data table notebook</a>'\n",
              "            + ' to learn more about interactive tables.';\n",
              "          element.innerHTML = '';\n",
              "          dataTable['output_type'] = 'display_data';\n",
              "          await google.colab.output.renderOutput(dataTable, element);\n",
              "          const docLink = document.createElement('div');\n",
              "          docLink.innerHTML = docLinkHtml;\n",
              "          element.appendChild(docLink);\n",
              "        }\n",
              "      </script>\n",
              "    </div>\n",
              "  </div>\n",
              "  "
            ],
            "text/plain": [
              "     overs                                        description\n",
              "0      0.1  wankhedes notorious reputation for being a cha...\n",
              "1      1.1  pandya to rahane no run picks a short of lengt...\n",
              "2      2.1  harbhajan to rahane no run pushes it quick jus...\n",
              "3      3.1  shreyas gopal to pietersen leg byes one run sp...\n",
              "4      4.1  shreyas gopal to rahane no run on the stumps n...\n",
              "..     ...                                                ...\n",
              "291   45.6  hastings to rohit one  runhastings to rohit fo...\n",
              "292   46.6  b hogg to parthiv patel no run a hogg to rohit...\n",
              "293   47.6  b hogg to parthiv patel leg byes one  runa rus...\n",
              "294   48.6  a russell to parthiv patel no runa russell to ...\n",
              "295   49.6  hastings to rohit four hastings to rohit no ru...\n",
              "\n",
              "[296 rows x 2 columns]"
            ]
          },
          "metadata": {},
          "execution_count": 3
        }
      ]
    },
    {
      "cell_type": "code",
      "source": [
        "df.to_csv('cricket_commentary.csv')"
      ],
      "metadata": {
        "id": "io86lyheFRaR"
      },
      "execution_count": null,
      "outputs": []
    },
    {
      "cell_type": "code",
      "source": [
        "df.info()"
      ],
      "metadata": {
        "colab": {
          "base_uri": "https://localhost:8080/"
        },
        "id": "8kz_BmQYiFGR",
        "outputId": "4a213779-4a53-459b-8594-fd14b6a688af"
      },
      "execution_count": null,
      "outputs": [
        {
          "output_type": "stream",
          "name": "stdout",
          "text": [
            "<class 'pandas.core.frame.DataFrame'>\n",
            "RangeIndex: 296 entries, 0 to 295\n",
            "Data columns (total 2 columns):\n",
            " #   Column       Non-Null Count  Dtype  \n",
            "---  ------       --------------  -----  \n",
            " 0   overs        296 non-null    float64\n",
            " 1   description  296 non-null    object \n",
            "dtypes: float64(1), object(1)\n",
            "memory usage: 4.8+ KB\n"
          ]
        }
      ]
    },
    {
      "cell_type": "code",
      "source": [
        "df['description'][20]"
      ],
      "metadata": {
        "colab": {
          "base_uri": "https://localhost:8080/",
          "height": 105
        },
        "id": "TGFTo7q0DqNx",
        "outputId": "a53b64ce-d99c-4e4d-9f7b-5c244ead0428"
      },
      "execution_count": null,
      "outputs": [
        {
          "output_type": "execute_result",
          "data": {
            "application/vnd.google.colaboratory.intrinsic+json": {
              "type": "string"
            },
            "text/plain": [
              "'bumrah to du plessi no run the line wa outsid off and du plessi want to run it down to third man beatenbumrah to du plessi no run length deliveri from bumrah on off plessi want to go for the offdriv get it off the insid part of the bat to midonmcclenaghan to rahan no run slower deliveri from round the wicket and on the stump rahan read it well in time and defend it back to the bowlermcclenaghan to rahan no run fuller outsid off rahan drive well but cannot beat cover'"
            ]
          },
          "metadata": {},
          "execution_count": 38
        }
      ]
    },
    {
      "cell_type": "code",
      "source": [
        "df.isnull().sum()"
      ],
      "metadata": {
        "colab": {
          "base_uri": "https://localhost:8080/"
        },
        "id": "Ojb926DriFDG",
        "outputId": "8bf14ba2-920c-4951-d11e-2c67bebee6e6"
      },
      "execution_count": null,
      "outputs": [
        {
          "output_type": "execute_result",
          "data": {
            "text/plain": [
              "overs          0\n",
              "description    0\n",
              "dtype: int64"
            ]
          },
          "metadata": {},
          "execution_count": 5
        }
      ]
    },
    {
      "cell_type": "code",
      "source": [
        "df.dropna(inplace=True)\n"
      ],
      "metadata": {
        "id": "Wz1xIGf-iFA7"
      },
      "execution_count": null,
      "outputs": []
    },
    {
      "cell_type": "code",
      "source": [
        "df['description'][0]"
      ],
      "metadata": {
        "colab": {
          "base_uri": "https://localhost:8080/",
          "height": 122
        },
        "id": "PIeWIXOCiE-X",
        "outputId": "ffdfaaf1-173b-4aa2-af33-43e379cf5b7f"
      },
      "execution_count": null,
      "outputs": [
        {
          "output_type": "execute_result",
          "data": {
            "application/vnd.google.colaboratory.intrinsic+json": {
              "type": "string"
            },
            "text/plain": [
              "'wankhedes notorious reputation for being a chasing ground rohits decision to bat first seems  well  questionable hear in to what he has to saypandya to rahane six thats it the demolition job is complete mumbais tombstone has been planted at the wankhede with the sign rest in peace and what a way to bring up victory short ball rahane jumps with it and ramps it over the third man fence well playedpandya to rahane no run back of a length delivery outside off rahane tries to glide it to third man but cant lay a bat pandya to rahane six length ball  rahane opens his stance loads up big time and smears it over longon small man fierce stroke'"
            ]
          },
          "metadata": {},
          "execution_count": 7
        }
      ]
    },
    {
      "cell_type": "code",
      "source": [
        "df[\"description\"]=df[\"description\"].apply(lambda x:x.split())"
      ],
      "metadata": {
        "id": "EvApRwT6iE7-"
      },
      "execution_count": null,
      "outputs": []
    },
    {
      "cell_type": "code",
      "source": [
        "df[\"description\"]"
      ],
      "metadata": {
        "colab": {
          "base_uri": "https://localhost:8080/"
        },
        "id": "Cc2i6LL9iE5X",
        "outputId": "c5bad4f4-9be8-4bc3-8a20-d9be5938943b"
      },
      "execution_count": null,
      "outputs": [
        {
          "output_type": "execute_result",
          "data": {
            "text/plain": [
              "0      [wankhedes, notorious, reputation, for, being,...\n",
              "1      [pandya, to, rahane, no, run, picks, a, short,...\n",
              "2      [harbhajan, to, rahane, no, run, pushes, it, q...\n",
              "3      [shreyas, gopal, to, pietersen, leg, byes, one...\n",
              "4      [shreyas, gopal, to, rahane, no, run, on, the,...\n",
              "                             ...                        \n",
              "291    [hastings, to, rohit, one, runhastings, to, ro...\n",
              "292    [b, hogg, to, parthiv, patel, no, run, a, hogg...\n",
              "293    [b, hogg, to, parthiv, patel, leg, byes, one, ...\n",
              "294    [a, russell, to, parthiv, patel, no, runa, rus...\n",
              "295    [hastings, to, rohit, four, hastings, to, rohi...\n",
              "Name: description, Length: 296, dtype: object"
            ]
          },
          "metadata": {},
          "execution_count": 9
        }
      ]
    },
    {
      "cell_type": "code",
      "source": [
        "df['description'] = df['description'].apply(lambda x: \" \".join(x))"
      ],
      "metadata": {
        "id": "gyxEPunxiE2u"
      },
      "execution_count": null,
      "outputs": []
    },
    {
      "cell_type": "code",
      "source": [
        "# to change the upper case into lower case for better recommendation\n",
        "df[\"description\"]=df[\"description\"].apply(lambda x:x.lower())"
      ],
      "metadata": {
        "id": "pZCHHDxEiE0H"
      },
      "execution_count": null,
      "outputs": []
    },
    {
      "cell_type": "code",
      "source": [
        "from sklearn.feature_extraction.text import CountVectorizer\n",
        "cv = CountVectorizer(max_features=3800,stop_words='english')"
      ],
      "metadata": {
        "id": "s8-qYYMajObQ"
      },
      "execution_count": null,
      "outputs": []
    },
    {
      "cell_type": "code",
      "source": [
        "vector=cv.fit_transform(df['description']).toarray()"
      ],
      "metadata": {
        "id": "WvBUkGvrjOYW"
      },
      "execution_count": null,
      "outputs": []
    },
    {
      "cell_type": "code",
      "source": [
        "vector"
      ],
      "metadata": {
        "colab": {
          "base_uri": "https://localhost:8080/"
        },
        "id": "64bDTla4jOTm",
        "outputId": "1b96e2a1-b3ef-4784-fb0c-503edf3daa4b"
      },
      "execution_count": null,
      "outputs": [
        {
          "output_type": "execute_result",
          "data": {
            "text/plain": [
              "array([[0, 0, 0, ..., 0, 0, 0],\n",
              "       [0, 0, 0, ..., 0, 0, 0],\n",
              "       [0, 0, 0, ..., 0, 0, 0],\n",
              "       ...,\n",
              "       [0, 0, 0, ..., 0, 0, 0],\n",
              "       [0, 0, 0, ..., 0, 0, 0],\n",
              "       [0, 0, 0, ..., 0, 0, 0]])"
            ]
          },
          "metadata": {},
          "execution_count": 14
        }
      ]
    },
    {
      "cell_type": "code",
      "source": [
        "cv.get_feature_names()[50:70]"
      ],
      "metadata": {
        "colab": {
          "base_uri": "https://localhost:8080/"
        },
        "id": "YXX_YR0ljORI",
        "outputId": "31477106-a4f5-4c16-d488-1f52fbb1658f"
      },
      "execution_count": null,
      "outputs": [
        {
          "output_type": "stream",
          "name": "stderr",
          "text": [
            "/usr/local/lib/python3.7/dist-packages/sklearn/utils/deprecation.py:87: FutureWarning: Function get_feature_names is deprecated; get_feature_names is deprecated in 1.0 and will be removed in 1.2. Please use get_feature_names_out instead.\n",
            "  warnings.warn(msg, category=FutureWarning)\n"
          ]
        },
        {
          "output_type": "execute_result",
          "data": {
            "text/plain": [
              "['area',\n",
              " 'arm',\n",
              " 'armball',\n",
              " 'arms',\n",
              " 'armsandre',\n",
              " 'armsmurugan',\n",
              " 'arrive',\n",
              " 'arrow',\n",
              " 'ashish',\n",
              " 'ashwin',\n",
              " 'ask',\n",
              " 'asks',\n",
              " 'attack',\n",
              " 'attackat',\n",
              " 'attackb',\n",
              " 'attackharbhajan',\n",
              " 'attackjadeja',\n",
              " 'attackjohnson',\n",
              " 'attackkuldeep',\n",
              " 'attackladda']"
            ]
          },
          "metadata": {},
          "execution_count": 15
        }
      ]
    },
    {
      "cell_type": "code",
      "source": [
        "import nltk"
      ],
      "metadata": {
        "id": "5C0j8jIjjOMm"
      },
      "execution_count": null,
      "outputs": []
    },
    {
      "cell_type": "code",
      "source": [
        "from nltk.stem.porter import PorterStemmer\n",
        "ps=PorterStemmer()"
      ],
      "metadata": {
        "id": "PuABAirrjOJ-"
      },
      "execution_count": null,
      "outputs": []
    },
    {
      "cell_type": "code",
      "source": [
        "def stem(text):\n",
        "    y=[]\n",
        "    for i in text.split():\n",
        "        y.append (ps.stem(i))\n",
        "        \n",
        "    return\" \".join(y)"
      ],
      "metadata": {
        "id": "MqmJiSDHjuO9"
      },
      "execution_count": null,
      "outputs": []
    },
    {
      "cell_type": "code",
      "source": [
        "df[\"description\"]=df[\"description\"].apply(stem)"
      ],
      "metadata": {
        "id": "eKrtKq2TjuMg"
      },
      "execution_count": null,
      "outputs": []
    },
    {
      "cell_type": "code",
      "source": [
        "df[\"description\"][5]"
      ],
      "metadata": {
        "colab": {
          "base_uri": "https://localhost:8080/",
          "height": 105
        },
        "id": "BLu4sZS3juH4",
        "outputId": "764599ab-b269-4384-e8fc-e19e0bc16943"
      },
      "execution_count": null,
      "outputs": [
        {
          "output_type": "execute_result",
          "data": {
            "application/vnd.google.colaboratory.intrinsic+json": {
              "type": "string"
            },
            "text/plain": [
              "'harbhajan to pietersen no run quick and flat push back to the bowlerharbhajan to pietersen two run dart down leg pietersen help it on it way with a wristi tickl toward fine legharbhajan to rahan one run shortish just outsid off punch with the full face of the bat to sweeper coverharbhajan to rahan two run drift into the pad rahan play late flick off the pad and good run take care of the restshreya gopal to rahan one run drop it short around middl rahan is happi to sit back and pull that over midwicket'"
            ]
          },
          "metadata": {},
          "execution_count": 20
        }
      ]
    },
    {
      "cell_type": "code",
      "source": [
        "from sklearn.metrics.pairwise import cosine_similarity"
      ],
      "metadata": {
        "id": "1R8iTM4tjuFO"
      },
      "execution_count": null,
      "outputs": []
    },
    {
      "cell_type": "code",
      "source": [
        "similarity=cosine_similarity(vector)"
      ],
      "metadata": {
        "id": "NzzH_5hWjuCs"
      },
      "execution_count": null,
      "outputs": []
    },
    {
      "cell_type": "code",
      "source": [
        "similarity[0].shape"
      ],
      "metadata": {
        "colab": {
          "base_uri": "https://localhost:8080/"
        },
        "id": "r9clwTBjjt_2",
        "outputId": "1e5353b0-84c6-4b59-cd8b-35f57e3f0116"
      },
      "execution_count": null,
      "outputs": [
        {
          "output_type": "execute_result",
          "data": {
            "text/plain": [
              "(296,)"
            ]
          },
          "metadata": {},
          "execution_count": 23
        }
      ]
    },
    {
      "cell_type": "code",
      "source": [
        "similarity[0]"
      ],
      "metadata": {
        "colab": {
          "base_uri": "https://localhost:8080/"
        },
        "id": "6L2eYUKnkAuU",
        "outputId": "90f08e1e-dcf6-44b1-e25a-2855f9bce75f"
      },
      "execution_count": null,
      "outputs": [
        {
          "output_type": "execute_result",
          "data": {
            "text/plain": [
              "array([1.        , 0.33130929, 0.32071817, 0.19829369, 0.28642422,\n",
              "       0.39688984, 0.21319156, 0.12513694, 0.18320615, 0.13034681,\n",
              "       0.18196677, 0.16987937, 0.26653245, 0.07324062, 0.32225384,\n",
              "       0.29793557, 0.40253632, 0.14805577, 0.47944199, 0.35268409,\n",
              "       0.39805825, 0.25256572, 0.17640691, 0.26293488, 0.57057071,\n",
              "       0.33517752, 0.09777204, 0.17117121, 0.06860952, 0.07332903,\n",
              "       0.07513065, 0.10675774, 0.04250032, 0.05312539, 0.09015678,\n",
              "       0.07277139, 0.08925326, 0.08087412, 0.095061  , 0.09702852,\n",
              "       0.15378999, 0.2038835 , 0.05330649, 0.09098339, 0.12194403,\n",
              "       0.10330634, 0.06244526, 0.14665807, 0.0297088 , 0.08426399,\n",
              "       0.11484437, 0.09437743, 0.0804518 , 0.15687028, 0.14021481,\n",
              "       0.17936581, 0.18581888, 0.13282605, 0.1206777 , 0.13427775,\n",
              "       0.14234365, 0.10518291, 0.07169324, 0.01557942, 0.03115885,\n",
              "       0.12863078, 0.08957539, 0.14470312, 0.09163376, 0.13658699,\n",
              "       0.05131158, 0.09777204, 0.07277139, 0.0430033 , 0.07513065,\n",
              "       0.11594338, 0.10625079, 0.05688801, 0.18101655, 0.04352457,\n",
              "       0.12441473, 0.11687587, 0.0926006 , 0.08493969, 0.07632328,\n",
              "       0.14152971, 0.09400023, 0.04456319, 0.11179185, 0.1206777 ,\n",
              "       0.07169324, 0.12042913, 0.15393473, 0.05131158, 0.04902196,\n",
              "       0.12037713, 0.09914685, 0.05375412, 0.12221506, 0.07760074,\n",
              "       0.05829287, 0.03643749, 0.05892765, 0.02633403, 0.06488439,\n",
              "       0.04225535, 0.07167216, 0.07256553, 0.10903984, 0.12807974,\n",
              "       0.10575664, 0.1396573 , 0.05871376, 0.09148553, 0.06120368,\n",
              "       0.09562571, 0.13474643, 0.04710775, 0.10675774, 0.11756136,\n",
              "       0.10033003, 0.05636848, 0.14056789, 0.07448389, 0.12799803,\n",
              "       0.03810215, 0.01305101, 0.08925326, 0.10092679, 0.09310487,\n",
              "       0.08912639, 0.03040792, 0.05766203, 0.10503645, 0.01769704,\n",
              "       0.08925326, 0.17856197, 0.09245491, 0.03368661, 0.05222235,\n",
              "       0.05508158, 0.11650485, 0.08983095, 0.05164529, 0.11861971,\n",
              "       0.10329057, 0.03981332, 0.17755598, 0.11074145, 0.10833942,\n",
              "       0.09902932, 0.11004953, 0.06897305, 0.09719228, 0.07100053,\n",
              "       0.09754262, 0.06469004, 0.1182878 , 0.09622195, 0.03754108,\n",
              "       0.09474177, 0.05853728, 0.12310606, 0.1321284 , 0.10625079,\n",
              "       0.05352451, 0.10642773, 0.05508158, 0.07382763, 0.10750824,\n",
              "       0.10518291, 0.12158031, 0.08360796, 0.08759586, 0.07205441,\n",
              "       0.1318358 , 0.04926646, 0.08957996, 0.0623177 , 0.09622195,\n",
              "       0.07270398, 0.04965593, 0.05131158, 0.15677718, 0.08489995,\n",
              "       0.10533613, 0.05811155, 0.10040991, 0.09328401, 0.18168574,\n",
              "       0.05193141, 0.14157629, 0.12515363, 0.08867964, 0.12720546,\n",
              "       0.17825277, 0.05651251, 0.02203263, 0.06158308, 0.05888469,\n",
              "       0.03816164, 0.04815085, 0.05465623, 0.04060362, 0.07186252,\n",
              "       0.05131158, 0.21791831, 0.07789712, 0.06163661, 0.05225498,\n",
              "       0.04225535, 0.13034681, 0.0760198 , 0.03284431, 0.03284431,\n",
              "       0.02759474, 0.08957996, 0.05343698, 0.05266807, 0.01970659,\n",
              "       0.06158308, 0.02389775, 0.16819409, 0.10450995, 0.06860952,\n",
              "       0.08489995, 0.09296152, 0.02150165, 0.02389775, 0.04406526,\n",
              "       0.12799803, 0.04859614, 0.10056475, 0.        , 0.        ,\n",
              "       0.03754108, 0.05489132, 0.02011295, 0.06393661, 0.05266807,\n",
              "       0.12604374, 0.13137724, 0.03379652, 0.        , 0.05314471,\n",
              "       0.10239842, 0.0297088 , 0.06767269, 0.06130433, 0.07344211,\n",
              "       0.09163376, 0.04581688, 0.05974436, 0.05440571, 0.05573864,\n",
              "       0.10010955, 0.04521001, 0.05586292, 0.06393661, 0.10628942,\n",
              "       0.14779939, 0.04406526, 0.05573864, 0.08848518, 0.07263944,\n",
              "       0.06525503, 0.03115885, 0.11377602, 0.10217389, 0.02290844,\n",
              "       0.11228869, 0.13005854, 0.09489576, 0.12005404, 0.06450494,\n",
              "       0.06737322, 0.13137724, 0.11377602, 0.12181085, 0.0252317 ,\n",
              "       0.12163169, 0.06860952, 0.06469004, 0.03724195, 0.0430033 ,\n",
              "       0.04795245, 0.10750824, 0.09042002, 0.04311751, 0.03005226,\n",
              "       0.04109107, 0.        , 0.03430476, 0.03155579, 0.        ,\n",
              "       0.02150165])"
            ]
          },
          "metadata": {},
          "execution_count": 24
        }
      ]
    },
    {
      "cell_type": "code",
      "source": [
        "list(enumerate(similarity[0]))"
      ],
      "metadata": {
        "colab": {
          "base_uri": "https://localhost:8080/"
        },
        "id": "o7ANBlouwGjV",
        "outputId": "8f86e5fc-2c9b-4edb-fc3a-40bafc72a6dc"
      },
      "execution_count": null,
      "outputs": [
        {
          "output_type": "execute_result",
          "data": {
            "text/plain": [
              "[(0, 1.0),\n",
              " (1, 0.3313092936921745),\n",
              " (2, 0.32071816552090276),\n",
              " (3, 0.1982936921576543),\n",
              " (4, 0.2864242220055006),\n",
              " (5, 0.3968898394656922),\n",
              " (6, 0.2131915572656543),\n",
              " (7, 0.12513694346387128),\n",
              " (8, 0.18320615098480866),\n",
              " (9, 0.13034681147667526),\n",
              " (10, 0.1819667716330061),\n",
              " (11, 0.16987937080027382),\n",
              " (12, 0.2665324470808569),\n",
              " (13, 0.0732406205615697),\n",
              " (14, 0.3222538391660301),\n",
              " (15, 0.2979355690895435),\n",
              " (16, 0.4025363177538315),\n",
              " (17, 0.14805576553696873),\n",
              " (18, 0.47944199298877666),\n",
              " (19, 0.3526840868336051),\n",
              " (20, 0.3980582524271845),\n",
              " (21, 0.2525657176807114),\n",
              " (22, 0.17640691082507226),\n",
              " (23, 0.26293487548516503),\n",
              " (24, 0.570570707578867),\n",
              " (25, 0.33517751522573636),\n",
              " (26, 0.09777204440006758),\n",
              " (27, 0.17117121227366006),\n",
              " (28, 0.06860952443494397),\n",
              " (29, 0.07332903330005068),\n",
              " (30, 0.07513065311345603),\n",
              " (31, 0.10675773514997425),\n",
              " (32, 0.04250031543319916),\n",
              " (33, 0.053125394291498956),\n",
              " (34, 0.09015678373614723),\n",
              " (35, 0.07277138997289952),\n",
              " (36, 0.0892532570188561),\n",
              " (37, 0.08087412072578047),\n",
              " (38, 0.09506100395791997),\n",
              " (39, 0.09702851996386602),\n",
              " (40, 0.15378999126484738),\n",
              " (41, 0.2038834951456311),\n",
              " (42, 0.053306489416171374),\n",
              " (43, 0.09098338581650303),\n",
              " (44, 0.1219440254219901),\n",
              " (45, 0.10330634249748422),\n",
              " (46, 0.06244526490729838),\n",
              " (47, 0.14665806660010136),\n",
              " (48, 0.02970879555111533),\n",
              " (49, 0.0842639912949317),\n",
              " (50, 0.11484436771771994),\n",
              " (51, 0.09437742822237434),\n",
              " (52, 0.08045179867091297),\n",
              " (53, 0.1568702842201976),\n",
              " (54, 0.14021481439119507),\n",
              " (55, 0.17936580537501012),\n",
              " (56, 0.18581888073054809),\n",
              " (57, 0.13282605243179615),\n",
              " (58, 0.12067769800636947),\n",
              " (59, 0.13427774639211162),\n",
              " (60, 0.14234364686663234),\n",
              " (61, 0.10518291435883843),\n",
              " (62, 0.07169323570385269),\n",
              " (63, 0.015579423821243896),\n",
              " (64, 0.031158847642487792),\n",
              " (65, 0.12863077860674496),\n",
              " (66, 0.08957538892402664),\n",
              " (67, 0.14470312487519102),\n",
              " (68, 0.09163376157740079),\n",
              " (69, 0.1365869909316297),\n",
              " (70, 0.05131157827269225),\n",
              " (71, 0.09777204440006758),\n",
              " (72, 0.07277138997289952),\n",
              " (73, 0.04300329525375307),\n",
              " (74, 0.07513065311345603),\n",
              " (75, 0.1159433819232467),\n",
              " (76, 0.10625078858299791),\n",
              " (77, 0.05688801239885743),\n",
              " (78, 0.18101654700955422),\n",
              " (79, 0.04352456634956394),\n",
              " (80, 0.1244147316941966),\n",
              " (81, 0.11687586744129769),\n",
              " (82, 0.09260059755894115),\n",
              " (83, 0.08493968540013691),\n",
              " (84, 0.07632327769721767),\n",
              " (85, 0.14152971127011582),\n",
              " (86, 0.0940002251366113),\n",
              " (87, 0.044563193326672995),\n",
              " (88, 0.11179185072654416),\n",
              " (89, 0.12067769800636945),\n",
              " (90, 0.07169323570385269),\n",
              " (91, 0.12042913399785807),\n",
              " (92, 0.15393473481807673),\n",
              " (93, 0.05131157827269225),\n",
              " (94, 0.049021963818811756),\n",
              " (95, 0.12037713042133101),\n",
              " (96, 0.09914684607882714),\n",
              " (97, 0.05375411906719134),\n",
              " (98, 0.12221505550008448),\n",
              " (99, 0.07760074345035733),\n",
              " (100, 0.058292866222439135),\n",
              " (101, 0.03643748959627978),\n",
              " (102, 0.058927652992053464),\n",
              " (103, 0.026334032657486166),\n",
              " (104, 0.06488438699389479),\n",
              " (105, 0.0422553548025046),\n",
              " (106, 0.0716721587562551),\n",
              " (107, 0.07256552990001),\n",
              " (108, 0.10903983778807058),\n",
              " (109, 0.12807973746712817),\n",
              " (110, 0.10575663581741562),\n",
              " (111, 0.1396572980107235),\n",
              " (112, 0.058713758808961077),\n",
              " (113, 0.09148552676223441),\n",
              " (114, 0.06120368442281564),\n",
              " (115, 0.09562570972469811),\n",
              " (116, 0.13474643105059417),\n",
              " (117, 0.047107749715070805),\n",
              " (118, 0.10675773514997426),\n",
              " (119, 0.11756136227786838),\n",
              " (120, 0.10033002899416554),\n",
              " (121, 0.05636847628908105),\n",
              " (122, 0.14056789354329935),\n",
              " (123, 0.07448389227238586),\n",
              " (124, 0.12799802789742926),\n",
              " (125, 0.03810215067705787),\n",
              " (126, 0.013051005112921494),\n",
              " (127, 0.0892532570188561),\n",
              " (128, 0.10092678918615092),\n",
              " (129, 0.09310486534048232),\n",
              " (130, 0.08912638665334599),\n",
              " (131, 0.030407921687296068),\n",
              " (132, 0.05766203454114206),\n",
              " (133, 0.10503645397539191),\n",
              " (134, 0.017697036260052198),\n",
              " (135, 0.0892532570188561),\n",
              " (136, 0.17856197175816627),\n",
              " (137, 0.09245491069036861),\n",
              " (138, 0.03368660776264854),\n",
              " (139, 0.05222234729811739),\n",
              " (140, 0.05508158115490397),\n",
              " (141, 0.11650485436893204),\n",
              " (142, 0.08983095403372944),\n",
              " (143, 0.05164528707388909),\n",
              " (144, 0.1186197057221936),\n",
              " (145, 0.10329057414777816),\n",
              " (146, 0.03981331510237815),\n",
              " (147, 0.17755598081359913),\n",
              " (148, 0.11074145059976512),\n",
              " (149, 0.1083394173791979),\n",
              " (150, 0.09902931850371777),\n",
              " (151, 0.11004953343757916),\n",
              " (152, 0.06897304947150053),\n",
              " (153, 0.09719228129551712),\n",
              " (154, 0.07100053119114634),\n",
              " (155, 0.09754262200082649),\n",
              " (156, 0.06469003635399932),\n",
              " (157, 0.11828780397326605),\n",
              " (158, 0.09622195135913031),\n",
              " (159, 0.037541083039161385),\n",
              " (160, 0.0947417697266614),\n",
              " (161, 0.0585372818278413),\n",
              " (162, 0.12310606405592193),\n",
              " (163, 0.1321283995113241),\n",
              " (164, 0.1062507885829979),\n",
              " (165, 0.05352451277768432),\n",
              " (166, 0.10642772590553624),\n",
              " (167, 0.05508158115490397),\n",
              " (168, 0.07382763373317675),\n",
              " (169, 0.10750823813438268),\n",
              " (170, 0.10518291435883843),\n",
              " (171, 0.12158031116642802),\n",
              " (172, 0.08360796171499413),\n",
              " (173, 0.08759586042470989),\n",
              " (174, 0.07205441298066384),\n",
              " (175, 0.13183579777455112),\n",
              " (176, 0.04926646390821466),\n",
              " (177, 0.08957995898035083),\n",
              " (178, 0.06231769528497559),\n",
              " (179, 0.09622195135913031),\n",
              " (180, 0.07270397783247151),\n",
              " (181, 0.04965592818159057),\n",
              " (182, 0.05131157827269225),\n",
              " (183, 0.15677717691104348),\n",
              " (184, 0.08489995496838276),\n",
              " (185, 0.10533613062994467),\n",
              " (186, 0.05811155049169446),\n",
              " (187, 0.10040991414621311),\n",
              " (188, 0.09328400607437713),\n",
              " (189, 0.1816857417021602),\n",
              " (190, 0.05193141273747966),\n",
              " (191, 0.14157629008041758),\n",
              " (192, 0.12515362727748633),\n",
              " (193, 0.08867963503478639),\n",
              " (194, 0.1272054628286961),\n",
              " (195, 0.17825277330669198),\n",
              " (196, 0.05651250986355305),\n",
              " (197, 0.022032632461961587),\n",
              " (198, 0.06158307988526832),\n",
              " (199, 0.05888468714383851),\n",
              " (200, 0.038161638848608834),\n",
              " (201, 0.048150852168532404),\n",
              " (202, 0.05465623439441968),\n",
              " (203, 0.0406036155971406),\n",
              " (204, 0.07186252339103061),\n",
              " (205, 0.05131157827269225),\n",
              " (206, 0.21791831434385425),\n",
              " (207, 0.07789711910621948),\n",
              " (208, 0.061636607126912414),\n",
              " (209, 0.05225497607187132),\n",
              " (210, 0.0422553548025046),\n",
              " (211, 0.13034681147667523),\n",
              " (212, 0.07601980421824017),\n",
              " (213, 0.0328443092721431),\n",
              " (214, 0.0328443092721431),\n",
              " (215, 0.027594739288463094),\n",
              " (216, 0.08957995898035084),\n",
              " (217, 0.05343698285357653),\n",
              " (218, 0.05266806531497233),\n",
              " (219, 0.019706585563285865),\n",
              " (220, 0.06158307988526832),\n",
              " (221, 0.023897745234617563),\n",
              " (222, 0.16819409452039824),\n",
              " (223, 0.10450995214374265),\n",
              " (224, 0.06860952443494397),\n",
              " (225, 0.08489995496838276),\n",
              " (226, 0.09296151673300035),\n",
              " (227, 0.021501647626876536),\n",
              " (228, 0.023897745234617563),\n",
              " (229, 0.04406526492392318),\n",
              " (230, 0.12799802789742926),\n",
              " (231, 0.04859614064775855),\n",
              " (232, 0.10056474833864124),\n",
              " (233, 0.0),\n",
              " (234, 0.0),\n",
              " (235, 0.037541083039161385),\n",
              " (236, 0.05489131605734064),\n",
              " (237, 0.020112949667728246),\n",
              " (238, 0.06393660631422403),\n",
              " (239, 0.05266806531497233),\n",
              " (240, 0.1260437447704703),\n",
              " (241, 0.1313772370885724),\n",
              " (242, 0.033796515420933156),\n",
              " (243, 0.0),\n",
              " (244, 0.05314470910554977),\n",
              " (245, 0.10239842231794337),\n",
              " (246, 0.02970879555111533),\n",
              " (247, 0.067672692661901),\n",
              " (248, 0.06130433189159822),\n",
              " (249, 0.07344210820653863),\n",
              " (250, 0.09163376157740079),\n",
              " (251, 0.045816880788700394),\n",
              " (252, 0.059744363086543906),\n",
              " (253, 0.05440570793695493),\n",
              " (254, 0.055738641143329416),\n",
              " (255, 0.10010955477109704),\n",
              " (256, 0.04521000789084244),\n",
              " (257, 0.055862919204289395),\n",
              " (258, 0.06393660631422403),\n",
              " (259, 0.10628941821109954),\n",
              " (260, 0.14779939172464399),\n",
              " (261, 0.04406526492392318),\n",
              " (262, 0.055738641143329416),\n",
              " (263, 0.08848518130026099),\n",
              " (264, 0.07263943811461808),\n",
              " (265, 0.06525502556460747),\n",
              " (266, 0.031158847642487792),\n",
              " (267, 0.11377602479771488),\n",
              " (268, 0.10217388648599705),\n",
              " (269, 0.022908440394350197),\n",
              " (270, 0.1122886925421618),\n",
              " (271, 0.130058539517139),\n",
              " (272, 0.09489576457775489),\n",
              " (273, 0.12005403647735906),\n",
              " (274, 0.0645049428806296),\n",
              " (275, 0.06737321552529708),\n",
              " (276, 0.13137723708857243),\n",
              " (277, 0.11377602479771488),\n",
              " (278, 0.12181084679142179),\n",
              " (279, 0.025231697296537733),\n",
              " (280, 0.12163168674918427),\n",
              " (281, 0.06860952443494397),\n",
              " (282, 0.06469003635399932),\n",
              " (283, 0.03724194613619293),\n",
              " (284, 0.04300329525375307),\n",
              " (285, 0.04795245473566802),\n",
              " (286, 0.10750823813438268),\n",
              " (287, 0.09042001578168488),\n",
              " (288, 0.04311751403461836),\n",
              " (289, 0.03005226124538241),\n",
              " (290, 0.041091071417941605),\n",
              " (291, 0.0),\n",
              " (292, 0.03430476221747199),\n",
              " (293, 0.031555791640509485),\n",
              " (294, 0.0),\n",
              " (295, 0.021501647626876536)]"
            ]
          },
          "metadata": {},
          "execution_count": 25
        }
      ]
    },
    {
      "cell_type": "code",
      "source": [
        "#for indexing position should not be lose\n",
        "df2=sorted(list(enumerate(similarity[0])),reverse=True,key=lambda x:x[1])[1:9]"
      ],
      "metadata": {
        "id": "-HMR3yk3kArj"
      },
      "execution_count": null,
      "outputs": []
    },
    {
      "cell_type": "code",
      "source": [
        "def most_similar_overs(events):\n",
        "    events_index=df[df['overs']==events].index[0]\n",
        "    distances=similarity[events_index]\n",
        "    df2=sorted(list(enumerate(distances)),reverse=True,key=lambda x:x[1])[1:11]\n",
        "    \n",
        "    for i in df2:\n",
        "        print(df.iloc[i[0]].overs)"
      ],
      "metadata": {
        "id": "ZXDWI2_PkAnp"
      },
      "execution_count": null,
      "outputs": []
    },
    {
      "cell_type": "code",
      "source": [
        "most_similar_overs(47.2)"
      ],
      "metadata": {
        "colab": {
          "base_uri": "https://localhost:8080/"
        },
        "id": "g2iA1y0BkAku",
        "outputId": "47f5cda5-5eac-4965-c965-cf91c2a8a2dd"
      },
      "execution_count": null,
      "outputs": [
        {
          "output_type": "stream",
          "name": "stdout",
          "text": [
            "44.2\n",
            "46.2\n",
            "23.2\n",
            "46.6\n",
            "1.3\n",
            "6.3\n",
            "48.2\n",
            "5.3\n",
            "45.2\n",
            "26.2\n"
          ]
        }
      ]
    },
    {
      "cell_type": "code",
      "source": [
        "df['description'][240]"
      ],
      "metadata": {
        "colab": {
          "base_uri": "https://localhost:8080/",
          "height": 53
        },
        "id": "Xna4k8drESe9",
        "outputId": "f332df0b-757a-4994-dd2e-1ca425986053"
      },
      "execution_count": null,
      "outputs": [
        {
          "output_type": "execute_result",
          "data": {
            "application/vnd.google.colaboratory.intrinsic+json": {
              "type": "string"
            },
            "text/plain": [
              "'ashish reddi to kohli one run kohli ha miss out on that one full toss outsid off went too hard and clobber it to the man at longoffashish reddi to de villier one run'"
            ]
          },
          "metadata": {},
          "execution_count": 39
        }
      ]
    },
    {
      "cell_type": "code",
      "source": [
        ""
      ],
      "metadata": {
        "id": "U1hDKQtdESSj"
      },
      "execution_count": null,
      "outputs": []
    },
    {
      "cell_type": "code",
      "source": [
        "df['description'][19]"
      ],
      "metadata": {
        "id": "rTUQiSlYkAiI",
        "colab": {
          "base_uri": "https://localhost:8080/",
          "height": 105
        },
        "outputId": "4d1536ad-bb31-45ac-b1a2-208a9c0a03d7"
      },
      "execution_count": null,
      "outputs": [
        {
          "output_type": "execute_result",
          "data": {
            "application/vnd.google.colaboratory.intrinsic+json": {
              "type": "string"
            },
            "text/plain": [
              "'bumrah to rahan no run length ball and jinx defendsbumrah to rahan four silken from rahan and get him the result he want wait for thi back of a length deliveri and then place the back foot punch past the fielder at cover the ball race away to the sweeper cover fencebumrah to du plessi one run a littl mixup but they will get a singl anyway du plessi sensibl defend thi length deliveri toward midon and got what he want a singlebumrah to du plessi no runwel flash at it and wa beaten just outsid off'"
            ]
          },
          "metadata": {},
          "execution_count": 29
        }
      ]
    },
    {
      "cell_type": "code",
      "source": [
        ""
      ],
      "metadata": {
        "id": "xLeUylbAkAfW"
      },
      "execution_count": null,
      "outputs": []
    }
  ]
}