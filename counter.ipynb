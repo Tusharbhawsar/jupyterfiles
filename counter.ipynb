{
 "cells": [
  {
   "cell_type": "code",
   "execution_count": null,
   "id": "cb93b559",
   "metadata": {},
   "outputs": [],
   "source": [
    "# For converting image formate jpeg/ jpg/png to png/jpg/jpeg and creating folder in the same directory \n",
    "from PIL import Image\n",
    "import os\n",
    "import uuid\n",
    "import random\n",
    "import time\n",
    "directory = '/home/multi-lap-20/Animesh All Projects/Basketball'\n",
    "\n",
    "for filename in os.listdir(directory):\n",
    "    if not filename.endswith(\".jpeg\"):\n",
    "        continue\n",
    "    if not os.path.exists(\"new_png\"):\n",
    "        os.mkdir(\"new_png\")\n",
    "    save_p = \"new_png\"\n",
    "    file_name = f\"new{str(time.time())}.png\"\n",
    "    complete_path = os.path.join(directory, save_p, file_name)\n",
    "    m= os.path.join(directory, filename)\n",
    "    im1 = Image.open(m)\n",
    "    im1.save(complete_path)"
   ]
  },
  {
   "cell_type": "code",
   "execution_count": null,
   "id": "0d0eca1f",
   "metadata": {},
   "outputs": [],
   "source": [
    "# Python 3 code to rename multiple\n",
    "# files in a directory or folder\n",
    "\n",
    "# importing os module\n",
    "import os\n",
    "\n",
    "\n",
    "# Function to rename multiple files\n",
    "def main():\n",
    "    folder = \"/home/link-lap-24/tushar_data/images/smoking/\"\n",
    "    op = \"/home/link-lap-24/tushar_data/images/rename_smoking/\"\n",
    "    for count, filename in enumerate(os.listdir(folder)):\n",
    "        dst = f\"{str(count)}.jpg\"\n",
    "        src = f\"{folder}/{filename}\"  # foldername/filename, if .py file is outside folder\n",
    "        dst = f\"{op}/{dst}\"\n",
    "\n",
    "        # rename() function will\n",
    "        # rename all the files\n",
    "        os.rename(src, dst)"
   ]
  },
  {
   "cell_type": "code",
   "execution_count": 2,
   "id": "2ed552d4",
   "metadata": {},
   "outputs": [
    {
     "name": "stdout",
     "output_type": "stream",
     "text": [
      "0\n",
      "1\n",
      "2\n",
      "3\n",
      "4\n",
      "5\n",
      "6\n",
      "7\n",
      "8\n",
      "9\n",
      "10\n",
      "55\n"
     ]
    }
   ],
   "source": [
    "def recursive(n):\n",
    "\n",
    "    count = 0\n",
    "\n",
    "    for i in range(n+1):\n",
    "        print(i)\n",
    "\n",
    "        count += i\n",
    "        \n",
    "\n",
    "    print(count)\n",
    "\n",
    "recursive(10)"
   ]
  },
  {
   "cell_type": "code",
   "execution_count": 7,
   "id": "4cd2c79f",
   "metadata": {},
   "outputs": [
    {
     "name": "stdout",
     "output_type": "stream",
     "text": [
      "None\n"
     ]
    },
    {
     "ename": "AttributeError",
     "evalue": "'NoneType' object has no attribute 'tobytes'",
     "output_type": "error",
     "traceback": [
      "\u001b[0;31m---------------------------------------------------------------------------\u001b[0m",
      "\u001b[0;31mAttributeError\u001b[0m                            Traceback (most recent call last)",
      "Input \u001b[0;32mIn [7]\u001b[0m, in \u001b[0;36m<cell line: 6>\u001b[0;34m()\u001b[0m\n\u001b[1;32m      4\u001b[0m img \u001b[38;5;241m=\u001b[39m cv2\u001b[38;5;241m.\u001b[39mimread(\u001b[38;5;124m'\u001b[39m\u001b[38;5;124m/home/link-lap-24/ff.jpg/home/link-lap-24/ff.jpg\u001b[39m\u001b[38;5;124m'\u001b[39m)\n\u001b[1;32m      5\u001b[0m \u001b[38;5;28mprint\u001b[39m(img)\n\u001b[0;32m----> 6\u001b[0m img \u001b[38;5;241m=\u001b[39m \u001b[43mimg\u001b[49m\u001b[38;5;241;43m.\u001b[39;49m\u001b[43mtobytes\u001b[49m()\n\u001b[1;32m      7\u001b[0m retval, buffer \u001b[38;5;241m=\u001b[39m cv2\u001b[38;5;241m.\u001b[39mimencode(\u001b[38;5;124m'\u001b[39m\u001b[38;5;124m.jpg\u001b[39m\u001b[38;5;124m'\u001b[39m, img)\n\u001b[1;32m      8\u001b[0m payload \u001b[38;5;241m=\u001b[39m {\u001b[38;5;124m'\u001b[39m\u001b[38;5;124mimage_data\u001b[39m\u001b[38;5;124m'\u001b[39m:buffer}\n",
      "\u001b[0;31mAttributeError\u001b[0m: 'NoneType' object has no attribute 'tobytes'"
     ]
    }
   ],
   "source": [
    "import requests, cv2, io\n",
    "# import numpy as np\n",
    "url = \"http://13.232.159.216:8080/detect/file\"\n",
    "img = cv2.imread('/home/link-lap-24/ff.jpg/home/link-lap-24/ff.jpg')\n",
    "print(img)\n",
    "img = img.tobytes()\n",
    "retval, buffer = cv2.imencode('.jpg', img)\n",
    "payload = {'image_data':buffer}\n",
    "responce = requests.post(url, files=payload)"
   ]
  },
  {
   "cell_type": "code",
   "execution_count": 1,
   "id": "380e83b8",
   "metadata": {},
   "outputs": [
    {
     "name": "stdout",
     "output_type": "stream",
     "text": [
      "[2, 1, 1, 2, 1, 3]\n"
     ]
    }
   ],
   "source": [
    "input_list = [2,2,4,6,1,1,8,9,9,9]\n",
    "counts = {}\n",
    "result = []\n",
    "\n",
    "for num in input_list:\n",
    "    if num in counts:\n",
    "        counts[num] += 1\n",
    "    else:\n",
    "        counts[num] = 1\n",
    "\n",
    "for count in counts.values():\n",
    "    result.append(count)\n",
    "print (result)"
   ]
  },
  {
   "cell_type": "code",
   "execution_count": 2,
   "id": "4d50a4c3",
   "metadata": {},
   "outputs": [
    {
     "name": "stdout",
     "output_type": "stream",
     "text": [
      "[2, 1, 1, 2, 1, 3]\n"
     ]
    }
   ],
   "source": [
    "def recuring_counts(input_list):\n",
    "    counts = {}\n",
    "    result = []\n",
    "    \n",
    "    for num in input_list:\n",
    "        if num in counts:\n",
    "            counts[num] += 1\n",
    "        else:\n",
    "            counts[num] = 1\n",
    "\n",
    "    for count in counts.values():\n",
    "        result.append(count)\n",
    "    return result\n",
    "\n",
    "input_list = [2,2,4,6,1,1,8,9,9,9]\n",
    "result_list = recuring_counts(input_list)\n",
    "print(result_list)"
   ]
  },
  {
   "cell_type": "code",
   "execution_count": 24,
   "id": "3c9460fc",
   "metadata": {},
   "outputs": [
    {
     "name": "stdout",
     "output_type": "stream",
     "text": [
      "else k andar hai {}\n",
      "{2: 1}\n",
      "if k andar hai {2: 1}\n",
      "{2: 2}\n",
      "else k andar hai {2: 2}\n",
      "{2: 2, 4: 1}\n",
      "else k andar hai {2: 2, 4: 1}\n",
      "{2: 2, 4: 1, 6: 1}\n",
      "else k andar hai {2: 2, 4: 1, 6: 1}\n",
      "{2: 2, 4: 1, 6: 1, 1: 1}\n",
      "if k andar hai {2: 2, 4: 1, 6: 1, 1: 1}\n",
      "{2: 2, 4: 1, 6: 1, 1: 2}\n",
      "else k andar hai {2: 2, 4: 1, 6: 1, 1: 2}\n",
      "{2: 2, 4: 1, 6: 1, 1: 2, 8: 1}\n",
      "else k andar hai {2: 2, 4: 1, 6: 1, 1: 2, 8: 1}\n",
      "{2: 2, 4: 1, 6: 1, 1: 2, 8: 1, 9: 1}\n",
      "if k andar hai {2: 2, 4: 1, 6: 1, 1: 2, 8: 1, 9: 1}\n",
      "{2: 2, 4: 1, 6: 1, 1: 2, 8: 1, 9: 2}\n",
      "if k andar hai {2: 2, 4: 1, 6: 1, 1: 2, 8: 1, 9: 2}\n",
      "{2: 2, 4: 1, 6: 1, 1: 2, 8: 1, 9: 3}\n",
      "{2: 2, 4: 1, 6: 1, 1: 2, 8: 1, 9: 3}\n",
      "Number 2 occurs 2 times\n",
      "Number 4 occurs 1 times\n",
      "Number 6 occurs 1 times\n",
      "Number 1 occurs 2 times\n",
      "Number 8 occurs 1 times\n",
      "Number 9 occurs 3 times\n"
     ]
    }
   ],
   "source": [
    "input_list = [2, 2, 4, 6, 1, 1, 8, 9, 9, 9]\n",
    "\n",
    "# Initialize an empty dictionary to store counts\n",
    "counts = {}\n",
    "\n",
    "# Count occurrences of each number\n",
    "for num in input_list:\n",
    "    if num in counts:\n",
    "        print(\"if k andar hai\",counts)\n",
    "        counts[num] += 1\n",
    "        print(counts)\n",
    "    else:\n",
    "        print(\"else k andar hai\",counts)\n",
    "        counts[num] = 1\n",
    "        print(counts)\n",
    "print(counts)\n",
    "# Print the counts\n",
    "for number, count in counts.items():\n",
    "    print(f\"Number {number} occurs {count} times\")\n"
   ]
  },
  {
   "cell_type": "code",
   "execution_count": 20,
   "id": "21ab01ea",
   "metadata": {},
   "outputs": [
    {
     "name": "stdout",
     "output_type": "stream",
     "text": [
      "13\n",
      "counter 1\n",
      "value 2\n",
      "counter 6\n",
      "value 9\n",
      "counter 7\n",
      "value 9\n",
      "counter 9\n",
      "value 6\n",
      "counter 10\n",
      "value 6\n",
      "counter 11\n",
      "value 6\n",
      "counter 12\n",
      "value 6\n",
      "[2, 1, 1, 1, 3, 5]\n"
     ]
    }
   ],
   "source": [
    "input_list = [2,2,1,4,8,9,9,9,6,6,6,6,6]\n",
    "result = []\n",
    "count = 1\n",
    "print(len(input_list) )\n",
    "for i in range(1,len(input_list)):\n",
    "    if input_list[i] == input_list[i-1]:\n",
    "        print(\"counter\",i)\n",
    "        print(\"value\",input_list[i])\n",
    "        count += 1\n",
    "    else:\n",
    "        result.append(count)\n",
    "        count = 1\n",
    "result.append(count)\n",
    "print(result)"
   ]
  },
  {
   "cell_type": "code",
   "execution_count": 26,
   "id": "2f1fc9cc",
   "metadata": {},
   "outputs": [
    {
     "name": "stdout",
     "output_type": "stream",
     "text": [
      "1\n",
      "2\n",
      "3\n",
      "4\n",
      "5\n",
      "The sum of numbers from 1 to 5 is: 15\n"
     ]
    }
   ],
   "source": [
    "# Initialize a variable\n",
    "total = 0\n",
    "\n",
    "# Iterate through numbers from 1 to 5\n",
    "for num in range(1, 6):\n",
    "    print(num)\n",
    "    # Add each number to the total using +=\n",
    "    total += num\n",
    "\n",
    "# Print the final total\n",
    "print(\"The sum of numbers from 1 to 5 is:\", total)\n"
   ]
  },
  {
   "cell_type": "code",
   "execution_count": 27,
   "id": "94d40d74",
   "metadata": {},
   "outputs": [
    {
     "name": "stdout",
     "output_type": "stream",
     "text": [
      "Number 2 occurs 2 times\n",
      "Number 4 occurs 1 times\n",
      "Number 6 occurs 1 times\n",
      "Number 1 occurs 2 times\n",
      "Number 8 occurs 1 times\n",
      "Number 9 occurs 3 times\n"
     ]
    }
   ],
   "source": [
    "from collections import Counter\n",
    "input_list = [2, 2, 4, 6, 1, 1, 8, 9, 9, 9]\n",
    "# Count the occurrences of each number\n",
    "counts = Counter(input_list)\n",
    "# Print the counts\n",
    "for number, count in counts.items():\n",
    "    print(f\"Number {number} occurs {count} times\")"
   ]
  },
  {
   "cell_type": "code",
   "execution_count": 11,
   "id": "460fa635",
   "metadata": {},
   "outputs": [
    {
     "name": "stdout",
     "output_type": "stream",
     "text": [
      "4\n",
      "8\n",
      "12\n",
      "16\n",
      "20\n"
     ]
    }
   ],
   "source": [
    "count=0\n",
    "for i in range(5):\n",
    "    count+=4\n",
    "    print(count)"
   ]
  },
  {
   "cell_type": "code",
   "execution_count": 59,
   "id": "878f12d9",
   "metadata": {},
   "outputs": [
    {
     "name": "stdout",
     "output_type": "stream",
     "text": [
      "nothing\n",
      "nothing\n",
      "[1, 2, 4, 5, 6, 7, 9]\n"
     ]
    }
   ],
   "source": [
    "th=[1,2,1,2,4,5,6,7,9]\n",
    "em=[]\n",
    "count={}\n",
    "\n",
    "for i in th:\n",
    "    if i in em:\n",
    "        print('nothing')\n",
    "    else:\n",
    "        em.append(i)\n",
    "        \n",
    "\n",
    "print(em)"
   ]
  },
  {
   "cell_type": "code",
   "execution_count": 39,
   "id": "1f643ace",
   "metadata": {},
   "outputs": [
    {
     "name": "stdout",
     "output_type": "stream",
     "text": [
      "[1, 2, 1, 2, 4, 5, 6, 7, 9]\n"
     ]
    }
   ],
   "source": [
    "th=[1,2,1,2,4,5,6,7,9]\n",
    "em=[]\n",
    "\n",
    "for i in th:\n",
    "    if th ==em:\n",
    "        print(\"kksk\")\n",
    "    else:\n",
    "        em.append(i)\n",
    "        \n",
    "print(em)"
   ]
  },
  {
   "cell_type": "code",
   "execution_count": 37,
   "id": "6227e5a5",
   "metadata": {},
   "outputs": [
    {
     "name": "stdout",
     "output_type": "stream",
     "text": [
      "true True\n"
     ]
    }
   ],
   "source": [
    "th=[1,2,1,2,4,5,6,7,9]\n",
    "tb=[1,2,1,2,4,5,6,7,9]\n",
    " \n",
    "print('true', th==tb)\n"
   ]
  },
  {
   "cell_type": "code",
   "execution_count": 67,
   "id": "a272a74c",
   "metadata": {},
   "outputs": [
    {
     "ename": "TypeError",
     "evalue": "'method' object is not subscriptable",
     "output_type": "error",
     "traceback": [
      "\u001b[0;31m---------------------------------------------------------------------------\u001b[0m",
      "\u001b[0;31mTypeError\u001b[0m                                 Traceback (most recent call last)",
      "Input \u001b[0;32mIn [67]\u001b[0m, in \u001b[0;36m<cell line: 2>\u001b[0;34m()\u001b[0m\n\u001b[1;32m      1\u001b[0m input_list \u001b[38;5;241m=\u001b[39m [\u001b[38;5;241m1\u001b[39m,\u001b[38;5;241m6\u001b[39m,\u001b[38;5;241m4\u001b[39m,\u001b[38;5;241m1\u001b[39m,\u001b[38;5;241m2\u001b[39m,\u001b[38;5;241m6\u001b[39m,\u001b[38;5;241m4\u001b[39m,\u001b[38;5;241m4\u001b[39m]\n\u001b[0;32m----> 2\u001b[0m input_up\u001b[38;5;241m=\u001b[39m\u001b[38;5;28;43minput\u001b[39;49m\u001b[43m[\u001b[49m\u001b[43m:\u001b[49m\u001b[43m:\u001b[49m\u001b[38;5;241;43m-\u001b[39;49m\u001b[38;5;241;43m1\u001b[39;49m\u001b[43m]\u001b[49m\n\u001b[1;32m      3\u001b[0m \u001b[38;5;28mprint\u001b[39m(input_up)\n\u001b[1;32m      4\u001b[0m empty\u001b[38;5;241m=\u001b[39m[] \u001b[38;5;66;03m#single value\u001b[39;00m\n",
      "\u001b[0;31mTypeError\u001b[0m: 'method' object is not subscriptable"
     ]
    }
   ],
   "source": [
    "input_list = [1,6,4,1,2,6,4,4]\n",
    "input_up=input[::-1]\n",
    "print(input_up)\n",
    "empty=[] #single value\n",
    "count={} #key\n",
    "\n",
    "for i in input_list:\n",
    "#     print(i)\n",
    "    if i in count:\n",
    "        count[i]+=1\n",
    "#         print(count)\n",
    "    else:\n",
    "        count[i] = 1\n",
    "\n",
    "print(count) \n",
    "\n"
   ]
  },
  {
   "cell_type": "code",
   "execution_count": 66,
   "id": "4d63a215",
   "metadata": {},
   "outputs": [
    {
     "name": "stdout",
     "output_type": "stream",
     "text": [
      "dkdk\n"
     ]
    }
   ],
   "source": [
    "hdh=\"kdkd\"\n",
    "input_up=hdh[::-1]\n",
    "print(input_up)\n"
   ]
  },
  {
   "cell_type": "code",
   "execution_count": 68,
   "id": "180090c8",
   "metadata": {},
   "outputs": [
    {
     "name": "stdout",
     "output_type": "stream",
     "text": [
      "[4, 4, 6, 2, 1, 4, 6, 1]\n"
     ]
    }
   ],
   "source": [
    "input_list = [1,6,4,1,2,6,4,4]\n",
    "empty =[]\n",
    "\n",
    "for i in input_list[::-1]:\n",
    "    empty.append(i)\n",
    "    \n",
    "\n",
    "\n",
    "\n",
    "print(empty)"
   ]
  },
  {
   "cell_type": "code",
   "execution_count": 71,
   "id": "42cbbc3e",
   "metadata": {},
   "outputs": [],
   "source": [
    "input_list = [1,6,4,1,2,6,4,4]\n",
    "empty =[]\n",
    "\n",
    "for i in input_list:\n",
    "    tu=str(input_list)\n",
    "    tu[::-1]\n",
    "\n",
    "\n"
   ]
  },
  {
   "cell_type": "code",
   "execution_count": null,
   "id": "aaf24a83",
   "metadata": {},
   "outputs": [],
   "source": []
  }
 ],
 "metadata": {
  "kernelspec": {
   "display_name": "Python 3 (ipykernel)",
   "language": "python",
   "name": "python3"
  },
  "language_info": {
   "codemirror_mode": {
    "name": "ipython",
    "version": 3
   },
   "file_extension": ".py",
   "mimetype": "text/x-python",
   "name": "python",
   "nbconvert_exporter": "python",
   "pygments_lexer": "ipython3",
   "version": "3.8.10"
  }
 },
 "nbformat": 4,
 "nbformat_minor": 5
}
