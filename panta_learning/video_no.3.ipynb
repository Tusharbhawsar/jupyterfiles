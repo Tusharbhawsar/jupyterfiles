{
 "cells": [
  {
   "cell_type": "code",
   "execution_count": 1,
   "id": "3461b5b3",
   "metadata": {},
   "outputs": [],
   "source": [
    "# # # important liberary for computer vision\n",
    "# # 1.opencv\n",
    "# # 2.pil(pillow)\n",
    "# # 3.sckit-image\n",
    "# # 4.scipy\n",
    "# 5.imutils\n",
    "# 6.scipy\n",
    "# 7.wheel"
   ]
  },
  {
   "cell_type": "code",
   "execution_count": null,
   "id": "999c4ef3",
   "metadata": {},
   "outputs": [],
   "source": [
    "# # Apppications:-\n",
    "# # 1.object detection\n",
    "# # 2.face recoginition\n",
    "# # 3.Autonomous vehicle(tesla)\n",
    "# challenges:-Road obsticale,road signal,destination(gps),road lane,day or night(headlight),\n",
    "\n",
    "# # 4.Diseases Detection\n",
    "# # 5.Emotion recoginition(like:-weapons use in public area)\n",
    "# # 6.Agriculture\n",
    "# # 7.satelliate image analysis\n",
    "# # 8.Mobile & Camera\n",
    "# # 9.ocr\n",
    "# # 10.Steganography & Cryptography"
   ]
  }
 ],
 "metadata": {
  "kernelspec": {
   "display_name": "Python 3 (ipykernel)",
   "language": "python",
   "name": "python3"
  },
  "language_info": {
   "codemirror_mode": {
    "name": "ipython",
    "version": 3
   },
   "file_extension": ".py",
   "mimetype": "text/x-python",
   "name": "python",
   "nbconvert_exporter": "python",
   "pygments_lexer": "ipython3",
   "version": "3.8.10"
  }
 },
 "nbformat": 4,
 "nbformat_minor": 5
}
