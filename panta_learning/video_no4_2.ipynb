{
 "cells": [
  {
   "cell_type": "code",
   "execution_count": 1,
   "id": "e36812bb",
   "metadata": {},
   "outputs": [],
   "source": [
    "import cv2\n",
    "import imutils\n",
    "import time # for giving the delay\n",
    "\n",
    "# leftovers=remove with dilation"
   ]
  },
  {
   "cell_type": "code",
   "execution_count": 3,
   "id": "d323efd7",
   "metadata": {},
   "outputs": [
    {
     "ename": "SyntaxError",
     "evalue": "invalid syntax (1547878384.py, line 31)",
     "output_type": "error",
     "traceback": [
      "\u001b[0;36m  Input \u001b[0;32mIn [3]\u001b[0;36m\u001b[0m\n\u001b[0;31m    cv2.FONT_HERSHEY_SIMPLEX,0.5,(0,0,255),2)\u001b[0m\n\u001b[0m    ^\u001b[0m\n\u001b[0;31mSyntaxError\u001b[0m\u001b[0;31m:\u001b[0m invalid syntax\n"
     ]
    }
   ],
   "source": [
    "cam=cv2.VideoCapture(0)\n",
    "time.sleep(1)\n",
    "\n",
    "firstFrame=None\n",
    "area=500 # some threshold we defined as\n",
    "\n",
    "\n",
    "while True:\n",
    "    _,img=cam.read()# read frames from the camera \n",
    "    text='Normal'\n",
    "    img=imutils.resize(img,width=500) # resize \n",
    "    grayscale=cv2.cvtColor(img,cv2.COLOR_BGR2GRAY)# grayscaling the image\n",
    "    gussianimg=cv2.GaussianBlur(grayscale,(21,21),0) # for blur the image\n",
    "    if firstFrame is None:\n",
    "        firstFrame=gussianimg # capturing 1st frame on first iteration\n",
    "        continue\n",
    "    imgdiff=cv2.absdiff(firstFrame,gussianimg)# absoulte diff between 1st & current frame\n",
    "    thresimg=cv2.threshold(imgdiff,25,255,cv2.THRESH_BINARY)[1] #binary\n",
    "    thresimg=cv2.dilate(thresimg,None,iterations=2) # for removing the Leftoveres\n",
    "    cnts=cv2.findContours(thresimg.copy(),cv2.RETR_EXTERNAL,\n",
    "                         cv2.CHAIN_APPROX_SIMPLE)\n",
    "    cnts=imutils.grab_contours(cnts)\n",
    "    for c in cnts:\n",
    "        if cv2.contourArea(c)< area:\n",
    "            continue\n",
    "        (x,y,w,h)=cv2.boundingRect(c)\n",
    "        cv2.rectangle(img,(x,y),(x,w,y,h),(0,255,0),2)\n",
    "        text='Moving object'\n",
    "    print(text)\n",
    "    cv2.putText(img,text,(10,20)\n",
    "                cv2.FONT_HERSHEY_SIMPLEX,0.5,(0,0,255),2)\n",
    "    cv2.imshow(\"cameraFeed\",img)\n",
    "    key=cv2.waitKey(0) & OxFF\n",
    "    if key==ord('q'):\n",
    "        break\n",
    "        \n",
    "cam.release()\n",
    "cv2.destroyAllWindows()\n",
    "        \n",
    "        "
   ]
  },
  {
   "cell_type": "code",
   "execution_count": 4,
   "id": "aa211c7a",
   "metadata": {},
   "outputs": [
    {
     "ename": "IndentationError",
     "evalue": "unexpected indent (257177176.py, line 7)",
     "output_type": "error",
     "traceback": [
      "\u001b[0;36m  Input \u001b[0;32mIn [4]\u001b[0;36m\u001b[0m\n\u001b[0;31m    .decode(\"utf-8\" ).split( 'In')\u001b[0m\n\u001b[0m    ^\u001b[0m\n\u001b[0;31mIndentationError\u001b[0m\u001b[0;31m:\u001b[0m unexpected indent\n"
     ]
    }
   ],
   "source": [
    "# First we will inport the subprocess module ‘\n",
    "import subprocess\n",
    "# now we will store the profiles data in “data” variable by }\n",
    "# running the 1st cnd conmand using subprocess. check_output ;\n",
    "\n",
    "data = subprocess.check_output(['netsh’, wlan', 'show', 'profiles'])\n",
    "                                .decode(\"utf-8\" ).split( 'In')\n",
    "\\\n",
    "# now we will store the profile by converting them to list |\n",
    "                                \n",
    "profiles = (i.split(':')(1)[1:-1] for i in data if \"all users in profile\" in i)\n",
    "                \n",
    "# using for 100p in python we are checking and printing the wifi }\n",
    "# passwords if they are available using the 2nd cad comand \n",
    "                                \n",
    "for i in profiles:\n",
    "# running the 2nd cd command to check passwords\n",
    "results = subprocess.check_output(['netsh’, “wlan\",\n",
    "\"show\", \"profile\", i,\n",
    "*key=clear']).decode('utf-8' ).split('\\n')\n",
    "# storing passwords after converting them to list |\n",
    "results = [b.split(\":\")(1)[1:-1] for b in results if \"Key Content\" in b]\n",
    "# printing the profiles(wift nane) with their passwords using |\n",
    "# try and except method ‘\n",
    "           \n",
    "try:\n",
    "print (\":<30)| (:<)\". format(i, results[0]))\n",
    "except IndexError:\n",
    "print (\"(: <30}| (:<)\". format(i,\"\"))"
   ]
  },
  {
   "cell_type": "code",
   "execution_count": 3,
   "id": "5cf3ca31",
   "metadata": {},
   "outputs": [],
   "source": []
  },
  {
   "cell_type": "code",
   "execution_count": null,
   "id": "579040b6",
   "metadata": {},
   "outputs": [],
   "source": []
  }
 ],
 "metadata": {
  "kernelspec": {
   "display_name": "Python 3 (ipykernel)",
   "language": "python",
   "name": "python3"
  },
  "language_info": {
   "codemirror_mode": {
    "name": "ipython",
    "version": 3
   },
   "file_extension": ".py",
   "mimetype": "text/x-python",
   "name": "python",
   "nbconvert_exporter": "python",
   "pygments_lexer": "ipython3",
   "version": "3.8.10"
  }
 },
 "nbformat": 4,
 "nbformat_minor": 5
}
