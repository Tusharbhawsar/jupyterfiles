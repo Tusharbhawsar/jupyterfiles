{
 "cells": [
  {
   "cell_type": "code",
   "execution_count": null,
   "id": "7956f29e",
   "metadata": {},
   "outputs": [],
   "source": [
    "import cv2\n",
    "import imutils"
   ]
  },
  {
   "cell_type": "code",
   "execution_count": null,
   "id": "726e5de0",
   "metadata": {},
   "outputs": [],
   "source": [
    "# Face Detection= Haar Cascade Algorithms(only detect for face)\n",
    "# https://static.javatpoint.com/tutorial/opencv/images/face-detection-and-face-recognition2.png"
   ]
  },
  {
   "cell_type": "code",
   "execution_count": null,
   "id": "32f79a38",
   "metadata": {},
   "outputs": [],
   "source": [
    "alg='haarcascade_frontalface_alt.xml'  #accessed the model file\n",
    "haar_cascade=cv2.CascadeClassifier(alg) # loading the model file from cv2\n",
    "\n",
    "\n",
    "cam=cv2.VideoCapture(0)# initilazing the camera\n",
    "\n",
    "while True:\n",
    "    _,img=cam.read()\n",
    "    gray_img=cv2.cvtColor(img,cv2.COLOR_BGR2GRAY)\n",
    "    face=haar_cascade.detectMultiScale(gray_img,1.3,4)# get the coordinates of the face\n",
    "    for (x,y,w,h) in face:\n",
    "        cv2.rectangle(img,(x,y),(x+w,y+h),(0,255,0),2)\n",
    "    cv2.imshow('faceDetection',img)\n",
    "    key=cv2.waitKey(0) & OxFF\n",
    "    if key==ord('q'):\n",
    "        break\n",
    "        \n",
    "cam.release()\n",
    "cv2.destroyAllWindows()"
   ]
  },
  {
   "cell_type": "code",
   "execution_count": null,
   "id": "45db7dee",
   "metadata": {},
   "outputs": [],
   "source": []
  },
  {
   "cell_type": "code",
   "execution_count": null,
   "id": "03b5f300",
   "metadata": {},
   "outputs": [],
   "source": []
  }
 ],
 "metadata": {
  "kernelspec": {
   "display_name": "Python 3 (ipykernel)",
   "language": "python",
   "name": "python3"
  },
  "language_info": {
   "codemirror_mode": {
    "name": "ipython",
    "version": 3
   },
   "file_extension": ".py",
   "mimetype": "text/x-python",
   "name": "python",
   "nbconvert_exporter": "python",
   "pygments_lexer": "ipython3",
   "version": "3.8.10"
  }
 },
 "nbformat": 4,
 "nbformat_minor": 5
}
