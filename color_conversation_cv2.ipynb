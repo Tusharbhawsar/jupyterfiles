{
 "cells": [
  {
   "cell_type": "code",
   "execution_count": 2,
   "id": "bc08e7f7",
   "metadata": {},
   "outputs": [],
   "source": [
    "import cv2\n",
    "import imutils"
   ]
  },
  {
   "cell_type": "code",
   "execution_count": 3,
   "id": "45bc2e48",
   "metadata": {},
   "outputs": [],
   "source": [
    "read_img=cv2.imread('1.jpg')"
   ]
  },
  {
   "cell_type": "code",
   "execution_count": 4,
   "id": "aa5a0cd1",
   "metadata": {},
   "outputs": [
    {
     "data": {
      "text/plain": [
       "array([[[135,  54,  17],\n",
       "        [135,  54,  17],\n",
       "        [139,  53,  17],\n",
       "        ...,\n",
       "        [128,  30,  14],\n",
       "        [169,  71,  55],\n",
       "        [172,  74,  58]],\n",
       "\n",
       "       [[137,  56,  19],\n",
       "        [139,  55,  19],\n",
       "        [141,  55,  19],\n",
       "        ...,\n",
       "        [127,  29,  13],\n",
       "        [171,  73,  57],\n",
       "        [175,  77,  61]],\n",
       "\n",
       "       [[144,  60,  24],\n",
       "        [144,  60,  24],\n",
       "        [146,  60,  24],\n",
       "        ...,\n",
       "        [128,  30,  14],\n",
       "        [175,  77,  61],\n",
       "        [178,  80,  64]],\n",
       "\n",
       "       ...,\n",
       "\n",
       "       [[196, 162, 133],\n",
       "        [196, 162, 133],\n",
       "        [196, 162, 133],\n",
       "        ...,\n",
       "        [195, 159, 129],\n",
       "        [195, 159, 129],\n",
       "        [195, 159, 129]],\n",
       "\n",
       "       [[196, 162, 133],\n",
       "        [196, 162, 133],\n",
       "        [196, 162, 133],\n",
       "        ...,\n",
       "        [195, 159, 129],\n",
       "        [195, 159, 129],\n",
       "        [195, 159, 129]],\n",
       "\n",
       "       [[196, 162, 133],\n",
       "        [196, 162, 133],\n",
       "        [196, 162, 133],\n",
       "        ...,\n",
       "        [195, 159, 129],\n",
       "        [195, 159, 129],\n",
       "        [195, 159, 129]]], dtype=uint8)"
      ]
     },
     "execution_count": 4,
     "metadata": {},
     "output_type": "execute_result"
    }
   ],
   "source": [
    "read_img"
   ]
  },
  {
   "cell_type": "code",
   "execution_count": 5,
   "id": "7024f5fa",
   "metadata": {},
   "outputs": [],
   "source": [
    "cv2.imshow('open',read_img)"
   ]
  },
  {
   "cell_type": "code",
   "execution_count": 6,
   "id": "9fd3841b",
   "metadata": {},
   "outputs": [
    {
     "data": {
      "text/plain": [
       "array([[[135,  54,  17],\n",
       "        [135,  54,  17],\n",
       "        [139,  53,  17],\n",
       "        ...,\n",
       "        [128,  30,  14],\n",
       "        [169,  71,  55],\n",
       "        [172,  74,  58]],\n",
       "\n",
       "       [[137,  56,  19],\n",
       "        [139,  55,  19],\n",
       "        [141,  55,  19],\n",
       "        ...,\n",
       "        [127,  29,  13],\n",
       "        [171,  73,  57],\n",
       "        [175,  77,  61]],\n",
       "\n",
       "       [[144,  60,  24],\n",
       "        [144,  60,  24],\n",
       "        [146,  60,  24],\n",
       "        ...,\n",
       "        [128,  30,  14],\n",
       "        [175,  77,  61],\n",
       "        [178,  80,  64]],\n",
       "\n",
       "       ...,\n",
       "\n",
       "       [[196, 162, 133],\n",
       "        [196, 162, 133],\n",
       "        [196, 162, 133],\n",
       "        ...,\n",
       "        [195, 159, 129],\n",
       "        [195, 159, 129],\n",
       "        [195, 159, 129]],\n",
       "\n",
       "       [[196, 162, 133],\n",
       "        [196, 162, 133],\n",
       "        [196, 162, 133],\n",
       "        ...,\n",
       "        [195, 159, 129],\n",
       "        [195, 159, 129],\n",
       "        [195, 159, 129]],\n",
       "\n",
       "       [[196, 162, 133],\n",
       "        [196, 162, 133],\n",
       "        [196, 162, 133],\n",
       "        ...,\n",
       "        [195, 159, 129],\n",
       "        [195, 159, 129],\n",
       "        [195, 159, 129]]], dtype=uint8)"
      ]
     },
     "execution_count": 6,
     "metadata": {},
     "output_type": "execute_result"
    }
   ],
   "source": [
    "img_read=cv2.imread('1.jpg')# for read an img\n",
    "img_read"
   ]
  },
  {
   "cell_type": "code",
   "execution_count": 7,
   "id": "2ba7b9e1",
   "metadata": {},
   "outputs": [
    {
     "data": {
      "text/plain": [
       "True"
      ]
     },
     "execution_count": 7,
     "metadata": {},
     "output_type": "execute_result"
    }
   ],
   "source": [
    "resize_img=imutils.resize(img_read,width=200)# for resizing the img\n",
    "cv2.imwrite('new_img2.jpg',resize_img)# save an image"
   ]
  },
  {
   "cell_type": "code",
   "execution_count": 8,
   "id": "f3a438e7",
   "metadata": {},
   "outputs": [
    {
     "data": {
      "text/plain": [
       "True"
      ]
     },
     "execution_count": 8,
     "metadata": {},
     "output_type": "execute_result"
    }
   ],
   "source": [
    "# for bluring the img\n",
    "blur_img=cv2.GaussianBlur(img_read,(41,41),0)\n",
    "\n",
    "cv2.imwrite('blur.jpg',blur_img) #imwrite function of cv2 in use to save an img"
   ]
  },
  {
   "cell_type": "code",
   "execution_count": 9,
   "id": "44ba3be2",
   "metadata": {},
   "outputs": [
    {
     "data": {
      "text/plain": [
       "True"
      ]
     },
     "execution_count": 9,
     "metadata": {},
     "output_type": "execute_result"
    }
   ],
   "source": [
    "# for color conversion\n",
    "col_conv=cv2.cvtColor(img_read,cv2.COLOR_BGR2GRAY)# for color conversion\n",
    "\n",
    "cv2.imwrite('col_con_img.jpg',col_conv)"
   ]
  },
  {
   "cell_type": "code",
   "execution_count": 10,
   "id": "bfebcc69",
   "metadata": {},
   "outputs": [
    {
     "data": {
      "text/plain": [
       "True"
      ]
     },
     "execution_count": 10,
     "metadata": {},
     "output_type": "execute_result"
    }
   ],
   "source": [
    "# for color conversion\n",
    "col_conv=cv2.cvtColor(img_read,cv2.COLOR_BGR2GRAY)# for color conversion\n",
    "cv2.threshold(col_conv,180,255,cv2.THRESH_BINARY)[1]\n",
    "\n",
    "\n",
    "cv2.imwrite('col_con_img2.jpg',col_conv)"
   ]
  },
  {
   "cell_type": "code",
   "execution_count": 1,
   "id": "94b4a4f3",
   "metadata": {},
   "outputs": [],
   "source": [
    "# for opening the camera\n",
    "# while True:(infinite loop) for continue Loop for continue work \n",
    "# for closing the camera pressing q\n",
    "\n",
    "import cv2\n",
    "\n",
    "vs=cv2.VideoCapture(0)# initialize the camera\n",
    "while True:\n",
    "    _,img=vs.read()# reading the frames from the camera\n",
    "    cv2.imshow(\"camera\",img)\n",
    "    key=cv2.waitKey(1) & 0xFF # its showing camera untill press any key\n",
    "    if key ==ord('q'): # for closing the camera\n",
    "        break\n",
    "vs.release() #releasing the camera \n",
    "cv2.destroyAllWindows()"
   ]
  },
  {
   "cell_type": "code",
   "execution_count": null,
   "id": "46866302",
   "metadata": {},
   "outputs": [],
   "source": []
  }
 ],
 "metadata": {
  "kernelspec": {
   "display_name": "Python 3 (ipykernel)",
   "language": "python",
   "name": "python3"
  },
  "language_info": {
   "codemirror_mode": {
    "name": "ipython",
    "version": 3
   },
   "file_extension": ".py",
   "mimetype": "text/x-python",
   "name": "python",
   "nbconvert_exporter": "python",
   "pygments_lexer": "ipython3",
   "version": "3.8.10"
  }
 },
 "nbformat": 4,
 "nbformat_minor": 5
}
