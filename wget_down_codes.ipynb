{
 "cells": [
  {
   "cell_type": "code",
   "execution_count": 1,
   "id": "3d86dd61",
   "metadata": {},
   "outputs": [],
   "source": [
    "# import csv\n",
    "# import os\n",
    "# with open('football_for_goalpost.csv','r') as csvfile:\n",
    "#     reader = csv.DictReader(csvfile) #objects csv.DictReader() class used to read CSV file as a dictionary.\n",
    "#     for row in reader:\n",
    "#         print(dict(row))\n",
    "#         urls = row['Source Url']\n",
    "#         try:\n",
    "#             cmd  = \"wget {}\".format(urls) #if i want two variable so i print 2 {}{}\n",
    "#             os.system(cmd)\n",
    "#         except:\n",
    "#             pass"
   ]
  },
  {
   "cell_type": "code",
   "execution_count": 2,
   "id": "b2409381",
   "metadata": {},
   "outputs": [
    {
     "name": "stdout",
     "output_type": "stream",
     "text": [
      "('a', 'b')\n"
     ]
    }
   ],
   "source": [
    "a = (\"a\", \"b\", \"c\", \"d\", \"e\", \"f\", \"g\", \"h\")\n",
    "x = slice(2)\n",
    "print(a[x])"
   ]
  },
  {
   "cell_type": "code",
   "execution_count": null,
   "id": "76b15c57",
   "metadata": {},
   "outputs": [],
   "source": [
    "folder='/home/link-lap-24/Downloads/football_again_ball_detedction/'\n",
    "\n",
    "for count,filename in enumerate(os.listdir(folder)):\n",
    "    dst=f\"ball{str(count)}.jpg\"\n",
    "    src=f\"{folder}/{filename}\"\n",
    "    dst=f\"{folder}/{dst}\"\n",
    "    os.rename(src, dst)\n"
   ]
  },
  {
   "cell_type": "code",
   "execution_count": null,
   "id": "0a4d39d9",
   "metadata": {},
   "outputs": [],
   "source": [
    "import os\n",
    "\n",
    "filerename=os.listdir(\"/home/link-lap-24/Downloads/football_again_ball_detedction\")\n",
    "file_update=filerename[0:3000]\n"
   ]
  },
  {
   "cell_type": "code",
   "execution_count": 1,
   "id": "cdf39b17",
   "metadata": {},
   "outputs": [
    {
     "name": "stdout",
     "output_type": "stream",
     "text": [
      "/bin/bash: line 0: fg: no job control\r\n"
     ]
    }
   ],
   "source": [
    "!%pwd"
   ]
  },
  {
   "cell_type": "code",
   "execution_count": 1,
   "id": "9571d05f",
   "metadata": {},
   "outputs": [],
   "source": [
    "# !ls "
   ]
  },
  {
   "cell_type": "code",
   "execution_count": null,
   "id": "2c704f47",
   "metadata": {},
   "outputs": [],
   "source": [
    "import pandas as pd\n",
    "import urllib\n",
    "import json,traceback"
   ]
  },
  {
   "cell_type": "code",
   "execution_count": 1,
   "id": "5d737bef",
   "metadata": {},
   "outputs": [
    {
     "ename": "NameError",
     "evalue": "name 'pd' is not defined",
     "output_type": "error",
     "traceback": [
      "\u001b[0;31m---------------------------------------------------------------------------\u001b[0m",
      "\u001b[0;31mNameError\u001b[0m                                 Traceback (most recent call last)",
      "Input \u001b[0;32mIn [1]\u001b[0m, in \u001b[0;36m<cell line: 1>\u001b[0;34m()\u001b[0m\n\u001b[0;32m----> 1\u001b[0m df\u001b[38;5;241m=\u001b[39m\u001b[43mpd\u001b[49m\u001b[38;5;241m.\u001b[39mread_csv(\u001b[38;5;124m\"\u001b[39m\u001b[38;5;124mdead.csv\u001b[39m\u001b[38;5;124m\"\u001b[39m)\n",
      "\u001b[0;31mNameError\u001b[0m: name 'pd' is not defined"
     ]
    }
   ],
   "source": [
    "df=pd.read_csv(\"dead.csv\")"
   ]
  },
  {
   "cell_type": "code",
   "execution_count": null,
   "id": "a0c016c8",
   "metadata": {},
   "outputs": [],
   "source": [
    "import pandas as pd\n",
    "import urllib\n",
    "import json,traceback\n",
    "\n",
    "\n",
    "df=pd.read_csv(\"dead.csv\")\n",
    "\n",
    "\n",
    "\n",
    "failed=[]\n",
    "\n",
    "for ind,value in enumerate (df[\"Source Url\"]):\n",
    "#     if ind >30:\n",
    "#         continue\n",
    "    name=str(ind) + \".jpeg\"\n",
    "    print(name,value)\n",
    "    \n",
    "    try:\n",
    "        urllib.request.urlretrieve(value,name)\n",
    "    except:\n",
    "        print(traceback.format_exc())\n",
    "        failed.append(value)\n",
    "        pass\n",
    "        \n",
    "json.dump(failed,open(\"missing_dead_file.json\",\"w\"))"
   ]
  },
  {
   "cell_type": "code",
   "execution_count": null,
   "id": "03f76f00",
   "metadata": {},
   "outputs": [],
   "source": [
    "import csv\n",
    "import os\n",
    "import json, traceback\n",
    "from threading import Thread\n",
    "\n",
    "output_dir = \"out_data/\"\n",
    "\n",
    "if not os.path.exists(output_dir):\n",
    "    os.mkdir(output_dir)\n",
    "\n",
    "def download_the_file(url_):\n",
    "    print('here')\n",
    "    try:\n",
    "        cmd  = f\"wget {url_} -O {output_dir}{url_.split('/')[-1]}\"\n",
    "        os.system(cmd)\n",
    "        print(cmd)\n",
    "    except:\n",
    "        print(traceback.format_exc())\n",
    "        failed.append(url_)\n"
   ]
  },
  {
   "cell_type": "code",
   "execution_count": null,
   "id": "fc492ce1",
   "metadata": {},
   "outputs": [],
   "source": [
    "\n",
    "output_dir = \"out_data/\"\n",
    "if not os.path.exists(output_dir):\n",
    "    os.mkdir(output_dir)\n",
    "\n",
    "failed = []\n",
    "count = 0 \n",
    "with open('dead.csv','r') as csvfile:\n",
    "    reader = csv.DictReader(csvfile) #objects csv.DictReader() class used to read CSV file as a dictionary.\n",
    "    for row in reader:\n",
    "        print(dict(row))\n",
    "        urls = row['Source Url']\n",
    "        # count += 1\n",
    "        # if count > 500:\n",
    "        #   break\n",
    "        try:\n",
    "            #cmd  = \"wget {}\".format(urls) #if i want two variable so i print 2 {}{}\n",
    "            #os.system(cmd)\n",
    "            # download_the_file(urls)\n",
    "            Thread(target=download_the_file, args=[urls]).start()\n",
    "        except:\n",
    "            failed.append(urls)\n",
    "            pass\n",
    "\n",
    "\n",
    "json.dump(failed, open('failed_ones.json', 'w'))"
   ]
  }
 ],
 "metadata": {
  "kernelspec": {
   "display_name": "Python 3 (ipykernel)",
   "language": "python",
   "name": "python3"
  },
  "language_info": {
   "codemirror_mode": {
    "name": "ipython",
    "version": 3
   },
   "file_extension": ".py",
   "mimetype": "text/x-python",
   "name": "python",
   "nbconvert_exporter": "python",
   "pygments_lexer": "ipython3",
   "version": "3.8.10"
  }
 },
 "nbformat": 4,
 "nbformat_minor": 5
}
