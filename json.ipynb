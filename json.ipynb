{
 "cells": [
  {
   "cell_type": "code",
   "execution_count": 5,
   "id": "b2029d84",
   "metadata": {},
   "outputs": [],
   "source": [
    "# Python program to read\n",
    "# json file\n",
    "\n",
    "\n",
    "import json\n",
    "\n",
    "# Opening JSON file\n",
    "f = open('datajun13.json')\n",
    "\n",
    "# returns JSON object as\n",
    "# a dictionary\n",
    "data = json.load(f)"
   ]
  },
  {
   "cell_type": "code",
   "execution_count": 6,
   "id": "90897b1b",
   "metadata": {},
   "outputs": [
    {
     "data": {
      "text/plain": [
       "{'628e1454567fdc37e0b93833': {'rect': [[1286, 348, 109, 87, 'ball']],\n",
       "  'imageUrl': 'https://ai-studio-new.s3-ap-south-1.amazonaws.com/ai-studio/628e13db567fdc37e0b937f4/data/01028d-3246-b253-a841-6188f06bb48fjpg.jpeg',\n",
       "  'point': [],\n",
       "  'line': [],\n",
       "  'polygon': []},\n",
       " '628e1455567fdc37e0b93836': {'rect': [[1273, 367, 112, 90, 'ball']],\n",
       "  'imageUrl': 'https://ai-studio-new.s3-ap-south-1.amazonaws.com/ai-studio/628e13db567fdc37e0b937f4/data/8cad111-630a-027a-0af8-6e0b77f233jpg.jpeg',\n",
       "  'point': [],\n",
       "  'line': [],\n",
       "  'polygon': []},\n",
       " '628e1455567fdc37e0b93838': {'rect': [[1375, 342, 36, 29, 'ball']],\n",
       "  'imageUrl': 'https://ai-studio-new.s3-ap-south-1.amazonaws.com/ai-studio/628e13db567fdc37e0b937f4/data/f66edbf-2387-0c3-a7d0-7d722a2d1015jpg.jpeg',\n",
       "  'point': [],\n",
       "  'line': [],\n",
       "  'polygon': []},\n",
       " '628e1456567fdc37e0b9383a': {'rect': [[1349, 342, 39, 32, 'ball']],\n",
       "  'imageUrl': 'https://ai-studio-new.s3-ap-south-1.amazonaws.com/ai-studio/628e13db567fdc37e0b937f4/data/030ca0-6f2-d1c-5835-2feb5315dfjpg.jpeg',\n",
       "  'point': [],\n",
       "  'line': [],\n",
       "  'polygon': []},\n",
       " '628e1457567fdc37e0b9383c': {'rect': [[1320, 342, 45, 36, 'ball']],\n",
       "  'imageUrl': 'https://ai-studio-new.s3-ap-south-1.amazonaws.com/ai-studio/628e13db567fdc37e0b937f4/data/e57cf-cc7b-566a-3d6f-3da66c8a0a8jpg.jpeg',\n",
       "  'point': [],\n",
       "  'line': [],\n",
       "  'polygon': []},\n",
       " '628e1458567fdc37e0b9383e': {'rect': [[1292, 348, 45, 32, 'ball']],\n",
       "  'imageUrl': 'https://ai-studio-new.s3-ap-south-1.amazonaws.com/ai-studio/628e13db567fdc37e0b937f4/data/e2f20e7-46fa-f3f0-3db7-46ae3710a81cjpg.jpeg',\n",
       "  'point': [],\n",
       "  'line': [],\n",
       "  'polygon': []},\n",
       " '628e1458567fdc37e0b93841': {'rect': [[1260, 351, 45, 36, 'ball']],\n",
       "  'imageUrl': 'https://ai-studio-new.s3-ap-south-1.amazonaws.com/ai-studio/628e13db567fdc37e0b937f4/data/e2a7a5-d0af-808a-d18b-ed457dd7a3jpg.jpeg',\n",
       "  'point': [],\n",
       "  'line': [],\n",
       "  'polygon': []},\n",
       " '628e1459567fdc37e0b93843': {'rect': [[1221, 358, 48, 36, 'ball']],\n",
       "  'imageUrl': 'https://ai-studio-new.s3-ap-south-1.amazonaws.com/ai-studio/628e13db567fdc37e0b937f4/data/52ad1d5-646a-70d-be21-5e84f6e23beejpg.jpeg',\n",
       "  'point': [],\n",
       "  'line': [],\n",
       "  'polygon': []},\n",
       " '628e145a567fdc37e0b93846': {'rect': [[1183, 367, 45, 32, 'ball']],\n",
       "  'imageUrl': 'https://ai-studio-new.s3-ap-south-1.amazonaws.com/ai-studio/628e13db567fdc37e0b937f4/data/f27ffb-bdda-64d6-76ef-dd1fecb1ba5jpg.jpeg',\n",
       "  'point': [],\n",
       "  'line': [],\n",
       "  'polygon': []},\n",
       " '628e145b567fdc37e0b93848': {'rect': [[1138, 374, 48, 36, 'ball']],\n",
       "  'imageUrl': 'https://ai-studio-new.s3-ap-south-1.amazonaws.com/ai-studio/628e13db567fdc37e0b937f4/data/bfe73-c43a-347b-d6f5-863f4f5e83fjpg.jpeg',\n",
       "  'point': [],\n",
       "  'line': [],\n",
       "  'polygon': []},\n",
       " '628e145c567fdc37e0b9384a': {'rect': [[1084, 383, 55, 39, 'ball']],\n",
       "  'imageUrl': 'https://ai-studio-new.s3-ap-south-1.amazonaws.com/ai-studio/628e13db567fdc37e0b937f4/data/fad40c2-f08f-c48f-83b-eda673274af7jpg.jpeg',\n",
       "  'point': [],\n",
       "  'line': [],\n",
       "  'polygon': []},\n",
       " '628e145c567fdc37e0b9384c': {'rect': [[1032, 399, 48, 36, 'ball']],\n",
       "  'imageUrl': 'https://ai-studio-new.s3-ap-south-1.amazonaws.com/ai-studio/628e13db567fdc37e0b937f4/data/dbb825-aa80-b513-e7fc-65803e108827jpg.jpeg',\n",
       "  'point': [],\n",
       "  'line': [],\n",
       "  'polygon': []},\n",
       " '628e145d567fdc37e0b9384e': {'rect': [[911, 425, 55, 39, 'ball']],\n",
       "  'imageUrl': 'https://ai-studio-new.s3-ap-south-1.amazonaws.com/ai-studio/628e13db567fdc37e0b937f4/data/0f3a28c-a210-15ac-3b3-dd6180d5a7djpg.jpeg',\n",
       "  'point': [],\n",
       "  'line': [],\n",
       "  'polygon': []},\n",
       " '628e145e567fdc37e0b93851': {'rect': [[847, 444, 61, 32, 'ball']],\n",
       "  'imageUrl': 'https://ai-studio-new.s3-ap-south-1.amazonaws.com/ai-studio/628e13db567fdc37e0b937f4/data/2fc5ca-3fe6-e3dc-a02c-ea02ba7cee43jpg.jpeg',\n",
       "  'point': [],\n",
       "  'line': [],\n",
       "  'polygon': []},\n",
       " '628e145f567fdc37e0b93854': {'rect': [[709, 479, 61, 39, 'ball']],\n",
       "  'imageUrl': 'https://ai-studio-new.s3-ap-south-1.amazonaws.com/ai-studio/628e13db567fdc37e0b937f4/data/43f0b7a-0858-05b4-7fa-70f4b02c5bbjpg.jpeg',\n",
       "  'point': [],\n",
       "  'line': [],\n",
       "  'polygon': []},\n",
       " '628e145f567fdc37e0b93856': {'rect': [[668, 351, 36, 36, 'ball']],\n",
       "  'imageUrl': 'https://ai-studio-new.s3-ap-south-1.amazonaws.com/ai-studio/628e13db567fdc37e0b937f4/data/f4a01fe-0efe-f40a-02fd-f253f4aecc03jpg.jpeg',\n",
       "  'point': [],\n",
       "  'line': [],\n",
       "  'polygon': []},\n",
       " '628e1460567fdc37e0b93859': {'rect': [[674, 376, 32, 29, 'ball']],\n",
       "  'imageUrl': 'https://ai-studio-new.s3-ap-south-1.amazonaws.com/ai-studio/628e13db567fdc37e0b937f4/data/0e4318-c350-d1e0-6bd6-bf0f4ed1668jpg.jpeg',\n",
       "  'point': [],\n",
       "  'line': [],\n",
       "  'polygon': []},\n",
       " '628e1461567fdc37e0b9385b': {'rect': [[1442, 551, 48, 42, 'ball']],\n",
       "  'imageUrl': 'https://ai-studio-new.s3-ap-south-1.amazonaws.com/ai-studio/628e13db567fdc37e0b937f4/data/ca28f2-16d4-1db8-d2e4-4d841d2c8fajpg.jpeg',\n",
       "  'point': [],\n",
       "  'line': [],\n",
       "  'polygon': []},\n",
       " '628e1462567fdc37e0b9385d': {'rect': [[1483, 580, 52, 42, 'ball']],\n",
       "  'imageUrl': 'https://ai-studio-new.s3-ap-south-1.amazonaws.com/ai-studio/628e13db567fdc37e0b937f4/data/0378c16-fce-eaae-3182-b8e21eaf612jpg.jpeg',\n",
       "  'point': [],\n",
       "  'line': [],\n",
       "  'polygon': []},\n",
       " '628e1462567fdc37e0b93860': {'rect': [[1525, 608, 48, 45, 'ball']],\n",
       "  'imageUrl': 'https://ai-studio-new.s3-ap-south-1.amazonaws.com/ai-studio/628e13db567fdc37e0b937f4/data/3bb0147-1fce-4bfa-f0b4-fd10abc4604jpg.jpeg',\n",
       "  'point': [],\n",
       "  'line': [],\n",
       "  'polygon': []},\n",
       " '628e1463567fdc37e0b93862': {'rect': [[1569, 647, 55, 48, 'ball']],\n",
       "  'imageUrl': 'https://ai-studio-new.s3-ap-south-1.amazonaws.com/ai-studio/628e13db567fdc37e0b937f4/data/d24ec01-b156-cdab-daa5-dec63110a7fcjpg.jpeg',\n",
       "  'point': [],\n",
       "  'line': [],\n",
       "  'polygon': []},\n",
       " '628e1464567fdc37e0b93865': {'rect': [[901, 748, 52, 48, 'ball']],\n",
       "  'imageUrl': 'https://ai-studio-new.s3-ap-south-1.amazonaws.com/ai-studio/628e13db567fdc37e0b937f4/data/880ec26-f61a-7315-fdef-1d16b5825efjpg.jpeg',\n",
       "  'point': [],\n",
       "  'line': [],\n",
       "  'polygon': []},\n",
       " '628e1465567fdc37e0b93867': {'rect': [[914, 742, 45, 42, 'ball']],\n",
       "  'imageUrl': 'https://ai-studio-new.s3-ap-south-1.amazonaws.com/ai-studio/628e13db567fdc37e0b937f4/data/ee2bbf4-2cab-7e65-227-2076bb3e7113jpg.jpeg',\n",
       "  'point': [],\n",
       "  'line': [],\n",
       "  'polygon': []},\n",
       " '628e1466567fdc37e0b93869': {'rect': [[930, 716, 48, 45, 'ball']],\n",
       "  'imageUrl': 'https://ai-studio-new.s3-ap-south-1.amazonaws.com/ai-studio/628e13db567fdc37e0b937f4/data/cd51ec2-1736-45e8-4852-88f162d628c1jpg.jpeg',\n",
       "  'point': [],\n",
       "  'line': [],\n",
       "  'polygon': []},\n",
       " '628e1467567fdc37e0b9386b': {'rect': [],\n",
       "  'imageUrl': 'https://ai-studio-new.s3-ap-south-1.amazonaws.com/ai-studio/628e13db567fdc37e0b937f4/data/7daedba-445e-be1c-4ba6-0f0be4eaa7jpg.jpeg',\n",
       "  'point': [],\n",
       "  'line': [],\n",
       "  'polygon': []},\n",
       " '628e1467567fdc37e0b9386d': {'rect': [[940, 710, 48, 42, 'ball']],\n",
       "  'imageUrl': 'https://ai-studio-new.s3-ap-south-1.amazonaws.com/ai-studio/628e13db567fdc37e0b937f4/data/f55f45-4034-1dad-74b8-01c1030df27cjpg.jpeg',\n",
       "  'point': [],\n",
       "  'line': [],\n",
       "  'polygon': []},\n",
       " '628e1468567fdc37e0b93870': {'rect': [[55, 650, 90, 64, 'ball']],\n",
       "  'imageUrl': 'https://ai-studio-new.s3-ap-south-1.amazonaws.com/ai-studio/628e13db567fdc37e0b937f4/data/d01e67-dd28-8a6-5c47-ed27b287a5ejpg.jpeg',\n",
       "  'point': [],\n",
       "  'line': [],\n",
       "  'polygon': []},\n",
       " '628e1468567fdc37e0b93872': {'rect': [[147, 624, 80, 64, 'ball']],\n",
       "  'imageUrl': 'https://ai-studio-new.s3-ap-south-1.amazonaws.com/ai-studio/628e13db567fdc37e0b937f4/data/1fe1dac-153e-24bb-3758-cd48383b3jpg.jpeg',\n",
       "  'point': [],\n",
       "  'line': [],\n",
       "  'polygon': []},\n",
       " '628e1469567fdc37e0b93875': {'rect': [],\n",
       "  'imageUrl': 'https://ai-studio-new.s3-ap-south-1.amazonaws.com/ai-studio/628e13db567fdc37e0b937f4/data/53e33b7-758-f4b-0a72-4f7fb1b34df1jpg.jpeg',\n",
       "  'point': [],\n",
       "  'line': [],\n",
       "  'polygon': []},\n",
       " '628e146a567fdc37e0b93877': {'rect': [[397, 570, 84, 58, 'ball']],\n",
       "  'imageUrl': 'https://ai-studio-new.s3-ap-south-1.amazonaws.com/ai-studio/628e13db567fdc37e0b937f4/data/27278d-0352-4055-105f-41ad7658a4jpg.jpeg',\n",
       "  'point': [],\n",
       "  'line': [],\n",
       "  'polygon': []},\n",
       " '628e146b567fdc37e0b93879': {'rect': [[483, 563, 77, 52, 'ball']],\n",
       "  'imageUrl': 'https://ai-studio-new.s3-ap-south-1.amazonaws.com/ai-studio/628e13db567fdc37e0b937f4/data/d6d60cf-bf37-461c-6fdb-1ad4251e3b5jpg.jpeg',\n",
       "  'point': [],\n",
       "  'line': [],\n",
       "  'polygon': []},\n",
       " '628e146b567fdc37e0b9387b': {'rect': [[563, 554, 80, 52, 'ball']],\n",
       "  'imageUrl': 'https://ai-studio-new.s3-ap-south-1.amazonaws.com/ai-studio/628e13db567fdc37e0b937f4/data/4c85cab-c77b-561a-3f7-50624313f6bjpg.jpeg',\n",
       "  'point': [],\n",
       "  'line': [],\n",
       "  'polygon': []},\n",
       " '628e146c567fdc37e0b9387e': {'rect': [[1512, 432, 39, 32, 'ball']],\n",
       "  'imageUrl': 'https://ai-studio-new.s3-ap-south-1.amazonaws.com/ai-studio/628e13db567fdc37e0b937f4/data/4d654db-a141-3270-145d-6dcc45205cjpg.jpeg',\n",
       "  'point': [],\n",
       "  'line': [],\n",
       "  'polygon': []},\n",
       " '628e146d567fdc37e0b93880': {'rect': [[1484, 439, 42, 26, 'ball']],\n",
       "  'imageUrl': 'https://ai-studio-new.s3-ap-south-1.amazonaws.com/ai-studio/628e13db567fdc37e0b937f4/data/48ea25-3d2f-33c-6083-1e03afedc4c5jpg.jpeg',\n",
       "  'point': [],\n",
       "  'line': [],\n",
       "  'polygon': []},\n",
       " '628e146e567fdc37e0b93883': {'rect': [[1458, 439, 42, 32, 'ball']],\n",
       "  'imageUrl': 'https://ai-studio-new.s3-ap-south-1.amazonaws.com/ai-studio/628e13db567fdc37e0b937f4/data/1f453-7e5d-0111-cb86-3a4c3560b662jpg.jpeg',\n",
       "  'point': [],\n",
       "  'line': [],\n",
       "  'polygon': []},\n",
       " '628e146e567fdc37e0b93885': {'rect': [[1429, 442, 45, 36, 'ball']],\n",
       "  'imageUrl': 'https://ai-studio-new.s3-ap-south-1.amazonaws.com/ai-studio/628e13db567fdc37e0b937f4/data/65d1d1f-0a75-cdde-d4be-1bcbca148c7cjpg.jpeg',\n",
       "  'point': [],\n",
       "  'line': [],\n",
       "  'polygon': []},\n",
       " '628e146f567fdc37e0b93887': {'rect': [[1400, 445, 45, 32, 'ball']],\n",
       "  'imageUrl': 'https://ai-studio-new.s3-ap-south-1.amazonaws.com/ai-studio/628e13db567fdc37e0b937f4/data/ab616de-5d04-fbe8-e480-1a10fd62df13jpg.jpeg',\n",
       "  'point': [],\n",
       "  'line': [],\n",
       "  'polygon': []},\n",
       " '628e1470567fdc37e0b93889': {'rect': [[1372, 448, 42, 29, 'ball']],\n",
       "  'imageUrl': 'https://ai-studio-new.s3-ap-south-1.amazonaws.com/ai-studio/628e13db567fdc37e0b937f4/data/ba5ac5c-5cfd-3735-afa4-253bec82c237jpg.jpeg',\n",
       "  'point': [],\n",
       "  'line': [],\n",
       "  'polygon': []},\n",
       " '628e1471567fdc37e0b9388b': {'rect': [[1336, 448, 42, 32, 'ball']],\n",
       "  'imageUrl': 'https://ai-studio-new.s3-ap-south-1.amazonaws.com/ai-studio/628e13db567fdc37e0b937f4/data/4270383-5db4-e758-7f31-504acff764bjpg.jpeg',\n",
       "  'point': [],\n",
       "  'line': [],\n",
       "  'polygon': []},\n",
       " '628e1471567fdc37e0b9388e': {'rect': [[1301, 452, 48, 32, 'ball']],\n",
       "  'imageUrl': 'https://ai-studio-new.s3-ap-south-1.amazonaws.com/ai-studio/628e13db567fdc37e0b937f4/data/ae7b6-621c-ac1-6cad-ac5e150046jpg.jpeg',\n",
       "  'point': [],\n",
       "  'line': [],\n",
       "  'polygon': []},\n",
       " '628e1472567fdc37e0b93890': {'rect': [[1266, 461, 45, 32, 'ball']],\n",
       "  'imageUrl': 'https://ai-studio-new.s3-ap-south-1.amazonaws.com/ai-studio/628e13db567fdc37e0b937f4/data/2313b2f-ce0e-584-3d8-cfc5aa3bef7jpg.jpeg',\n",
       "  'point': [],\n",
       "  'line': [],\n",
       "  'polygon': []},\n",
       " '628e1473567fdc37e0b93893': {'rect': [[1228, 468, 52, 36, 'ball']],\n",
       "  'imageUrl': 'https://ai-studio-new.s3-ap-south-1.amazonaws.com/ai-studio/628e13db567fdc37e0b937f4/data/78ae00-ebda-cb0c-ccd2-06c823e75b3bjpg.jpeg',\n",
       "  'point': [],\n",
       "  'line': [],\n",
       "  'polygon': []},\n",
       " '628e1473567fdc37e0b93895': {'rect': [[1160, 477, 39, 29, 'ball']],\n",
       "  'imageUrl': 'https://ai-studio-new.s3-ap-south-1.amazonaws.com/ai-studio/628e13db567fdc37e0b937f4/data/27cef1-76f1-242-0cb-60a65f65a3ejpg.jpeg',\n",
       "  'point': [],\n",
       "  'line': [],\n",
       "  'polygon': []},\n",
       " '628e1474567fdc37e0b93897': {'rect': [[1109, 477, 52, 36, 'ball']],\n",
       "  'imageUrl': 'https://ai-studio-new.s3-ap-south-1.amazonaws.com/ai-studio/628e13db567fdc37e0b937f4/data/25523d-68b1-a1ae-aa8-07c747d6de02jpg.jpeg',\n",
       "  'point': [],\n",
       "  'line': [],\n",
       "  'polygon': []},\n",
       " '628e1475567fdc37e0b93899': {'rect': [[1061, 484, 48, 36, 'ball']],\n",
       "  'imageUrl': 'https://ai-studio-new.s3-ap-south-1.amazonaws.com/ai-studio/628e13db567fdc37e0b937f4/data/4fef760-b068-0ce3-4c2-edb168e5841jpg.jpeg',\n",
       "  'point': [],\n",
       "  'line': [],\n",
       "  'polygon': []},\n",
       " '628e1476567fdc37e0b9389b': {'rect': [[1196, 570, 39, 32, 'ball']],\n",
       "  'imageUrl': 'https://ai-studio-new.s3-ap-south-1.amazonaws.com/ai-studio/628e13db567fdc37e0b937f4/data/fb110aa-70e-5d4-1678-3cf4e82cc17jpg.jpeg',\n",
       "  'point': [],\n",
       "  'line': [],\n",
       "  'polygon': []},\n",
       " '628e1476567fdc37e0b9389e': {'rect': [[1170, 573, 45, 32, 'ball']],\n",
       "  'imageUrl': 'https://ai-studio-new.s3-ap-south-1.amazonaws.com/ai-studio/628e13db567fdc37e0b937f4/data/b0cc67f-ca-0fdf-7c26-4a1ac27245c2jpg.jpeg',\n",
       "  'point': [],\n",
       "  'line': [],\n",
       "  'polygon': []},\n",
       " '628e1477567fdc37e0b938a0': {'rect': [[1138, 564, 42, 32, 'ball']],\n",
       "  'imageUrl': 'https://ai-studio-new.s3-ap-south-1.amazonaws.com/ai-studio/628e13db567fdc37e0b937f4/data/e4b61c2-58a2-52ca-75a-8d5bcb26678djpg.jpeg',\n",
       "  'point': [],\n",
       "  'line': [],\n",
       "  'polygon': []},\n",
       " '628e1478567fdc37e0b938a3': {'rect': [[1100, 548, 55, 42, 'ball']],\n",
       "  'imageUrl': 'https://ai-studio-new.s3-ap-south-1.amazonaws.com/ai-studio/628e13db567fdc37e0b937f4/data/1a8f046-2edc-d46e-2f2d-e7a2dfdc0c10jpg.jpeg',\n",
       "  'point': [],\n",
       "  'line': [],\n",
       "  'polygon': []},\n",
       " '628e1478567fdc37e0b938a5': {'rect': [[1026, 532, 52, 32, 'ball']],\n",
       "  'imageUrl': 'https://ai-studio-new.s3-ap-south-1.amazonaws.com/ai-studio/628e13db567fdc37e0b937f4/data/50430f-2f8f-2d3c-a347-63010c6e5fjpg.jpeg',\n",
       "  'point': [],\n",
       "  'line': [],\n",
       "  'polygon': []}}"
      ]
     },
     "execution_count": 6,
     "metadata": {},
     "output_type": "execute_result"
    }
   ],
   "source": [
    "data"
   ]
  },
  {
   "cell_type": "code",
   "execution_count": 16,
   "id": "f162d190",
   "metadata": {},
   "outputs": [
    {
     "name": "stdout",
     "output_type": "stream",
     "text": [
      "[1286, 348, 109, 87, 'ball']\n"
     ]
    }
   ],
   "source": [
    "# Iterating through the json\n",
    "# list\n",
    "for i in data['628e1454567fdc37e0b93833']['rect']:\n",
    "    print(i)"
   ]
  },
  {
   "cell_type": "code",
   "execution_count": 15,
   "id": "69a969e2",
   "metadata": {},
   "outputs": [],
   "source": [
    "\n",
    "# Closing file\n",
    "f.close()"
   ]
  },
  {
   "cell_type": "code",
   "execution_count": 18,
   "id": "1a499d58",
   "metadata": {},
   "outputs": [],
   "source": [
    "\n",
    "# json.dumps(data,indent=3)\n",
    "# print(data)"
   ]
  },
  {
   "cell_type": "code",
   "execution_count": 23,
   "id": "d721bb10",
   "metadata": {},
   "outputs": [
    {
     "data": {
      "text/plain": [
       "'https://ai-studio-new.s3-ap-south-1.amazonaws.com/ai-studio/628e13db567fdc37e0b937f4/data/030ca0-6f2-d1c-5835-2feb5315dfjpg.jpeg'"
      ]
     },
     "execution_count": 23,
     "metadata": {},
     "output_type": "execute_result"
    }
   ],
   "source": [
    "data['628e1456567fdc37e0b9383a']['imageUrl']"
   ]
  },
  {
   "cell_type": "code",
   "execution_count": 26,
   "id": "24086079",
   "metadata": {},
   "outputs": [
    {
     "ename": "TypeError",
     "evalue": "string indices must be integers",
     "output_type": "error",
     "traceback": [
      "\u001b[0;31m---------------------------------------------------------------------------\u001b[0m",
      "\u001b[0;31mTypeError\u001b[0m                                 Traceback (most recent call last)",
      "Input \u001b[0;32mIn [26]\u001b[0m, in \u001b[0;36m<cell line: 1>\u001b[0;34m()\u001b[0m\n\u001b[1;32m      1\u001b[0m \u001b[38;5;28;01mfor\u001b[39;00m i \u001b[38;5;129;01min\u001b[39;00m data[\u001b[38;5;124m\"\u001b[39m\u001b[38;5;124m628e1456567fdc37e0b9383a\u001b[39m\u001b[38;5;124m\"\u001b[39m]:\n\u001b[0;32m----> 2\u001b[0m     \u001b[38;5;28mprint\u001b[39m(\u001b[43mi\u001b[49m\u001b[43m[\u001b[49m\u001b[38;5;124;43m'\u001b[39;49m\u001b[38;5;124;43mimageUrl\u001b[39;49m\u001b[38;5;124;43m'\u001b[39;49m\u001b[43m]\u001b[49m)\n",
      "\u001b[0;31mTypeError\u001b[0m: string indices must be integers"
     ]
    }
   ],
   "source": [
    "for i in data[\"628e1456567fdc37e0b9383a\"]:\n",
    "    print(i)"
   ]
  },
  {
   "cell_type": "code",
   "execution_count": 27,
   "id": "7ef84dca",
   "metadata": {},
   "outputs": [],
   "source": [
    "y = json.dumps(data)"
   ]
  },
  {
   "cell_type": "code",
   "execution_count": 28,
   "id": "8b0e2442",
   "metadata": {},
   "outputs": [
    {
     "data": {
      "text/plain": [
       "'{\"628e1454567fdc37e0b93833\": {\"rect\": [[1286, 348, 109, 87, \"ball\"]], \"imageUrl\": \"https://ai-studio-new.s3-ap-south-1.amazonaws.com/ai-studio/628e13db567fdc37e0b937f4/data/01028d-3246-b253-a841-6188f06bb48fjpg.jpeg\", \"point\": [], \"line\": [], \"polygon\": []}, \"628e1455567fdc37e0b93836\": {\"rect\": [[1273, 367, 112, 90, \"ball\"]], \"imageUrl\": \"https://ai-studio-new.s3-ap-south-1.amazonaws.com/ai-studio/628e13db567fdc37e0b937f4/data/8cad111-630a-027a-0af8-6e0b77f233jpg.jpeg\", \"point\": [], \"line\": [], \"polygon\": []}, \"628e1455567fdc37e0b93838\": {\"rect\": [[1375, 342, 36, 29, \"ball\"]], \"imageUrl\": \"https://ai-studio-new.s3-ap-south-1.amazonaws.com/ai-studio/628e13db567fdc37e0b937f4/data/f66edbf-2387-0c3-a7d0-7d722a2d1015jpg.jpeg\", \"point\": [], \"line\": [], \"polygon\": []}, \"628e1456567fdc37e0b9383a\": {\"rect\": [[1349, 342, 39, 32, \"ball\"]], \"imageUrl\": \"https://ai-studio-new.s3-ap-south-1.amazonaws.com/ai-studio/628e13db567fdc37e0b937f4/data/030ca0-6f2-d1c-5835-2feb5315dfjpg.jpeg\", \"point\": [], \"line\": [], \"polygon\": []}, \"628e1457567fdc37e0b9383c\": {\"rect\": [[1320, 342, 45, 36, \"ball\"]], \"imageUrl\": \"https://ai-studio-new.s3-ap-south-1.amazonaws.com/ai-studio/628e13db567fdc37e0b937f4/data/e57cf-cc7b-566a-3d6f-3da66c8a0a8jpg.jpeg\", \"point\": [], \"line\": [], \"polygon\": []}, \"628e1458567fdc37e0b9383e\": {\"rect\": [[1292, 348, 45, 32, \"ball\"]], \"imageUrl\": \"https://ai-studio-new.s3-ap-south-1.amazonaws.com/ai-studio/628e13db567fdc37e0b937f4/data/e2f20e7-46fa-f3f0-3db7-46ae3710a81cjpg.jpeg\", \"point\": [], \"line\": [], \"polygon\": []}, \"628e1458567fdc37e0b93841\": {\"rect\": [[1260, 351, 45, 36, \"ball\"]], \"imageUrl\": \"https://ai-studio-new.s3-ap-south-1.amazonaws.com/ai-studio/628e13db567fdc37e0b937f4/data/e2a7a5-d0af-808a-d18b-ed457dd7a3jpg.jpeg\", \"point\": [], \"line\": [], \"polygon\": []}, \"628e1459567fdc37e0b93843\": {\"rect\": [[1221, 358, 48, 36, \"ball\"]], \"imageUrl\": \"https://ai-studio-new.s3-ap-south-1.amazonaws.com/ai-studio/628e13db567fdc37e0b937f4/data/52ad1d5-646a-70d-be21-5e84f6e23beejpg.jpeg\", \"point\": [], \"line\": [], \"polygon\": []}, \"628e145a567fdc37e0b93846\": {\"rect\": [[1183, 367, 45, 32, \"ball\"]], \"imageUrl\": \"https://ai-studio-new.s3-ap-south-1.amazonaws.com/ai-studio/628e13db567fdc37e0b937f4/data/f27ffb-bdda-64d6-76ef-dd1fecb1ba5jpg.jpeg\", \"point\": [], \"line\": [], \"polygon\": []}, \"628e145b567fdc37e0b93848\": {\"rect\": [[1138, 374, 48, 36, \"ball\"]], \"imageUrl\": \"https://ai-studio-new.s3-ap-south-1.amazonaws.com/ai-studio/628e13db567fdc37e0b937f4/data/bfe73-c43a-347b-d6f5-863f4f5e83fjpg.jpeg\", \"point\": [], \"line\": [], \"polygon\": []}, \"628e145c567fdc37e0b9384a\": {\"rect\": [[1084, 383, 55, 39, \"ball\"]], \"imageUrl\": \"https://ai-studio-new.s3-ap-south-1.amazonaws.com/ai-studio/628e13db567fdc37e0b937f4/data/fad40c2-f08f-c48f-83b-eda673274af7jpg.jpeg\", \"point\": [], \"line\": [], \"polygon\": []}, \"628e145c567fdc37e0b9384c\": {\"rect\": [[1032, 399, 48, 36, \"ball\"]], \"imageUrl\": \"https://ai-studio-new.s3-ap-south-1.amazonaws.com/ai-studio/628e13db567fdc37e0b937f4/data/dbb825-aa80-b513-e7fc-65803e108827jpg.jpeg\", \"point\": [], \"line\": [], \"polygon\": []}, \"628e145d567fdc37e0b9384e\": {\"rect\": [[911, 425, 55, 39, \"ball\"]], \"imageUrl\": \"https://ai-studio-new.s3-ap-south-1.amazonaws.com/ai-studio/628e13db567fdc37e0b937f4/data/0f3a28c-a210-15ac-3b3-dd6180d5a7djpg.jpeg\", \"point\": [], \"line\": [], \"polygon\": []}, \"628e145e567fdc37e0b93851\": {\"rect\": [[847, 444, 61, 32, \"ball\"]], \"imageUrl\": \"https://ai-studio-new.s3-ap-south-1.amazonaws.com/ai-studio/628e13db567fdc37e0b937f4/data/2fc5ca-3fe6-e3dc-a02c-ea02ba7cee43jpg.jpeg\", \"point\": [], \"line\": [], \"polygon\": []}, \"628e145f567fdc37e0b93854\": {\"rect\": [[709, 479, 61, 39, \"ball\"]], \"imageUrl\": \"https://ai-studio-new.s3-ap-south-1.amazonaws.com/ai-studio/628e13db567fdc37e0b937f4/data/43f0b7a-0858-05b4-7fa-70f4b02c5bbjpg.jpeg\", \"point\": [], \"line\": [], \"polygon\": []}, \"628e145f567fdc37e0b93856\": {\"rect\": [[668, 351, 36, 36, \"ball\"]], \"imageUrl\": \"https://ai-studio-new.s3-ap-south-1.amazonaws.com/ai-studio/628e13db567fdc37e0b937f4/data/f4a01fe-0efe-f40a-02fd-f253f4aecc03jpg.jpeg\", \"point\": [], \"line\": [], \"polygon\": []}, \"628e1460567fdc37e0b93859\": {\"rect\": [[674, 376, 32, 29, \"ball\"]], \"imageUrl\": \"https://ai-studio-new.s3-ap-south-1.amazonaws.com/ai-studio/628e13db567fdc37e0b937f4/data/0e4318-c350-d1e0-6bd6-bf0f4ed1668jpg.jpeg\", \"point\": [], \"line\": [], \"polygon\": []}, \"628e1461567fdc37e0b9385b\": {\"rect\": [[1442, 551, 48, 42, \"ball\"]], \"imageUrl\": \"https://ai-studio-new.s3-ap-south-1.amazonaws.com/ai-studio/628e13db567fdc37e0b937f4/data/ca28f2-16d4-1db8-d2e4-4d841d2c8fajpg.jpeg\", \"point\": [], \"line\": [], \"polygon\": []}, \"628e1462567fdc37e0b9385d\": {\"rect\": [[1483, 580, 52, 42, \"ball\"]], \"imageUrl\": \"https://ai-studio-new.s3-ap-south-1.amazonaws.com/ai-studio/628e13db567fdc37e0b937f4/data/0378c16-fce-eaae-3182-b8e21eaf612jpg.jpeg\", \"point\": [], \"line\": [], \"polygon\": []}, \"628e1462567fdc37e0b93860\": {\"rect\": [[1525, 608, 48, 45, \"ball\"]], \"imageUrl\": \"https://ai-studio-new.s3-ap-south-1.amazonaws.com/ai-studio/628e13db567fdc37e0b937f4/data/3bb0147-1fce-4bfa-f0b4-fd10abc4604jpg.jpeg\", \"point\": [], \"line\": [], \"polygon\": []}, \"628e1463567fdc37e0b93862\": {\"rect\": [[1569, 647, 55, 48, \"ball\"]], \"imageUrl\": \"https://ai-studio-new.s3-ap-south-1.amazonaws.com/ai-studio/628e13db567fdc37e0b937f4/data/d24ec01-b156-cdab-daa5-dec63110a7fcjpg.jpeg\", \"point\": [], \"line\": [], \"polygon\": []}, \"628e1464567fdc37e0b93865\": {\"rect\": [[901, 748, 52, 48, \"ball\"]], \"imageUrl\": \"https://ai-studio-new.s3-ap-south-1.amazonaws.com/ai-studio/628e13db567fdc37e0b937f4/data/880ec26-f61a-7315-fdef-1d16b5825efjpg.jpeg\", \"point\": [], \"line\": [], \"polygon\": []}, \"628e1465567fdc37e0b93867\": {\"rect\": [[914, 742, 45, 42, \"ball\"]], \"imageUrl\": \"https://ai-studio-new.s3-ap-south-1.amazonaws.com/ai-studio/628e13db567fdc37e0b937f4/data/ee2bbf4-2cab-7e65-227-2076bb3e7113jpg.jpeg\", \"point\": [], \"line\": [], \"polygon\": []}, \"628e1466567fdc37e0b93869\": {\"rect\": [[930, 716, 48, 45, \"ball\"]], \"imageUrl\": \"https://ai-studio-new.s3-ap-south-1.amazonaws.com/ai-studio/628e13db567fdc37e0b937f4/data/cd51ec2-1736-45e8-4852-88f162d628c1jpg.jpeg\", \"point\": [], \"line\": [], \"polygon\": []}, \"628e1467567fdc37e0b9386b\": {\"rect\": [], \"imageUrl\": \"https://ai-studio-new.s3-ap-south-1.amazonaws.com/ai-studio/628e13db567fdc37e0b937f4/data/7daedba-445e-be1c-4ba6-0f0be4eaa7jpg.jpeg\", \"point\": [], \"line\": [], \"polygon\": []}, \"628e1467567fdc37e0b9386d\": {\"rect\": [[940, 710, 48, 42, \"ball\"]], \"imageUrl\": \"https://ai-studio-new.s3-ap-south-1.amazonaws.com/ai-studio/628e13db567fdc37e0b937f4/data/f55f45-4034-1dad-74b8-01c1030df27cjpg.jpeg\", \"point\": [], \"line\": [], \"polygon\": []}, \"628e1468567fdc37e0b93870\": {\"rect\": [[55, 650, 90, 64, \"ball\"]], \"imageUrl\": \"https://ai-studio-new.s3-ap-south-1.amazonaws.com/ai-studio/628e13db567fdc37e0b937f4/data/d01e67-dd28-8a6-5c47-ed27b287a5ejpg.jpeg\", \"point\": [], \"line\": [], \"polygon\": []}, \"628e1468567fdc37e0b93872\": {\"rect\": [[147, 624, 80, 64, \"ball\"]], \"imageUrl\": \"https://ai-studio-new.s3-ap-south-1.amazonaws.com/ai-studio/628e13db567fdc37e0b937f4/data/1fe1dac-153e-24bb-3758-cd48383b3jpg.jpeg\", \"point\": [], \"line\": [], \"polygon\": []}, \"628e1469567fdc37e0b93875\": {\"rect\": [], \"imageUrl\": \"https://ai-studio-new.s3-ap-south-1.amazonaws.com/ai-studio/628e13db567fdc37e0b937f4/data/53e33b7-758-f4b-0a72-4f7fb1b34df1jpg.jpeg\", \"point\": [], \"line\": [], \"polygon\": []}, \"628e146a567fdc37e0b93877\": {\"rect\": [[397, 570, 84, 58, \"ball\"]], \"imageUrl\": \"https://ai-studio-new.s3-ap-south-1.amazonaws.com/ai-studio/628e13db567fdc37e0b937f4/data/27278d-0352-4055-105f-41ad7658a4jpg.jpeg\", \"point\": [], \"line\": [], \"polygon\": []}, \"628e146b567fdc37e0b93879\": {\"rect\": [[483, 563, 77, 52, \"ball\"]], \"imageUrl\": \"https://ai-studio-new.s3-ap-south-1.amazonaws.com/ai-studio/628e13db567fdc37e0b937f4/data/d6d60cf-bf37-461c-6fdb-1ad4251e3b5jpg.jpeg\", \"point\": [], \"line\": [], \"polygon\": []}, \"628e146b567fdc37e0b9387b\": {\"rect\": [[563, 554, 80, 52, \"ball\"]], \"imageUrl\": \"https://ai-studio-new.s3-ap-south-1.amazonaws.com/ai-studio/628e13db567fdc37e0b937f4/data/4c85cab-c77b-561a-3f7-50624313f6bjpg.jpeg\", \"point\": [], \"line\": [], \"polygon\": []}, \"628e146c567fdc37e0b9387e\": {\"rect\": [[1512, 432, 39, 32, \"ball\"]], \"imageUrl\": \"https://ai-studio-new.s3-ap-south-1.amazonaws.com/ai-studio/628e13db567fdc37e0b937f4/data/4d654db-a141-3270-145d-6dcc45205cjpg.jpeg\", \"point\": [], \"line\": [], \"polygon\": []}, \"628e146d567fdc37e0b93880\": {\"rect\": [[1484, 439, 42, 26, \"ball\"]], \"imageUrl\": \"https://ai-studio-new.s3-ap-south-1.amazonaws.com/ai-studio/628e13db567fdc37e0b937f4/data/48ea25-3d2f-33c-6083-1e03afedc4c5jpg.jpeg\", \"point\": [], \"line\": [], \"polygon\": []}, \"628e146e567fdc37e0b93883\": {\"rect\": [[1458, 439, 42, 32, \"ball\"]], \"imageUrl\": \"https://ai-studio-new.s3-ap-south-1.amazonaws.com/ai-studio/628e13db567fdc37e0b937f4/data/1f453-7e5d-0111-cb86-3a4c3560b662jpg.jpeg\", \"point\": [], \"line\": [], \"polygon\": []}, \"628e146e567fdc37e0b93885\": {\"rect\": [[1429, 442, 45, 36, \"ball\"]], \"imageUrl\": \"https://ai-studio-new.s3-ap-south-1.amazonaws.com/ai-studio/628e13db567fdc37e0b937f4/data/65d1d1f-0a75-cdde-d4be-1bcbca148c7cjpg.jpeg\", \"point\": [], \"line\": [], \"polygon\": []}, \"628e146f567fdc37e0b93887\": {\"rect\": [[1400, 445, 45, 32, \"ball\"]], \"imageUrl\": \"https://ai-studio-new.s3-ap-south-1.amazonaws.com/ai-studio/628e13db567fdc37e0b937f4/data/ab616de-5d04-fbe8-e480-1a10fd62df13jpg.jpeg\", \"point\": [], \"line\": [], \"polygon\": []}, \"628e1470567fdc37e0b93889\": {\"rect\": [[1372, 448, 42, 29, \"ball\"]], \"imageUrl\": \"https://ai-studio-new.s3-ap-south-1.amazonaws.com/ai-studio/628e13db567fdc37e0b937f4/data/ba5ac5c-5cfd-3735-afa4-253bec82c237jpg.jpeg\", \"point\": [], \"line\": [], \"polygon\": []}, \"628e1471567fdc37e0b9388b\": {\"rect\": [[1336, 448, 42, 32, \"ball\"]], \"imageUrl\": \"https://ai-studio-new.s3-ap-south-1.amazonaws.com/ai-studio/628e13db567fdc37e0b937f4/data/4270383-5db4-e758-7f31-504acff764bjpg.jpeg\", \"point\": [], \"line\": [], \"polygon\": []}, \"628e1471567fdc37e0b9388e\": {\"rect\": [[1301, 452, 48, 32, \"ball\"]], \"imageUrl\": \"https://ai-studio-new.s3-ap-south-1.amazonaws.com/ai-studio/628e13db567fdc37e0b937f4/data/ae7b6-621c-ac1-6cad-ac5e150046jpg.jpeg\", \"point\": [], \"line\": [], \"polygon\": []}, \"628e1472567fdc37e0b93890\": {\"rect\": [[1266, 461, 45, 32, \"ball\"]], \"imageUrl\": \"https://ai-studio-new.s3-ap-south-1.amazonaws.com/ai-studio/628e13db567fdc37e0b937f4/data/2313b2f-ce0e-584-3d8-cfc5aa3bef7jpg.jpeg\", \"point\": [], \"line\": [], \"polygon\": []}, \"628e1473567fdc37e0b93893\": {\"rect\": [[1228, 468, 52, 36, \"ball\"]], \"imageUrl\": \"https://ai-studio-new.s3-ap-south-1.amazonaws.com/ai-studio/628e13db567fdc37e0b937f4/data/78ae00-ebda-cb0c-ccd2-06c823e75b3bjpg.jpeg\", \"point\": [], \"line\": [], \"polygon\": []}, \"628e1473567fdc37e0b93895\": {\"rect\": [[1160, 477, 39, 29, \"ball\"]], \"imageUrl\": \"https://ai-studio-new.s3-ap-south-1.amazonaws.com/ai-studio/628e13db567fdc37e0b937f4/data/27cef1-76f1-242-0cb-60a65f65a3ejpg.jpeg\", \"point\": [], \"line\": [], \"polygon\": []}, \"628e1474567fdc37e0b93897\": {\"rect\": [[1109, 477, 52, 36, \"ball\"]], \"imageUrl\": \"https://ai-studio-new.s3-ap-south-1.amazonaws.com/ai-studio/628e13db567fdc37e0b937f4/data/25523d-68b1-a1ae-aa8-07c747d6de02jpg.jpeg\", \"point\": [], \"line\": [], \"polygon\": []}, \"628e1475567fdc37e0b93899\": {\"rect\": [[1061, 484, 48, 36, \"ball\"]], \"imageUrl\": \"https://ai-studio-new.s3-ap-south-1.amazonaws.com/ai-studio/628e13db567fdc37e0b937f4/data/4fef760-b068-0ce3-4c2-edb168e5841jpg.jpeg\", \"point\": [], \"line\": [], \"polygon\": []}, \"628e1476567fdc37e0b9389b\": {\"rect\": [[1196, 570, 39, 32, \"ball\"]], \"imageUrl\": \"https://ai-studio-new.s3-ap-south-1.amazonaws.com/ai-studio/628e13db567fdc37e0b937f4/data/fb110aa-70e-5d4-1678-3cf4e82cc17jpg.jpeg\", \"point\": [], \"line\": [], \"polygon\": []}, \"628e1476567fdc37e0b9389e\": {\"rect\": [[1170, 573, 45, 32, \"ball\"]], \"imageUrl\": \"https://ai-studio-new.s3-ap-south-1.amazonaws.com/ai-studio/628e13db567fdc37e0b937f4/data/b0cc67f-ca-0fdf-7c26-4a1ac27245c2jpg.jpeg\", \"point\": [], \"line\": [], \"polygon\": []}, \"628e1477567fdc37e0b938a0\": {\"rect\": [[1138, 564, 42, 32, \"ball\"]], \"imageUrl\": \"https://ai-studio-new.s3-ap-south-1.amazonaws.com/ai-studio/628e13db567fdc37e0b937f4/data/e4b61c2-58a2-52ca-75a-8d5bcb26678djpg.jpeg\", \"point\": [], \"line\": [], \"polygon\": []}, \"628e1478567fdc37e0b938a3\": {\"rect\": [[1100, 548, 55, 42, \"ball\"]], \"imageUrl\": \"https://ai-studio-new.s3-ap-south-1.amazonaws.com/ai-studio/628e13db567fdc37e0b937f4/data/1a8f046-2edc-d46e-2f2d-e7a2dfdc0c10jpg.jpeg\", \"point\": [], \"line\": [], \"polygon\": []}, \"628e1478567fdc37e0b938a5\": {\"rect\": [[1026, 532, 52, 32, \"ball\"]], \"imageUrl\": \"https://ai-studio-new.s3-ap-south-1.amazonaws.com/ai-studio/628e13db567fdc37e0b937f4/data/50430f-2f8f-2d3c-a347-63010c6e5fjpg.jpeg\", \"point\": [], \"line\": [], \"polygon\": []}}'"
      ]
     },
     "execution_count": 28,
     "metadata": {},
     "output_type": "execute_result"
    }
   ],
   "source": [
    "y"
   ]
  },
  {
   "cell_type": "code",
   "execution_count": 31,
   "id": "4287abf7",
   "metadata": {},
   "outputs": [
    {
     "ename": "TypeError",
     "evalue": "string indices must be integers",
     "output_type": "error",
     "traceback": [
      "\u001b[0;31m---------------------------------------------------------------------------\u001b[0m",
      "\u001b[0;31mTypeError\u001b[0m                                 Traceback (most recent call last)",
      "Input \u001b[0;32mIn [31]\u001b[0m, in \u001b[0;36m<cell line: 1>\u001b[0;34m()\u001b[0m\n\u001b[0;32m----> 1\u001b[0m \u001b[38;5;28;01mfor\u001b[39;00m t \u001b[38;5;129;01min\u001b[39;00m \u001b[43my\u001b[49m\u001b[43m[\u001b[49m\u001b[38;5;124;43m'\u001b[39;49m\u001b[38;5;124;43m628e1454567fdc37e0b93833\u001b[39;49m\u001b[38;5;124;43m'\u001b[39;49m\u001b[43m]\u001b[49m:\n\u001b[1;32m      2\u001b[0m     \u001b[38;5;28mprint\u001b[39m(t)\n",
      "\u001b[0;31mTypeError\u001b[0m: string indices must be integers"
     ]
    }
   ],
   "source": [
    "for t in y['628e1454567fdc37e0b93833']:\n",
    "    print(t)"
   ]
  },
  {
   "cell_type": "code",
   "execution_count": null,
   "id": "17cfbc53",
   "metadata": {},
   "outputs": [],
   "source": []
  }
 ],
 "metadata": {
  "kernelspec": {
   "display_name": "Python 3 (ipykernel)",
   "language": "python",
   "name": "python3"
  },
  "language_info": {
   "codemirror_mode": {
    "name": "ipython",
    "version": 3
   },
   "file_extension": ".py",
   "mimetype": "text/x-python",
   "name": "python",
   "nbconvert_exporter": "python",
   "pygments_lexer": "ipython3",
   "version": "3.8.10"
  }
 },
 "nbformat": 4,
 "nbformat_minor": 5
}
