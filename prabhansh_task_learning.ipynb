{
 "cells": [
  {
   "cell_type": "code",
   "execution_count": null,
   "id": "02418708",
   "metadata": {},
   "outputs": [],
   "source": [
    "import os\n",
    "import shutil\n",
    "\n",
    "def move_mp4_files(source_folder, destination_folder):\n",
    "    # Iterate through all files and subdirectories in the source folder\n",
    "    for root, dirs, files in os.walk(source_folder):\n",
    "        print(root)\n",
    "        for file in files:            \n",
    "            # Check if the file is an .mp4 file\n",
    "            if file.endswith(\".avi\"):\n",
    "                source_path = os.path.join(root, file)\n",
    "                destination_path = os.path.join(destination_folder, file)\n",
    "\n",
    "                # Move the file to the destination folder\n",
    "                shutil.move(source_path, destination_path)\n",
    "                print(f\"Moved: {file}\")\n",
    "\n",
    "# Set the source and destination folders\n",
    "source_folder = \"/home/link-lap-24/Downloads/volleyball_Serve/serve_det_60/\"  # Replace with the actual source folder path\n",
    "destination_folder = \"/home/link-lap-24/Downloads/volleyball_Serve/serve_det_60/destination_folder/\"  # Replace with the actual destination folder path\n",
    "\n",
    "# Create the destination folder if it doesn't exist\n",
    "if not os.path.exists(destination_folder):\n",
    "    os.makedirs(destination_folder)\n",
    "\n",
    "# Call the function to move .mp4 files\n",
    "move_mp4_files(source_folder, destination_folder)\n"
   ]
  },
  {
   "cell_type": "markdown",
   "id": "d30f1182",
   "metadata": {},
   "source": [
    "os module\n",
    "url = https://d31qs3n252vhao.cloudfront.net/ZB1MVHkoI/WSQ2FhbxS/HLS/dc38f6f2-6c91-4705-aecf-428abcf5566e/index.m3u8\n",
    "cdn = https://d31qs3n252vhao.cloudfront.net\n",
    "basnemane = index.m3u8\n",
    "key = /ZB1MVHkoI/WSQ2FhbxS/HLS/dc38f6f2-6c91-4705-aecf-428abcf5566e/"
   ]
  },
  {
   "cell_type": "code",
   "execution_count": 2,
   "id": "c93545f2",
   "metadata": {},
   "outputs": [
    {
     "name": "stdout",
     "output_type": "stream",
     "text": [
      "cdn information: https://d31qs3n252vhao.cloudfront.net\n",
      "key information: /ZB1MVHkoI/WSQ2FhbxS/HLS/dc38f6f2-6c91-4705-aecf-428abcf5566e/\n",
      "basename : index.m3u8\n",
      "its equal\n",
      "perfect url\n"
     ]
    }
   ],
   "source": [
    "from urllib.parse import urlparse\n",
    "import os\n",
    "\n",
    "\n",
    "def hls_split(url):\n",
    "    url_infos=urlparse(url)\n",
    "    \n",
    "    key_start=url_infos.scheme + \"://\"\n",
    "    half_cdn=url_infos.netloc        \n",
    "    cmp_cdn=key_start + half_cdn\n",
    "    basename=os.path.basename(url)\n",
    "    path_info=url_infos.path\n",
    "    key_info=path_info.replace(\"index.m3u8\", \"\")#or\n",
    "#     print(key_info.partition(\"index.m3u8\")[0])\n",
    "\n",
    "    print(\"cdn information:\", cmp_cdn)\n",
    "    print(\"key information:\" ,key_info)\n",
    "    print(\"basename :\", basename )\n",
    "    \n",
    "    if url != cmp_cdn + key_info + basename:\n",
    "        print(\"yes it's not equal\")\n",
    "    else:\n",
    "        print(\"its equal\")\n",
    "    \n",
    "    if url == cmp_cdn + key_info + basename:\n",
    "        print(\"perfect url\")\n",
    "    else:\n",
    "        print(\"not perfect\")\n",
    "\n",
    "    \n",
    "hls_split(\"https://d31qs3n252vhao.cloudfront.net/ZB1MVHkoI/WSQ2FhbxS/HLS/dc38f6f2-6c91-4705-aecf-428abcf5566e/index.m3u8\")"
   ]
  },
  {
   "cell_type": "code",
   "execution_count": 54,
   "id": "3c6bb91a",
   "metadata": {
    "scrolled": true
   },
   "outputs": [
    {
     "name": "stdout",
     "output_type": "stream",
     "text": [
      "/ZB1MVHkoI/WSQ2FhbxS/HLS/dc38f6f2-6c91-4705-aecf-428abcf5566e/\n"
     ]
    }
   ],
   "source": [
    "test = \"/ZB1MVHkoI/WSQ2FhbxS/HLS/dc38f6f2-6c91-4705-aecf-428abcf5566e/index.m3u8\"\n",
    "\n",
    "print(test.partition(\"index.m3u8\")[0])\n",
    "# if test.isalpha():\n",
    "#     print(\"no capital words in the string\")\n",
    "# else:\n",
    "#     print(\"yes capital words in the string\")\n",
    "\n",
    "# print(test.isalpha())\n",
    "# modified_test = test.replace(\"index.m3u8\",\"\")\n",
    "# print(len(modified_test))\n",
    "\n",
    "# #or\n",
    "# test = \"/ZB1MVHkoI/WSQ2FhbxS/HLS/dc38f6f2-6c91-4705-aecf-428abcf5566e/index.m3u8\"\n",
    "# index_to_remove = test.find(\"index.m3u8\")\n",
    "# modified_test = test[:index_to_remove] + test[index_to_remove + len(\"index.m3u8\"):]\n",
    "# print(modified_test)\n",
    "\n",
    "# [:62] # starting 62 values \n",
    "# [62:] # after the 62 values"
   ]
  },
  {
   "cell_type": "code",
   "execution_count": null,
   "id": "15ecd0d5",
   "metadata": {},
   "outputs": [],
   "source": [
    "from urllib.parse import urlparse\n",
    "import os\n",
    "\n",
    "\n",
    "def hls_split(url):\n",
    "    url_infos=urlparse(url)\n",
    "    key_start=url_infos.scheme + \"://\"\n",
    "    half_cdn=url_infos.netloc\n",
    "#     basename=url.split(\"/\")[-1]\n",
    "    basename=os.path.basename(url)\n",
    "    key=url.split(\"/\")\n",
    "    final_key= \"/\".join(key[3:7])    \n",
    "    print(half_cdn)\n",
    "    print(basename)"
   ]
  },
  {
   "cell_type": "code",
   "execution_count": 39,
   "id": "84451190",
   "metadata": {},
   "outputs": [
    {
     "name": "stdout",
     "output_type": "stream",
     "text": [
      "/home/link-lap-24/jupyter_files\r\n"
     ]
    }
   ],
   "source": [
    "# ! pip install --upgrade urllib3\n",
    "! pwd"
   ]
  },
  {
   "cell_type": "code",
   "execution_count": null,
   "id": "78344fae",
   "metadata": {},
   "outputs": [],
   "source": [
    "from urllib.parse import urlparse\n",
    "\n",
    "url = \"https://d31qs3n252vhao/.cloudfront.net/ZB1MVHkoI/WSQ2FhbxS/HLS/dc38f6f2-6c91-4705-aecf-428abcf5566e/index.m3u8\"\n",
    "url2 = \"https://d31qs3n252vhao/tushar/.cloudfront.net/ZB1MVHkoI/WSQ2FhbxS/HLS/dc38f6f2-6c91-4705-aecf-428abcf5566e/index.m3u8\"\n",
    "\n",
    "# Parse the URL\n",
    "parsed_url = urlparse(url)\n",
    "# print(type(parsed_url))\n",
    "\n",
    "# Extract the path components\n",
    "path_components = parsed_url.path.split('/')\n",
    "# print(path_components)\n",
    "\n",
    "# Find the relevant information\n",
    "desired_info = '/'.join(path_components[1:5])\n",
    "\n",
    "print(desired_info)\n"
   ]
  },
  {
   "cell_type": "code",
   "execution_count": null,
   "id": "39f8e1df",
   "metadata": {},
   "outputs": [],
   "source": [
    "from urllib.parse import urlparse\n",
    "\n",
    "url = \"https://d31qs3n252vhao.cloudfront.net/ZB1MVHkoI/WSQ2FhbxS/HLS/dc38f6f2-6c91-4705-aecf-428abcf5566e/index.m3u8\"\n",
    "\n",
    "# Parse the URL\n",
    "parsed_url = urlparse(url)\n",
    "\n",
    "# Extract components\n",
    "scheme = parsed_url.scheme\n",
    "netloc = parsed_url.netloc\n",
    "path = parsed_url.path\n",
    "query = parsed_url.query\n",
    "fragment = parsed_url.fragment\n",
    "\n",
    "# Print the components\n",
    "print(\"Scheme:\", scheme)\n",
    "print(\"Netloc:\", netloc)\n",
    "print(\"Path:\", path)\n",
    "print(\"Query:\", query)\n",
    "print(\"Fragment:\", fragment)\n"
   ]
  },
  {
   "cell_type": "markdown",
   "id": "e57976d6",
   "metadata": {},
   "source": [
    "# break url infomations\n",
    "## Scheme: https\n",
    "## Netloc: d31qs3n252vhao.cloudfront.net\n",
    "## Path: /ZB1MVHkoI/WSQ2FhbxS/HLS/dc38f6f2-6c91-4705-aecf-428abcf5566e/index.m3u8\n",
    "## Query: \n",
    "## Fragment:\n"
   ]
  },
  {
   "cell_type": "code",
   "execution_count": null,
   "id": "65e35a39",
   "metadata": {
    "scrolled": true
   },
   "outputs": [],
   "source": [
    "from urllib.parse import urlparse\n",
    "\n",
    "url = \"https://d31qs3n252vhao.cloudfront.net/ZB1MVHkoI/WSQ2FhbxS/HLS/dc38f6f2-6c91-4705-aecf-428abcf5566e/index.m3u8\"\n",
    "\n",
    "# Parse the URL\n",
    "parsed_url = urlparse(url)\n",
    "\n",
    "# Extract components\n",
    "scheme = parsed_url.scheme\n",
    "netloc = parsed_url.netloc\n",
    "path = parsed_url.path\n",
    "params = parsed_url.params\n",
    "query = parsed_url.query\n",
    "fragment = parsed_url.fragment\n",
    "\n",
    "# Extract additional information from the path\n",
    "path_components = path.split('/')\n",
    "\n",
    "# Get CDN information\n",
    "cdn_info = path_components[1]\n",
    "\n",
    "# Get other path components\n",
    "user_id = path_components[2]\n",
    "video_id = path_components[3]\n",
    "media_type = path_components[4]\n",
    "unique_id = path_components[5]\n",
    "\n",
    "# Print the components\n",
    "print(\"Scheme:\", scheme)\n",
    "print(\"Network Location (Netloc):\", netloc)\n",
    "print(\"Path:\", path)\n",
    "print(\"Path Components:\", path_components)\n",
    "print(\"CDN Information:\", cdn_info)\n",
    "print(\"User ID:\", user_id)\n",
    "print(\"Video ID:\", video_id)\n",
    "print(\"Media Type:\", media_type)\n",
    "print(\"Unique ID:\", unique_id)\n",
    "print(\"Parameters:\", params)\n",
    "print(\"Query:\", query)\n",
    "print(\"Fragment:\", fragment)\n"
   ]
  },
  {
   "cell_type": "code",
   "execution_count": null,
   "id": "4fed2170",
   "metadata": {},
   "outputs": [],
   "source": [
    "url = \"https://d31qs3n252vhao.cloudfront.net/ZB1MVHkoI/WSQ2FhbxS/HLS/dc38f6f2-6c91-4705-aecf-428abcf5566e/index.m3u8\"\n",
    "\n",
    "# Split the URL by the dot character to separate the parts\n",
    "url_parts = url.split('.')\n",
    "\n",
    "# Extract the CDN information\n",
    "cdn_info = url_parts[1]\n",
    "\n",
    "print(cdn_info)"
   ]
  },
  {
   "cell_type": "code",
   "execution_count": null,
   "id": "b8dbd423",
   "metadata": {},
   "outputs": [],
   "source": [
    "import re\n",
    "\n",
    "url = \"https://d31qs3n252vhao.cloudfront.net/ZB1MVHkoI/WSQ2FhbxS/HLS/dc38f6f2-6c91-4705-aecf-428abcf5566e/index.m3u8\"\n",
    "\n",
    "# Define the pattern for extracting the desired information\n",
    "pattern = re.compile(r'https://d31qs3n252vhao\\.cloudfront\\.net(/[^/]+){4}/')\n",
    "\n",
    "# Use the pattern to find a match in the URL\n",
    "match = pattern.search(url)\n",
    "\n",
    "# Check if a match is found\n",
    "if match:\n",
    "    extracted_info = match.group()\n",
    "    print(extracted_info)\n",
    "else:\n",
    "    print(\"No match found.\")\n"
   ]
  },
  {
   "cell_type": "code",
   "execution_count": null,
   "id": "6877bec6",
   "metadata": {},
   "outputs": [],
   "source": [
    "import os\n",
    "\n",
    "hls_url=\"https://d31qs3n252vhao/.cloudfront.net/ZB1MVHkoI/WSQ2FhbxS/HLS/dc38f6f2-6c91-4705-aecf-428abcf5566e/index.m3u8\"\n",
    "\n",
    "# os.path.basename(hls_url)\n",
    "os.walk(hls_url)\n"
   ]
  },
  {
   "cell_type": "code",
   "execution_count": null,
   "id": "27c5fcaf",
   "metadata": {
    "code_folding": []
   },
   "outputs": [],
   "source": [
    "#stackoverflow code----->>>>>> \n",
    "\n",
    "import os\n",
    "def search_file(directory = None, file = None):\n",
    "    assert os.path.isdir(directory)\n",
    "    current_path, directories, files = os.walk(directory).next()\n",
    "    if file in files:\n",
    "        return os.path.join(directory, file)\n",
    "    elif directories == '':\n",
    "        return None\n",
    "    else:\n",
    "        for new_directory in directories:\n",
    "            result = search_file(directory = os.path.join(directory, new_directory), file = file)\n",
    "            if result:\n",
    "                return result\n",
    "        return None"
   ]
  },
  {
   "cell_type": "code",
   "execution_count": null,
   "id": "5c0beb5b",
   "metadata": {},
   "outputs": [],
   "source": [
    "#stackoverflow code----->>>>>>> \n",
    "\n",
    "def search_file(directory = None, file = None):\n",
    "    assert os.path.isdir(directory)\n",
    "    for cur_path, directories, files in os.walk(directory):\n",
    "        if file in files:\n",
    "            return os.path.join(directory, cur_path, file)\n",
    "    return None"
   ]
  },
  {
   "cell_type": "code",
   "execution_count": 68,
   "id": "99c5d02a",
   "metadata": {},
   "outputs": [
    {
     "name": "stdout",
     "output_type": "stream",
     "text": [
      "/home/link-lap-24/jupyter_files/volly_only_folder_data.py\n",
      "/home/link-lap-24/jupyter_files/croped_video.py\n",
      "/home/link-lap-24/jupyter_files/test.py\n",
      "/home/link-lap-24/jupyter_files/volly.py\n",
      "/home/link-lap-24/jupyter_files/2_model.py\n",
      "/home/link-lap-24/jupyter_files/test2.py\n",
      "/home/link-lap-24/jupyter_files/wget.py\n",
      "/home/link-lap-24/jupyter_files/getAllLinksFromMeta.py\n",
      "/home/link-lap-24/jupyter_files/imaage_coordinates.py\n",
      "/home/link-lap-24/jupyter_files/frame_extraction.py\n",
      "/home/link-lap-24/jupyter_files/extract_frames_temp.py\n",
      "/home/link-lap-24/jupyter_files/fetch_data_v1_deepanshu.py\n",
      "/home/link-lap-24/jupyter_files/verify_segmentations.py\n",
      "/home/link-lap-24/jupyter_files/wgetdownlaod_without_miss.py\n",
      "/home/link-lap-24/jupyter_files/p_extractFramesFFMPEG.py\n"
     ]
    }
   ],
   "source": [
    "import glob\n",
    "\n",
    "path=\"/home/link-lap-24/jupyter_files/\"\n",
    "for i in glob.glob(path+\"*.py\"):\n",
    "    print((i))"
   ]
  },
  {
   "cell_type": "code",
   "execution_count": 3,
   "id": "33750603",
   "metadata": {},
   "outputs": [
    {
     "name": "stdout",
     "output_type": "stream",
     "text": [
      "<re.Match object; span=(0, 17), match='The rain in Spain'>\n"
     ]
    }
   ],
   "source": [
    "import re\n",
    "\n",
    "txt = \"The rain in Spain\"\n",
    "x = re.search(\"^The.*Spain$\", txt)\n",
    "print(x)"
   ]
  },
  {
   "cell_type": "code",
   "execution_count": null,
   "id": "8bb1c1fa",
   "metadata": {},
   "outputs": [],
   "source": []
  }
 ],
 "metadata": {
  "kernelspec": {
   "display_name": "Python 3 (ipykernel)",
   "language": "python",
   "name": "python3"
  },
  "language_info": {
   "codemirror_mode": {
    "name": "ipython",
    "version": 3
   },
   "file_extension": ".py",
   "mimetype": "text/x-python",
   "name": "python",
   "nbconvert_exporter": "python",
   "pygments_lexer": "ipython3",
   "version": "3.8.10"
  }
 },
 "nbformat": 4,
 "nbformat_minor": 5
}
