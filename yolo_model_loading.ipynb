{
 "cells": [
  {
   "cell_type": "code",
   "execution_count": 2,
   "id": "ce10426a",
   "metadata": {},
   "outputs": [],
   "source": [
    "import os \n",
    "import pandas\n",
    "import torch\n",
    "import glob\n"
   ]
  },
  {
   "cell_type": "code",
   "execution_count": null,
   "id": "81ed0b0a",
   "metadata": {},
   "outputs": [],
   "source": [
    "# import torch, json, pandas\n",
    "\n",
    "# # custom_Model_using source\n",
    "model = torch.hub.load('ultralytics/yolov5', 'custom', path=\"/content/drive/MyDrive/Dunk/4CBSY5tAVckLcb0.pt\" , force_reload=True)\n",
    "\n",
    "# # results = model(\"/content/drive/MyDrive/Dunk/dunk1_fr/182.jpg\")\n",
    "# # tags = json.loads(results.pandas().xyxy[0].to_json(orient=\"records\"))"
   ]
  },
  {
   "cell_type": "code",
   "execution_count": null,
   "id": "d33ce7b1",
   "metadata": {},
   "outputs": [],
   "source": [
    "import glob\n",
    "import os\n",
    "img_path=\"/content/drive/MyDrive/Dunk/dunk1_fr/\"\n",
    "\n",
    "final_path=glob.glob(img_path + \"*.jpg\")\n",
    "# final_path=os.listdir('/content/drive/MyDrive/Dunk/dunk1_fr')\n",
    "# print(final_path)\n",
    "dictt={}\n",
    "\n",
    "for ind,path in enumerate(final_path):\n",
    "    results = model(i)\n",
    "    tags2 = json.loads(results.pandas().xyxy[0].to_json(orient=\"records\"))\n",
    "    basename=os.path.basename(path)\n",
    "    if basename in dictt:\n",
    "        dictt.append(tags2)\n",
    "    else:\n",
    "        dictt[basename]=tags2\n",
    "\n",
    "  "
   ]
  },
  {
   "cell_type": "code",
   "execution_count": null,
   "id": "7c12efc5",
   "metadata": {},
   "outputs": [],
   "source": []
  },
  {
   "cell_type": "code",
   "execution_count": null,
   "id": "64528842",
   "metadata": {},
   "outputs": [],
   "source": []
  }
 ],
 "metadata": {
  "kernelspec": {
   "display_name": "Python 3 (ipykernel)",
   "language": "python",
   "name": "python3"
  },
  "language_info": {
   "codemirror_mode": {
    "name": "ipython",
    "version": 3
   },
   "file_extension": ".py",
   "mimetype": "text/x-python",
   "name": "python",
   "nbconvert_exporter": "python",
   "pygments_lexer": "ipython3",
   "version": "3.8.10"
  }
 },
 "nbformat": 4,
 "nbformat_minor": 5
}
