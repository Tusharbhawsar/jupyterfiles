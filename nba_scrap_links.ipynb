{
 "cells": [
  {
   "cell_type": "code",
   "execution_count": 1,
   "metadata": {},
   "outputs": [],
   "source": [
    "from bs4 import BeautifulSoup\n",
    "import json\n",
    "import os\n",
    "import pandas as pd\n",
    "import requests\n",
    "from tqdm import tqdm"
   ]
  },
  {
   "cell_type": "code",
   "execution_count": 2,
   "metadata": {},
   "outputs": [
    {
     "name": "stdout",
     "output_type": "stream",
     "text": [
      "Defaulting to user installation because normal site-packages is not writeable\n",
      "Requirement already satisfied: pandas in /home/link-lap-24/.local/lib/python3.8/site-packages (1.4.2)\n",
      "Requirement already satisfied: python-dateutil>=2.8.1 in /home/link-lap-24/.local/lib/python3.8/site-packages (from pandas) (2.8.2)\n",
      "Requirement already satisfied: pytz>=2020.1 in /home/link-lap-24/.local/lib/python3.8/site-packages (from pandas) (2022.1)\n",
      "Requirement already satisfied: numpy>=1.18.5 in /home/link-lap-24/.local/lib/python3.8/site-packages (from pandas) (1.20.3)\n",
      "Requirement already satisfied: six>=1.5 in /usr/lib/python3/dist-packages (from python-dateutil>=2.8.1->pandas) (1.14.0)\n",
      "\u001b[33mWARNING: You are using pip version 22.0.4; however, version 22.3.1 is available.\n",
      "You should consider upgrading via the '/usr/bin/python3 -m pip install --upgrade pip' command.\u001b[0m\u001b[33m\n",
      "\u001b[0m"
     ]
    }
   ],
   "source": [
    "! pip install pandas"
   ]
  },
  {
   "cell_type": "code",
   "execution_count": 2,
   "metadata": {},
   "outputs": [],
   "source": [
    "def fetch_game_data(html_path, output_path, beginAt=1):\n",
    "    with open(html_path) as f:\n",
    "        soup = BeautifulSoup(f, 'html.parser')\n",
    "    data = {'id':[],\n",
    "            'data_text':[],\n",
    "            'shot_result':[],\n",
    "            'home_team':[],\n",
    "            'visiting_team':[],\n",
    "            'game_clock':[],\n",
    "            'quarter':[],\n",
    "            'video_url':[]\n",
    "            }\n",
    "    articles = soup.findAll('article', attrs={'class':'GamePlayByPlayRow_article__asoO2'})\n",
    "    quarter = 1\n",
    "    prev_game_time, game_time = None, None\n",
    "    if beginAt > 1:\n",
    "        df = pd.read_csv(output_path)\n",
    "    skip = True\n",
    "    with tqdm(total=len(articles), desc=\"Progress\") as pbar:\n",
    "        for idx, article in enumerate(articles):\n",
    "            clock_span = article.find('span', attrs={'class':'GamePlayByPlayRow_clockElement__LfzHV'})\n",
    "            if ':' in clock_span.text:\n",
    "                m, s = clock_span.text.split(':')\n",
    "                game_time = 60*int(m) + int(s)\n",
    "            else:\n",
    "                game_time = int(float(clock_span.text))\n",
    "            if prev_game_time and game_time > prev_game_time:\n",
    "                quarter += 1\n",
    "            prev_game_time = game_time\n",
    "\n",
    "            if idx < beginAt-1:\n",
    "                pbar.update(1)\n",
    "                continue\n",
    "\n",
    "            score_span = article.find('span', attrs={'class':'GamePlayByPlayRow_scoring__Ax2hd'})\n",
    "            shot_result = 0\n",
    "            v_team, h_team = '', ''\n",
    "            if score_span:\n",
    "                shot_result = 1\n",
    "                scores = score_span.text.split('-')\n",
    "                v_team = scores[0].strip()\n",
    "                h_team = scores[1].strip()\n",
    "\n",
    "            desc_block = article.find('div', attrs={'class':'GamePlayByPlayRow_descBlock__By8pv'})\n",
    "            data_text = \"\"\n",
    "            if 'data-text' in desc_block.attrs:\n",
    "                data_text = desc_block.attrs['data-text']\n",
    "            \n",
    "            a_tag = desc_block.find('a')\n",
    "            if a_tag is None:\n",
    "                continue\n",
    "            vid_page_link = \"https://www.nba.com{}\".format(a_tag.attrs['href'])\n",
    "            search_param = vid_page_link.split('/')[-1].split('&')\n",
    "            game_event_id, game_id = None, None\n",
    "            for param in search_param:\n",
    "                if 'GameEventID' in param:\n",
    "                    game_event_id = param.split('=')[-1]\n",
    "                if 'GameID' in param:\n",
    "                    game_id = param.split('=')[-1]\n",
    "            if not (game_event_id or game_id):\n",
    "                continue\n",
    "            headers = {'Accept': '*/*',\n",
    "                        'Accept-Encoding': 'gzip, deflate, br',\n",
    "                        'Accept-Language': 'en-GB,en-US;q=0.9,en;q=0.8',\n",
    "                        'Connection': 'keep-alive',\n",
    "                        'Host': 'stats.nba.com',\n",
    "                        'Origin': 'https://www.nba.com',\n",
    "                        'Referer': 'https://www.nba.com/',\n",
    "                        'sec-ch-ua': '\"Google Chrome\";v=\"107\", \"Chromium\";v=\"107\", \"Not=A?Brand\";v=\"24\"',\n",
    "                        'sec-ch-ua-mobile': '?0',\n",
    "                        'sec-ch-ua-platform': \"Linux\",\n",
    "                        'Sec-Fetch-Dest': 'empty',\n",
    "                        'Sec-Fetch-Mode': 'cors',\n",
    "                        'Sec-Fetch-Site': 'same-site',\n",
    "                        'User-Agent': 'Mozilla/5.0 (X11; Linux x86_64) AppleWebKit/537.36 (KHTML, like Gecko) Chrome/107.0.0.0 Safari/537.36'\n",
    "                    }\n",
    "            r = requests.get(\"https://stats.nba.com/stats/videoeventsasset?GameEventID={}&GameID={}\".format(game_event_id, game_id), headers=headers)\n",
    "            video_url = json.loads(r.content)['resultSets']['Meta']['videoUrls'][0]['lurl']\n",
    "            \n",
    "            data['id'] = [idx+1]\n",
    "            data['data_text'] = [data_text]\n",
    "            data['shot_result'] = [shot_result]\n",
    "            data['home_team'] = [h_team]\n",
    "            data['visiting_team'] = [v_team]\n",
    "            data['game_clock'] = [game_time]\n",
    "            data['quarter'] = [quarter]\n",
    "            data['video_url'] = [video_url]\n",
    "\n",
    "            df = pd.DataFrame(data)\n",
    "            if os.path.exists(output_path):\n",
    "                df.to_csv(output_path, mode='a', header=False, index=False)\n",
    "            else:\n",
    "                df.to_csv(output_path, mode='a', index=False)\n",
    "            pbar.update(1)\n",
    "    return df"
   ]
  },
  {
   "cell_type": "code",
   "execution_count": null,
   "metadata": {},
   "outputs": [
    {
     "name": "stderr",
     "output_type": "stream",
     "text": [
      "Progress:   9%|██▉                             | 45/485 [00:19<00:36, 11.91it/s]"
     ]
    }
   ],
   "source": [
    "path = 'game_page.html'\n",
    "output_path = os.path.join('jan2022_3rd.csv')\n",
    "fetch_game_data(path, output_path)"
   ]
  },
  {
   "cell_type": "code",
   "execution_count": null,
   "metadata": {},
   "outputs": [],
   "source": []
  }
 ],
 "metadata": {
  "kernelspec": {
   "display_name": "Python 3 (ipykernel)",
   "language": "python",
   "name": "python3"
  },
  "language_info": {
   "codemirror_mode": {
    "name": "ipython",
    "version": 3
   },
   "file_extension": ".py",
   "mimetype": "text/x-python",
   "name": "python",
   "nbconvert_exporter": "python",
   "pygments_lexer": "ipython3",
   "version": "3.8.10"
  },
  "vscode": {
   "interpreter": {
    "hash": "4eec5326854b992ab7ee567084b669351362f20980b1f4604092afc522acbf76"
   }
  }
 },
 "nbformat": 4,
 "nbformat_minor": 2
}
