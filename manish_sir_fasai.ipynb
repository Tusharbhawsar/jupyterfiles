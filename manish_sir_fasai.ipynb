{
 "cells": [
  {
   "cell_type": "code",
   "execution_count": 1,
   "id": "7974dc88",
   "metadata": {},
   "outputs": [
    {
     "name": "stdout",
     "output_type": "stream",
     "text": [
      "Defaulting to user installation because normal site-packages is not writeable\n",
      "Requirement already satisfied: fastai in /home/link-lap-24/.local/lib/python3.8/site-packages (2.7.13)\n",
      "Requirement already satisfied: pip in /home/link-lap-24/.local/lib/python3.8/site-packages (from fastai) (23.3.2)\n",
      "Requirement already satisfied: packaging in /home/link-lap-24/.local/lib/python3.8/site-packages (from fastai) (21.3)\n",
      "Requirement already satisfied: fastdownload<2,>=0.0.5 in /home/link-lap-24/.local/lib/python3.8/site-packages (from fastai) (0.0.5)\n",
      "Requirement already satisfied: fastcore<1.6,>=1.5.29 in /home/link-lap-24/.local/lib/python3.8/site-packages (from fastai) (1.5.29)\n",
      "Requirement already satisfied: torchvision>=0.11 in /home/link-lap-24/.local/lib/python3.8/site-packages (from fastai) (0.16.2)\n",
      "Requirement already satisfied: matplotlib in /home/link-lap-24/.local/lib/python3.8/site-packages (from fastai) (3.5.1)\n",
      "Requirement already satisfied: pandas in /home/link-lap-24/.local/lib/python3.8/site-packages (from fastai) (2.0.3)\n",
      "Requirement already satisfied: requests in /home/link-lap-24/.local/lib/python3.8/site-packages (from fastai) (2.31.0)\n",
      "Requirement already satisfied: pyyaml in /usr/lib/python3/dist-packages (from fastai) (5.3.1)\n",
      "Requirement already satisfied: fastprogress>=0.2.4 in /home/link-lap-24/.local/lib/python3.8/site-packages (from fastai) (1.0.2)\n",
      "Requirement already satisfied: pillow>=9.0.0 in /home/link-lap-24/.local/lib/python3.8/site-packages (from fastai) (10.1.0)\n",
      "Requirement already satisfied: scikit-learn in /home/link-lap-24/.local/lib/python3.8/site-packages (from fastai) (1.0.2)\n",
      "Requirement already satisfied: scipy in /home/link-lap-24/.local/lib/python3.8/site-packages (from fastai) (1.10.1)\n",
      "Requirement already satisfied: spacy<4 in /home/link-lap-24/.local/lib/python3.8/site-packages (from fastai) (3.3.0)\n",
      "Requirement already satisfied: torch<2.2,>=1.10 in /home/link-lap-24/.local/lib/python3.8/site-packages (from fastai) (2.1.2)\n",
      "Requirement already satisfied: spacy-legacy<3.1.0,>=3.0.9 in /home/link-lap-24/.local/lib/python3.8/site-packages (from spacy<4->fastai) (3.0.9)\n",
      "Requirement already satisfied: spacy-loggers<2.0.0,>=1.0.0 in /home/link-lap-24/.local/lib/python3.8/site-packages (from spacy<4->fastai) (1.0.2)\n",
      "Requirement already satisfied: murmurhash<1.1.0,>=0.28.0 in /home/link-lap-24/.local/lib/python3.8/site-packages (from spacy<4->fastai) (1.0.7)\n",
      "Requirement already satisfied: cymem<2.1.0,>=2.0.2 in /home/link-lap-24/.local/lib/python3.8/site-packages (from spacy<4->fastai) (2.0.6)\n",
      "Requirement already satisfied: preshed<3.1.0,>=3.0.2 in /home/link-lap-24/.local/lib/python3.8/site-packages (from spacy<4->fastai) (3.0.6)\n",
      "Requirement already satisfied: thinc<8.1.0,>=8.0.14 in /home/link-lap-24/.local/lib/python3.8/site-packages (from spacy<4->fastai) (8.0.15)\n",
      "Requirement already satisfied: blis<0.8.0,>=0.4.0 in /home/link-lap-24/.local/lib/python3.8/site-packages (from spacy<4->fastai) (0.7.7)\n",
      "Requirement already satisfied: wasabi<1.1.0,>=0.9.1 in /home/link-lap-24/.local/lib/python3.8/site-packages (from spacy<4->fastai) (0.9.1)\n",
      "Requirement already satisfied: srsly<3.0.0,>=2.4.3 in /home/link-lap-24/.local/lib/python3.8/site-packages (from spacy<4->fastai) (2.4.3)\n",
      "Requirement already satisfied: catalogue<2.1.0,>=2.0.6 in /home/link-lap-24/.local/lib/python3.8/site-packages (from spacy<4->fastai) (2.0.7)\n",
      "Requirement already satisfied: typer<0.5.0,>=0.3.0 in /home/link-lap-24/.local/lib/python3.8/site-packages (from spacy<4->fastai) (0.4.1)\n",
      "Requirement already satisfied: pathy>=0.3.5 in /home/link-lap-24/.local/lib/python3.8/site-packages (from spacy<4->fastai) (0.6.1)\n",
      "Requirement already satisfied: tqdm<5.0.0,>=4.38.0 in /home/link-lap-24/.local/lib/python3.8/site-packages (from spacy<4->fastai) (4.64.0)\n",
      "Requirement already satisfied: numpy>=1.15.0 in /home/link-lap-24/.local/lib/python3.8/site-packages (from spacy<4->fastai) (1.24.4)\n",
      "Requirement already satisfied: pydantic!=1.8,!=1.8.1,<1.9.0,>=1.7.4 in /home/link-lap-24/.local/lib/python3.8/site-packages (from spacy<4->fastai) (1.8.2)\n",
      "Requirement already satisfied: jinja2 in /home/link-lap-24/.local/lib/python3.8/site-packages (from spacy<4->fastai) (3.1.1)\n",
      "Requirement already satisfied: setuptools in /home/link-lap-24/.local/lib/python3.8/site-packages (from spacy<4->fastai) (67.6.0)\n",
      "Requirement already satisfied: langcodes<4.0.0,>=3.2.0 in /home/link-lap-24/.local/lib/python3.8/site-packages (from spacy<4->fastai) (3.3.0)\n",
      "Requirement already satisfied: pyparsing!=3.0.5,>=2.0.2 in /home/link-lap-24/.local/lib/python3.8/site-packages (from packaging->fastai) (2.4.7)\n",
      "Requirement already satisfied: charset-normalizer<4,>=2 in /home/link-lap-24/.local/lib/python3.8/site-packages (from requests->fastai) (2.0.12)\n",
      "Requirement already satisfied: idna<4,>=2.5 in /home/link-lap-24/.local/lib/python3.8/site-packages (from requests->fastai) (2.10)\n",
      "Requirement already satisfied: urllib3<3,>=1.21.1 in /home/link-lap-24/.local/lib/python3.8/site-packages (from requests->fastai) (1.26.18)\n",
      "Requirement already satisfied: certifi>=2017.4.17 in /home/link-lap-24/.local/lib/python3.8/site-packages (from requests->fastai) (2023.7.22)\n",
      "Requirement already satisfied: filelock in /usr/local/lib/python3.8/dist-packages (from torch<2.2,>=1.10->fastai) (3.6.0)\n",
      "Requirement already satisfied: typing-extensions in /home/link-lap-24/.local/lib/python3.8/site-packages (from torch<2.2,>=1.10->fastai) (4.6.3)\n",
      "Requirement already satisfied: sympy in /home/link-lap-24/.local/lib/python3.8/site-packages (from torch<2.2,>=1.10->fastai) (1.12)\n",
      "Requirement already satisfied: networkx in /home/link-lap-24/.local/lib/python3.8/site-packages (from torch<2.2,>=1.10->fastai) (2.8)\n",
      "Requirement already satisfied: fsspec in /home/link-lap-24/.local/lib/python3.8/site-packages (from torch<2.2,>=1.10->fastai) (2022.8.2)\n",
      "Requirement already satisfied: nvidia-cuda-nvrtc-cu12==12.1.105 in /home/link-lap-24/.local/lib/python3.8/site-packages (from torch<2.2,>=1.10->fastai) (12.1.105)\n",
      "Requirement already satisfied: nvidia-cuda-runtime-cu12==12.1.105 in /home/link-lap-24/.local/lib/python3.8/site-packages (from torch<2.2,>=1.10->fastai) (12.1.105)\n",
      "Requirement already satisfied: nvidia-cuda-cupti-cu12==12.1.105 in /home/link-lap-24/.local/lib/python3.8/site-packages (from torch<2.2,>=1.10->fastai) (12.1.105)\n",
      "Requirement already satisfied: nvidia-cudnn-cu12==8.9.2.26 in /home/link-lap-24/.local/lib/python3.8/site-packages (from torch<2.2,>=1.10->fastai) (8.9.2.26)\n",
      "Requirement already satisfied: nvidia-cublas-cu12==12.1.3.1 in /home/link-lap-24/.local/lib/python3.8/site-packages (from torch<2.2,>=1.10->fastai) (12.1.3.1)\n",
      "Requirement already satisfied: nvidia-cufft-cu12==11.0.2.54 in /home/link-lap-24/.local/lib/python3.8/site-packages (from torch<2.2,>=1.10->fastai) (11.0.2.54)\n",
      "Requirement already satisfied: nvidia-curand-cu12==10.3.2.106 in /home/link-lap-24/.local/lib/python3.8/site-packages (from torch<2.2,>=1.10->fastai) (10.3.2.106)\n",
      "Requirement already satisfied: nvidia-cusolver-cu12==11.4.5.107 in /home/link-lap-24/.local/lib/python3.8/site-packages (from torch<2.2,>=1.10->fastai) (11.4.5.107)\n",
      "Requirement already satisfied: nvidia-cusparse-cu12==12.1.0.106 in /home/link-lap-24/.local/lib/python3.8/site-packages (from torch<2.2,>=1.10->fastai) (12.1.0.106)\n",
      "Requirement already satisfied: nvidia-nccl-cu12==2.18.1 in /home/link-lap-24/.local/lib/python3.8/site-packages (from torch<2.2,>=1.10->fastai) (2.18.1)\n",
      "Requirement already satisfied: nvidia-nvtx-cu12==12.1.105 in /home/link-lap-24/.local/lib/python3.8/site-packages (from torch<2.2,>=1.10->fastai) (12.1.105)\n",
      "Requirement already satisfied: triton==2.1.0 in /home/link-lap-24/.local/lib/python3.8/site-packages (from torch<2.2,>=1.10->fastai) (2.1.0)\n",
      "Requirement already satisfied: nvidia-nvjitlink-cu12 in /home/link-lap-24/.local/lib/python3.8/site-packages (from nvidia-cusolver-cu12==11.4.5.107->torch<2.2,>=1.10->fastai) (12.3.101)\n",
      "Requirement already satisfied: cycler>=0.10 in /home/link-lap-24/.local/lib/python3.8/site-packages (from matplotlib->fastai) (0.10.0)\n",
      "Requirement already satisfied: fonttools>=4.22.0 in /home/link-lap-24/.local/lib/python3.8/site-packages (from matplotlib->fastai) (4.33.3)\n",
      "Requirement already satisfied: kiwisolver>=1.0.1 in /home/link-lap-24/.local/lib/python3.8/site-packages (from matplotlib->fastai) (1.4.2)\n",
      "Requirement already satisfied: python-dateutil>=2.7 in /home/link-lap-24/.local/lib/python3.8/site-packages (from matplotlib->fastai) (2.8.2)\n"
     ]
    },
    {
     "name": "stdout",
     "output_type": "stream",
     "text": [
      "Requirement already satisfied: pytz>=2020.1 in /home/link-lap-24/.local/lib/python3.8/site-packages (from pandas->fastai) (2023.3.post1)\n",
      "Requirement already satisfied: tzdata>=2022.1 in /home/link-lap-24/.local/lib/python3.8/site-packages (from pandas->fastai) (2023.3)\n",
      "Requirement already satisfied: joblib>=0.11 in /home/link-lap-24/.local/lib/python3.8/site-packages (from scikit-learn->fastai) (1.1.0)\n",
      "Requirement already satisfied: threadpoolctl>=2.0.0 in /home/link-lap-24/.local/lib/python3.8/site-packages (from scikit-learn->fastai) (3.1.0)\n",
      "Requirement already satisfied: six in /usr/lib/python3/dist-packages (from cycler>=0.10->matplotlib->fastai) (1.14.0)\n",
      "Requirement already satisfied: smart-open<6.0.0,>=5.0.0 in /home/link-lap-24/.local/lib/python3.8/site-packages (from pathy>=0.3.5->spacy<4->fastai) (5.2.1)\n",
      "Requirement already satisfied: click<9.0.0,>=7.1.1 in /home/link-lap-24/.local/lib/python3.8/site-packages (from typer<0.5.0,>=0.3.0->spacy<4->fastai) (8.1.3)\n",
      "Requirement already satisfied: MarkupSafe>=2.0 in /home/link-lap-24/.local/lib/python3.8/site-packages (from jinja2->spacy<4->fastai) (2.1.1)\n",
      "Requirement already satisfied: mpmath>=0.19 in /home/link-lap-24/.local/lib/python3.8/site-packages (from sympy->torch<2.2,>=1.10->fastai) (1.3.0)\n",
      "Defaulting to user installation because normal site-packages is not writeable\n",
      "Looking in links: https://download.pytorch.org/whl/torch_stable.html\n",
      "Collecting torch==1.9.0+cu111\n",
      "  Using cached https://download.pytorch.org/whl/cu111/torch-1.9.0%2Bcu111-cp38-cp38-linux_x86_64.whl (2041.3 MB)\n",
      "Collecting torchvision==0.10.0+cu111\n",
      "  Using cached https://download.pytorch.org/whl/cu111/torchvision-0.10.0%2Bcu111-cp38-cp38-linux_x86_64.whl (23.2 MB)\n",
      "Requirement already satisfied: torchaudio==0.9.0 in /home/link-lap-24/.local/lib/python3.8/site-packages (0.9.0)\n",
      "Requirement already satisfied: typing-extensions in /home/link-lap-24/.local/lib/python3.8/site-packages (from torch==1.9.0+cu111) (4.6.3)\n",
      "Requirement already satisfied: numpy in /home/link-lap-24/.local/lib/python3.8/site-packages (from torchvision==0.10.0+cu111) (1.24.4)\n",
      "Requirement already satisfied: pillow>=5.3.0 in /home/link-lap-24/.local/lib/python3.8/site-packages (from torchvision==0.10.0+cu111) (10.1.0)\n",
      "Installing collected packages: torch, torchvision\n",
      "  Attempting uninstall: torch\n",
      "    Found existing installation: torch 2.1.2\n",
      "    Uninstalling torch-2.1.2:\n",
      "      Successfully uninstalled torch-2.1.2\n",
      "  Attempting uninstall: torchvision\n",
      "    Found existing installation: torchvision 0.16.2\n",
      "    Uninstalling torchvision-0.16.2:\n",
      "      Successfully uninstalled torchvision-0.16.2\n",
      "\u001b[31mERROR: pip's dependency resolver does not currently take into account all the packages that are installed. This behaviour is the source of the following dependency conflicts.\n",
      "easyocr 1.6.2 requires opencv-python-headless<=4.5.4.60, but you have opencv-python-headless 4.8.0.74 which is incompatible.\n",
      "fastai 2.7.13 requires torch<2.2,>=1.10, but you have torch 1.9.0+cu111 which is incompatible.\n",
      "fastai 2.7.13 requires torchvision>=0.11, but you have torchvision 0.10.0+cu111 which is incompatible.\n",
      "gfpgan 1.3.2 requires numpy<1.21, but you have numpy 1.24.4 which is incompatible.\n",
      "ultralytics 8.0.175 requires opencv-python>=4.6.0, but you have opencv-python 4.5.5.64 which is incompatible.\u001b[0m\u001b[31m\n",
      "\u001b[0mSuccessfully installed torch-1.9.0+cu111 torchvision-0.10.0+cu111\n",
      "Defaulting to user installation because normal site-packages is not writeable\n",
      "Requirement already satisfied: timm in /home/link-lap-24/.local/lib/python3.8/site-packages (0.5.4)\n",
      "Requirement already satisfied: torch>=1.4 in /home/link-lap-24/.local/lib/python3.8/site-packages (from timm) (1.9.0+cu111)\n",
      "Requirement already satisfied: torchvision in /home/link-lap-24/.local/lib/python3.8/site-packages (from timm) (0.10.0+cu111)\n",
      "Requirement already satisfied: typing-extensions in /home/link-lap-24/.local/lib/python3.8/site-packages (from torch>=1.4->timm) (4.6.3)\n",
      "Requirement already satisfied: numpy in /home/link-lap-24/.local/lib/python3.8/site-packages (from torchvision->timm) (1.24.4)\n",
      "Requirement already satisfied: pillow>=5.3.0 in /home/link-lap-24/.local/lib/python3.8/site-packages (from torchvision->timm) (10.1.0)\n",
      "Defaulting to user installation because normal site-packages is not writeable\n",
      "Requirement already satisfied: fastbook in /home/link-lap-24/.local/lib/python3.8/site-packages (0.0.28)\n",
      "Requirement already satisfied: pip in /home/link-lap-24/.local/lib/python3.8/site-packages (from fastbook) (23.3.2)\n",
      "Requirement already satisfied: packaging in /home/link-lap-24/.local/lib/python3.8/site-packages (from fastbook) (21.3)\n",
      "Requirement already satisfied: fastai>=2.6 in /home/link-lap-24/.local/lib/python3.8/site-packages (from fastbook) (2.7.13)\n",
      "Requirement already satisfied: graphviz in /home/link-lap-24/.local/lib/python3.8/site-packages (from fastbook) (0.20.1)\n",
      "Requirement already satisfied: pandas in /home/link-lap-24/.local/lib/python3.8/site-packages (from fastbook) (2.0.3)\n",
      "Requirement already satisfied: requests in /home/link-lap-24/.local/lib/python3.8/site-packages (from fastbook) (2.31.0)\n",
      "Requirement already satisfied: transformers in /home/link-lap-24/.local/lib/python3.8/site-packages (from fastbook) (4.23.1)\n",
      "Requirement already satisfied: datasets in /home/link-lap-24/.local/lib/python3.8/site-packages (from fastbook) (2.6.1)\n",
      "Requirement already satisfied: sentencepiece in /home/link-lap-24/.local/lib/python3.8/site-packages (from fastbook) (0.1.97)\n",
      "Requirement already satisfied: fastdownload<2,>=0.0.5 in /home/link-lap-24/.local/lib/python3.8/site-packages (from fastai>=2.6->fastbook) (0.0.5)\n",
      "Requirement already satisfied: fastcore<1.6,>=1.5.29 in /home/link-lap-24/.local/lib/python3.8/site-packages (from fastai>=2.6->fastbook) (1.5.29)\n",
      "Collecting torchvision>=0.11 (from fastai>=2.6->fastbook)\n",
      "  Using cached torchvision-0.16.2-cp38-cp38-manylinux1_x86_64.whl.metadata (6.6 kB)\n",
      "Requirement already satisfied: matplotlib in /home/link-lap-24/.local/lib/python3.8/site-packages (from fastai>=2.6->fastbook) (3.5.1)\n",
      "Requirement already satisfied: pyyaml in /usr/lib/python3/dist-packages (from fastai>=2.6->fastbook) (5.3.1)\n",
      "Requirement already satisfied: fastprogress>=0.2.4 in /home/link-lap-24/.local/lib/python3.8/site-packages (from fastai>=2.6->fastbook) (1.0.2)\n",
      "Requirement already satisfied: pillow>=9.0.0 in /home/link-lap-24/.local/lib/python3.8/site-packages (from fastai>=2.6->fastbook) (10.1.0)\n",
      "Requirement already satisfied: scikit-learn in /home/link-lap-24/.local/lib/python3.8/site-packages (from fastai>=2.6->fastbook) (1.0.2)\n",
      "Requirement already satisfied: scipy in /home/link-lap-24/.local/lib/python3.8/site-packages (from fastai>=2.6->fastbook) (1.10.1)\n",
      "Requirement already satisfied: spacy<4 in /home/link-lap-24/.local/lib/python3.8/site-packages (from fastai>=2.6->fastbook) (3.3.0)\n",
      "Collecting torch<2.2,>=1.10 (from fastai>=2.6->fastbook)\n",
      "  Using cached torch-2.1.2-cp38-cp38-manylinux1_x86_64.whl.metadata (25 kB)\n",
      "Requirement already satisfied: numpy>=1.17 in /home/link-lap-24/.local/lib/python3.8/site-packages (from datasets->fastbook) (1.24.4)\n",
      "Requirement already satisfied: pyarrow>=6.0.0 in /home/link-lap-24/.local/lib/python3.8/site-packages (from datasets->fastbook) (9.0.0)\n",
      "Requirement already satisfied: dill<0.3.6 in /home/link-lap-24/.local/lib/python3.8/site-packages (from datasets->fastbook) (0.3.5.1)\n",
      "Requirement already satisfied: tqdm>=4.62.1 in /home/link-lap-24/.local/lib/python3.8/site-packages (from datasets->fastbook) (4.64.0)\n",
      "Requirement already satisfied: xxhash in /home/link-lap-24/.local/lib/python3.8/site-packages (from datasets->fastbook) (3.0.0)\n",
      "Requirement already satisfied: multiprocess in /home/link-lap-24/.local/lib/python3.8/site-packages (from datasets->fastbook) (0.70.13)\n",
      "Requirement already satisfied: fsspec>=2021.11.1 in /home/link-lap-24/.local/lib/python3.8/site-packages (from fsspec[http]>=2021.11.1->datasets->fastbook) (2022.8.2)\n",
      "Requirement already satisfied: aiohttp in /home/link-lap-24/.local/lib/python3.8/site-packages (from datasets->fastbook) (3.8.3)\n",
      "Requirement already satisfied: huggingface-hub<1.0.0,>=0.2.0 in /home/link-lap-24/.local/lib/python3.8/site-packages (from datasets->fastbook) (0.10.1)\n",
      "Requirement already satisfied: responses<0.19 in /home/link-lap-24/.local/lib/python3.8/site-packages (from datasets->fastbook) (0.18.0)\n",
      "Requirement already satisfied: charset-normalizer<4,>=2 in /home/link-lap-24/.local/lib/python3.8/site-packages (from requests->fastbook) (2.0.12)\n",
      "Requirement already satisfied: idna<4,>=2.5 in /home/link-lap-24/.local/lib/python3.8/site-packages (from requests->fastbook) (2.10)\n",
      "Requirement already satisfied: urllib3<3,>=1.21.1 in /home/link-lap-24/.local/lib/python3.8/site-packages (from requests->fastbook) (1.26.18)\n",
      "Requirement already satisfied: certifi>=2017.4.17 in /home/link-lap-24/.local/lib/python3.8/site-packages (from requests->fastbook) (2023.7.22)\n",
      "Requirement already satisfied: pyparsing!=3.0.5,>=2.0.2 in /home/link-lap-24/.local/lib/python3.8/site-packages (from packaging->fastbook) (2.4.7)\n"
     ]
    },
    {
     "name": "stdout",
     "output_type": "stream",
     "text": [
      "Requirement already satisfied: python-dateutil>=2.8.2 in /home/link-lap-24/.local/lib/python3.8/site-packages (from pandas->fastbook) (2.8.2)\n",
      "Requirement already satisfied: pytz>=2020.1 in /home/link-lap-24/.local/lib/python3.8/site-packages (from pandas->fastbook) (2023.3.post1)\n",
      "Requirement already satisfied: tzdata>=2022.1 in /home/link-lap-24/.local/lib/python3.8/site-packages (from pandas->fastbook) (2023.3)\n",
      "Requirement already satisfied: filelock in /usr/local/lib/python3.8/dist-packages (from transformers->fastbook) (3.6.0)\n",
      "Requirement already satisfied: regex!=2019.12.17 in /home/link-lap-24/.local/lib/python3.8/site-packages (from transformers->fastbook) (2022.4.24)\n",
      "Requirement already satisfied: tokenizers!=0.11.3,<0.14,>=0.11.1 in /home/link-lap-24/.local/lib/python3.8/site-packages (from transformers->fastbook) (0.13.1)\n",
      "Requirement already satisfied: attrs>=17.3.0 in /home/link-lap-24/.local/lib/python3.8/site-packages (from aiohttp->datasets->fastbook) (21.4.0)\n",
      "Requirement already satisfied: multidict<7.0,>=4.5 in /home/link-lap-24/.local/lib/python3.8/site-packages (from aiohttp->datasets->fastbook) (6.0.2)\n",
      "Requirement already satisfied: async-timeout<5.0,>=4.0.0a3 in /home/link-lap-24/.local/lib/python3.8/site-packages (from aiohttp->datasets->fastbook) (4.0.2)\n",
      "Requirement already satisfied: yarl<2.0,>=1.0 in /home/link-lap-24/.local/lib/python3.8/site-packages (from aiohttp->datasets->fastbook) (1.8.1)\n",
      "Requirement already satisfied: frozenlist>=1.1.1 in /home/link-lap-24/.local/lib/python3.8/site-packages (from aiohttp->datasets->fastbook) (1.3.1)\n",
      "Requirement already satisfied: aiosignal>=1.1.2 in /home/link-lap-24/.local/lib/python3.8/site-packages (from aiohttp->datasets->fastbook) (1.2.0)\n",
      "Requirement already satisfied: typing-extensions>=3.7.4.3 in /home/link-lap-24/.local/lib/python3.8/site-packages (from huggingface-hub<1.0.0,>=0.2.0->datasets->fastbook) (4.6.3)\n",
      "Requirement already satisfied: six>=1.5 in /usr/lib/python3/dist-packages (from python-dateutil>=2.8.2->pandas->fastbook) (1.14.0)\n",
      "Requirement already satisfied: spacy-legacy<3.1.0,>=3.0.9 in /home/link-lap-24/.local/lib/python3.8/site-packages (from spacy<4->fastai>=2.6->fastbook) (3.0.9)\n",
      "Requirement already satisfied: spacy-loggers<2.0.0,>=1.0.0 in /home/link-lap-24/.local/lib/python3.8/site-packages (from spacy<4->fastai>=2.6->fastbook) (1.0.2)\n",
      "Requirement already satisfied: murmurhash<1.1.0,>=0.28.0 in /home/link-lap-24/.local/lib/python3.8/site-packages (from spacy<4->fastai>=2.6->fastbook) (1.0.7)\n",
      "Requirement already satisfied: cymem<2.1.0,>=2.0.2 in /home/link-lap-24/.local/lib/python3.8/site-packages (from spacy<4->fastai>=2.6->fastbook) (2.0.6)\n",
      "Requirement already satisfied: preshed<3.1.0,>=3.0.2 in /home/link-lap-24/.local/lib/python3.8/site-packages (from spacy<4->fastai>=2.6->fastbook) (3.0.6)\n",
      "Requirement already satisfied: thinc<8.1.0,>=8.0.14 in /home/link-lap-24/.local/lib/python3.8/site-packages (from spacy<4->fastai>=2.6->fastbook) (8.0.15)\n",
      "Requirement already satisfied: blis<0.8.0,>=0.4.0 in /home/link-lap-24/.local/lib/python3.8/site-packages (from spacy<4->fastai>=2.6->fastbook) (0.7.7)\n",
      "Requirement already satisfied: wasabi<1.1.0,>=0.9.1 in /home/link-lap-24/.local/lib/python3.8/site-packages (from spacy<4->fastai>=2.6->fastbook) (0.9.1)\n",
      "Requirement already satisfied: srsly<3.0.0,>=2.4.3 in /home/link-lap-24/.local/lib/python3.8/site-packages (from spacy<4->fastai>=2.6->fastbook) (2.4.3)\n",
      "Requirement already satisfied: catalogue<2.1.0,>=2.0.6 in /home/link-lap-24/.local/lib/python3.8/site-packages (from spacy<4->fastai>=2.6->fastbook) (2.0.7)\n",
      "Requirement already satisfied: typer<0.5.0,>=0.3.0 in /home/link-lap-24/.local/lib/python3.8/site-packages (from spacy<4->fastai>=2.6->fastbook) (0.4.1)\n",
      "Requirement already satisfied: pathy>=0.3.5 in /home/link-lap-24/.local/lib/python3.8/site-packages (from spacy<4->fastai>=2.6->fastbook) (0.6.1)\n",
      "Requirement already satisfied: pydantic!=1.8,!=1.8.1,<1.9.0,>=1.7.4 in /home/link-lap-24/.local/lib/python3.8/site-packages (from spacy<4->fastai>=2.6->fastbook) (1.8.2)\n",
      "Requirement already satisfied: jinja2 in /home/link-lap-24/.local/lib/python3.8/site-packages (from spacy<4->fastai>=2.6->fastbook) (3.1.1)\n",
      "Requirement already satisfied: setuptools in /home/link-lap-24/.local/lib/python3.8/site-packages (from spacy<4->fastai>=2.6->fastbook) (67.6.0)\n",
      "Requirement already satisfied: langcodes<4.0.0,>=3.2.0 in /home/link-lap-24/.local/lib/python3.8/site-packages (from spacy<4->fastai>=2.6->fastbook) (3.3.0)\n",
      "Requirement already satisfied: sympy in /home/link-lap-24/.local/lib/python3.8/site-packages (from torch<2.2,>=1.10->fastai>=2.6->fastbook) (1.12)\n",
      "Requirement already satisfied: networkx in /home/link-lap-24/.local/lib/python3.8/site-packages (from torch<2.2,>=1.10->fastai>=2.6->fastbook) (2.8)\n",
      "Requirement already satisfied: nvidia-cuda-nvrtc-cu12==12.1.105 in /home/link-lap-24/.local/lib/python3.8/site-packages (from torch<2.2,>=1.10->fastai>=2.6->fastbook) (12.1.105)\n",
      "Requirement already satisfied: nvidia-cuda-runtime-cu12==12.1.105 in /home/link-lap-24/.local/lib/python3.8/site-packages (from torch<2.2,>=1.10->fastai>=2.6->fastbook) (12.1.105)\n",
      "Requirement already satisfied: nvidia-cuda-cupti-cu12==12.1.105 in /home/link-lap-24/.local/lib/python3.8/site-packages (from torch<2.2,>=1.10->fastai>=2.6->fastbook) (12.1.105)\n",
      "Requirement already satisfied: nvidia-cudnn-cu12==8.9.2.26 in /home/link-lap-24/.local/lib/python3.8/site-packages (from torch<2.2,>=1.10->fastai>=2.6->fastbook) (8.9.2.26)\n",
      "Requirement already satisfied: nvidia-cublas-cu12==12.1.3.1 in /home/link-lap-24/.local/lib/python3.8/site-packages (from torch<2.2,>=1.10->fastai>=2.6->fastbook) (12.1.3.1)\n",
      "Requirement already satisfied: nvidia-cufft-cu12==11.0.2.54 in /home/link-lap-24/.local/lib/python3.8/site-packages (from torch<2.2,>=1.10->fastai>=2.6->fastbook) (11.0.2.54)\n",
      "Requirement already satisfied: nvidia-curand-cu12==10.3.2.106 in /home/link-lap-24/.local/lib/python3.8/site-packages (from torch<2.2,>=1.10->fastai>=2.6->fastbook) (10.3.2.106)\n",
      "Requirement already satisfied: nvidia-cusolver-cu12==11.4.5.107 in /home/link-lap-24/.local/lib/python3.8/site-packages (from torch<2.2,>=1.10->fastai>=2.6->fastbook) (11.4.5.107)\n",
      "Requirement already satisfied: nvidia-cusparse-cu12==12.1.0.106 in /home/link-lap-24/.local/lib/python3.8/site-packages (from torch<2.2,>=1.10->fastai>=2.6->fastbook) (12.1.0.106)\n",
      "Requirement already satisfied: nvidia-nccl-cu12==2.18.1 in /home/link-lap-24/.local/lib/python3.8/site-packages (from torch<2.2,>=1.10->fastai>=2.6->fastbook) (2.18.1)\n",
      "Requirement already satisfied: nvidia-nvtx-cu12==12.1.105 in /home/link-lap-24/.local/lib/python3.8/site-packages (from torch<2.2,>=1.10->fastai>=2.6->fastbook) (12.1.105)\n",
      "Requirement already satisfied: triton==2.1.0 in /home/link-lap-24/.local/lib/python3.8/site-packages (from torch<2.2,>=1.10->fastai>=2.6->fastbook) (2.1.0)\n",
      "Requirement already satisfied: nvidia-nvjitlink-cu12 in /home/link-lap-24/.local/lib/python3.8/site-packages (from nvidia-cusolver-cu12==11.4.5.107->torch<2.2,>=1.10->fastai>=2.6->fastbook) (12.3.101)\n",
      "Requirement already satisfied: cycler>=0.10 in /home/link-lap-24/.local/lib/python3.8/site-packages (from matplotlib->fastai>=2.6->fastbook) (0.10.0)\n",
      "Requirement already satisfied: fonttools>=4.22.0 in /home/link-lap-24/.local/lib/python3.8/site-packages (from matplotlib->fastai>=2.6->fastbook) (4.33.3)\n",
      "Requirement already satisfied: kiwisolver>=1.0.1 in /home/link-lap-24/.local/lib/python3.8/site-packages (from matplotlib->fastai>=2.6->fastbook) (1.4.2)\n",
      "Requirement already satisfied: joblib>=0.11 in /home/link-lap-24/.local/lib/python3.8/site-packages (from scikit-learn->fastai>=2.6->fastbook) (1.1.0)\n",
      "Requirement already satisfied: threadpoolctl>=2.0.0 in /home/link-lap-24/.local/lib/python3.8/site-packages (from scikit-learn->fastai>=2.6->fastbook) (3.1.0)\n",
      "Requirement already satisfied: smart-open<6.0.0,>=5.0.0 in /home/link-lap-24/.local/lib/python3.8/site-packages (from pathy>=0.3.5->spacy<4->fastai>=2.6->fastbook) (5.2.1)\n",
      "Requirement already satisfied: click<9.0.0,>=7.1.1 in /home/link-lap-24/.local/lib/python3.8/site-packages (from typer<0.5.0,>=0.3.0->spacy<4->fastai>=2.6->fastbook) (8.1.3)\n",
      "Requirement already satisfied: MarkupSafe>=2.0 in /home/link-lap-24/.local/lib/python3.8/site-packages (from jinja2->spacy<4->fastai>=2.6->fastbook) (2.1.1)\n"
     ]
    },
    {
     "name": "stdout",
     "output_type": "stream",
     "text": [
      "Requirement already satisfied: mpmath>=0.19 in /home/link-lap-24/.local/lib/python3.8/site-packages (from sympy->torch<2.2,>=1.10->fastai>=2.6->fastbook) (1.3.0)\n",
      "Using cached torch-2.1.2-cp38-cp38-manylinux1_x86_64.whl (670.2 MB)\n",
      "Using cached torchvision-0.16.2-cp38-cp38-manylinux1_x86_64.whl (6.8 MB)\n",
      "Installing collected packages: torch, torchvision\n",
      "  Attempting uninstall: torch\n",
      "    Found existing installation: torch 1.9.0+cu111\n",
      "    Uninstalling torch-1.9.0+cu111:\n",
      "      Successfully uninstalled torch-1.9.0+cu111\n",
      "  Attempting uninstall: torchvision\n",
      "    Found existing installation: torchvision 0.10.0+cu111\n",
      "    Uninstalling torchvision-0.10.0+cu111:\n",
      "      Successfully uninstalled torchvision-0.10.0+cu111\n",
      "\u001b[31mERROR: pip's dependency resolver does not currently take into account all the packages that are installed. This behaviour is the source of the following dependency conflicts.\n",
      "easyocr 1.6.2 requires opencv-python-headless<=4.5.4.60, but you have opencv-python-headless 4.8.0.74 which is incompatible.\n",
      "gfpgan 1.3.2 requires numpy<1.21, but you have numpy 1.24.4 which is incompatible.\n",
      "torchaudio 0.9.0 requires torch==1.9.0, but you have torch 2.1.2 which is incompatible.\n",
      "ultralytics 8.0.175 requires opencv-python>=4.6.0, but you have opencv-python 4.5.5.64 which is incompatible.\u001b[0m\u001b[31m\n",
      "\u001b[0mSuccessfully installed torch-2.1.2 torchvision-0.16.2\n"
     ]
    }
   ],
   "source": [
    "!pip install -U fastai\n",
    "!pip install torch==1.9.0+cu111 torchvision==0.10.0+cu111 torchaudio==0.9.0 -f https://download.pytorch.org/whl/torch_stable.html\n",
    "!pip install timm\n",
    "!pip install fastbook"
   ]
  },
  {
   "cell_type": "code",
   "execution_count": 4,
   "id": "f17eb1bc",
   "metadata": {},
   "outputs": [],
   "source": [
    "from fastai.imports import *\n",
    "from fastai.vision import *\n",
    "from fastbook import *\n",
    "import torch, timm\n",
    "\n",
    "import os\n",
    "import glob\n",
    "import cv2\n",
    "\n",
    "# !pip install timm 0.5.4"
   ]
  },
  {
   "cell_type": "code",
   "execution_count": 5,
   "id": "f9450bf2",
   "metadata": {},
   "outputs": [],
   "source": [
    "model = load_learner('U0QgwHs8vtdlh2s.pkl')"
   ]
  },
  {
   "cell_type": "code",
   "execution_count": 12,
   "id": "2f9dc7ac",
   "metadata": {},
   "outputs": [
    {
     "data": {
      "text/plain": [
       "Sequential(\n",
       "  (0): Sequential(\n",
       "    (0): BasicConv2d(\n",
       "      (conv): Conv2d(3, 32, kernel_size=(3, 3), stride=(2, 2), bias=False)\n",
       "      (bn): BatchNorm2d(32, eps=0.001, momentum=0.1, affine=True, track_running_stats=True)\n",
       "    )\n",
       "    (1): BasicConv2d(\n",
       "      (conv): Conv2d(32, 32, kernel_size=(3, 3), stride=(1, 1), bias=False)\n",
       "      (bn): BatchNorm2d(32, eps=0.001, momentum=0.1, affine=True, track_running_stats=True)\n",
       "    )\n",
       "    (2): BasicConv2d(\n",
       "      (conv): Conv2d(32, 64, kernel_size=(3, 3), stride=(1, 1), padding=(1, 1), bias=False)\n",
       "      (bn): BatchNorm2d(64, eps=0.001, momentum=0.1, affine=True, track_running_stats=True)\n",
       "    )\n",
       "    (3): MaxPool2d(kernel_size=3, stride=2, padding=0, dilation=1, ceil_mode=False)\n",
       "    (4): BasicConv2d(\n",
       "      (conv): Conv2d(64, 80, kernel_size=(1, 1), stride=(1, 1), bias=False)\n",
       "      (bn): BatchNorm2d(80, eps=0.001, momentum=0.1, affine=True, track_running_stats=True)\n",
       "    )\n",
       "    (5): BasicConv2d(\n",
       "      (conv): Conv2d(80, 192, kernel_size=(3, 3), stride=(1, 1), bias=False)\n",
       "      (bn): BatchNorm2d(192, eps=0.001, momentum=0.1, affine=True, track_running_stats=True)\n",
       "    )\n",
       "    (6): MaxPool2d(kernel_size=3, stride=2, padding=0, dilation=1, ceil_mode=False)\n",
       "    (7): InceptionA(\n",
       "      (branch1x1): BasicConv2d(\n",
       "        (conv): Conv2d(192, 64, kernel_size=(1, 1), stride=(1, 1), bias=False)\n",
       "        (bn): BatchNorm2d(64, eps=0.001, momentum=0.1, affine=True, track_running_stats=True)\n",
       "      )\n",
       "      (branch5x5_1): BasicConv2d(\n",
       "        (conv): Conv2d(192, 48, kernel_size=(1, 1), stride=(1, 1), bias=False)\n",
       "        (bn): BatchNorm2d(48, eps=0.001, momentum=0.1, affine=True, track_running_stats=True)\n",
       "      )\n",
       "      (branch5x5_2): BasicConv2d(\n",
       "        (conv): Conv2d(48, 64, kernel_size=(5, 5), stride=(1, 1), padding=(2, 2), bias=False)\n",
       "        (bn): BatchNorm2d(64, eps=0.001, momentum=0.1, affine=True, track_running_stats=True)\n",
       "      )\n",
       "      (branch3x3dbl_1): BasicConv2d(\n",
       "        (conv): Conv2d(192, 64, kernel_size=(1, 1), stride=(1, 1), bias=False)\n",
       "        (bn): BatchNorm2d(64, eps=0.001, momentum=0.1, affine=True, track_running_stats=True)\n",
       "      )\n",
       "      (branch3x3dbl_2): BasicConv2d(\n",
       "        (conv): Conv2d(64, 96, kernel_size=(3, 3), stride=(1, 1), padding=(1, 1), bias=False)\n",
       "        (bn): BatchNorm2d(96, eps=0.001, momentum=0.1, affine=True, track_running_stats=True)\n",
       "      )\n",
       "      (branch3x3dbl_3): BasicConv2d(\n",
       "        (conv): Conv2d(96, 96, kernel_size=(3, 3), stride=(1, 1), padding=(1, 1), bias=False)\n",
       "        (bn): BatchNorm2d(96, eps=0.001, momentum=0.1, affine=True, track_running_stats=True)\n",
       "      )\n",
       "      (branch_pool): BasicConv2d(\n",
       "        (conv): Conv2d(192, 32, kernel_size=(1, 1), stride=(1, 1), bias=False)\n",
       "        (bn): BatchNorm2d(32, eps=0.001, momentum=0.1, affine=True, track_running_stats=True)\n",
       "      )\n",
       "    )\n",
       "    (8): InceptionA(\n",
       "      (branch1x1): BasicConv2d(\n",
       "        (conv): Conv2d(256, 64, kernel_size=(1, 1), stride=(1, 1), bias=False)\n",
       "        (bn): BatchNorm2d(64, eps=0.001, momentum=0.1, affine=True, track_running_stats=True)\n",
       "      )\n",
       "      (branch5x5_1): BasicConv2d(\n",
       "        (conv): Conv2d(256, 48, kernel_size=(1, 1), stride=(1, 1), bias=False)\n",
       "        (bn): BatchNorm2d(48, eps=0.001, momentum=0.1, affine=True, track_running_stats=True)\n",
       "      )\n",
       "      (branch5x5_2): BasicConv2d(\n",
       "        (conv): Conv2d(48, 64, kernel_size=(5, 5), stride=(1, 1), padding=(2, 2), bias=False)\n",
       "        (bn): BatchNorm2d(64, eps=0.001, momentum=0.1, affine=True, track_running_stats=True)\n",
       "      )\n",
       "      (branch3x3dbl_1): BasicConv2d(\n",
       "        (conv): Conv2d(256, 64, kernel_size=(1, 1), stride=(1, 1), bias=False)\n",
       "        (bn): BatchNorm2d(64, eps=0.001, momentum=0.1, affine=True, track_running_stats=True)\n",
       "      )\n",
       "      (branch3x3dbl_2): BasicConv2d(\n",
       "        (conv): Conv2d(64, 96, kernel_size=(3, 3), stride=(1, 1), padding=(1, 1), bias=False)\n",
       "        (bn): BatchNorm2d(96, eps=0.001, momentum=0.1, affine=True, track_running_stats=True)\n",
       "      )\n",
       "      (branch3x3dbl_3): BasicConv2d(\n",
       "        (conv): Conv2d(96, 96, kernel_size=(3, 3), stride=(1, 1), padding=(1, 1), bias=False)\n",
       "        (bn): BatchNorm2d(96, eps=0.001, momentum=0.1, affine=True, track_running_stats=True)\n",
       "      )\n",
       "      (branch_pool): BasicConv2d(\n",
       "        (conv): Conv2d(256, 64, kernel_size=(1, 1), stride=(1, 1), bias=False)\n",
       "        (bn): BatchNorm2d(64, eps=0.001, momentum=0.1, affine=True, track_running_stats=True)\n",
       "      )\n",
       "    )\n",
       "    (9): InceptionA(\n",
       "      (branch1x1): BasicConv2d(\n",
       "        (conv): Conv2d(288, 64, kernel_size=(1, 1), stride=(1, 1), bias=False)\n",
       "        (bn): BatchNorm2d(64, eps=0.001, momentum=0.1, affine=True, track_running_stats=True)\n",
       "      )\n",
       "      (branch5x5_1): BasicConv2d(\n",
       "        (conv): Conv2d(288, 48, kernel_size=(1, 1), stride=(1, 1), bias=False)\n",
       "        (bn): BatchNorm2d(48, eps=0.001, momentum=0.1, affine=True, track_running_stats=True)\n",
       "      )\n",
       "      (branch5x5_2): BasicConv2d(\n",
       "        (conv): Conv2d(48, 64, kernel_size=(5, 5), stride=(1, 1), padding=(2, 2), bias=False)\n",
       "        (bn): BatchNorm2d(64, eps=0.001, momentum=0.1, affine=True, track_running_stats=True)\n",
       "      )\n",
       "      (branch3x3dbl_1): BasicConv2d(\n",
       "        (conv): Conv2d(288, 64, kernel_size=(1, 1), stride=(1, 1), bias=False)\n",
       "        (bn): BatchNorm2d(64, eps=0.001, momentum=0.1, affine=True, track_running_stats=True)\n",
       "      )\n",
       "      (branch3x3dbl_2): BasicConv2d(\n",
       "        (conv): Conv2d(64, 96, kernel_size=(3, 3), stride=(1, 1), padding=(1, 1), bias=False)\n",
       "        (bn): BatchNorm2d(96, eps=0.001, momentum=0.1, affine=True, track_running_stats=True)\n",
       "      )\n",
       "      (branch3x3dbl_3): BasicConv2d(\n",
       "        (conv): Conv2d(96, 96, kernel_size=(3, 3), stride=(1, 1), padding=(1, 1), bias=False)\n",
       "        (bn): BatchNorm2d(96, eps=0.001, momentum=0.1, affine=True, track_running_stats=True)\n",
       "      )\n",
       "      (branch_pool): BasicConv2d(\n",
       "        (conv): Conv2d(288, 64, kernel_size=(1, 1), stride=(1, 1), bias=False)\n",
       "        (bn): BatchNorm2d(64, eps=0.001, momentum=0.1, affine=True, track_running_stats=True)\n",
       "      )\n",
       "    )\n",
       "    (10): InceptionB(\n",
       "      (branch3x3): BasicConv2d(\n",
       "        (conv): Conv2d(288, 384, kernel_size=(3, 3), stride=(2, 2), bias=False)\n",
       "        (bn): BatchNorm2d(384, eps=0.001, momentum=0.1, affine=True, track_running_stats=True)\n",
       "      )\n",
       "      (branch3x3dbl_1): BasicConv2d(\n",
       "        (conv): Conv2d(288, 64, kernel_size=(1, 1), stride=(1, 1), bias=False)\n",
       "        (bn): BatchNorm2d(64, eps=0.001, momentum=0.1, affine=True, track_running_stats=True)\n",
       "      )\n",
       "      (branch3x3dbl_2): BasicConv2d(\n",
       "        (conv): Conv2d(64, 96, kernel_size=(3, 3), stride=(1, 1), padding=(1, 1), bias=False)\n",
       "        (bn): BatchNorm2d(96, eps=0.001, momentum=0.1, affine=True, track_running_stats=True)\n",
       "      )\n",
       "      (branch3x3dbl_3): BasicConv2d(\n",
       "        (conv): Conv2d(96, 96, kernel_size=(3, 3), stride=(2, 2), bias=False)\n",
       "        (bn): BatchNorm2d(96, eps=0.001, momentum=0.1, affine=True, track_running_stats=True)\n",
       "      )\n",
       "    )\n",
       "    (11): InceptionC(\n",
       "      (branch1x1): BasicConv2d(\n",
       "        (conv): Conv2d(768, 192, kernel_size=(1, 1), stride=(1, 1), bias=False)\n",
       "        (bn): BatchNorm2d(192, eps=0.001, momentum=0.1, affine=True, track_running_stats=True)\n",
       "      )\n",
       "      (branch7x7_1): BasicConv2d(\n",
       "        (conv): Conv2d(768, 128, kernel_size=(1, 1), stride=(1, 1), bias=False)\n",
       "        (bn): BatchNorm2d(128, eps=0.001, momentum=0.1, affine=True, track_running_stats=True)\n",
       "      )\n",
       "      (branch7x7_2): BasicConv2d(\n",
       "        (conv): Conv2d(128, 128, kernel_size=(1, 7), stride=(1, 1), padding=(0, 3), bias=False)\n",
       "        (bn): BatchNorm2d(128, eps=0.001, momentum=0.1, affine=True, track_running_stats=True)\n",
       "      )\n",
       "      (branch7x7_3): BasicConv2d(\n",
       "        (conv): Conv2d(128, 192, kernel_size=(7, 1), stride=(1, 1), padding=(3, 0), bias=False)\n",
       "        (bn): BatchNorm2d(192, eps=0.001, momentum=0.1, affine=True, track_running_stats=True)\n",
       "      )\n",
       "      (branch7x7dbl_1): BasicConv2d(\n",
       "        (conv): Conv2d(768, 128, kernel_size=(1, 1), stride=(1, 1), bias=False)\n",
       "        (bn): BatchNorm2d(128, eps=0.001, momentum=0.1, affine=True, track_running_stats=True)\n",
       "      )\n",
       "      (branch7x7dbl_2): BasicConv2d(\n",
       "        (conv): Conv2d(128, 128, kernel_size=(7, 1), stride=(1, 1), padding=(3, 0), bias=False)\n",
       "        (bn): BatchNorm2d(128, eps=0.001, momentum=0.1, affine=True, track_running_stats=True)\n",
       "      )\n",
       "      (branch7x7dbl_3): BasicConv2d(\n",
       "        (conv): Conv2d(128, 128, kernel_size=(1, 7), stride=(1, 1), padding=(0, 3), bias=False)\n",
       "        (bn): BatchNorm2d(128, eps=0.001, momentum=0.1, affine=True, track_running_stats=True)\n",
       "      )\n",
       "      (branch7x7dbl_4): BasicConv2d(\n",
       "        (conv): Conv2d(128, 128, kernel_size=(7, 1), stride=(1, 1), padding=(3, 0), bias=False)\n",
       "        (bn): BatchNorm2d(128, eps=0.001, momentum=0.1, affine=True, track_running_stats=True)\n",
       "      )\n",
       "      (branch7x7dbl_5): BasicConv2d(\n",
       "        (conv): Conv2d(128, 192, kernel_size=(1, 7), stride=(1, 1), padding=(0, 3), bias=False)\n",
       "        (bn): BatchNorm2d(192, eps=0.001, momentum=0.1, affine=True, track_running_stats=True)\n",
       "      )\n",
       "      (branch_pool): BasicConv2d(\n",
       "        (conv): Conv2d(768, 192, kernel_size=(1, 1), stride=(1, 1), bias=False)\n",
       "        (bn): BatchNorm2d(192, eps=0.001, momentum=0.1, affine=True, track_running_stats=True)\n",
       "      )\n",
       "    )\n",
       "    (12): InceptionC(\n",
       "      (branch1x1): BasicConv2d(\n",
       "        (conv): Conv2d(768, 192, kernel_size=(1, 1), stride=(1, 1), bias=False)\n",
       "        (bn): BatchNorm2d(192, eps=0.001, momentum=0.1, affine=True, track_running_stats=True)\n",
       "      )\n",
       "      (branch7x7_1): BasicConv2d(\n",
       "        (conv): Conv2d(768, 160, kernel_size=(1, 1), stride=(1, 1), bias=False)\n",
       "        (bn): BatchNorm2d(160, eps=0.001, momentum=0.1, affine=True, track_running_stats=True)\n",
       "      )\n",
       "      (branch7x7_2): BasicConv2d(\n",
       "        (conv): Conv2d(160, 160, kernel_size=(1, 7), stride=(1, 1), padding=(0, 3), bias=False)\n",
       "        (bn): BatchNorm2d(160, eps=0.001, momentum=0.1, affine=True, track_running_stats=True)\n",
       "      )\n",
       "      (branch7x7_3): BasicConv2d(\n",
       "        (conv): Conv2d(160, 192, kernel_size=(7, 1), stride=(1, 1), padding=(3, 0), bias=False)\n",
       "        (bn): BatchNorm2d(192, eps=0.001, momentum=0.1, affine=True, track_running_stats=True)\n",
       "      )\n",
       "      (branch7x7dbl_1): BasicConv2d(\n",
       "        (conv): Conv2d(768, 160, kernel_size=(1, 1), stride=(1, 1), bias=False)\n",
       "        (bn): BatchNorm2d(160, eps=0.001, momentum=0.1, affine=True, track_running_stats=True)\n",
       "      )\n",
       "      (branch7x7dbl_2): BasicConv2d(\n",
       "        (conv): Conv2d(160, 160, kernel_size=(7, 1), stride=(1, 1), padding=(3, 0), bias=False)\n",
       "        (bn): BatchNorm2d(160, eps=0.001, momentum=0.1, affine=True, track_running_stats=True)\n",
       "      )\n",
       "      (branch7x7dbl_3): BasicConv2d(\n",
       "        (conv): Conv2d(160, 160, kernel_size=(1, 7), stride=(1, 1), padding=(0, 3), bias=False)\n",
       "        (bn): BatchNorm2d(160, eps=0.001, momentum=0.1, affine=True, track_running_stats=True)\n",
       "      )\n",
       "      (branch7x7dbl_4): BasicConv2d(\n",
       "        (conv): Conv2d(160, 160, kernel_size=(7, 1), stride=(1, 1), padding=(3, 0), bias=False)\n",
       "        (bn): BatchNorm2d(160, eps=0.001, momentum=0.1, affine=True, track_running_stats=True)\n",
       "      )\n",
       "      (branch7x7dbl_5): BasicConv2d(\n",
       "        (conv): Conv2d(160, 192, kernel_size=(1, 7), stride=(1, 1), padding=(0, 3), bias=False)\n",
       "        (bn): BatchNorm2d(192, eps=0.001, momentum=0.1, affine=True, track_running_stats=True)\n",
       "      )\n",
       "      (branch_pool): BasicConv2d(\n",
       "        (conv): Conv2d(768, 192, kernel_size=(1, 1), stride=(1, 1), bias=False)\n",
       "        (bn): BatchNorm2d(192, eps=0.001, momentum=0.1, affine=True, track_running_stats=True)\n",
       "      )\n",
       "    )\n",
       "    (13): InceptionC(\n",
       "      (branch1x1): BasicConv2d(\n",
       "        (conv): Conv2d(768, 192, kernel_size=(1, 1), stride=(1, 1), bias=False)\n",
       "        (bn): BatchNorm2d(192, eps=0.001, momentum=0.1, affine=True, track_running_stats=True)\n",
       "      )\n",
       "      (branch7x7_1): BasicConv2d(\n",
       "        (conv): Conv2d(768, 160, kernel_size=(1, 1), stride=(1, 1), bias=False)\n",
       "        (bn): BatchNorm2d(160, eps=0.001, momentum=0.1, affine=True, track_running_stats=True)\n",
       "      )\n",
       "      (branch7x7_2): BasicConv2d(\n",
       "        (conv): Conv2d(160, 160, kernel_size=(1, 7), stride=(1, 1), padding=(0, 3), bias=False)\n",
       "        (bn): BatchNorm2d(160, eps=0.001, momentum=0.1, affine=True, track_running_stats=True)\n",
       "      )\n",
       "      (branch7x7_3): BasicConv2d(\n",
       "        (conv): Conv2d(160, 192, kernel_size=(7, 1), stride=(1, 1), padding=(3, 0), bias=False)\n",
       "        (bn): BatchNorm2d(192, eps=0.001, momentum=0.1, affine=True, track_running_stats=True)\n",
       "      )\n",
       "      (branch7x7dbl_1): BasicConv2d(\n",
       "        (conv): Conv2d(768, 160, kernel_size=(1, 1), stride=(1, 1), bias=False)\n",
       "        (bn): BatchNorm2d(160, eps=0.001, momentum=0.1, affine=True, track_running_stats=True)\n",
       "      )\n",
       "      (branch7x7dbl_2): BasicConv2d(\n",
       "        (conv): Conv2d(160, 160, kernel_size=(7, 1), stride=(1, 1), padding=(3, 0), bias=False)\n",
       "        (bn): BatchNorm2d(160, eps=0.001, momentum=0.1, affine=True, track_running_stats=True)\n",
       "      )\n",
       "      (branch7x7dbl_3): BasicConv2d(\n",
       "        (conv): Conv2d(160, 160, kernel_size=(1, 7), stride=(1, 1), padding=(0, 3), bias=False)\n",
       "        (bn): BatchNorm2d(160, eps=0.001, momentum=0.1, affine=True, track_running_stats=True)\n",
       "      )\n",
       "      (branch7x7dbl_4): BasicConv2d(\n",
       "        (conv): Conv2d(160, 160, kernel_size=(7, 1), stride=(1, 1), padding=(3, 0), bias=False)\n",
       "        (bn): BatchNorm2d(160, eps=0.001, momentum=0.1, affine=True, track_running_stats=True)\n",
       "      )\n",
       "      (branch7x7dbl_5): BasicConv2d(\n",
       "        (conv): Conv2d(160, 192, kernel_size=(1, 7), stride=(1, 1), padding=(0, 3), bias=False)\n",
       "        (bn): BatchNorm2d(192, eps=0.001, momentum=0.1, affine=True, track_running_stats=True)\n",
       "      )\n",
       "      (branch_pool): BasicConv2d(\n",
       "        (conv): Conv2d(768, 192, kernel_size=(1, 1), stride=(1, 1), bias=False)\n",
       "        (bn): BatchNorm2d(192, eps=0.001, momentum=0.1, affine=True, track_running_stats=True)\n",
       "      )\n",
       "    )\n",
       "    (14): InceptionC(\n",
       "      (branch1x1): BasicConv2d(\n",
       "        (conv): Conv2d(768, 192, kernel_size=(1, 1), stride=(1, 1), bias=False)\n",
       "        (bn): BatchNorm2d(192, eps=0.001, momentum=0.1, affine=True, track_running_stats=True)\n",
       "      )\n",
       "      (branch7x7_1): BasicConv2d(\n",
       "        (conv): Conv2d(768, 192, kernel_size=(1, 1), stride=(1, 1), bias=False)\n",
       "        (bn): BatchNorm2d(192, eps=0.001, momentum=0.1, affine=True, track_running_stats=True)\n",
       "      )\n",
       "      (branch7x7_2): BasicConv2d(\n",
       "        (conv): Conv2d(192, 192, kernel_size=(1, 7), stride=(1, 1), padding=(0, 3), bias=False)\n",
       "        (bn): BatchNorm2d(192, eps=0.001, momentum=0.1, affine=True, track_running_stats=True)\n",
       "      )\n",
       "      (branch7x7_3): BasicConv2d(\n",
       "        (conv): Conv2d(192, 192, kernel_size=(7, 1), stride=(1, 1), padding=(3, 0), bias=False)\n",
       "        (bn): BatchNorm2d(192, eps=0.001, momentum=0.1, affine=True, track_running_stats=True)\n",
       "      )\n",
       "      (branch7x7dbl_1): BasicConv2d(\n",
       "        (conv): Conv2d(768, 192, kernel_size=(1, 1), stride=(1, 1), bias=False)\n",
       "        (bn): BatchNorm2d(192, eps=0.001, momentum=0.1, affine=True, track_running_stats=True)\n",
       "      )\n",
       "      (branch7x7dbl_2): BasicConv2d(\n",
       "        (conv): Conv2d(192, 192, kernel_size=(7, 1), stride=(1, 1), padding=(3, 0), bias=False)\n",
       "        (bn): BatchNorm2d(192, eps=0.001, momentum=0.1, affine=True, track_running_stats=True)\n",
       "      )\n",
       "      (branch7x7dbl_3): BasicConv2d(\n",
       "        (conv): Conv2d(192, 192, kernel_size=(1, 7), stride=(1, 1), padding=(0, 3), bias=False)\n",
       "        (bn): BatchNorm2d(192, eps=0.001, momentum=0.1, affine=True, track_running_stats=True)\n",
       "      )\n",
       "      (branch7x7dbl_4): BasicConv2d(\n",
       "        (conv): Conv2d(192, 192, kernel_size=(7, 1), stride=(1, 1), padding=(3, 0), bias=False)\n",
       "        (bn): BatchNorm2d(192, eps=0.001, momentum=0.1, affine=True, track_running_stats=True)\n",
       "      )\n",
       "      (branch7x7dbl_5): BasicConv2d(\n",
       "        (conv): Conv2d(192, 192, kernel_size=(1, 7), stride=(1, 1), padding=(0, 3), bias=False)\n",
       "        (bn): BatchNorm2d(192, eps=0.001, momentum=0.1, affine=True, track_running_stats=True)\n",
       "      )\n",
       "      (branch_pool): BasicConv2d(\n",
       "        (conv): Conv2d(768, 192, kernel_size=(1, 1), stride=(1, 1), bias=False)\n",
       "        (bn): BatchNorm2d(192, eps=0.001, momentum=0.1, affine=True, track_running_stats=True)\n",
       "      )\n",
       "    )\n",
       "    (15): InceptionD(\n",
       "      (branch3x3_1): BasicConv2d(\n",
       "        (conv): Conv2d(768, 192, kernel_size=(1, 1), stride=(1, 1), bias=False)\n",
       "        (bn): BatchNorm2d(192, eps=0.001, momentum=0.1, affine=True, track_running_stats=True)\n",
       "      )\n",
       "      (branch3x3_2): BasicConv2d(\n",
       "        (conv): Conv2d(192, 320, kernel_size=(3, 3), stride=(2, 2), bias=False)\n",
       "        (bn): BatchNorm2d(320, eps=0.001, momentum=0.1, affine=True, track_running_stats=True)\n",
       "      )\n",
       "      (branch7x7x3_1): BasicConv2d(\n",
       "        (conv): Conv2d(768, 192, kernel_size=(1, 1), stride=(1, 1), bias=False)\n",
       "        (bn): BatchNorm2d(192, eps=0.001, momentum=0.1, affine=True, track_running_stats=True)\n",
       "      )\n",
       "      (branch7x7x3_2): BasicConv2d(\n",
       "        (conv): Conv2d(192, 192, kernel_size=(1, 7), stride=(1, 1), padding=(0, 3), bias=False)\n",
       "        (bn): BatchNorm2d(192, eps=0.001, momentum=0.1, affine=True, track_running_stats=True)\n",
       "      )\n",
       "      (branch7x7x3_3): BasicConv2d(\n",
       "        (conv): Conv2d(192, 192, kernel_size=(7, 1), stride=(1, 1), padding=(3, 0), bias=False)\n",
       "        (bn): BatchNorm2d(192, eps=0.001, momentum=0.1, affine=True, track_running_stats=True)\n",
       "      )\n",
       "      (branch7x7x3_4): BasicConv2d(\n",
       "        (conv): Conv2d(192, 192, kernel_size=(3, 3), stride=(2, 2), bias=False)\n",
       "        (bn): BatchNorm2d(192, eps=0.001, momentum=0.1, affine=True, track_running_stats=True)\n",
       "      )\n",
       "    )\n",
       "    (16): InceptionE(\n",
       "      (branch1x1): BasicConv2d(\n",
       "        (conv): Conv2d(1280, 320, kernel_size=(1, 1), stride=(1, 1), bias=False)\n",
       "        (bn): BatchNorm2d(320, eps=0.001, momentum=0.1, affine=True, track_running_stats=True)\n",
       "      )\n",
       "      (branch3x3_1): BasicConv2d(\n",
       "        (conv): Conv2d(1280, 384, kernel_size=(1, 1), stride=(1, 1), bias=False)\n",
       "        (bn): BatchNorm2d(384, eps=0.001, momentum=0.1, affine=True, track_running_stats=True)\n",
       "      )\n",
       "      (branch3x3_2a): BasicConv2d(\n",
       "        (conv): Conv2d(384, 384, kernel_size=(1, 3), stride=(1, 1), padding=(0, 1), bias=False)\n",
       "        (bn): BatchNorm2d(384, eps=0.001, momentum=0.1, affine=True, track_running_stats=True)\n",
       "      )\n",
       "      (branch3x3_2b): BasicConv2d(\n",
       "        (conv): Conv2d(384, 384, kernel_size=(3, 1), stride=(1, 1), padding=(1, 0), bias=False)\n",
       "        (bn): BatchNorm2d(384, eps=0.001, momentum=0.1, affine=True, track_running_stats=True)\n",
       "      )\n",
       "      (branch3x3dbl_1): BasicConv2d(\n",
       "        (conv): Conv2d(1280, 448, kernel_size=(1, 1), stride=(1, 1), bias=False)\n",
       "        (bn): BatchNorm2d(448, eps=0.001, momentum=0.1, affine=True, track_running_stats=True)\n",
       "      )\n",
       "      (branch3x3dbl_2): BasicConv2d(\n",
       "        (conv): Conv2d(448, 384, kernel_size=(3, 3), stride=(1, 1), padding=(1, 1), bias=False)\n",
       "        (bn): BatchNorm2d(384, eps=0.001, momentum=0.1, affine=True, track_running_stats=True)\n",
       "      )\n",
       "      (branch3x3dbl_3a): BasicConv2d(\n",
       "        (conv): Conv2d(384, 384, kernel_size=(1, 3), stride=(1, 1), padding=(0, 1), bias=False)\n",
       "        (bn): BatchNorm2d(384, eps=0.001, momentum=0.1, affine=True, track_running_stats=True)\n",
       "      )\n",
       "      (branch3x3dbl_3b): BasicConv2d(\n",
       "        (conv): Conv2d(384, 384, kernel_size=(3, 1), stride=(1, 1), padding=(1, 0), bias=False)\n",
       "        (bn): BatchNorm2d(384, eps=0.001, momentum=0.1, affine=True, track_running_stats=True)\n",
       "      )\n",
       "      (branch_pool): BasicConv2d(\n",
       "        (conv): Conv2d(1280, 192, kernel_size=(1, 1), stride=(1, 1), bias=False)\n",
       "        (bn): BatchNorm2d(192, eps=0.001, momentum=0.1, affine=True, track_running_stats=True)\n",
       "      )\n",
       "    )\n",
       "    (17): InceptionE(\n",
       "      (branch1x1): BasicConv2d(\n",
       "        (conv): Conv2d(2048, 320, kernel_size=(1, 1), stride=(1, 1), bias=False)\n",
       "        (bn): BatchNorm2d(320, eps=0.001, momentum=0.1, affine=True, track_running_stats=True)\n",
       "      )\n",
       "      (branch3x3_1): BasicConv2d(\n",
       "        (conv): Conv2d(2048, 384, kernel_size=(1, 1), stride=(1, 1), bias=False)\n",
       "        (bn): BatchNorm2d(384, eps=0.001, momentum=0.1, affine=True, track_running_stats=True)\n",
       "      )\n",
       "      (branch3x3_2a): BasicConv2d(\n",
       "        (conv): Conv2d(384, 384, kernel_size=(1, 3), stride=(1, 1), padding=(0, 1), bias=False)\n",
       "        (bn): BatchNorm2d(384, eps=0.001, momentum=0.1, affine=True, track_running_stats=True)\n",
       "      )\n",
       "      (branch3x3_2b): BasicConv2d(\n",
       "        (conv): Conv2d(384, 384, kernel_size=(3, 1), stride=(1, 1), padding=(1, 0), bias=False)\n",
       "        (bn): BatchNorm2d(384, eps=0.001, momentum=0.1, affine=True, track_running_stats=True)\n",
       "      )\n",
       "      (branch3x3dbl_1): BasicConv2d(\n",
       "        (conv): Conv2d(2048, 448, kernel_size=(1, 1), stride=(1, 1), bias=False)\n",
       "        (bn): BatchNorm2d(448, eps=0.001, momentum=0.1, affine=True, track_running_stats=True)\n",
       "      )\n",
       "      (branch3x3dbl_2): BasicConv2d(\n",
       "        (conv): Conv2d(448, 384, kernel_size=(3, 3), stride=(1, 1), padding=(1, 1), bias=False)\n",
       "        (bn): BatchNorm2d(384, eps=0.001, momentum=0.1, affine=True, track_running_stats=True)\n",
       "      )\n",
       "      (branch3x3dbl_3a): BasicConv2d(\n",
       "        (conv): Conv2d(384, 384, kernel_size=(1, 3), stride=(1, 1), padding=(0, 1), bias=False)\n",
       "        (bn): BatchNorm2d(384, eps=0.001, momentum=0.1, affine=True, track_running_stats=True)\n",
       "      )\n",
       "      (branch3x3dbl_3b): BasicConv2d(\n",
       "        (conv): Conv2d(384, 384, kernel_size=(3, 1), stride=(1, 1), padding=(1, 0), bias=False)\n",
       "        (bn): BatchNorm2d(384, eps=0.001, momentum=0.1, affine=True, track_running_stats=True)\n",
       "      )\n",
       "      (branch_pool): BasicConv2d(\n",
       "        (conv): Conv2d(2048, 192, kernel_size=(1, 1), stride=(1, 1), bias=False)\n",
       "        (bn): BatchNorm2d(192, eps=0.001, momentum=0.1, affine=True, track_running_stats=True)\n",
       "      )\n",
       "    )\n",
       "  )\n",
       "  (1): Sequential(\n",
       "    (0): AdaptiveConcatPool2d(\n",
       "      (ap): AdaptiveAvgPool2d(output_size=1)\n",
       "      (mp): AdaptiveMaxPool2d(output_size=1)\n",
       "    )\n",
       "    (1): fastai.layers.Flatten(full=False)\n",
       "    (2): BatchNorm1d(4096, eps=1e-05, momentum=0.1, affine=True, track_running_stats=True)\n",
       "    (3): Dropout(p=0.25, inplace=False)\n",
       "    (4): Linear(in_features=4096, out_features=512, bias=False)\n",
       "    (5): ReLU(inplace=True)\n",
       "    (6): BatchNorm1d(512, eps=1e-05, momentum=0.1, affine=True, track_running_stats=True)\n",
       "    (7): Dropout(p=0.5, inplace=False)\n",
       "    (8): Linear(in_features=512, out_features=5, bias=False)\n",
       "  )\n",
       ")"
      ]
     },
     "execution_count": 12,
     "metadata": {},
     "output_type": "execute_result"
    }
   ],
   "source": [
    "model.eval()"
   ]
  },
  {
   "cell_type": "code",
   "execution_count": 8,
   "id": "2a65f4b2",
   "metadata": {
    "scrolled": false
   },
   "outputs": [
    {
     "name": "stderr",
     "output_type": "stream",
     "text": [
      "/home/link-lap-24/.local/lib/python3.8/site-packages/fastai/torch_core.py:263: UserWarning: 'has_mps' is deprecated, please use 'torch.backends.mps.is_built()'\n",
      "  return getattr(torch, 'has_mps', False)\n"
     ]
    },
    {
     "data": {
      "text/html": [
       "\n",
       "<style>\n",
       "    /* Turns off some styling */\n",
       "    progress {\n",
       "        /* gets rid of default border in Firefox and Opera. */\n",
       "        border: none;\n",
       "        /* Needs to be in here for Safari polyfill so background images work as expected. */\n",
       "        background-size: auto;\n",
       "    }\n",
       "    .progress-bar-interrupted, .progress-bar-interrupted::-webkit-progress-bar {\n",
       "        background: #F44336;\n",
       "    }\n",
       "</style>\n"
      ],
      "text/plain": [
       "<IPython.core.display.HTML object>"
      ]
     },
     "metadata": {},
     "output_type": "display_data"
    },
    {
     "data": {
      "text/html": [],
      "text/plain": [
       "<IPython.core.display.HTML object>"
      ]
     },
     "metadata": {},
     "output_type": "display_data"
    },
    {
     "name": "stdout",
     "output_type": "stream",
     "text": [
      "this is the final results Activity: {'ground_in_play': 100.0} \n",
      "this is the final results Activity: {'ground_in_play': 100.0, 'player_focus': 0.0} \n"
     ]
    },
    {
     "data": {
      "text/html": [
       "\n",
       "<style>\n",
       "    /* Turns off some styling */\n",
       "    progress {\n",
       "        /* gets rid of default border in Firefox and Opera. */\n",
       "        border: none;\n",
       "        /* Needs to be in here for Safari polyfill so background images work as expected. */\n",
       "        background-size: auto;\n",
       "    }\n",
       "    .progress-bar-interrupted, .progress-bar-interrupted::-webkit-progress-bar {\n",
       "        background: #F44336;\n",
       "    }\n",
       "</style>\n"
      ],
      "text/plain": [
       "<IPython.core.display.HTML object>"
      ]
     },
     "metadata": {},
     "output_type": "display_data"
    },
    {
     "data": {
      "text/html": [],
      "text/plain": [
       "<IPython.core.display.HTML object>"
      ]
     },
     "metadata": {},
     "output_type": "display_data"
    },
    {
     "name": "stdout",
     "output_type": "stream",
     "text": [
      "this is the final results Activity: {'ground_in_play': 0.0} \n",
      "this is the final results Activity: {'ground_in_play': 0.0, 'player_focus': 100.0} \n"
     ]
    },
    {
     "data": {
      "text/html": [
       "\n",
       "<style>\n",
       "    /* Turns off some styling */\n",
       "    progress {\n",
       "        /* gets rid of default border in Firefox and Opera. */\n",
       "        border: none;\n",
       "        /* Needs to be in here for Safari polyfill so background images work as expected. */\n",
       "        background-size: auto;\n",
       "    }\n",
       "    .progress-bar-interrupted, .progress-bar-interrupted::-webkit-progress-bar {\n",
       "        background: #F44336;\n",
       "    }\n",
       "</style>\n"
      ],
      "text/plain": [
       "<IPython.core.display.HTML object>"
      ]
     },
     "metadata": {},
     "output_type": "display_data"
    },
    {
     "data": {
      "text/html": [],
      "text/plain": [
       "<IPython.core.display.HTML object>"
      ]
     },
     "metadata": {},
     "output_type": "display_data"
    },
    {
     "name": "stdout",
     "output_type": "stream",
     "text": [
      "this is the final results Activity: {'ground_in_play': 0.0} \n",
      "this is the final results Activity: {'ground_in_play': 0.0, 'player_focus': 100.0} \n"
     ]
    },
    {
     "data": {
      "text/html": [
       "\n",
       "<style>\n",
       "    /* Turns off some styling */\n",
       "    progress {\n",
       "        /* gets rid of default border in Firefox and Opera. */\n",
       "        border: none;\n",
       "        /* Needs to be in here for Safari polyfill so background images work as expected. */\n",
       "        background-size: auto;\n",
       "    }\n",
       "    .progress-bar-interrupted, .progress-bar-interrupted::-webkit-progress-bar {\n",
       "        background: #F44336;\n",
       "    }\n",
       "</style>\n"
      ],
      "text/plain": [
       "<IPython.core.display.HTML object>"
      ]
     },
     "metadata": {},
     "output_type": "display_data"
    },
    {
     "data": {
      "text/html": [],
      "text/plain": [
       "<IPython.core.display.HTML object>"
      ]
     },
     "metadata": {},
     "output_type": "display_data"
    },
    {
     "name": "stdout",
     "output_type": "stream",
     "text": [
      "this is the final results Activity: {'ground_in_play': 0.0} \n",
      "this is the final results Activity: {'ground_in_play': 0.0, 'player_focus': 100.0} \n"
     ]
    },
    {
     "data": {
      "text/html": [
       "\n",
       "<style>\n",
       "    /* Turns off some styling */\n",
       "    progress {\n",
       "        /* gets rid of default border in Firefox and Opera. */\n",
       "        border: none;\n",
       "        /* Needs to be in here for Safari polyfill so background images work as expected. */\n",
       "        background-size: auto;\n",
       "    }\n",
       "    .progress-bar-interrupted, .progress-bar-interrupted::-webkit-progress-bar {\n",
       "        background: #F44336;\n",
       "    }\n",
       "</style>\n"
      ],
      "text/plain": [
       "<IPython.core.display.HTML object>"
      ]
     },
     "metadata": {},
     "output_type": "display_data"
    },
    {
     "data": {
      "text/html": [],
      "text/plain": [
       "<IPython.core.display.HTML object>"
      ]
     },
     "metadata": {},
     "output_type": "display_data"
    },
    {
     "name": "stdout",
     "output_type": "stream",
     "text": [
      "this is the final results Activity: {'ground_in_play': 0.0} \n",
      "this is the final results Activity: {'ground_in_play': 0.0, 'player_focus': 100.0} \n"
     ]
    },
    {
     "data": {
      "text/html": [
       "\n",
       "<style>\n",
       "    /* Turns off some styling */\n",
       "    progress {\n",
       "        /* gets rid of default border in Firefox and Opera. */\n",
       "        border: none;\n",
       "        /* Needs to be in here for Safari polyfill so background images work as expected. */\n",
       "        background-size: auto;\n",
       "    }\n",
       "    .progress-bar-interrupted, .progress-bar-interrupted::-webkit-progress-bar {\n",
       "        background: #F44336;\n",
       "    }\n",
       "</style>\n"
      ],
      "text/plain": [
       "<IPython.core.display.HTML object>"
      ]
     },
     "metadata": {},
     "output_type": "display_data"
    },
    {
     "data": {
      "text/html": [],
      "text/plain": [
       "<IPython.core.display.HTML object>"
      ]
     },
     "metadata": {},
     "output_type": "display_data"
    },
    {
     "name": "stdout",
     "output_type": "stream",
     "text": [
      "this is the final results Activity: {'ground_in_play': 0.0} \n",
      "this is the final results Activity: {'ground_in_play': 0.0, 'player_focus': 100.0} \n"
     ]
    },
    {
     "data": {
      "text/html": [
       "\n",
       "<style>\n",
       "    /* Turns off some styling */\n",
       "    progress {\n",
       "        /* gets rid of default border in Firefox and Opera. */\n",
       "        border: none;\n",
       "        /* Needs to be in here for Safari polyfill so background images work as expected. */\n",
       "        background-size: auto;\n",
       "    }\n",
       "    .progress-bar-interrupted, .progress-bar-interrupted::-webkit-progress-bar {\n",
       "        background: #F44336;\n",
       "    }\n",
       "</style>\n"
      ],
      "text/plain": [
       "<IPython.core.display.HTML object>"
      ]
     },
     "metadata": {},
     "output_type": "display_data"
    },
    {
     "data": {
      "text/html": [],
      "text/plain": [
       "<IPython.core.display.HTML object>"
      ]
     },
     "metadata": {},
     "output_type": "display_data"
    },
    {
     "name": "stdout",
     "output_type": "stream",
     "text": [
      "this is the final results Activity: {'ground_in_play': 100.0} \n",
      "this is the final results Activity: {'ground_in_play': 100.0, 'player_focus': 0.0} \n"
     ]
    },
    {
     "data": {
      "text/html": [
       "\n",
       "<style>\n",
       "    /* Turns off some styling */\n",
       "    progress {\n",
       "        /* gets rid of default border in Firefox and Opera. */\n",
       "        border: none;\n",
       "        /* Needs to be in here for Safari polyfill so background images work as expected. */\n",
       "        background-size: auto;\n",
       "    }\n",
       "    .progress-bar-interrupted, .progress-bar-interrupted::-webkit-progress-bar {\n",
       "        background: #F44336;\n",
       "    }\n",
       "</style>\n"
      ],
      "text/plain": [
       "<IPython.core.display.HTML object>"
      ]
     },
     "metadata": {},
     "output_type": "display_data"
    },
    {
     "data": {
      "text/html": [],
      "text/plain": [
       "<IPython.core.display.HTML object>"
      ]
     },
     "metadata": {},
     "output_type": "display_data"
    },
    {
     "name": "stdout",
     "output_type": "stream",
     "text": [
      "this is the final results Activity: {'ground_in_play': 100.0} \n",
      "this is the final results Activity: {'ground_in_play': 100.0, 'player_focus': 0.0} \n"
     ]
    }
   ],
   "source": [
    "images = \"/home/link-lap-24/Downloads/am_player_focus/negative/2800_up/test/\"\n",
    "im = sorted(glob.glob(images + \"*.*\"), key=os.path.getmtime)\n",
    "model = load_learner('U0QgwHs8vtdlh2s.pkl',cpu=true)\n",
    "\n",
    "\n",
    "for i_path in im:\n",
    "    frame = cv2.imread(i_path)\n",
    "    path = i_path.split('.')[0]\n",
    "    pred = model.predict(i_path)\n",
    "#     cat = [\"Dead\",\"Non-dead\",\"Player_Activity\"]\n",
    "    cat = [\"ground_in_play\",\"player_focus\"]\n",
    "\n",
    "    result = {}\n",
    "    for i, j in enumerate(pred[2]):\n",
    "        result[cat[i]] = round(float(pred[2][i])*100, 3)\n",
    "#         print(result)\n",
    "        text = \"Activity: {} \".format(result)\n",
    "        print(\"this is the final results\",text)\n",
    "        \n",
    "        cv2.putText(frame, text, (35, 50), cv2.FONT_HERSHEY_SIMPLEX,1.25, (0, 255, 0), 3)\n",
    "        cv2.imwrite(path+\".jpg\",frame)"
   ]
  },
  {
   "cell_type": "code",
   "execution_count": 6,
   "id": "ef65f8d3",
   "metadata": {},
   "outputs": [
    {
     "data": {
      "text/plain": [
       "['ground_in_play', 'player_focus']"
      ]
     },
     "execution_count": 6,
     "metadata": {},
     "output_type": "execute_result"
    }
   ],
   "source": [
    "# Get the data loaders from the model\n",
    "dls = model.dls\n",
    "\n",
    "# Get the class labels\n",
    "class_labels = dls.vocab\n",
    "class_labels\n"
   ]
  },
  {
   "cell_type": "code",
   "execution_count": 27,
   "id": "573cb557",
   "metadata": {},
   "outputs": [
    {
     "data": {
      "text/html": [
       "\n",
       "<style>\n",
       "    /* Turns off some styling */\n",
       "    progress {\n",
       "        /* gets rid of default border in Firefox and Opera. */\n",
       "        border: none;\n",
       "        /* Needs to be in here for Safari polyfill so background images work as expected. */\n",
       "        background-size: auto;\n",
       "    }\n",
       "    .progress-bar-interrupted, .progress-bar-interrupted::-webkit-progress-bar {\n",
       "        background: #F44336;\n",
       "    }\n",
       "</style>\n"
      ],
      "text/plain": [
       "<IPython.core.display.HTML object>"
      ]
     },
     "metadata": {},
     "output_type": "display_data"
    },
    {
     "data": {
      "text/html": [],
      "text/plain": [
       "<IPython.core.display.HTML object>"
      ]
     },
     "metadata": {},
     "output_type": "display_data"
    },
    {
     "name": "stdout",
     "output_type": "stream",
     "text": [
      "topless_men tensor(0.9315)\n"
     ]
    }
   ],
   "source": [
    "# out = model.predict('/home/link-lap-24/Downloads/nudenet_model_testing/n1_fr/2.jpg')\n",
    "# # print(out[0],out[2][out])\n",
    "# print(out[0], out[2][out[1]])"
   ]
  },
  {
   "cell_type": "code",
   "execution_count": 6,
   "id": "9486f292",
   "metadata": {},
   "outputs": [
    {
     "data": {
      "text/plain": [
       "['/home/link-lap-24/Downloads/am_player_focus/negative/2800/test/4b46c4-8d50-14c4-27d-26487bff3.jpg',\n",
       " '/home/link-lap-24/Downloads/am_player_focus/negative/2800/test/4b66c73-cc17-daa3-bfc1-404fb15eb6.jpg',\n",
       " '/home/link-lap-24/Downloads/am_player_focus/negative/2800/test/3c3c6cc-c0e-a571-5dda-c26352725c5.jpg',\n",
       " '/home/link-lap-24/Downloads/am_player_focus/negative/2800/test/1d6105b-7b3c-db7-70cc-545728c8056.jpg',\n",
       " '/home/link-lap-24/Downloads/am_player_focus/negative/2800/test/3c1c1c-4486-ce21-248c-ec3063f5b16.jpg',\n",
       " '/home/link-lap-24/Downloads/am_player_focus/negative/2800/test/0a6e2d7-868b-c00-f74e-b4151e24401.jpg',\n",
       " '/home/link-lap-24/Downloads/am_player_focus/negative/2800/test/4b4baf-762b-a45b-43-01b4b5a0885a.jpg']"
      ]
     },
     "execution_count": 6,
     "metadata": {},
     "output_type": "execute_result"
    }
   ],
   "source": [
    "images = \"/home/link-lap-24/Downloads/am_player_focus/negative/2800/test/\"\n",
    "\n",
    "images2=glob.glob(images + \"*.jpg\")\n",
    "images2"
   ]
  },
  {
   "cell_type": "code",
   "execution_count": 13,
   "id": "90898f33",
   "metadata": {},
   "outputs": [
    {
     "name": "stdout",
     "output_type": "stream",
     "text": [
      "/home/link-lap-24/Downloads/am_player_focus/negative/2800/test/4b46c4-8d50-14c4-27d-26487bff3.jpg\n"
     ]
    },
    {
     "data": {
      "text/html": [
       "\n",
       "<style>\n",
       "    /* Turns off some styling */\n",
       "    progress {\n",
       "        /* gets rid of default border in Firefox and Opera. */\n",
       "        border: none;\n",
       "        /* Needs to be in here for Safari polyfill so background images work as expected. */\n",
       "        background-size: auto;\n",
       "    }\n",
       "    .progress-bar-interrupted, .progress-bar-interrupted::-webkit-progress-bar {\n",
       "        background: #F44336;\n",
       "    }\n",
       "</style>\n"
      ],
      "text/plain": [
       "<IPython.core.display.HTML object>"
      ]
     },
     "metadata": {},
     "output_type": "display_data"
    },
    {
     "data": {
      "text/html": [],
      "text/plain": [
       "<IPython.core.display.HTML object>"
      ]
     },
     "metadata": {},
     "output_type": "display_data"
    },
    {
     "name": "stdout",
     "output_type": "stream",
     "text": [
      "TensorImage([7.3345e-01, 1.1319e-05, 2.6654e-01])\n",
      "/home/link-lap-24/Downloads/am_player_focus/negative/2800/test/4b66c73-cc17-daa3-bfc1-404fb15eb6.jpg\n"
     ]
    },
    {
     "data": {
      "text/html": [
       "\n",
       "<style>\n",
       "    /* Turns off some styling */\n",
       "    progress {\n",
       "        /* gets rid of default border in Firefox and Opera. */\n",
       "        border: none;\n",
       "        /* Needs to be in here for Safari polyfill so background images work as expected. */\n",
       "        background-size: auto;\n",
       "    }\n",
       "    .progress-bar-interrupted, .progress-bar-interrupted::-webkit-progress-bar {\n",
       "        background: #F44336;\n",
       "    }\n",
       "</style>\n"
      ],
      "text/plain": [
       "<IPython.core.display.HTML object>"
      ]
     },
     "metadata": {},
     "output_type": "display_data"
    },
    {
     "data": {
      "text/html": [],
      "text/plain": [
       "<IPython.core.display.HTML object>"
      ]
     },
     "metadata": {},
     "output_type": "display_data"
    },
    {
     "name": "stdout",
     "output_type": "stream",
     "text": [
      "TensorImage([9.8239e-01, 5.9757e-04, 1.7014e-02])\n",
      "/home/link-lap-24/Downloads/am_player_focus/negative/2800/test/3c3c6cc-c0e-a571-5dda-c26352725c5.jpg\n"
     ]
    },
    {
     "data": {
      "text/html": [
       "\n",
       "<style>\n",
       "    /* Turns off some styling */\n",
       "    progress {\n",
       "        /* gets rid of default border in Firefox and Opera. */\n",
       "        border: none;\n",
       "        /* Needs to be in here for Safari polyfill so background images work as expected. */\n",
       "        background-size: auto;\n",
       "    }\n",
       "    .progress-bar-interrupted, .progress-bar-interrupted::-webkit-progress-bar {\n",
       "        background: #F44336;\n",
       "    }\n",
       "</style>\n"
      ],
      "text/plain": [
       "<IPython.core.display.HTML object>"
      ]
     },
     "metadata": {},
     "output_type": "display_data"
    },
    {
     "data": {
      "text/html": [],
      "text/plain": [
       "<IPython.core.display.HTML object>"
      ]
     },
     "metadata": {},
     "output_type": "display_data"
    },
    {
     "name": "stdout",
     "output_type": "stream",
     "text": [
      "TensorImage([9.9893e-01, 1.0746e-03, 2.3042e-07])\n",
      "/home/link-lap-24/Downloads/am_player_focus/negative/2800/test/1d6105b-7b3c-db7-70cc-545728c8056.jpg\n"
     ]
    },
    {
     "data": {
      "text/html": [
       "\n",
       "<style>\n",
       "    /* Turns off some styling */\n",
       "    progress {\n",
       "        /* gets rid of default border in Firefox and Opera. */\n",
       "        border: none;\n",
       "        /* Needs to be in here for Safari polyfill so background images work as expected. */\n",
       "        background-size: auto;\n",
       "    }\n",
       "    .progress-bar-interrupted, .progress-bar-interrupted::-webkit-progress-bar {\n",
       "        background: #F44336;\n",
       "    }\n",
       "</style>\n"
      ],
      "text/plain": [
       "<IPython.core.display.HTML object>"
      ]
     },
     "metadata": {},
     "output_type": "display_data"
    },
    {
     "data": {
      "text/html": [],
      "text/plain": [
       "<IPython.core.display.HTML object>"
      ]
     },
     "metadata": {},
     "output_type": "display_data"
    },
    {
     "name": "stdout",
     "output_type": "stream",
     "text": [
      "TensorImage([4.3002e-01, 5.6998e-01, 2.8543e-08])\n",
      "/home/link-lap-24/Downloads/am_player_focus/negative/2800/test/3c1c1c-4486-ce21-248c-ec3063f5b16.jpg\n"
     ]
    },
    {
     "data": {
      "text/html": [
       "\n",
       "<style>\n",
       "    /* Turns off some styling */\n",
       "    progress {\n",
       "        /* gets rid of default border in Firefox and Opera. */\n",
       "        border: none;\n",
       "        /* Needs to be in here for Safari polyfill so background images work as expected. */\n",
       "        background-size: auto;\n",
       "    }\n",
       "    .progress-bar-interrupted, .progress-bar-interrupted::-webkit-progress-bar {\n",
       "        background: #F44336;\n",
       "    }\n",
       "</style>\n"
      ],
      "text/plain": [
       "<IPython.core.display.HTML object>"
      ]
     },
     "metadata": {},
     "output_type": "display_data"
    },
    {
     "data": {
      "text/html": [],
      "text/plain": [
       "<IPython.core.display.HTML object>"
      ]
     },
     "metadata": {},
     "output_type": "display_data"
    },
    {
     "name": "stdout",
     "output_type": "stream",
     "text": [
      "TensorImage([9.2355e-01, 7.6449e-02, 9.8800e-08])\n",
      "/home/link-lap-24/Downloads/am_player_focus/negative/2800/test/0a6e2d7-868b-c00-f74e-b4151e24401.jpg\n"
     ]
    },
    {
     "data": {
      "text/html": [
       "\n",
       "<style>\n",
       "    /* Turns off some styling */\n",
       "    progress {\n",
       "        /* gets rid of default border in Firefox and Opera. */\n",
       "        border: none;\n",
       "        /* Needs to be in here for Safari polyfill so background images work as expected. */\n",
       "        background-size: auto;\n",
       "    }\n",
       "    .progress-bar-interrupted, .progress-bar-interrupted::-webkit-progress-bar {\n",
       "        background: #F44336;\n",
       "    }\n",
       "</style>\n"
      ],
      "text/plain": [
       "<IPython.core.display.HTML object>"
      ]
     },
     "metadata": {},
     "output_type": "display_data"
    },
    {
     "data": {
      "text/html": [],
      "text/plain": [
       "<IPython.core.display.HTML object>"
      ]
     },
     "metadata": {},
     "output_type": "display_data"
    },
    {
     "name": "stdout",
     "output_type": "stream",
     "text": [
      "TensorImage([2.9117e-03, 9.9703e-01, 6.3017e-05])\n",
      "/home/link-lap-24/Downloads/am_player_focus/negative/2800/test/4b4baf-762b-a45b-43-01b4b5a0885a.jpg\n"
     ]
    },
    {
     "data": {
      "text/html": [
       "\n",
       "<style>\n",
       "    /* Turns off some styling */\n",
       "    progress {\n",
       "        /* gets rid of default border in Firefox and Opera. */\n",
       "        border: none;\n",
       "        /* Needs to be in here for Safari polyfill so background images work as expected. */\n",
       "        background-size: auto;\n",
       "    }\n",
       "    .progress-bar-interrupted, .progress-bar-interrupted::-webkit-progress-bar {\n",
       "        background: #F44336;\n",
       "    }\n",
       "</style>\n"
      ],
      "text/plain": [
       "<IPython.core.display.HTML object>"
      ]
     },
     "metadata": {},
     "output_type": "display_data"
    },
    {
     "data": {
      "text/html": [],
      "text/plain": [
       "<IPython.core.display.HTML object>"
      ]
     },
     "metadata": {},
     "output_type": "display_data"
    },
    {
     "name": "stdout",
     "output_type": "stream",
     "text": [
      "TensorImage([9.9999e-01, 1.0190e-05, 1.5128e-06])\n"
     ]
    }
   ],
   "source": [
    "for i in images2:\n",
    "    print(i)\n",
    "    out=model.predict(i)\n",
    "    print(out[2])\n",
    "#     print(out[0], out[2][out[1]])"
   ]
  },
  {
   "cell_type": "code",
   "execution_count": 9,
   "id": "6b739e0c",
   "metadata": {},
   "outputs": [
    {
     "data": {
      "text/plain": [
       "'/home/link-lap-24/Downloads/nudenet_model_testing'"
      ]
     },
     "execution_count": 9,
     "metadata": {},
     "output_type": "execute_result"
    }
   ],
   "source": [
    "###for checking the current model & previous model simultaneously\n",
    "\n",
    "images = \"/home/multi-sy-004/Downloads/vallyball_classification/testing_images/1696485162/\"\n",
    "im = sorted(glob.glob(images + \"*.*\"), key=os.path.getmtime)\n",
    "model1 = load_learner('/home/multi-sy-004/Downloads/hEsqwe0xkpgIHfw.pkl',cpu=true)\n",
    "model2 = load_learner('/home/multi-sy-004/Downloads/LbrRdAAmIfB5YIl.pkl',cpu=true)\n",
    "for i_path in im:\n",
    "    # print(i_path)\n",
    "    frame = cv2.imread(i_path)\n",
    "    path = i_path.split('.')[0]\n",
    "#     print(path)\n",
    "    pred1 = model1.predict(i_path)\n",
    "    pred2 = model2.predict(i_path)\n",
    "    cat = ['other','rally']\n",
    "    result1 = {}\n",
    "    result2 = {}\n",
    "    for i, j in enumerate(pred1[2]):\n",
    "#         print(i,j)\n",
    "        result1[cat[i]] = round(float(pred1[2][i])*100, 3)\n",
    "        result2[cat[i]] = round(float(pred2[2][i])*100, 3)\n",
    "        text1 = \"Current model: {} \".format(result1)\n",
    "        text2 = \"Updated Model: {} \".format(result2)\n",
    "#         print(\"this is the final results\",text)\n",
    "        cv2.putText(frame, text1, (35, 50), cv2.FONT_HERSHEY_SIMPLEX,1.25, (0, 255, 0), 3)\n",
    "        cv2.putText(frame, text2, (35, 150), cv2.FONT_HERSHEY_SIMPLEX,1.25, (0, 255, 0), 3)\n",
    "        cv2.imwrite(path+\".jpg\",frame)"
   ]
  },
  {
   "cell_type": "code",
   "execution_count": 8,
   "id": "f9e6632a",
   "metadata": {},
   "outputs": [],
   "source": [
    "os.chdir(\"/home/link-lap-24/Downloads/nudenet_model_testing\")"
   ]
  },
  {
   "cell_type": "code",
   "execution_count": 9,
   "id": "f368d7eb",
   "metadata": {},
   "outputs": [
    {
     "name": "stdout",
     "output_type": "stream",
     "text": [
      "5.77\n"
     ]
    }
   ],
   "source": [
    "x = round(5.76543, 2)\n",
    "print(x)"
   ]
  },
  {
   "cell_type": "code",
   "execution_count": null,
   "id": "8a0da47a",
   "metadata": {},
   "outputs": [],
   "source": [
    "!pip install -U fastai\n",
    "!pip install torch==1.9.0+cu111 torchvision==0.10.0+cu111 torchaudio==0.9.0 -f https://download.pytorch.org/whl/torch_stable.html\n",
    "!pip install timm\n",
    "!pip install fastbook\n",
    "from fastai.imports import *\n",
    "from fastai.vision import *\n",
    "from fastbook import *\n",
    "import torch, timm\n",
    "import os\n",
    "import glob\n",
    "import cv2"
   ]
  },
  {
   "cell_type": "code",
   "execution_count": 1,
   "id": "821b8309",
   "metadata": {
    "scrolled": false
   },
   "outputs": [],
   "source": [
    "# images = \"/home/link-lap-24/Downloads/nudenet_model_testing/n1_fr3/\"\n",
    "# im = sorted(glob.glob(images + \"*.*\"), key=os.path.getmtime)\n",
    "# for i_path in im:\n",
    "#     frame = cv2.imread(i_path)\n",
    "#     path = i_path.split('.')[0]\n",
    "#     model = load_learner('uPO1HRRqMHUdk0Y.pkl',cpu=true)\n",
    "#     pred = model.predict(i_path)\n",
    "#     cat = ['bikini','nude','safe','topless_men','topless_women']\n",
    "#     result = {}\n",
    "#     for i, j in enumerate(pred[2]):\n",
    "#         result[cat[i]] = round(float(pred[2][i])*100, 3)\n",
    "#         text = \"Activity:{}\".format(result)\n",
    "#         print(\"this is the final results\",text)\n",
    "#         cv2.putText(frame, text, (35,50), cv2.FONT_HERSHEY_SIMPLEX,0.60, (0, 255, 0), 3)\n",
    "#         cv2.imwrite(path+\".jpg\",frame)\n",
    "# final=max(result, key = result.get)\n",
    "# print(\"this is the final results come by the classification model>>>>>>\",final)   "
   ]
  },
  {
   "cell_type": "code",
   "execution_count": 7,
   "id": "67a59c63",
   "metadata": {},
   "outputs": [
    {
     "data": {
      "text/html": [
       "\n",
       "<style>\n",
       "    /* Turns off some styling */\n",
       "    progress {\n",
       "        /* gets rid of default border in Firefox and Opera. */\n",
       "        border: none;\n",
       "        /* Needs to be in here for Safari polyfill so background images work as expected. */\n",
       "        background-size: auto;\n",
       "    }\n",
       "    .progress-bar-interrupted, .progress-bar-interrupted::-webkit-progress-bar {\n",
       "        background: #F44336;\n",
       "    }\n",
       "</style>\n"
      ],
      "text/plain": [
       "<IPython.core.display.HTML object>"
      ]
     },
     "metadata": {},
     "output_type": "display_data"
    },
    {
     "data": {
      "text/html": [],
      "text/plain": [
       "<IPython.core.display.HTML object>"
      ]
     },
     "metadata": {},
     "output_type": "display_data"
    },
    {
     "name": "stdout",
     "output_type": "stream",
     "text": [
      "{'Dead': 0.0, 'Non-dead': 100.0, 'Player_Activity': 0.0}\n",
      "Moved: /home/link-lap-24/Downloads/am_player_focus/negative/2800_up/test/d75bbd-0f2c-0f0f-35ea-caf4bd55a5.jpg to /home/link-lap-24/Downloads/am_player_focus/negative/2800_up/non_dead_out/d75bbd-0f2c-0f0f-35ea-caf4bd55a5.jpg\n"
     ]
    },
    {
     "data": {
      "text/html": [
       "\n",
       "<style>\n",
       "    /* Turns off some styling */\n",
       "    progress {\n",
       "        /* gets rid of default border in Firefox and Opera. */\n",
       "        border: none;\n",
       "        /* Needs to be in here for Safari polyfill so background images work as expected. */\n",
       "        background-size: auto;\n",
       "    }\n",
       "    .progress-bar-interrupted, .progress-bar-interrupted::-webkit-progress-bar {\n",
       "        background: #F44336;\n",
       "    }\n",
       "</style>\n"
      ],
      "text/plain": [
       "<IPython.core.display.HTML object>"
      ]
     },
     "metadata": {},
     "output_type": "display_data"
    },
    {
     "data": {
      "text/html": [],
      "text/plain": [
       "<IPython.core.display.HTML object>"
      ]
     },
     "metadata": {},
     "output_type": "display_data"
    },
    {
     "name": "stdout",
     "output_type": "stream",
     "text": [
      "{'Dead': 64.003, 'Non-dead': 0.007, 'Player_Activity': 35.99}\n",
      "Moved: /home/link-lap-24/Downloads/am_player_focus/negative/2800_up/test/fc7c21a-bc4-b2-a43-242f274f6135.jpg to /home/link-lap-24/Downloads/am_player_focus/negative/2800_up/dead_out/fc7c21a-bc4-b2-a43-242f274f6135.jpg\n"
     ]
    },
    {
     "data": {
      "text/html": [
       "\n",
       "<style>\n",
       "    /* Turns off some styling */\n",
       "    progress {\n",
       "        /* gets rid of default border in Firefox and Opera. */\n",
       "        border: none;\n",
       "        /* Needs to be in here for Safari polyfill so background images work as expected. */\n",
       "        background-size: auto;\n",
       "    }\n",
       "    .progress-bar-interrupted, .progress-bar-interrupted::-webkit-progress-bar {\n",
       "        background: #F44336;\n",
       "    }\n",
       "</style>\n"
      ],
      "text/plain": [
       "<IPython.core.display.HTML object>"
      ]
     },
     "metadata": {},
     "output_type": "display_data"
    },
    {
     "data": {
      "text/html": [],
      "text/plain": [
       "<IPython.core.display.HTML object>"
      ]
     },
     "metadata": {},
     "output_type": "display_data"
    },
    {
     "name": "stdout",
     "output_type": "stream",
     "text": [
      "{'Dead': 99.52, 'Non-dead': 0.0, 'Player_Activity': 0.48}\n",
      "Moved: /home/link-lap-24/Downloads/am_player_focus/negative/2800_up/test/7bcebe-becb-0bb-f3a2-4e5e4f302b.jpg to /home/link-lap-24/Downloads/am_player_focus/negative/2800_up/dead_out/7bcebe-becb-0bb-f3a2-4e5e4f302b.jpg\n"
     ]
    },
    {
     "data": {
      "text/html": [
       "\n",
       "<style>\n",
       "    /* Turns off some styling */\n",
       "    progress {\n",
       "        /* gets rid of default border in Firefox and Opera. */\n",
       "        border: none;\n",
       "        /* Needs to be in here for Safari polyfill so background images work as expected. */\n",
       "        background-size: auto;\n",
       "    }\n",
       "    .progress-bar-interrupted, .progress-bar-interrupted::-webkit-progress-bar {\n",
       "        background: #F44336;\n",
       "    }\n",
       "</style>\n"
      ],
      "text/plain": [
       "<IPython.core.display.HTML object>"
      ]
     },
     "metadata": {},
     "output_type": "display_data"
    },
    {
     "data": {
      "text/html": [],
      "text/plain": [
       "<IPython.core.display.HTML object>"
      ]
     },
     "metadata": {},
     "output_type": "display_data"
    },
    {
     "name": "stdout",
     "output_type": "stream",
     "text": [
      "{'Dead': 1.703, 'Non-dead': 0.0, 'Player_Activity': 98.297}\n",
      "Moved: /home/link-lap-24/Downloads/am_player_focus/negative/2800_up/test/fd88baf-8226-84bb-e51d-ba1d836abd1.jpg to /home/link-lap-24/Downloads/am_player_focus/negative/2800_up/player_out/fd88baf-8226-84bb-e51d-ba1d836abd1.jpg\n"
     ]
    },
    {
     "data": {
      "text/html": [
       "\n",
       "<style>\n",
       "    /* Turns off some styling */\n",
       "    progress {\n",
       "        /* gets rid of default border in Firefox and Opera. */\n",
       "        border: none;\n",
       "        /* Needs to be in here for Safari polyfill so background images work as expected. */\n",
       "        background-size: auto;\n",
       "    }\n",
       "    .progress-bar-interrupted, .progress-bar-interrupted::-webkit-progress-bar {\n",
       "        background: #F44336;\n",
       "    }\n",
       "</style>\n"
      ],
      "text/plain": [
       "<IPython.core.display.HTML object>"
      ]
     },
     "metadata": {},
     "output_type": "display_data"
    },
    {
     "data": {
      "text/html": [],
      "text/plain": [
       "<IPython.core.display.HTML object>"
      ]
     },
     "metadata": {},
     "output_type": "display_data"
    },
    {
     "name": "stdout",
     "output_type": "stream",
     "text": [
      "{'Dead': 66.51, 'Non-dead': 0.03, 'Player_Activity': 33.461}\n",
      "Moved: /home/link-lap-24/Downloads/am_player_focus/negative/2800_up/test/fbfafd4-835f-81d1-b1-e0a3b0ecd4e0.jpg to /home/link-lap-24/Downloads/am_player_focus/negative/2800_up/dead_out/fbfafd4-835f-81d1-b1-e0a3b0ecd4e0.jpg\n"
     ]
    },
    {
     "data": {
      "text/html": [
       "\n",
       "<style>\n",
       "    /* Turns off some styling */\n",
       "    progress {\n",
       "        /* gets rid of default border in Firefox and Opera. */\n",
       "        border: none;\n",
       "        /* Needs to be in here for Safari polyfill so background images work as expected. */\n",
       "        background-size: auto;\n",
       "    }\n",
       "    .progress-bar-interrupted, .progress-bar-interrupted::-webkit-progress-bar {\n",
       "        background: #F44336;\n",
       "    }\n",
       "</style>\n"
      ],
      "text/plain": [
       "<IPython.core.display.HTML object>"
      ]
     },
     "metadata": {},
     "output_type": "display_data"
    },
    {
     "data": {
      "text/html": [],
      "text/plain": [
       "<IPython.core.display.HTML object>"
      ]
     },
     "metadata": {},
     "output_type": "display_data"
    },
    {
     "name": "stdout",
     "output_type": "stream",
     "text": [
      "{'Dead': 90.784, 'Non-dead': 0.013, 'Player_Activity': 9.203}\n",
      "Moved: /home/link-lap-24/Downloads/am_player_focus/negative/2800_up/test/fb58f88-8f56-e6aa-5e-48f5c5d76b32.jpg to /home/link-lap-24/Downloads/am_player_focus/negative/2800_up/dead_out/fb58f88-8f56-e6aa-5e-48f5c5d76b32.jpg\n"
     ]
    },
    {
     "data": {
      "text/html": [
       "\n",
       "<style>\n",
       "    /* Turns off some styling */\n",
       "    progress {\n",
       "        /* gets rid of default border in Firefox and Opera. */\n",
       "        border: none;\n",
       "        /* Needs to be in here for Safari polyfill so background images work as expected. */\n",
       "        background-size: auto;\n",
       "    }\n",
       "    .progress-bar-interrupted, .progress-bar-interrupted::-webkit-progress-bar {\n",
       "        background: #F44336;\n",
       "    }\n",
       "</style>\n"
      ],
      "text/plain": [
       "<IPython.core.display.HTML object>"
      ]
     },
     "metadata": {},
     "output_type": "display_data"
    },
    {
     "data": {
      "text/html": [],
      "text/plain": [
       "<IPython.core.display.HTML object>"
      ]
     },
     "metadata": {},
     "output_type": "display_data"
    },
    {
     "name": "stdout",
     "output_type": "stream",
     "text": [
      "{'Dead': 0.094, 'Non-dead': 99.906, 'Player_Activity': 0.0}\n",
      "Moved: /home/link-lap-24/Downloads/am_player_focus/negative/2800_up/test/66d65da-4fcd-184d-140-f25d7440bcbb.jpg to /home/link-lap-24/Downloads/am_player_focus/negative/2800_up/non_dead_out/66d65da-4fcd-184d-140-f25d7440bcbb.jpg\n"
     ]
    },
    {
     "data": {
      "text/html": [
       "\n",
       "<style>\n",
       "    /* Turns off some styling */\n",
       "    progress {\n",
       "        /* gets rid of default border in Firefox and Opera. */\n",
       "        border: none;\n",
       "        /* Needs to be in here for Safari polyfill so background images work as expected. */\n",
       "        background-size: auto;\n",
       "    }\n",
       "    .progress-bar-interrupted, .progress-bar-interrupted::-webkit-progress-bar {\n",
       "        background: #F44336;\n",
       "    }\n",
       "</style>\n"
      ],
      "text/plain": [
       "<IPython.core.display.HTML object>"
      ]
     },
     "metadata": {},
     "output_type": "display_data"
    },
    {
     "data": {
      "text/html": [],
      "text/plain": [
       "<IPython.core.display.HTML object>"
      ]
     },
     "metadata": {},
     "output_type": "display_data"
    },
    {
     "name": "stdout",
     "output_type": "stream",
     "text": [
      "{'Dead': 16.336, 'Non-dead': 83.664, 'Player_Activity': 0.0}\n",
      "Moved: /home/link-lap-24/Downloads/am_player_focus/negative/2800_up/test/8df6c3-30a3-fb62-32f2-1d634bef78e.jpg to /home/link-lap-24/Downloads/am_player_focus/negative/2800_up/non_dead_out/8df6c3-30a3-fb62-32f2-1d634bef78e.jpg\n"
     ]
    }
   ],
   "source": [
    "# import os\n",
    "# import cv2\n",
    "# from fastai.vision import load_learner\n",
    "# from pathlib import Path\n",
    "# import glob\n",
    "\n",
    "images = \"/home/link-lap-24/Downloads/am_player_focus/negative/2800_up/test/\"\n",
    "dead_output_directory = \"/home/link-lap-24/Downloads/am_player_focus/negative/2800_up/dead_out/\"\n",
    "plr_focus_dir=\"/home/link-lap-24/Downloads/am_player_focus/negative/2800_up/player_out/\"\n",
    "non_dead_dir=\"/home/link-lap-24/Downloads/am_player_focus/negative/2800_up/non_dead_out/\"\n",
    "im = sorted(glob.glob(images + \"*.*\"), key=os.path.getmtime)\n",
    "model = load_learner('CnWNk1MHv7DxRB2.pkl', cpu=True)\n",
    "\n",
    "for i_path in im:\n",
    "    frame = cv2.imread(i_path)\n",
    "    path = i_path.split('.')[0]\n",
    "    pred = model.predict(i_path)\n",
    "    cat = [\"Dead\", \"Non-dead\", \"Player_Activity\"]\n",
    "    result = {}\n",
    "    for i, j in enumerate(pred[2]):\n",
    "        result[cat[i]] = round(float(pred[2][i]) * 100, 3)\n",
    "    print(result)\n",
    "    text = \"Activity: {} \".format(result)\n",
    "\n",
    "    # Check if 'Player_Activity' key exists and its value is more than 30\n",
    "    if 'Dead' in result and result['Dead'] > 25:\n",
    "        # Move the image to the output directory\n",
    "        output_path = os.path.join(dead_output_directory, os.path.basename(i_path))\n",
    "        os.rename(i_path, output_path)\n",
    "        print(f\"Moved: {i_path} to {output_path}\")\n",
    "    elif 'Non-dead' in result and result['Non-dead'] > 25:\n",
    "        # Move the image to the output directory\n",
    "        output_path = os.path.join(non_dead_dir, os.path.basename(i_path))\n",
    "        os.rename(i_path, output_path)\n",
    "        print(f\"Moved: {i_path} to {output_path}\")\n",
    "        \n",
    "    elif 'Player_Activity' in result and result['Player_Activity'] > 25:\n",
    "        # Move the image to the output directory\n",
    "        output_path = os.path.join(plr_focus_dir, os.path.basename(i_path))\n",
    "        os.rename(i_path, output_path)\n",
    "        print(f\"Moved: {i_path} to {output_path}\")\n",
    "\n",
    "        "
   ]
  },
  {
   "cell_type": "code",
   "execution_count": null,
   "id": "2a1f2aa2",
   "metadata": {},
   "outputs": [],
   "source": []
  }
 ],
 "metadata": {
  "kernelspec": {
   "display_name": "Python 3 (ipykernel)",
   "language": "python",
   "name": "python3"
  },
  "language_info": {
   "codemirror_mode": {
    "name": "ipython",
    "version": 3
   },
   "file_extension": ".py",
   "mimetype": "text/x-python",
   "name": "python",
   "nbconvert_exporter": "python",
   "pygments_lexer": "ipython3",
   "version": "3.8.10"
  }
 },
 "nbformat": 4,
 "nbformat_minor": 5
}
