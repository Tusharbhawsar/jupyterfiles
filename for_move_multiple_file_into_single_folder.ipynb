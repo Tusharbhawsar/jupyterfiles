{
 "cells": [
  {
   "cell_type": "code",
   "execution_count": 9,
   "id": "f620c049",
   "metadata": {},
   "outputs": [],
   "source": [
    "import os\n",
    "import shutil\n",
    "\n",
    "def move_mp4_files(source_folder, destination_folder):\n",
    "    # Iterate through all files and subdirectories in the source folder\n",
    "    for root, dirs, files in os.walk(source_folder):\n",
    "        for file in files:\n",
    "            # Check if the file is an .mp4 file\n",
    "            if file.endswith(\".mp4\"):\n",
    "                source_path = os.path.join(root, file)\n",
    "                destination_path = os.path.join(destination_folder, file)\n",
    "\n",
    "                # Move the file to the destination folder\n",
    "                shutil.move(source_path, destination_path)\n",
    "                print(f\"Moved: {file}\")\n",
    "\n",
    "# Set the source and destination folders\n",
    "source_folder = \"/home/link-lap-24/Downloads/volleyball_Serve/serve_det_60/\"  # Replace with the actual source folder path\n",
    "destination_folder = \"/home/link-lap-24/Downloads/volleyball_Serve/serve_det_60/destination_folder/\"  # Replace with the actual destination folder path\n",
    "\n",
    "# Create the destination folder if it doesn't exist\n",
    "if not os.path.exists(destination_folder):\n",
    "    os.makedirs(destination_folder)\n",
    "\n",
    "# Call the function to move .mp4 files\n",
    "move_mp4_files(source_folder, destination_folder)\n"
   ]
  },
  {
   "cell_type": "code",
   "execution_count": null,
   "id": "9bc21c09",
   "metadata": {},
   "outputs": [],
   "source": []
  }
 ],
 "metadata": {
  "kernelspec": {
   "display_name": "Python 3 (ipykernel)",
   "language": "python",
   "name": "python3"
  },
  "language_info": {
   "codemirror_mode": {
    "name": "ipython",
    "version": 3
   },
   "file_extension": ".py",
   "mimetype": "text/x-python",
   "name": "python",
   "nbconvert_exporter": "python",
   "pygments_lexer": "ipython3",
   "version": "3.8.10"
  }
 },
 "nbformat": 4,
 "nbformat_minor": 5
}
