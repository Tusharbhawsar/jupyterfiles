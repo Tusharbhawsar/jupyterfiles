{
 "cells": [
  {
   "cell_type": "code",
   "execution_count": 1,
   "id": "3d86dd61",
   "metadata": {},
   "outputs": [],
   "source": [
    "import csv\n",
    "import os\n",
    "with open('football_for_goalpost.csv','r') as csvfile:\n",
    "    reader = csv.DictReader(csvfile) #objects csv.DictReader() class used to read CSV file as a dictionary.\n",
    "    for row in reader:\n",
    "        print(dict(row))\n",
    "        urls = row['Source Url']\n",
    "        try:\n",
    "            cmd  = \"wget {}\".format(urls) #if i want two variable so i print 2 {}{}\n",
    "            os.system(cmd)\n",
    "        except:\n",
    "            pass"
   ]
  },
  {
   "cell_type": "code",
   "execution_count": 2,
   "id": "b2409381",
   "metadata": {},
   "outputs": [
    {
     "name": "stdout",
     "output_type": "stream",
     "text": [
      "('a', 'b')\n"
     ]
    }
   ],
   "source": [
    "a = (\"a\", \"b\", \"c\", \"d\", \"e\", \"f\", \"g\", \"h\")\n",
    "x = slice(2)\n",
    "print(a[x])"
   ]
  },
  {
   "cell_type": "code",
   "execution_count": null,
   "id": "76b15c57",
   "metadata": {},
   "outputs": [],
   "source": []
  }
 ],
 "metadata": {
  "kernelspec": {
   "display_name": "Python 3 (ipykernel)",
   "language": "python",
   "name": "python3"
  },
  "language_info": {
   "codemirror_mode": {
    "name": "ipython",
    "version": 3
   },
   "file_extension": ".py",
   "mimetype": "text/x-python",
   "name": "python",
   "nbconvert_exporter": "python",
   "pygments_lexer": "ipython3",
   "version": "3.8.10"
  }
 },
 "nbformat": 4,
 "nbformat_minor": 5
}
