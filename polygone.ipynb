{
 "cells": [
  {
   "cell_type": "code",
   "execution_count": 5,
   "id": "7d8b9fb4",
   "metadata": {},
   "outputs": [
    {
     "name": "stdout",
     "output_type": "stream",
     "text": [
      "loading annotations into memory...\n",
      "Done (t=0.00s)\n",
      "creating index...\n",
      "index created!\n",
      "<pycocotools.coco.COCO object at 0x7f3e706b8bb0>\n"
     ]
    }
   ],
   "source": [
    "import cv2\n",
    "from pycocotools.coco import COCO\n",
    "\n",
    "# Load the COCO JSON file containing the annotations\n",
    "coco = COCO('labe.json')\n",
    "\n",
    "\n",
    "# # Choose the annotation ID for the polygon you want to draw\n",
    "# ann_id = 1234\n",
    "\n",
    "# # Extract the polygon coordinates for the annotation ID\n",
    "# ann = coco.loadAnns(ann_id)[1]\n",
    "# points = ann['segmentation'][0]\n",
    "\n",
    "# # Load the image onto which you want to draw the polygon\n",
    "# img = cv2.imread('image.jpg')\n",
    "\n",
    "# # Convert the polygon points to a numpy array\n",
    "# pts = np.array(points, np.int32).reshape((-1,1,2))\n",
    "\n",
    "# # Draw the polygon on the image\n",
    "# cv2.polylines(img, [pts], True, (0, 0, 255), 2)\n",
    "\n",
    "# # Save the resulting image with the polygon drawn on it\n",
    "# cv2.imwrite('output.jpg', img)\n"
   ]
  },
  {
   "cell_type": "code",
   "execution_count": 6,
   "id": "85f87e79",
   "metadata": {},
   "outputs": [],
   "source": [
    "import json\n"
   ]
  },
  {
   "cell_type": "code",
   "execution_count": 39,
   "id": "1ab60718",
   "metadata": {},
   "outputs": [
    {
     "name": "stdout",
     "output_type": "stream",
     "text": [
      "4\n"
     ]
    }
   ],
   "source": [
    "df=open(\"labe.json\")\n",
    "\n",
    "data=json.load(df)\n",
    "# data\n",
    "coordinates=data[\"annotations\"]\n",
    "\n",
    "for i in coordinates:\n",
    "    print(int(i[\"segmentation\"][0][0]))"
   ]
  },
  {
   "cell_type": "code",
   "execution_count": 16,
   "id": "1fa0b161",
   "metadata": {},
   "outputs": [
    {
     "name": "stdout",
     "output_type": "stream",
     "text": [
      "i\n",
      "i\n",
      "a\n",
      "c\n"
     ]
    }
   ],
   "source": [
    "for i in data:\n",
    "    "
   ]
  },
  {
   "cell_type": "code",
   "execution_count": 18,
   "id": "34409662",
   "metadata": {},
   "outputs": [
    {
     "data": {
      "text/plain": [
       "True"
      ]
     },
     "execution_count": 18,
     "metadata": {},
     "output_type": "execute_result"
    }
   ],
   "source": [
    "import cv2\n",
    "import numpy as np\n",
    "\n",
    "# Load the image\n",
    "img = cv2.imread('47g.jpeg')\n",
    "\n",
    "# Create a numpy array with the polygon coordinates\n",
    "poly = np.array([[\n",
    "    [4, 424], [328, 405], [907, 382], [1489, 362],\n",
    "    [1900, 349], [1911, 377], [1496, 391], [912, 416],\n",
    "    [338, 436], [8, 450]\n",
    "]])\n",
    "\n",
    "# Draw the polygon on the image\n",
    "draw=cv2.polylines(img, [poly], True, (0, 255, 0), thickness=3)\n",
    "\n",
    "# Show the image\n",
    "# cv2.imshow('Image', img)\n",
    "# cv2.waitKey(0)\n",
    "# cv2.destroyAllWindows()\n",
    "cv2.imwrite(\"output.jpg\",draw)"
   ]
  },
  {
   "cell_type": "code",
   "execution_count": null,
   "id": "1824f3d2",
   "metadata": {},
   "outputs": [],
   "source": []
  }
 ],
 "metadata": {
  "kernelspec": {
   "display_name": "Python 3 (ipykernel)",
   "language": "python",
   "name": "python3"
  },
  "language_info": {
   "codemirror_mode": {
    "name": "ipython",
    "version": 3
   },
   "file_extension": ".py",
   "mimetype": "text/x-python",
   "name": "python",
   "nbconvert_exporter": "python",
   "pygments_lexer": "ipython3",
   "version": "3.8.10"
  }
 },
 "nbformat": 4,
 "nbformat_minor": 5
}
