{
 "cells": [
  {
   "cell_type": "code",
   "execution_count": 23,
   "id": "9c24126c",
   "metadata": {
    "scrolled": false
   },
   "outputs": [
    {
     "ename": "SyntaxError",
     "evalue": "unmatched ')' (532780098.py, line 15)",
     "output_type": "error",
     "traceback": [
      "\u001b[0;36m  Input \u001b[0;32mIn [23]\u001b[0;36m\u001b[0m\n\u001b[0;31m    images_folder = \"/home/link-lap-24/python/resize_images/golf_may17/\")\u001b[0m\n\u001b[0m                                                                        ^\u001b[0m\n\u001b[0;31mSyntaxError\u001b[0m\u001b[0;31m:\u001b[0m unmatched ')'\n"
     ]
    }
   ],
   "source": [
    "import os\n",
    "import shutil\n",
    "import uuid\n",
    "\n",
    "#w= 1920\n",
    "#h = 1080\n",
    "\n",
    "#crop=w:h:x:y\"\n",
    "\n",
    "#(130,237)\n",
    "#(886,1080)\n",
    "\n",
    "import glob\n",
    "\n",
    "images_folder = \"/home/link-lap-24/python/resize_images/golf_may17/\")\n",
    "\n",
    "croped_folder = \"/home/link-lap-24/python/resize_images/resize_images/\"\n",
    "\n",
    "data = glob.glob(images_folder+'*.*')\n",
    "\n",
    "for i in data:\n",
    "    print(\"==============================\",i)\n",
    "    cmd = 'ffmpeg -i {}%d.jpg -vf \"crop=450:620:660:886\" {}%d.jpg'.format(images_folder,croped_folder)\n",
    "    os.system(cmd)"
   ]
  },
  {
   "cell_type": "markdown",
   "id": "1bc445ab",
   "metadata": {},
   "source": [
    "# working code"
   ]
  },
  {
   "cell_type": "code",
   "execution_count": 3,
   "id": "22b77d5c",
   "metadata": {
    "code_folding": []
   },
   "outputs": [],
   "source": [
    "import os,glob\n",
    "from PIL import Image\n",
    "sizes=[(6,4,678,1044),(686,7,1374,1047),(1372,6,1919,1045),(869,7,1690,1075),(124,14,985,1065)]# for image crop to differet portions\n",
    "a=1\n",
    "for filename in glob.glob(\"/home/link-lap-24/Pictures/smplayer_screenshots/golf/2golf_may24/*jpg\"):\n",
    "    for i in sizes:\n",
    "        img=Image.open(filename)\n",
    "        imm=img.crop(box=(i))\n",
    "        imm.save(\"104\"+\"_\"+str(a)+\".jpg\")\n",
    "        a+=1"
   ]
  },
  {
   "cell_type": "code",
   "execution_count": 3,
   "id": "7340bf93",
   "metadata": {},
   "outputs": [
    {
     "ename": "SyntaxError",
     "evalue": "invalid syntax (1096519054.py, line 8)",
     "output_type": "error",
     "traceback": [
      "\u001b[0;36m  Input \u001b[0;32mIn [3]\u001b[0;36m\u001b[0m\n\u001b[0;31m    foriin sizes:\u001b[0m\n\u001b[0m           ^\u001b[0m\n\u001b[0;31mSyntaxError\u001b[0m\u001b[0;31m:\u001b[0m invalid syntax\n"
     ]
    }
   ],
   "source": [
    "import os,glob\n",
    "from PIL import Image\n",
    "sizes=[(50,100,250,550),(250,100,450,550),(420,100,620,550),(620,100,820,550),(820,100,1020,550),(1020,100,1220,550),(50,620,240,1050)\n",
    "]# for image crop to differet portions\n",
    "a=1\n",
    "for filename in glob.glob(\"D:\\Projects\\Subscriber\\Images Crop\\*jpg\"):\n",
    "    for i in sizes:\n",
    "        new=Image.new('RGB',(1100,1100),color='white')# for background color\n",
    "        img=Image.open(filename)# for select the jpg img\n",
    "        imm=img.crop(box=(i))\n",
    "        imm1=imm.resize((400,1000))\n",
    "        new.paste(imm1,(350,50))\n",
    "        new.save(\"104\"+\"_\"+str(a)+\".jpg\")\n",
    "        a+=1"
   ]
  },
  {
   "cell_type": "code",
   "execution_count": null,
   "id": "24d4ae78",
   "metadata": {},
   "outputs": [],
   "source": []
  }
 ],
 "metadata": {
  "kernelspec": {
   "display_name": "Python 3 (ipykernel)",
   "language": "python",
   "name": "python3"
  },
  "language_info": {
   "codemirror_mode": {
    "name": "ipython",
    "version": 3
   },
   "file_extension": ".py",
   "mimetype": "text/x-python",
   "name": "python",
   "nbconvert_exporter": "python",
   "pygments_lexer": "ipython3",
   "version": "3.8.10"
  }
 },
 "nbformat": 4,
 "nbformat_minor": 5
}
