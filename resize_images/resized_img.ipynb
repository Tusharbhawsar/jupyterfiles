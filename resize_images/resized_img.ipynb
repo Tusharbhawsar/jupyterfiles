{
 "cells": [
  {
   "cell_type": "code",
   "execution_count": 5,
   "id": "4f968a9a",
   "metadata": {},
   "outputs": [
    {
     "name": "stdout",
     "output_type": "stream",
     "text": [
      "(640, 640, 3)\n",
      "(640, 640, 3)\n",
      "(640, 640, 3)\n",
      "(640, 640, 3)\n",
      "(640, 640, 3)\n",
      "(640, 640, 3)\n",
      "(640, 640, 3)\n",
      "(640, 640, 3)\n",
      "(640, 640, 3)\n",
      "(640, 640, 3)\n",
      "(640, 640, 3)\n",
      "(640, 640, 3)\n",
      "(640, 640, 3)\n",
      "(640, 640, 3)\n",
      "(640, 640, 3)\n",
      "(640, 640, 3)\n",
      "(640, 640, 3)\n",
      "(640, 640, 3)\n",
      "(640, 640, 3)\n",
      "(640, 640, 3)\n",
      "(640, 640, 3)\n",
      "(640, 640, 3)\n",
      "(640, 640, 3)\n",
      "(640, 640, 3)\n",
      "(640, 640, 3)\n",
      "(640, 640, 3)\n",
      "(640, 640, 3)\n",
      "(640, 640, 3)\n",
      "(640, 640, 3)\n",
      "(640, 640, 3)\n",
      "(640, 640, 3)\n",
      "(640, 640, 3)\n",
      "(640, 640, 3)\n",
      "(640, 640, 3)\n",
      "(640, 640, 3)\n",
      "(640, 640, 3)\n",
      "(640, 640, 3)\n",
      "(640, 640, 3)\n",
      "(640, 640, 3)\n",
      "(640, 640, 3)\n",
      "(640, 640, 3)\n",
      "(640, 640, 3)\n",
      "(640, 640, 3)\n",
      "(640, 640, 3)\n",
      "(640, 640, 3)\n",
      "(640, 640, 3)\n"
     ]
    }
   ],
   "source": [
    "import cv2\n",
    "import os\n",
    "\n",
    "path = '/home/link-lap-24/python/resize_images/images/'\n",
    "\n",
    "\n",
    "im_size = 640   # Input image resolution must be a power-of-two otherwise you will get error. \n",
    "                 #Pixel resolutions that are powers of 2 (512 x 512, 1024 x 1024, 2048 x 2048, etc).\n",
    "\n",
    "images = []\n",
    "\n",
    "for file in os.listdir(path):\n",
    "        img = cv2.imread(path + '/' + file)  # reading that image as array\n",
    "        img = cv2.resize(img, (im_size, im_size))\n",
    "        print(img.shape)\n",
    "        images.append(img)\n",
    "        # Save resize image in Output Folder\n",
    "        cv2.imwrite('/home/link-lap-24/python/resize_images/original_resize/' + str(file) + '_resized.jpg', img)"
   ]
  },
  {
   "cell_type": "code",
   "execution_count": 12,
   "id": "733eda73",
   "metadata": {},
   "outputs": [],
   "source": [
    "import os,glob\n",
    "from PIL import Image\n",
    "sizes=[(1010,454,1080,904)]# for image crop to differet portions\n",
    "a=1\n",
    "for filename in glob.glob(\"/home/link-lap-24/python/resize_images/crop_test/*jpg\"):\n",
    "    for i in sizes:\n",
    "        img=Image.open(filename)\n",
    "        imm=img.crop(box=(i))\n",
    "        imm.save(\"104\"+\"_\"+str(a)+\".jpg\")\n",
    "        a+=1"
   ]
  },
  {
   "cell_type": "code",
   "execution_count": null,
   "id": "e528d01f",
   "metadata": {},
   "outputs": [],
   "source": []
  }
 ],
 "metadata": {
  "kernelspec": {
   "display_name": "Python 3 (ipykernel)",
   "language": "python",
   "name": "python3"
  },
  "language_info": {
   "codemirror_mode": {
    "name": "ipython",
    "version": 3
   },
   "file_extension": ".py",
   "mimetype": "text/x-python",
   "name": "python",
   "nbconvert_exporter": "python",
   "pygments_lexer": "ipython3",
   "version": "3.8.10"
  }
 },
 "nbformat": 4,
 "nbformat_minor": 5
}
