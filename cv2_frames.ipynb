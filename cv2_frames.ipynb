{
 "cells": [
  {
   "cell_type": "code",
   "execution_count": 1,
   "id": "be486f28",
   "metadata": {},
   "outputs": [],
   "source": [
    "import cv2"
   ]
  },
  {
   "cell_type": "code",
   "execution_count": 2,
   "id": "7020a7bc",
   "metadata": {},
   "outputs": [
    {
     "data": {
      "text/plain": [
       "<VideoCapture 0x7f5954425bb0>"
      ]
     },
     "execution_count": 2,
     "metadata": {},
     "output_type": "execute_result"
    }
   ],
   "source": [
    "video=cv2.VideoCapture('b3.mp4')\n",
    "video"
   ]
  },
  {
   "cell_type": "code",
   "execution_count": 3,
   "id": "236a57e7",
   "metadata": {},
   "outputs": [],
   "source": [
    "# count=0\n",
    "# sucess=1\n",
    "\n",
    "\n",
    "# while sucess:\n",
    "#     success, image = video.read()\n",
    "#     print(sucess)\n",
    "    \n",
    "#     cv2.imwrite(\"frame%d.jpg\" % count, image)\n",
    "#     count += 1\n"
   ]
  },
  {
   "cell_type": "code",
   "execution_count": 3,
   "id": "3d7086f0",
   "metadata": {},
   "outputs": [
    {
     "name": "stdout",
     "output_type": "stream",
     "text": [
      "55\n"
     ]
    }
   ],
   "source": [
    "def recursive(n):\n",
    "\n",
    "    count = 0\n",
    "\n",
    "    for i in range(n+1):\n",
    "\n",
    "        count += i\n",
    "\n",
    "    print(count)\n",
    "\n",
    "\n",
    "recursive(10)"
   ]
  },
  {
   "cell_type": "code",
   "execution_count": null,
   "id": "34b8b0ba",
   "metadata": {},
   "outputs": [],
   "source": []
  }
 ],
 "metadata": {
  "kernelspec": {
   "display_name": "Python 3 (ipykernel)",
   "language": "python",
   "name": "python3"
  },
  "language_info": {
   "codemirror_mode": {
    "name": "ipython",
    "version": 3
   },
   "file_extension": ".py",
   "mimetype": "text/x-python",
   "name": "python",
   "nbconvert_exporter": "python",
   "pygments_lexer": "ipython3",
   "version": "3.8.10"
  },
  "vscode": {
   "interpreter": {
    "hash": "916dbcbb3f70747c44a77c7bcd40155683ae19c65e1c03b4aa3499c5328201f1"
   }
  }
 },
 "nbformat": 4,
 "nbformat_minor": 5
}
